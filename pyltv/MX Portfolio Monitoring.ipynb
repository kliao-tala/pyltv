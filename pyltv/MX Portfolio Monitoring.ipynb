{
 "cells": [
  {
   "cell_type": "code",
   "execution_count": 1,
   "id": "5525efac",
   "metadata": {},
   "outputs": [],
   "source": [
    "import pandas as pd\n",
    "import numpy as np\n",
    "import plotly\n",
    "from plotly import graph_objects as go\n",
    "\n",
    "from base import DataManager\n",
    "from dbm import DBM\n",
    "from pyltv2 import PowerSlope, Rolling"
   ]
  },
  {
   "cell_type": "code",
   "execution_count": 2,
   "id": "86c25875",
   "metadata": {},
   "outputs": [],
   "source": [
    "dbm = DBM(user='kenny.liao')"
   ]
  },
  {
   "cell_type": "markdown",
   "id": "533afe02",
   "metadata": {},
   "source": [
    "---"
   ]
  },
  {
   "cell_type": "markdown",
   "id": "42d205a9",
   "metadata": {},
   "source": [
    "## SQL Queries"
   ]
  },
  {
   "cell_type": "markdown",
   "id": "a8e378b3",
   "metadata": {},
   "source": [
    "### Total number of loans disbursed"
   ]
  },
  {
   "cell_type": "code",
   "execution_count": null,
   "id": "103a3698",
   "metadata": {},
   "outputs": [],
   "source": [
    "sql=\"\"\"\n",
    "select count(distinct(LOAN_APPLICATION_ID))\n",
    "from BUSINESS_DB.CREDIT.LOAN_BASIC_MX\n",
    "\n",
    "limit 5\n",
    "\"\"\"\n",
    "\n",
    "results = dbm.query_db(sql)"
   ]
  }
 ],
 "metadata": {
  "kernelspec": {
   "display_name": "Python 3 (ipykernel)",
   "language": "python",
   "name": "python3"
  },
  "language_info": {
   "codemirror_mode": {
    "name": "ipython",
    "version": 3
   },
   "file_extension": ".py",
   "mimetype": "text/x-python",
   "name": "python",
   "nbconvert_exporter": "python",
   "pygments_lexer": "ipython3",
   "version": "3.9.12"
  }
 },
 "nbformat": 4,
 "nbformat_minor": 5
}
