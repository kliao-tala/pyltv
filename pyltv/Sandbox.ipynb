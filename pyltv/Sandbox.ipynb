{
 "cells": [
  {
   "cell_type": "code",
   "execution_count": 2,
   "id": "3928a39a",
   "metadata": {},
   "outputs": [],
   "source": [
    "import pandas as pd\n",
    "import numpy as np\n",
    "import plotly\n",
    "from plotly import graph_objects as go\n",
    "\n",
    "#from pyltv import DataManager\n",
    "from dbm import DBM\n",
    "#from pyltv2 import PowerSlope, Rolling"
   ]
  },
  {
   "cell_type": "code",
   "execution_count": 20,
   "id": "7d775ec8",
   "metadata": {},
   "outputs": [],
   "source": [
    "mx_data = pd.read_csv('data/mx_6-7.csv')"
   ]
  },
  {
   "cell_type": "code",
   "execution_count": null,
   "id": "ad6ab3bc",
   "metadata": {},
   "outputs": [],
   "source": [
    "m = DataManager(mx_data, market='mx')"
   ]
  },
  {
   "cell_type": "code",
   "execution_count": null,
   "id": "b8817dac",
   "metadata": {},
   "outputs": [],
   "source": [
    "m.plot_cohorts('default_rate_7dpd', 'clean')"
   ]
  },
  {
   "cell_type": "code",
   "execution_count": null,
   "id": "72a1c122",
   "metadata": {},
   "outputs": [],
   "source": [
    "backtest_months = 6\n",
    "weights=[.5, .25]"
   ]
  },
  {
   "cell_type": "code",
   "execution_count": null,
   "id": "46a53ae9",
   "metadata": {},
   "outputs": [],
   "source": [
    "m1 = PowerSlope(mx_data, market='mx')\n",
    "m1.forecast = m1.forecast_data(m1.data)\n",
    "m1.backtest, m1.backtest_report = m1.backtest_data(m1.data, hold_months=backtest_months, \n",
    "                                                   min_months=5)"
   ]
  },
  {
   "cell_type": "code",
   "execution_count": null,
   "id": "41f042c0",
   "metadata": {},
   "outputs": [],
   "source": [
    "m2 = Rolling(mx_data, market='mx')\n",
    "m2.forecast = m2.forecast_data(m2.data)\n",
    "m2.backtest, m2.backtest_report = m2.backtest_data(m2.data, hold_months=backtest_months, \n",
    "                                                   min_months=5, weights=weights)"
   ]
  },
  {
   "cell_type": "code",
   "execution_count": null,
   "id": "2eaf89f6",
   "metadata": {},
   "outputs": [],
   "source": [
    "m1.plot_cohorts('default_rate_7dpd-me', 'backtest_report')"
   ]
  },
  {
   "cell_type": "code",
   "execution_count": null,
   "id": "773425eb",
   "metadata": {},
   "outputs": [],
   "source": [
    "m2.plot_cohorts('default_rate_7dpd-me', 'backtest_report')"
   ]
  },
  {
   "cell_type": "code",
   "execution_count": null,
   "id": "05d3345a",
   "metadata": {},
   "outputs": [],
   "source": [
    "cols = [c for c in m1.backtest_report.columns if 'default' in c and 'mape' in c]\n",
    "\n",
    "m1.backtest_report[cols].mean().sort_values(ascending=False)[:10]"
   ]
  },
  {
   "cell_type": "code",
   "execution_count": null,
   "id": "23e0f9d4",
   "metadata": {},
   "outputs": [],
   "source": [
    "cols = [c for c in m2.backtest_report.columns if 'default' in c and 'mape' in c]\n",
    "\n",
    "m2.backtest_report[cols].mean().sort_values(ascending=False)[:10]"
   ]
  },
  {
   "cell_type": "code",
   "execution_count": null,
   "id": "a834726b",
   "metadata": {},
   "outputs": [],
   "source": [
    "m1.plot_cohorts('default_rate_7dpd', 'backtest')"
   ]
  },
  {
   "cell_type": "code",
   "execution_count": null,
   "id": "8f6b6844",
   "metadata": {
    "scrolled": false
   },
   "outputs": [],
   "source": [
    "m2.plot_cohorts('default_rate_7dpd', 'backtest')"
   ]
  },
  {
   "cell_type": "code",
   "execution_count": null,
   "id": "64fbab59",
   "metadata": {},
   "outputs": [],
   "source": []
  },
  {
   "cell_type": "code",
   "execution_count": null,
   "id": "20a0a8dd",
   "metadata": {},
   "outputs": [],
   "source": []
  },
  {
   "cell_type": "code",
   "execution_count": 6,
   "id": "f0acd232",
   "metadata": {},
   "outputs": [],
   "source": [
    "dbm = DBM(user='kenny.liao')"
   ]
  },
  {
   "cell_type": "code",
   "execution_count": 4,
   "id": "e38342fd",
   "metadata": {},
   "outputs": [],
   "source": [
    "sql = \"\"\"\n",
    "SELECT * FROM BUSINESS_DB.FINANCE.FX_RATES\n",
    "\"\"\""
   ]
  },
  {
   "cell_type": "code",
   "execution_count": 7,
   "id": "0b3d6c93",
   "metadata": {
    "scrolled": false
   },
   "outputs": [
    {
     "ename": "ProgrammingError",
     "evalue": "002003 (42S02): SQL compilation error:\nObject 'BUSINESS_DB.FINANCE.FX_RATES' does not exist or not authorized.",
     "output_type": "error",
     "traceback": [
      "\u001b[0;31m---------------------------------------------------------------------------\u001b[0m",
      "\u001b[0;31mProgrammingError\u001b[0m                          Traceback (most recent call last)",
      "Input \u001b[0;32mIn [7]\u001b[0m, in \u001b[0;36m<cell line: 1>\u001b[0;34m()\u001b[0m\n\u001b[0;32m----> 1\u001b[0m \u001b[43mdbm\u001b[49m\u001b[38;5;241;43m.\u001b[39;49m\u001b[43mquery_db\u001b[49m\u001b[43m(\u001b[49m\u001b[43msql\u001b[49m\u001b[43m)\u001b[49m\n",
      "File \u001b[0;32m~/projects/pyltv/pyltv/dbm.py:115\u001b[0m, in \u001b[0;36mDBM.query_db\u001b[0;34m(self, query)\u001b[0m\n\u001b[1;32m    106\u001b[0m \u001b[38;5;124;03m\"\"\"\u001b[39;00m\n\u001b[1;32m    107\u001b[0m \u001b[38;5;124;03mQuery snowflake with the specified sql query.\u001b[39;00m\n\u001b[1;32m    108\u001b[0m \n\u001b[0;32m   (...)\u001b[0m\n\u001b[1;32m    112\u001b[0m \u001b[38;5;124;03m    sql query statement\u001b[39;00m\n\u001b[1;32m    113\u001b[0m \u001b[38;5;124;03m\"\"\"\u001b[39;00m\n\u001b[1;32m    114\u001b[0m \u001b[38;5;28;01mwith\u001b[39;00m \u001b[38;5;28mself\u001b[39m\u001b[38;5;241m.\u001b[39mctx\u001b[38;5;241m.\u001b[39mcursor() \u001b[38;5;28;01mas\u001b[39;00m curs:\n\u001b[0;32m--> 115\u001b[0m     results \u001b[38;5;241m=\u001b[39m \u001b[43mcurs\u001b[49m\u001b[38;5;241;43m.\u001b[39;49m\u001b[43mexecute\u001b[49m\u001b[43m(\u001b[49m\u001b[43mquery\u001b[49m\u001b[43m)\u001b[49m\n\u001b[1;32m    116\u001b[0m     \u001b[38;5;28;01mreturn\u001b[39;00m pd\u001b[38;5;241m.\u001b[39mDataFrame\u001b[38;5;241m.\u001b[39mfrom_records(\u001b[38;5;28miter\u001b[39m(results), columns\u001b[38;5;241m=\u001b[39m[c[\u001b[38;5;241m0\u001b[39m] \u001b[38;5;28;01mfor\u001b[39;00m c \u001b[38;5;129;01min\u001b[39;00m results\u001b[38;5;241m.\u001b[39mdescription])\n",
      "File \u001b[0;32m~/opt/anaconda3/envs/pyltv/lib/python3.9/site-packages/snowflake/connector/cursor.py:799\u001b[0m, in \u001b[0;36mSnowflakeCursor.execute\u001b[0;34m(self, command, params, _bind_stage, timeout, _exec_async, _no_retry, _do_reset, _put_callback, _put_azure_callback, _put_callback_output_stream, _get_callback, _get_azure_callback, _get_callback_output_stream, _show_progress_bar, _statement_params, _is_internal, _describe_only, _no_results, _is_put_get, _raise_put_get_error, _force_put_overwrite, file_stream)\u001b[0m\n\u001b[1;32m    795\u001b[0m     is_integrity_error \u001b[38;5;241m=\u001b[39m (\n\u001b[1;32m    796\u001b[0m         code \u001b[38;5;241m==\u001b[39m \u001b[38;5;124m\"\u001b[39m\u001b[38;5;124m100072\u001b[39m\u001b[38;5;124m\"\u001b[39m\n\u001b[1;32m    797\u001b[0m     )  \u001b[38;5;66;03m# NULL result in a non-nullable column\u001b[39;00m\n\u001b[1;32m    798\u001b[0m     error_class \u001b[38;5;241m=\u001b[39m IntegrityError \u001b[38;5;28;01mif\u001b[39;00m is_integrity_error \u001b[38;5;28;01melse\u001b[39;00m ProgrammingError\n\u001b[0;32m--> 799\u001b[0m     \u001b[43mError\u001b[49m\u001b[38;5;241;43m.\u001b[39;49m\u001b[43merrorhandler_wrapper\u001b[49m\u001b[43m(\u001b[49m\u001b[38;5;28;43mself\u001b[39;49m\u001b[38;5;241;43m.\u001b[39;49m\u001b[43mconnection\u001b[49m\u001b[43m,\u001b[49m\u001b[43m \u001b[49m\u001b[38;5;28;43mself\u001b[39;49m\u001b[43m,\u001b[49m\u001b[43m \u001b[49m\u001b[43merror_class\u001b[49m\u001b[43m,\u001b[49m\u001b[43m \u001b[49m\u001b[43merrvalue\u001b[49m\u001b[43m)\u001b[49m\n\u001b[1;32m    800\u001b[0m \u001b[38;5;28;01mreturn\u001b[39;00m \u001b[38;5;28mself\u001b[39m\n",
      "File \u001b[0;32m~/opt/anaconda3/envs/pyltv/lib/python3.9/site-packages/snowflake/connector/errors.py:273\u001b[0m, in \u001b[0;36mError.errorhandler_wrapper\u001b[0;34m(connection, cursor, error_class, error_value)\u001b[0m\n\u001b[1;32m    250\u001b[0m \u001b[38;5;129m@staticmethod\u001b[39m\n\u001b[1;32m    251\u001b[0m \u001b[38;5;28;01mdef\u001b[39;00m \u001b[38;5;21merrorhandler_wrapper\u001b[39m(\n\u001b[1;32m    252\u001b[0m     connection: SnowflakeConnection \u001b[38;5;241m|\u001b[39m \u001b[38;5;28;01mNone\u001b[39;00m,\n\u001b[0;32m   (...)\u001b[0m\n\u001b[1;32m    255\u001b[0m     error_value: \u001b[38;5;28mdict\u001b[39m[\u001b[38;5;28mstr\u001b[39m, \u001b[38;5;28mstr\u001b[39m \u001b[38;5;241m|\u001b[39m \u001b[38;5;28mbool\u001b[39m \u001b[38;5;241m|\u001b[39m \u001b[38;5;28mint\u001b[39m],\n\u001b[1;32m    256\u001b[0m ) \u001b[38;5;241m-\u001b[39m\u001b[38;5;241m>\u001b[39m \u001b[38;5;28;01mNone\u001b[39;00m:\n\u001b[1;32m    257\u001b[0m     \u001b[38;5;124;03m\"\"\"Error handler wrapper that calls the errorhandler method.\u001b[39;00m\n\u001b[1;32m    258\u001b[0m \n\u001b[1;32m    259\u001b[0m \u001b[38;5;124;03m    Args:\u001b[39;00m\n\u001b[0;32m   (...)\u001b[0m\n\u001b[1;32m    270\u001b[0m \u001b[38;5;124;03m        exception to the first handler in that order.\u001b[39;00m\n\u001b[1;32m    271\u001b[0m \u001b[38;5;124;03m    \"\"\"\u001b[39;00m\n\u001b[0;32m--> 273\u001b[0m     handed_over \u001b[38;5;241m=\u001b[39m \u001b[43mError\u001b[49m\u001b[38;5;241;43m.\u001b[39;49m\u001b[43mhand_to_other_handler\u001b[49m\u001b[43m(\u001b[49m\n\u001b[1;32m    274\u001b[0m \u001b[43m        \u001b[49m\u001b[43mconnection\u001b[49m\u001b[43m,\u001b[49m\n\u001b[1;32m    275\u001b[0m \u001b[43m        \u001b[49m\u001b[43mcursor\u001b[49m\u001b[43m,\u001b[49m\n\u001b[1;32m    276\u001b[0m \u001b[43m        \u001b[49m\u001b[43merror_class\u001b[49m\u001b[43m,\u001b[49m\n\u001b[1;32m    277\u001b[0m \u001b[43m        \u001b[49m\u001b[43merror_value\u001b[49m\u001b[43m,\u001b[49m\n\u001b[1;32m    278\u001b[0m \u001b[43m    \u001b[49m\u001b[43m)\u001b[49m\n\u001b[1;32m    279\u001b[0m     \u001b[38;5;28;01mif\u001b[39;00m \u001b[38;5;129;01mnot\u001b[39;00m handed_over:\n\u001b[1;32m    280\u001b[0m         \u001b[38;5;28;01mraise\u001b[39;00m Error\u001b[38;5;241m.\u001b[39merrorhandler_make_exception(\n\u001b[1;32m    281\u001b[0m             error_class,\n\u001b[1;32m    282\u001b[0m             error_value,\n\u001b[1;32m    283\u001b[0m         )\n",
      "File \u001b[0;32m~/opt/anaconda3/envs/pyltv/lib/python3.9/site-packages/snowflake/connector/errors.py:328\u001b[0m, in \u001b[0;36mError.hand_to_other_handler\u001b[0;34m(connection, cursor, error_class, error_value)\u001b[0m\n\u001b[1;32m    326\u001b[0m \u001b[38;5;28;01mif\u001b[39;00m cursor \u001b[38;5;129;01mis\u001b[39;00m \u001b[38;5;129;01mnot\u001b[39;00m \u001b[38;5;28;01mNone\u001b[39;00m:\n\u001b[1;32m    327\u001b[0m     cursor\u001b[38;5;241m.\u001b[39mmessages\u001b[38;5;241m.\u001b[39mappend((error_class, error_value))\n\u001b[0;32m--> 328\u001b[0m     \u001b[43mcursor\u001b[49m\u001b[38;5;241;43m.\u001b[39;49m\u001b[43merrorhandler\u001b[49m\u001b[43m(\u001b[49m\u001b[43mconnection\u001b[49m\u001b[43m,\u001b[49m\u001b[43m \u001b[49m\u001b[43mcursor\u001b[49m\u001b[43m,\u001b[49m\u001b[43m \u001b[49m\u001b[43merror_class\u001b[49m\u001b[43m,\u001b[49m\u001b[43m \u001b[49m\u001b[43merror_value\u001b[49m\u001b[43m)\u001b[49m\n\u001b[1;32m    329\u001b[0m     \u001b[38;5;28;01mreturn\u001b[39;00m \u001b[38;5;28;01mTrue\u001b[39;00m\n\u001b[1;32m    330\u001b[0m \u001b[38;5;28;01melif\u001b[39;00m connection \u001b[38;5;129;01mis\u001b[39;00m \u001b[38;5;129;01mnot\u001b[39;00m \u001b[38;5;28;01mNone\u001b[39;00m:\n",
      "File \u001b[0;32m~/opt/anaconda3/envs/pyltv/lib/python3.9/site-packages/snowflake/connector/errors.py:207\u001b[0m, in \u001b[0;36mError.default_errorhandler\u001b[0;34m(connection, cursor, error_class, error_value)\u001b[0m\n\u001b[1;32m    189\u001b[0m \u001b[38;5;129m@staticmethod\u001b[39m\n\u001b[1;32m    190\u001b[0m \u001b[38;5;28;01mdef\u001b[39;00m \u001b[38;5;21mdefault_errorhandler\u001b[39m(\n\u001b[1;32m    191\u001b[0m     connection: SnowflakeConnection,\n\u001b[0;32m   (...)\u001b[0m\n\u001b[1;32m    194\u001b[0m     error_value: \u001b[38;5;28mdict\u001b[39m[\u001b[38;5;28mstr\u001b[39m, \u001b[38;5;28mstr\u001b[39m],\n\u001b[1;32m    195\u001b[0m ) \u001b[38;5;241m-\u001b[39m\u001b[38;5;241m>\u001b[39m \u001b[38;5;28;01mNone\u001b[39;00m:\n\u001b[1;32m    196\u001b[0m     \u001b[38;5;124;03m\"\"\"Default error handler that raises an error.\u001b[39;00m\n\u001b[1;32m    197\u001b[0m \n\u001b[1;32m    198\u001b[0m \u001b[38;5;124;03m    Args:\u001b[39;00m\n\u001b[0;32m   (...)\u001b[0m\n\u001b[1;32m    205\u001b[0m \u001b[38;5;124;03m        A Snowflake error.\u001b[39;00m\n\u001b[1;32m    206\u001b[0m \u001b[38;5;124;03m    \"\"\"\u001b[39;00m\n\u001b[0;32m--> 207\u001b[0m     \u001b[38;5;28;01mraise\u001b[39;00m error_class(\n\u001b[1;32m    208\u001b[0m         msg\u001b[38;5;241m=\u001b[39merror_value\u001b[38;5;241m.\u001b[39mget(\u001b[38;5;124m\"\u001b[39m\u001b[38;5;124mmsg\u001b[39m\u001b[38;5;124m\"\u001b[39m),\n\u001b[1;32m    209\u001b[0m         errno\u001b[38;5;241m=\u001b[39merror_value\u001b[38;5;241m.\u001b[39mget(\u001b[38;5;124m\"\u001b[39m\u001b[38;5;124merrno\u001b[39m\u001b[38;5;124m\"\u001b[39m),\n\u001b[1;32m    210\u001b[0m         sqlstate\u001b[38;5;241m=\u001b[39merror_value\u001b[38;5;241m.\u001b[39mget(\u001b[38;5;124m\"\u001b[39m\u001b[38;5;124msqlstate\u001b[39m\u001b[38;5;124m\"\u001b[39m),\n\u001b[1;32m    211\u001b[0m         sfqid\u001b[38;5;241m=\u001b[39merror_value\u001b[38;5;241m.\u001b[39mget(\u001b[38;5;124m\"\u001b[39m\u001b[38;5;124msfqid\u001b[39m\u001b[38;5;124m\"\u001b[39m),\n\u001b[1;32m    212\u001b[0m         done_format_msg\u001b[38;5;241m=\u001b[39merror_value\u001b[38;5;241m.\u001b[39mget(\u001b[38;5;124m\"\u001b[39m\u001b[38;5;124mdone_format_msg\u001b[39m\u001b[38;5;124m\"\u001b[39m),\n\u001b[1;32m    213\u001b[0m         connection\u001b[38;5;241m=\u001b[39mconnection,\n\u001b[1;32m    214\u001b[0m         cursor\u001b[38;5;241m=\u001b[39mcursor,\n\u001b[1;32m    215\u001b[0m     )\n",
      "\u001b[0;31mProgrammingError\u001b[0m: 002003 (42S02): SQL compilation error:\nObject 'BUSINESS_DB.FINANCE.FX_RATES' does not exist or not authorized."
     ]
    }
   ],
   "source": [
    "dbm.query_db(sql)"
   ]
  },
  {
   "cell_type": "code",
   "execution_count": 30,
   "id": "0971e645",
   "metadata": {},
   "outputs": [],
   "source": [
    "sql=\"\"\"\n",
    "select \n",
    "    (TO_CHAR(DATE_TRUNC('month', (LOCAL_FIRST_LOAN_DISBURSED_TIME::TIMESTAMP_NTZ) ), 'YYYY-MM')) as \"Local Disbursement Month\",\n",
    "    count(LOAN_APPLICATION_ID)\n",
    "from \n",
    "    business_db.credit.loan_basic_mx as loans\n",
    "where \n",
    "    still_owed > 0 \n",
    "and datediff(day, local_due_date, convert_timezone('America/Mexico_City', current_timestamp())) <7\n",
    "and LOCAL_FIRST_LOAN_DISBURSED_TIME::TIMESTAMP_NTZ >= TO_TIMESTAMP('09/01/2020')\n",
    "\n",
    "group by\n",
    "    TO_CHAR(DATE_TRUNC('month', (LOCAL_FIRST_LOAN_DISBURSED_TIME::TIMESTAMP_NTZ) ), 'YYYY-MM')\n",
    "\"\"\"\n",
    "\n",
    "results = dbm.query_db(sql)"
   ]
  },
  {
   "cell_type": "code",
   "execution_count": 33,
   "id": "a6b85d1e",
   "metadata": {},
   "outputs": [],
   "source": [
    "results = results.sort_values('Local Disbursement Month').reset_index(drop=True)"
   ]
  },
  {
   "cell_type": "code",
   "execution_count": 34,
   "id": "d16f53ec",
   "metadata": {},
   "outputs": [
    {
     "data": {
      "text/html": [
       "<div>\n",
       "<style scoped>\n",
       "    .dataframe tbody tr th:only-of-type {\n",
       "        vertical-align: middle;\n",
       "    }\n",
       "\n",
       "    .dataframe tbody tr th {\n",
       "        vertical-align: top;\n",
       "    }\n",
       "\n",
       "    .dataframe thead th {\n",
       "        text-align: right;\n",
       "    }\n",
       "</style>\n",
       "<table border=\"1\" class=\"dataframe\">\n",
       "  <thead>\n",
       "    <tr style=\"text-align: right;\">\n",
       "      <th></th>\n",
       "      <th>index</th>\n",
       "      <th>Local Disbursement Month</th>\n",
       "      <th>COUNT(LOAN_APPLICATION_ID)</th>\n",
       "    </tr>\n",
       "  </thead>\n",
       "  <tbody>\n",
       "    <tr>\n",
       "      <th>0</th>\n",
       "      <td>15</td>\n",
       "      <td>2020-09</td>\n",
       "      <td>2025</td>\n",
       "    </tr>\n",
       "    <tr>\n",
       "      <th>1</th>\n",
       "      <td>14</td>\n",
       "      <td>2020-10</td>\n",
       "      <td>2849</td>\n",
       "    </tr>\n",
       "    <tr>\n",
       "      <th>2</th>\n",
       "      <td>17</td>\n",
       "      <td>2020-11</td>\n",
       "      <td>2501</td>\n",
       "    </tr>\n",
       "    <tr>\n",
       "      <th>3</th>\n",
       "      <td>21</td>\n",
       "      <td>2020-12</td>\n",
       "      <td>1888</td>\n",
       "    </tr>\n",
       "    <tr>\n",
       "      <th>4</th>\n",
       "      <td>20</td>\n",
       "      <td>2021-01</td>\n",
       "      <td>3414</td>\n",
       "    </tr>\n",
       "    <tr>\n",
       "      <th>5</th>\n",
       "      <td>8</td>\n",
       "      <td>2021-02</td>\n",
       "      <td>5368</td>\n",
       "    </tr>\n",
       "    <tr>\n",
       "      <th>6</th>\n",
       "      <td>3</td>\n",
       "      <td>2021-03</td>\n",
       "      <td>5954</td>\n",
       "    </tr>\n",
       "    <tr>\n",
       "      <th>7</th>\n",
       "      <td>7</td>\n",
       "      <td>2021-04</td>\n",
       "      <td>5293</td>\n",
       "    </tr>\n",
       "    <tr>\n",
       "      <th>8</th>\n",
       "      <td>13</td>\n",
       "      <td>2021-05</td>\n",
       "      <td>3894</td>\n",
       "    </tr>\n",
       "    <tr>\n",
       "      <th>9</th>\n",
       "      <td>0</td>\n",
       "      <td>2021-06</td>\n",
       "      <td>4127</td>\n",
       "    </tr>\n",
       "    <tr>\n",
       "      <th>10</th>\n",
       "      <td>19</td>\n",
       "      <td>2021-07</td>\n",
       "      <td>4273</td>\n",
       "    </tr>\n",
       "    <tr>\n",
       "      <th>11</th>\n",
       "      <td>18</td>\n",
       "      <td>2021-08</td>\n",
       "      <td>4603</td>\n",
       "    </tr>\n",
       "    <tr>\n",
       "      <th>12</th>\n",
       "      <td>2</td>\n",
       "      <td>2021-09</td>\n",
       "      <td>5225</td>\n",
       "    </tr>\n",
       "    <tr>\n",
       "      <th>13</th>\n",
       "      <td>1</td>\n",
       "      <td>2021-10</td>\n",
       "      <td>10386</td>\n",
       "    </tr>\n",
       "    <tr>\n",
       "      <th>14</th>\n",
       "      <td>12</td>\n",
       "      <td>2021-11</td>\n",
       "      <td>9610</td>\n",
       "    </tr>\n",
       "    <tr>\n",
       "      <th>15</th>\n",
       "      <td>6</td>\n",
       "      <td>2021-12</td>\n",
       "      <td>5948</td>\n",
       "    </tr>\n",
       "    <tr>\n",
       "      <th>16</th>\n",
       "      <td>9</td>\n",
       "      <td>2022-01</td>\n",
       "      <td>7746</td>\n",
       "    </tr>\n",
       "    <tr>\n",
       "      <th>17</th>\n",
       "      <td>16</td>\n",
       "      <td>2022-02</td>\n",
       "      <td>8357</td>\n",
       "    </tr>\n",
       "    <tr>\n",
       "      <th>18</th>\n",
       "      <td>11</td>\n",
       "      <td>2022-03</td>\n",
       "      <td>11650</td>\n",
       "    </tr>\n",
       "    <tr>\n",
       "      <th>19</th>\n",
       "      <td>4</td>\n",
       "      <td>2022-04</td>\n",
       "      <td>15785</td>\n",
       "    </tr>\n",
       "    <tr>\n",
       "      <th>20</th>\n",
       "      <td>10</td>\n",
       "      <td>2022-05</td>\n",
       "      <td>30105</td>\n",
       "    </tr>\n",
       "    <tr>\n",
       "      <th>21</th>\n",
       "      <td>5</td>\n",
       "      <td>2022-06</td>\n",
       "      <td>25381</td>\n",
       "    </tr>\n",
       "  </tbody>\n",
       "</table>\n",
       "</div>"
      ],
      "text/plain": [
       "    index Local Disbursement Month  COUNT(LOAN_APPLICATION_ID)\n",
       "0      15                  2020-09                        2025\n",
       "1      14                  2020-10                        2849\n",
       "2      17                  2020-11                        2501\n",
       "3      21                  2020-12                        1888\n",
       "4      20                  2021-01                        3414\n",
       "5       8                  2021-02                        5368\n",
       "6       3                  2021-03                        5954\n",
       "7       7                  2021-04                        5293\n",
       "8      13                  2021-05                        3894\n",
       "9       0                  2021-06                        4127\n",
       "10     19                  2021-07                        4273\n",
       "11     18                  2021-08                        4603\n",
       "12      2                  2021-09                        5225\n",
       "13      1                  2021-10                       10386\n",
       "14     12                  2021-11                        9610\n",
       "15      6                  2021-12                        5948\n",
       "16      9                  2022-01                        7746\n",
       "17     16                  2022-02                        8357\n",
       "18     11                  2022-03                       11650\n",
       "19      4                  2022-04                       15785\n",
       "20     10                  2022-05                       30105\n",
       "21      5                  2022-06                       25381"
      ]
     },
     "execution_count": 34,
     "metadata": {},
     "output_type": "execute_result"
    }
   ],
   "source": [
    "results.drop('inde')"
   ]
  },
  {
   "cell_type": "code",
   "execution_count": 24,
   "id": "f8b8dede",
   "metadata": {},
   "outputs": [
    {
     "data": {
      "text/plain": [
       "IS_ATLAS                                                       True\n",
       "LOAN_APPLICATION_ID                                 844424938959911\n",
       "PERSON_ID                                           844424936709743\n",
       "SURVEY_INSTANCE_ID                                                1\n",
       "LOCAL_APPLICATION_TIME             2022-05-13 20:35:51.668061-05:00\n",
       "LOCAL_DISBURSEMENT_TIME                   2022-05-13 21:21:51-05:00\n",
       "LOAN_NUMBER                                                       1\n",
       "LOC_LOAN_NUMBER                                                   0\n",
       "STATUS                                                           13\n",
       "LOAN_STATUS                                                    LATE\n",
       "LOAN_TYPE_ID                                                1009054\n",
       "REPAYMENT_STRATEGY                                             None\n",
       "TARGET_REPAYMENT_DATE                                          None\n",
       "CONSTANT_DAILY_INTEREST_RATE                                   None\n",
       "DAYS_BORROWED                                                    34\n",
       "LOCAL_ORIGINAL_DUE_DATE                                  2022-06-12\n",
       "LOCAL_DUE_DATE                                           2022-06-12\n",
       "AMOUNT                                                        500.0\n",
       "INTEREST_RATE                                                  24.0\n",
       "INSTALLMENT_COUNT                                                 1\n",
       "INSTALLMENT_PERIOD                                               30\n",
       "TOTAL_EXTENSION_PERIOD                                            0\n",
       "ROLLOVER_FEE_CHARGED                                          63.92\n",
       "ROLLOVER_FEE_REVERSED                                           0.0\n",
       "INTEREST_FEE                                                  120.0\n",
       "TAX_FEE                                                        19.2\n",
       "PROCESSING_FEE                                                  0.0\n",
       "GENERAL_FEE                                                     0.0\n",
       "TOTAL_FEES                                                    139.2\n",
       "INTEREST_ASSESSED                                             120.0\n",
       "TOTAL_RECEIVABLE                                             703.12\n",
       "STILL_OWED                                                   703.12\n",
       "TOTAL_PAID                                                      0.0\n",
       "AMOUNT_PAID                                                     0.0\n",
       "DISCOUNT_APPLIED                                                0.0\n",
       "LOCAL_LAST_PAYMENT_TIME                                        None\n",
       "LOCAL_PAID_OFF_TIME                                            None\n",
       "PREVIOUS_LOAN_AMOUNT                                            NaN\n",
       "LOCAL_REPEAT_TIME                                              None\n",
       "LOCAL_FIRST_LOAN_DISBURSED_TIME           2022-05-13 21:21:51-05:00\n",
       "LOCAL_PREV_LOAN_DISBURSED_TIME                                  NaT\n",
       "LOCAL_PREV_LOAN_DUE_DATE                                       None\n",
       "LOCAL_PREV_LOAN_REPAID_TIME                                     NaT\n",
       "DAYS_SINCE_FIRST_LOAN_DISBURSED                                   0\n",
       "DAYS_SINCE_PREV_LOAN_DISBURSED                                  NaN\n",
       "DAYS_SINCE_PREV_LOAN_REPAID                                     NaN\n",
       "DAYS_PAID_PREV_LOAN_AFTER_DD                                    NaN\n",
       "NEXT_LOCAL_APPLICATION_TIME                                    None\n",
       "NEXT_APPLICATION_DECISION                                      None\n",
       "NEXT_APPLICATION_STATUS                                        None\n",
       "FUNDING_SOURCE                                                 None\n",
       "NUMBER_OF_PAYMENTS                                                0\n",
       "CREDIT_SCORE                                                 0.7731\n",
       "MODEL_VERSION                                   gambit.mx.4.0.atlas\n",
       "NOTES                                                          None\n",
       "LOCAL_WRITEOFF_DATE                                            None\n",
       "WRITEOFF_AMOUNT                                                 0.0\n",
       "REPAID_AFTER_WRITEOFF                                           0.0\n",
       "LEGACY_PERSON_ID                                               None\n",
       "LAST_UPDATE                        2022-06-16 19:07:52.537000+00:00\n",
       "Name: 3, dtype: object"
      ]
     },
     "execution_count": 24,
     "metadata": {},
     "output_type": "execute_result"
    }
   ],
   "source": [
    "results.loc[3]"
   ]
  },
  {
   "cell_type": "code",
   "execution_count": null,
   "id": "29ae3ba5",
   "metadata": {},
   "outputs": [],
   "source": []
  },
  {
   "cell_type": "code",
   "execution_count": null,
   "id": "c688f455",
   "metadata": {},
   "outputs": [],
   "source": []
  },
  {
   "cell_type": "code",
   "execution_count": null,
   "id": "190a42e7",
   "metadata": {},
   "outputs": [],
   "source": []
  }
 ],
 "metadata": {
  "kernelspec": {
   "display_name": "Python 3 (ipykernel)",
   "language": "python",
   "name": "python3"
  },
  "language_info": {
   "codemirror_mode": {
    "name": "ipython",
    "version": 3
   },
   "file_extension": ".py",
   "mimetype": "text/x-python",
   "name": "python",
   "nbconvert_exporter": "python",
   "pygments_lexer": "ipython3",
   "version": "3.9.13"
  }
 },
 "nbformat": 4,
 "nbformat_minor": 5
}
