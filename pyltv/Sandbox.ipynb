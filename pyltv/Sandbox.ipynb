{
 "cells": [
  {
   "cell_type": "code",
   "execution_count": 1,
   "id": "3928a39a",
   "metadata": {},
   "outputs": [],
   "source": [
    "import pandas as pd\n",
    "import numpy as np\n",
    "import plotly\n",
    "from plotly import graph_objects as go\n",
    "\n",
    "from model import DataManager"
   ]
  },
  {
   "cell_type": "code",
   "execution_count": 2,
   "id": "7c409b56",
   "metadata": {},
   "outputs": [],
   "source": [
    "mx_data = pd.read_csv('data/mx_6-7.csv')"
   ]
  },
  {
   "cell_type": "code",
   "execution_count": 3,
   "id": "e6d7de91",
   "metadata": {},
   "outputs": [
    {
     "name": "stdout",
     "output_type": "stream",
     "text": [
      "Clean data spans 2020-09 to 2022-02\n",
      "Total # of cohorts: 18\n",
      "\n"
     ]
    }
   ],
   "source": [
    "m = DataManager(mx_data, market='mx')"
   ]
  },
  {
   "cell_type": "code",
   "execution_count": 4,
   "id": "18b49013",
   "metadata": {},
   "outputs": [
    {
     "name": "stdout",
     "output_type": "stream",
     "text": [
      "Data has not been forecast or backtested yet.\n",
      "Run forecast_data() or backtest_data() methods first.\n"
     ]
    }
   ],
   "source": [
    "m.plot_cohorts('default_rate_7dpd', 'backtest')"
   ]
  },
  {
   "cell_type": "code",
   "execution_count": null,
   "id": "4d45c1d9",
   "metadata": {},
   "outputs": [],
   "source": []
  }
 ],
 "metadata": {
  "kernelspec": {
   "display_name": "Python 3 (ipykernel)",
   "language": "python",
   "name": "python3"
  },
  "language_info": {
   "codemirror_mode": {
    "name": "ipython",
    "version": 3
   },
   "file_extension": ".py",
   "mimetype": "text/x-python",
   "name": "python",
   "nbconvert_exporter": "python",
   "pygments_lexer": "ipython3",
   "version": "3.9.12"
  }
 },
 "nbformat": 4,
 "nbformat_minor": 5
}
