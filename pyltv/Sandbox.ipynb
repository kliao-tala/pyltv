{
 "cells": [
  {
   "cell_type": "code",
   "execution_count": 19,
   "id": "3928a39a",
   "metadata": {},
   "outputs": [],
   "source": [
    "import pandas as pd\n",
    "import numpy as np\n",
    "import plotly\n",
    "from plotly import graph_objects as go\n",
    "\n",
    "from base import DataManager\n",
    "from dbm import DBM\n",
    "from pyltv2 import PowerSlope, Rolling"
   ]
  },
  {
   "cell_type": "code",
   "execution_count": 20,
   "id": "7d775ec8",
   "metadata": {},
   "outputs": [],
   "source": [
    "mx_data = pd.read_csv('data/mx_6-7.csv')"
   ]
  },
  {
   "cell_type": "code",
   "execution_count": null,
   "id": "ad6ab3bc",
   "metadata": {},
   "outputs": [],
   "source": [
    "m = DataManager(mx_data, market='mx')"
   ]
  },
  {
   "cell_type": "code",
   "execution_count": null,
   "id": "b8817dac",
   "metadata": {},
   "outputs": [],
   "source": [
    "m.plot_cohorts('default_rate_7dpd', 'clean')"
   ]
  },
  {
   "cell_type": "code",
   "execution_count": null,
   "id": "72a1c122",
   "metadata": {},
   "outputs": [],
   "source": [
    "backtest_months = 6\n",
    "weights=[.5, .25]"
   ]
  },
  {
   "cell_type": "code",
   "execution_count": null,
   "id": "46a53ae9",
   "metadata": {},
   "outputs": [],
   "source": [
    "m1 = PowerSlope(mx_data, market='mx')\n",
    "m1.forecast = m1.forecast_data(m1.data)\n",
    "m1.backtest, m1.backtest_report = m1.backtest_data(m1.data, hold_months=backtest_months, \n",
    "                                                   min_months=5)"
   ]
  },
  {
   "cell_type": "code",
   "execution_count": null,
   "id": "41f042c0",
   "metadata": {},
   "outputs": [],
   "source": [
    "m2 = Rolling(mx_data, market='mx')\n",
    "m2.forecast = m2.forecast_data(m2.data)\n",
    "m2.backtest, m2.backtest_report = m2.backtest_data(m2.data, hold_months=backtest_months, \n",
    "                                                   min_months=5, weights=weights)"
   ]
  },
  {
   "cell_type": "code",
   "execution_count": null,
   "id": "2eaf89f6",
   "metadata": {},
   "outputs": [],
   "source": [
    "m1.plot_cohorts('default_rate_7dpd-me', 'backtest_report')"
   ]
  },
  {
   "cell_type": "code",
   "execution_count": null,
   "id": "773425eb",
   "metadata": {},
   "outputs": [],
   "source": [
    "m2.plot_cohorts('default_rate_7dpd-me', 'backtest_report')"
   ]
  },
  {
   "cell_type": "code",
   "execution_count": null,
   "id": "05d3345a",
   "metadata": {},
   "outputs": [],
   "source": [
    "cols = [c for c in m1.backtest_report.columns if 'default' in c and 'mape' in c]\n",
    "\n",
    "m1.backtest_report[cols].mean().sort_values(ascending=False)[:10]"
   ]
  },
  {
   "cell_type": "code",
   "execution_count": null,
   "id": "23e0f9d4",
   "metadata": {},
   "outputs": [],
   "source": [
    "cols = [c for c in m2.backtest_report.columns if 'default' in c and 'mape' in c]\n",
    "\n",
    "m2.backtest_report[cols].mean().sort_values(ascending=False)[:10]"
   ]
  },
  {
   "cell_type": "code",
   "execution_count": null,
   "id": "a834726b",
   "metadata": {},
   "outputs": [],
   "source": [
    "m1.plot_cohorts('default_rate_7dpd', 'backtest')"
   ]
  },
  {
   "cell_type": "code",
   "execution_count": null,
   "id": "8f6b6844",
   "metadata": {
    "scrolled": false
   },
   "outputs": [],
   "source": [
    "m2.plot_cohorts('default_rate_7dpd', 'backtest')"
   ]
  },
  {
   "cell_type": "code",
   "execution_count": null,
   "id": "64fbab59",
   "metadata": {},
   "outputs": [],
   "source": []
  },
  {
   "cell_type": "code",
   "execution_count": null,
   "id": "20a0a8dd",
   "metadata": {},
   "outputs": [],
   "source": []
  },
  {
   "cell_type": "code",
   "execution_count": 21,
   "id": "f0acd232",
   "metadata": {},
   "outputs": [],
   "source": [
    "dbm = DBM(user='kenny.liao')"
   ]
  },
  {
   "cell_type": "code",
   "execution_count": 30,
   "id": "0971e645",
   "metadata": {},
   "outputs": [],
   "source": [
    "sql=\"\"\"\n",
    "select \n",
    "    (TO_CHAR(DATE_TRUNC('month', (LOCAL_FIRST_LOAN_DISBURSED_TIME::TIMESTAMP_NTZ) ), 'YYYY-MM')) as \"Local Disbursement Month\",\n",
    "    count(LOAN_APPLICATION_ID)\n",
    "from \n",
    "    business_db.credit.loan_basic_mx as loans\n",
    "where \n",
    "    still_owed > 0 \n",
    "and datediff(day, local_due_date, convert_timezone('America/Mexico_City', current_timestamp())) <7\n",
    "and LOCAL_FIRST_LOAN_DISBURSED_TIME::TIMESTAMP_NTZ >= TO_TIMESTAMP('09/01/2020')\n",
    "\n",
    "group by\n",
    "    TO_CHAR(DATE_TRUNC('month', (LOCAL_FIRST_LOAN_DISBURSED_TIME::TIMESTAMP_NTZ) ), 'YYYY-MM')\n",
    "\"\"\"\n",
    "\n",
    "results = dbm.query_db(sql)"
   ]
  },
  {
   "cell_type": "code",
   "execution_count": 33,
   "id": "a6b85d1e",
   "metadata": {},
   "outputs": [],
   "source": [
    "results = results.sort_values('Local Disbursement Month').reset_index(drop=True)"
   ]
  },
  {
   "cell_type": "code",
   "execution_count": 34,
   "id": "d16f53ec",
   "metadata": {},
   "outputs": [
    {
     "data": {
      "text/html": [
       "<div>\n",
       "<style scoped>\n",
       "    .dataframe tbody tr th:only-of-type {\n",
       "        vertical-align: middle;\n",
       "    }\n",
       "\n",
       "    .dataframe tbody tr th {\n",
       "        vertical-align: top;\n",
       "    }\n",
       "\n",
       "    .dataframe thead th {\n",
       "        text-align: right;\n",
       "    }\n",
       "</style>\n",
       "<table border=\"1\" class=\"dataframe\">\n",
       "  <thead>\n",
       "    <tr style=\"text-align: right;\">\n",
       "      <th></th>\n",
       "      <th>index</th>\n",
       "      <th>Local Disbursement Month</th>\n",
       "      <th>COUNT(LOAN_APPLICATION_ID)</th>\n",
       "    </tr>\n",
       "  </thead>\n",
       "  <tbody>\n",
       "    <tr>\n",
       "      <th>0</th>\n",
       "      <td>15</td>\n",
       "      <td>2020-09</td>\n",
       "      <td>2025</td>\n",
       "    </tr>\n",
       "    <tr>\n",
       "      <th>1</th>\n",
       "      <td>14</td>\n",
       "      <td>2020-10</td>\n",
       "      <td>2849</td>\n",
       "    </tr>\n",
       "    <tr>\n",
       "      <th>2</th>\n",
       "      <td>17</td>\n",
       "      <td>2020-11</td>\n",
       "      <td>2501</td>\n",
       "    </tr>\n",
       "    <tr>\n",
       "      <th>3</th>\n",
       "      <td>21</td>\n",
       "      <td>2020-12</td>\n",
       "      <td>1888</td>\n",
       "    </tr>\n",
       "    <tr>\n",
       "      <th>4</th>\n",
       "      <td>20</td>\n",
       "      <td>2021-01</td>\n",
       "      <td>3414</td>\n",
       "    </tr>\n",
       "    <tr>\n",
       "      <th>5</th>\n",
       "      <td>8</td>\n",
       "      <td>2021-02</td>\n",
       "      <td>5368</td>\n",
       "    </tr>\n",
       "    <tr>\n",
       "      <th>6</th>\n",
       "      <td>3</td>\n",
       "      <td>2021-03</td>\n",
       "      <td>5954</td>\n",
       "    </tr>\n",
       "    <tr>\n",
       "      <th>7</th>\n",
       "      <td>7</td>\n",
       "      <td>2021-04</td>\n",
       "      <td>5293</td>\n",
       "    </tr>\n",
       "    <tr>\n",
       "      <th>8</th>\n",
       "      <td>13</td>\n",
       "      <td>2021-05</td>\n",
       "      <td>3894</td>\n",
       "    </tr>\n",
       "    <tr>\n",
       "      <th>9</th>\n",
       "      <td>0</td>\n",
       "      <td>2021-06</td>\n",
       "      <td>4127</td>\n",
       "    </tr>\n",
       "    <tr>\n",
       "      <th>10</th>\n",
       "      <td>19</td>\n",
       "      <td>2021-07</td>\n",
       "      <td>4273</td>\n",
       "    </tr>\n",
       "    <tr>\n",
       "      <th>11</th>\n",
       "      <td>18</td>\n",
       "      <td>2021-08</td>\n",
       "      <td>4603</td>\n",
       "    </tr>\n",
       "    <tr>\n",
       "      <th>12</th>\n",
       "      <td>2</td>\n",
       "      <td>2021-09</td>\n",
       "      <td>5225</td>\n",
       "    </tr>\n",
       "    <tr>\n",
       "      <th>13</th>\n",
       "      <td>1</td>\n",
       "      <td>2021-10</td>\n",
       "      <td>10386</td>\n",
       "    </tr>\n",
       "    <tr>\n",
       "      <th>14</th>\n",
       "      <td>12</td>\n",
       "      <td>2021-11</td>\n",
       "      <td>9610</td>\n",
       "    </tr>\n",
       "    <tr>\n",
       "      <th>15</th>\n",
       "      <td>6</td>\n",
       "      <td>2021-12</td>\n",
       "      <td>5948</td>\n",
       "    </tr>\n",
       "    <tr>\n",
       "      <th>16</th>\n",
       "      <td>9</td>\n",
       "      <td>2022-01</td>\n",
       "      <td>7746</td>\n",
       "    </tr>\n",
       "    <tr>\n",
       "      <th>17</th>\n",
       "      <td>16</td>\n",
       "      <td>2022-02</td>\n",
       "      <td>8357</td>\n",
       "    </tr>\n",
       "    <tr>\n",
       "      <th>18</th>\n",
       "      <td>11</td>\n",
       "      <td>2022-03</td>\n",
       "      <td>11650</td>\n",
       "    </tr>\n",
       "    <tr>\n",
       "      <th>19</th>\n",
       "      <td>4</td>\n",
       "      <td>2022-04</td>\n",
       "      <td>15785</td>\n",
       "    </tr>\n",
       "    <tr>\n",
       "      <th>20</th>\n",
       "      <td>10</td>\n",
       "      <td>2022-05</td>\n",
       "      <td>30105</td>\n",
       "    </tr>\n",
       "    <tr>\n",
       "      <th>21</th>\n",
       "      <td>5</td>\n",
       "      <td>2022-06</td>\n",
       "      <td>25381</td>\n",
       "    </tr>\n",
       "  </tbody>\n",
       "</table>\n",
       "</div>"
      ],
      "text/plain": [
       "    index Local Disbursement Month  COUNT(LOAN_APPLICATION_ID)\n",
       "0      15                  2020-09                        2025\n",
       "1      14                  2020-10                        2849\n",
       "2      17                  2020-11                        2501\n",
       "3      21                  2020-12                        1888\n",
       "4      20                  2021-01                        3414\n",
       "5       8                  2021-02                        5368\n",
       "6       3                  2021-03                        5954\n",
       "7       7                  2021-04                        5293\n",
       "8      13                  2021-05                        3894\n",
       "9       0                  2021-06                        4127\n",
       "10     19                  2021-07                        4273\n",
       "11     18                  2021-08                        4603\n",
       "12      2                  2021-09                        5225\n",
       "13      1                  2021-10                       10386\n",
       "14     12                  2021-11                        9610\n",
       "15      6                  2021-12                        5948\n",
       "16      9                  2022-01                        7746\n",
       "17     16                  2022-02                        8357\n",
       "18     11                  2022-03                       11650\n",
       "19      4                  2022-04                       15785\n",
       "20     10                  2022-05                       30105\n",
       "21      5                  2022-06                       25381"
      ]
     },
     "execution_count": 34,
     "metadata": {},
     "output_type": "execute_result"
    }
   ],
   "source": [
    "results.drop('inde')"
   ]
  },
  {
   "cell_type": "code",
   "execution_count": 24,
   "id": "f8b8dede",
   "metadata": {},
   "outputs": [
    {
     "data": {
      "text/plain": [
       "IS_ATLAS                                                       True\n",
       "LOAN_APPLICATION_ID                                 844424938959911\n",
       "PERSON_ID                                           844424936709743\n",
       "SURVEY_INSTANCE_ID                                                1\n",
       "LOCAL_APPLICATION_TIME             2022-05-13 20:35:51.668061-05:00\n",
       "LOCAL_DISBURSEMENT_TIME                   2022-05-13 21:21:51-05:00\n",
       "LOAN_NUMBER                                                       1\n",
       "LOC_LOAN_NUMBER                                                   0\n",
       "STATUS                                                           13\n",
       "LOAN_STATUS                                                    LATE\n",
       "LOAN_TYPE_ID                                                1009054\n",
       "REPAYMENT_STRATEGY                                             None\n",
       "TARGET_REPAYMENT_DATE                                          None\n",
       "CONSTANT_DAILY_INTEREST_RATE                                   None\n",
       "DAYS_BORROWED                                                    34\n",
       "LOCAL_ORIGINAL_DUE_DATE                                  2022-06-12\n",
       "LOCAL_DUE_DATE                                           2022-06-12\n",
       "AMOUNT                                                        500.0\n",
       "INTEREST_RATE                                                  24.0\n",
       "INSTALLMENT_COUNT                                                 1\n",
       "INSTALLMENT_PERIOD                                               30\n",
       "TOTAL_EXTENSION_PERIOD                                            0\n",
       "ROLLOVER_FEE_CHARGED                                          63.92\n",
       "ROLLOVER_FEE_REVERSED                                           0.0\n",
       "INTEREST_FEE                                                  120.0\n",
       "TAX_FEE                                                        19.2\n",
       "PROCESSING_FEE                                                  0.0\n",
       "GENERAL_FEE                                                     0.0\n",
       "TOTAL_FEES                                                    139.2\n",
       "INTEREST_ASSESSED                                             120.0\n",
       "TOTAL_RECEIVABLE                                             703.12\n",
       "STILL_OWED                                                   703.12\n",
       "TOTAL_PAID                                                      0.0\n",
       "AMOUNT_PAID                                                     0.0\n",
       "DISCOUNT_APPLIED                                                0.0\n",
       "LOCAL_LAST_PAYMENT_TIME                                        None\n",
       "LOCAL_PAID_OFF_TIME                                            None\n",
       "PREVIOUS_LOAN_AMOUNT                                            NaN\n",
       "LOCAL_REPEAT_TIME                                              None\n",
       "LOCAL_FIRST_LOAN_DISBURSED_TIME           2022-05-13 21:21:51-05:00\n",
       "LOCAL_PREV_LOAN_DISBURSED_TIME                                  NaT\n",
       "LOCAL_PREV_LOAN_DUE_DATE                                       None\n",
       "LOCAL_PREV_LOAN_REPAID_TIME                                     NaT\n",
       "DAYS_SINCE_FIRST_LOAN_DISBURSED                                   0\n",
       "DAYS_SINCE_PREV_LOAN_DISBURSED                                  NaN\n",
       "DAYS_SINCE_PREV_LOAN_REPAID                                     NaN\n",
       "DAYS_PAID_PREV_LOAN_AFTER_DD                                    NaN\n",
       "NEXT_LOCAL_APPLICATION_TIME                                    None\n",
       "NEXT_APPLICATION_DECISION                                      None\n",
       "NEXT_APPLICATION_STATUS                                        None\n",
       "FUNDING_SOURCE                                                 None\n",
       "NUMBER_OF_PAYMENTS                                                0\n",
       "CREDIT_SCORE                                                 0.7731\n",
       "MODEL_VERSION                                   gambit.mx.4.0.atlas\n",
       "NOTES                                                          None\n",
       "LOCAL_WRITEOFF_DATE                                            None\n",
       "WRITEOFF_AMOUNT                                                 0.0\n",
       "REPAID_AFTER_WRITEOFF                                           0.0\n",
       "LEGACY_PERSON_ID                                               None\n",
       "LAST_UPDATE                        2022-06-16 19:07:52.537000+00:00\n",
       "Name: 3, dtype: object"
      ]
     },
     "execution_count": 24,
     "metadata": {},
     "output_type": "execute_result"
    }
   ],
   "source": [
    "results.loc[3]"
   ]
  },
  {
   "cell_type": "code",
   "execution_count": null,
   "id": "29ae3ba5",
   "metadata": {},
   "outputs": [],
   "source": []
  },
  {
   "cell_type": "code",
   "execution_count": null,
   "id": "c688f455",
   "metadata": {},
   "outputs": [],
   "source": []
  },
  {
   "cell_type": "code",
   "execution_count": null,
   "id": "190a42e7",
   "metadata": {},
   "outputs": [],
   "source": []
  }
 ],
 "metadata": {
  "kernelspec": {
   "display_name": "Python 3 (ipykernel)",
   "language": "python",
   "name": "python3"
  },
  "language_info": {
   "codemirror_mode": {
    "name": "ipython",
    "version": 3
   },
   "file_extension": ".py",
   "mimetype": "text/x-python",
   "name": "python",
   "nbconvert_exporter": "python",
   "pygments_lexer": "ipython3",
   "version": "3.9.12"
  }
 },
 "nbformat": 4,
 "nbformat_minor": 5
}
