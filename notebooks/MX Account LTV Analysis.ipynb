{
 "cells": [
  {
   "cell_type": "markdown",
   "id": "620e512f",
   "metadata": {},
   "source": [
    "# MX Account LTV Analysis"
   ]
  },
  {
   "cell_type": "markdown",
   "id": "d091f3a7",
   "metadata": {},
   "source": [
    "Compute the 18mo and 50mo LTVs vs default rate reduction (relative %)."
   ]
  },
  {
   "cell_type": "code",
   "execution_count": 1,
   "id": "94ffbfab",
   "metadata": {},
   "outputs": [],
   "source": [
    "import os\n",
    "import sys\n",
    "module_path = os.path.abspath(os.path.join('..'))\n",
    "\n",
    "if module_path not in sys.path:\n",
    "    sys.path.append(module_path)"
   ]
  },
  {
   "cell_type": "code",
   "execution_count": 5,
   "id": "5fac2a7e",
   "metadata": {},
   "outputs": [
    {
     "data": {
      "text/plain": [
       "'/Users/kenny.liao/projects/pLTV'"
      ]
     },
     "execution_count": 5,
     "metadata": {},
     "output_type": "execute_result"
    }
   ],
   "source": [
    "module_path"
   ]
  },
  {
   "cell_type": "code",
   "execution_count": 4,
   "id": "dcc42400",
   "metadata": {},
   "outputs": [
    {
     "ename": "ModuleNotFoundError",
     "evalue": "No module named 'pLTV'",
     "output_type": "error",
     "traceback": [
      "\u001b[0;31m---------------------------------------------------------------------------\u001b[0m",
      "\u001b[0;31mModuleNotFoundError\u001b[0m                       Traceback (most recent call last)",
      "\u001b[0;32m/var/folders/cz/jxcg8r0x5y70_y_2fxt5bwkh0000gn/T/ipykernel_1952/3306582068.py\u001b[0m in \u001b[0;36m<module>\u001b[0;34m\u001b[0m\n\u001b[1;32m      1\u001b[0m \u001b[0;32mimport\u001b[0m \u001b[0mpandas\u001b[0m \u001b[0;32mas\u001b[0m \u001b[0mpd\u001b[0m\u001b[0;34m\u001b[0m\u001b[0;34m\u001b[0m\u001b[0m\n\u001b[1;32m      2\u001b[0m \u001b[0;32mimport\u001b[0m \u001b[0mnumpy\u001b[0m \u001b[0;32mas\u001b[0m \u001b[0mnp\u001b[0m\u001b[0;34m\u001b[0m\u001b[0;34m\u001b[0m\u001b[0m\n\u001b[0;32m----> 3\u001b[0;31m \u001b[0;32mfrom\u001b[0m \u001b[0mpLTV\u001b[0m\u001b[0;34m.\u001b[0m\u001b[0mlib\u001b[0m\u001b[0;34m.\u001b[0m\u001b[0mpyltv\u001b[0m \u001b[0;32mimport\u001b[0m \u001b[0mModel\u001b[0m\u001b[0;34m\u001b[0m\u001b[0;34m\u001b[0m\u001b[0m\n\u001b[0m\u001b[1;32m      4\u001b[0m \u001b[0;32mfrom\u001b[0m \u001b[0mdbm\u001b[0m \u001b[0;32mimport\u001b[0m \u001b[0mDBM\u001b[0m\u001b[0;34m\u001b[0m\u001b[0;34m\u001b[0m\u001b[0m\n\u001b[1;32m      5\u001b[0m \u001b[0;32mimport\u001b[0m \u001b[0mplotly\u001b[0m\u001b[0;34m\u001b[0m\u001b[0;34m\u001b[0m\u001b[0m\n",
      "\u001b[0;31mModuleNotFoundError\u001b[0m: No module named 'pLTV'"
     ]
    }
   ],
   "source": [
    "import pandas as pd\n",
    "import numpy as np\n",
    "from pLTV.lib.pyltv import Model\n",
    "from dbm import DBM\n",
    "import plotly\n",
    "from plotly import graph_objects as go\n",
    "from plotly.subplots import make_subplots\n",
    "from scipy.optimize import curve_fit\n",
    "\n",
    "# save local javascript for render plotly visualizations\n",
    "from IPython.display import Javascript\n",
    "Javascript(\n",
    "\"\"\"require.config({\n",
    " paths: { \n",
    "     plotly: 'https://cdn.plot.ly/plotly-latest.min'\n",
    " }\n",
    "});\"\"\"\n",
    ")\n",
    "\n",
    "from IPython.display import Javascript\n",
    "from plotly.offline import get_plotlyjs\n",
    "Javascript(get_plotlyjs())"
   ]
  },
  {
   "cell_type": "code",
   "execution_count": null,
   "id": "d1a7a6b3",
   "metadata": {},
   "outputs": [],
   "source": [
    "mx_data = pd.read_csv('data/ltv_report/mx_5-12.csv')"
   ]
  },
  {
   "cell_type": "markdown",
   "id": "7b08aac4",
   "metadata": {},
   "source": [
    "## LTV vs Default"
   ]
  },
  {
   "cell_type": "code",
   "execution_count": null,
   "id": "a25a501b",
   "metadata": {},
   "outputs": [],
   "source": [
    "market='mx'\n",
    "forecast_method='powerslope'\n",
    "min_months=5\n",
    "\n",
    "times=[18, 50]\n",
    "\n",
    "results = {}\n",
    "for x in 1 - np.linspace(0, 0.2, 5):\n",
    "    m = Model(mx_data, market=market, fcast_method=forecast_method, default_stress=x)\n",
    "    \n",
    "    ltvs = {}\n",
    "    for t in times:\n",
    "        # generate the forecast\n",
    "        m.forecast = m.forecast_data(m.data, min_months=min_months, n_months=t)\n",
    "        \n",
    "        # get data from month t\n",
    "        data_t = m.forecast.loc[t,:]\n",
    "        \n",
    "        # computed the weighted average default from t=0 to t=t\n",
    "        m.forecast['defaulted_origination'] = m.forecast['default_rate_365dpd']*m.forecast.origination_per_original\n",
    "        default = m.forecast.defaulted_origination.sum()/m.forecast.origination_per_original.sum()\n",
    "        \n",
    "        dcf_ltv = data_t['cumulative_dcf_ltv_per_original'].mean()\n",
    "        ltv = data_t['cumulative_ltv_per_original'].mean()\n",
    "        \n",
    "        ltvs[t] = (default, ltv, dcf_ltv)\n",
    "        \n",
    "    results[round(1-x, 2)] = ltvs\n",
    "        "
   ]
  },
  {
   "cell_type": "markdown",
   "id": "fb2f152f",
   "metadata": {},
   "source": [
    "## 18 mo LTV"
   ]
  },
  {
   "cell_type": "code",
   "execution_count": null,
   "id": "771e8985",
   "metadata": {},
   "outputs": [],
   "source": [
    "default=[]\n",
    "dcf_ltvs_18 = []\n",
    "ltvs_18 = []\n",
    "for r in results:\n",
    "    default.append(results[r][18][0])\n",
    "    dcf_ltvs_18.append(results[r][18][2])\n",
    "    ltvs_18.append(results[r][18][1])"
   ]
  },
  {
   "cell_type": "code",
   "execution_count": null,
   "id": "83bf8f64",
   "metadata": {},
   "outputs": [],
   "source": [
    "traces = [\n",
    "    go.Scatter(name='18 mo LTV', x=list(results.keys()), y=ltvs_18),\n",
    "    go.Scatter(name='18 mo DC LTV', x=list(results.keys()), y=dcf_ltvs_18)\n",
    "]\n",
    "\n",
    "fig = go.Figure(traces)\n",
    "fig.update_layout(title='LTV vs Default Rate Reduction',\n",
    "                 xaxis=dict(title='Default Rate Reduction (relative %)', tickformat='0.2%'),\n",
    "                 yaxis=dict(title='LTV ($)'))\n",
    "fig.show()"
   ]
  },
  {
   "cell_type": "code",
   "execution_count": null,
   "id": "af8cbabb",
   "metadata": {},
   "outputs": [],
   "source": [
    "# ltv = intercept + slope * dr\n",
    "\n",
    "def ltv_to_dr18(ltv):\n",
    "    slope = (ltvs_18[1] - ltvs_18[0])/5\n",
    "    intercept = ltvs_18[0]\n",
    "    return (ltv - intercept)/slope\n",
    "\n",
    "def dc_ltv_to_dr18(ltv):\n",
    "    slope = (dcf_ltvs_18[1] - dcf_ltvs_18[0])/5\n",
    "    intercept = dcf_ltvs_18[0]\n",
    "    return (ltv - intercept)/slope"
   ]
  },
  {
   "cell_type": "markdown",
   "id": "99d4566b",
   "metadata": {},
   "source": [
    "## 50 mo LTV"
   ]
  },
  {
   "cell_type": "code",
   "execution_count": null,
   "id": "e6306e51",
   "metadata": {},
   "outputs": [],
   "source": [
    "ltv_to_dr(46)"
   ]
  },
  {
   "cell_type": "code",
   "execution_count": null,
   "id": "49cf7963",
   "metadata": {},
   "outputs": [],
   "source": [
    "default50=[]\n",
    "dcf_ltvs_50 = []\n",
    "ltvs_50 = []\n",
    "for r in results:\n",
    "    default50.append(results[r][50][0])\n",
    "    dcf_ltvs_50.append(results[r][50][2])\n",
    "    ltvs_50.append(results[r][50][1])"
   ]
  },
  {
   "cell_type": "code",
   "execution_count": null,
   "id": "d4ed3d25",
   "metadata": {},
   "outputs": [],
   "source": [
    "traces2 = [\n",
    "    go.Scatter(name='50 mo LTV', x=list(results.keys()), y=ltvs_50),\n",
    "    go.Scatter(name='50 mo DC LTV', x=list(results.keys()), y=dcf_ltvs_50)\n",
    "]\n",
    "\n",
    "fig = go.Figure(traces2)\n",
    "fig.update_layout(title='LTV vs Default Rate Reduction',\n",
    "                 xaxis=dict(title='Default Rate Reduction (relative %)', tickformat='0.2%'),\n",
    "                 yaxis=dict(title='LTV ($)'))\n",
    "fig.show()"
   ]
  },
  {
   "cell_type": "code",
   "execution_count": null,
   "id": "16b17b1b",
   "metadata": {},
   "outputs": [],
   "source": [
    "# ltv = intercept + slope * dr\n",
    "\n",
    "def ltv_to_dr50(ltv):\n",
    "    slope = (ltvs_50[1] - ltvs_50[0])/5\n",
    "    intercept = ltvs_50[0]\n",
    "    return (ltv - intercept)/slope\n",
    "\n",
    "def dc_ltv_to_dr50(ltv):\n",
    "    slope = (dcf_ltvs_50[1] - dcf_ltvs_50[0])/5\n",
    "    intercept = dcf_ltvs_50[0]\n",
    "    return (ltv - intercept)/slope"
   ]
  },
  {
   "cell_type": "markdown",
   "id": "a5e694b2",
   "metadata": {},
   "source": [
    "---"
   ]
  }
 ],
 "metadata": {
  "kernelspec": {
   "display_name": "Python 3 (ipykernel)",
   "language": "python",
   "name": "python3"
  },
  "language_info": {
   "codemirror_mode": {
    "name": "ipython",
    "version": 3
   },
   "file_extension": ".py",
   "mimetype": "text/x-python",
   "name": "python",
   "nbconvert_exporter": "python",
   "pygments_lexer": "ipython3",
   "version": "3.9.7"
  }
 },
 "nbformat": 4,
 "nbformat_minor": 5
}
