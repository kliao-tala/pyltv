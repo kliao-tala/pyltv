{
 "cells": [
  {
   "cell_type": "code",
   "execution_count": 1,
   "id": "9cb496f0",
   "metadata": {},
   "outputs": [
    {
     "ename": "ModuleNotFoundError",
     "evalue": "No module named 'pyltv'",
     "output_type": "error",
     "traceback": [
      "\u001b[0;31m---------------------------------------------------------------------------\u001b[0m",
      "\u001b[0;31mModuleNotFoundError\u001b[0m                       Traceback (most recent call last)",
      "\u001b[0;32m/var/folders/cz/jxcg8r0x5y70_y_2fxt5bwkh0000gn/T/ipykernel_1209/3959447570.py\u001b[0m in \u001b[0;36m<module>\u001b[0;34m\u001b[0m\n\u001b[1;32m      1\u001b[0m \u001b[0;32mimport\u001b[0m \u001b[0mpandas\u001b[0m \u001b[0;32mas\u001b[0m \u001b[0mpd\u001b[0m\u001b[0;34m\u001b[0m\u001b[0;34m\u001b[0m\u001b[0m\n\u001b[1;32m      2\u001b[0m \u001b[0;32mimport\u001b[0m \u001b[0mnumpy\u001b[0m \u001b[0;32mas\u001b[0m \u001b[0mnp\u001b[0m\u001b[0;34m\u001b[0m\u001b[0;34m\u001b[0m\u001b[0m\n\u001b[0;32m----> 3\u001b[0;31m \u001b[0;32mfrom\u001b[0m \u001b[0mpyltv\u001b[0m \u001b[0;32mimport\u001b[0m \u001b[0mModel\u001b[0m\u001b[0;34m\u001b[0m\u001b[0;34m\u001b[0m\u001b[0m\n\u001b[0m\u001b[1;32m      4\u001b[0m \u001b[0;32mfrom\u001b[0m \u001b[0mdbm\u001b[0m \u001b[0;32mimport\u001b[0m \u001b[0mDBM\u001b[0m\u001b[0;34m\u001b[0m\u001b[0;34m\u001b[0m\u001b[0m\n\u001b[1;32m      5\u001b[0m \u001b[0;32mimport\u001b[0m \u001b[0mplotly\u001b[0m\u001b[0;34m\u001b[0m\u001b[0;34m\u001b[0m\u001b[0m\n",
      "\u001b[0;31mModuleNotFoundError\u001b[0m: No module named 'pyltv'"
     ]
    }
   ],
   "source": [
    "import pandas as pd\n",
    "import numpy as np\n",
    "from pyltv import Model\n",
    "from dbm import DBM\n",
    "import plotly\n",
    "from plotly import graph_objects as go\n",
    "from plotly.subplots import make_subplots\n",
    "from scipy.optimize import curve_fit\n",
    "\n",
    "# save local javascript for render plotly visualizations\n",
    "from IPython.display import Javascript\n",
    "Javascript(\n",
    "\"\"\"require.config({\n",
    " paths: { \n",
    "     plotly: 'https://cdn.plot.ly/plotly-latest.min'\n",
    " }\n",
    "});\"\"\"\n",
    ")\n",
    "\n",
    "from IPython.display import Javascript\n",
    "from plotly.offline import get_plotlyjs\n",
    "Javascript(get_plotlyjs())"
   ]
  },
  {
   "cell_type": "code",
   "execution_count": null,
   "id": "7d7733ee",
   "metadata": {},
   "outputs": [],
   "source": [
    "params = [\n",
    "    'cumulative_ltv_per_original',\n",
    "    'cumulative_dcf_ltv_per_original',\n",
    "    'cumulative_cm$_per_original', \n",
    "    'cumulative_revenue_per_original',\n",
    "    'cumulative_origination_per_original',\n",
    "    'cumulative_opex_per_original',\n",
    "    'cumulative_opex_coc_per_original',\n",
    "    'cumulative_opex_cpl_per_original'\n",
    "         ]"
   ]
  },
  {
   "cell_type": "code",
   "execution_count": null,
   "id": "277fd580",
   "metadata": {},
   "outputs": [],
   "source": [
    "dbm = DBM(user='kenny.liao')"
   ]
  },
  {
   "cell_type": "raw",
   "id": "dd20ad55",
   "metadata": {},
   "source": [
    "# pull most recent\n",
    "ke_data = dbm.get_market_data(market='ke', days_before=0)\n",
    "ph_data = dbm.get_market_data(market='ph', days_before=0)\n",
    "mx_data = dbm.get_market_data(market='mx', days_before=0)"
   ]
  },
  {
   "cell_type": "raw",
   "id": "b68b543c",
   "metadata": {},
   "source": [
    "ke_data.to_csv('data/ltv_report/ke_5-12.csv', index=False)\n",
    "ph_data.to_csv('data/ltv_report/ph_5-12.csv', index=False)\n",
    "mx_data.to_csv('data/ltv_report/mx_5-12.csv', index=False)"
   ]
  },
  {
   "cell_type": "code",
   "execution_count": 4,
   "id": "57b87f21",
   "metadata": {},
   "outputs": [],
   "source": [
    "ke_data = pd.read_csv('../data/ltv_report/ke_5-12.csv')\n",
    "ph_data = pd.read_csv('../data/ltv_report/ph_5-12.csv')\n",
    "mx_data = pd.read_csv('../data/ltv_report/mx_5-12.csv')"
   ]
  },
  {
   "cell_type": "code",
   "execution_count": 5,
   "id": "48cfba70",
   "metadata": {},
   "outputs": [
    {
     "name": "stdout",
     "output_type": "stream",
     "text": [
      "Raw data spans 2020-09 to 2022-01\n",
      "Total # of cohorts: 17\n",
      "\n",
      "Raw data spans 2020-09 to 2022-01\n",
      "Total # of cohorts: 17\n",
      "\n",
      "Raw data spans 2020-09 to 2022-01\n",
      "Total # of cohorts: 17\n",
      "\n"
     ]
    }
   ],
   "source": [
    "# generate models\n",
    "ke = Model(ke_data, market='ke')\n",
    "ph = Model(ph_data, market='ph')\n",
    "mx = Model(mx_data, market='mx')"
   ]
  },
  {
   "cell_type": "code",
   "execution_count": 6,
   "id": "38503a7f",
   "metadata": {},
   "outputs": [],
   "source": [
    "# forecast data\n",
    "ke.forecast = ke.forecast_data(ke.data, min_months=5, n_months=50)\n",
    "ph.forecast = ph.forecast_data(ph.data, min_months=5, n_months=50)\n",
    "mx.forecast = mx.forecast_data(mx.data, min_months=5, n_months=50)"
   ]
  },
  {
   "cell_type": "code",
   "execution_count": 7,
   "id": "d34ee99f",
   "metadata": {},
   "outputs": [],
   "source": [
    "# ke report\n",
    "ke_ftb = ke.forecast[ke.forecast.index==1][['cohort', 'Count Borrowers']].set_index('cohort')\n",
    "ke_ltv = ke.forecast[ke.forecast.index==50][['cohort'] + params].set_index('cohort')\n",
    "\n",
    "ke_report = pd.concat([ke_ftb, ke_ltv], axis=1)\n",
    "\n",
    "# ph report\n",
    "ph_ftb = ph.forecast[ph.forecast.index==1][['cohort', 'Count Borrowers']].set_index('cohort')\n",
    "ph_ltv = ph.forecast[ph.forecast.index==50][['cohort'] + params].set_index('cohort')\n",
    "\n",
    "ph_report = pd.concat([ph_ftb, ph_ltv], axis=1)\n",
    "\n",
    "# mx report\n",
    "mx_ftb = mx.forecast[mx.forecast.index==1][['cohort', 'Count Borrowers']].set_index('cohort')\n",
    "mx_ltv = mx.forecast[mx.forecast.index==50][['cohort'] + params].set_index('cohort')\n",
    "\n",
    "mx_report = pd.concat([mx_ftb, mx_ltv], axis=1)"
   ]
  },
  {
   "cell_type": "markdown",
   "id": "2aed05f6",
   "metadata": {},
   "source": [
    "## LTV Report"
   ]
  },
  {
   "cell_type": "markdown",
   "id": "a62ff033",
   "metadata": {},
   "source": [
    "### 18 mo LTVs"
   ]
  },
  {
   "cell_type": "code",
   "execution_count": 8,
   "id": "7161551f",
   "metadata": {},
   "outputs": [
    {
     "name": "stdout",
     "output_type": "stream",
     "text": [
      "KE: $15.74\n",
      "PH: $30.01\n",
      "MX: $36.15\n"
     ]
    }
   ],
   "source": [
    "ke_ltv18 = round(ke.forecast[ke.forecast.index==18]['cumulative_ltv_per_original'].mean(), 2)\n",
    "ph_ltv18 = round(ph.forecast[ph.forecast.index==18]['cumulative_ltv_per_original'].mean(), 2)\n",
    "mx_ltv18 = round(mx.forecast[mx.forecast.index==18]['cumulative_ltv_per_original'].mean(), 2)\n",
    "print(f'KE: ${ke_ltv18}')\n",
    "print(f'PH: ${ph_ltv18}')\n",
    "print(f'MX: ${mx_ltv18}')"
   ]
  },
  {
   "cell_type": "markdown",
   "id": "a6296168",
   "metadata": {},
   "source": [
    "### 50 mo LTVs"
   ]
  },
  {
   "cell_type": "code",
   "execution_count": 9,
   "id": "8ba8b347",
   "metadata": {},
   "outputs": [
    {
     "name": "stdout",
     "output_type": "stream",
     "text": [
      "KE: $40.53\n",
      "PH: $76.15\n",
      "MX: $67.85\n"
     ]
    }
   ],
   "source": [
    "ke_ltv50 = round(ke.forecast[ke.forecast.index==50]['cumulative_ltv_per_original'].mean(), 2)\n",
    "ph_ltv50 = round(ph.forecast[ph.forecast.index==50]['cumulative_ltv_per_original'].mean(), 2)\n",
    "mx_ltv50 = round(mx.forecast[mx.forecast.index==50]['cumulative_ltv_per_original'].mean(), 2)\n",
    "print(f'KE: ${ke_ltv50}')\n",
    "print(f'PH: ${ph_ltv50}')\n",
    "print(f'MX: ${mx_ltv50}')"
   ]
  },
  {
   "cell_type": "markdown",
   "id": "fe188c64",
   "metadata": {},
   "source": [
    "### 50 mo Summary"
   ]
  },
  {
   "cell_type": "code",
   "execution_count": 10,
   "id": "6d5814d7",
   "metadata": {},
   "outputs": [
    {
     "data": {
      "text/html": [
       "<div>\n",
       "<style scoped>\n",
       "    .dataframe tbody tr th:only-of-type {\n",
       "        vertical-align: middle;\n",
       "    }\n",
       "\n",
       "    .dataframe tbody tr th {\n",
       "        vertical-align: top;\n",
       "    }\n",
       "\n",
       "    .dataframe thead th {\n",
       "        text-align: right;\n",
       "    }\n",
       "</style>\n",
       "<table border=\"1\" class=\"dataframe\">\n",
       "  <thead>\n",
       "    <tr style=\"text-align: right;\">\n",
       "      <th></th>\n",
       "      <th>KE</th>\n",
       "      <th>PH</th>\n",
       "      <th>MX</th>\n",
       "    </tr>\n",
       "  </thead>\n",
       "  <tbody>\n",
       "    <tr>\n",
       "      <th>cumulative_ltv_per_original</th>\n",
       "      <td>40.53</td>\n",
       "      <td>76.15</td>\n",
       "      <td>67.85</td>\n",
       "    </tr>\n",
       "    <tr>\n",
       "      <th>cumulative_dcf_ltv_per_original</th>\n",
       "      <td>31.38</td>\n",
       "      <td>59.20</td>\n",
       "      <td>55.14</td>\n",
       "    </tr>\n",
       "    <tr>\n",
       "      <th>cumulative_cm$_per_original</th>\n",
       "      <td>59.02</td>\n",
       "      <td>95.48</td>\n",
       "      <td>90.02</td>\n",
       "    </tr>\n",
       "    <tr>\n",
       "      <th>cumulative_revenue_per_original</th>\n",
       "      <td>123.71</td>\n",
       "      <td>161.81</td>\n",
       "      <td>193.92</td>\n",
       "    </tr>\n",
       "    <tr>\n",
       "      <th>cumulative_origination_per_original</th>\n",
       "      <td>810.36</td>\n",
       "      <td>913.68</td>\n",
       "      <td>958.24</td>\n",
       "    </tr>\n",
       "    <tr>\n",
       "      <th>cumulative_opex_per_original</th>\n",
       "      <td>18.49</td>\n",
       "      <td>19.34</td>\n",
       "      <td>22.17</td>\n",
       "    </tr>\n",
       "    <tr>\n",
       "      <th>cumulative_opex_coc_per_original</th>\n",
       "      <td>8.78</td>\n",
       "      <td>9.90</td>\n",
       "      <td>10.38</td>\n",
       "    </tr>\n",
       "    <tr>\n",
       "      <th>cumulative_opex_cpl_per_original</th>\n",
       "      <td>9.71</td>\n",
       "      <td>9.44</td>\n",
       "      <td>11.79</td>\n",
       "    </tr>\n",
       "  </tbody>\n",
       "</table>\n",
       "</div>"
      ],
      "text/plain": [
       "                                         KE      PH      MX\n",
       "cumulative_ltv_per_original           40.53   76.15   67.85\n",
       "cumulative_dcf_ltv_per_original       31.38   59.20   55.14\n",
       "cumulative_cm$_per_original           59.02   95.48   90.02\n",
       "cumulative_revenue_per_original      123.71  161.81  193.92\n",
       "cumulative_origination_per_original  810.36  913.68  958.24\n",
       "cumulative_opex_per_original          18.49   19.34   22.17\n",
       "cumulative_opex_coc_per_original       8.78    9.90   10.38\n",
       "cumulative_opex_cpl_per_original       9.71    9.44   11.79"
      ]
     },
     "execution_count": 10,
     "metadata": {},
     "output_type": "execute_result"
    }
   ],
   "source": [
    "ke_50 = round(ke.forecast[ke.forecast.index==50][params].mean(), 2)\n",
    "ph_50 = round(ph.forecast[ph.forecast.index==50][params].mean(), 2)\n",
    "mx_50 = round(mx.forecast[mx.forecast.index==50][params].mean(), 2)\n",
    "\n",
    "summary = pd.concat([ke_50, ph_50, mx_50], axis=1)\n",
    "summary.columns = ['KE', 'PH', 'MX']\n",
    "summary"
   ]
  },
  {
   "cell_type": "markdown",
   "id": "0ed17128",
   "metadata": {},
   "source": [
    "## Plotting"
   ]
  },
  {
   "cell_type": "code",
   "execution_count": 46,
   "id": "d10a02e9",
   "metadata": {},
   "outputs": [
    {
     "name": "stdout",
     "output_type": "stream",
     "text": [
      "Backtesting 3 months.\n",
      "10 cohorts will be backtested.\n",
      "Backtesting 3 months.\n",
      "10 cohorts will be backtested.\n",
      "Backtesting 3 months.\n",
      "10 cohorts will be backtested.\n"
     ]
    }
   ],
   "source": [
    "ke.backtest, ke.backtest_report = ke.backtest_data(ke.data, min_months=5, hold_months=3, fcast_months=50)\n",
    "mx.backtest, mx.backtest_report = mx.backtest_data(mx.data, min_months=5, hold_months=3, fcast_months=50)\n",
    "ph.backtest, ph.backtest_report = ph.backtest_data(ph.data, min_months=5, hold_months=3, fcast_months=50)"
   ]
  },
  {
   "cell_type": "code",
   "execution_count": 59,
   "id": "11facaee",
   "metadata": {},
   "outputs": [
    {
     "data": {
      "application/vnd.plotly.v1+json": {
       "config": {
        "plotlyServerURL": "https://plot.ly"
       },
       "data": [
        {
         "line": {
          "width": 2
         },
         "mode": "markers+lines",
         "name": "2020-09-actual",
         "type": "scatter",
         "x": [
          1,
          2,
          3,
          4,
          5,
          6,
          7,
          8,
          9,
          10,
          11,
          12,
          13,
          14,
          15,
          16,
          17
         ],
         "y": [
          7801,
          4481,
          3661,
          3050,
          2549,
          2170,
          1952,
          1673,
          1594,
          1429,
          1362,
          1244,
          1177,
          1102,
          1054,
          893,
          916
         ]
        },
        {
         "line": {
          "dash": "dash",
          "width": 3
         },
         "mode": "lines",
         "name": "2020-09-forecast",
         "type": "scatter",
         "x": [
          15,
          16,
          17,
          18,
          19,
          20,
          21,
          22,
          23,
          24,
          25,
          26,
          27,
          28,
          29,
          30,
          31,
          32,
          33,
          34,
          35,
          36,
          37,
          38,
          39,
          40,
          41,
          42,
          43,
          44,
          45,
          46,
          47,
          48,
          49,
          50
         ],
         "y": [
          1048.6705922161834,
          1001.1229594360103,
          958.4243505806563,
          919.836321284262,
          883.0428684328915,
          847.7211536955758,
          813.8123075477528,
          781.2598152458427,
          750.0094226360088,
          720.0090457305685,
          691.2086839013456,
          663.5603365452918,
          637.0179230834801,
          611.5372061601408,
          587.0757179137353,
          563.5926891971859,
          541.0489816292984,
          519.4070223641265,
          498.6307414695614,
          478.68551181077896,
          459.53809133834784,
          441.15656768481387,
          423.51030497742136,
          406.5698927783245,
          390.30709706719153,
          374.69481318450386,
          359.7070206571237,
          345.3187398308387,
          331.50599023760515,
          318.2457506281009,
          305.51592060297685,
          293.29528377885777,
          281.56347242770346,
          270.3009335305953,
          259.4888961893715,
          249.1093403417966
         ]
        },
        {
         "line": {
          "width": 2
         },
         "mode": "markers+lines",
         "name": "2020-10-actual",
         "type": "scatter",
         "x": [
          1,
          2,
          3,
          4,
          5,
          6,
          7,
          8,
          9,
          10,
          11,
          12,
          13,
          14,
          15,
          16
         ],
         "y": [
          9831,
          5296,
          4369,
          3573,
          2953,
          2667,
          2377,
          2181,
          1939,
          1773,
          1622,
          1523,
          1457,
          1363,
          1177,
          1093
         ]
        },
        {
         "line": {
          "dash": "dash",
          "width": 3
         },
         "mode": "lines",
         "name": "2020-10-forecast",
         "type": "scatter",
         "x": [
          14,
          15,
          16,
          17,
          18,
          19,
          20,
          21,
          22,
          23,
          24,
          25,
          26,
          27,
          28,
          29,
          30,
          31,
          32,
          33,
          34,
          35,
          36,
          37,
          38,
          39,
          40,
          41,
          42,
          43,
          44,
          45,
          46,
          47,
          48,
          49,
          50
         ],
         "y": [
          1379.4621650541173,
          1310.9897537913873,
          1250.0181234035808,
          1195.3294762665273,
          1145.9608526245302,
          1100.122418519549,
          1056.117521778767,
          1013.8728209076163,
          973.3179080713115,
          934.3851917484591,
          897.0097840785207,
          861.1293927153799,
          826.6842170067646,
          793.616848326494,
          761.8721743934342,
          731.3972874176968,
          702.1413959209889,
          674.0557400841493,
          647.0935104807833,
          621.209770061552,
          596.36137925909,
          572.5069240887262,
          549.6066471251772,
          527.6223812401701,
          506.5174859905633,
          486.2567865509407,
          466.8065150889031,
          448.1342544853469,
          430.208884305933,
          413.00052893369565,
          396.4805077763478,
          380.6212874652939,
          365.3964359666822,
          350.7805785280148,
          336.74935538689425,
          323.2793811714185,
          310.34820592456174
         ]
        },
        {
         "line": {
          "width": 2
         },
         "mode": "markers+lines",
         "name": "2020-11-actual",
         "type": "scatter",
         "x": [
          1,
          2,
          3,
          4,
          5,
          6,
          7,
          8,
          9,
          10,
          11,
          12,
          13,
          14,
          15
         ],
         "y": [
          8113,
          4447,
          3517,
          2831,
          2479,
          2149,
          1937,
          1679,
          1555,
          1434,
          1331,
          1296,
          1180,
          1011,
          922
         ]
        },
        {
         "line": {
          "dash": "dash",
          "width": 3
         },
         "mode": "lines",
         "name": "2020-11-forecast",
         "type": "scatter",
         "x": [
          13,
          14,
          15,
          16,
          17,
          18,
          19,
          20,
          21,
          22,
          23,
          24,
          25,
          26,
          27,
          28,
          29,
          30,
          31,
          32,
          33,
          34,
          35,
          36,
          37,
          38,
          39,
          40,
          41,
          42,
          43,
          44,
          45,
          46,
          47,
          48,
          49,
          50
         ],
         "y": [
          1220.6108261282614,
          1154.726821616431,
          1096.5907692793814,
          1044.860606573784,
          998.4925358444058,
          956.6617486280995,
          918.3952786829756,
          881.6594675356565,
          846.3930888342302,
          812.537365280861,
          780.0358706696265,
          748.8344358428415,
          718.8810584091277,
          690.1258160727626,
          662.5207834298521,
          636.0199520926581,
          610.5791540089517,
          586.1559878485937,
          562.7097483346499,
          540.201358401264,
          518.5933040652134,
          497.84957190260485,
          477.9355890265006,
          458.8181654654406,
          440.4654388468229,
          422.84682129295,
          405.932948441232,
          389.69563050358266,
          374.10780528343935,
          359.14349307210176,
          344.7777533492177,
          330.98664321524893,
          317.747177486639,
          305.0372903871734,
          292.8357987716864,
          281.12236682081897,
          269.87747214798617,
          259.0823732620667
         ]
        },
        {
         "line": {
          "width": 2
         },
         "mode": "markers+lines",
         "name": "2020-12-actual",
         "type": "scatter",
         "x": [
          1,
          2,
          3,
          4,
          5,
          6,
          7,
          8,
          9,
          10,
          11,
          12,
          13,
          14
         ],
         "y": [
          8765,
          4585,
          3570,
          2995,
          2462,
          2162,
          1846,
          1682,
          1546,
          1408,
          1291,
          1214,
          1028,
          971
         ]
        },
        {
         "line": {
          "dash": "dash",
          "width": 3
         },
         "mode": "lines",
         "name": "2020-12-forecast",
         "type": "scatter",
         "x": [
          12,
          13,
          14,
          15,
          16,
          17,
          18,
          19,
          20,
          21,
          22,
          23,
          24,
          25,
          26,
          27,
          28,
          29,
          30,
          31,
          32,
          33,
          34,
          35,
          36,
          37,
          38,
          39,
          40,
          41,
          42,
          43,
          44,
          45,
          46,
          47,
          48,
          49,
          50
         ],
         "y": [
          1204.6886321854254,
          1130.3948660417495,
          1065.7006762539925,
          1008.8043050779804,
          958.3342889538072,
          913.2272987438764,
          872.6455526115768,
          835.9195653522166,
          802.482782738128,
          770.3834714286029,
          739.5681325714588,
          709.9854072686004,
          681.5859909778563,
          654.3225513387422,
          628.1496492851925,
          603.0236633137848,
          578.9027167812334,
          555.7466081099841,
          533.5167437855847,
          512.1760740341613,
          491.6890310727949,
          472.021469829883,
          453.14061103668774,
          435.0149865952202,
          417.6143871314113,
          400.9098116461549,
          384.8734191803087,
          369.4784824130963,
          354.69934311657244,
          340.51136939190957,
          326.89091461623315,
          313.81527803158383,
          301.2626669103205,
          289.21216023390764,
          277.64367382455134,
          266.5379268715693,
          255.8764097967065,
          245.6413534048382,
          235.8156992686447
         ]
        },
        {
         "line": {
          "width": 2
         },
         "mode": "markers+lines",
         "name": "2021-01-actual",
         "type": "scatter",
         "x": [
          1,
          2,
          3,
          4,
          5,
          6,
          7,
          8,
          9,
          10,
          11,
          12,
          13
         ],
         "y": [
          10295,
          5359,
          4436,
          3494,
          3044,
          2552,
          2361,
          2088,
          1895,
          1775,
          1566,
          1389,
          1278
         ]
        },
        {
         "line": {
          "dash": "dash",
          "width": 3
         },
         "mode": "lines",
         "name": "2021-01-forecast",
         "type": "scatter",
         "x": [
          11,
          12,
          13,
          14,
          15,
          16,
          17,
          18,
          19,
          20,
          21,
          22,
          23,
          24,
          25,
          26,
          27,
          28,
          29,
          30,
          31,
          32,
          33,
          34,
          35,
          36,
          37,
          38,
          39,
          40,
          41,
          42,
          43,
          44,
          45,
          46,
          47,
          48,
          49,
          50
         ],
         "y": [
          1649.2636510826587,
          1542.2689646209844,
          1449.9837870085853,
          1369.471581006287,
          1298.5400636445063,
          1235.5175684081432,
          1179.105881653017,
          1128.2805856202137,
          1082.22186705307,
          1038.932992370947,
          997.375672676109,
          957.4806457690646,
          919.1814199383019,
          882.4141631407698,
          847.117596615139,
          813.2328927505333,
          780.703577040512,
          749.4754339588915,
          719.4964166005358,
          690.7165599365143,
          663.0878975390538,
          636.5643816374916,
          611.1018063719919,
          586.6577341171122,
          563.1914247524277,
          540.6637677623306,
          519.0372170518373,
          498.2757283697638,
          478.34469923497323,
          459.2109112655743,
          440.8424748149513,
          423.20877582235323,
          406.28042478945906,
          390.02920779788064,
          374.4280394859654,
          359.4509179065268,
          345.07288119026566,
          331.269965942655,
          318.0191673049488,
          305.2984006127508
         ]
        },
        {
         "line": {
          "width": 2
         },
         "mode": "markers+lines",
         "name": "2021-02-actual",
         "type": "scatter",
         "x": [
          1,
          2,
          3,
          4,
          5,
          6,
          7,
          8,
          9,
          10,
          11,
          12
         ],
         "y": [
          9331,
          5004,
          3728,
          3100,
          2589,
          2271,
          2034,
          1821,
          1673,
          1475,
          1274,
          1194
         ]
        },
        {
         "line": {
          "dash": "dash",
          "width": 3
         },
         "mode": "lines",
         "name": "2021-02-forecast",
         "type": "scatter",
         "x": [
          10,
          11,
          12,
          13,
          14,
          15,
          16,
          17,
          18,
          19,
          20,
          21,
          22,
          23,
          24,
          25,
          26,
          27,
          28,
          29,
          30,
          31,
          32,
          33,
          34,
          35,
          36,
          37,
          38,
          39,
          40,
          41,
          42,
          43,
          44,
          45,
          46,
          47,
          48,
          49,
          50
         ],
         "y": [
          1538.0634939293266,
          1425.3988005630479,
          1329.76583907334,
          1247.468367597437,
          1175.8206980066475,
          1112.8220805536796,
          1056.9499024306178,
          1007.0238757289611,
          962.1142387992985,
          921.4781318163867,
          884.5145174457882,
          849.1339367479566,
          815.1685792780382,
          782.5618361069166,
          751.25936266264,
          721.2089881561343,
          692.3606286298889,
          664.6662034846934,
          638.0795553453056,
          612.5563731314934,
          588.0541182062336,
          564.5319534779842,
          541.9506753388648,
          520.2726483253102,
          499.46174239229777,
          479.48327269660587,
          460.3039417887416,
          441.89178411719195,
          424.2161127525043,
          407.247468242404,
          390.95756951270783,
          375.31926673219954,
          360.3064960629115,
          345.89423622039504,
          332.0584667715792,
          318.776128100716,
          306.0250829766873,
          293.78407965761977,
          282.032716471315,
          270.7514078124624,
          259.92135149996386
         ]
        },
        {
         "line": {
          "width": 2
         },
         "mode": "markers+lines",
         "name": "2021-03-actual",
         "type": "scatter",
         "x": [
          1,
          2,
          3,
          4,
          5,
          6,
          7,
          8,
          9,
          10,
          11
         ],
         "y": [
          10225,
          5046,
          4136,
          3325,
          2830,
          2401,
          2133,
          1920,
          1710,
          1392,
          1279
         ]
        },
        {
         "line": {
          "dash": "dash",
          "width": 3
         },
         "mode": "lines",
         "name": "2021-03-forecast",
         "type": "scatter",
         "x": [
          9,
          10,
          11,
          12,
          13,
          14,
          15,
          16,
          17,
          18,
          19,
          20,
          21,
          22,
          23,
          24,
          25,
          26,
          27,
          28,
          29,
          30,
          31,
          32,
          33,
          34,
          35,
          36,
          37,
          38,
          39,
          40,
          41,
          42,
          43,
          44,
          45,
          46,
          47,
          48,
          49,
          50
         ],
         "y": [
          1743.4466119605918,
          1599.3166805285155,
          1479.227397859281,
          1377.4857053349651,
          1290.0835762766935,
          1214.1139073287577,
          1147.4145134019775,
          1088.3423991219158,
          1035.6257433274232,
          988.2639939594612,
          945.4587170962615,
          906.5646630427618,
          870.3020765210514,
          835.4899934602092,
          802.0703937218009,
          769.9875779729288,
          739.1880748540116,
          709.6205518598512,
          681.235729785457,
          653.9863005940388,
          627.8268485702772,
          602.7137746274661,
          578.6052236423675,
          555.4610146966728,
          533.2425741088059,
          511.9128711444536,
          491.4363562986755,
          471.77890204672843,
          452.90774596485926,
          434.7914361262649,
          417.3997786812143,
          400.70378753396574,
          384.6756360326071,
          369.2886105913028,
          354.5170661676507,
          340.33638352094465,
          326.72292818010686,
          313.65401105290255,
          301.10785061078644,
          289.063536586355,
          277.50099512290075,
          266.4009553179847
         ]
        },
        {
         "line": {
          "width": 2
         },
         "mode": "markers+lines",
         "name": "2021-04-actual",
         "type": "scatter",
         "x": [
          1,
          2,
          3,
          4,
          5,
          6,
          7,
          8,
          9,
          10
         ],
         "y": [
          9497,
          4950,
          3793,
          3155,
          2633,
          2300,
          2047,
          1802,
          1503,
          1380
         ]
        },
        {
         "line": {
          "dash": "dash",
          "width": 3
         },
         "mode": "lines",
         "name": "2021-04-forecast",
         "type": "scatter",
         "x": [
          8,
          9,
          10,
          11,
          12,
          13,
          14,
          15,
          16,
          17,
          18,
          19,
          20,
          21,
          22,
          23,
          24,
          25,
          26,
          27,
          28,
          29,
          30,
          31,
          32,
          33,
          34,
          35,
          36,
          37,
          38,
          39,
          40,
          41,
          42,
          43,
          44,
          45,
          46,
          47,
          48,
          49,
          50
         ],
         "y": [
          1837.1969387026897,
          1670.0604031068654,
          1533.4780546775605,
          1419.5725396450928,
          1322.9890498210311,
          1239.9544899942914,
          1167.7300321526595,
          1104.2771908339118,
          1048.0459405481483,
          997.835685801423,
          952.7013620991029,
          911.8884041534785,
          874.7867015603448,
          839.795233497931,
          806.2034241580138,
          773.9552871916932,
          742.9970757040254,
          713.2771926758644,
          684.7461049688297,
          657.3562607700765,
          631.0620103392733,
          605.8195299257025,
          581.5867487286744,
          558.3232787795273,
          535.9903476283462,
          514.5507337232123,
          493.9687043742838,
          474.20995619931244,
          455.2415579513399,
          437.0318956332863,
          419.55061980795483,
          402.7685950156366,
          386.65785121501114,
          371.1915371664107,
          356.34387567975426,
          342.0901206525641,
          328.4065158264615,
          315.27025519340305,
          302.6594449856669,
          290.5530671862402,
          278.9309444987906,
          267.7737067188389,
          257.06275845008537
         ]
        },
        {
         "line": {
          "width": 2
         },
         "mode": "markers+lines",
         "name": "2021-05-actual",
         "type": "scatter",
         "x": [
          1,
          2,
          3,
          4,
          5,
          6,
          7,
          8,
          9
         ],
         "y": [
          10314,
          5214,
          4173,
          3319,
          2721,
          2368,
          2100,
          1716,
          1541
         ]
        },
        {
         "line": {
          "dash": "dash",
          "width": 3
         },
         "mode": "lines",
         "name": "2021-05-forecast",
         "type": "scatter",
         "x": [
          7,
          8,
          9,
          10,
          11,
          12,
          13,
          14,
          15,
          16,
          17,
          18,
          19,
          20,
          21,
          22,
          23,
          24,
          25,
          26,
          27,
          28,
          29,
          30,
          31,
          32,
          33,
          34,
          35,
          36,
          37,
          38,
          39,
          40,
          41,
          42,
          43,
          44,
          45,
          46,
          47,
          48,
          49,
          50
         ],
         "y": [
          2080.887358470982,
          1860.475032545844,
          1685.5195668630854,
          1543.0050360437765,
          1424.4941277888017,
          1324.2681887737567,
          1238.3084396006757,
          1163.7047859985537,
          1098.2961064273927,
          1040.4425260170108,
          988.8763049860731,
          942.6013276826458,
          900.8236188312625,
          862.9022315669243,
          828.3138457993165,
          795.1812919673437,
          763.37404028865,
          732.8390786771039,
          703.5255155300197,
          675.3844949088189,
          648.3691151124661,
          622.4343505079676,
          597.5369764876488,
          573.6354974281428,
          550.6900775310171,
          528.6624744297764,
          507.51597545258534,
          487.2153364344819,
          467.72672297710267,
          449.0176540580185,
          431.05694789569776,
          413.81466997986985,
          397.262083180675,
          381.371599853448,
          366.1167358593101,
          351.4720664249377,
          337.41318376794015,
          323.9166564172226,
          310.95999016053366,
          298.5215905541123,
          286.5807269319478,
          275.1174978546699,
          264.11279794048306,
          253.54828602286375
         ]
        },
        {
         "line": {
          "width": 2
         },
         "mode": "markers+lines",
         "name": "2021-06-actual",
         "type": "scatter",
         "x": [
          1,
          2,
          3,
          4,
          5,
          6,
          7,
          8
         ],
         "y": [
          9533,
          4763,
          3697,
          2899,
          2512,
          2164,
          1773,
          1571
         ]
        },
        {
         "line": {
          "dash": "dash",
          "width": 3
         },
         "mode": "lines",
         "name": "2021-06-forecast",
         "type": "scatter",
         "x": [
          6,
          7,
          8,
          9,
          10,
          11,
          12,
          13,
          14,
          15,
          16,
          17,
          18,
          19,
          20,
          21,
          22,
          23,
          24,
          25,
          26,
          27,
          28,
          29,
          30,
          31,
          32,
          33,
          34,
          35,
          36,
          37,
          38,
          39,
          40,
          41,
          42,
          43,
          44,
          45,
          46,
          47,
          48,
          49,
          50
         ],
         "y": [
          2142.750062041407,
          1873.2345693103769,
          1667.3303991368268,
          1504.580158021547,
          1372.5039434554676,
          1263.0428835901637,
          1170.7535469710504,
          1091.8224395268119,
          1023.4959527848713,
          963.7345188836675,
          910.9942467589464,
          864.084292815949,
          822.0709395419681,
          784.2114264579952,
          749.9072750003223,
          718.670707169821,
          689.9238788830281,
          662.326923727707,
          635.8338467785987,
          610.4004929074547,
          585.9844731911566,
          562.5450942635102,
          540.0432904929697,
          518.441558873251,
          497.7038965183209,
          477.79574065758806,
          458.68391103128454,
          440.3365545900332,
          422.7230924064318,
          405.81416871017456,
          389.5816019617676,
          373.99833788329687,
          359.03840436796503,
          344.6768681932464,
          330.88979346551656,
          317.65420172689585,
          304.94803365782,
          292.7501123115072,
          281.0401078190469,
          269.798503506285,
          259.00656336603356,
          248.6463008313922,
          238.70044879813653,
          229.15243084621108,
          219.9863336123626
         ]
        }
       ],
       "layout": {
        "template": {
         "data": {
          "bar": [
           {
            "error_x": {
             "color": "#2a3f5f"
            },
            "error_y": {
             "color": "#2a3f5f"
            },
            "marker": {
             "line": {
              "color": "white",
              "width": 0.5
             },
             "pattern": {
              "fillmode": "overlay",
              "size": 10,
              "solidity": 0.2
             }
            },
            "type": "bar"
           }
          ],
          "barpolar": [
           {
            "marker": {
             "line": {
              "color": "white",
              "width": 0.5
             },
             "pattern": {
              "fillmode": "overlay",
              "size": 10,
              "solidity": 0.2
             }
            },
            "type": "barpolar"
           }
          ],
          "carpet": [
           {
            "aaxis": {
             "endlinecolor": "#2a3f5f",
             "gridcolor": "#C8D4E3",
             "linecolor": "#C8D4E3",
             "minorgridcolor": "#C8D4E3",
             "startlinecolor": "#2a3f5f"
            },
            "baxis": {
             "endlinecolor": "#2a3f5f",
             "gridcolor": "#C8D4E3",
             "linecolor": "#C8D4E3",
             "minorgridcolor": "#C8D4E3",
             "startlinecolor": "#2a3f5f"
            },
            "type": "carpet"
           }
          ],
          "choropleth": [
           {
            "colorbar": {
             "outlinewidth": 0,
             "ticks": ""
            },
            "type": "choropleth"
           }
          ],
          "contour": [
           {
            "colorbar": {
             "outlinewidth": 0,
             "ticks": ""
            },
            "colorscale": [
             [
              0,
              "#0d0887"
             ],
             [
              0.1111111111111111,
              "#46039f"
             ],
             [
              0.2222222222222222,
              "#7201a8"
             ],
             [
              0.3333333333333333,
              "#9c179e"
             ],
             [
              0.4444444444444444,
              "#bd3786"
             ],
             [
              0.5555555555555556,
              "#d8576b"
             ],
             [
              0.6666666666666666,
              "#ed7953"
             ],
             [
              0.7777777777777778,
              "#fb9f3a"
             ],
             [
              0.8888888888888888,
              "#fdca26"
             ],
             [
              1,
              "#f0f921"
             ]
            ],
            "type": "contour"
           }
          ],
          "contourcarpet": [
           {
            "colorbar": {
             "outlinewidth": 0,
             "ticks": ""
            },
            "type": "contourcarpet"
           }
          ],
          "heatmap": [
           {
            "colorbar": {
             "outlinewidth": 0,
             "ticks": ""
            },
            "colorscale": [
             [
              0,
              "#0d0887"
             ],
             [
              0.1111111111111111,
              "#46039f"
             ],
             [
              0.2222222222222222,
              "#7201a8"
             ],
             [
              0.3333333333333333,
              "#9c179e"
             ],
             [
              0.4444444444444444,
              "#bd3786"
             ],
             [
              0.5555555555555556,
              "#d8576b"
             ],
             [
              0.6666666666666666,
              "#ed7953"
             ],
             [
              0.7777777777777778,
              "#fb9f3a"
             ],
             [
              0.8888888888888888,
              "#fdca26"
             ],
             [
              1,
              "#f0f921"
             ]
            ],
            "type": "heatmap"
           }
          ],
          "heatmapgl": [
           {
            "colorbar": {
             "outlinewidth": 0,
             "ticks": ""
            },
            "colorscale": [
             [
              0,
              "#0d0887"
             ],
             [
              0.1111111111111111,
              "#46039f"
             ],
             [
              0.2222222222222222,
              "#7201a8"
             ],
             [
              0.3333333333333333,
              "#9c179e"
             ],
             [
              0.4444444444444444,
              "#bd3786"
             ],
             [
              0.5555555555555556,
              "#d8576b"
             ],
             [
              0.6666666666666666,
              "#ed7953"
             ],
             [
              0.7777777777777778,
              "#fb9f3a"
             ],
             [
              0.8888888888888888,
              "#fdca26"
             ],
             [
              1,
              "#f0f921"
             ]
            ],
            "type": "heatmapgl"
           }
          ],
          "histogram": [
           {
            "marker": {
             "pattern": {
              "fillmode": "overlay",
              "size": 10,
              "solidity": 0.2
             }
            },
            "type": "histogram"
           }
          ],
          "histogram2d": [
           {
            "colorbar": {
             "outlinewidth": 0,
             "ticks": ""
            },
            "colorscale": [
             [
              0,
              "#0d0887"
             ],
             [
              0.1111111111111111,
              "#46039f"
             ],
             [
              0.2222222222222222,
              "#7201a8"
             ],
             [
              0.3333333333333333,
              "#9c179e"
             ],
             [
              0.4444444444444444,
              "#bd3786"
             ],
             [
              0.5555555555555556,
              "#d8576b"
             ],
             [
              0.6666666666666666,
              "#ed7953"
             ],
             [
              0.7777777777777778,
              "#fb9f3a"
             ],
             [
              0.8888888888888888,
              "#fdca26"
             ],
             [
              1,
              "#f0f921"
             ]
            ],
            "type": "histogram2d"
           }
          ],
          "histogram2dcontour": [
           {
            "colorbar": {
             "outlinewidth": 0,
             "ticks": ""
            },
            "colorscale": [
             [
              0,
              "#0d0887"
             ],
             [
              0.1111111111111111,
              "#46039f"
             ],
             [
              0.2222222222222222,
              "#7201a8"
             ],
             [
              0.3333333333333333,
              "#9c179e"
             ],
             [
              0.4444444444444444,
              "#bd3786"
             ],
             [
              0.5555555555555556,
              "#d8576b"
             ],
             [
              0.6666666666666666,
              "#ed7953"
             ],
             [
              0.7777777777777778,
              "#fb9f3a"
             ],
             [
              0.8888888888888888,
              "#fdca26"
             ],
             [
              1,
              "#f0f921"
             ]
            ],
            "type": "histogram2dcontour"
           }
          ],
          "mesh3d": [
           {
            "colorbar": {
             "outlinewidth": 0,
             "ticks": ""
            },
            "type": "mesh3d"
           }
          ],
          "parcoords": [
           {
            "line": {
             "colorbar": {
              "outlinewidth": 0,
              "ticks": ""
             }
            },
            "type": "parcoords"
           }
          ],
          "pie": [
           {
            "automargin": true,
            "type": "pie"
           }
          ],
          "scatter": [
           {
            "marker": {
             "colorbar": {
              "outlinewidth": 0,
              "ticks": ""
             }
            },
            "type": "scatter"
           }
          ],
          "scatter3d": [
           {
            "line": {
             "colorbar": {
              "outlinewidth": 0,
              "ticks": ""
             }
            },
            "marker": {
             "colorbar": {
              "outlinewidth": 0,
              "ticks": ""
             }
            },
            "type": "scatter3d"
           }
          ],
          "scattercarpet": [
           {
            "marker": {
             "colorbar": {
              "outlinewidth": 0,
              "ticks": ""
             }
            },
            "type": "scattercarpet"
           }
          ],
          "scattergeo": [
           {
            "marker": {
             "colorbar": {
              "outlinewidth": 0,
              "ticks": ""
             }
            },
            "type": "scattergeo"
           }
          ],
          "scattergl": [
           {
            "marker": {
             "colorbar": {
              "outlinewidth": 0,
              "ticks": ""
             }
            },
            "type": "scattergl"
           }
          ],
          "scattermapbox": [
           {
            "marker": {
             "colorbar": {
              "outlinewidth": 0,
              "ticks": ""
             }
            },
            "type": "scattermapbox"
           }
          ],
          "scatterpolar": [
           {
            "marker": {
             "colorbar": {
              "outlinewidth": 0,
              "ticks": ""
             }
            },
            "type": "scatterpolar"
           }
          ],
          "scatterpolargl": [
           {
            "marker": {
             "colorbar": {
              "outlinewidth": 0,
              "ticks": ""
             }
            },
            "type": "scatterpolargl"
           }
          ],
          "scatterternary": [
           {
            "marker": {
             "colorbar": {
              "outlinewidth": 0,
              "ticks": ""
             }
            },
            "type": "scatterternary"
           }
          ],
          "surface": [
           {
            "colorbar": {
             "outlinewidth": 0,
             "ticks": ""
            },
            "colorscale": [
             [
              0,
              "#0d0887"
             ],
             [
              0.1111111111111111,
              "#46039f"
             ],
             [
              0.2222222222222222,
              "#7201a8"
             ],
             [
              0.3333333333333333,
              "#9c179e"
             ],
             [
              0.4444444444444444,
              "#bd3786"
             ],
             [
              0.5555555555555556,
              "#d8576b"
             ],
             [
              0.6666666666666666,
              "#ed7953"
             ],
             [
              0.7777777777777778,
              "#fb9f3a"
             ],
             [
              0.8888888888888888,
              "#fdca26"
             ],
             [
              1,
              "#f0f921"
             ]
            ],
            "type": "surface"
           }
          ],
          "table": [
           {
            "cells": {
             "fill": {
              "color": "#EBF0F8"
             },
             "line": {
              "color": "white"
             }
            },
            "header": {
             "fill": {
              "color": "#C8D4E3"
             },
             "line": {
              "color": "white"
             }
            },
            "type": "table"
           }
          ]
         },
         "layout": {
          "annotationdefaults": {
           "arrowcolor": "#2a3f5f",
           "arrowhead": 0,
           "arrowwidth": 1
          },
          "autotypenumbers": "strict",
          "coloraxis": {
           "colorbar": {
            "outlinewidth": 0,
            "ticks": ""
           }
          },
          "colorscale": {
           "diverging": [
            [
             0,
             "#8e0152"
            ],
            [
             0.1,
             "#c51b7d"
            ],
            [
             0.2,
             "#de77ae"
            ],
            [
             0.3,
             "#f1b6da"
            ],
            [
             0.4,
             "#fde0ef"
            ],
            [
             0.5,
             "#f7f7f7"
            ],
            [
             0.6,
             "#e6f5d0"
            ],
            [
             0.7,
             "#b8e186"
            ],
            [
             0.8,
             "#7fbc41"
            ],
            [
             0.9,
             "#4d9221"
            ],
            [
             1,
             "#276419"
            ]
           ],
           "sequential": [
            [
             0,
             "#0d0887"
            ],
            [
             0.1111111111111111,
             "#46039f"
            ],
            [
             0.2222222222222222,
             "#7201a8"
            ],
            [
             0.3333333333333333,
             "#9c179e"
            ],
            [
             0.4444444444444444,
             "#bd3786"
            ],
            [
             0.5555555555555556,
             "#d8576b"
            ],
            [
             0.6666666666666666,
             "#ed7953"
            ],
            [
             0.7777777777777778,
             "#fb9f3a"
            ],
            [
             0.8888888888888888,
             "#fdca26"
            ],
            [
             1,
             "#f0f921"
            ]
           ],
           "sequentialminus": [
            [
             0,
             "#0d0887"
            ],
            [
             0.1111111111111111,
             "#46039f"
            ],
            [
             0.2222222222222222,
             "#7201a8"
            ],
            [
             0.3333333333333333,
             "#9c179e"
            ],
            [
             0.4444444444444444,
             "#bd3786"
            ],
            [
             0.5555555555555556,
             "#d8576b"
            ],
            [
             0.6666666666666666,
             "#ed7953"
            ],
            [
             0.7777777777777778,
             "#fb9f3a"
            ],
            [
             0.8888888888888888,
             "#fdca26"
            ],
            [
             1,
             "#f0f921"
            ]
           ]
          },
          "colorway": [
           "#636efa",
           "#EF553B",
           "#00cc96",
           "#ab63fa",
           "#FFA15A",
           "#19d3f3",
           "#FF6692",
           "#B6E880",
           "#FF97FF",
           "#FECB52"
          ],
          "font": {
           "color": "#2a3f5f"
          },
          "geo": {
           "bgcolor": "white",
           "lakecolor": "white",
           "landcolor": "white",
           "showlakes": true,
           "showland": true,
           "subunitcolor": "#C8D4E3"
          },
          "hoverlabel": {
           "align": "left"
          },
          "hovermode": "closest",
          "mapbox": {
           "style": "light"
          },
          "paper_bgcolor": "white",
          "plot_bgcolor": "white",
          "polar": {
           "angularaxis": {
            "gridcolor": "#EBF0F8",
            "linecolor": "#EBF0F8",
            "ticks": ""
           },
           "bgcolor": "white",
           "radialaxis": {
            "gridcolor": "#EBF0F8",
            "linecolor": "#EBF0F8",
            "ticks": ""
           }
          },
          "scene": {
           "xaxis": {
            "backgroundcolor": "white",
            "gridcolor": "#DFE8F3",
            "gridwidth": 2,
            "linecolor": "#EBF0F8",
            "showbackground": true,
            "ticks": "",
            "zerolinecolor": "#EBF0F8"
           },
           "yaxis": {
            "backgroundcolor": "white",
            "gridcolor": "#DFE8F3",
            "gridwidth": 2,
            "linecolor": "#EBF0F8",
            "showbackground": true,
            "ticks": "",
            "zerolinecolor": "#EBF0F8"
           },
           "zaxis": {
            "backgroundcolor": "white",
            "gridcolor": "#DFE8F3",
            "gridwidth": 2,
            "linecolor": "#EBF0F8",
            "showbackground": true,
            "ticks": "",
            "zerolinecolor": "#EBF0F8"
           }
          },
          "shapedefaults": {
           "line": {
            "color": "#2a3f5f"
           }
          },
          "ternary": {
           "aaxis": {
            "gridcolor": "#DFE8F3",
            "linecolor": "#A2B1C6",
            "ticks": ""
           },
           "baxis": {
            "gridcolor": "#DFE8F3",
            "linecolor": "#A2B1C6",
            "ticks": ""
           },
           "bgcolor": "white",
           "caxis": {
            "gridcolor": "#DFE8F3",
            "linecolor": "#A2B1C6",
            "ticks": ""
           }
          },
          "title": {
           "x": 0.05
          },
          "xaxis": {
           "automargin": true,
           "gridcolor": "#EBF0F8",
           "linecolor": "#EBF0F8",
           "ticks": "",
           "title": {
            "standoff": 15
           },
           "zerolinecolor": "#EBF0F8",
           "zerolinewidth": 2
          },
          "yaxis": {
           "automargin": true,
           "gridcolor": "#EBF0F8",
           "linecolor": "#EBF0F8",
           "ticks": "",
           "title": {
            "standoff": 15
           },
           "zerolinecolor": "#EBF0F8",
           "zerolinewidth": 2
          }
         }
        },
        "title": {
         "text": "Count Borrowers - BACKTEST"
        },
        "xaxis": {
         "title": {
          "text": "Month Since First Disbursement"
         }
        },
        "yaxis": {
         "title": {
          "text": "Count Borrowers"
         }
        }
       }
      },
      "text/html": [
       "<div>                            <div id=\"0a3294d2-3d44-4a3b-9210-8e21de8bc971\" class=\"plotly-graph-div\" style=\"height:525px; width:100%;\"></div>            <script type=\"text/javascript\">                require([\"plotly\"], function(Plotly) {                    window.PLOTLYENV=window.PLOTLYENV || {};                                    if (document.getElementById(\"0a3294d2-3d44-4a3b-9210-8e21de8bc971\")) {                    Plotly.newPlot(                        \"0a3294d2-3d44-4a3b-9210-8e21de8bc971\",                        [{\"line\":{\"width\":2},\"mode\":\"markers+lines\",\"name\":\"2020-09-actual\",\"x\":[1,2,3,4,5,6,7,8,9,10,11,12,13,14,15,16,17],\"y\":[7801,4481,3661,3050,2549,2170,1952,1673,1594,1429,1362,1244,1177,1102,1054,893,916],\"type\":\"scatter\"},{\"line\":{\"dash\":\"dash\",\"width\":3},\"mode\":\"lines\",\"name\":\"2020-09-forecast\",\"x\":[15,16,17,18,19,20,21,22,23,24,25,26,27,28,29,30,31,32,33,34,35,36,37,38,39,40,41,42,43,44,45,46,47,48,49,50],\"y\":[1048.6705922161834,1001.1229594360103,958.4243505806563,919.836321284262,883.0428684328915,847.7211536955758,813.8123075477528,781.2598152458427,750.0094226360088,720.0090457305685,691.2086839013456,663.5603365452918,637.0179230834801,611.5372061601408,587.0757179137353,563.5926891971859,541.0489816292984,519.4070223641265,498.6307414695614,478.68551181077896,459.53809133834784,441.15656768481387,423.51030497742136,406.5698927783245,390.30709706719153,374.69481318450386,359.7070206571237,345.3187398308387,331.50599023760515,318.2457506281009,305.51592060297685,293.29528377885777,281.56347242770346,270.3009335305953,259.4888961893715,249.1093403417966],\"type\":\"scatter\"},{\"line\":{\"width\":2},\"mode\":\"markers+lines\",\"name\":\"2020-10-actual\",\"x\":[1,2,3,4,5,6,7,8,9,10,11,12,13,14,15,16],\"y\":[9831,5296,4369,3573,2953,2667,2377,2181,1939,1773,1622,1523,1457,1363,1177,1093],\"type\":\"scatter\"},{\"line\":{\"dash\":\"dash\",\"width\":3},\"mode\":\"lines\",\"name\":\"2020-10-forecast\",\"x\":[14,15,16,17,18,19,20,21,22,23,24,25,26,27,28,29,30,31,32,33,34,35,36,37,38,39,40,41,42,43,44,45,46,47,48,49,50],\"y\":[1379.4621650541173,1310.9897537913873,1250.0181234035808,1195.3294762665273,1145.9608526245302,1100.122418519549,1056.117521778767,1013.8728209076163,973.3179080713115,934.3851917484591,897.0097840785207,861.1293927153799,826.6842170067646,793.616848326494,761.8721743934342,731.3972874176968,702.1413959209889,674.0557400841493,647.0935104807833,621.209770061552,596.36137925909,572.5069240887262,549.6066471251772,527.6223812401701,506.5174859905633,486.2567865509407,466.8065150889031,448.1342544853469,430.208884305933,413.00052893369565,396.4805077763478,380.6212874652939,365.3964359666822,350.7805785280148,336.74935538689425,323.2793811714185,310.34820592456174],\"type\":\"scatter\"},{\"line\":{\"width\":2},\"mode\":\"markers+lines\",\"name\":\"2020-11-actual\",\"x\":[1,2,3,4,5,6,7,8,9,10,11,12,13,14,15],\"y\":[8113,4447,3517,2831,2479,2149,1937,1679,1555,1434,1331,1296,1180,1011,922],\"type\":\"scatter\"},{\"line\":{\"dash\":\"dash\",\"width\":3},\"mode\":\"lines\",\"name\":\"2020-11-forecast\",\"x\":[13,14,15,16,17,18,19,20,21,22,23,24,25,26,27,28,29,30,31,32,33,34,35,36,37,38,39,40,41,42,43,44,45,46,47,48,49,50],\"y\":[1220.6108261282614,1154.726821616431,1096.5907692793814,1044.860606573784,998.4925358444058,956.6617486280995,918.3952786829756,881.6594675356565,846.3930888342302,812.537365280861,780.0358706696265,748.8344358428415,718.8810584091277,690.1258160727626,662.5207834298521,636.0199520926581,610.5791540089517,586.1559878485937,562.7097483346499,540.201358401264,518.5933040652134,497.84957190260485,477.9355890265006,458.8181654654406,440.4654388468229,422.84682129295,405.932948441232,389.69563050358266,374.10780528343935,359.14349307210176,344.7777533492177,330.98664321524893,317.747177486639,305.0372903871734,292.8357987716864,281.12236682081897,269.87747214798617,259.0823732620667],\"type\":\"scatter\"},{\"line\":{\"width\":2},\"mode\":\"markers+lines\",\"name\":\"2020-12-actual\",\"x\":[1,2,3,4,5,6,7,8,9,10,11,12,13,14],\"y\":[8765,4585,3570,2995,2462,2162,1846,1682,1546,1408,1291,1214,1028,971],\"type\":\"scatter\"},{\"line\":{\"dash\":\"dash\",\"width\":3},\"mode\":\"lines\",\"name\":\"2020-12-forecast\",\"x\":[12,13,14,15,16,17,18,19,20,21,22,23,24,25,26,27,28,29,30,31,32,33,34,35,36,37,38,39,40,41,42,43,44,45,46,47,48,49,50],\"y\":[1204.6886321854254,1130.3948660417495,1065.7006762539925,1008.8043050779804,958.3342889538072,913.2272987438764,872.6455526115768,835.9195653522166,802.482782738128,770.3834714286029,739.5681325714588,709.9854072686004,681.5859909778563,654.3225513387422,628.1496492851925,603.0236633137848,578.9027167812334,555.7466081099841,533.5167437855847,512.1760740341613,491.6890310727949,472.021469829883,453.14061103668774,435.0149865952202,417.6143871314113,400.9098116461549,384.8734191803087,369.4784824130963,354.69934311657244,340.51136939190957,326.89091461623315,313.81527803158383,301.2626669103205,289.21216023390764,277.64367382455134,266.5379268715693,255.8764097967065,245.6413534048382,235.8156992686447],\"type\":\"scatter\"},{\"line\":{\"width\":2},\"mode\":\"markers+lines\",\"name\":\"2021-01-actual\",\"x\":[1,2,3,4,5,6,7,8,9,10,11,12,13],\"y\":[10295,5359,4436,3494,3044,2552,2361,2088,1895,1775,1566,1389,1278],\"type\":\"scatter\"},{\"line\":{\"dash\":\"dash\",\"width\":3},\"mode\":\"lines\",\"name\":\"2021-01-forecast\",\"x\":[11,12,13,14,15,16,17,18,19,20,21,22,23,24,25,26,27,28,29,30,31,32,33,34,35,36,37,38,39,40,41,42,43,44,45,46,47,48,49,50],\"y\":[1649.2636510826587,1542.2689646209844,1449.9837870085853,1369.471581006287,1298.5400636445063,1235.5175684081432,1179.105881653017,1128.2805856202137,1082.22186705307,1038.932992370947,997.375672676109,957.4806457690646,919.1814199383019,882.4141631407698,847.117596615139,813.2328927505333,780.703577040512,749.4754339588915,719.4964166005358,690.7165599365143,663.0878975390538,636.5643816374916,611.1018063719919,586.6577341171122,563.1914247524277,540.6637677623306,519.0372170518373,498.2757283697638,478.34469923497323,459.2109112655743,440.8424748149513,423.20877582235323,406.28042478945906,390.02920779788064,374.4280394859654,359.4509179065268,345.07288119026566,331.269965942655,318.0191673049488,305.2984006127508],\"type\":\"scatter\"},{\"line\":{\"width\":2},\"mode\":\"markers+lines\",\"name\":\"2021-02-actual\",\"x\":[1,2,3,4,5,6,7,8,9,10,11,12],\"y\":[9331,5004,3728,3100,2589,2271,2034,1821,1673,1475,1274,1194],\"type\":\"scatter\"},{\"line\":{\"dash\":\"dash\",\"width\":3},\"mode\":\"lines\",\"name\":\"2021-02-forecast\",\"x\":[10,11,12,13,14,15,16,17,18,19,20,21,22,23,24,25,26,27,28,29,30,31,32,33,34,35,36,37,38,39,40,41,42,43,44,45,46,47,48,49,50],\"y\":[1538.0634939293266,1425.3988005630479,1329.76583907334,1247.468367597437,1175.8206980066475,1112.8220805536796,1056.9499024306178,1007.0238757289611,962.1142387992985,921.4781318163867,884.5145174457882,849.1339367479566,815.1685792780382,782.5618361069166,751.25936266264,721.2089881561343,692.3606286298889,664.6662034846934,638.0795553453056,612.5563731314934,588.0541182062336,564.5319534779842,541.9506753388648,520.2726483253102,499.46174239229777,479.48327269660587,460.3039417887416,441.89178411719195,424.2161127525043,407.247468242404,390.95756951270783,375.31926673219954,360.3064960629115,345.89423622039504,332.0584667715792,318.776128100716,306.0250829766873,293.78407965761977,282.032716471315,270.7514078124624,259.92135149996386],\"type\":\"scatter\"},{\"line\":{\"width\":2},\"mode\":\"markers+lines\",\"name\":\"2021-03-actual\",\"x\":[1,2,3,4,5,6,7,8,9,10,11],\"y\":[10225,5046,4136,3325,2830,2401,2133,1920,1710,1392,1279],\"type\":\"scatter\"},{\"line\":{\"dash\":\"dash\",\"width\":3},\"mode\":\"lines\",\"name\":\"2021-03-forecast\",\"x\":[9,10,11,12,13,14,15,16,17,18,19,20,21,22,23,24,25,26,27,28,29,30,31,32,33,34,35,36,37,38,39,40,41,42,43,44,45,46,47,48,49,50],\"y\":[1743.4466119605918,1599.3166805285155,1479.227397859281,1377.4857053349651,1290.0835762766935,1214.1139073287577,1147.4145134019775,1088.3423991219158,1035.6257433274232,988.2639939594612,945.4587170962615,906.5646630427618,870.3020765210514,835.4899934602092,802.0703937218009,769.9875779729288,739.1880748540116,709.6205518598512,681.235729785457,653.9863005940388,627.8268485702772,602.7137746274661,578.6052236423675,555.4610146966728,533.2425741088059,511.9128711444536,491.4363562986755,471.77890204672843,452.90774596485926,434.7914361262649,417.3997786812143,400.70378753396574,384.6756360326071,369.2886105913028,354.5170661676507,340.33638352094465,326.72292818010686,313.65401105290255,301.10785061078644,289.063536586355,277.50099512290075,266.4009553179847],\"type\":\"scatter\"},{\"line\":{\"width\":2},\"mode\":\"markers+lines\",\"name\":\"2021-04-actual\",\"x\":[1,2,3,4,5,6,7,8,9,10],\"y\":[9497,4950,3793,3155,2633,2300,2047,1802,1503,1380],\"type\":\"scatter\"},{\"line\":{\"dash\":\"dash\",\"width\":3},\"mode\":\"lines\",\"name\":\"2021-04-forecast\",\"x\":[8,9,10,11,12,13,14,15,16,17,18,19,20,21,22,23,24,25,26,27,28,29,30,31,32,33,34,35,36,37,38,39,40,41,42,43,44,45,46,47,48,49,50],\"y\":[1837.1969387026897,1670.0604031068654,1533.4780546775605,1419.5725396450928,1322.9890498210311,1239.9544899942914,1167.7300321526595,1104.2771908339118,1048.0459405481483,997.835685801423,952.7013620991029,911.8884041534785,874.7867015603448,839.795233497931,806.2034241580138,773.9552871916932,742.9970757040254,713.2771926758644,684.7461049688297,657.3562607700765,631.0620103392733,605.8195299257025,581.5867487286744,558.3232787795273,535.9903476283462,514.5507337232123,493.9687043742838,474.20995619931244,455.2415579513399,437.0318956332863,419.55061980795483,402.7685950156366,386.65785121501114,371.1915371664107,356.34387567975426,342.0901206525641,328.4065158264615,315.27025519340305,302.6594449856669,290.5530671862402,278.9309444987906,267.7737067188389,257.06275845008537],\"type\":\"scatter\"},{\"line\":{\"width\":2},\"mode\":\"markers+lines\",\"name\":\"2021-05-actual\",\"x\":[1,2,3,4,5,6,7,8,9],\"y\":[10314,5214,4173,3319,2721,2368,2100,1716,1541],\"type\":\"scatter\"},{\"line\":{\"dash\":\"dash\",\"width\":3},\"mode\":\"lines\",\"name\":\"2021-05-forecast\",\"x\":[7,8,9,10,11,12,13,14,15,16,17,18,19,20,21,22,23,24,25,26,27,28,29,30,31,32,33,34,35,36,37,38,39,40,41,42,43,44,45,46,47,48,49,50],\"y\":[2080.887358470982,1860.475032545844,1685.5195668630854,1543.0050360437765,1424.4941277888017,1324.2681887737567,1238.3084396006757,1163.7047859985537,1098.2961064273927,1040.4425260170108,988.8763049860731,942.6013276826458,900.8236188312625,862.9022315669243,828.3138457993165,795.1812919673437,763.37404028865,732.8390786771039,703.5255155300197,675.3844949088189,648.3691151124661,622.4343505079676,597.5369764876488,573.6354974281428,550.6900775310171,528.6624744297764,507.51597545258534,487.2153364344819,467.72672297710267,449.0176540580185,431.05694789569776,413.81466997986985,397.262083180675,381.371599853448,366.1167358593101,351.4720664249377,337.41318376794015,323.9166564172226,310.95999016053366,298.5215905541123,286.5807269319478,275.1174978546699,264.11279794048306,253.54828602286375],\"type\":\"scatter\"},{\"line\":{\"width\":2},\"mode\":\"markers+lines\",\"name\":\"2021-06-actual\",\"x\":[1,2,3,4,5,6,7,8],\"y\":[9533,4763,3697,2899,2512,2164,1773,1571],\"type\":\"scatter\"},{\"line\":{\"dash\":\"dash\",\"width\":3},\"mode\":\"lines\",\"name\":\"2021-06-forecast\",\"x\":[6,7,8,9,10,11,12,13,14,15,16,17,18,19,20,21,22,23,24,25,26,27,28,29,30,31,32,33,34,35,36,37,38,39,40,41,42,43,44,45,46,47,48,49,50],\"y\":[2142.750062041407,1873.2345693103769,1667.3303991368268,1504.580158021547,1372.5039434554676,1263.0428835901637,1170.7535469710504,1091.8224395268119,1023.4959527848713,963.7345188836675,910.9942467589464,864.084292815949,822.0709395419681,784.2114264579952,749.9072750003223,718.670707169821,689.9238788830281,662.326923727707,635.8338467785987,610.4004929074547,585.9844731911566,562.5450942635102,540.0432904929697,518.441558873251,497.7038965183209,477.79574065758806,458.68391103128454,440.3365545900332,422.7230924064318,405.81416871017456,389.5816019617676,373.99833788329687,359.03840436796503,344.6768681932464,330.88979346551656,317.65420172689585,304.94803365782,292.7501123115072,281.0401078190469,269.798503506285,259.00656336603356,248.6463008313922,238.70044879813653,229.15243084621108,219.9863336123626],\"type\":\"scatter\"}],                        {\"template\":{\"data\":{\"bar\":[{\"error_x\":{\"color\":\"#2a3f5f\"},\"error_y\":{\"color\":\"#2a3f5f\"},\"marker\":{\"line\":{\"color\":\"white\",\"width\":0.5},\"pattern\":{\"fillmode\":\"overlay\",\"size\":10,\"solidity\":0.2}},\"type\":\"bar\"}],\"barpolar\":[{\"marker\":{\"line\":{\"color\":\"white\",\"width\":0.5},\"pattern\":{\"fillmode\":\"overlay\",\"size\":10,\"solidity\":0.2}},\"type\":\"barpolar\"}],\"carpet\":[{\"aaxis\":{\"endlinecolor\":\"#2a3f5f\",\"gridcolor\":\"#C8D4E3\",\"linecolor\":\"#C8D4E3\",\"minorgridcolor\":\"#C8D4E3\",\"startlinecolor\":\"#2a3f5f\"},\"baxis\":{\"endlinecolor\":\"#2a3f5f\",\"gridcolor\":\"#C8D4E3\",\"linecolor\":\"#C8D4E3\",\"minorgridcolor\":\"#C8D4E3\",\"startlinecolor\":\"#2a3f5f\"},\"type\":\"carpet\"}],\"choropleth\":[{\"colorbar\":{\"outlinewidth\":0,\"ticks\":\"\"},\"type\":\"choropleth\"}],\"contour\":[{\"colorbar\":{\"outlinewidth\":0,\"ticks\":\"\"},\"colorscale\":[[0.0,\"#0d0887\"],[0.1111111111111111,\"#46039f\"],[0.2222222222222222,\"#7201a8\"],[0.3333333333333333,\"#9c179e\"],[0.4444444444444444,\"#bd3786\"],[0.5555555555555556,\"#d8576b\"],[0.6666666666666666,\"#ed7953\"],[0.7777777777777778,\"#fb9f3a\"],[0.8888888888888888,\"#fdca26\"],[1.0,\"#f0f921\"]],\"type\":\"contour\"}],\"contourcarpet\":[{\"colorbar\":{\"outlinewidth\":0,\"ticks\":\"\"},\"type\":\"contourcarpet\"}],\"heatmap\":[{\"colorbar\":{\"outlinewidth\":0,\"ticks\":\"\"},\"colorscale\":[[0.0,\"#0d0887\"],[0.1111111111111111,\"#46039f\"],[0.2222222222222222,\"#7201a8\"],[0.3333333333333333,\"#9c179e\"],[0.4444444444444444,\"#bd3786\"],[0.5555555555555556,\"#d8576b\"],[0.6666666666666666,\"#ed7953\"],[0.7777777777777778,\"#fb9f3a\"],[0.8888888888888888,\"#fdca26\"],[1.0,\"#f0f921\"]],\"type\":\"heatmap\"}],\"heatmapgl\":[{\"colorbar\":{\"outlinewidth\":0,\"ticks\":\"\"},\"colorscale\":[[0.0,\"#0d0887\"],[0.1111111111111111,\"#46039f\"],[0.2222222222222222,\"#7201a8\"],[0.3333333333333333,\"#9c179e\"],[0.4444444444444444,\"#bd3786\"],[0.5555555555555556,\"#d8576b\"],[0.6666666666666666,\"#ed7953\"],[0.7777777777777778,\"#fb9f3a\"],[0.8888888888888888,\"#fdca26\"],[1.0,\"#f0f921\"]],\"type\":\"heatmapgl\"}],\"histogram\":[{\"marker\":{\"pattern\":{\"fillmode\":\"overlay\",\"size\":10,\"solidity\":0.2}},\"type\":\"histogram\"}],\"histogram2d\":[{\"colorbar\":{\"outlinewidth\":0,\"ticks\":\"\"},\"colorscale\":[[0.0,\"#0d0887\"],[0.1111111111111111,\"#46039f\"],[0.2222222222222222,\"#7201a8\"],[0.3333333333333333,\"#9c179e\"],[0.4444444444444444,\"#bd3786\"],[0.5555555555555556,\"#d8576b\"],[0.6666666666666666,\"#ed7953\"],[0.7777777777777778,\"#fb9f3a\"],[0.8888888888888888,\"#fdca26\"],[1.0,\"#f0f921\"]],\"type\":\"histogram2d\"}],\"histogram2dcontour\":[{\"colorbar\":{\"outlinewidth\":0,\"ticks\":\"\"},\"colorscale\":[[0.0,\"#0d0887\"],[0.1111111111111111,\"#46039f\"],[0.2222222222222222,\"#7201a8\"],[0.3333333333333333,\"#9c179e\"],[0.4444444444444444,\"#bd3786\"],[0.5555555555555556,\"#d8576b\"],[0.6666666666666666,\"#ed7953\"],[0.7777777777777778,\"#fb9f3a\"],[0.8888888888888888,\"#fdca26\"],[1.0,\"#f0f921\"]],\"type\":\"histogram2dcontour\"}],\"mesh3d\":[{\"colorbar\":{\"outlinewidth\":0,\"ticks\":\"\"},\"type\":\"mesh3d\"}],\"parcoords\":[{\"line\":{\"colorbar\":{\"outlinewidth\":0,\"ticks\":\"\"}},\"type\":\"parcoords\"}],\"pie\":[{\"automargin\":true,\"type\":\"pie\"}],\"scatter\":[{\"marker\":{\"colorbar\":{\"outlinewidth\":0,\"ticks\":\"\"}},\"type\":\"scatter\"}],\"scatter3d\":[{\"line\":{\"colorbar\":{\"outlinewidth\":0,\"ticks\":\"\"}},\"marker\":{\"colorbar\":{\"outlinewidth\":0,\"ticks\":\"\"}},\"type\":\"scatter3d\"}],\"scattercarpet\":[{\"marker\":{\"colorbar\":{\"outlinewidth\":0,\"ticks\":\"\"}},\"type\":\"scattercarpet\"}],\"scattergeo\":[{\"marker\":{\"colorbar\":{\"outlinewidth\":0,\"ticks\":\"\"}},\"type\":\"scattergeo\"}],\"scattergl\":[{\"marker\":{\"colorbar\":{\"outlinewidth\":0,\"ticks\":\"\"}},\"type\":\"scattergl\"}],\"scattermapbox\":[{\"marker\":{\"colorbar\":{\"outlinewidth\":0,\"ticks\":\"\"}},\"type\":\"scattermapbox\"}],\"scatterpolar\":[{\"marker\":{\"colorbar\":{\"outlinewidth\":0,\"ticks\":\"\"}},\"type\":\"scatterpolar\"}],\"scatterpolargl\":[{\"marker\":{\"colorbar\":{\"outlinewidth\":0,\"ticks\":\"\"}},\"type\":\"scatterpolargl\"}],\"scatterternary\":[{\"marker\":{\"colorbar\":{\"outlinewidth\":0,\"ticks\":\"\"}},\"type\":\"scatterternary\"}],\"surface\":[{\"colorbar\":{\"outlinewidth\":0,\"ticks\":\"\"},\"colorscale\":[[0.0,\"#0d0887\"],[0.1111111111111111,\"#46039f\"],[0.2222222222222222,\"#7201a8\"],[0.3333333333333333,\"#9c179e\"],[0.4444444444444444,\"#bd3786\"],[0.5555555555555556,\"#d8576b\"],[0.6666666666666666,\"#ed7953\"],[0.7777777777777778,\"#fb9f3a\"],[0.8888888888888888,\"#fdca26\"],[1.0,\"#f0f921\"]],\"type\":\"surface\"}],\"table\":[{\"cells\":{\"fill\":{\"color\":\"#EBF0F8\"},\"line\":{\"color\":\"white\"}},\"header\":{\"fill\":{\"color\":\"#C8D4E3\"},\"line\":{\"color\":\"white\"}},\"type\":\"table\"}]},\"layout\":{\"annotationdefaults\":{\"arrowcolor\":\"#2a3f5f\",\"arrowhead\":0,\"arrowwidth\":1},\"autotypenumbers\":\"strict\",\"coloraxis\":{\"colorbar\":{\"outlinewidth\":0,\"ticks\":\"\"}},\"colorscale\":{\"diverging\":[[0,\"#8e0152\"],[0.1,\"#c51b7d\"],[0.2,\"#de77ae\"],[0.3,\"#f1b6da\"],[0.4,\"#fde0ef\"],[0.5,\"#f7f7f7\"],[0.6,\"#e6f5d0\"],[0.7,\"#b8e186\"],[0.8,\"#7fbc41\"],[0.9,\"#4d9221\"],[1,\"#276419\"]],\"sequential\":[[0.0,\"#0d0887\"],[0.1111111111111111,\"#46039f\"],[0.2222222222222222,\"#7201a8\"],[0.3333333333333333,\"#9c179e\"],[0.4444444444444444,\"#bd3786\"],[0.5555555555555556,\"#d8576b\"],[0.6666666666666666,\"#ed7953\"],[0.7777777777777778,\"#fb9f3a\"],[0.8888888888888888,\"#fdca26\"],[1.0,\"#f0f921\"]],\"sequentialminus\":[[0.0,\"#0d0887\"],[0.1111111111111111,\"#46039f\"],[0.2222222222222222,\"#7201a8\"],[0.3333333333333333,\"#9c179e\"],[0.4444444444444444,\"#bd3786\"],[0.5555555555555556,\"#d8576b\"],[0.6666666666666666,\"#ed7953\"],[0.7777777777777778,\"#fb9f3a\"],[0.8888888888888888,\"#fdca26\"],[1.0,\"#f0f921\"]]},\"colorway\":[\"#636efa\",\"#EF553B\",\"#00cc96\",\"#ab63fa\",\"#FFA15A\",\"#19d3f3\",\"#FF6692\",\"#B6E880\",\"#FF97FF\",\"#FECB52\"],\"font\":{\"color\":\"#2a3f5f\"},\"geo\":{\"bgcolor\":\"white\",\"lakecolor\":\"white\",\"landcolor\":\"white\",\"showlakes\":true,\"showland\":true,\"subunitcolor\":\"#C8D4E3\"},\"hoverlabel\":{\"align\":\"left\"},\"hovermode\":\"closest\",\"mapbox\":{\"style\":\"light\"},\"paper_bgcolor\":\"white\",\"plot_bgcolor\":\"white\",\"polar\":{\"angularaxis\":{\"gridcolor\":\"#EBF0F8\",\"linecolor\":\"#EBF0F8\",\"ticks\":\"\"},\"bgcolor\":\"white\",\"radialaxis\":{\"gridcolor\":\"#EBF0F8\",\"linecolor\":\"#EBF0F8\",\"ticks\":\"\"}},\"scene\":{\"xaxis\":{\"backgroundcolor\":\"white\",\"gridcolor\":\"#DFE8F3\",\"gridwidth\":2,\"linecolor\":\"#EBF0F8\",\"showbackground\":true,\"ticks\":\"\",\"zerolinecolor\":\"#EBF0F8\"},\"yaxis\":{\"backgroundcolor\":\"white\",\"gridcolor\":\"#DFE8F3\",\"gridwidth\":2,\"linecolor\":\"#EBF0F8\",\"showbackground\":true,\"ticks\":\"\",\"zerolinecolor\":\"#EBF0F8\"},\"zaxis\":{\"backgroundcolor\":\"white\",\"gridcolor\":\"#DFE8F3\",\"gridwidth\":2,\"linecolor\":\"#EBF0F8\",\"showbackground\":true,\"ticks\":\"\",\"zerolinecolor\":\"#EBF0F8\"}},\"shapedefaults\":{\"line\":{\"color\":\"#2a3f5f\"}},\"ternary\":{\"aaxis\":{\"gridcolor\":\"#DFE8F3\",\"linecolor\":\"#A2B1C6\",\"ticks\":\"\"},\"baxis\":{\"gridcolor\":\"#DFE8F3\",\"linecolor\":\"#A2B1C6\",\"ticks\":\"\"},\"bgcolor\":\"white\",\"caxis\":{\"gridcolor\":\"#DFE8F3\",\"linecolor\":\"#A2B1C6\",\"ticks\":\"\"}},\"title\":{\"x\":0.05},\"xaxis\":{\"automargin\":true,\"gridcolor\":\"#EBF0F8\",\"linecolor\":\"#EBF0F8\",\"ticks\":\"\",\"title\":{\"standoff\":15},\"zerolinecolor\":\"#EBF0F8\",\"zerolinewidth\":2},\"yaxis\":{\"automargin\":true,\"gridcolor\":\"#EBF0F8\",\"linecolor\":\"#EBF0F8\",\"ticks\":\"\",\"title\":{\"standoff\":15},\"zerolinecolor\":\"#EBF0F8\",\"zerolinewidth\":2}}},\"title\":{\"text\":\"Count Borrowers - BACKTEST\"},\"xaxis\":{\"title\":{\"text\":\"Month Since First Disbursement\"}},\"yaxis\":{\"title\":{\"text\":\"Count Borrowers\"}}},                        {\"responsive\": true}                    ).then(function(){\n",
       "                            \n",
       "var gd = document.getElementById('0a3294d2-3d44-4a3b-9210-8e21de8bc971');\n",
       "var x = new MutationObserver(function (mutations, observer) {{\n",
       "        var display = window.getComputedStyle(gd).display;\n",
       "        if (!display || display === 'none') {{\n",
       "            console.log([gd, 'removed!']);\n",
       "            Plotly.purge(gd);\n",
       "            observer.disconnect();\n",
       "        }}\n",
       "}});\n",
       "\n",
       "// Listen for the removal of the full notebook cells\n",
       "var notebookContainer = gd.closest('#notebook-container');\n",
       "if (notebookContainer) {{\n",
       "    x.observe(notebookContainer, {childList: true});\n",
       "}}\n",
       "\n",
       "// Listen for the clearing of the current output cell\n",
       "var outputEl = gd.closest('.output');\n",
       "if (outputEl) {{\n",
       "    x.observe(outputEl, {childList: true});\n",
       "}}\n",
       "\n",
       "                        })                };                });            </script>        </div>"
      ]
     },
     "metadata": {},
     "output_type": "display_data"
    }
   ],
   "source": [
    "ke.plot_cohorts('Count Borrowers', 'backtest')"
   ]
  },
  {
   "cell_type": "code",
   "execution_count": 18,
   "id": "6fc57a60",
   "metadata": {},
   "outputs": [
    {
     "data": {
      "text/plain": [
       "180.38084020416176"
      ]
     },
     "execution_count": 18,
     "metadata": {},
     "output_type": "execute_result"
    }
   ],
   "source": [
    "(9188600/2547)/20"
   ]
  },
  {
   "cell_type": "code",
   "execution_count": null,
   "id": "2cd050a2",
   "metadata": {},
   "outputs": [],
   "source": []
  }
 ],
 "metadata": {
  "kernelspec": {
   "display_name": "Python 3 (ipykernel)",
   "language": "python",
   "name": "python3"
  },
  "language_info": {
   "codemirror_mode": {
    "name": "ipython",
    "version": 3
   },
   "file_extension": ".py",
   "mimetype": "text/x-python",
   "name": "python",
   "nbconvert_exporter": "python",
   "pygments_lexer": "ipython3",
   "version": "3.9.7"
  }
 },
 "nbformat": 4,
 "nbformat_minor": 5
}
