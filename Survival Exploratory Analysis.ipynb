{
 "cells": [
  {
   "cell_type": "code",
   "execution_count": 1,
   "id": "b516dafc",
   "metadata": {},
   "outputs": [],
   "source": [
    "import pandas as pd\n",
    "import numpy as np\n",
    "import ficast as fc\n",
    "from plotly import graph_objects as go"
   ]
  },
  {
   "cell_type": "code",
   "execution_count": 11,
   "id": "27ab37e3",
   "metadata": {},
   "outputs": [],
   "source": [
    "data = pd.read_csv('data/ke_data.csv')"
   ]
  },
  {
   "cell_type": "code",
   "execution_count": 52,
   "id": "7fad599b",
   "metadata": {},
   "outputs": [
    {
     "data": {
      "text/plain": [
       "array(['2020-09', '2020-9', '2020-10', '2020-11', '2020-12', '2021-01',\n",
       "       '2021-02', '2021-03', '2021-04', '2021-4', '2021-5', '2021-05',\n",
       "       '2021-6', '2021-7', '2021-8', '2021-09', '2021-10', '2021-11',\n",
       "       '2021-12'], dtype=object)"
      ]
     },
     "execution_count": 52,
     "metadata": {},
     "output_type": "execute_result"
    }
   ],
   "source": [
    "data['First Loan Local Disbursement Month'].unique()"
   ]
  },
  {
   "cell_type": "code",
   "execution_count": 57,
   "id": "3dd172c1",
   "metadata": {},
   "outputs": [
    {
     "name": "stdout",
     "output_type": "stream",
     "text": [
      "2020-09\n",
      "2021-04\n",
      "2021-05\n",
      "2021-06\n",
      "2021-07\n",
      "2021-08\n"
     ]
    }
   ],
   "source": [
    "for date in data['First Loan Local Disbursement Month'].unique():\n",
    "    if len(date) < 7:\n",
    "        year, month = date.split('-')\n",
    "        month = '0'+month\n",
    "        print(year + '-' + month)"
   ]
  },
  {
   "cell_type": "code",
   "execution_count": 12,
   "id": "de2ad0f1",
   "metadata": {},
   "outputs": [
    {
     "name": "stdout",
     "output_type": "stream",
     "text": [
      "<class 'pandas.core.frame.DataFrame'>\n",
      "RangeIndex: 181 entries, 0 to 180\n",
      "Data columns (total 21 columns):\n",
      " #   Column                               Non-Null Count  Dtype  \n",
      "---  ------                               --------------  -----  \n",
      " 0   First Loan Local Disbursement Month  181 non-null    object \n",
      " 1   Months Since First Loan Disbursed    181 non-null    int64  \n",
      " 2   Count First Loans                    181 non-null    int64  \n",
      " 3   Count Borrowers                      181 non-null    int64  \n",
      " 4   Count Loans                          181 non-null    int64  \n",
      " 5   Total Amount                         181 non-null    int64  \n",
      " 6   Total Interest Assessed              181 non-null    int64  \n",
      " 7   Total Rollover Charged               181 non-null    int64  \n",
      " 8   Total Rollover Reversed              181 non-null    int64  \n",
      " 9   Default Rate Amount 7D               158 non-null    float64\n",
      " 10  Default Rate Amount 30D              148 non-null    float64\n",
      " 11  Default Rate Amount 51D              136 non-null    float64\n",
      " 12  Ftbs                                 181 non-null    int64  \n",
      " 13  Borrower Retention                   181 non-null    float64\n",
      " 14  Loans Per Borrower                   181 non-null    float64\n",
      " 15  Loan Size                            181 non-null    float64\n",
      " 16  Interest Rate                        181 non-null    float64\n",
      " 17  Total Revenue Of Originations        181 non-null    float64\n",
      " 18  Loans Per Original                   181 non-null    float64\n",
      " 19  Originations Per Original            181 non-null    float64\n",
      " 20  Revenue Per Original                 181 non-null    float64\n",
      "dtypes: float64(11), int64(9), object(1)\n",
      "memory usage: 29.8+ KB\n"
     ]
    }
   ],
   "source": [
    "data.info()"
   ]
  },
  {
   "cell_type": "code",
   "execution_count": 13,
   "id": "1d3733fb",
   "metadata": {},
   "outputs": [
    {
     "name": "stdout",
     "output_type": "stream",
     "text": [
      "Backtesting 4 months.\n",
      "10 cohorts will be backtested.\n"
     ]
    }
   ],
   "source": [
    "# instantiate model\n",
    "m = fc.Model(data, market='ke', fcast_method='powerslope')\n",
    "\n",
    "# generate features\n",
    "m.generate_features()\n",
    "\n",
    "# forecast data and save as model attribute\n",
    "m.forecast = m.forecast_features(m.data)\n",
    "\n",
    "# backtest data and save as attribute\n",
    "m.backtest, m.backtest_report = m.backtest(m.data, months=4)"
   ]
  },
  {
   "cell_type": "code",
   "execution_count": 14,
   "id": "6b530680",
   "metadata": {},
   "outputs": [
    {
     "data": {
      "text/plain": [
       "0.00925"
      ]
     },
     "execution_count": 14,
     "metadata": {},
     "output_type": "execute_result"
    }
   ],
   "source": [
    "m.dollar_ex"
   ]
  },
  {
   "cell_type": "code",
   "execution_count": 16,
   "id": "d415d0bb",
   "metadata": {},
   "outputs": [
    {
     "data": {
      "application/vnd.plotly.v1+json": {
       "config": {
        "plotlyServerURL": "https://plot.ly"
       },
       "data": [
        {
         "line": {
          "width": 2
         },
         "mode": "markers+lines",
         "name": "2020-09-actual",
         "type": "scatter",
         "x": [
          0,
          1,
          2,
          3,
          4,
          5,
          6,
          7,
          8,
          9,
          10,
          11,
          12,
          13,
          14,
          15,
          16
         ],
         "y": [
          7801,
          4481,
          3661,
          3050,
          2549,
          2170,
          1952,
          1673,
          1594,
          1429,
          1362,
          1243,
          1177,
          1102,
          1054,
          893,
          916
         ]
        },
        {
         "line": {
          "dash": "dash",
          "width": 3
         },
         "mode": "lines",
         "name": "2020-09-forecast",
         "type": "scatter",
         "x": [
          13,
          14,
          15,
          16,
          17,
          18,
          19,
          20,
          21,
          22,
          23,
          24
         ],
         "y": [
          1116.0643367858156,
          1060.2611199465248,
          1007.2480639491985,
          956.8856607517386,
          909.0413777141515,
          863.5893088284439,
          820.4098433870216,
          779.3893512176705,
          740.419883656787,
          703.3988894739475,
          668.2289450002502,
          634.8174977502375
         ]
        },
        {
         "line": {
          "width": 2
         },
         "mode": "markers+lines",
         "name": "2020-10-actual",
         "type": "scatter",
         "x": [
          0,
          1,
          2,
          3,
          4,
          5,
          6,
          7,
          8,
          9,
          10,
          11,
          12,
          13,
          14,
          15
         ],
         "y": [
          9831,
          5296,
          4369,
          3573,
          2953,
          2667,
          2377,
          2181,
          1937,
          1773,
          1621,
          1523,
          1457,
          1363,
          1177,
          1093
         ]
        },
        {
         "line": {
          "dash": "dash",
          "width": 3
         },
         "mode": "lines",
         "name": "2020-10-forecast",
         "type": "scatter",
         "x": [
          12,
          13,
          14,
          15,
          16,
          17,
          18,
          19,
          20,
          21,
          22,
          23,
          24
         ],
         "y": [
          1435.637643904046,
          1359.2268861509644,
          1291.2655418434163,
          1226.7022647512454,
          1165.367151513683,
          1107.0987939379988,
          1051.7438542410987,
          999.1566615290438,
          949.1988284525916,
          901.7388870299619,
          856.6519426784638,
          813.8193455445405,
          773.1283782673135
         ]
        },
        {
         "line": {
          "width": 2
         },
         "mode": "markers+lines",
         "name": "2020-11-actual",
         "type": "scatter",
         "x": [
          0,
          1,
          2,
          3,
          4,
          5,
          6,
          7,
          8,
          9,
          10,
          11,
          12,
          13,
          14
         ],
         "y": [
          8113,
          4447,
          3517,
          2831,
          2479,
          2149,
          1937,
          1679,
          1554,
          1434,
          1331,
          1296,
          1180,
          1011,
          922
         ]
        },
        {
         "line": {
          "dash": "dash",
          "width": 3
         },
         "mode": "lines",
         "name": "2020-11-forecast",
         "type": "scatter",
         "x": [
          11,
          12,
          13,
          14,
          15,
          16,
          17,
          18,
          19,
          20,
          21,
          22,
          23,
          24
         ],
         "y": [
          1246.869159084974,
          1174.1803628983278,
          1110.6644837646113,
          1054.6247932571227,
          1001.8935535942667,
          951.7988759145533,
          904.2089321188256,
          858.9984855128843,
          816.04856123724,
          775.246133175378,
          736.483826516609,
          699.6596351907785,
          664.6766534312395,
          631.4428207596775
         ]
        },
        {
         "line": {
          "width": 2
         },
         "mode": "markers+lines",
         "name": "2020-12-actual",
         "type": "scatter",
         "x": [
          0,
          1,
          2,
          3,
          4,
          5,
          6,
          7,
          8,
          9,
          10,
          11,
          12
         ],
         "y": [
          8765,
          4585,
          3570,
          2995,
          2462,
          2162,
          1845,
          1682,
          1546,
          1408,
          1291,
          1214,
          1028
         ]
        },
        {
         "line": {
          "dash": "dash",
          "width": 3
         },
         "mode": "lines",
         "name": "2020-12-forecast",
         "type": "scatter",
         "x": [
          9,
          10,
          11,
          12,
          13,
          14,
          15,
          16,
          17,
          18,
          19,
          20,
          21,
          22,
          23,
          24
         ],
         "y": [
          1421.540741945275,
          1317.6076696924615,
          1229.3737725741328,
          1153.433686810054,
          1087.3127488796754,
          1029.1671908814844,
          977.5937080809545,
          928.7140226769068,
          882.2783215430613,
          838.1644054659082,
          796.2561851926129,
          756.4433759329821,
          718.621207136333,
          682.6901467795163,
          648.5556394405405,
          616.1278574685135
         ]
        },
        {
         "line": {
          "width": 2
         },
         "mode": "markers+lines",
         "name": "2021-01-actual",
         "type": "scatter",
         "x": [
          0,
          1,
          2,
          3,
          4,
          5,
          6,
          7,
          8,
          9,
          10,
          11,
          12
         ],
         "y": [
          10295,
          5359,
          4436,
          3494,
          3044,
          2552,
          2361,
          2088,
          1895,
          1775,
          1566,
          1389,
          1278
         ]
        },
        {
         "line": {
          "dash": "dash",
          "width": 3
         },
         "mode": "lines",
         "name": "2021-01-forecast",
         "type": "scatter",
         "x": [
          9,
          10,
          11,
          12,
          13,
          14,
          15,
          16,
          17,
          18,
          19,
          20,
          21,
          22,
          23,
          24
         ],
         "y": [
          1746.8060890746292,
          1622.7574065183608,
          1517.2181050144854,
          1426.2034546375078,
          1346.81194735682,
          1276.8777892411752,
          1213.0338997791164,
          1152.3822047901606,
          1094.7630945506526,
          1040.02493982312,
          988.0236928319639,
          938.6225081903657,
          891.6913827808474,
          847.106813641805,
          804.7514729597148,
          764.513899311729
         ]
        },
        {
         "line": {
          "width": 2
         },
         "mode": "markers+lines",
         "name": "2021-02-actual",
         "type": "scatter",
         "x": [
          0,
          1,
          2,
          3,
          4,
          5,
          6,
          7,
          8,
          9,
          10,
          11
         ],
         "y": [
          9331,
          5004,
          3728,
          3100,
          2589,
          2271,
          2034,
          1821,
          1673,
          1475,
          1274,
          1194
         ]
        },
        {
         "line": {
          "dash": "dash",
          "width": 3
         },
         "mode": "lines",
         "name": "2021-02-forecast",
         "type": "scatter",
         "x": [
          8,
          9,
          10,
          11,
          12,
          13,
          14,
          15,
          16,
          17,
          18,
          19,
          20,
          21,
          22,
          23,
          24
         ],
         "y": [
          1656.9789068154776,
          1522.8163197031172,
          1410.834148998045,
          1315.8085442350377,
          1234.0558142886905,
          1162.900122067307,
          1100.3485583558027,
          1044.8848310383073,
          992.6405894863918,
          943.0085600120722,
          895.8581320114685,
          851.065225410895,
          808.5119641403503,
          768.0863659333328,
          729.682047636666,
          693.1979452548327,
          658.538047992091
         ]
        },
        {
         "line": {
          "width": 2
         },
         "mode": "markers+lines",
         "name": "2021-03-actual",
         "type": "scatter",
         "x": [
          0,
          1,
          2,
          3,
          4,
          5,
          6,
          7,
          8,
          9,
          10
         ],
         "y": [
          10225,
          5046,
          4136,
          3324,
          2829,
          2401,
          2133,
          1920,
          1710,
          1392,
          1279
         ]
        },
        {
         "line": {
          "dash": "dash",
          "width": 3
         },
         "mode": "lines",
         "name": "2021-03-forecast",
         "type": "scatter",
         "x": [
          7,
          8,
          9,
          10,
          11,
          12,
          13,
          14,
          15,
          16,
          17,
          18,
          19,
          20,
          21,
          22,
          23,
          24
         ],
         "y": [
          1910.917991256667,
          1734.3015707201466,
          1590.1909986047742,
          1470.1708659862593,
          1368.5285435428057,
          1281.243863847414,
          1205.4020025560826,
          1138.83577486459,
          1079.8989092270197,
          1025.9039637656685,
          974.608765577385,
          925.8783272985158,
          879.58441093359,
          835.6051903869104,
          793.8249308675648,
          754.1336843241867,
          716.4270001079773,
          680.6056501025784
         ]
        },
        {
         "line": {
          "width": 2
         },
         "mode": "markers+lines",
         "name": "2021-04-actual",
         "type": "scatter",
         "x": [
          0,
          1,
          2,
          3,
          4,
          5,
          6,
          7,
          8,
          9
         ],
         "y": [
          9497,
          4950,
          3792,
          3155,
          2631,
          2300,
          2047,
          1802,
          1503,
          1380
         ]
        },
        {
         "line": {
          "dash": "dash",
          "width": 3
         },
         "mode": "lines",
         "name": "2021-04-forecast",
         "type": "scatter",
         "x": [
          6,
          7,
          8,
          9,
          10,
          11,
          12,
          13,
          14,
          15,
          16,
          17,
          18,
          19,
          20,
          21,
          22,
          23,
          24
         ],
         "y": [
          2028.0080627416935,
          1818.5390305985097,
          1651.8080111916067,
          1515.6580805694907,
          1402.1888846099137,
          1306.0336258292334,
          1223.4130855580772,
          1151.5855319101972,
          1088.5113737878169,
          1032.640488628066,
          981.0084641966625,
          931.9580409868294,
          885.3601389374879,
          841.0921319906134,
          799.0375253910827,
          759.0856491215285,
          721.131366665452,
          685.0747983321793,
          650.8210584155703
         ]
        },
        {
         "line": {
          "width": 2
         },
         "mode": "markers+lines",
         "name": "2021-05-actual",
         "type": "scatter",
         "x": [
          0,
          1,
          2,
          3,
          4,
          5,
          6,
          7,
          8
         ],
         "y": [
          10314,
          5214,
          4169,
          3319,
          2719,
          2368,
          2100,
          1716,
          1541
         ]
        },
        {
         "line": {
          "dash": "dash",
          "width": 3
         },
         "mode": "lines",
         "name": "2021-05-forecast",
         "type": "scatter",
         "x": [
          5,
          6,
          7,
          8,
          9,
          10,
          11,
          12,
          13,
          14,
          15,
          16,
          17,
          18,
          19,
          20,
          21,
          22,
          23,
          24
         ],
         "y": [
          2330.39898594164,
          2045.5043551017677,
          1827.0287448655854,
          1653.7725487452792,
          1512.7591945287882,
          1395.5840123949254,
          1296.5547969487973,
          1211.6741039981173,
          1138.049106520367,
          1073.5327486262388,
          1016.4967018991559,
          965.6718668041981,
          917.3882734639881,
          871.5188597907886,
          827.9429168012491,
          786.5457709611866,
          747.2184824131273,
          709.8575582924709,
          674.3646803778473,
          640.6464463589549
         ]
        },
        {
         "line": {
          "width": 2
         },
         "mode": "markers+lines",
         "name": "2021-06-actual",
         "type": "scatter",
         "x": [
          0,
          1,
          2,
          3,
          4,
          5,
          6,
          7
         ],
         "y": [
          9532,
          4761,
          3696,
          2899,
          2512,
          2164,
          1773,
          1571
         ]
        },
        {
         "line": {
          "dash": "dash",
          "width": 3
         },
         "mode": "lines",
         "name": "2021-06-forecast",
         "type": "scatter",
         "x": [
          4,
          5,
          6,
          7,
          8,
          9,
          10,
          11,
          12,
          13,
          14,
          15,
          16,
          17,
          18,
          19,
          20,
          21,
          22,
          23,
          24
         ],
         "y": [
          2483.967785375886,
          2189.371315472305,
          1967.7242987664865,
          1793.9468398435054,
          1653.4483466757265,
          1537.118371455033,
          1438.9518601048649,
          1354.8174379563845,
          1281.7722441279147,
          1217.658774562061,
          1156.7758358339577,
          1098.93704404226,
          1043.9901918401467,
          991.7906822481393,
          942.2011481357323,
          895.0910907289456,
          850.3365361924983,
          807.8197093828734,
          767.4287239137296,
          729.0572877180432,
          692.604423332141
         ]
        }
       ],
       "layout": {
        "template": {
         "data": {
          "bar": [
           {
            "error_x": {
             "color": "#2a3f5f"
            },
            "error_y": {
             "color": "#2a3f5f"
            },
            "marker": {
             "line": {
              "color": "white",
              "width": 0.5
             },
             "pattern": {
              "fillmode": "overlay",
              "size": 10,
              "solidity": 0.2
             }
            },
            "type": "bar"
           }
          ],
          "barpolar": [
           {
            "marker": {
             "line": {
              "color": "white",
              "width": 0.5
             },
             "pattern": {
              "fillmode": "overlay",
              "size": 10,
              "solidity": 0.2
             }
            },
            "type": "barpolar"
           }
          ],
          "carpet": [
           {
            "aaxis": {
             "endlinecolor": "#2a3f5f",
             "gridcolor": "#C8D4E3",
             "linecolor": "#C8D4E3",
             "minorgridcolor": "#C8D4E3",
             "startlinecolor": "#2a3f5f"
            },
            "baxis": {
             "endlinecolor": "#2a3f5f",
             "gridcolor": "#C8D4E3",
             "linecolor": "#C8D4E3",
             "minorgridcolor": "#C8D4E3",
             "startlinecolor": "#2a3f5f"
            },
            "type": "carpet"
           }
          ],
          "choropleth": [
           {
            "colorbar": {
             "outlinewidth": 0,
             "ticks": ""
            },
            "type": "choropleth"
           }
          ],
          "contour": [
           {
            "colorbar": {
             "outlinewidth": 0,
             "ticks": ""
            },
            "colorscale": [
             [
              0,
              "#0d0887"
             ],
             [
              0.1111111111111111,
              "#46039f"
             ],
             [
              0.2222222222222222,
              "#7201a8"
             ],
             [
              0.3333333333333333,
              "#9c179e"
             ],
             [
              0.4444444444444444,
              "#bd3786"
             ],
             [
              0.5555555555555556,
              "#d8576b"
             ],
             [
              0.6666666666666666,
              "#ed7953"
             ],
             [
              0.7777777777777778,
              "#fb9f3a"
             ],
             [
              0.8888888888888888,
              "#fdca26"
             ],
             [
              1,
              "#f0f921"
             ]
            ],
            "type": "contour"
           }
          ],
          "contourcarpet": [
           {
            "colorbar": {
             "outlinewidth": 0,
             "ticks": ""
            },
            "type": "contourcarpet"
           }
          ],
          "heatmap": [
           {
            "colorbar": {
             "outlinewidth": 0,
             "ticks": ""
            },
            "colorscale": [
             [
              0,
              "#0d0887"
             ],
             [
              0.1111111111111111,
              "#46039f"
             ],
             [
              0.2222222222222222,
              "#7201a8"
             ],
             [
              0.3333333333333333,
              "#9c179e"
             ],
             [
              0.4444444444444444,
              "#bd3786"
             ],
             [
              0.5555555555555556,
              "#d8576b"
             ],
             [
              0.6666666666666666,
              "#ed7953"
             ],
             [
              0.7777777777777778,
              "#fb9f3a"
             ],
             [
              0.8888888888888888,
              "#fdca26"
             ],
             [
              1,
              "#f0f921"
             ]
            ],
            "type": "heatmap"
           }
          ],
          "heatmapgl": [
           {
            "colorbar": {
             "outlinewidth": 0,
             "ticks": ""
            },
            "colorscale": [
             [
              0,
              "#0d0887"
             ],
             [
              0.1111111111111111,
              "#46039f"
             ],
             [
              0.2222222222222222,
              "#7201a8"
             ],
             [
              0.3333333333333333,
              "#9c179e"
             ],
             [
              0.4444444444444444,
              "#bd3786"
             ],
             [
              0.5555555555555556,
              "#d8576b"
             ],
             [
              0.6666666666666666,
              "#ed7953"
             ],
             [
              0.7777777777777778,
              "#fb9f3a"
             ],
             [
              0.8888888888888888,
              "#fdca26"
             ],
             [
              1,
              "#f0f921"
             ]
            ],
            "type": "heatmapgl"
           }
          ],
          "histogram": [
           {
            "marker": {
             "pattern": {
              "fillmode": "overlay",
              "size": 10,
              "solidity": 0.2
             }
            },
            "type": "histogram"
           }
          ],
          "histogram2d": [
           {
            "colorbar": {
             "outlinewidth": 0,
             "ticks": ""
            },
            "colorscale": [
             [
              0,
              "#0d0887"
             ],
             [
              0.1111111111111111,
              "#46039f"
             ],
             [
              0.2222222222222222,
              "#7201a8"
             ],
             [
              0.3333333333333333,
              "#9c179e"
             ],
             [
              0.4444444444444444,
              "#bd3786"
             ],
             [
              0.5555555555555556,
              "#d8576b"
             ],
             [
              0.6666666666666666,
              "#ed7953"
             ],
             [
              0.7777777777777778,
              "#fb9f3a"
             ],
             [
              0.8888888888888888,
              "#fdca26"
             ],
             [
              1,
              "#f0f921"
             ]
            ],
            "type": "histogram2d"
           }
          ],
          "histogram2dcontour": [
           {
            "colorbar": {
             "outlinewidth": 0,
             "ticks": ""
            },
            "colorscale": [
             [
              0,
              "#0d0887"
             ],
             [
              0.1111111111111111,
              "#46039f"
             ],
             [
              0.2222222222222222,
              "#7201a8"
             ],
             [
              0.3333333333333333,
              "#9c179e"
             ],
             [
              0.4444444444444444,
              "#bd3786"
             ],
             [
              0.5555555555555556,
              "#d8576b"
             ],
             [
              0.6666666666666666,
              "#ed7953"
             ],
             [
              0.7777777777777778,
              "#fb9f3a"
             ],
             [
              0.8888888888888888,
              "#fdca26"
             ],
             [
              1,
              "#f0f921"
             ]
            ],
            "type": "histogram2dcontour"
           }
          ],
          "mesh3d": [
           {
            "colorbar": {
             "outlinewidth": 0,
             "ticks": ""
            },
            "type": "mesh3d"
           }
          ],
          "parcoords": [
           {
            "line": {
             "colorbar": {
              "outlinewidth": 0,
              "ticks": ""
             }
            },
            "type": "parcoords"
           }
          ],
          "pie": [
           {
            "automargin": true,
            "type": "pie"
           }
          ],
          "scatter": [
           {
            "marker": {
             "colorbar": {
              "outlinewidth": 0,
              "ticks": ""
             }
            },
            "type": "scatter"
           }
          ],
          "scatter3d": [
           {
            "line": {
             "colorbar": {
              "outlinewidth": 0,
              "ticks": ""
             }
            },
            "marker": {
             "colorbar": {
              "outlinewidth": 0,
              "ticks": ""
             }
            },
            "type": "scatter3d"
           }
          ],
          "scattercarpet": [
           {
            "marker": {
             "colorbar": {
              "outlinewidth": 0,
              "ticks": ""
             }
            },
            "type": "scattercarpet"
           }
          ],
          "scattergeo": [
           {
            "marker": {
             "colorbar": {
              "outlinewidth": 0,
              "ticks": ""
             }
            },
            "type": "scattergeo"
           }
          ],
          "scattergl": [
           {
            "marker": {
             "colorbar": {
              "outlinewidth": 0,
              "ticks": ""
             }
            },
            "type": "scattergl"
           }
          ],
          "scattermapbox": [
           {
            "marker": {
             "colorbar": {
              "outlinewidth": 0,
              "ticks": ""
             }
            },
            "type": "scattermapbox"
           }
          ],
          "scatterpolar": [
           {
            "marker": {
             "colorbar": {
              "outlinewidth": 0,
              "ticks": ""
             }
            },
            "type": "scatterpolar"
           }
          ],
          "scatterpolargl": [
           {
            "marker": {
             "colorbar": {
              "outlinewidth": 0,
              "ticks": ""
             }
            },
            "type": "scatterpolargl"
           }
          ],
          "scatterternary": [
           {
            "marker": {
             "colorbar": {
              "outlinewidth": 0,
              "ticks": ""
             }
            },
            "type": "scatterternary"
           }
          ],
          "surface": [
           {
            "colorbar": {
             "outlinewidth": 0,
             "ticks": ""
            },
            "colorscale": [
             [
              0,
              "#0d0887"
             ],
             [
              0.1111111111111111,
              "#46039f"
             ],
             [
              0.2222222222222222,
              "#7201a8"
             ],
             [
              0.3333333333333333,
              "#9c179e"
             ],
             [
              0.4444444444444444,
              "#bd3786"
             ],
             [
              0.5555555555555556,
              "#d8576b"
             ],
             [
              0.6666666666666666,
              "#ed7953"
             ],
             [
              0.7777777777777778,
              "#fb9f3a"
             ],
             [
              0.8888888888888888,
              "#fdca26"
             ],
             [
              1,
              "#f0f921"
             ]
            ],
            "type": "surface"
           }
          ],
          "table": [
           {
            "cells": {
             "fill": {
              "color": "#EBF0F8"
             },
             "line": {
              "color": "white"
             }
            },
            "header": {
             "fill": {
              "color": "#C8D4E3"
             },
             "line": {
              "color": "white"
             }
            },
            "type": "table"
           }
          ]
         },
         "layout": {
          "annotationdefaults": {
           "arrowcolor": "#2a3f5f",
           "arrowhead": 0,
           "arrowwidth": 1
          },
          "autotypenumbers": "strict",
          "coloraxis": {
           "colorbar": {
            "outlinewidth": 0,
            "ticks": ""
           }
          },
          "colorscale": {
           "diverging": [
            [
             0,
             "#8e0152"
            ],
            [
             0.1,
             "#c51b7d"
            ],
            [
             0.2,
             "#de77ae"
            ],
            [
             0.3,
             "#f1b6da"
            ],
            [
             0.4,
             "#fde0ef"
            ],
            [
             0.5,
             "#f7f7f7"
            ],
            [
             0.6,
             "#e6f5d0"
            ],
            [
             0.7,
             "#b8e186"
            ],
            [
             0.8,
             "#7fbc41"
            ],
            [
             0.9,
             "#4d9221"
            ],
            [
             1,
             "#276419"
            ]
           ],
           "sequential": [
            [
             0,
             "#0d0887"
            ],
            [
             0.1111111111111111,
             "#46039f"
            ],
            [
             0.2222222222222222,
             "#7201a8"
            ],
            [
             0.3333333333333333,
             "#9c179e"
            ],
            [
             0.4444444444444444,
             "#bd3786"
            ],
            [
             0.5555555555555556,
             "#d8576b"
            ],
            [
             0.6666666666666666,
             "#ed7953"
            ],
            [
             0.7777777777777778,
             "#fb9f3a"
            ],
            [
             0.8888888888888888,
             "#fdca26"
            ],
            [
             1,
             "#f0f921"
            ]
           ],
           "sequentialminus": [
            [
             0,
             "#0d0887"
            ],
            [
             0.1111111111111111,
             "#46039f"
            ],
            [
             0.2222222222222222,
             "#7201a8"
            ],
            [
             0.3333333333333333,
             "#9c179e"
            ],
            [
             0.4444444444444444,
             "#bd3786"
            ],
            [
             0.5555555555555556,
             "#d8576b"
            ],
            [
             0.6666666666666666,
             "#ed7953"
            ],
            [
             0.7777777777777778,
             "#fb9f3a"
            ],
            [
             0.8888888888888888,
             "#fdca26"
            ],
            [
             1,
             "#f0f921"
            ]
           ]
          },
          "colorway": [
           "#636efa",
           "#EF553B",
           "#00cc96",
           "#ab63fa",
           "#FFA15A",
           "#19d3f3",
           "#FF6692",
           "#B6E880",
           "#FF97FF",
           "#FECB52"
          ],
          "font": {
           "color": "#2a3f5f"
          },
          "geo": {
           "bgcolor": "white",
           "lakecolor": "white",
           "landcolor": "white",
           "showlakes": true,
           "showland": true,
           "subunitcolor": "#C8D4E3"
          },
          "hoverlabel": {
           "align": "left"
          },
          "hovermode": "closest",
          "mapbox": {
           "style": "light"
          },
          "paper_bgcolor": "white",
          "plot_bgcolor": "white",
          "polar": {
           "angularaxis": {
            "gridcolor": "#EBF0F8",
            "linecolor": "#EBF0F8",
            "ticks": ""
           },
           "bgcolor": "white",
           "radialaxis": {
            "gridcolor": "#EBF0F8",
            "linecolor": "#EBF0F8",
            "ticks": ""
           }
          },
          "scene": {
           "xaxis": {
            "backgroundcolor": "white",
            "gridcolor": "#DFE8F3",
            "gridwidth": 2,
            "linecolor": "#EBF0F8",
            "showbackground": true,
            "ticks": "",
            "zerolinecolor": "#EBF0F8"
           },
           "yaxis": {
            "backgroundcolor": "white",
            "gridcolor": "#DFE8F3",
            "gridwidth": 2,
            "linecolor": "#EBF0F8",
            "showbackground": true,
            "ticks": "",
            "zerolinecolor": "#EBF0F8"
           },
           "zaxis": {
            "backgroundcolor": "white",
            "gridcolor": "#DFE8F3",
            "gridwidth": 2,
            "linecolor": "#EBF0F8",
            "showbackground": true,
            "ticks": "",
            "zerolinecolor": "#EBF0F8"
           }
          },
          "shapedefaults": {
           "line": {
            "color": "#2a3f5f"
           }
          },
          "ternary": {
           "aaxis": {
            "gridcolor": "#DFE8F3",
            "linecolor": "#A2B1C6",
            "ticks": ""
           },
           "baxis": {
            "gridcolor": "#DFE8F3",
            "linecolor": "#A2B1C6",
            "ticks": ""
           },
           "bgcolor": "white",
           "caxis": {
            "gridcolor": "#DFE8F3",
            "linecolor": "#A2B1C6",
            "ticks": ""
           }
          },
          "title": {
           "x": 0.05
          },
          "xaxis": {
           "automargin": true,
           "gridcolor": "#EBF0F8",
           "linecolor": "#EBF0F8",
           "ticks": "",
           "title": {
            "standoff": 15
           },
           "zerolinecolor": "#EBF0F8",
           "zerolinewidth": 2
          },
          "yaxis": {
           "automargin": true,
           "gridcolor": "#EBF0F8",
           "linecolor": "#EBF0F8",
           "ticks": "",
           "title": {
            "standoff": 15
           },
           "zerolinecolor": "#EBF0F8",
           "zerolinewidth": 2
          }
         }
        },
        "title": {
         "text": "Count Borrowers - BACKTEST"
        },
        "xaxis": {
         "title": {
          "text": "Month Since First Disbursement"
         }
        },
        "yaxis": {
         "title": {
          "text": "Count Borrowers"
         }
        }
       }
      },
      "text/html": [
       "<div>                            <div id=\"d0bc7012-ea6e-4931-8f0b-6a86f166a01d\" class=\"plotly-graph-div\" style=\"height:525px; width:100%;\"></div>            <script type=\"text/javascript\">                require([\"plotly\"], function(Plotly) {                    window.PLOTLYENV=window.PLOTLYENV || {};                                    if (document.getElementById(\"d0bc7012-ea6e-4931-8f0b-6a86f166a01d\")) {                    Plotly.newPlot(                        \"d0bc7012-ea6e-4931-8f0b-6a86f166a01d\",                        [{\"line\":{\"width\":2},\"mode\":\"markers+lines\",\"name\":\"2020-09-actual\",\"x\":[0,1,2,3,4,5,6,7,8,9,10,11,12,13,14,15,16],\"y\":[7801,4481,3661,3050,2549,2170,1952,1673,1594,1429,1362,1243,1177,1102,1054,893,916],\"type\":\"scatter\"},{\"line\":{\"dash\":\"dash\",\"width\":3},\"mode\":\"lines\",\"name\":\"2020-09-forecast\",\"x\":[13,14,15,16,17,18,19,20,21,22,23,24],\"y\":[1116.0643367858156,1060.2611199465248,1007.2480639491985,956.8856607517386,909.0413777141515,863.5893088284439,820.4098433870216,779.3893512176705,740.419883656787,703.3988894739475,668.2289450002502,634.8174977502375],\"type\":\"scatter\"},{\"line\":{\"width\":2},\"mode\":\"markers+lines\",\"name\":\"2020-10-actual\",\"x\":[0,1,2,3,4,5,6,7,8,9,10,11,12,13,14,15],\"y\":[9831,5296,4369,3573,2953,2667,2377,2181,1937,1773,1621,1523,1457,1363,1177,1093],\"type\":\"scatter\"},{\"line\":{\"dash\":\"dash\",\"width\":3},\"mode\":\"lines\",\"name\":\"2020-10-forecast\",\"x\":[12,13,14,15,16,17,18,19,20,21,22,23,24],\"y\":[1435.637643904046,1359.2268861509644,1291.2655418434163,1226.7022647512454,1165.367151513683,1107.0987939379988,1051.7438542410987,999.1566615290438,949.1988284525916,901.7388870299619,856.6519426784638,813.8193455445405,773.1283782673135],\"type\":\"scatter\"},{\"line\":{\"width\":2},\"mode\":\"markers+lines\",\"name\":\"2020-11-actual\",\"x\":[0,1,2,3,4,5,6,7,8,9,10,11,12,13,14],\"y\":[8113,4447,3517,2831,2479,2149,1937,1679,1554,1434,1331,1296,1180,1011,922],\"type\":\"scatter\"},{\"line\":{\"dash\":\"dash\",\"width\":3},\"mode\":\"lines\",\"name\":\"2020-11-forecast\",\"x\":[11,12,13,14,15,16,17,18,19,20,21,22,23,24],\"y\":[1246.869159084974,1174.1803628983278,1110.6644837646113,1054.6247932571227,1001.8935535942667,951.7988759145533,904.2089321188256,858.9984855128843,816.04856123724,775.246133175378,736.483826516609,699.6596351907785,664.6766534312395,631.4428207596775],\"type\":\"scatter\"},{\"line\":{\"width\":2},\"mode\":\"markers+lines\",\"name\":\"2020-12-actual\",\"x\":[0,1,2,3,4,5,6,7,8,9,10,11,12],\"y\":[8765,4585,3570,2995,2462,2162,1845,1682,1546,1408,1291,1214,1028],\"type\":\"scatter\"},{\"line\":{\"dash\":\"dash\",\"width\":3},\"mode\":\"lines\",\"name\":\"2020-12-forecast\",\"x\":[9,10,11,12,13,14,15,16,17,18,19,20,21,22,23,24],\"y\":[1421.540741945275,1317.6076696924615,1229.3737725741328,1153.433686810054,1087.3127488796754,1029.1671908814844,977.5937080809545,928.7140226769068,882.2783215430613,838.1644054659082,796.2561851926129,756.4433759329821,718.621207136333,682.6901467795163,648.5556394405405,616.1278574685135],\"type\":\"scatter\"},{\"line\":{\"width\":2},\"mode\":\"markers+lines\",\"name\":\"2021-01-actual\",\"x\":[0,1,2,3,4,5,6,7,8,9,10,11,12],\"y\":[10295,5359,4436,3494,3044,2552,2361,2088,1895,1775,1566,1389,1278],\"type\":\"scatter\"},{\"line\":{\"dash\":\"dash\",\"width\":3},\"mode\":\"lines\",\"name\":\"2021-01-forecast\",\"x\":[9,10,11,12,13,14,15,16,17,18,19,20,21,22,23,24],\"y\":[1746.8060890746292,1622.7574065183608,1517.2181050144854,1426.2034546375078,1346.81194735682,1276.8777892411752,1213.0338997791164,1152.3822047901606,1094.7630945506526,1040.02493982312,988.0236928319639,938.6225081903657,891.6913827808474,847.106813641805,804.7514729597148,764.513899311729],\"type\":\"scatter\"},{\"line\":{\"width\":2},\"mode\":\"markers+lines\",\"name\":\"2021-02-actual\",\"x\":[0,1,2,3,4,5,6,7,8,9,10,11],\"y\":[9331,5004,3728,3100,2589,2271,2034,1821,1673,1475,1274,1194],\"type\":\"scatter\"},{\"line\":{\"dash\":\"dash\",\"width\":3},\"mode\":\"lines\",\"name\":\"2021-02-forecast\",\"x\":[8,9,10,11,12,13,14,15,16,17,18,19,20,21,22,23,24],\"y\":[1656.9789068154776,1522.8163197031172,1410.834148998045,1315.8085442350377,1234.0558142886905,1162.900122067307,1100.3485583558027,1044.8848310383073,992.6405894863918,943.0085600120722,895.8581320114685,851.065225410895,808.5119641403503,768.0863659333328,729.682047636666,693.1979452548327,658.538047992091],\"type\":\"scatter\"},{\"line\":{\"width\":2},\"mode\":\"markers+lines\",\"name\":\"2021-03-actual\",\"x\":[0,1,2,3,4,5,6,7,8,9,10],\"y\":[10225,5046,4136,3324,2829,2401,2133,1920,1710,1392,1279],\"type\":\"scatter\"},{\"line\":{\"dash\":\"dash\",\"width\":3},\"mode\":\"lines\",\"name\":\"2021-03-forecast\",\"x\":[7,8,9,10,11,12,13,14,15,16,17,18,19,20,21,22,23,24],\"y\":[1910.917991256667,1734.3015707201466,1590.1909986047742,1470.1708659862593,1368.5285435428057,1281.243863847414,1205.4020025560826,1138.83577486459,1079.8989092270197,1025.9039637656685,974.608765577385,925.8783272985158,879.58441093359,835.6051903869104,793.8249308675648,754.1336843241867,716.4270001079773,680.6056501025784],\"type\":\"scatter\"},{\"line\":{\"width\":2},\"mode\":\"markers+lines\",\"name\":\"2021-04-actual\",\"x\":[0,1,2,3,4,5,6,7,8,9],\"y\":[9497,4950,3792,3155,2631,2300,2047,1802,1503,1380],\"type\":\"scatter\"},{\"line\":{\"dash\":\"dash\",\"width\":3},\"mode\":\"lines\",\"name\":\"2021-04-forecast\",\"x\":[6,7,8,9,10,11,12,13,14,15,16,17,18,19,20,21,22,23,24],\"y\":[2028.0080627416935,1818.5390305985097,1651.8080111916067,1515.6580805694907,1402.1888846099137,1306.0336258292334,1223.4130855580772,1151.5855319101972,1088.5113737878169,1032.640488628066,981.0084641966625,931.9580409868294,885.3601389374879,841.0921319906134,799.0375253910827,759.0856491215285,721.131366665452,685.0747983321793,650.8210584155703],\"type\":\"scatter\"},{\"line\":{\"width\":2},\"mode\":\"markers+lines\",\"name\":\"2021-05-actual\",\"x\":[0,1,2,3,4,5,6,7,8],\"y\":[10314,5214,4169,3319,2719,2368,2100,1716,1541],\"type\":\"scatter\"},{\"line\":{\"dash\":\"dash\",\"width\":3},\"mode\":\"lines\",\"name\":\"2021-05-forecast\",\"x\":[5,6,7,8,9,10,11,12,13,14,15,16,17,18,19,20,21,22,23,24],\"y\":[2330.39898594164,2045.5043551017677,1827.0287448655854,1653.7725487452792,1512.7591945287882,1395.5840123949254,1296.5547969487973,1211.6741039981173,1138.049106520367,1073.5327486262388,1016.4967018991559,965.6718668041981,917.3882734639881,871.5188597907886,827.9429168012491,786.5457709611866,747.2184824131273,709.8575582924709,674.3646803778473,640.6464463589549],\"type\":\"scatter\"},{\"line\":{\"width\":2},\"mode\":\"markers+lines\",\"name\":\"2021-06-actual\",\"x\":[0,1,2,3,4,5,6,7],\"y\":[9532,4761,3696,2899,2512,2164,1773,1571],\"type\":\"scatter\"},{\"line\":{\"dash\":\"dash\",\"width\":3},\"mode\":\"lines\",\"name\":\"2021-06-forecast\",\"x\":[4,5,6,7,8,9,10,11,12,13,14,15,16,17,18,19,20,21,22,23,24],\"y\":[2483.967785375886,2189.371315472305,1967.7242987664865,1793.9468398435054,1653.4483466757265,1537.118371455033,1438.9518601048649,1354.8174379563845,1281.7722441279147,1217.658774562061,1156.7758358339577,1098.93704404226,1043.9901918401467,991.7906822481393,942.2011481357323,895.0910907289456,850.3365361924983,807.8197093828734,767.4287239137296,729.0572877180432,692.604423332141],\"type\":\"scatter\"}],                        {\"template\":{\"data\":{\"bar\":[{\"error_x\":{\"color\":\"#2a3f5f\"},\"error_y\":{\"color\":\"#2a3f5f\"},\"marker\":{\"line\":{\"color\":\"white\",\"width\":0.5},\"pattern\":{\"fillmode\":\"overlay\",\"size\":10,\"solidity\":0.2}},\"type\":\"bar\"}],\"barpolar\":[{\"marker\":{\"line\":{\"color\":\"white\",\"width\":0.5},\"pattern\":{\"fillmode\":\"overlay\",\"size\":10,\"solidity\":0.2}},\"type\":\"barpolar\"}],\"carpet\":[{\"aaxis\":{\"endlinecolor\":\"#2a3f5f\",\"gridcolor\":\"#C8D4E3\",\"linecolor\":\"#C8D4E3\",\"minorgridcolor\":\"#C8D4E3\",\"startlinecolor\":\"#2a3f5f\"},\"baxis\":{\"endlinecolor\":\"#2a3f5f\",\"gridcolor\":\"#C8D4E3\",\"linecolor\":\"#C8D4E3\",\"minorgridcolor\":\"#C8D4E3\",\"startlinecolor\":\"#2a3f5f\"},\"type\":\"carpet\"}],\"choropleth\":[{\"colorbar\":{\"outlinewidth\":0,\"ticks\":\"\"},\"type\":\"choropleth\"}],\"contour\":[{\"colorbar\":{\"outlinewidth\":0,\"ticks\":\"\"},\"colorscale\":[[0.0,\"#0d0887\"],[0.1111111111111111,\"#46039f\"],[0.2222222222222222,\"#7201a8\"],[0.3333333333333333,\"#9c179e\"],[0.4444444444444444,\"#bd3786\"],[0.5555555555555556,\"#d8576b\"],[0.6666666666666666,\"#ed7953\"],[0.7777777777777778,\"#fb9f3a\"],[0.8888888888888888,\"#fdca26\"],[1.0,\"#f0f921\"]],\"type\":\"contour\"}],\"contourcarpet\":[{\"colorbar\":{\"outlinewidth\":0,\"ticks\":\"\"},\"type\":\"contourcarpet\"}],\"heatmap\":[{\"colorbar\":{\"outlinewidth\":0,\"ticks\":\"\"},\"colorscale\":[[0.0,\"#0d0887\"],[0.1111111111111111,\"#46039f\"],[0.2222222222222222,\"#7201a8\"],[0.3333333333333333,\"#9c179e\"],[0.4444444444444444,\"#bd3786\"],[0.5555555555555556,\"#d8576b\"],[0.6666666666666666,\"#ed7953\"],[0.7777777777777778,\"#fb9f3a\"],[0.8888888888888888,\"#fdca26\"],[1.0,\"#f0f921\"]],\"type\":\"heatmap\"}],\"heatmapgl\":[{\"colorbar\":{\"outlinewidth\":0,\"ticks\":\"\"},\"colorscale\":[[0.0,\"#0d0887\"],[0.1111111111111111,\"#46039f\"],[0.2222222222222222,\"#7201a8\"],[0.3333333333333333,\"#9c179e\"],[0.4444444444444444,\"#bd3786\"],[0.5555555555555556,\"#d8576b\"],[0.6666666666666666,\"#ed7953\"],[0.7777777777777778,\"#fb9f3a\"],[0.8888888888888888,\"#fdca26\"],[1.0,\"#f0f921\"]],\"type\":\"heatmapgl\"}],\"histogram\":[{\"marker\":{\"pattern\":{\"fillmode\":\"overlay\",\"size\":10,\"solidity\":0.2}},\"type\":\"histogram\"}],\"histogram2d\":[{\"colorbar\":{\"outlinewidth\":0,\"ticks\":\"\"},\"colorscale\":[[0.0,\"#0d0887\"],[0.1111111111111111,\"#46039f\"],[0.2222222222222222,\"#7201a8\"],[0.3333333333333333,\"#9c179e\"],[0.4444444444444444,\"#bd3786\"],[0.5555555555555556,\"#d8576b\"],[0.6666666666666666,\"#ed7953\"],[0.7777777777777778,\"#fb9f3a\"],[0.8888888888888888,\"#fdca26\"],[1.0,\"#f0f921\"]],\"type\":\"histogram2d\"}],\"histogram2dcontour\":[{\"colorbar\":{\"outlinewidth\":0,\"ticks\":\"\"},\"colorscale\":[[0.0,\"#0d0887\"],[0.1111111111111111,\"#46039f\"],[0.2222222222222222,\"#7201a8\"],[0.3333333333333333,\"#9c179e\"],[0.4444444444444444,\"#bd3786\"],[0.5555555555555556,\"#d8576b\"],[0.6666666666666666,\"#ed7953\"],[0.7777777777777778,\"#fb9f3a\"],[0.8888888888888888,\"#fdca26\"],[1.0,\"#f0f921\"]],\"type\":\"histogram2dcontour\"}],\"mesh3d\":[{\"colorbar\":{\"outlinewidth\":0,\"ticks\":\"\"},\"type\":\"mesh3d\"}],\"parcoords\":[{\"line\":{\"colorbar\":{\"outlinewidth\":0,\"ticks\":\"\"}},\"type\":\"parcoords\"}],\"pie\":[{\"automargin\":true,\"type\":\"pie\"}],\"scatter\":[{\"marker\":{\"colorbar\":{\"outlinewidth\":0,\"ticks\":\"\"}},\"type\":\"scatter\"}],\"scatter3d\":[{\"line\":{\"colorbar\":{\"outlinewidth\":0,\"ticks\":\"\"}},\"marker\":{\"colorbar\":{\"outlinewidth\":0,\"ticks\":\"\"}},\"type\":\"scatter3d\"}],\"scattercarpet\":[{\"marker\":{\"colorbar\":{\"outlinewidth\":0,\"ticks\":\"\"}},\"type\":\"scattercarpet\"}],\"scattergeo\":[{\"marker\":{\"colorbar\":{\"outlinewidth\":0,\"ticks\":\"\"}},\"type\":\"scattergeo\"}],\"scattergl\":[{\"marker\":{\"colorbar\":{\"outlinewidth\":0,\"ticks\":\"\"}},\"type\":\"scattergl\"}],\"scattermapbox\":[{\"marker\":{\"colorbar\":{\"outlinewidth\":0,\"ticks\":\"\"}},\"type\":\"scattermapbox\"}],\"scatterpolar\":[{\"marker\":{\"colorbar\":{\"outlinewidth\":0,\"ticks\":\"\"}},\"type\":\"scatterpolar\"}],\"scatterpolargl\":[{\"marker\":{\"colorbar\":{\"outlinewidth\":0,\"ticks\":\"\"}},\"type\":\"scatterpolargl\"}],\"scatterternary\":[{\"marker\":{\"colorbar\":{\"outlinewidth\":0,\"ticks\":\"\"}},\"type\":\"scatterternary\"}],\"surface\":[{\"colorbar\":{\"outlinewidth\":0,\"ticks\":\"\"},\"colorscale\":[[0.0,\"#0d0887\"],[0.1111111111111111,\"#46039f\"],[0.2222222222222222,\"#7201a8\"],[0.3333333333333333,\"#9c179e\"],[0.4444444444444444,\"#bd3786\"],[0.5555555555555556,\"#d8576b\"],[0.6666666666666666,\"#ed7953\"],[0.7777777777777778,\"#fb9f3a\"],[0.8888888888888888,\"#fdca26\"],[1.0,\"#f0f921\"]],\"type\":\"surface\"}],\"table\":[{\"cells\":{\"fill\":{\"color\":\"#EBF0F8\"},\"line\":{\"color\":\"white\"}},\"header\":{\"fill\":{\"color\":\"#C8D4E3\"},\"line\":{\"color\":\"white\"}},\"type\":\"table\"}]},\"layout\":{\"annotationdefaults\":{\"arrowcolor\":\"#2a3f5f\",\"arrowhead\":0,\"arrowwidth\":1},\"autotypenumbers\":\"strict\",\"coloraxis\":{\"colorbar\":{\"outlinewidth\":0,\"ticks\":\"\"}},\"colorscale\":{\"diverging\":[[0,\"#8e0152\"],[0.1,\"#c51b7d\"],[0.2,\"#de77ae\"],[0.3,\"#f1b6da\"],[0.4,\"#fde0ef\"],[0.5,\"#f7f7f7\"],[0.6,\"#e6f5d0\"],[0.7,\"#b8e186\"],[0.8,\"#7fbc41\"],[0.9,\"#4d9221\"],[1,\"#276419\"]],\"sequential\":[[0.0,\"#0d0887\"],[0.1111111111111111,\"#46039f\"],[0.2222222222222222,\"#7201a8\"],[0.3333333333333333,\"#9c179e\"],[0.4444444444444444,\"#bd3786\"],[0.5555555555555556,\"#d8576b\"],[0.6666666666666666,\"#ed7953\"],[0.7777777777777778,\"#fb9f3a\"],[0.8888888888888888,\"#fdca26\"],[1.0,\"#f0f921\"]],\"sequentialminus\":[[0.0,\"#0d0887\"],[0.1111111111111111,\"#46039f\"],[0.2222222222222222,\"#7201a8\"],[0.3333333333333333,\"#9c179e\"],[0.4444444444444444,\"#bd3786\"],[0.5555555555555556,\"#d8576b\"],[0.6666666666666666,\"#ed7953\"],[0.7777777777777778,\"#fb9f3a\"],[0.8888888888888888,\"#fdca26\"],[1.0,\"#f0f921\"]]},\"colorway\":[\"#636efa\",\"#EF553B\",\"#00cc96\",\"#ab63fa\",\"#FFA15A\",\"#19d3f3\",\"#FF6692\",\"#B6E880\",\"#FF97FF\",\"#FECB52\"],\"font\":{\"color\":\"#2a3f5f\"},\"geo\":{\"bgcolor\":\"white\",\"lakecolor\":\"white\",\"landcolor\":\"white\",\"showlakes\":true,\"showland\":true,\"subunitcolor\":\"#C8D4E3\"},\"hoverlabel\":{\"align\":\"left\"},\"hovermode\":\"closest\",\"mapbox\":{\"style\":\"light\"},\"paper_bgcolor\":\"white\",\"plot_bgcolor\":\"white\",\"polar\":{\"angularaxis\":{\"gridcolor\":\"#EBF0F8\",\"linecolor\":\"#EBF0F8\",\"ticks\":\"\"},\"bgcolor\":\"white\",\"radialaxis\":{\"gridcolor\":\"#EBF0F8\",\"linecolor\":\"#EBF0F8\",\"ticks\":\"\"}},\"scene\":{\"xaxis\":{\"backgroundcolor\":\"white\",\"gridcolor\":\"#DFE8F3\",\"gridwidth\":2,\"linecolor\":\"#EBF0F8\",\"showbackground\":true,\"ticks\":\"\",\"zerolinecolor\":\"#EBF0F8\"},\"yaxis\":{\"backgroundcolor\":\"white\",\"gridcolor\":\"#DFE8F3\",\"gridwidth\":2,\"linecolor\":\"#EBF0F8\",\"showbackground\":true,\"ticks\":\"\",\"zerolinecolor\":\"#EBF0F8\"},\"zaxis\":{\"backgroundcolor\":\"white\",\"gridcolor\":\"#DFE8F3\",\"gridwidth\":2,\"linecolor\":\"#EBF0F8\",\"showbackground\":true,\"ticks\":\"\",\"zerolinecolor\":\"#EBF0F8\"}},\"shapedefaults\":{\"line\":{\"color\":\"#2a3f5f\"}},\"ternary\":{\"aaxis\":{\"gridcolor\":\"#DFE8F3\",\"linecolor\":\"#A2B1C6\",\"ticks\":\"\"},\"baxis\":{\"gridcolor\":\"#DFE8F3\",\"linecolor\":\"#A2B1C6\",\"ticks\":\"\"},\"bgcolor\":\"white\",\"caxis\":{\"gridcolor\":\"#DFE8F3\",\"linecolor\":\"#A2B1C6\",\"ticks\":\"\"}},\"title\":{\"x\":0.05},\"xaxis\":{\"automargin\":true,\"gridcolor\":\"#EBF0F8\",\"linecolor\":\"#EBF0F8\",\"ticks\":\"\",\"title\":{\"standoff\":15},\"zerolinecolor\":\"#EBF0F8\",\"zerolinewidth\":2},\"yaxis\":{\"automargin\":true,\"gridcolor\":\"#EBF0F8\",\"linecolor\":\"#EBF0F8\",\"ticks\":\"\",\"title\":{\"standoff\":15},\"zerolinecolor\":\"#EBF0F8\",\"zerolinewidth\":2}}},\"title\":{\"text\":\"Count Borrowers - BACKTEST\"},\"xaxis\":{\"title\":{\"text\":\"Month Since First Disbursement\"}},\"yaxis\":{\"title\":{\"text\":\"Count Borrowers\"}}},                        {\"responsive\": true}                    ).then(function(){\n",
       "                            \n",
       "var gd = document.getElementById('d0bc7012-ea6e-4931-8f0b-6a86f166a01d');\n",
       "var x = new MutationObserver(function (mutations, observer) {{\n",
       "        var display = window.getComputedStyle(gd).display;\n",
       "        if (!display || display === 'none') {{\n",
       "            console.log([gd, 'removed!']);\n",
       "            Plotly.purge(gd);\n",
       "            observer.disconnect();\n",
       "        }}\n",
       "}});\n",
       "\n",
       "// Listen for the removal of the full notebook cells\n",
       "var notebookContainer = gd.closest('#notebook-container');\n",
       "if (notebookContainer) {{\n",
       "    x.observe(notebookContainer, {childList: true});\n",
       "}}\n",
       "\n",
       "// Listen for the clearing of the current output cell\n",
       "var outputEl = gd.closest('.output');\n",
       "if (outputEl) {{\n",
       "    x.observe(outputEl, {childList: true});\n",
       "}}\n",
       "\n",
       "                        })                };                });            </script>        </div>"
      ]
     },
     "metadata": {},
     "output_type": "display_data"
    }
   ],
   "source": [
    "m.plot_cohorts('Count Borrowers', data='backtest')"
   ]
  },
  {
   "cell_type": "code",
   "execution_count": 45,
   "id": "66ccd96d",
   "metadata": {},
   "outputs": [
    {
     "data": {
      "text/plain": [
       "0       actual\n",
       "1       actual\n",
       "2       actual\n",
       "3       actual\n",
       "4       actual\n",
       "        ...   \n",
       "20    forecast\n",
       "21    forecast\n",
       "22    forecast\n",
       "23    forecast\n",
       "24    forecast\n",
       "Name: data_type, Length: 250, dtype: object"
      ]
     },
     "execution_count": 45,
     "metadata": {},
     "output_type": "execute_result"
    }
   ],
   "source": [
    "m.backtest.data_type"
   ]
  },
  {
   "cell_type": "code",
   "execution_count": 48,
   "id": "9b39a77c",
   "metadata": {},
   "outputs": [
    {
     "data": {
      "text/html": [
       "<div>\n",
       "<style scoped>\n",
       "    .dataframe tbody tr th:only-of-type {\n",
       "        vertical-align: middle;\n",
       "    }\n",
       "\n",
       "    .dataframe tbody tr th {\n",
       "        vertical-align: top;\n",
       "    }\n",
       "\n",
       "    .dataframe thead th {\n",
       "        text-align: right;\n",
       "    }\n",
       "</style>\n",
       "<table border=\"1\" class=\"dataframe\">\n",
       "  <thead>\n",
       "    <tr style=\"text-align: right;\">\n",
       "      <th></th>\n",
       "      <th>cohort</th>\n",
       "      <th>Months Since First Loan Disbursed</th>\n",
       "      <th>data_type</th>\n",
       "      <th>borrower_retention</th>\n",
       "      <th>error-borrower_retention</th>\n",
       "      <th>%error-borrower_retention</th>\n",
       "    </tr>\n",
       "  </thead>\n",
       "  <tbody>\n",
       "    <tr>\n",
       "      <th>0</th>\n",
       "      <td>2020-09</td>\n",
       "      <td>0</td>\n",
       "      <td>actual</td>\n",
       "      <td>1.000000</td>\n",
       "      <td>NaN</td>\n",
       "      <td>NaN</td>\n",
       "    </tr>\n",
       "    <tr>\n",
       "      <th>1</th>\n",
       "      <td>2020-09</td>\n",
       "      <td>1</td>\n",
       "      <td>actual</td>\n",
       "      <td>0.574414</td>\n",
       "      <td>NaN</td>\n",
       "      <td>NaN</td>\n",
       "    </tr>\n",
       "    <tr>\n",
       "      <th>2</th>\n",
       "      <td>2020-09</td>\n",
       "      <td>2</td>\n",
       "      <td>actual</td>\n",
       "      <td>0.469299</td>\n",
       "      <td>NaN</td>\n",
       "      <td>NaN</td>\n",
       "    </tr>\n",
       "    <tr>\n",
       "      <th>3</th>\n",
       "      <td>2020-09</td>\n",
       "      <td>3</td>\n",
       "      <td>actual</td>\n",
       "      <td>0.390976</td>\n",
       "      <td>NaN</td>\n",
       "      <td>NaN</td>\n",
       "    </tr>\n",
       "    <tr>\n",
       "      <th>4</th>\n",
       "      <td>2020-09</td>\n",
       "      <td>4</td>\n",
       "      <td>actual</td>\n",
       "      <td>0.326753</td>\n",
       "      <td>NaN</td>\n",
       "      <td>NaN</td>\n",
       "    </tr>\n",
       "  </tbody>\n",
       "</table>\n",
       "</div>"
      ],
      "text/plain": [
       "    cohort  Months Since First Loan Disbursed data_type  borrower_retention  \\\n",
       "0  2020-09                                  0    actual            1.000000   \n",
       "1  2020-09                                  1    actual            0.574414   \n",
       "2  2020-09                                  2    actual            0.469299   \n",
       "3  2020-09                                  3    actual            0.390976   \n",
       "4  2020-09                                  4    actual            0.326753   \n",
       "\n",
       "   error-borrower_retention  %error-borrower_retention  \n",
       "0                       NaN                        NaN  \n",
       "1                       NaN                        NaN  \n",
       "2                       NaN                        NaN  \n",
       "3                       NaN                        NaN  \n",
       "4                       NaN                        NaN  "
      ]
     },
     "execution_count": 48,
     "metadata": {},
     "output_type": "execute_result"
    }
   ],
   "source": [
    "bt_retention = m.backtest[['cohort', 'Months Since First Loan Disbursed', 'data_type'] + \\\n",
    "                          [i for i in m.backtest.columns if 'retention' in i]]\n",
    "bt_retention.head()"
   ]
  },
  {
   "cell_type": "code",
   "execution_count": 49,
   "id": "5a23ab5e",
   "metadata": {},
   "outputs": [
    {
     "data": {
      "text/html": [
       "<div>\n",
       "<style scoped>\n",
       "    .dataframe tbody tr th:only-of-type {\n",
       "        vertical-align: middle;\n",
       "    }\n",
       "\n",
       "    .dataframe tbody tr th {\n",
       "        vertical-align: top;\n",
       "    }\n",
       "\n",
       "    .dataframe thead th {\n",
       "        text-align: right;\n",
       "    }\n",
       "</style>\n",
       "<table border=\"1\" class=\"dataframe\">\n",
       "  <thead>\n",
       "    <tr style=\"text-align: right;\">\n",
       "      <th></th>\n",
       "      <th>cohort</th>\n",
       "      <th>Months Since First Loan Disbursed</th>\n",
       "      <th>data_type</th>\n",
       "      <th>borrower_retention</th>\n",
       "      <th>error-borrower_retention</th>\n",
       "      <th>%error-borrower_retention</th>\n",
       "    </tr>\n",
       "  </thead>\n",
       "  <tbody>\n",
       "    <tr>\n",
       "      <th>0</th>\n",
       "      <td>2021-06</td>\n",
       "      <td>0</td>\n",
       "      <td>actual</td>\n",
       "      <td>1.000000</td>\n",
       "      <td>NaN</td>\n",
       "      <td>NaN</td>\n",
       "    </tr>\n",
       "    <tr>\n",
       "      <th>1</th>\n",
       "      <td>2021-06</td>\n",
       "      <td>1</td>\n",
       "      <td>actual</td>\n",
       "      <td>0.499475</td>\n",
       "      <td>NaN</td>\n",
       "      <td>NaN</td>\n",
       "    </tr>\n",
       "    <tr>\n",
       "      <th>2</th>\n",
       "      <td>2021-06</td>\n",
       "      <td>2</td>\n",
       "      <td>actual</td>\n",
       "      <td>0.387747</td>\n",
       "      <td>NaN</td>\n",
       "      <td>NaN</td>\n",
       "    </tr>\n",
       "    <tr>\n",
       "      <th>3</th>\n",
       "      <td>2021-06</td>\n",
       "      <td>3</td>\n",
       "      <td>actual</td>\n",
       "      <td>0.304133</td>\n",
       "      <td>NaN</td>\n",
       "      <td>NaN</td>\n",
       "    </tr>\n",
       "    <tr>\n",
       "      <th>4</th>\n",
       "      <td>2021-06</td>\n",
       "      <td>4</td>\n",
       "      <td>forecast</td>\n",
       "      <td>0.260593</td>\n",
       "      <td>-0.002941</td>\n",
       "      <td>-0.011159</td>\n",
       "    </tr>\n",
       "    <tr>\n",
       "      <th>5</th>\n",
       "      <td>2021-06</td>\n",
       "      <td>5</td>\n",
       "      <td>forecast</td>\n",
       "      <td>0.229686</td>\n",
       "      <td>0.002662</td>\n",
       "      <td>0.011724</td>\n",
       "    </tr>\n",
       "    <tr>\n",
       "      <th>6</th>\n",
       "      <td>2021-06</td>\n",
       "      <td>6</td>\n",
       "      <td>forecast</td>\n",
       "      <td>0.206434</td>\n",
       "      <td>0.020428</td>\n",
       "      <td>0.109828</td>\n",
       "    </tr>\n",
       "    <tr>\n",
       "      <th>7</th>\n",
       "      <td>2021-06</td>\n",
       "      <td>7</td>\n",
       "      <td>forecast</td>\n",
       "      <td>0.188203</td>\n",
       "      <td>0.023389</td>\n",
       "      <td>0.141914</td>\n",
       "    </tr>\n",
       "    <tr>\n",
       "      <th>8</th>\n",
       "      <td>2021-06</td>\n",
       "      <td>8</td>\n",
       "      <td>forecast</td>\n",
       "      <td>0.173463</td>\n",
       "      <td>NaN</td>\n",
       "      <td>NaN</td>\n",
       "    </tr>\n",
       "    <tr>\n",
       "      <th>9</th>\n",
       "      <td>2021-06</td>\n",
       "      <td>9</td>\n",
       "      <td>forecast</td>\n",
       "      <td>0.161259</td>\n",
       "      <td>NaN</td>\n",
       "      <td>NaN</td>\n",
       "    </tr>\n",
       "    <tr>\n",
       "      <th>10</th>\n",
       "      <td>2021-06</td>\n",
       "      <td>10</td>\n",
       "      <td>forecast</td>\n",
       "      <td>0.150960</td>\n",
       "      <td>NaN</td>\n",
       "      <td>NaN</td>\n",
       "    </tr>\n",
       "    <tr>\n",
       "      <th>11</th>\n",
       "      <td>2021-06</td>\n",
       "      <td>11</td>\n",
       "      <td>forecast</td>\n",
       "      <td>0.142134</td>\n",
       "      <td>NaN</td>\n",
       "      <td>NaN</td>\n",
       "    </tr>\n",
       "    <tr>\n",
       "      <th>12</th>\n",
       "      <td>2021-06</td>\n",
       "      <td>12</td>\n",
       "      <td>forecast</td>\n",
       "      <td>0.134470</td>\n",
       "      <td>NaN</td>\n",
       "      <td>NaN</td>\n",
       "    </tr>\n",
       "    <tr>\n",
       "      <th>13</th>\n",
       "      <td>2021-06</td>\n",
       "      <td>13</td>\n",
       "      <td>forecast</td>\n",
       "      <td>0.127744</td>\n",
       "      <td>NaN</td>\n",
       "      <td>NaN</td>\n",
       "    </tr>\n",
       "    <tr>\n",
       "      <th>14</th>\n",
       "      <td>2021-06</td>\n",
       "      <td>14</td>\n",
       "      <td>forecast</td>\n",
       "      <td>0.121357</td>\n",
       "      <td>NaN</td>\n",
       "      <td>NaN</td>\n",
       "    </tr>\n",
       "    <tr>\n",
       "      <th>15</th>\n",
       "      <td>2021-06</td>\n",
       "      <td>15</td>\n",
       "      <td>forecast</td>\n",
       "      <td>0.115289</td>\n",
       "      <td>NaN</td>\n",
       "      <td>NaN</td>\n",
       "    </tr>\n",
       "    <tr>\n",
       "      <th>16</th>\n",
       "      <td>2021-06</td>\n",
       "      <td>16</td>\n",
       "      <td>forecast</td>\n",
       "      <td>0.109525</td>\n",
       "      <td>NaN</td>\n",
       "      <td>NaN</td>\n",
       "    </tr>\n",
       "    <tr>\n",
       "      <th>17</th>\n",
       "      <td>2021-06</td>\n",
       "      <td>17</td>\n",
       "      <td>forecast</td>\n",
       "      <td>0.104049</td>\n",
       "      <td>NaN</td>\n",
       "      <td>NaN</td>\n",
       "    </tr>\n",
       "    <tr>\n",
       "      <th>18</th>\n",
       "      <td>2021-06</td>\n",
       "      <td>18</td>\n",
       "      <td>forecast</td>\n",
       "      <td>0.098846</td>\n",
       "      <td>NaN</td>\n",
       "      <td>NaN</td>\n",
       "    </tr>\n",
       "    <tr>\n",
       "      <th>19</th>\n",
       "      <td>2021-06</td>\n",
       "      <td>19</td>\n",
       "      <td>forecast</td>\n",
       "      <td>0.093904</td>\n",
       "      <td>NaN</td>\n",
       "      <td>NaN</td>\n",
       "    </tr>\n",
       "    <tr>\n",
       "      <th>20</th>\n",
       "      <td>2021-06</td>\n",
       "      <td>20</td>\n",
       "      <td>forecast</td>\n",
       "      <td>0.089209</td>\n",
       "      <td>NaN</td>\n",
       "      <td>NaN</td>\n",
       "    </tr>\n",
       "    <tr>\n",
       "      <th>21</th>\n",
       "      <td>2021-06</td>\n",
       "      <td>21</td>\n",
       "      <td>forecast</td>\n",
       "      <td>0.084748</td>\n",
       "      <td>NaN</td>\n",
       "      <td>NaN</td>\n",
       "    </tr>\n",
       "    <tr>\n",
       "      <th>22</th>\n",
       "      <td>2021-06</td>\n",
       "      <td>22</td>\n",
       "      <td>forecast</td>\n",
       "      <td>0.080511</td>\n",
       "      <td>NaN</td>\n",
       "      <td>NaN</td>\n",
       "    </tr>\n",
       "    <tr>\n",
       "      <th>23</th>\n",
       "      <td>2021-06</td>\n",
       "      <td>23</td>\n",
       "      <td>forecast</td>\n",
       "      <td>0.076485</td>\n",
       "      <td>NaN</td>\n",
       "      <td>NaN</td>\n",
       "    </tr>\n",
       "    <tr>\n",
       "      <th>24</th>\n",
       "      <td>2021-06</td>\n",
       "      <td>24</td>\n",
       "      <td>forecast</td>\n",
       "      <td>0.072661</td>\n",
       "      <td>NaN</td>\n",
       "      <td>NaN</td>\n",
       "    </tr>\n",
       "  </tbody>\n",
       "</table>\n",
       "</div>"
      ],
      "text/plain": [
       "     cohort  Months Since First Loan Disbursed data_type  borrower_retention  \\\n",
       "0   2021-06                                  0    actual            1.000000   \n",
       "1   2021-06                                  1    actual            0.499475   \n",
       "2   2021-06                                  2    actual            0.387747   \n",
       "3   2021-06                                  3    actual            0.304133   \n",
       "4   2021-06                                  4  forecast            0.260593   \n",
       "5   2021-06                                  5  forecast            0.229686   \n",
       "6   2021-06                                  6  forecast            0.206434   \n",
       "7   2021-06                                  7  forecast            0.188203   \n",
       "8   2021-06                                  8  forecast            0.173463   \n",
       "9   2021-06                                  9  forecast            0.161259   \n",
       "10  2021-06                                 10  forecast            0.150960   \n",
       "11  2021-06                                 11  forecast            0.142134   \n",
       "12  2021-06                                 12  forecast            0.134470   \n",
       "13  2021-06                                 13  forecast            0.127744   \n",
       "14  2021-06                                 14  forecast            0.121357   \n",
       "15  2021-06                                 15  forecast            0.115289   \n",
       "16  2021-06                                 16  forecast            0.109525   \n",
       "17  2021-06                                 17  forecast            0.104049   \n",
       "18  2021-06                                 18  forecast            0.098846   \n",
       "19  2021-06                                 19  forecast            0.093904   \n",
       "20  2021-06                                 20  forecast            0.089209   \n",
       "21  2021-06                                 21  forecast            0.084748   \n",
       "22  2021-06                                 22  forecast            0.080511   \n",
       "23  2021-06                                 23  forecast            0.076485   \n",
       "24  2021-06                                 24  forecast            0.072661   \n",
       "\n",
       "    error-borrower_retention  %error-borrower_retention  \n",
       "0                        NaN                        NaN  \n",
       "1                        NaN                        NaN  \n",
       "2                        NaN                        NaN  \n",
       "3                        NaN                        NaN  \n",
       "4                  -0.002941                  -0.011159  \n",
       "5                   0.002662                   0.011724  \n",
       "6                   0.020428                   0.109828  \n",
       "7                   0.023389                   0.141914  \n",
       "8                        NaN                        NaN  \n",
       "9                        NaN                        NaN  \n",
       "10                       NaN                        NaN  \n",
       "11                       NaN                        NaN  \n",
       "12                       NaN                        NaN  \n",
       "13                       NaN                        NaN  \n",
       "14                       NaN                        NaN  \n",
       "15                       NaN                        NaN  \n",
       "16                       NaN                        NaN  \n",
       "17                       NaN                        NaN  \n",
       "18                       NaN                        NaN  \n",
       "19                       NaN                        NaN  \n",
       "20                       NaN                        NaN  \n",
       "21                       NaN                        NaN  \n",
       "22                       NaN                        NaN  \n",
       "23                       NaN                        NaN  \n",
       "24                       NaN                        NaN  "
      ]
     },
     "execution_count": 49,
     "metadata": {},
     "output_type": "execute_result"
    }
   ],
   "source": [
    "bt_retention[bt_retention.cohort=='2021-06']"
   ]
  },
  {
   "cell_type": "code",
   "execution_count": null,
   "id": "75a35392",
   "metadata": {},
   "outputs": [],
   "source": []
  }
 ],
 "metadata": {
  "kernelspec": {
   "display_name": "Python 3 (ipykernel)",
   "language": "python",
   "name": "python3"
  },
  "language_info": {
   "codemirror_mode": {
    "name": "ipython",
    "version": 3
   },
   "file_extension": ".py",
   "mimetype": "text/x-python",
   "name": "python",
   "nbconvert_exporter": "python",
   "pygments_lexer": "ipython3",
   "version": "3.9.7"
  }
 },
 "nbformat": 4,
 "nbformat_minor": 5
}
