{
 "cells": [
  {
   "cell_type": "code",
   "execution_count": 1,
   "id": "4a2cc0bb",
   "metadata": {},
   "outputs": [],
   "source": [
    "import pandas as pd\n",
    "import numpy as np\n",
    "from pyltv import Model"
   ]
  },
  {
   "cell_type": "code",
   "execution_count": 2,
   "id": "8ba67da2",
   "metadata": {},
   "outputs": [],
   "source": [
    "data = pd.read_csv('data/ke_data.csv')"
   ]
  },
  {
   "cell_type": "code",
   "execution_count": 3,
   "id": "199f3fc6",
   "metadata": {},
   "outputs": [
    {
     "data": {
      "text/html": [
       "<div>\n",
       "<style scoped>\n",
       "    .dataframe tbody tr th:only-of-type {\n",
       "        vertical-align: middle;\n",
       "    }\n",
       "\n",
       "    .dataframe tbody tr th {\n",
       "        vertical-align: top;\n",
       "    }\n",
       "\n",
       "    .dataframe thead th {\n",
       "        text-align: right;\n",
       "    }\n",
       "</style>\n",
       "<table border=\"1\" class=\"dataframe\">\n",
       "  <thead>\n",
       "    <tr style=\"text-align: right;\">\n",
       "      <th></th>\n",
       "      <th>First Loan Local Disbursement Month</th>\n",
       "      <th>Months Since First Loan Disbursed</th>\n",
       "      <th>Count First Loans</th>\n",
       "      <th>Count Borrowers</th>\n",
       "      <th>Count Loans</th>\n",
       "      <th>Total Amount</th>\n",
       "      <th>Total Interest Assessed</th>\n",
       "      <th>Total Rollover Charged</th>\n",
       "      <th>Total Rollover Reversed</th>\n",
       "      <th>Default Rate Amount 7D</th>\n",
       "      <th>...</th>\n",
       "      <th>Default Rate Amount 51D</th>\n",
       "      <th>Ftbs</th>\n",
       "      <th>Borrower Retention</th>\n",
       "      <th>Loans Per Borrower</th>\n",
       "      <th>Loan Size</th>\n",
       "      <th>Interest Rate</th>\n",
       "      <th>Total Revenue Of Originations</th>\n",
       "      <th>Loans Per Original</th>\n",
       "      <th>Originations Per Original</th>\n",
       "      <th>Revenue Per Original</th>\n",
       "    </tr>\n",
       "  </thead>\n",
       "  <tbody>\n",
       "    <tr>\n",
       "      <th>172</th>\n",
       "      <td>2021-11</td>\n",
       "      <td>0</td>\n",
       "      <td>8843</td>\n",
       "      <td>8843</td>\n",
       "      <td>14474</td>\n",
       "      <td>47467000</td>\n",
       "      <td>6710270</td>\n",
       "      <td>858960</td>\n",
       "      <td>0</td>\n",
       "      <td>0.200963</td>\n",
       "      <td>...</td>\n",
       "      <td>0.179847</td>\n",
       "      <td>10314</td>\n",
       "      <td>0.857378</td>\n",
       "      <td>1.636775</td>\n",
       "      <td>3279.466630</td>\n",
       "      <td>0.141367</td>\n",
       "      <td>0.159463</td>\n",
       "      <td>1.403335</td>\n",
       "      <td>4602.191196</td>\n",
       "      <td>733.879193</td>\n",
       "    </tr>\n",
       "    <tr>\n",
       "      <th>173</th>\n",
       "      <td>2021-11</td>\n",
       "      <td>1</td>\n",
       "      <td>0</td>\n",
       "      <td>3878</td>\n",
       "      <td>4827</td>\n",
       "      <td>29629000</td>\n",
       "      <td>4741570</td>\n",
       "      <td>441073</td>\n",
       "      <td>0</td>\n",
       "      <td>0.185518</td>\n",
       "      <td>...</td>\n",
       "      <td>0.126838</td>\n",
       "      <td>10314</td>\n",
       "      <td>0.375994</td>\n",
       "      <td>1.244714</td>\n",
       "      <td>6138.181065</td>\n",
       "      <td>0.160031</td>\n",
       "      <td>0.174918</td>\n",
       "      <td>0.468005</td>\n",
       "      <td>2872.697305</td>\n",
       "      <td>502.486232</td>\n",
       "    </tr>\n",
       "    <tr>\n",
       "      <th>174</th>\n",
       "      <td>2021-11</td>\n",
       "      <td>2</td>\n",
       "      <td>0</td>\n",
       "      <td>3055</td>\n",
       "      <td>3552</td>\n",
       "      <td>26645000</td>\n",
       "      <td>4221010</td>\n",
       "      <td>104591</td>\n",
       "      <td>0</td>\n",
       "      <td>0.175424</td>\n",
       "      <td>...</td>\n",
       "      <td>NaN</td>\n",
       "      <td>10314</td>\n",
       "      <td>0.296199</td>\n",
       "      <td>1.162684</td>\n",
       "      <td>7501.407658</td>\n",
       "      <td>0.158417</td>\n",
       "      <td>0.162342</td>\n",
       "      <td>0.344386</td>\n",
       "      <td>2583.381811</td>\n",
       "      <td>419.391216</td>\n",
       "    </tr>\n",
       "    <tr>\n",
       "      <th>175</th>\n",
       "      <td>2021-11</td>\n",
       "      <td>3</td>\n",
       "      <td>0</td>\n",
       "      <td>1243</td>\n",
       "      <td>1299</td>\n",
       "      <td>11200000</td>\n",
       "      <td>1835560</td>\n",
       "      <td>0</td>\n",
       "      <td>0</td>\n",
       "      <td>0.079336</td>\n",
       "      <td>...</td>\n",
       "      <td>NaN</td>\n",
       "      <td>10314</td>\n",
       "      <td>0.120516</td>\n",
       "      <td>1.045052</td>\n",
       "      <td>8622.016936</td>\n",
       "      <td>0.163889</td>\n",
       "      <td>0.163889</td>\n",
       "      <td>0.125945</td>\n",
       "      <td>1085.902657</td>\n",
       "      <td>177.967811</td>\n",
       "    </tr>\n",
       "    <tr>\n",
       "      <th>176</th>\n",
       "      <td>2021-11</td>\n",
       "      <td>4</td>\n",
       "      <td>0</td>\n",
       "      <td>2</td>\n",
       "      <td>2</td>\n",
       "      <td>28000</td>\n",
       "      <td>5420</td>\n",
       "      <td>0</td>\n",
       "      <td>0</td>\n",
       "      <td>NaN</td>\n",
       "      <td>...</td>\n",
       "      <td>NaN</td>\n",
       "      <td>10314</td>\n",
       "      <td>0.000194</td>\n",
       "      <td>1.000000</td>\n",
       "      <td>14000.000000</td>\n",
       "      <td>0.193571</td>\n",
       "      <td>0.193571</td>\n",
       "      <td>0.000194</td>\n",
       "      <td>2.714757</td>\n",
       "      <td>0.525499</td>\n",
       "    </tr>\n",
       "  </tbody>\n",
       "</table>\n",
       "<p>5 rows × 21 columns</p>\n",
       "</div>"
      ],
      "text/plain": [
       "    First Loan Local Disbursement Month  Months Since First Loan Disbursed  \\\n",
       "172                             2021-11                                  0   \n",
       "173                             2021-11                                  1   \n",
       "174                             2021-11                                  2   \n",
       "175                             2021-11                                  3   \n",
       "176                             2021-11                                  4   \n",
       "\n",
       "     Count First Loans  Count Borrowers  Count Loans  Total Amount  \\\n",
       "172               8843             8843        14474      47467000   \n",
       "173                  0             3878         4827      29629000   \n",
       "174                  0             3055         3552      26645000   \n",
       "175                  0             1243         1299      11200000   \n",
       "176                  0                2            2         28000   \n",
       "\n",
       "     Total Interest Assessed  Total Rollover Charged  Total Rollover Reversed  \\\n",
       "172                  6710270                  858960                        0   \n",
       "173                  4741570                  441073                        0   \n",
       "174                  4221010                  104591                        0   \n",
       "175                  1835560                       0                        0   \n",
       "176                     5420                       0                        0   \n",
       "\n",
       "     Default Rate Amount 7D  ...  Default Rate Amount 51D   Ftbs  \\\n",
       "172                0.200963  ...                 0.179847  10314   \n",
       "173                0.185518  ...                 0.126838  10314   \n",
       "174                0.175424  ...                      NaN  10314   \n",
       "175                0.079336  ...                      NaN  10314   \n",
       "176                     NaN  ...                      NaN  10314   \n",
       "\n",
       "     Borrower Retention  Loans Per Borrower     Loan Size  Interest Rate  \\\n",
       "172            0.857378            1.636775   3279.466630       0.141367   \n",
       "173            0.375994            1.244714   6138.181065       0.160031   \n",
       "174            0.296199            1.162684   7501.407658       0.158417   \n",
       "175            0.120516            1.045052   8622.016936       0.163889   \n",
       "176            0.000194            1.000000  14000.000000       0.193571   \n",
       "\n",
       "     Total Revenue Of Originations  Loans Per Original  \\\n",
       "172                       0.159463            1.403335   \n",
       "173                       0.174918            0.468005   \n",
       "174                       0.162342            0.344386   \n",
       "175                       0.163889            0.125945   \n",
       "176                       0.193571            0.000194   \n",
       "\n",
       "     Originations Per Original  Revenue Per Original  \n",
       "172                4602.191196            733.879193  \n",
       "173                2872.697305            502.486232  \n",
       "174                2583.381811            419.391216  \n",
       "175                1085.902657            177.967811  \n",
       "176                   2.714757              0.525499  \n",
       "\n",
       "[5 rows x 21 columns]"
      ]
     },
     "execution_count": 3,
     "metadata": {},
     "output_type": "execute_result"
    }
   ],
   "source": [
    "data[data['First Loan Local Disbursement Month']=='2021-11']"
   ]
  },
  {
   "cell_type": "code",
   "execution_count": 4,
   "id": "aa9b6d1f",
   "metadata": {},
   "outputs": [
    {
     "name": "stdout",
     "output_type": "stream",
     "text": [
      "Data spans 2020-09 to 2021-12\n",
      "Total # of cohorts: 16\n",
      "\n",
      "Data spans 2020-09 to 2021-12\n",
      "Total # of cohorts: 16\n",
      "\n",
      "Data spans 2020-09 to 2021-12\n",
      "Total # of cohorts: 16\n",
      "\n"
     ]
    }
   ],
   "source": [
    "m1 = Model(data)\n",
    "m2 = Model(data, default_stress=0.01)\n",
    "m3 = Model(data, retention_effect=True, default_stress=0.01)"
   ]
  },
  {
   "cell_type": "code",
   "execution_count": 16,
   "id": "c53e83f1",
   "metadata": {},
   "outputs": [
    {
     "data": {
      "text/html": [
       "<div>\n",
       "<style scoped>\n",
       "    .dataframe tbody tr th:only-of-type {\n",
       "        vertical-align: middle;\n",
       "    }\n",
       "\n",
       "    .dataframe tbody tr th {\n",
       "        vertical-align: top;\n",
       "    }\n",
       "\n",
       "    .dataframe thead th {\n",
       "        text-align: right;\n",
       "    }\n",
       "</style>\n",
       "<table border=\"1\" class=\"dataframe\">\n",
       "  <thead>\n",
       "    <tr style=\"text-align: right;\">\n",
       "      <th></th>\n",
       "      <th>First Loan Local Disbursement Month</th>\n",
       "      <th>Months Since First Loan Disbursed</th>\n",
       "      <th>Count First Loans</th>\n",
       "      <th>Count Borrowers</th>\n",
       "      <th>Count Loans</th>\n",
       "      <th>Total Amount</th>\n",
       "      <th>Total Interest Assessed</th>\n",
       "      <th>Total Rollover Charged</th>\n",
       "      <th>Total Rollover Reversed</th>\n",
       "      <th>Default Rate Amount 7D</th>\n",
       "      <th>...</th>\n",
       "      <th>cumulative_revenue_per_original</th>\n",
       "      <th>cm$_per_original</th>\n",
       "      <th>cumulative_cm$_per_original</th>\n",
       "      <th>opex_per_original</th>\n",
       "      <th>cumulative_opex_per_original</th>\n",
       "      <th>ltv_per_original</th>\n",
       "      <th>cumulative_ltv_per_original</th>\n",
       "      <th>dcf_ltv_per_original</th>\n",
       "      <th>cumulative_dcf_ltv_per_original</th>\n",
       "      <th>cm%_per_original</th>\n",
       "    </tr>\n",
       "  </thead>\n",
       "  <tbody>\n",
       "    <tr>\n",
       "      <th>1</th>\n",
       "      <td>2021-11</td>\n",
       "      <td>0</td>\n",
       "      <td>8843</td>\n",
       "      <td>8843</td>\n",
       "      <td>14474</td>\n",
       "      <td>47467000</td>\n",
       "      <td>6710270</td>\n",
       "      <td>858960</td>\n",
       "      <td>0</td>\n",
       "      <td>0.200963</td>\n",
       "      <td>...</td>\n",
       "      <td>7.938145</td>\n",
       "      <td>-1.184178</td>\n",
       "      <td>-1.184178</td>\n",
       "      <td>2.781810</td>\n",
       "      <td>2.781810</td>\n",
       "      <td>-3.965988</td>\n",
       "      <td>-3.965988</td>\n",
       "      <td>-3.926721</td>\n",
       "      <td>-3.926721</td>\n",
       "      <td>-0.499611</td>\n",
       "    </tr>\n",
       "    <tr>\n",
       "      <th>2</th>\n",
       "      <td>2021-11</td>\n",
       "      <td>1</td>\n",
       "      <td>0</td>\n",
       "      <td>3878</td>\n",
       "      <td>4827</td>\n",
       "      <td>29629000</td>\n",
       "      <td>4741570</td>\n",
       "      <td>441073</td>\n",
       "      <td>0</td>\n",
       "      <td>0.185518</td>\n",
       "      <td>...</td>\n",
       "      <td>13.437032</td>\n",
       "      <td>1.422315</td>\n",
       "      <td>0.238137</td>\n",
       "      <td>1.108326</td>\n",
       "      <td>3.890135</td>\n",
       "      <td>0.313989</td>\n",
       "      <td>-3.651999</td>\n",
       "      <td>0.307833</td>\n",
       "      <td>-3.618888</td>\n",
       "      <td>0.057101</td>\n",
       "    </tr>\n",
       "    <tr>\n",
       "      <th>3</th>\n",
       "      <td>2021-11</td>\n",
       "      <td>2</td>\n",
       "      <td>0</td>\n",
       "      <td>3055</td>\n",
       "      <td>3552</td>\n",
       "      <td>26645000</td>\n",
       "      <td>4221010</td>\n",
       "      <td>104591</td>\n",
       "      <td>0</td>\n",
       "      <td>0.175424</td>\n",
       "      <td>...</td>\n",
       "      <td>18.310296</td>\n",
       "      <td>0.140893</td>\n",
       "      <td>0.379030</td>\n",
       "      <td>0.878950</td>\n",
       "      <td>4.769085</td>\n",
       "      <td>-0.738056</td>\n",
       "      <td>-4.390055</td>\n",
       "      <td>-0.716560</td>\n",
       "      <td>-4.335448</td>\n",
       "      <td>-0.151450</td>\n",
       "    </tr>\n",
       "  </tbody>\n",
       "</table>\n",
       "<p>3 rows × 36 columns</p>\n",
       "</div>"
      ],
      "text/plain": [
       "  First Loan Local Disbursement Month  Months Since First Loan Disbursed  \\\n",
       "1                             2021-11                                  0   \n",
       "2                             2021-11                                  1   \n",
       "3                             2021-11                                  2   \n",
       "\n",
       "   Count First Loans  Count Borrowers  Count Loans  Total Amount  \\\n",
       "1               8843             8843        14474      47467000   \n",
       "2                  0             3878         4827      29629000   \n",
       "3                  0             3055         3552      26645000   \n",
       "\n",
       "   Total Interest Assessed  Total Rollover Charged  Total Rollover Reversed  \\\n",
       "1                  6710270                  858960                        0   \n",
       "2                  4741570                  441073                        0   \n",
       "3                  4221010                  104591                        0   \n",
       "\n",
       "   Default Rate Amount 7D  ...  cumulative_revenue_per_original  \\\n",
       "1                0.200963  ...                         7.938145   \n",
       "2                0.185518  ...                        13.437032   \n",
       "3                0.175424  ...                        18.310296   \n",
       "\n",
       "   cm$_per_original cumulative_cm$_per_original  opex_per_original  \\\n",
       "1         -1.184178                   -1.184178           2.781810   \n",
       "2          1.422315                    0.238137           1.108326   \n",
       "3          0.140893                    0.379030           0.878950   \n",
       "\n",
       "   cumulative_opex_per_original  ltv_per_original  \\\n",
       "1                      2.781810         -3.965988   \n",
       "2                      3.890135          0.313989   \n",
       "3                      4.769085         -0.738056   \n",
       "\n",
       "   cumulative_ltv_per_original  dcf_ltv_per_original  \\\n",
       "1                    -3.965988             -3.926721   \n",
       "2                    -3.651999              0.307833   \n",
       "3                    -4.390055             -0.716560   \n",
       "\n",
       "   cumulative_dcf_ltv_per_original  cm%_per_original  \n",
       "1                        -3.926721         -0.499611  \n",
       "2                        -3.618888          0.057101  \n",
       "3                        -4.335448         -0.151450  \n",
       "\n",
       "[3 rows x 36 columns]"
      ]
     },
     "execution_count": 16,
     "metadata": {},
     "output_type": "execute_result"
    }
   ],
   "source": [
    "m1.data[m1.data.cohort=='2021-11']"
   ]
  },
  {
   "cell_type": "code",
   "execution_count": 14,
   "id": "9bc2ad2d",
   "metadata": {},
   "outputs": [
    {
     "data": {
      "text/html": [
       "<div>\n",
       "<style scoped>\n",
       "    .dataframe tbody tr th:only-of-type {\n",
       "        vertical-align: middle;\n",
       "    }\n",
       "\n",
       "    .dataframe tbody tr th {\n",
       "        vertical-align: top;\n",
       "    }\n",
       "\n",
       "    .dataframe thead th {\n",
       "        text-align: right;\n",
       "    }\n",
       "</style>\n",
       "<table border=\"1\" class=\"dataframe\">\n",
       "  <thead>\n",
       "    <tr style=\"text-align: right;\">\n",
       "      <th></th>\n",
       "      <th>First Loan Local Disbursement Month</th>\n",
       "      <th>Months Since First Loan Disbursed</th>\n",
       "      <th>Count First Loans</th>\n",
       "      <th>Count Borrowers</th>\n",
       "      <th>Count Loans</th>\n",
       "      <th>Total Amount</th>\n",
       "      <th>Total Interest Assessed</th>\n",
       "      <th>Total Rollover Charged</th>\n",
       "      <th>Total Rollover Reversed</th>\n",
       "      <th>Default Rate Amount 7D</th>\n",
       "      <th>...</th>\n",
       "      <th>cumulative_revenue_per_original</th>\n",
       "      <th>cm$_per_original</th>\n",
       "      <th>cumulative_cm$_per_original</th>\n",
       "      <th>opex_per_original</th>\n",
       "      <th>cumulative_opex_per_original</th>\n",
       "      <th>ltv_per_original</th>\n",
       "      <th>cumulative_ltv_per_original</th>\n",
       "      <th>dcf_ltv_per_original</th>\n",
       "      <th>cumulative_dcf_ltv_per_original</th>\n",
       "      <th>cm%_per_original</th>\n",
       "    </tr>\n",
       "  </thead>\n",
       "  <tbody>\n",
       "    <tr>\n",
       "      <th>1</th>\n",
       "      <td>2021-11</td>\n",
       "      <td>0</td>\n",
       "      <td>8843</td>\n",
       "      <td>8843</td>\n",
       "      <td>14474</td>\n",
       "      <td>47467000</td>\n",
       "      <td>6710270</td>\n",
       "      <td>858960</td>\n",
       "      <td>0</td>\n",
       "      <td>0.200963</td>\n",
       "      <td>...</td>\n",
       "      <td>7.938145</td>\n",
       "      <td>-1.184178</td>\n",
       "      <td>-1.184178</td>\n",
       "      <td>2.781810</td>\n",
       "      <td>2.781810</td>\n",
       "      <td>-3.965988</td>\n",
       "      <td>-3.965988</td>\n",
       "      <td>-3.926721</td>\n",
       "      <td>-3.926721</td>\n",
       "      <td>-0.499611</td>\n",
       "    </tr>\n",
       "    <tr>\n",
       "      <th>2</th>\n",
       "      <td>2021-11</td>\n",
       "      <td>1</td>\n",
       "      <td>0</td>\n",
       "      <td>3878</td>\n",
       "      <td>4827</td>\n",
       "      <td>29629000</td>\n",
       "      <td>4741570</td>\n",
       "      <td>441073</td>\n",
       "      <td>0</td>\n",
       "      <td>0.185518</td>\n",
       "      <td>...</td>\n",
       "      <td>13.437032</td>\n",
       "      <td>1.422315</td>\n",
       "      <td>0.238137</td>\n",
       "      <td>1.108326</td>\n",
       "      <td>3.890135</td>\n",
       "      <td>0.313989</td>\n",
       "      <td>-3.651999</td>\n",
       "      <td>0.307833</td>\n",
       "      <td>-3.618888</td>\n",
       "      <td>0.057101</td>\n",
       "    </tr>\n",
       "    <tr>\n",
       "      <th>3</th>\n",
       "      <td>2021-11</td>\n",
       "      <td>2</td>\n",
       "      <td>0</td>\n",
       "      <td>3055</td>\n",
       "      <td>3552</td>\n",
       "      <td>26645000</td>\n",
       "      <td>4221010</td>\n",
       "      <td>104591</td>\n",
       "      <td>0</td>\n",
       "      <td>0.175424</td>\n",
       "      <td>...</td>\n",
       "      <td>18.310296</td>\n",
       "      <td>0.140893</td>\n",
       "      <td>0.379030</td>\n",
       "      <td>0.878950</td>\n",
       "      <td>4.769085</td>\n",
       "      <td>-0.738056</td>\n",
       "      <td>-4.390055</td>\n",
       "      <td>-0.716560</td>\n",
       "      <td>-4.335448</td>\n",
       "      <td>-0.151450</td>\n",
       "    </tr>\n",
       "  </tbody>\n",
       "</table>\n",
       "<p>3 rows × 36 columns</p>\n",
       "</div>"
      ],
      "text/plain": [
       "  First Loan Local Disbursement Month  Months Since First Loan Disbursed  \\\n",
       "1                             2021-11                                  0   \n",
       "2                             2021-11                                  1   \n",
       "3                             2021-11                                  2   \n",
       "\n",
       "   Count First Loans  Count Borrowers  Count Loans  Total Amount  \\\n",
       "1               8843             8843        14474      47467000   \n",
       "2                  0             3878         4827      29629000   \n",
       "3                  0             3055         3552      26645000   \n",
       "\n",
       "   Total Interest Assessed  Total Rollover Charged  Total Rollover Reversed  \\\n",
       "1                  6710270                  858960                        0   \n",
       "2                  4741570                  441073                        0   \n",
       "3                  4221010                  104591                        0   \n",
       "\n",
       "   Default Rate Amount 7D  ...  cumulative_revenue_per_original  \\\n",
       "1                0.200963  ...                         7.938145   \n",
       "2                0.185518  ...                        13.437032   \n",
       "3                0.175424  ...                        18.310296   \n",
       "\n",
       "   cm$_per_original cumulative_cm$_per_original  opex_per_original  \\\n",
       "1         -1.184178                   -1.184178           2.781810   \n",
       "2          1.422315                    0.238137           1.108326   \n",
       "3          0.140893                    0.379030           0.878950   \n",
       "\n",
       "   cumulative_opex_per_original  ltv_per_original  \\\n",
       "1                      2.781810         -3.965988   \n",
       "2                      3.890135          0.313989   \n",
       "3                      4.769085         -0.738056   \n",
       "\n",
       "   cumulative_ltv_per_original  dcf_ltv_per_original  \\\n",
       "1                    -3.965988             -3.926721   \n",
       "2                    -3.651999              0.307833   \n",
       "3                    -4.390055             -0.716560   \n",
       "\n",
       "   cumulative_dcf_ltv_per_original  cm%_per_original  \n",
       "1                        -3.926721         -0.499611  \n",
       "2                        -3.618888          0.057101  \n",
       "3                        -4.335448         -0.151450  \n",
       "\n",
       "[3 rows x 36 columns]"
      ]
     },
     "execution_count": 14,
     "metadata": {},
     "output_type": "execute_result"
    }
   ],
   "source": [
    "m2.data[m2.data.cohort=='2021-11']"
   ]
  },
  {
   "cell_type": "code",
   "execution_count": 15,
   "id": "5473c5c7",
   "metadata": {},
   "outputs": [
    {
     "data": {
      "text/html": [
       "<div>\n",
       "<style scoped>\n",
       "    .dataframe tbody tr th:only-of-type {\n",
       "        vertical-align: middle;\n",
       "    }\n",
       "\n",
       "    .dataframe tbody tr th {\n",
       "        vertical-align: top;\n",
       "    }\n",
       "\n",
       "    .dataframe thead th {\n",
       "        text-align: right;\n",
       "    }\n",
       "</style>\n",
       "<table border=\"1\" class=\"dataframe\">\n",
       "  <thead>\n",
       "    <tr style=\"text-align: right;\">\n",
       "      <th></th>\n",
       "      <th>First Loan Local Disbursement Month</th>\n",
       "      <th>Months Since First Loan Disbursed</th>\n",
       "      <th>Count First Loans</th>\n",
       "      <th>Count Borrowers</th>\n",
       "      <th>Count Loans</th>\n",
       "      <th>Total Amount</th>\n",
       "      <th>Total Interest Assessed</th>\n",
       "      <th>Total Rollover Charged</th>\n",
       "      <th>Total Rollover Reversed</th>\n",
       "      <th>Default Rate Amount 7D</th>\n",
       "      <th>...</th>\n",
       "      <th>cumulative_revenue_per_original</th>\n",
       "      <th>cm$_per_original</th>\n",
       "      <th>cumulative_cm$_per_original</th>\n",
       "      <th>opex_per_original</th>\n",
       "      <th>cumulative_opex_per_original</th>\n",
       "      <th>ltv_per_original</th>\n",
       "      <th>cumulative_ltv_per_original</th>\n",
       "      <th>dcf_ltv_per_original</th>\n",
       "      <th>cumulative_dcf_ltv_per_original</th>\n",
       "      <th>cm%_per_original</th>\n",
       "    </tr>\n",
       "  </thead>\n",
       "  <tbody>\n",
       "    <tr>\n",
       "      <th>1</th>\n",
       "      <td>2021-11</td>\n",
       "      <td>0</td>\n",
       "      <td>8843</td>\n",
       "      <td>8843</td>\n",
       "      <td>14474</td>\n",
       "      <td>47467000</td>\n",
       "      <td>6710270</td>\n",
       "      <td>858960</td>\n",
       "      <td>0</td>\n",
       "      <td>0.200963</td>\n",
       "      <td>...</td>\n",
       "      <td>7.938145</td>\n",
       "      <td>-1.184178</td>\n",
       "      <td>-1.184178</td>\n",
       "      <td>2.781810</td>\n",
       "      <td>2.781810</td>\n",
       "      <td>-3.965988</td>\n",
       "      <td>-3.965988</td>\n",
       "      <td>-3.926721</td>\n",
       "      <td>-3.926721</td>\n",
       "      <td>-0.499611</td>\n",
       "    </tr>\n",
       "    <tr>\n",
       "      <th>2</th>\n",
       "      <td>2021-11</td>\n",
       "      <td>1</td>\n",
       "      <td>0</td>\n",
       "      <td>3789</td>\n",
       "      <td>4827</td>\n",
       "      <td>29629000</td>\n",
       "      <td>4741570</td>\n",
       "      <td>441073</td>\n",
       "      <td>0</td>\n",
       "      <td>0.185518</td>\n",
       "      <td>...</td>\n",
       "      <td>13.437032</td>\n",
       "      <td>1.422315</td>\n",
       "      <td>0.238137</td>\n",
       "      <td>1.108326</td>\n",
       "      <td>3.890135</td>\n",
       "      <td>0.313989</td>\n",
       "      <td>-3.651999</td>\n",
       "      <td>0.307833</td>\n",
       "      <td>-3.618888</td>\n",
       "      <td>0.057101</td>\n",
       "    </tr>\n",
       "    <tr>\n",
       "      <th>3</th>\n",
       "      <td>2021-11</td>\n",
       "      <td>2</td>\n",
       "      <td>0</td>\n",
       "      <td>3016</td>\n",
       "      <td>3552</td>\n",
       "      <td>26645000</td>\n",
       "      <td>4221010</td>\n",
       "      <td>104591</td>\n",
       "      <td>0</td>\n",
       "      <td>0.175424</td>\n",
       "      <td>...</td>\n",
       "      <td>18.310296</td>\n",
       "      <td>0.140893</td>\n",
       "      <td>0.379030</td>\n",
       "      <td>0.878950</td>\n",
       "      <td>4.769085</td>\n",
       "      <td>-0.738056</td>\n",
       "      <td>-4.390055</td>\n",
       "      <td>-0.716560</td>\n",
       "      <td>-4.335448</td>\n",
       "      <td>-0.151450</td>\n",
       "    </tr>\n",
       "  </tbody>\n",
       "</table>\n",
       "<p>3 rows × 36 columns</p>\n",
       "</div>"
      ],
      "text/plain": [
       "  First Loan Local Disbursement Month  Months Since First Loan Disbursed  \\\n",
       "1                             2021-11                                  0   \n",
       "2                             2021-11                                  1   \n",
       "3                             2021-11                                  2   \n",
       "\n",
       "   Count First Loans  Count Borrowers  Count Loans  Total Amount  \\\n",
       "1               8843             8843        14474      47467000   \n",
       "2                  0             3789         4827      29629000   \n",
       "3                  0             3016         3552      26645000   \n",
       "\n",
       "   Total Interest Assessed  Total Rollover Charged  Total Rollover Reversed  \\\n",
       "1                  6710270                  858960                        0   \n",
       "2                  4741570                  441073                        0   \n",
       "3                  4221010                  104591                        0   \n",
       "\n",
       "   Default Rate Amount 7D  ...  cumulative_revenue_per_original  \\\n",
       "1                0.200963  ...                         7.938145   \n",
       "2                0.185518  ...                        13.437032   \n",
       "3                0.175424  ...                        18.310296   \n",
       "\n",
       "   cm$_per_original cumulative_cm$_per_original  opex_per_original  \\\n",
       "1         -1.184178                   -1.184178           2.781810   \n",
       "2          1.422315                    0.238137           1.108326   \n",
       "3          0.140893                    0.379030           0.878950   \n",
       "\n",
       "   cumulative_opex_per_original  ltv_per_original  \\\n",
       "1                      2.781810         -3.965988   \n",
       "2                      3.890135          0.313989   \n",
       "3                      4.769085         -0.738056   \n",
       "\n",
       "   cumulative_ltv_per_original  dcf_ltv_per_original  \\\n",
       "1                    -3.965988             -3.926721   \n",
       "2                    -3.651999              0.307833   \n",
       "3                    -4.390055             -0.716560   \n",
       "\n",
       "   cumulative_dcf_ltv_per_original  cm%_per_original  \n",
       "1                        -3.926721         -0.499611  \n",
       "2                        -3.618888          0.057101  \n",
       "3                        -4.335448         -0.151450  \n",
       "\n",
       "[3 rows x 36 columns]"
      ]
     },
     "execution_count": 15,
     "metadata": {},
     "output_type": "execute_result"
    }
   ],
   "source": [
    "m3.data[m3.data.cohort=='2021-11']"
   ]
  },
  {
   "cell_type": "code",
   "execution_count": 13,
   "id": "cc76e1a4",
   "metadata": {},
   "outputs": [
    {
     "data": {
      "application/vnd.plotly.v1+json": {
       "config": {
        "plotlyServerURL": "https://plot.ly"
       },
       "data": [
        {
         "line": {
          "width": 2
         },
         "mode": "markers+lines",
         "name": "2020-09",
         "type": "scatter",
         "x": [
          1,
          2,
          3,
          4,
          5,
          6,
          7,
          8,
          9,
          10,
          11,
          12,
          13,
          14,
          15,
          16,
          17
         ],
         "y": [
          7801,
          4481,
          3661,
          3050,
          2549,
          2170,
          1952,
          1673,
          1594,
          1429,
          1362,
          1243,
          1177,
          1102,
          1054,
          893,
          916
         ]
        },
        {
         "line": {
          "width": 2
         },
         "mode": "markers+lines",
         "name": "2020-10",
         "type": "scatter",
         "x": [
          1,
          2,
          3,
          4,
          5,
          6,
          7,
          8,
          9,
          10,
          11,
          12,
          13,
          14,
          15,
          16
         ],
         "y": [
          9831,
          5296,
          4369,
          3573,
          2953,
          2667,
          2377,
          2181,
          1937,
          1773,
          1621,
          1523,
          1457,
          1363,
          1177,
          1093
         ]
        },
        {
         "line": {
          "width": 2
         },
         "mode": "markers+lines",
         "name": "2020-11",
         "type": "scatter",
         "x": [
          1,
          2,
          3,
          4,
          5,
          6,
          7,
          8,
          9,
          10,
          11,
          12,
          13,
          14,
          15
         ],
         "y": [
          8113,
          4447,
          3517,
          2831,
          2479,
          2149,
          1937,
          1679,
          1554,
          1434,
          1331,
          1296,
          1180,
          1011,
          922
         ]
        },
        {
         "line": {
          "width": 2
         },
         "mode": "markers+lines",
         "name": "2020-12",
         "type": "scatter",
         "x": [
          1,
          2,
          3,
          4,
          5,
          6,
          7,
          8,
          9,
          10,
          11,
          12,
          13
         ],
         "y": [
          8765,
          4585,
          3570,
          2995,
          2462,
          2162,
          1845,
          1682,
          1546,
          1408,
          1291,
          1214,
          1028
         ]
        },
        {
         "line": {
          "width": 2
         },
         "mode": "markers+lines",
         "name": "2021-01",
         "type": "scatter",
         "x": [
          1,
          2,
          3,
          4,
          5,
          6,
          7,
          8,
          9,
          10,
          11,
          12,
          13
         ],
         "y": [
          10295,
          5359,
          4436,
          3494,
          3044,
          2552,
          2361,
          2088,
          1895,
          1775,
          1566,
          1389,
          1278
         ]
        },
        {
         "line": {
          "width": 2
         },
         "mode": "markers+lines",
         "name": "2021-02",
         "type": "scatter",
         "x": [
          1,
          2,
          3,
          4,
          5,
          6,
          7,
          8,
          9,
          10,
          11,
          12
         ],
         "y": [
          9331,
          5004,
          3728,
          3100,
          2589,
          2271,
          2034,
          1821,
          1673,
          1475,
          1274,
          1194
         ]
        },
        {
         "line": {
          "width": 2
         },
         "mode": "markers+lines",
         "name": "2021-03",
         "type": "scatter",
         "x": [
          1,
          2,
          3,
          4,
          5,
          6,
          7,
          8,
          9,
          10,
          11
         ],
         "y": [
          10225,
          5046,
          4136,
          3324,
          2829,
          2401,
          2133,
          1920,
          1710,
          1392,
          1279
         ]
        },
        {
         "line": {
          "width": 2
         },
         "mode": "markers+lines",
         "name": "2021-04",
         "type": "scatter",
         "x": [
          1,
          2,
          3,
          4,
          5,
          6,
          7,
          8,
          9,
          10
         ],
         "y": [
          9497,
          4950,
          3792,
          3155,
          2631,
          2300,
          2047,
          1802,
          1503,
          1380
         ]
        },
        {
         "line": {
          "width": 2
         },
         "mode": "markers+lines",
         "name": "2021-05",
         "type": "scatter",
         "x": [
          1,
          2,
          3,
          4,
          5,
          6,
          7,
          8,
          9
         ],
         "y": [
          10314,
          5214,
          4169,
          3319,
          2719,
          2368,
          2100,
          1716,
          1541
         ]
        },
        {
         "line": {
          "width": 2
         },
         "mode": "markers+lines",
         "name": "2021-06",
         "type": "scatter",
         "x": [
          1,
          2,
          3,
          4,
          5,
          6,
          7,
          8
         ],
         "y": [
          9532,
          4761,
          3696,
          2899,
          2512,
          2164,
          1773,
          1571
         ]
        },
        {
         "line": {
          "width": 2
         },
         "mode": "markers+lines",
         "name": "2021-07",
         "type": "scatter",
         "x": [
          1,
          2,
          3,
          4,
          5,
          6,
          7
         ],
         "y": [
          7876,
          3822,
          2984,
          2455,
          1997,
          1613,
          1398
         ]
        },
        {
         "line": {
          "width": 2
         },
         "mode": "markers+lines",
         "name": "2021-08",
         "type": "scatter",
         "x": [
          1,
          2,
          3,
          4,
          5
         ],
         "y": [
          7083,
          3427,
          2762,
          2144,
          1627
         ]
        },
        {
         "line": {
          "width": 2
         },
         "mode": "markers+lines",
         "name": "2021-09",
         "type": "scatter",
         "x": [
          1,
          2,
          3,
          4
         ],
         "y": [
          7604,
          3752,
          2813,
          2121
         ]
        },
        {
         "line": {
          "width": 2
         },
         "mode": "markers+lines",
         "name": "2021-10",
         "type": "scatter",
         "x": [
          1,
          2,
          3,
          4
         ],
         "y": [
          8858,
          4319,
          3082,
          2511
         ]
        },
        {
         "line": {
          "width": 2
         },
         "mode": "markers+lines",
         "name": "2021-11",
         "type": "scatter",
         "x": [
          1,
          2,
          3
         ],
         "y": [
          8843,
          3878,
          3055
         ]
        },
        {
         "line": {
          "width": 2
         },
         "mode": "markers+lines",
         "name": "2021-12",
         "type": "scatter",
         "x": [
          1,
          2
         ],
         "y": [
          7818,
          3259
         ]
        }
       ],
       "layout": {
        "template": {
         "data": {
          "bar": [
           {
            "error_x": {
             "color": "#2a3f5f"
            },
            "error_y": {
             "color": "#2a3f5f"
            },
            "marker": {
             "line": {
              "color": "white",
              "width": 0.5
             },
             "pattern": {
              "fillmode": "overlay",
              "size": 10,
              "solidity": 0.2
             }
            },
            "type": "bar"
           }
          ],
          "barpolar": [
           {
            "marker": {
             "line": {
              "color": "white",
              "width": 0.5
             },
             "pattern": {
              "fillmode": "overlay",
              "size": 10,
              "solidity": 0.2
             }
            },
            "type": "barpolar"
           }
          ],
          "carpet": [
           {
            "aaxis": {
             "endlinecolor": "#2a3f5f",
             "gridcolor": "#C8D4E3",
             "linecolor": "#C8D4E3",
             "minorgridcolor": "#C8D4E3",
             "startlinecolor": "#2a3f5f"
            },
            "baxis": {
             "endlinecolor": "#2a3f5f",
             "gridcolor": "#C8D4E3",
             "linecolor": "#C8D4E3",
             "minorgridcolor": "#C8D4E3",
             "startlinecolor": "#2a3f5f"
            },
            "type": "carpet"
           }
          ],
          "choropleth": [
           {
            "colorbar": {
             "outlinewidth": 0,
             "ticks": ""
            },
            "type": "choropleth"
           }
          ],
          "contour": [
           {
            "colorbar": {
             "outlinewidth": 0,
             "ticks": ""
            },
            "colorscale": [
             [
              0,
              "#0d0887"
             ],
             [
              0.1111111111111111,
              "#46039f"
             ],
             [
              0.2222222222222222,
              "#7201a8"
             ],
             [
              0.3333333333333333,
              "#9c179e"
             ],
             [
              0.4444444444444444,
              "#bd3786"
             ],
             [
              0.5555555555555556,
              "#d8576b"
             ],
             [
              0.6666666666666666,
              "#ed7953"
             ],
             [
              0.7777777777777778,
              "#fb9f3a"
             ],
             [
              0.8888888888888888,
              "#fdca26"
             ],
             [
              1,
              "#f0f921"
             ]
            ],
            "type": "contour"
           }
          ],
          "contourcarpet": [
           {
            "colorbar": {
             "outlinewidth": 0,
             "ticks": ""
            },
            "type": "contourcarpet"
           }
          ],
          "heatmap": [
           {
            "colorbar": {
             "outlinewidth": 0,
             "ticks": ""
            },
            "colorscale": [
             [
              0,
              "#0d0887"
             ],
             [
              0.1111111111111111,
              "#46039f"
             ],
             [
              0.2222222222222222,
              "#7201a8"
             ],
             [
              0.3333333333333333,
              "#9c179e"
             ],
             [
              0.4444444444444444,
              "#bd3786"
             ],
             [
              0.5555555555555556,
              "#d8576b"
             ],
             [
              0.6666666666666666,
              "#ed7953"
             ],
             [
              0.7777777777777778,
              "#fb9f3a"
             ],
             [
              0.8888888888888888,
              "#fdca26"
             ],
             [
              1,
              "#f0f921"
             ]
            ],
            "type": "heatmap"
           }
          ],
          "heatmapgl": [
           {
            "colorbar": {
             "outlinewidth": 0,
             "ticks": ""
            },
            "colorscale": [
             [
              0,
              "#0d0887"
             ],
             [
              0.1111111111111111,
              "#46039f"
             ],
             [
              0.2222222222222222,
              "#7201a8"
             ],
             [
              0.3333333333333333,
              "#9c179e"
             ],
             [
              0.4444444444444444,
              "#bd3786"
             ],
             [
              0.5555555555555556,
              "#d8576b"
             ],
             [
              0.6666666666666666,
              "#ed7953"
             ],
             [
              0.7777777777777778,
              "#fb9f3a"
             ],
             [
              0.8888888888888888,
              "#fdca26"
             ],
             [
              1,
              "#f0f921"
             ]
            ],
            "type": "heatmapgl"
           }
          ],
          "histogram": [
           {
            "marker": {
             "pattern": {
              "fillmode": "overlay",
              "size": 10,
              "solidity": 0.2
             }
            },
            "type": "histogram"
           }
          ],
          "histogram2d": [
           {
            "colorbar": {
             "outlinewidth": 0,
             "ticks": ""
            },
            "colorscale": [
             [
              0,
              "#0d0887"
             ],
             [
              0.1111111111111111,
              "#46039f"
             ],
             [
              0.2222222222222222,
              "#7201a8"
             ],
             [
              0.3333333333333333,
              "#9c179e"
             ],
             [
              0.4444444444444444,
              "#bd3786"
             ],
             [
              0.5555555555555556,
              "#d8576b"
             ],
             [
              0.6666666666666666,
              "#ed7953"
             ],
             [
              0.7777777777777778,
              "#fb9f3a"
             ],
             [
              0.8888888888888888,
              "#fdca26"
             ],
             [
              1,
              "#f0f921"
             ]
            ],
            "type": "histogram2d"
           }
          ],
          "histogram2dcontour": [
           {
            "colorbar": {
             "outlinewidth": 0,
             "ticks": ""
            },
            "colorscale": [
             [
              0,
              "#0d0887"
             ],
             [
              0.1111111111111111,
              "#46039f"
             ],
             [
              0.2222222222222222,
              "#7201a8"
             ],
             [
              0.3333333333333333,
              "#9c179e"
             ],
             [
              0.4444444444444444,
              "#bd3786"
             ],
             [
              0.5555555555555556,
              "#d8576b"
             ],
             [
              0.6666666666666666,
              "#ed7953"
             ],
             [
              0.7777777777777778,
              "#fb9f3a"
             ],
             [
              0.8888888888888888,
              "#fdca26"
             ],
             [
              1,
              "#f0f921"
             ]
            ],
            "type": "histogram2dcontour"
           }
          ],
          "mesh3d": [
           {
            "colorbar": {
             "outlinewidth": 0,
             "ticks": ""
            },
            "type": "mesh3d"
           }
          ],
          "parcoords": [
           {
            "line": {
             "colorbar": {
              "outlinewidth": 0,
              "ticks": ""
             }
            },
            "type": "parcoords"
           }
          ],
          "pie": [
           {
            "automargin": true,
            "type": "pie"
           }
          ],
          "scatter": [
           {
            "marker": {
             "colorbar": {
              "outlinewidth": 0,
              "ticks": ""
             }
            },
            "type": "scatter"
           }
          ],
          "scatter3d": [
           {
            "line": {
             "colorbar": {
              "outlinewidth": 0,
              "ticks": ""
             }
            },
            "marker": {
             "colorbar": {
              "outlinewidth": 0,
              "ticks": ""
             }
            },
            "type": "scatter3d"
           }
          ],
          "scattercarpet": [
           {
            "marker": {
             "colorbar": {
              "outlinewidth": 0,
              "ticks": ""
             }
            },
            "type": "scattercarpet"
           }
          ],
          "scattergeo": [
           {
            "marker": {
             "colorbar": {
              "outlinewidth": 0,
              "ticks": ""
             }
            },
            "type": "scattergeo"
           }
          ],
          "scattergl": [
           {
            "marker": {
             "colorbar": {
              "outlinewidth": 0,
              "ticks": ""
             }
            },
            "type": "scattergl"
           }
          ],
          "scattermapbox": [
           {
            "marker": {
             "colorbar": {
              "outlinewidth": 0,
              "ticks": ""
             }
            },
            "type": "scattermapbox"
           }
          ],
          "scatterpolar": [
           {
            "marker": {
             "colorbar": {
              "outlinewidth": 0,
              "ticks": ""
             }
            },
            "type": "scatterpolar"
           }
          ],
          "scatterpolargl": [
           {
            "marker": {
             "colorbar": {
              "outlinewidth": 0,
              "ticks": ""
             }
            },
            "type": "scatterpolargl"
           }
          ],
          "scatterternary": [
           {
            "marker": {
             "colorbar": {
              "outlinewidth": 0,
              "ticks": ""
             }
            },
            "type": "scatterternary"
           }
          ],
          "surface": [
           {
            "colorbar": {
             "outlinewidth": 0,
             "ticks": ""
            },
            "colorscale": [
             [
              0,
              "#0d0887"
             ],
             [
              0.1111111111111111,
              "#46039f"
             ],
             [
              0.2222222222222222,
              "#7201a8"
             ],
             [
              0.3333333333333333,
              "#9c179e"
             ],
             [
              0.4444444444444444,
              "#bd3786"
             ],
             [
              0.5555555555555556,
              "#d8576b"
             ],
             [
              0.6666666666666666,
              "#ed7953"
             ],
             [
              0.7777777777777778,
              "#fb9f3a"
             ],
             [
              0.8888888888888888,
              "#fdca26"
             ],
             [
              1,
              "#f0f921"
             ]
            ],
            "type": "surface"
           }
          ],
          "table": [
           {
            "cells": {
             "fill": {
              "color": "#EBF0F8"
             },
             "line": {
              "color": "white"
             }
            },
            "header": {
             "fill": {
              "color": "#C8D4E3"
             },
             "line": {
              "color": "white"
             }
            },
            "type": "table"
           }
          ]
         },
         "layout": {
          "annotationdefaults": {
           "arrowcolor": "#2a3f5f",
           "arrowhead": 0,
           "arrowwidth": 1
          },
          "autotypenumbers": "strict",
          "coloraxis": {
           "colorbar": {
            "outlinewidth": 0,
            "ticks": ""
           }
          },
          "colorscale": {
           "diverging": [
            [
             0,
             "#8e0152"
            ],
            [
             0.1,
             "#c51b7d"
            ],
            [
             0.2,
             "#de77ae"
            ],
            [
             0.3,
             "#f1b6da"
            ],
            [
             0.4,
             "#fde0ef"
            ],
            [
             0.5,
             "#f7f7f7"
            ],
            [
             0.6,
             "#e6f5d0"
            ],
            [
             0.7,
             "#b8e186"
            ],
            [
             0.8,
             "#7fbc41"
            ],
            [
             0.9,
             "#4d9221"
            ],
            [
             1,
             "#276419"
            ]
           ],
           "sequential": [
            [
             0,
             "#0d0887"
            ],
            [
             0.1111111111111111,
             "#46039f"
            ],
            [
             0.2222222222222222,
             "#7201a8"
            ],
            [
             0.3333333333333333,
             "#9c179e"
            ],
            [
             0.4444444444444444,
             "#bd3786"
            ],
            [
             0.5555555555555556,
             "#d8576b"
            ],
            [
             0.6666666666666666,
             "#ed7953"
            ],
            [
             0.7777777777777778,
             "#fb9f3a"
            ],
            [
             0.8888888888888888,
             "#fdca26"
            ],
            [
             1,
             "#f0f921"
            ]
           ],
           "sequentialminus": [
            [
             0,
             "#0d0887"
            ],
            [
             0.1111111111111111,
             "#46039f"
            ],
            [
             0.2222222222222222,
             "#7201a8"
            ],
            [
             0.3333333333333333,
             "#9c179e"
            ],
            [
             0.4444444444444444,
             "#bd3786"
            ],
            [
             0.5555555555555556,
             "#d8576b"
            ],
            [
             0.6666666666666666,
             "#ed7953"
            ],
            [
             0.7777777777777778,
             "#fb9f3a"
            ],
            [
             0.8888888888888888,
             "#fdca26"
            ],
            [
             1,
             "#f0f921"
            ]
           ]
          },
          "colorway": [
           "#636efa",
           "#EF553B",
           "#00cc96",
           "#ab63fa",
           "#FFA15A",
           "#19d3f3",
           "#FF6692",
           "#B6E880",
           "#FF97FF",
           "#FECB52"
          ],
          "font": {
           "color": "#2a3f5f"
          },
          "geo": {
           "bgcolor": "white",
           "lakecolor": "white",
           "landcolor": "white",
           "showlakes": true,
           "showland": true,
           "subunitcolor": "#C8D4E3"
          },
          "hoverlabel": {
           "align": "left"
          },
          "hovermode": "closest",
          "mapbox": {
           "style": "light"
          },
          "paper_bgcolor": "white",
          "plot_bgcolor": "white",
          "polar": {
           "angularaxis": {
            "gridcolor": "#EBF0F8",
            "linecolor": "#EBF0F8",
            "ticks": ""
           },
           "bgcolor": "white",
           "radialaxis": {
            "gridcolor": "#EBF0F8",
            "linecolor": "#EBF0F8",
            "ticks": ""
           }
          },
          "scene": {
           "xaxis": {
            "backgroundcolor": "white",
            "gridcolor": "#DFE8F3",
            "gridwidth": 2,
            "linecolor": "#EBF0F8",
            "showbackground": true,
            "ticks": "",
            "zerolinecolor": "#EBF0F8"
           },
           "yaxis": {
            "backgroundcolor": "white",
            "gridcolor": "#DFE8F3",
            "gridwidth": 2,
            "linecolor": "#EBF0F8",
            "showbackground": true,
            "ticks": "",
            "zerolinecolor": "#EBF0F8"
           },
           "zaxis": {
            "backgroundcolor": "white",
            "gridcolor": "#DFE8F3",
            "gridwidth": 2,
            "linecolor": "#EBF0F8",
            "showbackground": true,
            "ticks": "",
            "zerolinecolor": "#EBF0F8"
           }
          },
          "shapedefaults": {
           "line": {
            "color": "#2a3f5f"
           }
          },
          "ternary": {
           "aaxis": {
            "gridcolor": "#DFE8F3",
            "linecolor": "#A2B1C6",
            "ticks": ""
           },
           "baxis": {
            "gridcolor": "#DFE8F3",
            "linecolor": "#A2B1C6",
            "ticks": ""
           },
           "bgcolor": "white",
           "caxis": {
            "gridcolor": "#DFE8F3",
            "linecolor": "#A2B1C6",
            "ticks": ""
           }
          },
          "title": {
           "x": 0.05
          },
          "xaxis": {
           "automargin": true,
           "gridcolor": "#EBF0F8",
           "linecolor": "#EBF0F8",
           "ticks": "",
           "title": {
            "standoff": 15
           },
           "zerolinecolor": "#EBF0F8",
           "zerolinewidth": 2
          },
          "yaxis": {
           "automargin": true,
           "gridcolor": "#EBF0F8",
           "linecolor": "#EBF0F8",
           "ticks": "",
           "title": {
            "standoff": 15
           },
           "zerolinecolor": "#EBF0F8",
           "zerolinewidth": 2
          }
         }
        },
        "title": {
         "text": "Count Borrowers - RAW"
        },
        "xaxis": {
         "title": {
          "text": "Month Since First Disbursement"
         }
        },
        "yaxis": {
         "title": {
          "text": "Count Borrowers"
         }
        }
       }
      },
      "text/html": [
       "<div>                            <div id=\"ff7fc859-d86a-4e6f-9bf8-afc3494c68c9\" class=\"plotly-graph-div\" style=\"height:525px; width:100%;\"></div>            <script type=\"text/javascript\">                require([\"plotly\"], function(Plotly) {                    window.PLOTLYENV=window.PLOTLYENV || {};                                    if (document.getElementById(\"ff7fc859-d86a-4e6f-9bf8-afc3494c68c9\")) {                    Plotly.newPlot(                        \"ff7fc859-d86a-4e6f-9bf8-afc3494c68c9\",                        [{\"line\":{\"width\":2},\"mode\":\"markers+lines\",\"name\":\"2020-09\",\"x\":[1,2,3,4,5,6,7,8,9,10,11,12,13,14,15,16,17],\"y\":[7801,4481,3661,3050,2549,2170,1952,1673,1594,1429,1362,1243,1177,1102,1054,893,916],\"type\":\"scatter\"},{\"line\":{\"width\":2},\"mode\":\"markers+lines\",\"name\":\"2020-10\",\"x\":[1,2,3,4,5,6,7,8,9,10,11,12,13,14,15,16],\"y\":[9831,5296,4369,3573,2953,2667,2377,2181,1937,1773,1621,1523,1457,1363,1177,1093],\"type\":\"scatter\"},{\"line\":{\"width\":2},\"mode\":\"markers+lines\",\"name\":\"2020-11\",\"x\":[1,2,3,4,5,6,7,8,9,10,11,12,13,14,15],\"y\":[8113,4447,3517,2831,2479,2149,1937,1679,1554,1434,1331,1296,1180,1011,922],\"type\":\"scatter\"},{\"line\":{\"width\":2},\"mode\":\"markers+lines\",\"name\":\"2020-12\",\"x\":[1,2,3,4,5,6,7,8,9,10,11,12,13],\"y\":[8765,4585,3570,2995,2462,2162,1845,1682,1546,1408,1291,1214,1028],\"type\":\"scatter\"},{\"line\":{\"width\":2},\"mode\":\"markers+lines\",\"name\":\"2021-01\",\"x\":[1,2,3,4,5,6,7,8,9,10,11,12,13],\"y\":[10295,5359,4436,3494,3044,2552,2361,2088,1895,1775,1566,1389,1278],\"type\":\"scatter\"},{\"line\":{\"width\":2},\"mode\":\"markers+lines\",\"name\":\"2021-02\",\"x\":[1,2,3,4,5,6,7,8,9,10,11,12],\"y\":[9331,5004,3728,3100,2589,2271,2034,1821,1673,1475,1274,1194],\"type\":\"scatter\"},{\"line\":{\"width\":2},\"mode\":\"markers+lines\",\"name\":\"2021-03\",\"x\":[1,2,3,4,5,6,7,8,9,10,11],\"y\":[10225,5046,4136,3324,2829,2401,2133,1920,1710,1392,1279],\"type\":\"scatter\"},{\"line\":{\"width\":2},\"mode\":\"markers+lines\",\"name\":\"2021-04\",\"x\":[1,2,3,4,5,6,7,8,9,10],\"y\":[9497,4950,3792,3155,2631,2300,2047,1802,1503,1380],\"type\":\"scatter\"},{\"line\":{\"width\":2},\"mode\":\"markers+lines\",\"name\":\"2021-05\",\"x\":[1,2,3,4,5,6,7,8,9],\"y\":[10314,5214,4169,3319,2719,2368,2100,1716,1541],\"type\":\"scatter\"},{\"line\":{\"width\":2},\"mode\":\"markers+lines\",\"name\":\"2021-06\",\"x\":[1,2,3,4,5,6,7,8],\"y\":[9532,4761,3696,2899,2512,2164,1773,1571],\"type\":\"scatter\"},{\"line\":{\"width\":2},\"mode\":\"markers+lines\",\"name\":\"2021-07\",\"x\":[1,2,3,4,5,6,7],\"y\":[7876,3822,2984,2455,1997,1613,1398],\"type\":\"scatter\"},{\"line\":{\"width\":2},\"mode\":\"markers+lines\",\"name\":\"2021-08\",\"x\":[1,2,3,4,5],\"y\":[7083,3427,2762,2144,1627],\"type\":\"scatter\"},{\"line\":{\"width\":2},\"mode\":\"markers+lines\",\"name\":\"2021-09\",\"x\":[1,2,3,4],\"y\":[7604,3752,2813,2121],\"type\":\"scatter\"},{\"line\":{\"width\":2},\"mode\":\"markers+lines\",\"name\":\"2021-10\",\"x\":[1,2,3,4],\"y\":[8858,4319,3082,2511],\"type\":\"scatter\"},{\"line\":{\"width\":2},\"mode\":\"markers+lines\",\"name\":\"2021-11\",\"x\":[1,2,3],\"y\":[8843,3878,3055],\"type\":\"scatter\"},{\"line\":{\"width\":2},\"mode\":\"markers+lines\",\"name\":\"2021-12\",\"x\":[1,2],\"y\":[7818,3259],\"type\":\"scatter\"}],                        {\"template\":{\"data\":{\"bar\":[{\"error_x\":{\"color\":\"#2a3f5f\"},\"error_y\":{\"color\":\"#2a3f5f\"},\"marker\":{\"line\":{\"color\":\"white\",\"width\":0.5},\"pattern\":{\"fillmode\":\"overlay\",\"size\":10,\"solidity\":0.2}},\"type\":\"bar\"}],\"barpolar\":[{\"marker\":{\"line\":{\"color\":\"white\",\"width\":0.5},\"pattern\":{\"fillmode\":\"overlay\",\"size\":10,\"solidity\":0.2}},\"type\":\"barpolar\"}],\"carpet\":[{\"aaxis\":{\"endlinecolor\":\"#2a3f5f\",\"gridcolor\":\"#C8D4E3\",\"linecolor\":\"#C8D4E3\",\"minorgridcolor\":\"#C8D4E3\",\"startlinecolor\":\"#2a3f5f\"},\"baxis\":{\"endlinecolor\":\"#2a3f5f\",\"gridcolor\":\"#C8D4E3\",\"linecolor\":\"#C8D4E3\",\"minorgridcolor\":\"#C8D4E3\",\"startlinecolor\":\"#2a3f5f\"},\"type\":\"carpet\"}],\"choropleth\":[{\"colorbar\":{\"outlinewidth\":0,\"ticks\":\"\"},\"type\":\"choropleth\"}],\"contour\":[{\"colorbar\":{\"outlinewidth\":0,\"ticks\":\"\"},\"colorscale\":[[0.0,\"#0d0887\"],[0.1111111111111111,\"#46039f\"],[0.2222222222222222,\"#7201a8\"],[0.3333333333333333,\"#9c179e\"],[0.4444444444444444,\"#bd3786\"],[0.5555555555555556,\"#d8576b\"],[0.6666666666666666,\"#ed7953\"],[0.7777777777777778,\"#fb9f3a\"],[0.8888888888888888,\"#fdca26\"],[1.0,\"#f0f921\"]],\"type\":\"contour\"}],\"contourcarpet\":[{\"colorbar\":{\"outlinewidth\":0,\"ticks\":\"\"},\"type\":\"contourcarpet\"}],\"heatmap\":[{\"colorbar\":{\"outlinewidth\":0,\"ticks\":\"\"},\"colorscale\":[[0.0,\"#0d0887\"],[0.1111111111111111,\"#46039f\"],[0.2222222222222222,\"#7201a8\"],[0.3333333333333333,\"#9c179e\"],[0.4444444444444444,\"#bd3786\"],[0.5555555555555556,\"#d8576b\"],[0.6666666666666666,\"#ed7953\"],[0.7777777777777778,\"#fb9f3a\"],[0.8888888888888888,\"#fdca26\"],[1.0,\"#f0f921\"]],\"type\":\"heatmap\"}],\"heatmapgl\":[{\"colorbar\":{\"outlinewidth\":0,\"ticks\":\"\"},\"colorscale\":[[0.0,\"#0d0887\"],[0.1111111111111111,\"#46039f\"],[0.2222222222222222,\"#7201a8\"],[0.3333333333333333,\"#9c179e\"],[0.4444444444444444,\"#bd3786\"],[0.5555555555555556,\"#d8576b\"],[0.6666666666666666,\"#ed7953\"],[0.7777777777777778,\"#fb9f3a\"],[0.8888888888888888,\"#fdca26\"],[1.0,\"#f0f921\"]],\"type\":\"heatmapgl\"}],\"histogram\":[{\"marker\":{\"pattern\":{\"fillmode\":\"overlay\",\"size\":10,\"solidity\":0.2}},\"type\":\"histogram\"}],\"histogram2d\":[{\"colorbar\":{\"outlinewidth\":0,\"ticks\":\"\"},\"colorscale\":[[0.0,\"#0d0887\"],[0.1111111111111111,\"#46039f\"],[0.2222222222222222,\"#7201a8\"],[0.3333333333333333,\"#9c179e\"],[0.4444444444444444,\"#bd3786\"],[0.5555555555555556,\"#d8576b\"],[0.6666666666666666,\"#ed7953\"],[0.7777777777777778,\"#fb9f3a\"],[0.8888888888888888,\"#fdca26\"],[1.0,\"#f0f921\"]],\"type\":\"histogram2d\"}],\"histogram2dcontour\":[{\"colorbar\":{\"outlinewidth\":0,\"ticks\":\"\"},\"colorscale\":[[0.0,\"#0d0887\"],[0.1111111111111111,\"#46039f\"],[0.2222222222222222,\"#7201a8\"],[0.3333333333333333,\"#9c179e\"],[0.4444444444444444,\"#bd3786\"],[0.5555555555555556,\"#d8576b\"],[0.6666666666666666,\"#ed7953\"],[0.7777777777777778,\"#fb9f3a\"],[0.8888888888888888,\"#fdca26\"],[1.0,\"#f0f921\"]],\"type\":\"histogram2dcontour\"}],\"mesh3d\":[{\"colorbar\":{\"outlinewidth\":0,\"ticks\":\"\"},\"type\":\"mesh3d\"}],\"parcoords\":[{\"line\":{\"colorbar\":{\"outlinewidth\":0,\"ticks\":\"\"}},\"type\":\"parcoords\"}],\"pie\":[{\"automargin\":true,\"type\":\"pie\"}],\"scatter\":[{\"marker\":{\"colorbar\":{\"outlinewidth\":0,\"ticks\":\"\"}},\"type\":\"scatter\"}],\"scatter3d\":[{\"line\":{\"colorbar\":{\"outlinewidth\":0,\"ticks\":\"\"}},\"marker\":{\"colorbar\":{\"outlinewidth\":0,\"ticks\":\"\"}},\"type\":\"scatter3d\"}],\"scattercarpet\":[{\"marker\":{\"colorbar\":{\"outlinewidth\":0,\"ticks\":\"\"}},\"type\":\"scattercarpet\"}],\"scattergeo\":[{\"marker\":{\"colorbar\":{\"outlinewidth\":0,\"ticks\":\"\"}},\"type\":\"scattergeo\"}],\"scattergl\":[{\"marker\":{\"colorbar\":{\"outlinewidth\":0,\"ticks\":\"\"}},\"type\":\"scattergl\"}],\"scattermapbox\":[{\"marker\":{\"colorbar\":{\"outlinewidth\":0,\"ticks\":\"\"}},\"type\":\"scattermapbox\"}],\"scatterpolar\":[{\"marker\":{\"colorbar\":{\"outlinewidth\":0,\"ticks\":\"\"}},\"type\":\"scatterpolar\"}],\"scatterpolargl\":[{\"marker\":{\"colorbar\":{\"outlinewidth\":0,\"ticks\":\"\"}},\"type\":\"scatterpolargl\"}],\"scatterternary\":[{\"marker\":{\"colorbar\":{\"outlinewidth\":0,\"ticks\":\"\"}},\"type\":\"scatterternary\"}],\"surface\":[{\"colorbar\":{\"outlinewidth\":0,\"ticks\":\"\"},\"colorscale\":[[0.0,\"#0d0887\"],[0.1111111111111111,\"#46039f\"],[0.2222222222222222,\"#7201a8\"],[0.3333333333333333,\"#9c179e\"],[0.4444444444444444,\"#bd3786\"],[0.5555555555555556,\"#d8576b\"],[0.6666666666666666,\"#ed7953\"],[0.7777777777777778,\"#fb9f3a\"],[0.8888888888888888,\"#fdca26\"],[1.0,\"#f0f921\"]],\"type\":\"surface\"}],\"table\":[{\"cells\":{\"fill\":{\"color\":\"#EBF0F8\"},\"line\":{\"color\":\"white\"}},\"header\":{\"fill\":{\"color\":\"#C8D4E3\"},\"line\":{\"color\":\"white\"}},\"type\":\"table\"}]},\"layout\":{\"annotationdefaults\":{\"arrowcolor\":\"#2a3f5f\",\"arrowhead\":0,\"arrowwidth\":1},\"autotypenumbers\":\"strict\",\"coloraxis\":{\"colorbar\":{\"outlinewidth\":0,\"ticks\":\"\"}},\"colorscale\":{\"diverging\":[[0,\"#8e0152\"],[0.1,\"#c51b7d\"],[0.2,\"#de77ae\"],[0.3,\"#f1b6da\"],[0.4,\"#fde0ef\"],[0.5,\"#f7f7f7\"],[0.6,\"#e6f5d0\"],[0.7,\"#b8e186\"],[0.8,\"#7fbc41\"],[0.9,\"#4d9221\"],[1,\"#276419\"]],\"sequential\":[[0.0,\"#0d0887\"],[0.1111111111111111,\"#46039f\"],[0.2222222222222222,\"#7201a8\"],[0.3333333333333333,\"#9c179e\"],[0.4444444444444444,\"#bd3786\"],[0.5555555555555556,\"#d8576b\"],[0.6666666666666666,\"#ed7953\"],[0.7777777777777778,\"#fb9f3a\"],[0.8888888888888888,\"#fdca26\"],[1.0,\"#f0f921\"]],\"sequentialminus\":[[0.0,\"#0d0887\"],[0.1111111111111111,\"#46039f\"],[0.2222222222222222,\"#7201a8\"],[0.3333333333333333,\"#9c179e\"],[0.4444444444444444,\"#bd3786\"],[0.5555555555555556,\"#d8576b\"],[0.6666666666666666,\"#ed7953\"],[0.7777777777777778,\"#fb9f3a\"],[0.8888888888888888,\"#fdca26\"],[1.0,\"#f0f921\"]]},\"colorway\":[\"#636efa\",\"#EF553B\",\"#00cc96\",\"#ab63fa\",\"#FFA15A\",\"#19d3f3\",\"#FF6692\",\"#B6E880\",\"#FF97FF\",\"#FECB52\"],\"font\":{\"color\":\"#2a3f5f\"},\"geo\":{\"bgcolor\":\"white\",\"lakecolor\":\"white\",\"landcolor\":\"white\",\"showlakes\":true,\"showland\":true,\"subunitcolor\":\"#C8D4E3\"},\"hoverlabel\":{\"align\":\"left\"},\"hovermode\":\"closest\",\"mapbox\":{\"style\":\"light\"},\"paper_bgcolor\":\"white\",\"plot_bgcolor\":\"white\",\"polar\":{\"angularaxis\":{\"gridcolor\":\"#EBF0F8\",\"linecolor\":\"#EBF0F8\",\"ticks\":\"\"},\"bgcolor\":\"white\",\"radialaxis\":{\"gridcolor\":\"#EBF0F8\",\"linecolor\":\"#EBF0F8\",\"ticks\":\"\"}},\"scene\":{\"xaxis\":{\"backgroundcolor\":\"white\",\"gridcolor\":\"#DFE8F3\",\"gridwidth\":2,\"linecolor\":\"#EBF0F8\",\"showbackground\":true,\"ticks\":\"\",\"zerolinecolor\":\"#EBF0F8\"},\"yaxis\":{\"backgroundcolor\":\"white\",\"gridcolor\":\"#DFE8F3\",\"gridwidth\":2,\"linecolor\":\"#EBF0F8\",\"showbackground\":true,\"ticks\":\"\",\"zerolinecolor\":\"#EBF0F8\"},\"zaxis\":{\"backgroundcolor\":\"white\",\"gridcolor\":\"#DFE8F3\",\"gridwidth\":2,\"linecolor\":\"#EBF0F8\",\"showbackground\":true,\"ticks\":\"\",\"zerolinecolor\":\"#EBF0F8\"}},\"shapedefaults\":{\"line\":{\"color\":\"#2a3f5f\"}},\"ternary\":{\"aaxis\":{\"gridcolor\":\"#DFE8F3\",\"linecolor\":\"#A2B1C6\",\"ticks\":\"\"},\"baxis\":{\"gridcolor\":\"#DFE8F3\",\"linecolor\":\"#A2B1C6\",\"ticks\":\"\"},\"bgcolor\":\"white\",\"caxis\":{\"gridcolor\":\"#DFE8F3\",\"linecolor\":\"#A2B1C6\",\"ticks\":\"\"}},\"title\":{\"x\":0.05},\"xaxis\":{\"automargin\":true,\"gridcolor\":\"#EBF0F8\",\"linecolor\":\"#EBF0F8\",\"ticks\":\"\",\"title\":{\"standoff\":15},\"zerolinecolor\":\"#EBF0F8\",\"zerolinewidth\":2},\"yaxis\":{\"automargin\":true,\"gridcolor\":\"#EBF0F8\",\"linecolor\":\"#EBF0F8\",\"ticks\":\"\",\"title\":{\"standoff\":15},\"zerolinecolor\":\"#EBF0F8\",\"zerolinewidth\":2}}},\"title\":{\"text\":\"Count Borrowers - RAW\"},\"xaxis\":{\"title\":{\"text\":\"Month Since First Disbursement\"}},\"yaxis\":{\"title\":{\"text\":\"Count Borrowers\"}}},                        {\"responsive\": true}                    ).then(function(){\n",
       "                            \n",
       "var gd = document.getElementById('ff7fc859-d86a-4e6f-9bf8-afc3494c68c9');\n",
       "var x = new MutationObserver(function (mutations, observer) {{\n",
       "        var display = window.getComputedStyle(gd).display;\n",
       "        if (!display || display === 'none') {{\n",
       "            console.log([gd, 'removed!']);\n",
       "            Plotly.purge(gd);\n",
       "            observer.disconnect();\n",
       "        }}\n",
       "}});\n",
       "\n",
       "// Listen for the removal of the full notebook cells\n",
       "var notebookContainer = gd.closest('#notebook-container');\n",
       "if (notebookContainer) {{\n",
       "    x.observe(notebookContainer, {childList: true});\n",
       "}}\n",
       "\n",
       "// Listen for the clearing of the current output cell\n",
       "var outputEl = gd.closest('.output');\n",
       "if (outputEl) {{\n",
       "    x.observe(outputEl, {childList: true});\n",
       "}}\n",
       "\n",
       "                        })                };                });            </script>        </div>"
      ]
     },
     "metadata": {},
     "output_type": "display_data"
    },
    {
     "data": {
      "application/vnd.plotly.v1+json": {
       "config": {
        "plotlyServerURL": "https://plot.ly"
       },
       "data": [
        {
         "line": {
          "width": 2
         },
         "mode": "markers+lines",
         "name": "2020-09",
         "type": "scatter",
         "x": [
          1,
          2,
          3,
          4,
          5,
          6,
          7,
          8,
          9,
          10,
          11,
          12,
          13,
          14,
          15,
          16,
          17
         ],
         "y": [
          7801,
          4402,
          3616,
          3013,
          2518,
          2144,
          1930,
          1653,
          1577,
          1413,
          1347,
          1229,
          1164,
          1090,
          1042,
          882,
          907
         ]
        },
        {
         "line": {
          "width": 2
         },
         "mode": "markers+lines",
         "name": "2020-10",
         "type": "scatter",
         "x": [
          1,
          2,
          3,
          4,
          5,
          6,
          7,
          8,
          9,
          10,
          11,
          12,
          13,
          14,
          15,
          16
         ],
         "y": [
          9831,
          5197,
          4316,
          3529,
          2917,
          2637,
          2350,
          2157,
          1915,
          1753,
          1603,
          1506,
          1441,
          1348,
          1163,
          1081
         ]
        },
        {
         "line": {
          "width": 2
         },
         "mode": "markers+lines",
         "name": "2020-11",
         "type": "scatter",
         "x": [
          1,
          2,
          3,
          4,
          5,
          6,
          7,
          8,
          9,
          10,
          11,
          12,
          13,
          14,
          15
         ],
         "y": [
          8113,
          4365,
          3472,
          2795,
          2450,
          2124,
          1915,
          1659,
          1537,
          1418,
          1316,
          1282,
          1167,
          999,
          911
         ]
        },
        {
         "line": {
          "width": 2
         },
         "mode": "markers+lines",
         "name": "2020-12",
         "type": "scatter",
         "x": [
          1,
          2,
          3,
          4,
          5,
          6,
          7,
          8,
          9,
          10,
          11,
          12,
          13
         ],
         "y": [
          8765,
          4497,
          3524,
          2959,
          2432,
          2137,
          1823,
          1663,
          1529,
          1392,
          1276,
          1201,
          1015
         ]
        },
        {
         "line": {
          "width": 2
         },
         "mode": "markers+lines",
         "name": "2021-01",
         "type": "scatter",
         "x": [
          1,
          2,
          3,
          4,
          5,
          6,
          7,
          8,
          9,
          10,
          11,
          12,
          13
         ],
         "y": [
          10295,
          5256,
          4382,
          3449,
          3009,
          2521,
          2335,
          2064,
          1874,
          1756,
          1548,
          1373,
          1264
         ]
        },
        {
         "line": {
          "width": 2
         },
         "mode": "markers+lines",
         "name": "2021-02",
         "type": "scatter",
         "x": [
          1,
          2,
          3,
          4,
          5,
          6,
          7,
          8,
          9,
          10,
          11,
          12
         ],
         "y": [
          9331,
          4910,
          3677,
          3062,
          2558,
          2245,
          2011,
          1800,
          1654,
          1458,
          1259,
          1181
         ]
        },
        {
         "line": {
          "width": 2
         },
         "mode": "markers+lines",
         "name": "2021-03",
         "type": "scatter",
         "x": [
          1,
          2,
          3,
          4,
          5,
          6,
          7,
          8,
          9,
          10,
          11
         ],
         "y": [
          10225,
          4943,
          4085,
          3282,
          2795,
          2372,
          2108,
          1898,
          1690,
          1374,
          1265
         ]
        },
        {
         "line": {
          "width": 2
         },
         "mode": "markers+lines",
         "name": "2021-04",
         "type": "scatter",
         "x": [
          1,
          2,
          3,
          4,
          5,
          6,
          7,
          8,
          9,
          10
         ],
         "y": [
          9497,
          4855,
          3742,
          3117,
          2599,
          2273,
          2024,
          1781,
          1484,
          1364
         ]
        },
        {
         "line": {
          "width": 2
         },
         "mode": "markers+lines",
         "name": "2021-05",
         "type": "scatter",
         "x": [
          1,
          2,
          3,
          4,
          5,
          6,
          7,
          8,
          9
         ],
         "y": [
          10314,
          5110,
          4116,
          3277,
          2685,
          2340,
          2076,
          1695,
          1523
         ]
        },
        {
         "line": {
          "width": 2
         },
         "mode": "markers+lines",
         "name": "2021-06",
         "type": "scatter",
         "x": [
          1,
          2,
          3,
          4,
          5,
          6,
          7,
          8
         ],
         "y": [
          9532,
          4665,
          3648,
          2862,
          2483,
          2138,
          1751,
          1553
         ]
        },
        {
         "line": {
          "width": 2
         },
         "mode": "markers+lines",
         "name": "2021-07",
         "type": "scatter",
         "x": [
          1,
          2,
          3,
          4,
          5,
          6,
          7
         ],
         "y": [
          7876,
          3743,
          2945,
          2425,
          1972,
          1593,
          1381
         ]
        },
        {
         "line": {
          "width": 2
         },
         "mode": "markers+lines",
         "name": "2021-08",
         "type": "scatter",
         "x": [
          1,
          2,
          3,
          4,
          5
         ],
         "y": [
          7083,
          3356,
          2727,
          2116,
          1605
         ]
        },
        {
         "line": {
          "width": 2
         },
         "mode": "markers+lines",
         "name": "2021-09",
         "type": "scatter",
         "x": [
          1,
          2,
          3,
          4
         ],
         "y": [
          7604,
          3675,
          2775,
          2092
         ]
        },
        {
         "line": {
          "width": 2
         },
         "mode": "markers+lines",
         "name": "2021-10",
         "type": "scatter",
         "x": [
          1,
          2,
          3,
          4
         ],
         "y": [
          8858,
          4230,
          3038,
          2480
         ]
        },
        {
         "line": {
          "width": 2
         },
         "mode": "markers+lines",
         "name": "2021-11",
         "type": "scatter",
         "x": [
          1,
          2,
          3
         ],
         "y": [
          8843,
          3789,
          3016
         ]
        },
        {
         "line": {
          "width": 2
         },
         "mode": "markers+lines",
         "name": "2021-12",
         "type": "scatter",
         "x": [
          1,
          2
         ],
         "y": [
          7818,
          3180
         ]
        }
       ],
       "layout": {
        "template": {
         "data": {
          "bar": [
           {
            "error_x": {
             "color": "#2a3f5f"
            },
            "error_y": {
             "color": "#2a3f5f"
            },
            "marker": {
             "line": {
              "color": "white",
              "width": 0.5
             },
             "pattern": {
              "fillmode": "overlay",
              "size": 10,
              "solidity": 0.2
             }
            },
            "type": "bar"
           }
          ],
          "barpolar": [
           {
            "marker": {
             "line": {
              "color": "white",
              "width": 0.5
             },
             "pattern": {
              "fillmode": "overlay",
              "size": 10,
              "solidity": 0.2
             }
            },
            "type": "barpolar"
           }
          ],
          "carpet": [
           {
            "aaxis": {
             "endlinecolor": "#2a3f5f",
             "gridcolor": "#C8D4E3",
             "linecolor": "#C8D4E3",
             "minorgridcolor": "#C8D4E3",
             "startlinecolor": "#2a3f5f"
            },
            "baxis": {
             "endlinecolor": "#2a3f5f",
             "gridcolor": "#C8D4E3",
             "linecolor": "#C8D4E3",
             "minorgridcolor": "#C8D4E3",
             "startlinecolor": "#2a3f5f"
            },
            "type": "carpet"
           }
          ],
          "choropleth": [
           {
            "colorbar": {
             "outlinewidth": 0,
             "ticks": ""
            },
            "type": "choropleth"
           }
          ],
          "contour": [
           {
            "colorbar": {
             "outlinewidth": 0,
             "ticks": ""
            },
            "colorscale": [
             [
              0,
              "#0d0887"
             ],
             [
              0.1111111111111111,
              "#46039f"
             ],
             [
              0.2222222222222222,
              "#7201a8"
             ],
             [
              0.3333333333333333,
              "#9c179e"
             ],
             [
              0.4444444444444444,
              "#bd3786"
             ],
             [
              0.5555555555555556,
              "#d8576b"
             ],
             [
              0.6666666666666666,
              "#ed7953"
             ],
             [
              0.7777777777777778,
              "#fb9f3a"
             ],
             [
              0.8888888888888888,
              "#fdca26"
             ],
             [
              1,
              "#f0f921"
             ]
            ],
            "type": "contour"
           }
          ],
          "contourcarpet": [
           {
            "colorbar": {
             "outlinewidth": 0,
             "ticks": ""
            },
            "type": "contourcarpet"
           }
          ],
          "heatmap": [
           {
            "colorbar": {
             "outlinewidth": 0,
             "ticks": ""
            },
            "colorscale": [
             [
              0,
              "#0d0887"
             ],
             [
              0.1111111111111111,
              "#46039f"
             ],
             [
              0.2222222222222222,
              "#7201a8"
             ],
             [
              0.3333333333333333,
              "#9c179e"
             ],
             [
              0.4444444444444444,
              "#bd3786"
             ],
             [
              0.5555555555555556,
              "#d8576b"
             ],
             [
              0.6666666666666666,
              "#ed7953"
             ],
             [
              0.7777777777777778,
              "#fb9f3a"
             ],
             [
              0.8888888888888888,
              "#fdca26"
             ],
             [
              1,
              "#f0f921"
             ]
            ],
            "type": "heatmap"
           }
          ],
          "heatmapgl": [
           {
            "colorbar": {
             "outlinewidth": 0,
             "ticks": ""
            },
            "colorscale": [
             [
              0,
              "#0d0887"
             ],
             [
              0.1111111111111111,
              "#46039f"
             ],
             [
              0.2222222222222222,
              "#7201a8"
             ],
             [
              0.3333333333333333,
              "#9c179e"
             ],
             [
              0.4444444444444444,
              "#bd3786"
             ],
             [
              0.5555555555555556,
              "#d8576b"
             ],
             [
              0.6666666666666666,
              "#ed7953"
             ],
             [
              0.7777777777777778,
              "#fb9f3a"
             ],
             [
              0.8888888888888888,
              "#fdca26"
             ],
             [
              1,
              "#f0f921"
             ]
            ],
            "type": "heatmapgl"
           }
          ],
          "histogram": [
           {
            "marker": {
             "pattern": {
              "fillmode": "overlay",
              "size": 10,
              "solidity": 0.2
             }
            },
            "type": "histogram"
           }
          ],
          "histogram2d": [
           {
            "colorbar": {
             "outlinewidth": 0,
             "ticks": ""
            },
            "colorscale": [
             [
              0,
              "#0d0887"
             ],
             [
              0.1111111111111111,
              "#46039f"
             ],
             [
              0.2222222222222222,
              "#7201a8"
             ],
             [
              0.3333333333333333,
              "#9c179e"
             ],
             [
              0.4444444444444444,
              "#bd3786"
             ],
             [
              0.5555555555555556,
              "#d8576b"
             ],
             [
              0.6666666666666666,
              "#ed7953"
             ],
             [
              0.7777777777777778,
              "#fb9f3a"
             ],
             [
              0.8888888888888888,
              "#fdca26"
             ],
             [
              1,
              "#f0f921"
             ]
            ],
            "type": "histogram2d"
           }
          ],
          "histogram2dcontour": [
           {
            "colorbar": {
             "outlinewidth": 0,
             "ticks": ""
            },
            "colorscale": [
             [
              0,
              "#0d0887"
             ],
             [
              0.1111111111111111,
              "#46039f"
             ],
             [
              0.2222222222222222,
              "#7201a8"
             ],
             [
              0.3333333333333333,
              "#9c179e"
             ],
             [
              0.4444444444444444,
              "#bd3786"
             ],
             [
              0.5555555555555556,
              "#d8576b"
             ],
             [
              0.6666666666666666,
              "#ed7953"
             ],
             [
              0.7777777777777778,
              "#fb9f3a"
             ],
             [
              0.8888888888888888,
              "#fdca26"
             ],
             [
              1,
              "#f0f921"
             ]
            ],
            "type": "histogram2dcontour"
           }
          ],
          "mesh3d": [
           {
            "colorbar": {
             "outlinewidth": 0,
             "ticks": ""
            },
            "type": "mesh3d"
           }
          ],
          "parcoords": [
           {
            "line": {
             "colorbar": {
              "outlinewidth": 0,
              "ticks": ""
             }
            },
            "type": "parcoords"
           }
          ],
          "pie": [
           {
            "automargin": true,
            "type": "pie"
           }
          ],
          "scatter": [
           {
            "marker": {
             "colorbar": {
              "outlinewidth": 0,
              "ticks": ""
             }
            },
            "type": "scatter"
           }
          ],
          "scatter3d": [
           {
            "line": {
             "colorbar": {
              "outlinewidth": 0,
              "ticks": ""
             }
            },
            "marker": {
             "colorbar": {
              "outlinewidth": 0,
              "ticks": ""
             }
            },
            "type": "scatter3d"
           }
          ],
          "scattercarpet": [
           {
            "marker": {
             "colorbar": {
              "outlinewidth": 0,
              "ticks": ""
             }
            },
            "type": "scattercarpet"
           }
          ],
          "scattergeo": [
           {
            "marker": {
             "colorbar": {
              "outlinewidth": 0,
              "ticks": ""
             }
            },
            "type": "scattergeo"
           }
          ],
          "scattergl": [
           {
            "marker": {
             "colorbar": {
              "outlinewidth": 0,
              "ticks": ""
             }
            },
            "type": "scattergl"
           }
          ],
          "scattermapbox": [
           {
            "marker": {
             "colorbar": {
              "outlinewidth": 0,
              "ticks": ""
             }
            },
            "type": "scattermapbox"
           }
          ],
          "scatterpolar": [
           {
            "marker": {
             "colorbar": {
              "outlinewidth": 0,
              "ticks": ""
             }
            },
            "type": "scatterpolar"
           }
          ],
          "scatterpolargl": [
           {
            "marker": {
             "colorbar": {
              "outlinewidth": 0,
              "ticks": ""
             }
            },
            "type": "scatterpolargl"
           }
          ],
          "scatterternary": [
           {
            "marker": {
             "colorbar": {
              "outlinewidth": 0,
              "ticks": ""
             }
            },
            "type": "scatterternary"
           }
          ],
          "surface": [
           {
            "colorbar": {
             "outlinewidth": 0,
             "ticks": ""
            },
            "colorscale": [
             [
              0,
              "#0d0887"
             ],
             [
              0.1111111111111111,
              "#46039f"
             ],
             [
              0.2222222222222222,
              "#7201a8"
             ],
             [
              0.3333333333333333,
              "#9c179e"
             ],
             [
              0.4444444444444444,
              "#bd3786"
             ],
             [
              0.5555555555555556,
              "#d8576b"
             ],
             [
              0.6666666666666666,
              "#ed7953"
             ],
             [
              0.7777777777777778,
              "#fb9f3a"
             ],
             [
              0.8888888888888888,
              "#fdca26"
             ],
             [
              1,
              "#f0f921"
             ]
            ],
            "type": "surface"
           }
          ],
          "table": [
           {
            "cells": {
             "fill": {
              "color": "#EBF0F8"
             },
             "line": {
              "color": "white"
             }
            },
            "header": {
             "fill": {
              "color": "#C8D4E3"
             },
             "line": {
              "color": "white"
             }
            },
            "type": "table"
           }
          ]
         },
         "layout": {
          "annotationdefaults": {
           "arrowcolor": "#2a3f5f",
           "arrowhead": 0,
           "arrowwidth": 1
          },
          "autotypenumbers": "strict",
          "coloraxis": {
           "colorbar": {
            "outlinewidth": 0,
            "ticks": ""
           }
          },
          "colorscale": {
           "diverging": [
            [
             0,
             "#8e0152"
            ],
            [
             0.1,
             "#c51b7d"
            ],
            [
             0.2,
             "#de77ae"
            ],
            [
             0.3,
             "#f1b6da"
            ],
            [
             0.4,
             "#fde0ef"
            ],
            [
             0.5,
             "#f7f7f7"
            ],
            [
             0.6,
             "#e6f5d0"
            ],
            [
             0.7,
             "#b8e186"
            ],
            [
             0.8,
             "#7fbc41"
            ],
            [
             0.9,
             "#4d9221"
            ],
            [
             1,
             "#276419"
            ]
           ],
           "sequential": [
            [
             0,
             "#0d0887"
            ],
            [
             0.1111111111111111,
             "#46039f"
            ],
            [
             0.2222222222222222,
             "#7201a8"
            ],
            [
             0.3333333333333333,
             "#9c179e"
            ],
            [
             0.4444444444444444,
             "#bd3786"
            ],
            [
             0.5555555555555556,
             "#d8576b"
            ],
            [
             0.6666666666666666,
             "#ed7953"
            ],
            [
             0.7777777777777778,
             "#fb9f3a"
            ],
            [
             0.8888888888888888,
             "#fdca26"
            ],
            [
             1,
             "#f0f921"
            ]
           ],
           "sequentialminus": [
            [
             0,
             "#0d0887"
            ],
            [
             0.1111111111111111,
             "#46039f"
            ],
            [
             0.2222222222222222,
             "#7201a8"
            ],
            [
             0.3333333333333333,
             "#9c179e"
            ],
            [
             0.4444444444444444,
             "#bd3786"
            ],
            [
             0.5555555555555556,
             "#d8576b"
            ],
            [
             0.6666666666666666,
             "#ed7953"
            ],
            [
             0.7777777777777778,
             "#fb9f3a"
            ],
            [
             0.8888888888888888,
             "#fdca26"
            ],
            [
             1,
             "#f0f921"
            ]
           ]
          },
          "colorway": [
           "#636efa",
           "#EF553B",
           "#00cc96",
           "#ab63fa",
           "#FFA15A",
           "#19d3f3",
           "#FF6692",
           "#B6E880",
           "#FF97FF",
           "#FECB52"
          ],
          "font": {
           "color": "#2a3f5f"
          },
          "geo": {
           "bgcolor": "white",
           "lakecolor": "white",
           "landcolor": "white",
           "showlakes": true,
           "showland": true,
           "subunitcolor": "#C8D4E3"
          },
          "hoverlabel": {
           "align": "left"
          },
          "hovermode": "closest",
          "mapbox": {
           "style": "light"
          },
          "paper_bgcolor": "white",
          "plot_bgcolor": "white",
          "polar": {
           "angularaxis": {
            "gridcolor": "#EBF0F8",
            "linecolor": "#EBF0F8",
            "ticks": ""
           },
           "bgcolor": "white",
           "radialaxis": {
            "gridcolor": "#EBF0F8",
            "linecolor": "#EBF0F8",
            "ticks": ""
           }
          },
          "scene": {
           "xaxis": {
            "backgroundcolor": "white",
            "gridcolor": "#DFE8F3",
            "gridwidth": 2,
            "linecolor": "#EBF0F8",
            "showbackground": true,
            "ticks": "",
            "zerolinecolor": "#EBF0F8"
           },
           "yaxis": {
            "backgroundcolor": "white",
            "gridcolor": "#DFE8F3",
            "gridwidth": 2,
            "linecolor": "#EBF0F8",
            "showbackground": true,
            "ticks": "",
            "zerolinecolor": "#EBF0F8"
           },
           "zaxis": {
            "backgroundcolor": "white",
            "gridcolor": "#DFE8F3",
            "gridwidth": 2,
            "linecolor": "#EBF0F8",
            "showbackground": true,
            "ticks": "",
            "zerolinecolor": "#EBF0F8"
           }
          },
          "shapedefaults": {
           "line": {
            "color": "#2a3f5f"
           }
          },
          "ternary": {
           "aaxis": {
            "gridcolor": "#DFE8F3",
            "linecolor": "#A2B1C6",
            "ticks": ""
           },
           "baxis": {
            "gridcolor": "#DFE8F3",
            "linecolor": "#A2B1C6",
            "ticks": ""
           },
           "bgcolor": "white",
           "caxis": {
            "gridcolor": "#DFE8F3",
            "linecolor": "#A2B1C6",
            "ticks": ""
           }
          },
          "title": {
           "x": 0.05
          },
          "xaxis": {
           "automargin": true,
           "gridcolor": "#EBF0F8",
           "linecolor": "#EBF0F8",
           "ticks": "",
           "title": {
            "standoff": 15
           },
           "zerolinecolor": "#EBF0F8",
           "zerolinewidth": 2
          },
          "yaxis": {
           "automargin": true,
           "gridcolor": "#EBF0F8",
           "linecolor": "#EBF0F8",
           "ticks": "",
           "title": {
            "standoff": 15
           },
           "zerolinecolor": "#EBF0F8",
           "zerolinewidth": 2
          }
         }
        },
        "title": {
         "text": "Count Borrowers - RAW"
        },
        "xaxis": {
         "title": {
          "text": "Month Since First Disbursement"
         }
        },
        "yaxis": {
         "title": {
          "text": "Count Borrowers"
         }
        }
       }
      },
      "text/html": [
       "<div>                            <div id=\"c6b63e3d-c21e-41c5-8f7d-ff1bb0065eae\" class=\"plotly-graph-div\" style=\"height:525px; width:100%;\"></div>            <script type=\"text/javascript\">                require([\"plotly\"], function(Plotly) {                    window.PLOTLYENV=window.PLOTLYENV || {};                                    if (document.getElementById(\"c6b63e3d-c21e-41c5-8f7d-ff1bb0065eae\")) {                    Plotly.newPlot(                        \"c6b63e3d-c21e-41c5-8f7d-ff1bb0065eae\",                        [{\"line\":{\"width\":2},\"mode\":\"markers+lines\",\"name\":\"2020-09\",\"x\":[1,2,3,4,5,6,7,8,9,10,11,12,13,14,15,16,17],\"y\":[7801,4402,3616,3013,2518,2144,1930,1653,1577,1413,1347,1229,1164,1090,1042,882,907],\"type\":\"scatter\"},{\"line\":{\"width\":2},\"mode\":\"markers+lines\",\"name\":\"2020-10\",\"x\":[1,2,3,4,5,6,7,8,9,10,11,12,13,14,15,16],\"y\":[9831,5197,4316,3529,2917,2637,2350,2157,1915,1753,1603,1506,1441,1348,1163,1081],\"type\":\"scatter\"},{\"line\":{\"width\":2},\"mode\":\"markers+lines\",\"name\":\"2020-11\",\"x\":[1,2,3,4,5,6,7,8,9,10,11,12,13,14,15],\"y\":[8113,4365,3472,2795,2450,2124,1915,1659,1537,1418,1316,1282,1167,999,911],\"type\":\"scatter\"},{\"line\":{\"width\":2},\"mode\":\"markers+lines\",\"name\":\"2020-12\",\"x\":[1,2,3,4,5,6,7,8,9,10,11,12,13],\"y\":[8765,4497,3524,2959,2432,2137,1823,1663,1529,1392,1276,1201,1015],\"type\":\"scatter\"},{\"line\":{\"width\":2},\"mode\":\"markers+lines\",\"name\":\"2021-01\",\"x\":[1,2,3,4,5,6,7,8,9,10,11,12,13],\"y\":[10295,5256,4382,3449,3009,2521,2335,2064,1874,1756,1548,1373,1264],\"type\":\"scatter\"},{\"line\":{\"width\":2},\"mode\":\"markers+lines\",\"name\":\"2021-02\",\"x\":[1,2,3,4,5,6,7,8,9,10,11,12],\"y\":[9331,4910,3677,3062,2558,2245,2011,1800,1654,1458,1259,1181],\"type\":\"scatter\"},{\"line\":{\"width\":2},\"mode\":\"markers+lines\",\"name\":\"2021-03\",\"x\":[1,2,3,4,5,6,7,8,9,10,11],\"y\":[10225,4943,4085,3282,2795,2372,2108,1898,1690,1374,1265],\"type\":\"scatter\"},{\"line\":{\"width\":2},\"mode\":\"markers+lines\",\"name\":\"2021-04\",\"x\":[1,2,3,4,5,6,7,8,9,10],\"y\":[9497,4855,3742,3117,2599,2273,2024,1781,1484,1364],\"type\":\"scatter\"},{\"line\":{\"width\":2},\"mode\":\"markers+lines\",\"name\":\"2021-05\",\"x\":[1,2,3,4,5,6,7,8,9],\"y\":[10314,5110,4116,3277,2685,2340,2076,1695,1523],\"type\":\"scatter\"},{\"line\":{\"width\":2},\"mode\":\"markers+lines\",\"name\":\"2021-06\",\"x\":[1,2,3,4,5,6,7,8],\"y\":[9532,4665,3648,2862,2483,2138,1751,1553],\"type\":\"scatter\"},{\"line\":{\"width\":2},\"mode\":\"markers+lines\",\"name\":\"2021-07\",\"x\":[1,2,3,4,5,6,7],\"y\":[7876,3743,2945,2425,1972,1593,1381],\"type\":\"scatter\"},{\"line\":{\"width\":2},\"mode\":\"markers+lines\",\"name\":\"2021-08\",\"x\":[1,2,3,4,5],\"y\":[7083,3356,2727,2116,1605],\"type\":\"scatter\"},{\"line\":{\"width\":2},\"mode\":\"markers+lines\",\"name\":\"2021-09\",\"x\":[1,2,3,4],\"y\":[7604,3675,2775,2092],\"type\":\"scatter\"},{\"line\":{\"width\":2},\"mode\":\"markers+lines\",\"name\":\"2021-10\",\"x\":[1,2,3,4],\"y\":[8858,4230,3038,2480],\"type\":\"scatter\"},{\"line\":{\"width\":2},\"mode\":\"markers+lines\",\"name\":\"2021-11\",\"x\":[1,2,3],\"y\":[8843,3789,3016],\"type\":\"scatter\"},{\"line\":{\"width\":2},\"mode\":\"markers+lines\",\"name\":\"2021-12\",\"x\":[1,2],\"y\":[7818,3180],\"type\":\"scatter\"}],                        {\"template\":{\"data\":{\"bar\":[{\"error_x\":{\"color\":\"#2a3f5f\"},\"error_y\":{\"color\":\"#2a3f5f\"},\"marker\":{\"line\":{\"color\":\"white\",\"width\":0.5},\"pattern\":{\"fillmode\":\"overlay\",\"size\":10,\"solidity\":0.2}},\"type\":\"bar\"}],\"barpolar\":[{\"marker\":{\"line\":{\"color\":\"white\",\"width\":0.5},\"pattern\":{\"fillmode\":\"overlay\",\"size\":10,\"solidity\":0.2}},\"type\":\"barpolar\"}],\"carpet\":[{\"aaxis\":{\"endlinecolor\":\"#2a3f5f\",\"gridcolor\":\"#C8D4E3\",\"linecolor\":\"#C8D4E3\",\"minorgridcolor\":\"#C8D4E3\",\"startlinecolor\":\"#2a3f5f\"},\"baxis\":{\"endlinecolor\":\"#2a3f5f\",\"gridcolor\":\"#C8D4E3\",\"linecolor\":\"#C8D4E3\",\"minorgridcolor\":\"#C8D4E3\",\"startlinecolor\":\"#2a3f5f\"},\"type\":\"carpet\"}],\"choropleth\":[{\"colorbar\":{\"outlinewidth\":0,\"ticks\":\"\"},\"type\":\"choropleth\"}],\"contour\":[{\"colorbar\":{\"outlinewidth\":0,\"ticks\":\"\"},\"colorscale\":[[0.0,\"#0d0887\"],[0.1111111111111111,\"#46039f\"],[0.2222222222222222,\"#7201a8\"],[0.3333333333333333,\"#9c179e\"],[0.4444444444444444,\"#bd3786\"],[0.5555555555555556,\"#d8576b\"],[0.6666666666666666,\"#ed7953\"],[0.7777777777777778,\"#fb9f3a\"],[0.8888888888888888,\"#fdca26\"],[1.0,\"#f0f921\"]],\"type\":\"contour\"}],\"contourcarpet\":[{\"colorbar\":{\"outlinewidth\":0,\"ticks\":\"\"},\"type\":\"contourcarpet\"}],\"heatmap\":[{\"colorbar\":{\"outlinewidth\":0,\"ticks\":\"\"},\"colorscale\":[[0.0,\"#0d0887\"],[0.1111111111111111,\"#46039f\"],[0.2222222222222222,\"#7201a8\"],[0.3333333333333333,\"#9c179e\"],[0.4444444444444444,\"#bd3786\"],[0.5555555555555556,\"#d8576b\"],[0.6666666666666666,\"#ed7953\"],[0.7777777777777778,\"#fb9f3a\"],[0.8888888888888888,\"#fdca26\"],[1.0,\"#f0f921\"]],\"type\":\"heatmap\"}],\"heatmapgl\":[{\"colorbar\":{\"outlinewidth\":0,\"ticks\":\"\"},\"colorscale\":[[0.0,\"#0d0887\"],[0.1111111111111111,\"#46039f\"],[0.2222222222222222,\"#7201a8\"],[0.3333333333333333,\"#9c179e\"],[0.4444444444444444,\"#bd3786\"],[0.5555555555555556,\"#d8576b\"],[0.6666666666666666,\"#ed7953\"],[0.7777777777777778,\"#fb9f3a\"],[0.8888888888888888,\"#fdca26\"],[1.0,\"#f0f921\"]],\"type\":\"heatmapgl\"}],\"histogram\":[{\"marker\":{\"pattern\":{\"fillmode\":\"overlay\",\"size\":10,\"solidity\":0.2}},\"type\":\"histogram\"}],\"histogram2d\":[{\"colorbar\":{\"outlinewidth\":0,\"ticks\":\"\"},\"colorscale\":[[0.0,\"#0d0887\"],[0.1111111111111111,\"#46039f\"],[0.2222222222222222,\"#7201a8\"],[0.3333333333333333,\"#9c179e\"],[0.4444444444444444,\"#bd3786\"],[0.5555555555555556,\"#d8576b\"],[0.6666666666666666,\"#ed7953\"],[0.7777777777777778,\"#fb9f3a\"],[0.8888888888888888,\"#fdca26\"],[1.0,\"#f0f921\"]],\"type\":\"histogram2d\"}],\"histogram2dcontour\":[{\"colorbar\":{\"outlinewidth\":0,\"ticks\":\"\"},\"colorscale\":[[0.0,\"#0d0887\"],[0.1111111111111111,\"#46039f\"],[0.2222222222222222,\"#7201a8\"],[0.3333333333333333,\"#9c179e\"],[0.4444444444444444,\"#bd3786\"],[0.5555555555555556,\"#d8576b\"],[0.6666666666666666,\"#ed7953\"],[0.7777777777777778,\"#fb9f3a\"],[0.8888888888888888,\"#fdca26\"],[1.0,\"#f0f921\"]],\"type\":\"histogram2dcontour\"}],\"mesh3d\":[{\"colorbar\":{\"outlinewidth\":0,\"ticks\":\"\"},\"type\":\"mesh3d\"}],\"parcoords\":[{\"line\":{\"colorbar\":{\"outlinewidth\":0,\"ticks\":\"\"}},\"type\":\"parcoords\"}],\"pie\":[{\"automargin\":true,\"type\":\"pie\"}],\"scatter\":[{\"marker\":{\"colorbar\":{\"outlinewidth\":0,\"ticks\":\"\"}},\"type\":\"scatter\"}],\"scatter3d\":[{\"line\":{\"colorbar\":{\"outlinewidth\":0,\"ticks\":\"\"}},\"marker\":{\"colorbar\":{\"outlinewidth\":0,\"ticks\":\"\"}},\"type\":\"scatter3d\"}],\"scattercarpet\":[{\"marker\":{\"colorbar\":{\"outlinewidth\":0,\"ticks\":\"\"}},\"type\":\"scattercarpet\"}],\"scattergeo\":[{\"marker\":{\"colorbar\":{\"outlinewidth\":0,\"ticks\":\"\"}},\"type\":\"scattergeo\"}],\"scattergl\":[{\"marker\":{\"colorbar\":{\"outlinewidth\":0,\"ticks\":\"\"}},\"type\":\"scattergl\"}],\"scattermapbox\":[{\"marker\":{\"colorbar\":{\"outlinewidth\":0,\"ticks\":\"\"}},\"type\":\"scattermapbox\"}],\"scatterpolar\":[{\"marker\":{\"colorbar\":{\"outlinewidth\":0,\"ticks\":\"\"}},\"type\":\"scatterpolar\"}],\"scatterpolargl\":[{\"marker\":{\"colorbar\":{\"outlinewidth\":0,\"ticks\":\"\"}},\"type\":\"scatterpolargl\"}],\"scatterternary\":[{\"marker\":{\"colorbar\":{\"outlinewidth\":0,\"ticks\":\"\"}},\"type\":\"scatterternary\"}],\"surface\":[{\"colorbar\":{\"outlinewidth\":0,\"ticks\":\"\"},\"colorscale\":[[0.0,\"#0d0887\"],[0.1111111111111111,\"#46039f\"],[0.2222222222222222,\"#7201a8\"],[0.3333333333333333,\"#9c179e\"],[0.4444444444444444,\"#bd3786\"],[0.5555555555555556,\"#d8576b\"],[0.6666666666666666,\"#ed7953\"],[0.7777777777777778,\"#fb9f3a\"],[0.8888888888888888,\"#fdca26\"],[1.0,\"#f0f921\"]],\"type\":\"surface\"}],\"table\":[{\"cells\":{\"fill\":{\"color\":\"#EBF0F8\"},\"line\":{\"color\":\"white\"}},\"header\":{\"fill\":{\"color\":\"#C8D4E3\"},\"line\":{\"color\":\"white\"}},\"type\":\"table\"}]},\"layout\":{\"annotationdefaults\":{\"arrowcolor\":\"#2a3f5f\",\"arrowhead\":0,\"arrowwidth\":1},\"autotypenumbers\":\"strict\",\"coloraxis\":{\"colorbar\":{\"outlinewidth\":0,\"ticks\":\"\"}},\"colorscale\":{\"diverging\":[[0,\"#8e0152\"],[0.1,\"#c51b7d\"],[0.2,\"#de77ae\"],[0.3,\"#f1b6da\"],[0.4,\"#fde0ef\"],[0.5,\"#f7f7f7\"],[0.6,\"#e6f5d0\"],[0.7,\"#b8e186\"],[0.8,\"#7fbc41\"],[0.9,\"#4d9221\"],[1,\"#276419\"]],\"sequential\":[[0.0,\"#0d0887\"],[0.1111111111111111,\"#46039f\"],[0.2222222222222222,\"#7201a8\"],[0.3333333333333333,\"#9c179e\"],[0.4444444444444444,\"#bd3786\"],[0.5555555555555556,\"#d8576b\"],[0.6666666666666666,\"#ed7953\"],[0.7777777777777778,\"#fb9f3a\"],[0.8888888888888888,\"#fdca26\"],[1.0,\"#f0f921\"]],\"sequentialminus\":[[0.0,\"#0d0887\"],[0.1111111111111111,\"#46039f\"],[0.2222222222222222,\"#7201a8\"],[0.3333333333333333,\"#9c179e\"],[0.4444444444444444,\"#bd3786\"],[0.5555555555555556,\"#d8576b\"],[0.6666666666666666,\"#ed7953\"],[0.7777777777777778,\"#fb9f3a\"],[0.8888888888888888,\"#fdca26\"],[1.0,\"#f0f921\"]]},\"colorway\":[\"#636efa\",\"#EF553B\",\"#00cc96\",\"#ab63fa\",\"#FFA15A\",\"#19d3f3\",\"#FF6692\",\"#B6E880\",\"#FF97FF\",\"#FECB52\"],\"font\":{\"color\":\"#2a3f5f\"},\"geo\":{\"bgcolor\":\"white\",\"lakecolor\":\"white\",\"landcolor\":\"white\",\"showlakes\":true,\"showland\":true,\"subunitcolor\":\"#C8D4E3\"},\"hoverlabel\":{\"align\":\"left\"},\"hovermode\":\"closest\",\"mapbox\":{\"style\":\"light\"},\"paper_bgcolor\":\"white\",\"plot_bgcolor\":\"white\",\"polar\":{\"angularaxis\":{\"gridcolor\":\"#EBF0F8\",\"linecolor\":\"#EBF0F8\",\"ticks\":\"\"},\"bgcolor\":\"white\",\"radialaxis\":{\"gridcolor\":\"#EBF0F8\",\"linecolor\":\"#EBF0F8\",\"ticks\":\"\"}},\"scene\":{\"xaxis\":{\"backgroundcolor\":\"white\",\"gridcolor\":\"#DFE8F3\",\"gridwidth\":2,\"linecolor\":\"#EBF0F8\",\"showbackground\":true,\"ticks\":\"\",\"zerolinecolor\":\"#EBF0F8\"},\"yaxis\":{\"backgroundcolor\":\"white\",\"gridcolor\":\"#DFE8F3\",\"gridwidth\":2,\"linecolor\":\"#EBF0F8\",\"showbackground\":true,\"ticks\":\"\",\"zerolinecolor\":\"#EBF0F8\"},\"zaxis\":{\"backgroundcolor\":\"white\",\"gridcolor\":\"#DFE8F3\",\"gridwidth\":2,\"linecolor\":\"#EBF0F8\",\"showbackground\":true,\"ticks\":\"\",\"zerolinecolor\":\"#EBF0F8\"}},\"shapedefaults\":{\"line\":{\"color\":\"#2a3f5f\"}},\"ternary\":{\"aaxis\":{\"gridcolor\":\"#DFE8F3\",\"linecolor\":\"#A2B1C6\",\"ticks\":\"\"},\"baxis\":{\"gridcolor\":\"#DFE8F3\",\"linecolor\":\"#A2B1C6\",\"ticks\":\"\"},\"bgcolor\":\"white\",\"caxis\":{\"gridcolor\":\"#DFE8F3\",\"linecolor\":\"#A2B1C6\",\"ticks\":\"\"}},\"title\":{\"x\":0.05},\"xaxis\":{\"automargin\":true,\"gridcolor\":\"#EBF0F8\",\"linecolor\":\"#EBF0F8\",\"ticks\":\"\",\"title\":{\"standoff\":15},\"zerolinecolor\":\"#EBF0F8\",\"zerolinewidth\":2},\"yaxis\":{\"automargin\":true,\"gridcolor\":\"#EBF0F8\",\"linecolor\":\"#EBF0F8\",\"ticks\":\"\",\"title\":{\"standoff\":15},\"zerolinecolor\":\"#EBF0F8\",\"zerolinewidth\":2}}},\"title\":{\"text\":\"Count Borrowers - RAW\"},\"xaxis\":{\"title\":{\"text\":\"Month Since First Disbursement\"}},\"yaxis\":{\"title\":{\"text\":\"Count Borrowers\"}}},                        {\"responsive\": true}                    ).then(function(){\n",
       "                            \n",
       "var gd = document.getElementById('c6b63e3d-c21e-41c5-8f7d-ff1bb0065eae');\n",
       "var x = new MutationObserver(function (mutations, observer) {{\n",
       "        var display = window.getComputedStyle(gd).display;\n",
       "        if (!display || display === 'none') {{\n",
       "            console.log([gd, 'removed!']);\n",
       "            Plotly.purge(gd);\n",
       "            observer.disconnect();\n",
       "        }}\n",
       "}});\n",
       "\n",
       "// Listen for the removal of the full notebook cells\n",
       "var notebookContainer = gd.closest('#notebook-container');\n",
       "if (notebookContainer) {{\n",
       "    x.observe(notebookContainer, {childList: true});\n",
       "}}\n",
       "\n",
       "// Listen for the clearing of the current output cell\n",
       "var outputEl = gd.closest('.output');\n",
       "if (outputEl) {{\n",
       "    x.observe(outputEl, {childList: true});\n",
       "}}\n",
       "\n",
       "                        })                };                });            </script>        </div>"
      ]
     },
     "metadata": {},
     "output_type": "display_data"
    }
   ],
   "source": [
    "m1.plot_cohorts('Count Borrowers')\n",
    "m3.plot_cohorts('Count Borrowers')"
   ]
  },
  {
   "cell_type": "code",
   "execution_count": null,
   "id": "17278631",
   "metadata": {},
   "outputs": [],
   "source": [
    "m.plot_cohorts('borrower_retention')\n",
    "m.plot_cohorts('default_rate_7dpd')\n",
    "m.plot_cohorts('default_rate_365dpd')"
   ]
  },
  {
   "cell_type": "code",
   "execution_count": null,
   "id": "d4db1f16",
   "metadata": {},
   "outputs": [],
   "source": []
  }
 ],
 "metadata": {
  "kernelspec": {
   "display_name": "Python 3 (ipykernel)",
   "language": "python",
   "name": "python3"
  },
  "language_info": {
   "codemirror_mode": {
    "name": "ipython",
    "version": 3
   },
   "file_extension": ".py",
   "mimetype": "text/x-python",
   "name": "python",
   "nbconvert_exporter": "python",
   "pygments_lexer": "ipython3",
   "version": "3.9.7"
  }
 },
 "nbformat": 4,
 "nbformat_minor": 5
}
