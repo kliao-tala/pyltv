{
 "cells": [
  {
   "cell_type": "markdown",
   "id": "1738c702",
   "metadata": {},
   "source": [
    "# pLTV Python Model"
   ]
  },
  {
   "cell_type": "markdown",
   "id": "7e5b1a30",
   "metadata": {},
   "source": [
    "## TO DO LIST\n",
    "\n",
    "1. Add all forecasting methods to model. - DONE\n",
    "2. Add back testing to model.\n",
    "3. Revisit loan size forecast, errors seem large."
   ]
  },
  {
   "cell_type": "markdown",
   "id": "a6306da1",
   "metadata": {},
   "source": [
    "#### Resources"
   ]
  },
  {
   "cell_type": "markdown",
   "id": "71408ea4",
   "metadata": {},
   "source": [
    "Github repo\n",
    "https://github.com/kliao-tala/pLTV\n",
    "\n",
    "Fader & Hardie paper on sBG model\n",
    "https://drive.google.com/file/d/1tfMiERon1HgWo8dDJddwSzwc_AXK7LCA/view?usp=sharing\n",
    "https://faculty.wharton.upenn.edu/wp-content/uploads/2012/04/Fader_hardie_jim_07.pdf\n",
    "\n",
    "YT tutorial to pull look data\n",
    "https://www.youtube.com/watch?v=EKwtLBnwXHk&list=PLXwS3L4W3KR2fhnQa-sLyajPZ9-L00KGX&index=1\n",
    "\n",
    "Looker Python SDK & API\n",
    "https://inventure.looker.com/extensions/marketplace_extension_api_explorer::api-explorer/4.0"
   ]
  },
  {
   "cell_type": "markdown",
   "id": "a2848eca",
   "metadata": {},
   "source": [
    "---"
   ]
  },
  {
   "cell_type": "code",
   "execution_count": 1,
   "id": "bdd8940e",
   "metadata": {},
   "outputs": [],
   "source": [
    "import numpy as np\n",
    "import pandas as pd\n",
    "pd.options.mode.chained_assignment = None  # default='warn'\n",
    "\n",
    "from scipy.optimize import curve_fit, minimize\n",
    "\n",
    "import plotly\n",
    "from plotly import graph_objects as go\n",
    "import plotly.io as pio\n",
    "\n",
    "# change default plotly theme\n",
    "pio.templates.default = \"plotly_white\"\n",
    "\n",
    "import sbg"
   ]
  },
  {
   "cell_type": "code",
   "execution_count": 2,
   "id": "ac07ccc0",
   "metadata": {},
   "outputs": [],
   "source": [
    "inputs = pd.read_csv('data/pltv_inputs.csv')\n",
    "data = pd.read_csv('data/ke_data.csv')\n",
    "pltv_expected = pd.read_csv('data/pltv_expected.csv')"
   ]
  },
  {
   "cell_type": "markdown",
   "id": "392a13c8",
   "metadata": {},
   "source": [
    "## Data Munging"
   ]
  },
  {
   "cell_type": "code",
   "execution_count": 3,
   "id": "77fcd3ff",
   "metadata": {},
   "outputs": [],
   "source": [
    "# fix date inconsistencies\n",
    "data = data.replace({'2021-9': '2021-09', '2021-8': '2021-08', '2021-7': '2021-07', \n",
    "              '2021-6': '2021-06', '2021-5': '2021-05', '2021-4': '2021-04', '2020-9': '2020-09'})\n",
    "\n",
    "# sort by months since first disbursement\n",
    "data = data.sort_values(['First Loan Local Disbursement Month', \n",
    "                         'Months Since First Loan Disbursed'])\n",
    "\n",
    "# remove all columns calculated through looker\n",
    "data = data.loc[:,:\"Default Rate Amount 51D\"]"
   ]
  },
  {
   "cell_type": "code",
   "execution_count": 4,
   "id": "be7e611e",
   "metadata": {},
   "outputs": [
    {
     "data": {
      "text/html": [
       "<div>\n",
       "<style scoped>\n",
       "    .dataframe tbody tr th:only-of-type {\n",
       "        vertical-align: middle;\n",
       "    }\n",
       "\n",
       "    .dataframe tbody tr th {\n",
       "        vertical-align: top;\n",
       "    }\n",
       "\n",
       "    .dataframe thead th {\n",
       "        text-align: right;\n",
       "    }\n",
       "</style>\n",
       "<table border=\"1\" class=\"dataframe\">\n",
       "  <thead>\n",
       "    <tr style=\"text-align: right;\">\n",
       "      <th></th>\n",
       "      <th>First Loan Local Disbursement Month</th>\n",
       "      <th>Months Since First Loan Disbursed</th>\n",
       "      <th>Count First Loans</th>\n",
       "      <th>Count Borrowers</th>\n",
       "      <th>Count Loans</th>\n",
       "      <th>Total Amount</th>\n",
       "      <th>Total Interest Assessed</th>\n",
       "      <th>Total Rollover Charged</th>\n",
       "      <th>Total Rollover Reversed</th>\n",
       "      <th>Default Rate Amount 7D</th>\n",
       "      <th>Default Rate Amount 30D</th>\n",
       "      <th>Default Rate Amount 51D</th>\n",
       "    </tr>\n",
       "  </thead>\n",
       "  <tbody>\n",
       "    <tr>\n",
       "      <th>0</th>\n",
       "      <td>2020-09</td>\n",
       "      <td>0</td>\n",
       "      <td>7801</td>\n",
       "      <td>7801</td>\n",
       "      <td>13156</td>\n",
       "      <td>48361000</td>\n",
       "      <td>6540240</td>\n",
       "      <td>681325</td>\n",
       "      <td>81520</td>\n",
       "      <td>0.155382</td>\n",
       "      <td>0.121192</td>\n",
       "      <td>0.113031</td>\n",
       "    </tr>\n",
       "    <tr>\n",
       "      <th>15</th>\n",
       "      <td>2020-09</td>\n",
       "      <td>1</td>\n",
       "      <td>0</td>\n",
       "      <td>4481</td>\n",
       "      <td>5697</td>\n",
       "      <td>34490000</td>\n",
       "      <td>4660880</td>\n",
       "      <td>416544</td>\n",
       "      <td>32387</td>\n",
       "      <td>0.130661</td>\n",
       "      <td>0.101823</td>\n",
       "      <td>0.095738</td>\n",
       "    </tr>\n",
       "    <tr>\n",
       "      <th>2</th>\n",
       "      <td>2020-09</td>\n",
       "      <td>2</td>\n",
       "      <td>0</td>\n",
       "      <td>3661</td>\n",
       "      <td>4310</td>\n",
       "      <td>31461000</td>\n",
       "      <td>4297310</td>\n",
       "      <td>401077</td>\n",
       "      <td>30617</td>\n",
       "      <td>0.139719</td>\n",
       "      <td>0.103958</td>\n",
       "      <td>0.094792</td>\n",
       "    </tr>\n",
       "    <tr>\n",
       "      <th>9</th>\n",
       "      <td>2020-09</td>\n",
       "      <td>3</td>\n",
       "      <td>0</td>\n",
       "      <td>3050</td>\n",
       "      <td>3599</td>\n",
       "      <td>30482000</td>\n",
       "      <td>4178400</td>\n",
       "      <td>343062</td>\n",
       "      <td>17629</td>\n",
       "      <td>0.125111</td>\n",
       "      <td>0.089089</td>\n",
       "      <td>0.084399</td>\n",
       "    </tr>\n",
       "    <tr>\n",
       "      <th>10</th>\n",
       "      <td>2020-09</td>\n",
       "      <td>4</td>\n",
       "      <td>0</td>\n",
       "      <td>2549</td>\n",
       "      <td>2985</td>\n",
       "      <td>29303000</td>\n",
       "      <td>3964590</td>\n",
       "      <td>300262</td>\n",
       "      <td>920</td>\n",
       "      <td>0.113720</td>\n",
       "      <td>0.086750</td>\n",
       "      <td>0.081658</td>\n",
       "    </tr>\n",
       "  </tbody>\n",
       "</table>\n",
       "</div>"
      ],
      "text/plain": [
       "   First Loan Local Disbursement Month  Months Since First Loan Disbursed  \\\n",
       "0                              2020-09                                  0   \n",
       "15                             2020-09                                  1   \n",
       "2                              2020-09                                  2   \n",
       "9                              2020-09                                  3   \n",
       "10                             2020-09                                  4   \n",
       "\n",
       "    Count First Loans  Count Borrowers  Count Loans  Total Amount  \\\n",
       "0                7801             7801        13156      48361000   \n",
       "15                  0             4481         5697      34490000   \n",
       "2                   0             3661         4310      31461000   \n",
       "9                   0             3050         3599      30482000   \n",
       "10                  0             2549         2985      29303000   \n",
       "\n",
       "    Total Interest Assessed  Total Rollover Charged  Total Rollover Reversed  \\\n",
       "0                   6540240                  681325                    81520   \n",
       "15                  4660880                  416544                    32387   \n",
       "2                   4297310                  401077                    30617   \n",
       "9                   4178400                  343062                    17629   \n",
       "10                  3964590                  300262                      920   \n",
       "\n",
       "    Default Rate Amount 7D  Default Rate Amount 30D  Default Rate Amount 51D  \n",
       "0                 0.155382                 0.121192                 0.113031  \n",
       "15                0.130661                 0.101823                 0.095738  \n",
       "2                 0.139719                 0.103958                 0.094792  \n",
       "9                 0.125111                 0.089089                 0.084399  \n",
       "10                0.113720                 0.086750                 0.081658  "
      ]
     },
     "execution_count": 4,
     "metadata": {},
     "output_type": "execute_result"
    }
   ],
   "source": [
    "data.head()"
   ]
  },
  {
   "cell_type": "markdown",
   "id": "8164b5b1",
   "metadata": {},
   "source": [
    "## pLTV Model"
   ]
  },
  {
   "cell_type": "code",
   "execution_count": 5,
   "id": "7a26c67b",
   "metadata": {},
   "outputs": [],
   "source": [
    "# KSH to USD conversion factor\n",
    "ksh_usd = 0.00925\n",
    "late_fee = 0.08 # % fee on defaults"
   ]
  },
  {
   "cell_type": "code",
   "execution_count": 126,
   "id": "f6a41ab1",
   "metadata": {},
   "outputs": [],
   "source": [
    "class Model:\n",
    "    \"\"\"\n",
    "    sBG model class containing all functionality for creating, analyzing, and backtesting\n",
    "    the sBG model.\n",
    "    \n",
    "    Parameters\n",
    "    ----------\n",
    "    data : pandas DataFrame\n",
    "        Raw data pulled from Looker.\n",
    "        \n",
    "    Methods\n",
    "    -------\n",
    "    clean_data\n",
    "        Performs all data cleaning steps and returns the cleaned data.\n",
    "        \n",
    "    borrower_retention(cohort_data)\n",
    "        Computes borrower retention.\n",
    "    \n",
    "    \"\"\"\n",
    "    \n",
    "    def __init__(self, data):\n",
    "        self.data = data\n",
    "\n",
    "        self.clean_data()\n",
    "        \n",
    "        \n",
    "    def clean_data(self):\n",
    "        # fix date inconsistencies\n",
    "        self.data = self.data.replace({'2021-9': '2021-09', '2021-8': '2021-08', \\\n",
    "                                       '2021-7': '2021-07', '2021-6': '2021-06', \\\n",
    "                                       '2021-5': '2021-05', '2021-4': '2021-04', \\\n",
    "                                       '2020-9': '2020-09'})\n",
    "\n",
    "        # sort by months since first disbursement\n",
    "        self.data = self.data.sort_values(['First Loan Local Disbursement Month', \n",
    "                                 'Months Since First Loan Disbursed'])\n",
    "\n",
    "        # remove all columns calculated through looker\n",
    "        self.data = self.data.loc[:,:\"Default Rate Amount 51D\"]\n",
    "        \n",
    "        # add more convenient cohort column\n",
    "        self.data['cohort'] = self.data['First Loan Local Disbursement Month']\n",
    "        \n",
    "        \n",
    "    # --- DATA FUNCTIONS --- #\n",
    "    def borrower_retention(self, cohort_data):\n",
    "        return cohort_data['Count Borrowers']/cohort_data['Count Borrowers'].max()\n",
    "\n",
    "    \n",
    "    def borrower_survival(self, cohort_data):\n",
    "        return cohort_data['Count Borrowers']/cohort_data['Count Borrowers'].shift(1)\n",
    "    \n",
    "    \n",
    "    def loans_per_borrower(self, cohort_data):\n",
    "        return cohort_data['Count Loans']/cohort_data['Count Borrowers']\n",
    "    \n",
    "    \n",
    "    def loan_size(self, cohort_data, to_usd):\n",
    "        df = cohort_data['Total Amount']/cohort_data['Count Loans']\n",
    "        if to_usd:\n",
    "            df *= ksh_usd\n",
    "        return df\n",
    "    \n",
    "    \n",
    "    def interest_rate(self, cohort_data):\n",
    "        return cohort_data['Total Interest Assessed']/cohort_data['Total Amount']\n",
    "    \n",
    "    \n",
    "    def default_rate(self, cohort_data, period=7):\n",
    "        if period==7:\n",
    "            return cohort_data['Default Rate Amount 7D'].fillna(0)\n",
    "        \n",
    "        elif period==51:\n",
    "            default_rate = cohort_data['Default Rate Amount 51D']\n",
    "\n",
    "            recovery_rate_51 = float(inputs[inputs.market=='ke']['recovery_7-30'] + \\\n",
    "                                     inputs[inputs.market=='ke']['recovery_30-51'])\n",
    "\n",
    "            ## fill null 51dpd values with 7dpd values based on recovery rates\n",
    "            derived_51dpd = (cohort_data['Count Loans']*(cohort_data['default_rate_7dpd']) - \\\n",
    "                cohort_data['Count Loans']*(cohort_data['default_rate_7dpd'])*recovery_rate_51)/ \\\n",
    "                cohort_data['Count Loans']\n",
    "            \n",
    "            return default_rate.fillna(derived_51dpd)\n",
    "        \n",
    "        elif period==365:\n",
    "            # get actual data if it exists\n",
    "            default_rate = np.nan*cohort_data['Default Rate Amount 51D']\n",
    "\n",
    "            recovery_rate_365 = float(inputs[inputs.market=='ke']['recovery_51_'])\n",
    "\n",
    "            ## fill null 365dpd values with 51dpd values based on recovery rates\n",
    "            derived_365dpd = (cohort_data['Count Loans']*(cohort_data['default_rate_51dpd']) - \\\n",
    "                cohort_data['Count Loans']*(cohort_data['default_rate_51dpd'])* \\\n",
    "                recovery_rate_365)/cohort_data['Count Loans']\n",
    "\n",
    "            return default_rate.fillna(derived_365dpd)\n",
    "        \n",
    "        \n",
    "    def loans_per_original(self, cohort_data):\n",
    "        return cohort_data['Count Loans']/cohort_data['Count Borrowers'].max()\n",
    "    \n",
    "    \n",
    "    def origination_per_original(self, cohort_data, to_usd):\n",
    "        df = cohort_data['Total Amount']/cohort_data['Count Borrowers'].max()\n",
    "        if to_usd:\n",
    "            df *= ksh_usd\n",
    "        return df\n",
    "    \n",
    "    \n",
    "    def revenue_per_original(self, cohort_data, to_usd):\n",
    "        interest_revenue = cohort_data['origination_per_original']*cohort_data['interest_rate']\n",
    "        \n",
    "        # 0.08 is the % fee we charge to defaulted customers\n",
    "        revenue = interest_revenue + (cohort_data['origination_per_original'] + interest_revenue) * \\\n",
    "            cohort_data['default_rate_7dpd']*0.08\n",
    "        \n",
    "        # note that origination_per_original is already in USD so no conversion is necessary\n",
    "        return revenue\n",
    "    \n",
    "    \n",
    "    def credit_margin(self, cohort_data):\n",
    "        return cohort_data['revenue_per_original'] - \\\n",
    "                (cohort_data['origination_per_original'] + cohort_data['revenue_per_original'])* \\\n",
    "                cohort_data['default_rate_365dpd']\n",
    "    \n",
    "    \n",
    "    def opex_per_original(self, cohort_data):\n",
    "        opex_cost_per_loan = float(inputs[inputs.market=='ke']['opex cost per loan'])\n",
    "        cost_of_capital = float(inputs[inputs.market=='ke']['cost of capital'])/12\n",
    "        \n",
    "        return opex_cost_per_loan*cohort_data['loans_per_original'] + \\\n",
    "            cost_of_capital*cohort_data['origination_per_original']\n",
    "    \n",
    "    \n",
    "    def ltv_per_original(self, cohort_data):\n",
    "        return cohort_data['cm$_per_original'] - cohort_data['opex_per_original']\n",
    "    \n",
    "    \n",
    "    def credit_margin_percent(self, cohort_data):\n",
    "        return cohort_data['ltv_per_original']/cohort_data['revenue_per_original']\n",
    "        \n",
    "        \n",
    "    def generate_features(self, to_usd=True):\n",
    "        \"\"\"\n",
    "        Generate all features required for pLTV model.\n",
    "        \"\"\"\n",
    "        cohorts = []\n",
    "\n",
    "        # for each cohort\n",
    "        for cohort in self.data.loc[:,'First Loan Local Disbursement Month'].unique():\n",
    "            # omit the last two months of incomplete data\n",
    "            cohort_data = self.data[self.data['First Loan Local Disbursement Month']==cohort].iloc[:-2,:]\n",
    "\n",
    "            # call data functions to generate calculated features\n",
    "            cohort_data['borrower_retention'] = self.borrower_retention(cohort_data)\n",
    "            cohort_data['borrower_survival'] = self.borrower_survival(cohort_data)\n",
    "            cohort_data['loans_per_borrower'] = self.loans_per_borrower(cohort_data)\n",
    "            cohort_data['loan_size'] = self.loan_size(cohort_data, to_usd)\n",
    "            cohort_data['interest_rate'] = self.interest_rate(cohort_data)\n",
    "            cohort_data['default_rate_7dpd'] = self.default_rate(cohort_data, period=7)\n",
    "            cohort_data['default_rate_51dpd'] = self.default_rate(cohort_data, period=51)\n",
    "            cohort_data['default_rate_365dpd'] = self.default_rate(cohort_data, period=365)\n",
    "            cohort_data['loans_per_original'] = self.loans_per_original(cohort_data)\n",
    "            cohort_data['origination_per_original'] = self.origination_per_original(cohort_data, to_usd)\n",
    "            cohort_data['revenue_per_original'] = self.revenue_per_original(cohort_data, to_usd)\n",
    "            cohort_data['cm$_per_original'] = self.credit_margin(cohort_data)\n",
    "            cohort_data['opex_per_original'] = self.opex_per_original(cohort_data)\n",
    "            cohort_data['ltv_per_original'] = self.ltv_per_original(cohort_data)\n",
    "            cohort_data['cm%_per_original'] = self.credit_margin_percent(cohort_data)\n",
    "            \n",
    "            # reset the index and append the data\n",
    "            cohorts.append(cohort_data.reset_index(drop=True))\n",
    "\n",
    "        self.cohorts = cohorts\n",
    "        self.data = pd.concat(cohorts, axis=0)\n",
    "    \n",
    "    \n",
    "    def plot_cohorts(self, param, forecast=False):\n",
    "        \"\"\"\n",
    "        Generate scatter plot for a specific paramter.\n",
    "        \n",
    "        Parameters\n",
    "        ----------\n",
    "        \n",
    "        \"\"\"\n",
    "        \n",
    "        curves = []\n",
    "        if forecast:\n",
    "            for cohort in self.forecast.cohort.unique():\n",
    "                c_data = self.forecast[self.forecast.cohort==cohort]\n",
    "                for dtype in c_data.data_type.unique():\n",
    "                    output = c_data[c_data.data_type==dtype][param]\n",
    "\n",
    "                    output.name = cohort + '-' + dtype\n",
    "\n",
    "                    curves.append(output)\n",
    "                \n",
    "        elif not forecast:\n",
    "            for cohort in self.data.cohort.unique():\n",
    "                output = self.data[self.data.cohort==cohort][param]\n",
    "\n",
    "                output.name = cohort\n",
    "\n",
    "                curves.append(output)\n",
    "            \n",
    "        traces = []\n",
    "\n",
    "        for cohort in curves:\n",
    "            if 'forecast' in cohort.name:\n",
    "                traces.append(go.Scatter(name=cohort.name, x=cohort.index, y=cohort, mode='lines',\n",
    "                                        line=dict(width=3, dash='dash')))\n",
    "            else:\n",
    "                traces.append(go.Scatter(name=cohort.name, x=cohort.index, y=cohort, mode='markers+lines',\n",
    "                                        line=dict(width=2)))\n",
    "\n",
    "        fig = go.Figure(traces)\n",
    "        fig.update_layout(xaxis=dict(title='Month Since Disbursement'),\n",
    "                         yaxis=dict(title=param))\n",
    "\n",
    "        fig.show()\n",
    "        \n",
    "        \n",
    "    # --- FORECAST FUNCTIONS --- #\n",
    "    def forecast_features(self, months=24, to_usd=True):\n",
    "        \"\"\"\n",
    "        Generates a forecast of \"Count Borrowers\" out to the input number of months.\n",
    "        The original and forecasted values are returned as a new dataframe, set as\n",
    "        a new attribute of the model, *.forecast*. \n",
    "        \n",
    "        Parameters\n",
    "        ----------\n",
    "        months : int\n",
    "            Number of months to forecast to.\n",
    "        \"\"\"\n",
    "        \n",
    "        # initialize alpha and beta, optimized later by model\n",
    "        alpha = beta = 1\n",
    "        \n",
    "        # list to hold individual cohort forecasts\n",
    "        forecast_dfs = []\n",
    "\n",
    "        # range of desired time periods\n",
    "        times = list(range(1, months+1))\n",
    "        times_dict = {i:i for i in times}\n",
    "        \n",
    "        for cohort in m.data.cohort.unique():\n",
    "            # data for current cohort\n",
    "            c_data = m.data[m.data.cohort==cohort]\n",
    "            \n",
    "            # starting cohort size\n",
    "            n = c_data.loc[0, 'Count Borrowers']\n",
    "\n",
    "            # only for cohorts with at least 4 data points\n",
    "            if len(c_data) > 3:\n",
    "                c = c_data['Count Borrowers']\n",
    "\n",
    "                # define bounds for alpha and beta (must be positive)\n",
    "                bounds = ((0,None), (0,None))\n",
    "                \n",
    "                # use scipy's minimize function on log_likelihood to optimize alpha and beta\n",
    "                results = minimize(log_likelihood, np.array([alpha,beta]), args=c, bounds=bounds)\n",
    "\n",
    "                # list to hold forecasted values \n",
    "                forecast = []\n",
    "                for t in times:\n",
    "                    forecast.append(n*s(t, results.x[0], results.x[1]))\n",
    "\n",
    "                # convert list to dataframe\n",
    "                forecast = pd.DataFrame(forecast, index=times, columns=['Count Borrowers'])\n",
    "\n",
    "                # null df used to extend original cohort df to desired number of forecast months\n",
    "                dummy_df = pd.DataFrame(np.nan, index=range(0,months+1), columns=['null'])\n",
    "\n",
    "                # create label column to denote actual vs forecast data\n",
    "                c_data['data_type'] = 'actual'\n",
    "\n",
    "                # extend cohort df\n",
    "                c_data = pd.concat([c_data, dummy_df], axis=1).drop('null', axis=1)\n",
    "                \n",
    "                # fill missing values in each col\n",
    "                c_data.cohort = c_data.cohort.ffill()\n",
    "                c_data['First Loan Local Disbursement Month'] = \\\n",
    "                    c_data['First Loan Local Disbursement Month'].ffill()\n",
    "                c_data['Months Since First Loan Disbursed'] = \\\n",
    "                    c_data['Months Since First Loan Disbursed'].fillna(times_dict).astype(int)\n",
    "                c_data['Count First Loans'] = c_data['Count First Loans'].ffill()\n",
    "                \n",
    "\n",
    "                # label forecasted data\n",
    "                c_data.data_type = c_data.data_type.fillna('forecast')\n",
    "\n",
    "                # fill in the forecasted data\n",
    "                c_data['Count Borrowers'] = c_data['Count Borrowers'].fillna(forecast['Count Borrowers'])\n",
    "                \n",
    "                \n",
    "                # add retention & survival features\n",
    "                c_data['borrower_retention'] = m.borrower_retention(c_data)\n",
    "                c_data['borrower_survival'] = m.borrower_survival(c_data)\n",
    "                \n",
    "                \n",
    "                # forecast loan size\n",
    "                for i in c_data[c_data.loan_size.isnull()].index:\n",
    "                    c_data.loc[i, 'loan_size'] = c_data.loc[i-1, 'loan_size'] * \\\n",
    "                    pltv_expected.loc[i,'loan_size']/pltv_expected.loc[i-1, 'loan_size']\n",
    "                \n",
    "                \n",
    "                # forecast loans_per_borrower\n",
    "                for i in c_data[c_data.loans_per_borrower.isnull()].index:\n",
    "                    c_data.loc[i, 'loans_per_borrower'] = c_data.loc[i-1, 'loans_per_borrower'] * \\\n",
    "                    pltv_expected.loc[i,'loans_per_borrower']/pltv_expected.loc[i-1, 'loans_per_borrower']\n",
    "                \n",
    "                \n",
    "                # forecast Count Loans\n",
    "                c_data['Count Loans'] = c_data['Count Loans'].fillna((c_data['loans_per_borrower'])*c_data['Count Borrowers'])\n",
    "                \n",
    "                \n",
    "                # forecast Total Amount\n",
    "                c_data['Total Amount'] = c_data['Total Amount'].fillna((c_data['loan_size']/ksh_usd)*c_data['Count Loans'])\n",
    "                \n",
    "                \n",
    "                # forecast Interest Rate\n",
    "                for i in c_data[c_data.interest_rate.isnull()].index:\n",
    "                    c_data.loc[i, 'interest_rate'] = c_data.loc[i-1, 'interest_rate'] * \\\n",
    "                    pltv_expected.loc[i,'interest_rate']/pltv_expected.loc[i-1, 'interest_rate']\n",
    "                \n",
    "                \n",
    "                # forecast default rate 7dpd\n",
    "                default = c_data.default_rate_7dpd.dropna()\n",
    "                default.index = np.arange(1, len(default)+1)\n",
    "                \n",
    "                def func(t, A, B):\n",
    "                    return A*(t**B)\n",
    "\n",
    "                params, covs = curve_fit(func, default.index, default)\n",
    "\n",
    "                t = list(range(1, months+2))\n",
    "                fit = func(t, params[0], params[1])\n",
    "                fit = pd.Series(fit, index=t).reset_index(drop=True)\n",
    "                \n",
    "                c_data['default_rate_7dpd'] = c_data['default_rate_7dpd'].fillna(fit)\n",
    "                \n",
    "                \n",
    "                # derive 51dpd and 365 dpd from 7dpd\n",
    "                c_data['default_rate_51dpd'] = m.default_rate(c_data, period=51)\n",
    "                c_data['default_rate_365dpd'] = m.default_rate(c_data, period=365)\n",
    "                \n",
    "                # compute remaining columns from forecasts\n",
    "                c_data['loans_per_original'] = m.loans_per_original(c_data)\n",
    "                c_data['origination_per_original'] = m.origination_per_original(c_data, to_usd)\n",
    "                c_data['revenue_per_original'] = m.revenue_per_original(c_data, to_usd)\n",
    "                c_data['cm$_per_original'] = m.credit_margin(c_data)\n",
    "                c_data['opex_per_original'] = m.opex_per_original(c_data)\n",
    "                c_data['ltv_per_original'] = m.ltv_per_original(c_data)\n",
    "                c_data['cm%_per_original'] = m.credit_margin_percent(c_data)\n",
    "                \n",
    "                \n",
    "                \n",
    "                # add the forecasted data for the cohort to a list, aggregating all cohort forecasts\n",
    "                forecast_dfs.append(c_data)\n",
    "\n",
    "        self.forecast = pd.concat(forecast_dfs)\n"
   ]
  },
  {
   "cell_type": "markdown",
   "id": "567e35e2",
   "metadata": {},
   "source": [
    "### Run Model"
   ]
  },
  {
   "cell_type": "code",
   "execution_count": 133,
   "id": "23fd5669",
   "metadata": {
    "scrolled": true
   },
   "outputs": [
    {
     "data": {
      "text/html": [
       "<div>\n",
       "<style scoped>\n",
       "    .dataframe tbody tr th:only-of-type {\n",
       "        vertical-align: middle;\n",
       "    }\n",
       "\n",
       "    .dataframe tbody tr th {\n",
       "        vertical-align: top;\n",
       "    }\n",
       "\n",
       "    .dataframe thead th {\n",
       "        text-align: right;\n",
       "    }\n",
       "</style>\n",
       "<table border=\"1\" class=\"dataframe\">\n",
       "  <thead>\n",
       "    <tr style=\"text-align: right;\">\n",
       "      <th></th>\n",
       "      <th>First Loan Local Disbursement Month</th>\n",
       "      <th>Months Since First Loan Disbursed</th>\n",
       "      <th>Count First Loans</th>\n",
       "      <th>Count Borrowers</th>\n",
       "      <th>Count Loans</th>\n",
       "      <th>Total Amount</th>\n",
       "      <th>Total Interest Assessed</th>\n",
       "      <th>Total Rollover Charged</th>\n",
       "      <th>Total Rollover Reversed</th>\n",
       "      <th>Default Rate Amount 7D</th>\n",
       "      <th>...</th>\n",
       "      <th>default_rate_7dpd</th>\n",
       "      <th>default_rate_51dpd</th>\n",
       "      <th>default_rate_365dpd</th>\n",
       "      <th>loans_per_original</th>\n",
       "      <th>origination_per_original</th>\n",
       "      <th>revenue_per_original</th>\n",
       "      <th>cm$_per_original</th>\n",
       "      <th>opex_per_original</th>\n",
       "      <th>ltv_per_original</th>\n",
       "      <th>cm%_per_original</th>\n",
       "    </tr>\n",
       "  </thead>\n",
       "  <tbody>\n",
       "    <tr>\n",
       "      <th>0</th>\n",
       "      <td>2020-09</td>\n",
       "      <td>0</td>\n",
       "      <td>7801</td>\n",
       "      <td>7801</td>\n",
       "      <td>13156</td>\n",
       "      <td>48361000</td>\n",
       "      <td>6540240</td>\n",
       "      <td>681325</td>\n",
       "      <td>81520</td>\n",
       "      <td>0.155382</td>\n",
       "      <td>...</td>\n",
       "      <td>0.155382</td>\n",
       "      <td>0.113031</td>\n",
       "      <td>0.099467</td>\n",
       "      <td>1.686450</td>\n",
       "      <td>57.343834</td>\n",
       "      <td>8.564274</td>\n",
       "      <td>2.008581</td>\n",
       "      <td>2.847339</td>\n",
       "      <td>-0.838759</td>\n",
       "      <td>-0.097937</td>\n",
       "    </tr>\n",
       "    <tr>\n",
       "      <th>1</th>\n",
       "      <td>2020-09</td>\n",
       "      <td>1</td>\n",
       "      <td>0</td>\n",
       "      <td>4481</td>\n",
       "      <td>5697</td>\n",
       "      <td>34490000</td>\n",
       "      <td>4660880</td>\n",
       "      <td>416544</td>\n",
       "      <td>32387</td>\n",
       "      <td>0.130661</td>\n",
       "      <td>...</td>\n",
       "      <td>0.130661</td>\n",
       "      <td>0.095738</td>\n",
       "      <td>0.084249</td>\n",
       "      <td>0.730291</td>\n",
       "      <td>40.896359</td>\n",
       "      <td>6.011869</td>\n",
       "      <td>2.059888</td>\n",
       "      <td>1.407028</td>\n",
       "      <td>0.652860</td>\n",
       "      <td>0.108595</td>\n",
       "    </tr>\n",
       "    <tr>\n",
       "      <th>2</th>\n",
       "      <td>2020-09</td>\n",
       "      <td>2</td>\n",
       "      <td>0</td>\n",
       "      <td>3661</td>\n",
       "      <td>4310</td>\n",
       "      <td>31461000</td>\n",
       "      <td>4297310</td>\n",
       "      <td>401077</td>\n",
       "      <td>30617</td>\n",
       "      <td>0.139719</td>\n",
       "      <td>...</td>\n",
       "      <td>0.139719</td>\n",
       "      <td>0.094792</td>\n",
       "      <td>0.083417</td>\n",
       "      <td>0.552493</td>\n",
       "      <td>37.304737</td>\n",
       "      <td>5.569447</td>\n",
       "      <td>1.993030</td>\n",
       "      <td>1.133426</td>\n",
       "      <td>0.859604</td>\n",
       "      <td>0.154343</td>\n",
       "    </tr>\n",
       "    <tr>\n",
       "      <th>3</th>\n",
       "      <td>2020-09</td>\n",
       "      <td>3</td>\n",
       "      <td>0</td>\n",
       "      <td>3050</td>\n",
       "      <td>3599</td>\n",
       "      <td>30482000</td>\n",
       "      <td>4178400</td>\n",
       "      <td>343062</td>\n",
       "      <td>17629</td>\n",
       "      <td>0.125111</td>\n",
       "      <td>...</td>\n",
       "      <td>0.125111</td>\n",
       "      <td>0.084399</td>\n",
       "      <td>0.074271</td>\n",
       "      <td>0.461351</td>\n",
       "      <td>36.143892</td>\n",
       "      <td>5.365869</td>\n",
       "      <td>2.282891</td>\n",
       "      <td>1.000542</td>\n",
       "      <td>1.282349</td>\n",
       "      <td>0.238982</td>\n",
       "    </tr>\n",
       "    <tr>\n",
       "      <th>4</th>\n",
       "      <td>2020-09</td>\n",
       "      <td>4</td>\n",
       "      <td>0</td>\n",
       "      <td>2549</td>\n",
       "      <td>2985</td>\n",
       "      <td>29303000</td>\n",
       "      <td>3964590</td>\n",
       "      <td>300262</td>\n",
       "      <td>920</td>\n",
       "      <td>0.113720</td>\n",
       "      <td>...</td>\n",
       "      <td>0.113720</td>\n",
       "      <td>0.081658</td>\n",
       "      <td>0.071859</td>\n",
       "      <td>0.382643</td>\n",
       "      <td>34.745898</td>\n",
       "      <td>5.059868</td>\n",
       "      <td>2.199469</td>\n",
       "      <td>0.881503</td>\n",
       "      <td>1.317966</td>\n",
       "      <td>0.260474</td>\n",
       "    </tr>\n",
       "  </tbody>\n",
       "</table>\n",
       "<p>5 rows × 28 columns</p>\n",
       "</div>"
      ],
      "text/plain": [
       "  First Loan Local Disbursement Month  Months Since First Loan Disbursed  \\\n",
       "0                             2020-09                                  0   \n",
       "1                             2020-09                                  1   \n",
       "2                             2020-09                                  2   \n",
       "3                             2020-09                                  3   \n",
       "4                             2020-09                                  4   \n",
       "\n",
       "   Count First Loans  Count Borrowers  Count Loans  Total Amount  \\\n",
       "0               7801             7801        13156      48361000   \n",
       "1                  0             4481         5697      34490000   \n",
       "2                  0             3661         4310      31461000   \n",
       "3                  0             3050         3599      30482000   \n",
       "4                  0             2549         2985      29303000   \n",
       "\n",
       "   Total Interest Assessed  Total Rollover Charged  Total Rollover Reversed  \\\n",
       "0                  6540240                  681325                    81520   \n",
       "1                  4660880                  416544                    32387   \n",
       "2                  4297310                  401077                    30617   \n",
       "3                  4178400                  343062                    17629   \n",
       "4                  3964590                  300262                      920   \n",
       "\n",
       "   Default Rate Amount 7D  ...  default_rate_7dpd  default_rate_51dpd  \\\n",
       "0                0.155382  ...           0.155382            0.113031   \n",
       "1                0.130661  ...           0.130661            0.095738   \n",
       "2                0.139719  ...           0.139719            0.094792   \n",
       "3                0.125111  ...           0.125111            0.084399   \n",
       "4                0.113720  ...           0.113720            0.081658   \n",
       "\n",
       "  default_rate_365dpd  loans_per_original  origination_per_original  \\\n",
       "0            0.099467            1.686450                 57.343834   \n",
       "1            0.084249            0.730291                 40.896359   \n",
       "2            0.083417            0.552493                 37.304737   \n",
       "3            0.074271            0.461351                 36.143892   \n",
       "4            0.071859            0.382643                 34.745898   \n",
       "\n",
       "   revenue_per_original  cm$_per_original  opex_per_original  \\\n",
       "0              8.564274          2.008581           2.847339   \n",
       "1              6.011869          2.059888           1.407028   \n",
       "2              5.569447          1.993030           1.133426   \n",
       "3              5.365869          2.282891           1.000542   \n",
       "4              5.059868          2.199469           0.881503   \n",
       "\n",
       "   ltv_per_original  cm%_per_original  \n",
       "0         -0.838759         -0.097937  \n",
       "1          0.652860          0.108595  \n",
       "2          0.859604          0.154343  \n",
       "3          1.282349          0.238982  \n",
       "4          1.317966          0.260474  \n",
       "\n",
       "[5 rows x 28 columns]"
      ]
     },
     "execution_count": 133,
     "metadata": {},
     "output_type": "execute_result"
    }
   ],
   "source": [
    "# create a model object\n",
    "m = Model(data)\n",
    "\n",
    "# generate features\n",
    "m.generate_features()\n",
    "\n",
    "# generate forecasts\n",
    "m.forecast_features()\n",
    "\n",
    "m.data.head()"
   ]
  },
  {
   "cell_type": "code",
   "execution_count": 131,
   "id": "07c1efde",
   "metadata": {},
   "outputs": [
    {
     "data": {
      "application/vnd.plotly.v1+json": {
       "config": {
        "plotlyServerURL": "https://plot.ly"
       },
       "data": [
        {
         "line": {
          "width": 2
         },
         "mode": "markers+lines",
         "name": "2020-09-actual",
         "type": "scatter",
         "x": [
          0,
          1,
          2,
          3,
          4,
          5,
          6,
          7,
          8,
          9,
          10,
          11,
          12,
          13,
          14,
          15,
          16
         ],
         "y": [
          0.13523789830648664,
          0.13513714120034792,
          0.136591653157878,
          0.1370776195787678,
          0.1352963860355595,
          0.1344732868339685,
          0.13499548902329,
          0.1341699590546656,
          0.13346898131244397,
          0.13265352112676057,
          0.13223585404547858,
          0.13403832009414535,
          0.13364804009868034,
          0.1321745327842889,
          0.14583926963072136,
          0.1473498390690765,
          0.14342832917235857
         ]
        },
        {
         "line": {
          "dash": "dash",
          "width": 3
         },
         "mode": "lines",
         "name": "2020-09-forecast",
         "type": "scatter",
         "x": [
          17,
          18,
          19,
          20,
          21,
          22,
          23,
          24
         ],
         "y": [
          0.14342832917235857,
          0.14342832917235857,
          0.14234175092105283,
          0.14234175092105283,
          0.14234175092105283,
          0.14234175092105283,
          0.14234175092105283,
          0.14234175092105283
         ]
        },
        {
         "line": {
          "width": 2
         },
         "mode": "markers+lines",
         "name": "2020-10-actual",
         "type": "scatter",
         "x": [
          0,
          1,
          2,
          3,
          4,
          5,
          6,
          7,
          8,
          9,
          10,
          11,
          12,
          13,
          14,
          15
         ],
         "y": [
          0.1362055750326528,
          0.13639474096920906,
          0.13694091349779167,
          0.13637698298240553,
          0.13713185725771537,
          0.1352859233410255,
          0.13490819727699,
          0.13442311421369013,
          0.13350554032442313,
          0.13434974601708613,
          0.13434218782681448,
          0.13364544943469298,
          0.1331599186423441,
          0.14004816498202294,
          0.145907246162928,
          0.1439131142206313
         ]
        },
        {
         "line": {
          "dash": "dash",
          "width": 3
         },
         "mode": "lines",
         "name": "2020-10-forecast",
         "type": "scatter",
         "x": [
          16,
          17,
          18,
          19,
          20,
          21,
          22,
          23,
          24
         ],
         "y": [
          0.1439131142206313,
          0.1439131142206313,
          0.1439131142206313,
          0.1428228633553235,
          0.1428228633553235,
          0.1428228633553235,
          0.1428228633553235,
          0.1428228633553235,
          0.1428228633553235
         ]
        },
        {
         "line": {
          "width": 2
         },
         "mode": "markers+lines",
         "name": "2020-11-actual",
         "type": "scatter",
         "x": [
          0,
          1,
          2,
          3,
          4,
          5,
          6,
          7,
          8,
          9,
          10,
          11,
          12,
          13,
          14
         ],
         "y": [
          0.13509322678843227,
          0.13603249031945788,
          0.136465066737676,
          0.13745370709214666,
          0.13660461351679482,
          0.1363724038163469,
          0.13590273415545343,
          0.13570470513093463,
          0.13597258192617148,
          0.13709204794989022,
          0.135923079778743,
          0.1336864916050552,
          0.1399658502119642,
          0.1478280302695048,
          0.141622200099552
         ]
        },
        {
         "line": {
          "dash": "dash",
          "width": 3
         },
         "mode": "lines",
         "name": "2020-11-forecast",
         "type": "scatter",
         "x": [
          15,
          16,
          17,
          18,
          19,
          20,
          21,
          22,
          23,
          24
         ],
         "y": [
          0.1405573715273749,
          0.1405573715273749,
          0.1405573715273749,
          0.1405573715273749,
          0.1394925429551978,
          0.1394925429551978,
          0.1394925429551978,
          0.1394925429551978,
          0.1394925429551978,
          0.1394925429551978
         ]
        },
        {
         "line": {
          "width": 2
         },
         "mode": "markers+lines",
         "name": "2020-12-actual",
         "type": "scatter",
         "x": [
          0,
          1,
          2,
          3,
          4,
          5,
          6,
          7,
          8,
          9,
          10,
          11,
          12
         ],
         "y": [
          0.135854011175804,
          0.1365704886367066,
          0.13811358140784524,
          0.1393538252251085,
          0.1390984886231523,
          0.13791019166019167,
          0.1389141239817755,
          0.13797752429805615,
          0.13930038238209885,
          0.13606673035937386,
          0.13487220211272807,
          0.1450058302238806,
          0.15087150638449862
         ]
        },
        {
         "line": {
          "dash": "dash",
          "width": 3
         },
         "mode": "lines",
         "name": "2020-12-forecast",
         "type": "scatter",
         "x": [
          13,
          14,
          15,
          16,
          17,
          18,
          19,
          20,
          21,
          22,
          23,
          24
         ],
         "y": [
          0.14975393967053938,
          0.14863637295658014,
          0.1475188062426209,
          0.1475188062426209,
          0.1475188062426209,
          0.1475188062426209,
          0.14640123952866166,
          0.14640123952866166,
          0.14640123952866166,
          0.14640123952866166,
          0.14640123952866166,
          0.14640123952866166
         ]
        },
        {
         "line": {
          "width": 2
         },
         "mode": "markers+lines",
         "name": "2021-01-actual",
         "type": "scatter",
         "x": [
          0,
          1,
          2,
          3,
          4,
          5,
          6,
          7,
          8,
          9,
          10,
          11,
          12
         ],
         "y": [
          0.13475040123044002,
          0.13536224940108435,
          0.13698314938904219,
          0.13861023674117182,
          0.1384251866780353,
          0.13619973498472107,
          0.13668959132389896,
          0.13737577850907015,
          0.13763996832565914,
          0.13591457113331037,
          0.1437772986292931,
          0.15067446499205517,
          0.14438633064065814
         ]
        },
        {
         "line": {
          "dash": "dash",
          "width": 3
         },
         "mode": "lines",
         "name": "2021-01-forecast",
         "type": "scatter",
         "x": [
          13,
          14,
          15,
          16,
          17,
          18,
          19,
          20,
          21,
          22,
          23,
          24
         ],
         "y": [
          0.14331680226554216,
          0.14224727389042618,
          0.1411777455153102,
          0.1411777455153102,
          0.1411777455153102,
          0.1411777455153102,
          0.14010821714019422,
          0.14010821714019422,
          0.14010821714019422,
          0.14010821714019422,
          0.14010821714019422,
          0.14010821714019422
         ]
        },
        {
         "line": {
          "width": 2
         },
         "mode": "markers+lines",
         "name": "2021-02-actual",
         "type": "scatter",
         "x": [
          0,
          1,
          2,
          3,
          4,
          5,
          6,
          7,
          8,
          9,
          10,
          11
         ],
         "y": [
          0.13366833273830775,
          0.13639448060138237,
          0.13865948053437302,
          0.13818769204261552,
          0.13816967627945978,
          0.1382920992012445,
          0.1394909881351327,
          0.1382348222307791,
          0.13795407298429654,
          0.1432879282785461,
          0.15082283763277693,
          0.14812210139133217
         ]
        },
        {
         "line": {
          "dash": "dash",
          "width": 3
         },
         "mode": "lines",
         "name": "2021-02-forecast",
         "type": "scatter",
         "x": [
          12,
          13,
          14,
          15,
          16,
          17,
          18,
          19,
          20,
          21,
          22,
          23,
          24
         ],
         "y": [
          0.1470329682928665,
          0.14594383519440082,
          0.14485470209593515,
          0.14376556899746948,
          0.14376556899746948,
          0.14376556899746948,
          0.14376556899746948,
          0.1426764358990038,
          0.1426764358990038,
          0.1426764358990038,
          0.1426764358990038,
          0.1426764358990038,
          0.1426764358990038
         ]
        },
        {
         "line": {
          "width": 2
         },
         "mode": "markers+lines",
         "name": "2021-03-actual",
         "type": "scatter",
         "x": [
          0,
          1,
          2,
          3,
          4,
          5,
          6,
          7,
          8,
          9,
          10
         ],
         "y": [
          0.13417885891198586,
          0.13617698165278275,
          0.13802088933261655,
          0.13863112994507792,
          0.140406426692045,
          0.1414412493516971,
          0.1397389650624214,
          0.1400108689088823,
          0.14888723613001234,
          0.15793625618367887,
          0.1530757085020243
         ]
        },
        {
         "line": {
          "dash": "dash",
          "width": 3
         },
         "mode": "lines",
         "name": "2021-03-forecast",
         "type": "scatter",
         "x": [
          11,
          12,
          13,
          14,
          15,
          16,
          17,
          18,
          19,
          20,
          21,
          22,
          23,
          24
         ],
         "y": [
          0.15195836756405331,
          0.15084102662608234,
          0.14972368568811137,
          0.14860634475014037,
          0.1474890038121694,
          0.1474890038121694,
          0.1474890038121694,
          0.1474890038121694,
          0.14637166287419842,
          0.14637166287419842,
          0.14637166287419842,
          0.14637166287419842,
          0.14637166287419842,
          0.14637166287419842
         ]
        },
        {
         "line": {
          "width": 2
         },
         "mode": "markers+lines",
         "name": "2021-04-actual",
         "type": "scatter",
         "x": [
          0,
          1,
          2,
          3,
          4,
          5,
          6,
          7,
          8,
          9
         ],
         "y": [
          0.1336272930321116,
          0.13643681258114299,
          0.13769675732799377,
          0.13980451510693676,
          0.14170209638058276,
          0.1418645874577407,
          0.13991478313989003,
          0.1506762763940642,
          0.15725143192833016,
          0.15100959516801102
         ]
        },
        {
         "line": {
          "dash": "dash",
          "width": 3
         },
         "mode": "lines",
         "name": "2021-04-forecast",
         "type": "scatter",
         "x": [
          10,
          11,
          12,
          13,
          14,
          15,
          16,
          17,
          18,
          19,
          20,
          21,
          22,
          23,
          24
         ],
         "y": [
          0.1499153227392573,
          0.1488210503105036,
          0.1477267778817499,
          0.1466325054529962,
          0.14553823302424249,
          0.14444396059548878,
          0.14444396059548878,
          0.14444396059548878,
          0.14444396059548878,
          0.14334968816673507,
          0.14334968816673507,
          0.14334968816673507,
          0.14334968816673507,
          0.14334968816673507,
          0.14334968816673507
         ]
        },
        {
         "line": {
          "width": 2
         },
         "mode": "markers+lines",
         "name": "2021-05-actual",
         "type": "scatter",
         "x": [
          0,
          1,
          2,
          3,
          4,
          5,
          6,
          7,
          8
         ],
         "y": [
          0.13409929602365875,
          0.13650295815810107,
          0.1394823226062379,
          0.14271022529400734,
          0.1426000852393806,
          0.14176539486398643,
          0.1525760540829034,
          0.15888805639750705,
          0.1564640361094933
         ]
        },
        {
         "line": {
          "dash": "dash",
          "width": 3
         },
         "mode": "lines",
         "name": "2021-05-forecast",
         "type": "scatter",
         "x": [
          9,
          10,
          11,
          12,
          13,
          14,
          15,
          16,
          17,
          18,
          19,
          20,
          21,
          22,
          23,
          24
         ],
         "y": [
          0.15533839556194298,
          0.15421275501439266,
          0.15308711446684234,
          0.15196147391929204,
          0.15083583337174172,
          0.14971019282419143,
          0.1485845522766411,
          0.1485845522766411,
          0.1485845522766411,
          0.1485845522766411,
          0.14745891172909079,
          0.14745891172909079,
          0.14745891172909079,
          0.14745891172909079,
          0.14745891172909079,
          0.14745891172909079
         ]
        },
        {
         "line": {
          "width": 2
         },
         "mode": "markers+lines",
         "name": "2021-06-actual",
         "type": "scatter",
         "x": [
          0,
          1,
          2,
          3,
          4,
          5,
          6,
          7
         ],
         "y": [
          0.13385521633264658,
          0.13702574908773194,
          0.14128145280655813,
          0.14149639878695983,
          0.14084056975073406,
          0.14962094390489492,
          0.15942061863094595,
          0.15494045789797173
         ]
        },
        {
         "line": {
          "dash": "dash",
          "width": 3
         },
         "mode": "lines",
         "name": "2021-06-forecast",
         "type": "scatter",
         "x": [
          8,
          9,
          10,
          11,
          12,
          13,
          14,
          15,
          16,
          17,
          18,
          19,
          20,
          21,
          22,
          23,
          24
         ],
         "y": [
          0.15494045789797173,
          0.15382577834474892,
          0.15271109879152608,
          0.15159641923830328,
          0.15048173968508047,
          0.14936706013185766,
          0.14825238057863485,
          0.14713770102541204,
          0.14713770102541204,
          0.14713770102541204,
          0.14713770102541204,
          0.14602302147218924,
          0.14602302147218924,
          0.14602302147218924,
          0.14602302147218924,
          0.14602302147218924,
          0.14602302147218924
         ]
        },
        {
         "line": {
          "width": 2
         },
         "mode": "markers+lines",
         "name": "2021-07-actual",
         "type": "scatter",
         "x": [
          0,
          1,
          2,
          3,
          4,
          5,
          6
         ],
         "y": [
          0.1352279287121455,
          0.14001406180334053,
          0.14106629201020446,
          0.14119581183382923,
          0.15127450580802934,
          0.15658251395163433,
          0.1547684256859197
         ]
        },
        {
         "line": {
          "dash": "dash",
          "width": 3
         },
         "mode": "lines",
         "name": "2021-07-forecast",
         "type": "scatter",
         "x": [
          7,
          8,
          9,
          10,
          11,
          12,
          13,
          14,
          15,
          16,
          17,
          18,
          19,
          20,
          21,
          22,
          23,
          24
         ],
         "y": [
          0.1547684256859197,
          0.1547684256859197,
          0.1536549837745102,
          0.1525415418631007,
          0.1514280999516912,
          0.1503146580402817,
          0.14920121612887222,
          0.14808777421746272,
          0.14697433230605322,
          0.14697433230605322,
          0.14697433230605322,
          0.14697433230605322,
          0.14586089039464373,
          0.14586089039464373,
          0.14586089039464373,
          0.14586089039464373,
          0.14586089039464373,
          0.14586089039464373
         ]
        },
        {
         "line": {
          "width": 2
         },
         "mode": "markers+lines",
         "name": "2021-08-actual",
         "type": "scatter",
         "x": [
          0,
          1,
          2,
          3,
          4
         ],
         "y": [
          0.1371630843151788,
          0.14014418205907567,
          0.14087202939337085,
          0.1550239755884917,
          0.16149591078066913
         ]
        },
        {
         "line": {
          "dash": "dash",
          "width": 3
         },
         "mode": "lines",
         "name": "2021-08-forecast",
         "type": "scatter",
         "x": [
          5,
          6,
          7,
          8,
          9,
          10,
          11,
          12,
          13,
          14,
          15,
          16,
          17,
          18,
          19,
          20,
          21,
          22,
          23,
          24
         ],
         "y": [
          0.1603423685608072,
          0.1603423685608072,
          0.1603423685608072,
          0.1603423685608072,
          0.15918882634094528,
          0.15803528412108336,
          0.15688174190122145,
          0.15572819968135954,
          0.15457465746149762,
          0.1534211152416357,
          0.1522675730217738,
          0.1522675730217738,
          0.1522675730217738,
          0.1522675730217738,
          0.15111403080191188,
          0.15111403080191188,
          0.15111403080191188,
          0.15111403080191188,
          0.15111403080191188,
          0.15111403080191188
         ]
        },
        {
         "line": {
          "width": 2
         },
         "mode": "markers+lines",
         "name": "2021-09-actual",
         "type": "scatter",
         "x": [
          0,
          1,
          2,
          3
         ],
         "y": [
          0.1355988871300427,
          0.13775213092396862,
          0.15041541788383475,
          0.16045651494170723
         ]
        },
        {
         "line": {
          "dash": "dash",
          "width": 3
         },
         "mode": "lines",
         "name": "2021-09-forecast",
         "type": "scatter",
         "x": [
          4,
          5,
          6,
          7,
          8,
          9,
          10,
          11,
          12,
          13,
          14,
          15,
          16,
          17,
          18,
          19,
          20,
          21,
          22,
          23,
          24
         ],
         "y": [
          0.15931852547403558,
          0.1581805360063639,
          0.1581805360063639,
          0.1581805360063639,
          0.1581805360063639,
          0.1570425465386922,
          0.15590455707102052,
          0.15476656760334884,
          0.15362857813567715,
          0.15249058866800547,
          0.15135259920033378,
          0.1502146097326621,
          0.1502146097326621,
          0.1502146097326621,
          0.1502146097326621,
          0.1490766202649904,
          0.1490766202649904,
          0.1490766202649904,
          0.1490766202649904,
          0.1490766202649904,
          0.1490766202649904
         ]
        },
        {
         "line": {
          "width": 2
         },
         "mode": "markers+lines",
         "name": "2021-10-actual",
         "type": "scatter",
         "x": [
          0,
          1,
          2,
          3
         ],
         "y": [
          0.13321386615694006,
          0.14807445145602965,
          0.15912816794420276,
          0.1562652900908989
         ]
        },
        {
         "line": {
          "dash": "dash",
          "width": 3
         },
         "mode": "lines",
         "name": "2021-10-forecast",
         "type": "scatter",
         "x": [
          4,
          5,
          6,
          7,
          8,
          9,
          10,
          11,
          12,
          13,
          14,
          15,
          16,
          17,
          18,
          19,
          20,
          21,
          22,
          23,
          24
         ],
         "y": [
          0.15515702562216915,
          0.15404876115343938,
          0.15404876115343938,
          0.15404876115343938,
          0.15404876115343938,
          0.1529404966847096,
          0.15183223221597983,
          0.15072396774725003,
          0.14961570327852025,
          0.14850743880979045,
          0.14739917434106067,
          0.1462909098723309,
          0.1462909098723309,
          0.1462909098723309,
          0.1462909098723309,
          0.14518264540360112,
          0.14518264540360112,
          0.14518264540360112,
          0.14518264540360112,
          0.14518264540360112,
          0.14518264540360112
         ]
        }
       ],
       "layout": {
        "template": {
         "data": {
          "bar": [
           {
            "error_x": {
             "color": "#2a3f5f"
            },
            "error_y": {
             "color": "#2a3f5f"
            },
            "marker": {
             "line": {
              "color": "white",
              "width": 0.5
             },
             "pattern": {
              "fillmode": "overlay",
              "size": 10,
              "solidity": 0.2
             }
            },
            "type": "bar"
           }
          ],
          "barpolar": [
           {
            "marker": {
             "line": {
              "color": "white",
              "width": 0.5
             },
             "pattern": {
              "fillmode": "overlay",
              "size": 10,
              "solidity": 0.2
             }
            },
            "type": "barpolar"
           }
          ],
          "carpet": [
           {
            "aaxis": {
             "endlinecolor": "#2a3f5f",
             "gridcolor": "#C8D4E3",
             "linecolor": "#C8D4E3",
             "minorgridcolor": "#C8D4E3",
             "startlinecolor": "#2a3f5f"
            },
            "baxis": {
             "endlinecolor": "#2a3f5f",
             "gridcolor": "#C8D4E3",
             "linecolor": "#C8D4E3",
             "minorgridcolor": "#C8D4E3",
             "startlinecolor": "#2a3f5f"
            },
            "type": "carpet"
           }
          ],
          "choropleth": [
           {
            "colorbar": {
             "outlinewidth": 0,
             "ticks": ""
            },
            "type": "choropleth"
           }
          ],
          "contour": [
           {
            "colorbar": {
             "outlinewidth": 0,
             "ticks": ""
            },
            "colorscale": [
             [
              0,
              "#0d0887"
             ],
             [
              0.1111111111111111,
              "#46039f"
             ],
             [
              0.2222222222222222,
              "#7201a8"
             ],
             [
              0.3333333333333333,
              "#9c179e"
             ],
             [
              0.4444444444444444,
              "#bd3786"
             ],
             [
              0.5555555555555556,
              "#d8576b"
             ],
             [
              0.6666666666666666,
              "#ed7953"
             ],
             [
              0.7777777777777778,
              "#fb9f3a"
             ],
             [
              0.8888888888888888,
              "#fdca26"
             ],
             [
              1,
              "#f0f921"
             ]
            ],
            "type": "contour"
           }
          ],
          "contourcarpet": [
           {
            "colorbar": {
             "outlinewidth": 0,
             "ticks": ""
            },
            "type": "contourcarpet"
           }
          ],
          "heatmap": [
           {
            "colorbar": {
             "outlinewidth": 0,
             "ticks": ""
            },
            "colorscale": [
             [
              0,
              "#0d0887"
             ],
             [
              0.1111111111111111,
              "#46039f"
             ],
             [
              0.2222222222222222,
              "#7201a8"
             ],
             [
              0.3333333333333333,
              "#9c179e"
             ],
             [
              0.4444444444444444,
              "#bd3786"
             ],
             [
              0.5555555555555556,
              "#d8576b"
             ],
             [
              0.6666666666666666,
              "#ed7953"
             ],
             [
              0.7777777777777778,
              "#fb9f3a"
             ],
             [
              0.8888888888888888,
              "#fdca26"
             ],
             [
              1,
              "#f0f921"
             ]
            ],
            "type": "heatmap"
           }
          ],
          "heatmapgl": [
           {
            "colorbar": {
             "outlinewidth": 0,
             "ticks": ""
            },
            "colorscale": [
             [
              0,
              "#0d0887"
             ],
             [
              0.1111111111111111,
              "#46039f"
             ],
             [
              0.2222222222222222,
              "#7201a8"
             ],
             [
              0.3333333333333333,
              "#9c179e"
             ],
             [
              0.4444444444444444,
              "#bd3786"
             ],
             [
              0.5555555555555556,
              "#d8576b"
             ],
             [
              0.6666666666666666,
              "#ed7953"
             ],
             [
              0.7777777777777778,
              "#fb9f3a"
             ],
             [
              0.8888888888888888,
              "#fdca26"
             ],
             [
              1,
              "#f0f921"
             ]
            ],
            "type": "heatmapgl"
           }
          ],
          "histogram": [
           {
            "marker": {
             "pattern": {
              "fillmode": "overlay",
              "size": 10,
              "solidity": 0.2
             }
            },
            "type": "histogram"
           }
          ],
          "histogram2d": [
           {
            "colorbar": {
             "outlinewidth": 0,
             "ticks": ""
            },
            "colorscale": [
             [
              0,
              "#0d0887"
             ],
             [
              0.1111111111111111,
              "#46039f"
             ],
             [
              0.2222222222222222,
              "#7201a8"
             ],
             [
              0.3333333333333333,
              "#9c179e"
             ],
             [
              0.4444444444444444,
              "#bd3786"
             ],
             [
              0.5555555555555556,
              "#d8576b"
             ],
             [
              0.6666666666666666,
              "#ed7953"
             ],
             [
              0.7777777777777778,
              "#fb9f3a"
             ],
             [
              0.8888888888888888,
              "#fdca26"
             ],
             [
              1,
              "#f0f921"
             ]
            ],
            "type": "histogram2d"
           }
          ],
          "histogram2dcontour": [
           {
            "colorbar": {
             "outlinewidth": 0,
             "ticks": ""
            },
            "colorscale": [
             [
              0,
              "#0d0887"
             ],
             [
              0.1111111111111111,
              "#46039f"
             ],
             [
              0.2222222222222222,
              "#7201a8"
             ],
             [
              0.3333333333333333,
              "#9c179e"
             ],
             [
              0.4444444444444444,
              "#bd3786"
             ],
             [
              0.5555555555555556,
              "#d8576b"
             ],
             [
              0.6666666666666666,
              "#ed7953"
             ],
             [
              0.7777777777777778,
              "#fb9f3a"
             ],
             [
              0.8888888888888888,
              "#fdca26"
             ],
             [
              1,
              "#f0f921"
             ]
            ],
            "type": "histogram2dcontour"
           }
          ],
          "mesh3d": [
           {
            "colorbar": {
             "outlinewidth": 0,
             "ticks": ""
            },
            "type": "mesh3d"
           }
          ],
          "parcoords": [
           {
            "line": {
             "colorbar": {
              "outlinewidth": 0,
              "ticks": ""
             }
            },
            "type": "parcoords"
           }
          ],
          "pie": [
           {
            "automargin": true,
            "type": "pie"
           }
          ],
          "scatter": [
           {
            "marker": {
             "colorbar": {
              "outlinewidth": 0,
              "ticks": ""
             }
            },
            "type": "scatter"
           }
          ],
          "scatter3d": [
           {
            "line": {
             "colorbar": {
              "outlinewidth": 0,
              "ticks": ""
             }
            },
            "marker": {
             "colorbar": {
              "outlinewidth": 0,
              "ticks": ""
             }
            },
            "type": "scatter3d"
           }
          ],
          "scattercarpet": [
           {
            "marker": {
             "colorbar": {
              "outlinewidth": 0,
              "ticks": ""
             }
            },
            "type": "scattercarpet"
           }
          ],
          "scattergeo": [
           {
            "marker": {
             "colorbar": {
              "outlinewidth": 0,
              "ticks": ""
             }
            },
            "type": "scattergeo"
           }
          ],
          "scattergl": [
           {
            "marker": {
             "colorbar": {
              "outlinewidth": 0,
              "ticks": ""
             }
            },
            "type": "scattergl"
           }
          ],
          "scattermapbox": [
           {
            "marker": {
             "colorbar": {
              "outlinewidth": 0,
              "ticks": ""
             }
            },
            "type": "scattermapbox"
           }
          ],
          "scatterpolar": [
           {
            "marker": {
             "colorbar": {
              "outlinewidth": 0,
              "ticks": ""
             }
            },
            "type": "scatterpolar"
           }
          ],
          "scatterpolargl": [
           {
            "marker": {
             "colorbar": {
              "outlinewidth": 0,
              "ticks": ""
             }
            },
            "type": "scatterpolargl"
           }
          ],
          "scatterternary": [
           {
            "marker": {
             "colorbar": {
              "outlinewidth": 0,
              "ticks": ""
             }
            },
            "type": "scatterternary"
           }
          ],
          "surface": [
           {
            "colorbar": {
             "outlinewidth": 0,
             "ticks": ""
            },
            "colorscale": [
             [
              0,
              "#0d0887"
             ],
             [
              0.1111111111111111,
              "#46039f"
             ],
             [
              0.2222222222222222,
              "#7201a8"
             ],
             [
              0.3333333333333333,
              "#9c179e"
             ],
             [
              0.4444444444444444,
              "#bd3786"
             ],
             [
              0.5555555555555556,
              "#d8576b"
             ],
             [
              0.6666666666666666,
              "#ed7953"
             ],
             [
              0.7777777777777778,
              "#fb9f3a"
             ],
             [
              0.8888888888888888,
              "#fdca26"
             ],
             [
              1,
              "#f0f921"
             ]
            ],
            "type": "surface"
           }
          ],
          "table": [
           {
            "cells": {
             "fill": {
              "color": "#EBF0F8"
             },
             "line": {
              "color": "white"
             }
            },
            "header": {
             "fill": {
              "color": "#C8D4E3"
             },
             "line": {
              "color": "white"
             }
            },
            "type": "table"
           }
          ]
         },
         "layout": {
          "annotationdefaults": {
           "arrowcolor": "#2a3f5f",
           "arrowhead": 0,
           "arrowwidth": 1
          },
          "autotypenumbers": "strict",
          "coloraxis": {
           "colorbar": {
            "outlinewidth": 0,
            "ticks": ""
           }
          },
          "colorscale": {
           "diverging": [
            [
             0,
             "#8e0152"
            ],
            [
             0.1,
             "#c51b7d"
            ],
            [
             0.2,
             "#de77ae"
            ],
            [
             0.3,
             "#f1b6da"
            ],
            [
             0.4,
             "#fde0ef"
            ],
            [
             0.5,
             "#f7f7f7"
            ],
            [
             0.6,
             "#e6f5d0"
            ],
            [
             0.7,
             "#b8e186"
            ],
            [
             0.8,
             "#7fbc41"
            ],
            [
             0.9,
             "#4d9221"
            ],
            [
             1,
             "#276419"
            ]
           ],
           "sequential": [
            [
             0,
             "#0d0887"
            ],
            [
             0.1111111111111111,
             "#46039f"
            ],
            [
             0.2222222222222222,
             "#7201a8"
            ],
            [
             0.3333333333333333,
             "#9c179e"
            ],
            [
             0.4444444444444444,
             "#bd3786"
            ],
            [
             0.5555555555555556,
             "#d8576b"
            ],
            [
             0.6666666666666666,
             "#ed7953"
            ],
            [
             0.7777777777777778,
             "#fb9f3a"
            ],
            [
             0.8888888888888888,
             "#fdca26"
            ],
            [
             1,
             "#f0f921"
            ]
           ],
           "sequentialminus": [
            [
             0,
             "#0d0887"
            ],
            [
             0.1111111111111111,
             "#46039f"
            ],
            [
             0.2222222222222222,
             "#7201a8"
            ],
            [
             0.3333333333333333,
             "#9c179e"
            ],
            [
             0.4444444444444444,
             "#bd3786"
            ],
            [
             0.5555555555555556,
             "#d8576b"
            ],
            [
             0.6666666666666666,
             "#ed7953"
            ],
            [
             0.7777777777777778,
             "#fb9f3a"
            ],
            [
             0.8888888888888888,
             "#fdca26"
            ],
            [
             1,
             "#f0f921"
            ]
           ]
          },
          "colorway": [
           "#636efa",
           "#EF553B",
           "#00cc96",
           "#ab63fa",
           "#FFA15A",
           "#19d3f3",
           "#FF6692",
           "#B6E880",
           "#FF97FF",
           "#FECB52"
          ],
          "font": {
           "color": "#2a3f5f"
          },
          "geo": {
           "bgcolor": "white",
           "lakecolor": "white",
           "landcolor": "white",
           "showlakes": true,
           "showland": true,
           "subunitcolor": "#C8D4E3"
          },
          "hoverlabel": {
           "align": "left"
          },
          "hovermode": "closest",
          "mapbox": {
           "style": "light"
          },
          "paper_bgcolor": "white",
          "plot_bgcolor": "white",
          "polar": {
           "angularaxis": {
            "gridcolor": "#EBF0F8",
            "linecolor": "#EBF0F8",
            "ticks": ""
           },
           "bgcolor": "white",
           "radialaxis": {
            "gridcolor": "#EBF0F8",
            "linecolor": "#EBF0F8",
            "ticks": ""
           }
          },
          "scene": {
           "xaxis": {
            "backgroundcolor": "white",
            "gridcolor": "#DFE8F3",
            "gridwidth": 2,
            "linecolor": "#EBF0F8",
            "showbackground": true,
            "ticks": "",
            "zerolinecolor": "#EBF0F8"
           },
           "yaxis": {
            "backgroundcolor": "white",
            "gridcolor": "#DFE8F3",
            "gridwidth": 2,
            "linecolor": "#EBF0F8",
            "showbackground": true,
            "ticks": "",
            "zerolinecolor": "#EBF0F8"
           },
           "zaxis": {
            "backgroundcolor": "white",
            "gridcolor": "#DFE8F3",
            "gridwidth": 2,
            "linecolor": "#EBF0F8",
            "showbackground": true,
            "ticks": "",
            "zerolinecolor": "#EBF0F8"
           }
          },
          "shapedefaults": {
           "line": {
            "color": "#2a3f5f"
           }
          },
          "ternary": {
           "aaxis": {
            "gridcolor": "#DFE8F3",
            "linecolor": "#A2B1C6",
            "ticks": ""
           },
           "baxis": {
            "gridcolor": "#DFE8F3",
            "linecolor": "#A2B1C6",
            "ticks": ""
           },
           "bgcolor": "white",
           "caxis": {
            "gridcolor": "#DFE8F3",
            "linecolor": "#A2B1C6",
            "ticks": ""
           }
          },
          "title": {
           "x": 0.05
          },
          "xaxis": {
           "automargin": true,
           "gridcolor": "#EBF0F8",
           "linecolor": "#EBF0F8",
           "ticks": "",
           "title": {
            "standoff": 15
           },
           "zerolinecolor": "#EBF0F8",
           "zerolinewidth": 2
          },
          "yaxis": {
           "automargin": true,
           "gridcolor": "#EBF0F8",
           "linecolor": "#EBF0F8",
           "ticks": "",
           "title": {
            "standoff": 15
           },
           "zerolinecolor": "#EBF0F8",
           "zerolinewidth": 2
          }
         }
        },
        "xaxis": {
         "title": {
          "text": "Month Since Disbursement"
         }
        },
        "yaxis": {
         "title": {
          "text": "interest_rate"
         }
        }
       }
      },
      "text/html": [
       "<div>                            <div id=\"b361268c-6216-440f-94c8-40f4ba93816b\" class=\"plotly-graph-div\" style=\"height:525px; width:100%;\"></div>            <script type=\"text/javascript\">                require([\"plotly\"], function(Plotly) {                    window.PLOTLYENV=window.PLOTLYENV || {};                                    if (document.getElementById(\"b361268c-6216-440f-94c8-40f4ba93816b\")) {                    Plotly.newPlot(                        \"b361268c-6216-440f-94c8-40f4ba93816b\",                        [{\"line\":{\"width\":2},\"mode\":\"markers+lines\",\"name\":\"2020-09-actual\",\"type\":\"scatter\",\"x\":[0,1,2,3,4,5,6,7,8,9,10,11,12,13,14,15,16],\"y\":[0.13523789830648664,0.13513714120034792,0.136591653157878,0.1370776195787678,0.1352963860355595,0.1344732868339685,0.13499548902329,0.1341699590546656,0.13346898131244397,0.13265352112676057,0.13223585404547858,0.13403832009414535,0.13364804009868034,0.1321745327842889,0.14583926963072136,0.1473498390690765,0.14342832917235857]},{\"line\":{\"dash\":\"dash\",\"width\":3},\"mode\":\"lines\",\"name\":\"2020-09-forecast\",\"type\":\"scatter\",\"x\":[17,18,19,20,21,22,23,24],\"y\":[0.14342832917235857,0.14342832917235857,0.14234175092105283,0.14234175092105283,0.14234175092105283,0.14234175092105283,0.14234175092105283,0.14234175092105283]},{\"line\":{\"width\":2},\"mode\":\"markers+lines\",\"name\":\"2020-10-actual\",\"type\":\"scatter\",\"x\":[0,1,2,3,4,5,6,7,8,9,10,11,12,13,14,15],\"y\":[0.1362055750326528,0.13639474096920906,0.13694091349779167,0.13637698298240553,0.13713185725771537,0.1352859233410255,0.13490819727699,0.13442311421369013,0.13350554032442313,0.13434974601708613,0.13434218782681448,0.13364544943469298,0.1331599186423441,0.14004816498202294,0.145907246162928,0.1439131142206313]},{\"line\":{\"dash\":\"dash\",\"width\":3},\"mode\":\"lines\",\"name\":\"2020-10-forecast\",\"type\":\"scatter\",\"x\":[16,17,18,19,20,21,22,23,24],\"y\":[0.1439131142206313,0.1439131142206313,0.1439131142206313,0.1428228633553235,0.1428228633553235,0.1428228633553235,0.1428228633553235,0.1428228633553235,0.1428228633553235]},{\"line\":{\"width\":2},\"mode\":\"markers+lines\",\"name\":\"2020-11-actual\",\"type\":\"scatter\",\"x\":[0,1,2,3,4,5,6,7,8,9,10,11,12,13,14],\"y\":[0.13509322678843227,0.13603249031945788,0.136465066737676,0.13745370709214666,0.13660461351679482,0.1363724038163469,0.13590273415545343,0.13570470513093463,0.13597258192617148,0.13709204794989022,0.135923079778743,0.1336864916050552,0.1399658502119642,0.1478280302695048,0.141622200099552]},{\"line\":{\"dash\":\"dash\",\"width\":3},\"mode\":\"lines\",\"name\":\"2020-11-forecast\",\"type\":\"scatter\",\"x\":[15,16,17,18,19,20,21,22,23,24],\"y\":[0.1405573715273749,0.1405573715273749,0.1405573715273749,0.1405573715273749,0.1394925429551978,0.1394925429551978,0.1394925429551978,0.1394925429551978,0.1394925429551978,0.1394925429551978]},{\"line\":{\"width\":2},\"mode\":\"markers+lines\",\"name\":\"2020-12-actual\",\"type\":\"scatter\",\"x\":[0,1,2,3,4,5,6,7,8,9,10,11,12],\"y\":[0.135854011175804,0.1365704886367066,0.13811358140784524,0.1393538252251085,0.1390984886231523,0.13791019166019167,0.1389141239817755,0.13797752429805615,0.13930038238209885,0.13606673035937386,0.13487220211272807,0.1450058302238806,0.15087150638449862]},{\"line\":{\"dash\":\"dash\",\"width\":3},\"mode\":\"lines\",\"name\":\"2020-12-forecast\",\"type\":\"scatter\",\"x\":[13,14,15,16,17,18,19,20,21,22,23,24],\"y\":[0.14975393967053938,0.14863637295658014,0.1475188062426209,0.1475188062426209,0.1475188062426209,0.1475188062426209,0.14640123952866166,0.14640123952866166,0.14640123952866166,0.14640123952866166,0.14640123952866166,0.14640123952866166]},{\"line\":{\"width\":2},\"mode\":\"markers+lines\",\"name\":\"2021-01-actual\",\"type\":\"scatter\",\"x\":[0,1,2,3,4,5,6,7,8,9,10,11,12],\"y\":[0.13475040123044002,0.13536224940108435,0.13698314938904219,0.13861023674117182,0.1384251866780353,0.13619973498472107,0.13668959132389896,0.13737577850907015,0.13763996832565914,0.13591457113331037,0.1437772986292931,0.15067446499205517,0.14438633064065814]},{\"line\":{\"dash\":\"dash\",\"width\":3},\"mode\":\"lines\",\"name\":\"2021-01-forecast\",\"type\":\"scatter\",\"x\":[13,14,15,16,17,18,19,20,21,22,23,24],\"y\":[0.14331680226554216,0.14224727389042618,0.1411777455153102,0.1411777455153102,0.1411777455153102,0.1411777455153102,0.14010821714019422,0.14010821714019422,0.14010821714019422,0.14010821714019422,0.14010821714019422,0.14010821714019422]},{\"line\":{\"width\":2},\"mode\":\"markers+lines\",\"name\":\"2021-02-actual\",\"type\":\"scatter\",\"x\":[0,1,2,3,4,5,6,7,8,9,10,11],\"y\":[0.13366833273830775,0.13639448060138237,0.13865948053437302,0.13818769204261552,0.13816967627945978,0.1382920992012445,0.1394909881351327,0.1382348222307791,0.13795407298429654,0.1432879282785461,0.15082283763277693,0.14812210139133217]},{\"line\":{\"dash\":\"dash\",\"width\":3},\"mode\":\"lines\",\"name\":\"2021-02-forecast\",\"type\":\"scatter\",\"x\":[12,13,14,15,16,17,18,19,20,21,22,23,24],\"y\":[0.1470329682928665,0.14594383519440082,0.14485470209593515,0.14376556899746948,0.14376556899746948,0.14376556899746948,0.14376556899746948,0.1426764358990038,0.1426764358990038,0.1426764358990038,0.1426764358990038,0.1426764358990038,0.1426764358990038]},{\"line\":{\"width\":2},\"mode\":\"markers+lines\",\"name\":\"2021-03-actual\",\"type\":\"scatter\",\"x\":[0,1,2,3,4,5,6,7,8,9,10],\"y\":[0.13417885891198586,0.13617698165278275,0.13802088933261655,0.13863112994507792,0.140406426692045,0.1414412493516971,0.1397389650624214,0.1400108689088823,0.14888723613001234,0.15793625618367887,0.1530757085020243]},{\"line\":{\"dash\":\"dash\",\"width\":3},\"mode\":\"lines\",\"name\":\"2021-03-forecast\",\"type\":\"scatter\",\"x\":[11,12,13,14,15,16,17,18,19,20,21,22,23,24],\"y\":[0.15195836756405331,0.15084102662608234,0.14972368568811137,0.14860634475014037,0.1474890038121694,0.1474890038121694,0.1474890038121694,0.1474890038121694,0.14637166287419842,0.14637166287419842,0.14637166287419842,0.14637166287419842,0.14637166287419842,0.14637166287419842]},{\"line\":{\"width\":2},\"mode\":\"markers+lines\",\"name\":\"2021-04-actual\",\"type\":\"scatter\",\"x\":[0,1,2,3,4,5,6,7,8,9],\"y\":[0.1336272930321116,0.13643681258114299,0.13769675732799377,0.13980451510693676,0.14170209638058276,0.1418645874577407,0.13991478313989003,0.1506762763940642,0.15725143192833016,0.15100959516801102]},{\"line\":{\"dash\":\"dash\",\"width\":3},\"mode\":\"lines\",\"name\":\"2021-04-forecast\",\"type\":\"scatter\",\"x\":[10,11,12,13,14,15,16,17,18,19,20,21,22,23,24],\"y\":[0.1499153227392573,0.1488210503105036,0.1477267778817499,0.1466325054529962,0.14553823302424249,0.14444396059548878,0.14444396059548878,0.14444396059548878,0.14444396059548878,0.14334968816673507,0.14334968816673507,0.14334968816673507,0.14334968816673507,0.14334968816673507,0.14334968816673507]},{\"line\":{\"width\":2},\"mode\":\"markers+lines\",\"name\":\"2021-05-actual\",\"type\":\"scatter\",\"x\":[0,1,2,3,4,5,6,7,8],\"y\":[0.13409929602365875,0.13650295815810107,0.1394823226062379,0.14271022529400734,0.1426000852393806,0.14176539486398643,0.1525760540829034,0.15888805639750705,0.1564640361094933]},{\"line\":{\"dash\":\"dash\",\"width\":3},\"mode\":\"lines\",\"name\":\"2021-05-forecast\",\"type\":\"scatter\",\"x\":[9,10,11,12,13,14,15,16,17,18,19,20,21,22,23,24],\"y\":[0.15533839556194298,0.15421275501439266,0.15308711446684234,0.15196147391929204,0.15083583337174172,0.14971019282419143,0.1485845522766411,0.1485845522766411,0.1485845522766411,0.1485845522766411,0.14745891172909079,0.14745891172909079,0.14745891172909079,0.14745891172909079,0.14745891172909079,0.14745891172909079]},{\"line\":{\"width\":2},\"mode\":\"markers+lines\",\"name\":\"2021-06-actual\",\"type\":\"scatter\",\"x\":[0,1,2,3,4,5,6,7],\"y\":[0.13385521633264658,0.13702574908773194,0.14128145280655813,0.14149639878695983,0.14084056975073406,0.14962094390489492,0.15942061863094595,0.15494045789797173]},{\"line\":{\"dash\":\"dash\",\"width\":3},\"mode\":\"lines\",\"name\":\"2021-06-forecast\",\"type\":\"scatter\",\"x\":[8,9,10,11,12,13,14,15,16,17,18,19,20,21,22,23,24],\"y\":[0.15494045789797173,0.15382577834474892,0.15271109879152608,0.15159641923830328,0.15048173968508047,0.14936706013185766,0.14825238057863485,0.14713770102541204,0.14713770102541204,0.14713770102541204,0.14713770102541204,0.14602302147218924,0.14602302147218924,0.14602302147218924,0.14602302147218924,0.14602302147218924,0.14602302147218924]},{\"line\":{\"width\":2},\"mode\":\"markers+lines\",\"name\":\"2021-07-actual\",\"type\":\"scatter\",\"x\":[0,1,2,3,4,5,6],\"y\":[0.1352279287121455,0.14001406180334053,0.14106629201020446,0.14119581183382923,0.15127450580802934,0.15658251395163433,0.1547684256859197]},{\"line\":{\"dash\":\"dash\",\"width\":3},\"mode\":\"lines\",\"name\":\"2021-07-forecast\",\"type\":\"scatter\",\"x\":[7,8,9,10,11,12,13,14,15,16,17,18,19,20,21,22,23,24],\"y\":[0.1547684256859197,0.1547684256859197,0.1536549837745102,0.1525415418631007,0.1514280999516912,0.1503146580402817,0.14920121612887222,0.14808777421746272,0.14697433230605322,0.14697433230605322,0.14697433230605322,0.14697433230605322,0.14586089039464373,0.14586089039464373,0.14586089039464373,0.14586089039464373,0.14586089039464373,0.14586089039464373]},{\"line\":{\"width\":2},\"mode\":\"markers+lines\",\"name\":\"2021-08-actual\",\"type\":\"scatter\",\"x\":[0,1,2,3,4],\"y\":[0.1371630843151788,0.14014418205907567,0.14087202939337085,0.1550239755884917,0.16149591078066913]},{\"line\":{\"dash\":\"dash\",\"width\":3},\"mode\":\"lines\",\"name\":\"2021-08-forecast\",\"type\":\"scatter\",\"x\":[5,6,7,8,9,10,11,12,13,14,15,16,17,18,19,20,21,22,23,24],\"y\":[0.1603423685608072,0.1603423685608072,0.1603423685608072,0.1603423685608072,0.15918882634094528,0.15803528412108336,0.15688174190122145,0.15572819968135954,0.15457465746149762,0.1534211152416357,0.1522675730217738,0.1522675730217738,0.1522675730217738,0.1522675730217738,0.15111403080191188,0.15111403080191188,0.15111403080191188,0.15111403080191188,0.15111403080191188,0.15111403080191188]},{\"line\":{\"width\":2},\"mode\":\"markers+lines\",\"name\":\"2021-09-actual\",\"type\":\"scatter\",\"x\":[0,1,2,3],\"y\":[0.1355988871300427,0.13775213092396862,0.15041541788383475,0.16045651494170723]},{\"line\":{\"dash\":\"dash\",\"width\":3},\"mode\":\"lines\",\"name\":\"2021-09-forecast\",\"type\":\"scatter\",\"x\":[4,5,6,7,8,9,10,11,12,13,14,15,16,17,18,19,20,21,22,23,24],\"y\":[0.15931852547403558,0.1581805360063639,0.1581805360063639,0.1581805360063639,0.1581805360063639,0.1570425465386922,0.15590455707102052,0.15476656760334884,0.15362857813567715,0.15249058866800547,0.15135259920033378,0.1502146097326621,0.1502146097326621,0.1502146097326621,0.1502146097326621,0.1490766202649904,0.1490766202649904,0.1490766202649904,0.1490766202649904,0.1490766202649904,0.1490766202649904]},{\"line\":{\"width\":2},\"mode\":\"markers+lines\",\"name\":\"2021-10-actual\",\"type\":\"scatter\",\"x\":[0,1,2,3],\"y\":[0.13321386615694006,0.14807445145602965,0.15912816794420276,0.1562652900908989]},{\"line\":{\"dash\":\"dash\",\"width\":3},\"mode\":\"lines\",\"name\":\"2021-10-forecast\",\"type\":\"scatter\",\"x\":[4,5,6,7,8,9,10,11,12,13,14,15,16,17,18,19,20,21,22,23,24],\"y\":[0.15515702562216915,0.15404876115343938,0.15404876115343938,0.15404876115343938,0.15404876115343938,0.1529404966847096,0.15183223221597983,0.15072396774725003,0.14961570327852025,0.14850743880979045,0.14739917434106067,0.1462909098723309,0.1462909098723309,0.1462909098723309,0.1462909098723309,0.14518264540360112,0.14518264540360112,0.14518264540360112,0.14518264540360112,0.14518264540360112,0.14518264540360112]}],                        {\"template\":{\"data\":{\"bar\":[{\"error_x\":{\"color\":\"#2a3f5f\"},\"error_y\":{\"color\":\"#2a3f5f\"},\"marker\":{\"line\":{\"color\":\"white\",\"width\":0.5},\"pattern\":{\"fillmode\":\"overlay\",\"size\":10,\"solidity\":0.2}},\"type\":\"bar\"}],\"barpolar\":[{\"marker\":{\"line\":{\"color\":\"white\",\"width\":0.5},\"pattern\":{\"fillmode\":\"overlay\",\"size\":10,\"solidity\":0.2}},\"type\":\"barpolar\"}],\"carpet\":[{\"aaxis\":{\"endlinecolor\":\"#2a3f5f\",\"gridcolor\":\"#C8D4E3\",\"linecolor\":\"#C8D4E3\",\"minorgridcolor\":\"#C8D4E3\",\"startlinecolor\":\"#2a3f5f\"},\"baxis\":{\"endlinecolor\":\"#2a3f5f\",\"gridcolor\":\"#C8D4E3\",\"linecolor\":\"#C8D4E3\",\"minorgridcolor\":\"#C8D4E3\",\"startlinecolor\":\"#2a3f5f\"},\"type\":\"carpet\"}],\"choropleth\":[{\"colorbar\":{\"outlinewidth\":0,\"ticks\":\"\"},\"type\":\"choropleth\"}],\"contour\":[{\"colorbar\":{\"outlinewidth\":0,\"ticks\":\"\"},\"colorscale\":[[0.0,\"#0d0887\"],[0.1111111111111111,\"#46039f\"],[0.2222222222222222,\"#7201a8\"],[0.3333333333333333,\"#9c179e\"],[0.4444444444444444,\"#bd3786\"],[0.5555555555555556,\"#d8576b\"],[0.6666666666666666,\"#ed7953\"],[0.7777777777777778,\"#fb9f3a\"],[0.8888888888888888,\"#fdca26\"],[1.0,\"#f0f921\"]],\"type\":\"contour\"}],\"contourcarpet\":[{\"colorbar\":{\"outlinewidth\":0,\"ticks\":\"\"},\"type\":\"contourcarpet\"}],\"heatmap\":[{\"colorbar\":{\"outlinewidth\":0,\"ticks\":\"\"},\"colorscale\":[[0.0,\"#0d0887\"],[0.1111111111111111,\"#46039f\"],[0.2222222222222222,\"#7201a8\"],[0.3333333333333333,\"#9c179e\"],[0.4444444444444444,\"#bd3786\"],[0.5555555555555556,\"#d8576b\"],[0.6666666666666666,\"#ed7953\"],[0.7777777777777778,\"#fb9f3a\"],[0.8888888888888888,\"#fdca26\"],[1.0,\"#f0f921\"]],\"type\":\"heatmap\"}],\"heatmapgl\":[{\"colorbar\":{\"outlinewidth\":0,\"ticks\":\"\"},\"colorscale\":[[0.0,\"#0d0887\"],[0.1111111111111111,\"#46039f\"],[0.2222222222222222,\"#7201a8\"],[0.3333333333333333,\"#9c179e\"],[0.4444444444444444,\"#bd3786\"],[0.5555555555555556,\"#d8576b\"],[0.6666666666666666,\"#ed7953\"],[0.7777777777777778,\"#fb9f3a\"],[0.8888888888888888,\"#fdca26\"],[1.0,\"#f0f921\"]],\"type\":\"heatmapgl\"}],\"histogram\":[{\"marker\":{\"pattern\":{\"fillmode\":\"overlay\",\"size\":10,\"solidity\":0.2}},\"type\":\"histogram\"}],\"histogram2d\":[{\"colorbar\":{\"outlinewidth\":0,\"ticks\":\"\"},\"colorscale\":[[0.0,\"#0d0887\"],[0.1111111111111111,\"#46039f\"],[0.2222222222222222,\"#7201a8\"],[0.3333333333333333,\"#9c179e\"],[0.4444444444444444,\"#bd3786\"],[0.5555555555555556,\"#d8576b\"],[0.6666666666666666,\"#ed7953\"],[0.7777777777777778,\"#fb9f3a\"],[0.8888888888888888,\"#fdca26\"],[1.0,\"#f0f921\"]],\"type\":\"histogram2d\"}],\"histogram2dcontour\":[{\"colorbar\":{\"outlinewidth\":0,\"ticks\":\"\"},\"colorscale\":[[0.0,\"#0d0887\"],[0.1111111111111111,\"#46039f\"],[0.2222222222222222,\"#7201a8\"],[0.3333333333333333,\"#9c179e\"],[0.4444444444444444,\"#bd3786\"],[0.5555555555555556,\"#d8576b\"],[0.6666666666666666,\"#ed7953\"],[0.7777777777777778,\"#fb9f3a\"],[0.8888888888888888,\"#fdca26\"],[1.0,\"#f0f921\"]],\"type\":\"histogram2dcontour\"}],\"mesh3d\":[{\"colorbar\":{\"outlinewidth\":0,\"ticks\":\"\"},\"type\":\"mesh3d\"}],\"parcoords\":[{\"line\":{\"colorbar\":{\"outlinewidth\":0,\"ticks\":\"\"}},\"type\":\"parcoords\"}],\"pie\":[{\"automargin\":true,\"type\":\"pie\"}],\"scatter\":[{\"marker\":{\"colorbar\":{\"outlinewidth\":0,\"ticks\":\"\"}},\"type\":\"scatter\"}],\"scatter3d\":[{\"line\":{\"colorbar\":{\"outlinewidth\":0,\"ticks\":\"\"}},\"marker\":{\"colorbar\":{\"outlinewidth\":0,\"ticks\":\"\"}},\"type\":\"scatter3d\"}],\"scattercarpet\":[{\"marker\":{\"colorbar\":{\"outlinewidth\":0,\"ticks\":\"\"}},\"type\":\"scattercarpet\"}],\"scattergeo\":[{\"marker\":{\"colorbar\":{\"outlinewidth\":0,\"ticks\":\"\"}},\"type\":\"scattergeo\"}],\"scattergl\":[{\"marker\":{\"colorbar\":{\"outlinewidth\":0,\"ticks\":\"\"}},\"type\":\"scattergl\"}],\"scattermapbox\":[{\"marker\":{\"colorbar\":{\"outlinewidth\":0,\"ticks\":\"\"}},\"type\":\"scattermapbox\"}],\"scatterpolar\":[{\"marker\":{\"colorbar\":{\"outlinewidth\":0,\"ticks\":\"\"}},\"type\":\"scatterpolar\"}],\"scatterpolargl\":[{\"marker\":{\"colorbar\":{\"outlinewidth\":0,\"ticks\":\"\"}},\"type\":\"scatterpolargl\"}],\"scatterternary\":[{\"marker\":{\"colorbar\":{\"outlinewidth\":0,\"ticks\":\"\"}},\"type\":\"scatterternary\"}],\"surface\":[{\"colorbar\":{\"outlinewidth\":0,\"ticks\":\"\"},\"colorscale\":[[0.0,\"#0d0887\"],[0.1111111111111111,\"#46039f\"],[0.2222222222222222,\"#7201a8\"],[0.3333333333333333,\"#9c179e\"],[0.4444444444444444,\"#bd3786\"],[0.5555555555555556,\"#d8576b\"],[0.6666666666666666,\"#ed7953\"],[0.7777777777777778,\"#fb9f3a\"],[0.8888888888888888,\"#fdca26\"],[1.0,\"#f0f921\"]],\"type\":\"surface\"}],\"table\":[{\"cells\":{\"fill\":{\"color\":\"#EBF0F8\"},\"line\":{\"color\":\"white\"}},\"header\":{\"fill\":{\"color\":\"#C8D4E3\"},\"line\":{\"color\":\"white\"}},\"type\":\"table\"}]},\"layout\":{\"annotationdefaults\":{\"arrowcolor\":\"#2a3f5f\",\"arrowhead\":0,\"arrowwidth\":1},\"autotypenumbers\":\"strict\",\"coloraxis\":{\"colorbar\":{\"outlinewidth\":0,\"ticks\":\"\"}},\"colorscale\":{\"diverging\":[[0,\"#8e0152\"],[0.1,\"#c51b7d\"],[0.2,\"#de77ae\"],[0.3,\"#f1b6da\"],[0.4,\"#fde0ef\"],[0.5,\"#f7f7f7\"],[0.6,\"#e6f5d0\"],[0.7,\"#b8e186\"],[0.8,\"#7fbc41\"],[0.9,\"#4d9221\"],[1,\"#276419\"]],\"sequential\":[[0.0,\"#0d0887\"],[0.1111111111111111,\"#46039f\"],[0.2222222222222222,\"#7201a8\"],[0.3333333333333333,\"#9c179e\"],[0.4444444444444444,\"#bd3786\"],[0.5555555555555556,\"#d8576b\"],[0.6666666666666666,\"#ed7953\"],[0.7777777777777778,\"#fb9f3a\"],[0.8888888888888888,\"#fdca26\"],[1.0,\"#f0f921\"]],\"sequentialminus\":[[0.0,\"#0d0887\"],[0.1111111111111111,\"#46039f\"],[0.2222222222222222,\"#7201a8\"],[0.3333333333333333,\"#9c179e\"],[0.4444444444444444,\"#bd3786\"],[0.5555555555555556,\"#d8576b\"],[0.6666666666666666,\"#ed7953\"],[0.7777777777777778,\"#fb9f3a\"],[0.8888888888888888,\"#fdca26\"],[1.0,\"#f0f921\"]]},\"colorway\":[\"#636efa\",\"#EF553B\",\"#00cc96\",\"#ab63fa\",\"#FFA15A\",\"#19d3f3\",\"#FF6692\",\"#B6E880\",\"#FF97FF\",\"#FECB52\"],\"font\":{\"color\":\"#2a3f5f\"},\"geo\":{\"bgcolor\":\"white\",\"lakecolor\":\"white\",\"landcolor\":\"white\",\"showlakes\":true,\"showland\":true,\"subunitcolor\":\"#C8D4E3\"},\"hoverlabel\":{\"align\":\"left\"},\"hovermode\":\"closest\",\"mapbox\":{\"style\":\"light\"},\"paper_bgcolor\":\"white\",\"plot_bgcolor\":\"white\",\"polar\":{\"angularaxis\":{\"gridcolor\":\"#EBF0F8\",\"linecolor\":\"#EBF0F8\",\"ticks\":\"\"},\"bgcolor\":\"white\",\"radialaxis\":{\"gridcolor\":\"#EBF0F8\",\"linecolor\":\"#EBF0F8\",\"ticks\":\"\"}},\"scene\":{\"xaxis\":{\"backgroundcolor\":\"white\",\"gridcolor\":\"#DFE8F3\",\"gridwidth\":2,\"linecolor\":\"#EBF0F8\",\"showbackground\":true,\"ticks\":\"\",\"zerolinecolor\":\"#EBF0F8\"},\"yaxis\":{\"backgroundcolor\":\"white\",\"gridcolor\":\"#DFE8F3\",\"gridwidth\":2,\"linecolor\":\"#EBF0F8\",\"showbackground\":true,\"ticks\":\"\",\"zerolinecolor\":\"#EBF0F8\"},\"zaxis\":{\"backgroundcolor\":\"white\",\"gridcolor\":\"#DFE8F3\",\"gridwidth\":2,\"linecolor\":\"#EBF0F8\",\"showbackground\":true,\"ticks\":\"\",\"zerolinecolor\":\"#EBF0F8\"}},\"shapedefaults\":{\"line\":{\"color\":\"#2a3f5f\"}},\"ternary\":{\"aaxis\":{\"gridcolor\":\"#DFE8F3\",\"linecolor\":\"#A2B1C6\",\"ticks\":\"\"},\"baxis\":{\"gridcolor\":\"#DFE8F3\",\"linecolor\":\"#A2B1C6\",\"ticks\":\"\"},\"bgcolor\":\"white\",\"caxis\":{\"gridcolor\":\"#DFE8F3\",\"linecolor\":\"#A2B1C6\",\"ticks\":\"\"}},\"title\":{\"x\":0.05},\"xaxis\":{\"automargin\":true,\"gridcolor\":\"#EBF0F8\",\"linecolor\":\"#EBF0F8\",\"ticks\":\"\",\"title\":{\"standoff\":15},\"zerolinecolor\":\"#EBF0F8\",\"zerolinewidth\":2},\"yaxis\":{\"automargin\":true,\"gridcolor\":\"#EBF0F8\",\"linecolor\":\"#EBF0F8\",\"ticks\":\"\",\"title\":{\"standoff\":15},\"zerolinecolor\":\"#EBF0F8\",\"zerolinewidth\":2}}},\"xaxis\":{\"title\":{\"text\":\"Month Since Disbursement\"}},\"yaxis\":{\"title\":{\"text\":\"interest_rate\"}}},                        {\"responsive\": true}                    ).then(function(){\n",
       "                            \n",
       "var gd = document.getElementById('b361268c-6216-440f-94c8-40f4ba93816b');\n",
       "var x = new MutationObserver(function (mutations, observer) {{\n",
       "        var display = window.getComputedStyle(gd).display;\n",
       "        if (!display || display === 'none') {{\n",
       "            console.log([gd, 'removed!']);\n",
       "            Plotly.purge(gd);\n",
       "            observer.disconnect();\n",
       "        }}\n",
       "}});\n",
       "\n",
       "// Listen for the removal of the full notebook cells\n",
       "var notebookContainer = gd.closest('#notebook-container');\n",
       "if (notebookContainer) {{\n",
       "    x.observe(notebookContainer, {childList: true});\n",
       "}}\n",
       "\n",
       "// Listen for the clearing of the current output cell\n",
       "var outputEl = gd.closest('.output');\n",
       "if (outputEl) {{\n",
       "    x.observe(outputEl, {childList: true});\n",
       "}}\n",
       "\n",
       "                        })                };                });            </script>        </div>"
      ]
     },
     "metadata": {},
     "output_type": "display_data"
    }
   ],
   "source": [
    "# visualize cohorts for a given feature\n",
    "m.plot_cohorts('interest_rate', forecast=True)"
   ]
  },
  {
   "cell_type": "markdown",
   "id": "75481e90",
   "metadata": {},
   "source": [
    "## Forecasting"
   ]
  },
  {
   "cell_type": "markdown",
   "id": "aa58c728",
   "metadata": {},
   "source": [
    "### Power law regression"
   ]
  },
  {
   "cell_type": "code",
   "execution_count": 135,
   "id": "20cabecd",
   "metadata": {},
   "outputs": [],
   "source": [
    "def power_law(x, A, B):\n",
    "    return A*x**B"
   ]
  },
  {
   "cell_type": "code",
   "execution_count": 136,
   "id": "439b4f67",
   "metadata": {},
   "outputs": [],
   "source": [
    "arr = m.data[m.data['First Loan Local Disbursement Month']=='2020-12'].loc[1:, 'Count Loans']\n",
    "arr = arr.dropna()\n",
    "power_param, power_cov = curve_fit(power_law, arr.index, arr)"
   ]
  },
  {
   "cell_type": "code",
   "execution_count": 137,
   "id": "9d20b8b5",
   "metadata": {},
   "outputs": [],
   "source": [
    "x = list(range(1,25))\n",
    "power_fit = power_law(x, power_param[0], power_param[1])"
   ]
  },
  {
   "cell_type": "code",
   "execution_count": 138,
   "id": "0013938a",
   "metadata": {
    "scrolled": false
   },
   "outputs": [
    {
     "data": {
      "application/vnd.plotly.v1+json": {
       "config": {
        "plotlyServerURL": "https://plot.ly"
       },
       "data": [
        {
         "name": "actual",
         "type": "scatter",
         "x": [
          1,
          2,
          3,
          4,
          5,
          6,
          7,
          8,
          9,
          10,
          11,
          12
         ],
         "y": [
          5796,
          4196,
          3571,
          2846,
          2509,
          2088,
          1944,
          1752,
          1582,
          1499,
          1361,
          1162
         ]
        },
        {
         "name": "power-law",
         "type": "scatter",
         "x": [
          1,
          2,
          3,
          4,
          5,
          6,
          7,
          8,
          9,
          10,
          11,
          12,
          13,
          14,
          15,
          16,
          17,
          18,
          19,
          20,
          21,
          22,
          23,
          24
         ],
         "y": [
          6015.532769490915,
          4034.3406392514717,
          3193.60114318854,
          2705.646368691194,
          2379.1181792543052,
          2141.8011290487652,
          1959.718612559465,
          1814.5523462218323,
          1695.4588483836458,
          1595.5649356324413,
          1510.2797925884263,
          1436.407325372674,
          1371.646302595989,
          1314.2929717287946,
          1263.0559633191376,
          1216.9366460007445,
          1175.1492626191234,
          1137.0661247002909,
          1102.179085990684,
          1070.071880421553,
          1040.3998849676982,
          1012.8750648291144,
          987.2546044779363,
          963.3322050309284
         ]
        }
       ],
       "layout": {
        "template": {
         "data": {
          "bar": [
           {
            "error_x": {
             "color": "#2a3f5f"
            },
            "error_y": {
             "color": "#2a3f5f"
            },
            "marker": {
             "line": {
              "color": "white",
              "width": 0.5
             },
             "pattern": {
              "fillmode": "overlay",
              "size": 10,
              "solidity": 0.2
             }
            },
            "type": "bar"
           }
          ],
          "barpolar": [
           {
            "marker": {
             "line": {
              "color": "white",
              "width": 0.5
             },
             "pattern": {
              "fillmode": "overlay",
              "size": 10,
              "solidity": 0.2
             }
            },
            "type": "barpolar"
           }
          ],
          "carpet": [
           {
            "aaxis": {
             "endlinecolor": "#2a3f5f",
             "gridcolor": "#C8D4E3",
             "linecolor": "#C8D4E3",
             "minorgridcolor": "#C8D4E3",
             "startlinecolor": "#2a3f5f"
            },
            "baxis": {
             "endlinecolor": "#2a3f5f",
             "gridcolor": "#C8D4E3",
             "linecolor": "#C8D4E3",
             "minorgridcolor": "#C8D4E3",
             "startlinecolor": "#2a3f5f"
            },
            "type": "carpet"
           }
          ],
          "choropleth": [
           {
            "colorbar": {
             "outlinewidth": 0,
             "ticks": ""
            },
            "type": "choropleth"
           }
          ],
          "contour": [
           {
            "colorbar": {
             "outlinewidth": 0,
             "ticks": ""
            },
            "colorscale": [
             [
              0,
              "#0d0887"
             ],
             [
              0.1111111111111111,
              "#46039f"
             ],
             [
              0.2222222222222222,
              "#7201a8"
             ],
             [
              0.3333333333333333,
              "#9c179e"
             ],
             [
              0.4444444444444444,
              "#bd3786"
             ],
             [
              0.5555555555555556,
              "#d8576b"
             ],
             [
              0.6666666666666666,
              "#ed7953"
             ],
             [
              0.7777777777777778,
              "#fb9f3a"
             ],
             [
              0.8888888888888888,
              "#fdca26"
             ],
             [
              1,
              "#f0f921"
             ]
            ],
            "type": "contour"
           }
          ],
          "contourcarpet": [
           {
            "colorbar": {
             "outlinewidth": 0,
             "ticks": ""
            },
            "type": "contourcarpet"
           }
          ],
          "heatmap": [
           {
            "colorbar": {
             "outlinewidth": 0,
             "ticks": ""
            },
            "colorscale": [
             [
              0,
              "#0d0887"
             ],
             [
              0.1111111111111111,
              "#46039f"
             ],
             [
              0.2222222222222222,
              "#7201a8"
             ],
             [
              0.3333333333333333,
              "#9c179e"
             ],
             [
              0.4444444444444444,
              "#bd3786"
             ],
             [
              0.5555555555555556,
              "#d8576b"
             ],
             [
              0.6666666666666666,
              "#ed7953"
             ],
             [
              0.7777777777777778,
              "#fb9f3a"
             ],
             [
              0.8888888888888888,
              "#fdca26"
             ],
             [
              1,
              "#f0f921"
             ]
            ],
            "type": "heatmap"
           }
          ],
          "heatmapgl": [
           {
            "colorbar": {
             "outlinewidth": 0,
             "ticks": ""
            },
            "colorscale": [
             [
              0,
              "#0d0887"
             ],
             [
              0.1111111111111111,
              "#46039f"
             ],
             [
              0.2222222222222222,
              "#7201a8"
             ],
             [
              0.3333333333333333,
              "#9c179e"
             ],
             [
              0.4444444444444444,
              "#bd3786"
             ],
             [
              0.5555555555555556,
              "#d8576b"
             ],
             [
              0.6666666666666666,
              "#ed7953"
             ],
             [
              0.7777777777777778,
              "#fb9f3a"
             ],
             [
              0.8888888888888888,
              "#fdca26"
             ],
             [
              1,
              "#f0f921"
             ]
            ],
            "type": "heatmapgl"
           }
          ],
          "histogram": [
           {
            "marker": {
             "pattern": {
              "fillmode": "overlay",
              "size": 10,
              "solidity": 0.2
             }
            },
            "type": "histogram"
           }
          ],
          "histogram2d": [
           {
            "colorbar": {
             "outlinewidth": 0,
             "ticks": ""
            },
            "colorscale": [
             [
              0,
              "#0d0887"
             ],
             [
              0.1111111111111111,
              "#46039f"
             ],
             [
              0.2222222222222222,
              "#7201a8"
             ],
             [
              0.3333333333333333,
              "#9c179e"
             ],
             [
              0.4444444444444444,
              "#bd3786"
             ],
             [
              0.5555555555555556,
              "#d8576b"
             ],
             [
              0.6666666666666666,
              "#ed7953"
             ],
             [
              0.7777777777777778,
              "#fb9f3a"
             ],
             [
              0.8888888888888888,
              "#fdca26"
             ],
             [
              1,
              "#f0f921"
             ]
            ],
            "type": "histogram2d"
           }
          ],
          "histogram2dcontour": [
           {
            "colorbar": {
             "outlinewidth": 0,
             "ticks": ""
            },
            "colorscale": [
             [
              0,
              "#0d0887"
             ],
             [
              0.1111111111111111,
              "#46039f"
             ],
             [
              0.2222222222222222,
              "#7201a8"
             ],
             [
              0.3333333333333333,
              "#9c179e"
             ],
             [
              0.4444444444444444,
              "#bd3786"
             ],
             [
              0.5555555555555556,
              "#d8576b"
             ],
             [
              0.6666666666666666,
              "#ed7953"
             ],
             [
              0.7777777777777778,
              "#fb9f3a"
             ],
             [
              0.8888888888888888,
              "#fdca26"
             ],
             [
              1,
              "#f0f921"
             ]
            ],
            "type": "histogram2dcontour"
           }
          ],
          "mesh3d": [
           {
            "colorbar": {
             "outlinewidth": 0,
             "ticks": ""
            },
            "type": "mesh3d"
           }
          ],
          "parcoords": [
           {
            "line": {
             "colorbar": {
              "outlinewidth": 0,
              "ticks": ""
             }
            },
            "type": "parcoords"
           }
          ],
          "pie": [
           {
            "automargin": true,
            "type": "pie"
           }
          ],
          "scatter": [
           {
            "marker": {
             "colorbar": {
              "outlinewidth": 0,
              "ticks": ""
             }
            },
            "type": "scatter"
           }
          ],
          "scatter3d": [
           {
            "line": {
             "colorbar": {
              "outlinewidth": 0,
              "ticks": ""
             }
            },
            "marker": {
             "colorbar": {
              "outlinewidth": 0,
              "ticks": ""
             }
            },
            "type": "scatter3d"
           }
          ],
          "scattercarpet": [
           {
            "marker": {
             "colorbar": {
              "outlinewidth": 0,
              "ticks": ""
             }
            },
            "type": "scattercarpet"
           }
          ],
          "scattergeo": [
           {
            "marker": {
             "colorbar": {
              "outlinewidth": 0,
              "ticks": ""
             }
            },
            "type": "scattergeo"
           }
          ],
          "scattergl": [
           {
            "marker": {
             "colorbar": {
              "outlinewidth": 0,
              "ticks": ""
             }
            },
            "type": "scattergl"
           }
          ],
          "scattermapbox": [
           {
            "marker": {
             "colorbar": {
              "outlinewidth": 0,
              "ticks": ""
             }
            },
            "type": "scattermapbox"
           }
          ],
          "scatterpolar": [
           {
            "marker": {
             "colorbar": {
              "outlinewidth": 0,
              "ticks": ""
             }
            },
            "type": "scatterpolar"
           }
          ],
          "scatterpolargl": [
           {
            "marker": {
             "colorbar": {
              "outlinewidth": 0,
              "ticks": ""
             }
            },
            "type": "scatterpolargl"
           }
          ],
          "scatterternary": [
           {
            "marker": {
             "colorbar": {
              "outlinewidth": 0,
              "ticks": ""
             }
            },
            "type": "scatterternary"
           }
          ],
          "surface": [
           {
            "colorbar": {
             "outlinewidth": 0,
             "ticks": ""
            },
            "colorscale": [
             [
              0,
              "#0d0887"
             ],
             [
              0.1111111111111111,
              "#46039f"
             ],
             [
              0.2222222222222222,
              "#7201a8"
             ],
             [
              0.3333333333333333,
              "#9c179e"
             ],
             [
              0.4444444444444444,
              "#bd3786"
             ],
             [
              0.5555555555555556,
              "#d8576b"
             ],
             [
              0.6666666666666666,
              "#ed7953"
             ],
             [
              0.7777777777777778,
              "#fb9f3a"
             ],
             [
              0.8888888888888888,
              "#fdca26"
             ],
             [
              1,
              "#f0f921"
             ]
            ],
            "type": "surface"
           }
          ],
          "table": [
           {
            "cells": {
             "fill": {
              "color": "#EBF0F8"
             },
             "line": {
              "color": "white"
             }
            },
            "header": {
             "fill": {
              "color": "#C8D4E3"
             },
             "line": {
              "color": "white"
             }
            },
            "type": "table"
           }
          ]
         },
         "layout": {
          "annotationdefaults": {
           "arrowcolor": "#2a3f5f",
           "arrowhead": 0,
           "arrowwidth": 1
          },
          "autotypenumbers": "strict",
          "coloraxis": {
           "colorbar": {
            "outlinewidth": 0,
            "ticks": ""
           }
          },
          "colorscale": {
           "diverging": [
            [
             0,
             "#8e0152"
            ],
            [
             0.1,
             "#c51b7d"
            ],
            [
             0.2,
             "#de77ae"
            ],
            [
             0.3,
             "#f1b6da"
            ],
            [
             0.4,
             "#fde0ef"
            ],
            [
             0.5,
             "#f7f7f7"
            ],
            [
             0.6,
             "#e6f5d0"
            ],
            [
             0.7,
             "#b8e186"
            ],
            [
             0.8,
             "#7fbc41"
            ],
            [
             0.9,
             "#4d9221"
            ],
            [
             1,
             "#276419"
            ]
           ],
           "sequential": [
            [
             0,
             "#0d0887"
            ],
            [
             0.1111111111111111,
             "#46039f"
            ],
            [
             0.2222222222222222,
             "#7201a8"
            ],
            [
             0.3333333333333333,
             "#9c179e"
            ],
            [
             0.4444444444444444,
             "#bd3786"
            ],
            [
             0.5555555555555556,
             "#d8576b"
            ],
            [
             0.6666666666666666,
             "#ed7953"
            ],
            [
             0.7777777777777778,
             "#fb9f3a"
            ],
            [
             0.8888888888888888,
             "#fdca26"
            ],
            [
             1,
             "#f0f921"
            ]
           ],
           "sequentialminus": [
            [
             0,
             "#0d0887"
            ],
            [
             0.1111111111111111,
             "#46039f"
            ],
            [
             0.2222222222222222,
             "#7201a8"
            ],
            [
             0.3333333333333333,
             "#9c179e"
            ],
            [
             0.4444444444444444,
             "#bd3786"
            ],
            [
             0.5555555555555556,
             "#d8576b"
            ],
            [
             0.6666666666666666,
             "#ed7953"
            ],
            [
             0.7777777777777778,
             "#fb9f3a"
            ],
            [
             0.8888888888888888,
             "#fdca26"
            ],
            [
             1,
             "#f0f921"
            ]
           ]
          },
          "colorway": [
           "#636efa",
           "#EF553B",
           "#00cc96",
           "#ab63fa",
           "#FFA15A",
           "#19d3f3",
           "#FF6692",
           "#B6E880",
           "#FF97FF",
           "#FECB52"
          ],
          "font": {
           "color": "#2a3f5f"
          },
          "geo": {
           "bgcolor": "white",
           "lakecolor": "white",
           "landcolor": "white",
           "showlakes": true,
           "showland": true,
           "subunitcolor": "#C8D4E3"
          },
          "hoverlabel": {
           "align": "left"
          },
          "hovermode": "closest",
          "mapbox": {
           "style": "light"
          },
          "paper_bgcolor": "white",
          "plot_bgcolor": "white",
          "polar": {
           "angularaxis": {
            "gridcolor": "#EBF0F8",
            "linecolor": "#EBF0F8",
            "ticks": ""
           },
           "bgcolor": "white",
           "radialaxis": {
            "gridcolor": "#EBF0F8",
            "linecolor": "#EBF0F8",
            "ticks": ""
           }
          },
          "scene": {
           "xaxis": {
            "backgroundcolor": "white",
            "gridcolor": "#DFE8F3",
            "gridwidth": 2,
            "linecolor": "#EBF0F8",
            "showbackground": true,
            "ticks": "",
            "zerolinecolor": "#EBF0F8"
           },
           "yaxis": {
            "backgroundcolor": "white",
            "gridcolor": "#DFE8F3",
            "gridwidth": 2,
            "linecolor": "#EBF0F8",
            "showbackground": true,
            "ticks": "",
            "zerolinecolor": "#EBF0F8"
           },
           "zaxis": {
            "backgroundcolor": "white",
            "gridcolor": "#DFE8F3",
            "gridwidth": 2,
            "linecolor": "#EBF0F8",
            "showbackground": true,
            "ticks": "",
            "zerolinecolor": "#EBF0F8"
           }
          },
          "shapedefaults": {
           "line": {
            "color": "#2a3f5f"
           }
          },
          "ternary": {
           "aaxis": {
            "gridcolor": "#DFE8F3",
            "linecolor": "#A2B1C6",
            "ticks": ""
           },
           "baxis": {
            "gridcolor": "#DFE8F3",
            "linecolor": "#A2B1C6",
            "ticks": ""
           },
           "bgcolor": "white",
           "caxis": {
            "gridcolor": "#DFE8F3",
            "linecolor": "#A2B1C6",
            "ticks": ""
           }
          },
          "title": {
           "x": 0.05
          },
          "xaxis": {
           "automargin": true,
           "gridcolor": "#EBF0F8",
           "linecolor": "#EBF0F8",
           "ticks": "",
           "title": {
            "standoff": 15
           },
           "zerolinecolor": "#EBF0F8",
           "zerolinewidth": 2
          },
          "yaxis": {
           "automargin": true,
           "gridcolor": "#EBF0F8",
           "linecolor": "#EBF0F8",
           "ticks": "",
           "title": {
            "standoff": 15
           },
           "zerolinecolor": "#EBF0F8",
           "zerolinewidth": 2
          }
         }
        }
       }
      },
      "text/html": [
       "<div>                            <div id=\"c0430b15-3938-4c3b-b775-36f6f771bab4\" class=\"plotly-graph-div\" style=\"height:525px; width:100%;\"></div>            <script type=\"text/javascript\">                require([\"plotly\"], function(Plotly) {                    window.PLOTLYENV=window.PLOTLYENV || {};                                    if (document.getElementById(\"c0430b15-3938-4c3b-b775-36f6f771bab4\")) {                    Plotly.newPlot(                        \"c0430b15-3938-4c3b-b775-36f6f771bab4\",                        [{\"name\":\"actual\",\"type\":\"scatter\",\"x\":[1,2,3,4,5,6,7,8,9,10,11,12],\"y\":[5796,4196,3571,2846,2509,2088,1944,1752,1582,1499,1361,1162]},{\"name\":\"power-law\",\"type\":\"scatter\",\"x\":[1,2,3,4,5,6,7,8,9,10,11,12,13,14,15,16,17,18,19,20,21,22,23,24],\"y\":[6015.532769490915,4034.3406392514717,3193.60114318854,2705.646368691194,2379.1181792543052,2141.8011290487652,1959.718612559465,1814.5523462218323,1695.4588483836458,1595.5649356324413,1510.2797925884263,1436.407325372674,1371.646302595989,1314.2929717287946,1263.0559633191376,1216.9366460007445,1175.1492626191234,1137.0661247002909,1102.179085990684,1070.071880421553,1040.3998849676982,1012.8750648291144,987.2546044779363,963.3322050309284]}],                        {\"template\":{\"data\":{\"bar\":[{\"error_x\":{\"color\":\"#2a3f5f\"},\"error_y\":{\"color\":\"#2a3f5f\"},\"marker\":{\"line\":{\"color\":\"white\",\"width\":0.5},\"pattern\":{\"fillmode\":\"overlay\",\"size\":10,\"solidity\":0.2}},\"type\":\"bar\"}],\"barpolar\":[{\"marker\":{\"line\":{\"color\":\"white\",\"width\":0.5},\"pattern\":{\"fillmode\":\"overlay\",\"size\":10,\"solidity\":0.2}},\"type\":\"barpolar\"}],\"carpet\":[{\"aaxis\":{\"endlinecolor\":\"#2a3f5f\",\"gridcolor\":\"#C8D4E3\",\"linecolor\":\"#C8D4E3\",\"minorgridcolor\":\"#C8D4E3\",\"startlinecolor\":\"#2a3f5f\"},\"baxis\":{\"endlinecolor\":\"#2a3f5f\",\"gridcolor\":\"#C8D4E3\",\"linecolor\":\"#C8D4E3\",\"minorgridcolor\":\"#C8D4E3\",\"startlinecolor\":\"#2a3f5f\"},\"type\":\"carpet\"}],\"choropleth\":[{\"colorbar\":{\"outlinewidth\":0,\"ticks\":\"\"},\"type\":\"choropleth\"}],\"contour\":[{\"colorbar\":{\"outlinewidth\":0,\"ticks\":\"\"},\"colorscale\":[[0.0,\"#0d0887\"],[0.1111111111111111,\"#46039f\"],[0.2222222222222222,\"#7201a8\"],[0.3333333333333333,\"#9c179e\"],[0.4444444444444444,\"#bd3786\"],[0.5555555555555556,\"#d8576b\"],[0.6666666666666666,\"#ed7953\"],[0.7777777777777778,\"#fb9f3a\"],[0.8888888888888888,\"#fdca26\"],[1.0,\"#f0f921\"]],\"type\":\"contour\"}],\"contourcarpet\":[{\"colorbar\":{\"outlinewidth\":0,\"ticks\":\"\"},\"type\":\"contourcarpet\"}],\"heatmap\":[{\"colorbar\":{\"outlinewidth\":0,\"ticks\":\"\"},\"colorscale\":[[0.0,\"#0d0887\"],[0.1111111111111111,\"#46039f\"],[0.2222222222222222,\"#7201a8\"],[0.3333333333333333,\"#9c179e\"],[0.4444444444444444,\"#bd3786\"],[0.5555555555555556,\"#d8576b\"],[0.6666666666666666,\"#ed7953\"],[0.7777777777777778,\"#fb9f3a\"],[0.8888888888888888,\"#fdca26\"],[1.0,\"#f0f921\"]],\"type\":\"heatmap\"}],\"heatmapgl\":[{\"colorbar\":{\"outlinewidth\":0,\"ticks\":\"\"},\"colorscale\":[[0.0,\"#0d0887\"],[0.1111111111111111,\"#46039f\"],[0.2222222222222222,\"#7201a8\"],[0.3333333333333333,\"#9c179e\"],[0.4444444444444444,\"#bd3786\"],[0.5555555555555556,\"#d8576b\"],[0.6666666666666666,\"#ed7953\"],[0.7777777777777778,\"#fb9f3a\"],[0.8888888888888888,\"#fdca26\"],[1.0,\"#f0f921\"]],\"type\":\"heatmapgl\"}],\"histogram\":[{\"marker\":{\"pattern\":{\"fillmode\":\"overlay\",\"size\":10,\"solidity\":0.2}},\"type\":\"histogram\"}],\"histogram2d\":[{\"colorbar\":{\"outlinewidth\":0,\"ticks\":\"\"},\"colorscale\":[[0.0,\"#0d0887\"],[0.1111111111111111,\"#46039f\"],[0.2222222222222222,\"#7201a8\"],[0.3333333333333333,\"#9c179e\"],[0.4444444444444444,\"#bd3786\"],[0.5555555555555556,\"#d8576b\"],[0.6666666666666666,\"#ed7953\"],[0.7777777777777778,\"#fb9f3a\"],[0.8888888888888888,\"#fdca26\"],[1.0,\"#f0f921\"]],\"type\":\"histogram2d\"}],\"histogram2dcontour\":[{\"colorbar\":{\"outlinewidth\":0,\"ticks\":\"\"},\"colorscale\":[[0.0,\"#0d0887\"],[0.1111111111111111,\"#46039f\"],[0.2222222222222222,\"#7201a8\"],[0.3333333333333333,\"#9c179e\"],[0.4444444444444444,\"#bd3786\"],[0.5555555555555556,\"#d8576b\"],[0.6666666666666666,\"#ed7953\"],[0.7777777777777778,\"#fb9f3a\"],[0.8888888888888888,\"#fdca26\"],[1.0,\"#f0f921\"]],\"type\":\"histogram2dcontour\"}],\"mesh3d\":[{\"colorbar\":{\"outlinewidth\":0,\"ticks\":\"\"},\"type\":\"mesh3d\"}],\"parcoords\":[{\"line\":{\"colorbar\":{\"outlinewidth\":0,\"ticks\":\"\"}},\"type\":\"parcoords\"}],\"pie\":[{\"automargin\":true,\"type\":\"pie\"}],\"scatter\":[{\"marker\":{\"colorbar\":{\"outlinewidth\":0,\"ticks\":\"\"}},\"type\":\"scatter\"}],\"scatter3d\":[{\"line\":{\"colorbar\":{\"outlinewidth\":0,\"ticks\":\"\"}},\"marker\":{\"colorbar\":{\"outlinewidth\":0,\"ticks\":\"\"}},\"type\":\"scatter3d\"}],\"scattercarpet\":[{\"marker\":{\"colorbar\":{\"outlinewidth\":0,\"ticks\":\"\"}},\"type\":\"scattercarpet\"}],\"scattergeo\":[{\"marker\":{\"colorbar\":{\"outlinewidth\":0,\"ticks\":\"\"}},\"type\":\"scattergeo\"}],\"scattergl\":[{\"marker\":{\"colorbar\":{\"outlinewidth\":0,\"ticks\":\"\"}},\"type\":\"scattergl\"}],\"scattermapbox\":[{\"marker\":{\"colorbar\":{\"outlinewidth\":0,\"ticks\":\"\"}},\"type\":\"scattermapbox\"}],\"scatterpolar\":[{\"marker\":{\"colorbar\":{\"outlinewidth\":0,\"ticks\":\"\"}},\"type\":\"scatterpolar\"}],\"scatterpolargl\":[{\"marker\":{\"colorbar\":{\"outlinewidth\":0,\"ticks\":\"\"}},\"type\":\"scatterpolargl\"}],\"scatterternary\":[{\"marker\":{\"colorbar\":{\"outlinewidth\":0,\"ticks\":\"\"}},\"type\":\"scatterternary\"}],\"surface\":[{\"colorbar\":{\"outlinewidth\":0,\"ticks\":\"\"},\"colorscale\":[[0.0,\"#0d0887\"],[0.1111111111111111,\"#46039f\"],[0.2222222222222222,\"#7201a8\"],[0.3333333333333333,\"#9c179e\"],[0.4444444444444444,\"#bd3786\"],[0.5555555555555556,\"#d8576b\"],[0.6666666666666666,\"#ed7953\"],[0.7777777777777778,\"#fb9f3a\"],[0.8888888888888888,\"#fdca26\"],[1.0,\"#f0f921\"]],\"type\":\"surface\"}],\"table\":[{\"cells\":{\"fill\":{\"color\":\"#EBF0F8\"},\"line\":{\"color\":\"white\"}},\"header\":{\"fill\":{\"color\":\"#C8D4E3\"},\"line\":{\"color\":\"white\"}},\"type\":\"table\"}]},\"layout\":{\"annotationdefaults\":{\"arrowcolor\":\"#2a3f5f\",\"arrowhead\":0,\"arrowwidth\":1},\"autotypenumbers\":\"strict\",\"coloraxis\":{\"colorbar\":{\"outlinewidth\":0,\"ticks\":\"\"}},\"colorscale\":{\"diverging\":[[0,\"#8e0152\"],[0.1,\"#c51b7d\"],[0.2,\"#de77ae\"],[0.3,\"#f1b6da\"],[0.4,\"#fde0ef\"],[0.5,\"#f7f7f7\"],[0.6,\"#e6f5d0\"],[0.7,\"#b8e186\"],[0.8,\"#7fbc41\"],[0.9,\"#4d9221\"],[1,\"#276419\"]],\"sequential\":[[0.0,\"#0d0887\"],[0.1111111111111111,\"#46039f\"],[0.2222222222222222,\"#7201a8\"],[0.3333333333333333,\"#9c179e\"],[0.4444444444444444,\"#bd3786\"],[0.5555555555555556,\"#d8576b\"],[0.6666666666666666,\"#ed7953\"],[0.7777777777777778,\"#fb9f3a\"],[0.8888888888888888,\"#fdca26\"],[1.0,\"#f0f921\"]],\"sequentialminus\":[[0.0,\"#0d0887\"],[0.1111111111111111,\"#46039f\"],[0.2222222222222222,\"#7201a8\"],[0.3333333333333333,\"#9c179e\"],[0.4444444444444444,\"#bd3786\"],[0.5555555555555556,\"#d8576b\"],[0.6666666666666666,\"#ed7953\"],[0.7777777777777778,\"#fb9f3a\"],[0.8888888888888888,\"#fdca26\"],[1.0,\"#f0f921\"]]},\"colorway\":[\"#636efa\",\"#EF553B\",\"#00cc96\",\"#ab63fa\",\"#FFA15A\",\"#19d3f3\",\"#FF6692\",\"#B6E880\",\"#FF97FF\",\"#FECB52\"],\"font\":{\"color\":\"#2a3f5f\"},\"geo\":{\"bgcolor\":\"white\",\"lakecolor\":\"white\",\"landcolor\":\"white\",\"showlakes\":true,\"showland\":true,\"subunitcolor\":\"#C8D4E3\"},\"hoverlabel\":{\"align\":\"left\"},\"hovermode\":\"closest\",\"mapbox\":{\"style\":\"light\"},\"paper_bgcolor\":\"white\",\"plot_bgcolor\":\"white\",\"polar\":{\"angularaxis\":{\"gridcolor\":\"#EBF0F8\",\"linecolor\":\"#EBF0F8\",\"ticks\":\"\"},\"bgcolor\":\"white\",\"radialaxis\":{\"gridcolor\":\"#EBF0F8\",\"linecolor\":\"#EBF0F8\",\"ticks\":\"\"}},\"scene\":{\"xaxis\":{\"backgroundcolor\":\"white\",\"gridcolor\":\"#DFE8F3\",\"gridwidth\":2,\"linecolor\":\"#EBF0F8\",\"showbackground\":true,\"ticks\":\"\",\"zerolinecolor\":\"#EBF0F8\"},\"yaxis\":{\"backgroundcolor\":\"white\",\"gridcolor\":\"#DFE8F3\",\"gridwidth\":2,\"linecolor\":\"#EBF0F8\",\"showbackground\":true,\"ticks\":\"\",\"zerolinecolor\":\"#EBF0F8\"},\"zaxis\":{\"backgroundcolor\":\"white\",\"gridcolor\":\"#DFE8F3\",\"gridwidth\":2,\"linecolor\":\"#EBF0F8\",\"showbackground\":true,\"ticks\":\"\",\"zerolinecolor\":\"#EBF0F8\"}},\"shapedefaults\":{\"line\":{\"color\":\"#2a3f5f\"}},\"ternary\":{\"aaxis\":{\"gridcolor\":\"#DFE8F3\",\"linecolor\":\"#A2B1C6\",\"ticks\":\"\"},\"baxis\":{\"gridcolor\":\"#DFE8F3\",\"linecolor\":\"#A2B1C6\",\"ticks\":\"\"},\"bgcolor\":\"white\",\"caxis\":{\"gridcolor\":\"#DFE8F3\",\"linecolor\":\"#A2B1C6\",\"ticks\":\"\"}},\"title\":{\"x\":0.05},\"xaxis\":{\"automargin\":true,\"gridcolor\":\"#EBF0F8\",\"linecolor\":\"#EBF0F8\",\"ticks\":\"\",\"title\":{\"standoff\":15},\"zerolinecolor\":\"#EBF0F8\",\"zerolinewidth\":2},\"yaxis\":{\"automargin\":true,\"gridcolor\":\"#EBF0F8\",\"linecolor\":\"#EBF0F8\",\"ticks\":\"\",\"title\":{\"standoff\":15},\"zerolinecolor\":\"#EBF0F8\",\"zerolinewidth\":2}}}},                        {\"responsive\": true}                    ).then(function(){\n",
       "                            \n",
       "var gd = document.getElementById('c0430b15-3938-4c3b-b775-36f6f771bab4');\n",
       "var x = new MutationObserver(function (mutations, observer) {{\n",
       "        var display = window.getComputedStyle(gd).display;\n",
       "        if (!display || display === 'none') {{\n",
       "            console.log([gd, 'removed!']);\n",
       "            Plotly.purge(gd);\n",
       "            observer.disconnect();\n",
       "        }}\n",
       "}});\n",
       "\n",
       "// Listen for the removal of the full notebook cells\n",
       "var notebookContainer = gd.closest('#notebook-container');\n",
       "if (notebookContainer) {{\n",
       "    x.observe(notebookContainer, {childList: true});\n",
       "}}\n",
       "\n",
       "// Listen for the clearing of the current output cell\n",
       "var outputEl = gd.closest('.output');\n",
       "if (outputEl) {{\n",
       "    x.observe(outputEl, {childList: true});\n",
       "}}\n",
       "\n",
       "                        })                };                });            </script>        </div>"
      ]
     },
     "metadata": {},
     "output_type": "display_data"
    }
   ],
   "source": [
    "traces = [\n",
    "    go.Scatter(name='actual', x=arr.index, y=arr),\n",
    "    go.Scatter(name='power-law', x=x, y=power_fit)\n",
    "]\n",
    "\n",
    "fig = go.Figure(traces)\n",
    "\n",
    "fig.show()"
   ]
  },
  {
   "cell_type": "markdown",
   "id": "e0b95568",
   "metadata": {},
   "source": [
    "### sBG probalistic model"
   ]
  },
  {
   "cell_type": "markdown",
   "id": "ea159a82",
   "metadata": {},
   "source": [
    "sBG model assumptions:\n",
    "1. The propensity of one customer to drop out is independent of the behavior of every other customer.\n",
    "2. Individual customer retention rates are unchanged over time.\n",
    "3. Observed retention increase with time due to aggregate results and heterogenity in customer behaviors.\n",
    "4. Model applies for customer relationships in \"discrete-time\" and \"contractual\" settings."
   ]
  },
  {
   "cell_type": "code",
   "execution_count": 139,
   "id": "9a5a3d03",
   "metadata": {},
   "outputs": [],
   "source": [
    "# initial guesses @ alpha and beta\n",
    "alpha = 1\n",
    "beta = 1"
   ]
  },
  {
   "cell_type": "code",
   "execution_count": 140,
   "id": "36fd2437",
   "metadata": {},
   "outputs": [],
   "source": [
    "def p(t, alpha, beta):\n",
    "    \"\"\"\n",
    "    Probability that a customer fails to take out another loan (probability to churn).\n",
    "    For the derivation of this equation, see the original Fader & Hardie paper. This \n",
    "    recursion formula takes two constants, alpha and beta, which are fit to actual data.\n",
    "    It then allows you to compute the probability of churn for a given time period, t.\n",
    "    \n",
    "    Parameters\n",
    "    ----------\n",
    "    t : int\n",
    "        Time period.\n",
    "    alpha : float\n",
    "        Fitting parameter.\n",
    "    beta : float\n",
    "        Fitting parameter.\n",
    "    \n",
    "    Returns\n",
    "    -------\n",
    "    P : float\n",
    "        Probability of churn.\n",
    "    \"\"\"\n",
    "    \n",
    "    if t==1:\n",
    "        return alpha/(alpha + beta)\n",
    "    else:\n",
    "        return p(t-1, alpha, beta) * (beta+t-2)/(alpha+beta+t-1)\n",
    "    \n",
    "def s(t, alpha, beta):\n",
    "    \"\"\"\n",
    "    Survival function: the probability that a customer has survived to time t.\n",
    "    For the derivation of this equation, see the original Fader & Hardie paper. This \n",
    "    recursion formula takes two constants, alpha and beta, which are fit to actual data.\n",
    "    It also requires computation of P (probability of a customer churning).\n",
    "    \n",
    "    Parameters\n",
    "    ----------\n",
    "    t : int\n",
    "        Time period.\n",
    "    alpha : float\n",
    "        Fitting parameter.\n",
    "    beta : float\n",
    "        Fitting parameter.\n",
    "    \n",
    "    Returns\n",
    "    -------\n",
    "    P : float\n",
    "        Probability of churn.\n",
    "    \"\"\"\n",
    "    \n",
    "    if t==1:\n",
    "        return 1 - p(t, alpha, beta)\n",
    "    else:\n",
    "        return s(t-1, alpha, beta) - p(t, alpha, beta)\n",
    "    \n",
    "def log_likelihood(params, c):\n",
    "    \"\"\"\n",
    "    Computes the *negative* log-likelihood of the probability distribution of customers\n",
    "    still being active at time t. For a derivation of the log-likelihood, see Appendix A\n",
    "    in the original Fader & Hardie paper. The function computes the log-likelihood at \n",
    "    every time step, t, leading up to the last time period T. The final value is simply\n",
    "    the sum of the log-likelihood computed at each time step. In the end, we return the \n",
    "    negative of the log-likelihood so that we can use scipy's minimize function to optimize\n",
    "    for the values of alpha and beta.\n",
    "    \n",
    "    \n",
    "    Parameters\n",
    "    ----------\n",
    "    params : array\n",
    "        Array containing alpha and beta values.\n",
    "    c : array\n",
    "        Array containing borrower count for a given cohort.\n",
    "    \n",
    "    Returns\n",
    "    -------\n",
    "    ll : float\n",
    "        log-likelihood value\n",
    "    \"\"\"\n",
    "        \n",
    "    alpha, beta = params\n",
    "    \n",
    "    # initialize log-likelihood (ll) value at 0\n",
    "    ll=0\n",
    "    \n",
    "    # for each time period in the *actual* data, compute ll and add it to the running total\n",
    "    for t in c[1:].index:\n",
    "        ll += (c[t-1]-c[t])*np.log(p(t, alpha, beta))\n",
    "    \n",
    "    # add the final term which associated with customers who are still active at the end\n",
    "    # of the final period.\n",
    "    ll += c.iloc[-1]*np.log(s((len(c)-1)-1, alpha, beta)-p(len(c)-1, alpha, beta))\n",
    "    \n",
    "    return -ll"
   ]
  },
  {
   "cell_type": "code",
   "execution_count": 141,
   "id": "7105f4e2",
   "metadata": {},
   "outputs": [],
   "source": [
    "cohort = '2020-09'"
   ]
  },
  {
   "cell_type": "code",
   "execution_count": 142,
   "id": "1501901e",
   "metadata": {},
   "outputs": [],
   "source": [
    "c = m.data[m.data['First Loan Local Disbursement Month']==cohort]['Count Borrowers']\n",
    "c = c.reset_index(drop=True)"
   ]
  },
  {
   "cell_type": "code",
   "execution_count": 147,
   "id": "b0825d1c",
   "metadata": {},
   "outputs": [
    {
     "data": {
      "text/plain": [
       "      fun: 15970.457182334316\n",
       " hess_inv: <2x2 LbfgsInvHessProduct with dtype=float64>\n",
       "      jac: array([-0.0001819, -0.0001819])\n",
       "  message: 'CONVERGENCE: REL_REDUCTION_OF_F_<=_FACTR*EPSMCH'\n",
       "     nfev: 36\n",
       "      nit: 9\n",
       "     njev: 12\n",
       "   status: 0\n",
       "  success: True\n",
       "        x: array([0.71002432, 1.04180686])"
      ]
     },
     "execution_count": 147,
     "metadata": {},
     "output_type": "execute_result"
    }
   ],
   "source": [
    "# since we're working with logs, we need bounds for alpha and beta > 0.\n",
    "bounds = ((0,None), (0,None))\n",
    "\n",
    "results = minimize(log_likelihood, np.array([1,1]), args=c, bounds=bounds)\n",
    "results"
   ]
  },
  {
   "cell_type": "code",
   "execution_count": 148,
   "id": "fa1302e6",
   "metadata": {},
   "outputs": [],
   "source": [
    "alpha_opt, beta_opt = results.x\n",
    "\n",
    "sBG_forecast = []\n",
    "for i in x:\n",
    "    sBG_forecast.append(s(i, alpha_opt, beta_opt))"
   ]
  },
  {
   "cell_type": "code",
   "execution_count": 149,
   "id": "cbebf7e6",
   "metadata": {},
   "outputs": [],
   "source": [
    "arr = m.data[m.data['First Loan Local Disbursement Month']==cohort].loc[1:, 'borrower_retention']\n",
    "arr = arr.dropna()\n",
    "\n",
    "power_param, power_cov = curve_fit(power_law, arr.index, arr)\n",
    "power_fit = power_law(x, power_param[0], power_param[1])"
   ]
  },
  {
   "cell_type": "code",
   "execution_count": 150,
   "id": "054a573d",
   "metadata": {},
   "outputs": [
    {
     "data": {
      "application/vnd.plotly.v1+json": {
       "config": {
        "plotlyServerURL": "https://plot.ly"
       },
       "data": [
        {
         "name": "actual",
         "type": "scatter",
         "x": [
          1,
          2,
          3,
          4,
          5,
          6,
          7,
          8,
          9,
          10,
          11,
          12,
          13,
          14,
          15,
          16
         ],
         "y": [
          0.5744135367260608,
          0.46929880784514805,
          0.39097551595949237,
          0.32675298038712985,
          0.278169465453147,
          0.25022433021407514,
          0.21445968465581336,
          0.20433277784899373,
          0.18318164337905396,
          0.17459300089732085,
          0.1593385463402128,
          0.1508780925522369,
          0.1412639405204461,
          0.13511088322009998,
          0.11447250352518908,
          0.11742084348160492
         ]
        },
        {
         "name": "power-law",
         "type": "scatter",
         "x": [
          1,
          2,
          3,
          4,
          5,
          6,
          7,
          8,
          9,
          10,
          11,
          12,
          13,
          14,
          15,
          16,
          17,
          18,
          19,
          20,
          21,
          22,
          23,
          24
         ],
         "y": [
          0.6200790651430809,
          0.4282216795351326,
          0.3448413246370648,
          0.29572649220398534,
          0.2625011085999583,
          0.23814468107406572,
          0.21932340729440067,
          0.20422636772199854,
          0.19177480076674774,
          0.18128118158378806,
          0.17228407049706795,
          0.16446082610185161,
          0.1575782318413928,
          0.15146300385307276,
          0.14598336743947354,
          0.14103710818086415,
          0.1365435711981317,
          0.13243815489546126,
          0.12866842979570908,
          0.12519134479731323,
          0.12197117843006659,
          0.11897801130954187,
          0.11618657010767845,
          0.11357534083951024
         ]
        },
        {
         "name": "sBG",
         "type": "scatter",
         "x": [
          1,
          2,
          3,
          4,
          5,
          6,
          7,
          8,
          9,
          10,
          11,
          12,
          13,
          14,
          15,
          16,
          17,
          18,
          19,
          20,
          21,
          22,
          23,
          24
         ],
         "y": [
          0.5946959229088402,
          0.441253164062692,
          0.357747147223719,
          0.3042921389801004,
          0.26672935031800293,
          0.2386800225850404,
          0.2168182693056595,
          0.19922809405529018,
          0.1847224294894827,
          0.1725238174404279,
          0.1621002413796627,
          0.15307446994104631,
          0.1451710427534599,
          0.13818377658592518,
          0.1319550504852412,
          0.12636215177560095,
          0.12130801398112906,
          0.11671477509631266,
          0.11251919808541572,
          0.10866935146634042,
          0.10512216126695925,
          0.10184157736667043,
          0.09879718065593628,
          0.09596311151155987
         ]
        }
       ],
       "layout": {
        "template": {
         "data": {
          "bar": [
           {
            "error_x": {
             "color": "#2a3f5f"
            },
            "error_y": {
             "color": "#2a3f5f"
            },
            "marker": {
             "line": {
              "color": "white",
              "width": 0.5
             },
             "pattern": {
              "fillmode": "overlay",
              "size": 10,
              "solidity": 0.2
             }
            },
            "type": "bar"
           }
          ],
          "barpolar": [
           {
            "marker": {
             "line": {
              "color": "white",
              "width": 0.5
             },
             "pattern": {
              "fillmode": "overlay",
              "size": 10,
              "solidity": 0.2
             }
            },
            "type": "barpolar"
           }
          ],
          "carpet": [
           {
            "aaxis": {
             "endlinecolor": "#2a3f5f",
             "gridcolor": "#C8D4E3",
             "linecolor": "#C8D4E3",
             "minorgridcolor": "#C8D4E3",
             "startlinecolor": "#2a3f5f"
            },
            "baxis": {
             "endlinecolor": "#2a3f5f",
             "gridcolor": "#C8D4E3",
             "linecolor": "#C8D4E3",
             "minorgridcolor": "#C8D4E3",
             "startlinecolor": "#2a3f5f"
            },
            "type": "carpet"
           }
          ],
          "choropleth": [
           {
            "colorbar": {
             "outlinewidth": 0,
             "ticks": ""
            },
            "type": "choropleth"
           }
          ],
          "contour": [
           {
            "colorbar": {
             "outlinewidth": 0,
             "ticks": ""
            },
            "colorscale": [
             [
              0,
              "#0d0887"
             ],
             [
              0.1111111111111111,
              "#46039f"
             ],
             [
              0.2222222222222222,
              "#7201a8"
             ],
             [
              0.3333333333333333,
              "#9c179e"
             ],
             [
              0.4444444444444444,
              "#bd3786"
             ],
             [
              0.5555555555555556,
              "#d8576b"
             ],
             [
              0.6666666666666666,
              "#ed7953"
             ],
             [
              0.7777777777777778,
              "#fb9f3a"
             ],
             [
              0.8888888888888888,
              "#fdca26"
             ],
             [
              1,
              "#f0f921"
             ]
            ],
            "type": "contour"
           }
          ],
          "contourcarpet": [
           {
            "colorbar": {
             "outlinewidth": 0,
             "ticks": ""
            },
            "type": "contourcarpet"
           }
          ],
          "heatmap": [
           {
            "colorbar": {
             "outlinewidth": 0,
             "ticks": ""
            },
            "colorscale": [
             [
              0,
              "#0d0887"
             ],
             [
              0.1111111111111111,
              "#46039f"
             ],
             [
              0.2222222222222222,
              "#7201a8"
             ],
             [
              0.3333333333333333,
              "#9c179e"
             ],
             [
              0.4444444444444444,
              "#bd3786"
             ],
             [
              0.5555555555555556,
              "#d8576b"
             ],
             [
              0.6666666666666666,
              "#ed7953"
             ],
             [
              0.7777777777777778,
              "#fb9f3a"
             ],
             [
              0.8888888888888888,
              "#fdca26"
             ],
             [
              1,
              "#f0f921"
             ]
            ],
            "type": "heatmap"
           }
          ],
          "heatmapgl": [
           {
            "colorbar": {
             "outlinewidth": 0,
             "ticks": ""
            },
            "colorscale": [
             [
              0,
              "#0d0887"
             ],
             [
              0.1111111111111111,
              "#46039f"
             ],
             [
              0.2222222222222222,
              "#7201a8"
             ],
             [
              0.3333333333333333,
              "#9c179e"
             ],
             [
              0.4444444444444444,
              "#bd3786"
             ],
             [
              0.5555555555555556,
              "#d8576b"
             ],
             [
              0.6666666666666666,
              "#ed7953"
             ],
             [
              0.7777777777777778,
              "#fb9f3a"
             ],
             [
              0.8888888888888888,
              "#fdca26"
             ],
             [
              1,
              "#f0f921"
             ]
            ],
            "type": "heatmapgl"
           }
          ],
          "histogram": [
           {
            "marker": {
             "pattern": {
              "fillmode": "overlay",
              "size": 10,
              "solidity": 0.2
             }
            },
            "type": "histogram"
           }
          ],
          "histogram2d": [
           {
            "colorbar": {
             "outlinewidth": 0,
             "ticks": ""
            },
            "colorscale": [
             [
              0,
              "#0d0887"
             ],
             [
              0.1111111111111111,
              "#46039f"
             ],
             [
              0.2222222222222222,
              "#7201a8"
             ],
             [
              0.3333333333333333,
              "#9c179e"
             ],
             [
              0.4444444444444444,
              "#bd3786"
             ],
             [
              0.5555555555555556,
              "#d8576b"
             ],
             [
              0.6666666666666666,
              "#ed7953"
             ],
             [
              0.7777777777777778,
              "#fb9f3a"
             ],
             [
              0.8888888888888888,
              "#fdca26"
             ],
             [
              1,
              "#f0f921"
             ]
            ],
            "type": "histogram2d"
           }
          ],
          "histogram2dcontour": [
           {
            "colorbar": {
             "outlinewidth": 0,
             "ticks": ""
            },
            "colorscale": [
             [
              0,
              "#0d0887"
             ],
             [
              0.1111111111111111,
              "#46039f"
             ],
             [
              0.2222222222222222,
              "#7201a8"
             ],
             [
              0.3333333333333333,
              "#9c179e"
             ],
             [
              0.4444444444444444,
              "#bd3786"
             ],
             [
              0.5555555555555556,
              "#d8576b"
             ],
             [
              0.6666666666666666,
              "#ed7953"
             ],
             [
              0.7777777777777778,
              "#fb9f3a"
             ],
             [
              0.8888888888888888,
              "#fdca26"
             ],
             [
              1,
              "#f0f921"
             ]
            ],
            "type": "histogram2dcontour"
           }
          ],
          "mesh3d": [
           {
            "colorbar": {
             "outlinewidth": 0,
             "ticks": ""
            },
            "type": "mesh3d"
           }
          ],
          "parcoords": [
           {
            "line": {
             "colorbar": {
              "outlinewidth": 0,
              "ticks": ""
             }
            },
            "type": "parcoords"
           }
          ],
          "pie": [
           {
            "automargin": true,
            "type": "pie"
           }
          ],
          "scatter": [
           {
            "marker": {
             "colorbar": {
              "outlinewidth": 0,
              "ticks": ""
             }
            },
            "type": "scatter"
           }
          ],
          "scatter3d": [
           {
            "line": {
             "colorbar": {
              "outlinewidth": 0,
              "ticks": ""
             }
            },
            "marker": {
             "colorbar": {
              "outlinewidth": 0,
              "ticks": ""
             }
            },
            "type": "scatter3d"
           }
          ],
          "scattercarpet": [
           {
            "marker": {
             "colorbar": {
              "outlinewidth": 0,
              "ticks": ""
             }
            },
            "type": "scattercarpet"
           }
          ],
          "scattergeo": [
           {
            "marker": {
             "colorbar": {
              "outlinewidth": 0,
              "ticks": ""
             }
            },
            "type": "scattergeo"
           }
          ],
          "scattergl": [
           {
            "marker": {
             "colorbar": {
              "outlinewidth": 0,
              "ticks": ""
             }
            },
            "type": "scattergl"
           }
          ],
          "scattermapbox": [
           {
            "marker": {
             "colorbar": {
              "outlinewidth": 0,
              "ticks": ""
             }
            },
            "type": "scattermapbox"
           }
          ],
          "scatterpolar": [
           {
            "marker": {
             "colorbar": {
              "outlinewidth": 0,
              "ticks": ""
             }
            },
            "type": "scatterpolar"
           }
          ],
          "scatterpolargl": [
           {
            "marker": {
             "colorbar": {
              "outlinewidth": 0,
              "ticks": ""
             }
            },
            "type": "scatterpolargl"
           }
          ],
          "scatterternary": [
           {
            "marker": {
             "colorbar": {
              "outlinewidth": 0,
              "ticks": ""
             }
            },
            "type": "scatterternary"
           }
          ],
          "surface": [
           {
            "colorbar": {
             "outlinewidth": 0,
             "ticks": ""
            },
            "colorscale": [
             [
              0,
              "#0d0887"
             ],
             [
              0.1111111111111111,
              "#46039f"
             ],
             [
              0.2222222222222222,
              "#7201a8"
             ],
             [
              0.3333333333333333,
              "#9c179e"
             ],
             [
              0.4444444444444444,
              "#bd3786"
             ],
             [
              0.5555555555555556,
              "#d8576b"
             ],
             [
              0.6666666666666666,
              "#ed7953"
             ],
             [
              0.7777777777777778,
              "#fb9f3a"
             ],
             [
              0.8888888888888888,
              "#fdca26"
             ],
             [
              1,
              "#f0f921"
             ]
            ],
            "type": "surface"
           }
          ],
          "table": [
           {
            "cells": {
             "fill": {
              "color": "#EBF0F8"
             },
             "line": {
              "color": "white"
             }
            },
            "header": {
             "fill": {
              "color": "#C8D4E3"
             },
             "line": {
              "color": "white"
             }
            },
            "type": "table"
           }
          ]
         },
         "layout": {
          "annotationdefaults": {
           "arrowcolor": "#2a3f5f",
           "arrowhead": 0,
           "arrowwidth": 1
          },
          "autotypenumbers": "strict",
          "coloraxis": {
           "colorbar": {
            "outlinewidth": 0,
            "ticks": ""
           }
          },
          "colorscale": {
           "diverging": [
            [
             0,
             "#8e0152"
            ],
            [
             0.1,
             "#c51b7d"
            ],
            [
             0.2,
             "#de77ae"
            ],
            [
             0.3,
             "#f1b6da"
            ],
            [
             0.4,
             "#fde0ef"
            ],
            [
             0.5,
             "#f7f7f7"
            ],
            [
             0.6,
             "#e6f5d0"
            ],
            [
             0.7,
             "#b8e186"
            ],
            [
             0.8,
             "#7fbc41"
            ],
            [
             0.9,
             "#4d9221"
            ],
            [
             1,
             "#276419"
            ]
           ],
           "sequential": [
            [
             0,
             "#0d0887"
            ],
            [
             0.1111111111111111,
             "#46039f"
            ],
            [
             0.2222222222222222,
             "#7201a8"
            ],
            [
             0.3333333333333333,
             "#9c179e"
            ],
            [
             0.4444444444444444,
             "#bd3786"
            ],
            [
             0.5555555555555556,
             "#d8576b"
            ],
            [
             0.6666666666666666,
             "#ed7953"
            ],
            [
             0.7777777777777778,
             "#fb9f3a"
            ],
            [
             0.8888888888888888,
             "#fdca26"
            ],
            [
             1,
             "#f0f921"
            ]
           ],
           "sequentialminus": [
            [
             0,
             "#0d0887"
            ],
            [
             0.1111111111111111,
             "#46039f"
            ],
            [
             0.2222222222222222,
             "#7201a8"
            ],
            [
             0.3333333333333333,
             "#9c179e"
            ],
            [
             0.4444444444444444,
             "#bd3786"
            ],
            [
             0.5555555555555556,
             "#d8576b"
            ],
            [
             0.6666666666666666,
             "#ed7953"
            ],
            [
             0.7777777777777778,
             "#fb9f3a"
            ],
            [
             0.8888888888888888,
             "#fdca26"
            ],
            [
             1,
             "#f0f921"
            ]
           ]
          },
          "colorway": [
           "#636efa",
           "#EF553B",
           "#00cc96",
           "#ab63fa",
           "#FFA15A",
           "#19d3f3",
           "#FF6692",
           "#B6E880",
           "#FF97FF",
           "#FECB52"
          ],
          "font": {
           "color": "#2a3f5f"
          },
          "geo": {
           "bgcolor": "white",
           "lakecolor": "white",
           "landcolor": "white",
           "showlakes": true,
           "showland": true,
           "subunitcolor": "#C8D4E3"
          },
          "hoverlabel": {
           "align": "left"
          },
          "hovermode": "closest",
          "mapbox": {
           "style": "light"
          },
          "paper_bgcolor": "white",
          "plot_bgcolor": "white",
          "polar": {
           "angularaxis": {
            "gridcolor": "#EBF0F8",
            "linecolor": "#EBF0F8",
            "ticks": ""
           },
           "bgcolor": "white",
           "radialaxis": {
            "gridcolor": "#EBF0F8",
            "linecolor": "#EBF0F8",
            "ticks": ""
           }
          },
          "scene": {
           "xaxis": {
            "backgroundcolor": "white",
            "gridcolor": "#DFE8F3",
            "gridwidth": 2,
            "linecolor": "#EBF0F8",
            "showbackground": true,
            "ticks": "",
            "zerolinecolor": "#EBF0F8"
           },
           "yaxis": {
            "backgroundcolor": "white",
            "gridcolor": "#DFE8F3",
            "gridwidth": 2,
            "linecolor": "#EBF0F8",
            "showbackground": true,
            "ticks": "",
            "zerolinecolor": "#EBF0F8"
           },
           "zaxis": {
            "backgroundcolor": "white",
            "gridcolor": "#DFE8F3",
            "gridwidth": 2,
            "linecolor": "#EBF0F8",
            "showbackground": true,
            "ticks": "",
            "zerolinecolor": "#EBF0F8"
           }
          },
          "shapedefaults": {
           "line": {
            "color": "#2a3f5f"
           }
          },
          "ternary": {
           "aaxis": {
            "gridcolor": "#DFE8F3",
            "linecolor": "#A2B1C6",
            "ticks": ""
           },
           "baxis": {
            "gridcolor": "#DFE8F3",
            "linecolor": "#A2B1C6",
            "ticks": ""
           },
           "bgcolor": "white",
           "caxis": {
            "gridcolor": "#DFE8F3",
            "linecolor": "#A2B1C6",
            "ticks": ""
           }
          },
          "title": {
           "x": 0.05
          },
          "xaxis": {
           "automargin": true,
           "gridcolor": "#EBF0F8",
           "linecolor": "#EBF0F8",
           "ticks": "",
           "title": {
            "standoff": 15
           },
           "zerolinecolor": "#EBF0F8",
           "zerolinewidth": 2
          },
          "yaxis": {
           "automargin": true,
           "gridcolor": "#EBF0F8",
           "linecolor": "#EBF0F8",
           "ticks": "",
           "title": {
            "standoff": 15
           },
           "zerolinecolor": "#EBF0F8",
           "zerolinewidth": 2
          }
         }
        },
        "xaxis": {
         "title": {
          "text": "Months Since First Loan"
         }
        },
        "yaxis": {
         "title": {
          "text": "Retention (%)"
         }
        }
       }
      },
      "text/html": [
       "<div>                            <div id=\"6cee0e1e-08d5-44b1-a01e-0af2632247c6\" class=\"plotly-graph-div\" style=\"height:525px; width:100%;\"></div>            <script type=\"text/javascript\">                require([\"plotly\"], function(Plotly) {                    window.PLOTLYENV=window.PLOTLYENV || {};                                    if (document.getElementById(\"6cee0e1e-08d5-44b1-a01e-0af2632247c6\")) {                    Plotly.newPlot(                        \"6cee0e1e-08d5-44b1-a01e-0af2632247c6\",                        [{\"name\":\"actual\",\"type\":\"scatter\",\"x\":[1,2,3,4,5,6,7,8,9,10,11,12,13,14,15,16],\"y\":[0.5744135367260608,0.46929880784514805,0.39097551595949237,0.32675298038712985,0.278169465453147,0.25022433021407514,0.21445968465581336,0.20433277784899373,0.18318164337905396,0.17459300089732085,0.1593385463402128,0.1508780925522369,0.1412639405204461,0.13511088322009998,0.11447250352518908,0.11742084348160492]},{\"name\":\"power-law\",\"type\":\"scatter\",\"x\":[1,2,3,4,5,6,7,8,9,10,11,12,13,14,15,16,17,18,19,20,21,22,23,24],\"y\":[0.6200790651430809,0.4282216795351326,0.3448413246370648,0.29572649220398534,0.2625011085999583,0.23814468107406572,0.21932340729440067,0.20422636772199854,0.19177480076674774,0.18128118158378806,0.17228407049706795,0.16446082610185161,0.1575782318413928,0.15146300385307276,0.14598336743947354,0.14103710818086415,0.1365435711981317,0.13243815489546126,0.12866842979570908,0.12519134479731323,0.12197117843006659,0.11897801130954187,0.11618657010767845,0.11357534083951024]},{\"name\":\"sBG\",\"type\":\"scatter\",\"x\":[1,2,3,4,5,6,7,8,9,10,11,12,13,14,15,16,17,18,19,20,21,22,23,24],\"y\":[0.5946959229088402,0.441253164062692,0.357747147223719,0.3042921389801004,0.26672935031800293,0.2386800225850404,0.2168182693056595,0.19922809405529018,0.1847224294894827,0.1725238174404279,0.1621002413796627,0.15307446994104631,0.1451710427534599,0.13818377658592518,0.1319550504852412,0.12636215177560095,0.12130801398112906,0.11671477509631266,0.11251919808541572,0.10866935146634042,0.10512216126695925,0.10184157736667043,0.09879718065593628,0.09596311151155987]}],                        {\"template\":{\"data\":{\"bar\":[{\"error_x\":{\"color\":\"#2a3f5f\"},\"error_y\":{\"color\":\"#2a3f5f\"},\"marker\":{\"line\":{\"color\":\"white\",\"width\":0.5},\"pattern\":{\"fillmode\":\"overlay\",\"size\":10,\"solidity\":0.2}},\"type\":\"bar\"}],\"barpolar\":[{\"marker\":{\"line\":{\"color\":\"white\",\"width\":0.5},\"pattern\":{\"fillmode\":\"overlay\",\"size\":10,\"solidity\":0.2}},\"type\":\"barpolar\"}],\"carpet\":[{\"aaxis\":{\"endlinecolor\":\"#2a3f5f\",\"gridcolor\":\"#C8D4E3\",\"linecolor\":\"#C8D4E3\",\"minorgridcolor\":\"#C8D4E3\",\"startlinecolor\":\"#2a3f5f\"},\"baxis\":{\"endlinecolor\":\"#2a3f5f\",\"gridcolor\":\"#C8D4E3\",\"linecolor\":\"#C8D4E3\",\"minorgridcolor\":\"#C8D4E3\",\"startlinecolor\":\"#2a3f5f\"},\"type\":\"carpet\"}],\"choropleth\":[{\"colorbar\":{\"outlinewidth\":0,\"ticks\":\"\"},\"type\":\"choropleth\"}],\"contour\":[{\"colorbar\":{\"outlinewidth\":0,\"ticks\":\"\"},\"colorscale\":[[0.0,\"#0d0887\"],[0.1111111111111111,\"#46039f\"],[0.2222222222222222,\"#7201a8\"],[0.3333333333333333,\"#9c179e\"],[0.4444444444444444,\"#bd3786\"],[0.5555555555555556,\"#d8576b\"],[0.6666666666666666,\"#ed7953\"],[0.7777777777777778,\"#fb9f3a\"],[0.8888888888888888,\"#fdca26\"],[1.0,\"#f0f921\"]],\"type\":\"contour\"}],\"contourcarpet\":[{\"colorbar\":{\"outlinewidth\":0,\"ticks\":\"\"},\"type\":\"contourcarpet\"}],\"heatmap\":[{\"colorbar\":{\"outlinewidth\":0,\"ticks\":\"\"},\"colorscale\":[[0.0,\"#0d0887\"],[0.1111111111111111,\"#46039f\"],[0.2222222222222222,\"#7201a8\"],[0.3333333333333333,\"#9c179e\"],[0.4444444444444444,\"#bd3786\"],[0.5555555555555556,\"#d8576b\"],[0.6666666666666666,\"#ed7953\"],[0.7777777777777778,\"#fb9f3a\"],[0.8888888888888888,\"#fdca26\"],[1.0,\"#f0f921\"]],\"type\":\"heatmap\"}],\"heatmapgl\":[{\"colorbar\":{\"outlinewidth\":0,\"ticks\":\"\"},\"colorscale\":[[0.0,\"#0d0887\"],[0.1111111111111111,\"#46039f\"],[0.2222222222222222,\"#7201a8\"],[0.3333333333333333,\"#9c179e\"],[0.4444444444444444,\"#bd3786\"],[0.5555555555555556,\"#d8576b\"],[0.6666666666666666,\"#ed7953\"],[0.7777777777777778,\"#fb9f3a\"],[0.8888888888888888,\"#fdca26\"],[1.0,\"#f0f921\"]],\"type\":\"heatmapgl\"}],\"histogram\":[{\"marker\":{\"pattern\":{\"fillmode\":\"overlay\",\"size\":10,\"solidity\":0.2}},\"type\":\"histogram\"}],\"histogram2d\":[{\"colorbar\":{\"outlinewidth\":0,\"ticks\":\"\"},\"colorscale\":[[0.0,\"#0d0887\"],[0.1111111111111111,\"#46039f\"],[0.2222222222222222,\"#7201a8\"],[0.3333333333333333,\"#9c179e\"],[0.4444444444444444,\"#bd3786\"],[0.5555555555555556,\"#d8576b\"],[0.6666666666666666,\"#ed7953\"],[0.7777777777777778,\"#fb9f3a\"],[0.8888888888888888,\"#fdca26\"],[1.0,\"#f0f921\"]],\"type\":\"histogram2d\"}],\"histogram2dcontour\":[{\"colorbar\":{\"outlinewidth\":0,\"ticks\":\"\"},\"colorscale\":[[0.0,\"#0d0887\"],[0.1111111111111111,\"#46039f\"],[0.2222222222222222,\"#7201a8\"],[0.3333333333333333,\"#9c179e\"],[0.4444444444444444,\"#bd3786\"],[0.5555555555555556,\"#d8576b\"],[0.6666666666666666,\"#ed7953\"],[0.7777777777777778,\"#fb9f3a\"],[0.8888888888888888,\"#fdca26\"],[1.0,\"#f0f921\"]],\"type\":\"histogram2dcontour\"}],\"mesh3d\":[{\"colorbar\":{\"outlinewidth\":0,\"ticks\":\"\"},\"type\":\"mesh3d\"}],\"parcoords\":[{\"line\":{\"colorbar\":{\"outlinewidth\":0,\"ticks\":\"\"}},\"type\":\"parcoords\"}],\"pie\":[{\"automargin\":true,\"type\":\"pie\"}],\"scatter\":[{\"marker\":{\"colorbar\":{\"outlinewidth\":0,\"ticks\":\"\"}},\"type\":\"scatter\"}],\"scatter3d\":[{\"line\":{\"colorbar\":{\"outlinewidth\":0,\"ticks\":\"\"}},\"marker\":{\"colorbar\":{\"outlinewidth\":0,\"ticks\":\"\"}},\"type\":\"scatter3d\"}],\"scattercarpet\":[{\"marker\":{\"colorbar\":{\"outlinewidth\":0,\"ticks\":\"\"}},\"type\":\"scattercarpet\"}],\"scattergeo\":[{\"marker\":{\"colorbar\":{\"outlinewidth\":0,\"ticks\":\"\"}},\"type\":\"scattergeo\"}],\"scattergl\":[{\"marker\":{\"colorbar\":{\"outlinewidth\":0,\"ticks\":\"\"}},\"type\":\"scattergl\"}],\"scattermapbox\":[{\"marker\":{\"colorbar\":{\"outlinewidth\":0,\"ticks\":\"\"}},\"type\":\"scattermapbox\"}],\"scatterpolar\":[{\"marker\":{\"colorbar\":{\"outlinewidth\":0,\"ticks\":\"\"}},\"type\":\"scatterpolar\"}],\"scatterpolargl\":[{\"marker\":{\"colorbar\":{\"outlinewidth\":0,\"ticks\":\"\"}},\"type\":\"scatterpolargl\"}],\"scatterternary\":[{\"marker\":{\"colorbar\":{\"outlinewidth\":0,\"ticks\":\"\"}},\"type\":\"scatterternary\"}],\"surface\":[{\"colorbar\":{\"outlinewidth\":0,\"ticks\":\"\"},\"colorscale\":[[0.0,\"#0d0887\"],[0.1111111111111111,\"#46039f\"],[0.2222222222222222,\"#7201a8\"],[0.3333333333333333,\"#9c179e\"],[0.4444444444444444,\"#bd3786\"],[0.5555555555555556,\"#d8576b\"],[0.6666666666666666,\"#ed7953\"],[0.7777777777777778,\"#fb9f3a\"],[0.8888888888888888,\"#fdca26\"],[1.0,\"#f0f921\"]],\"type\":\"surface\"}],\"table\":[{\"cells\":{\"fill\":{\"color\":\"#EBF0F8\"},\"line\":{\"color\":\"white\"}},\"header\":{\"fill\":{\"color\":\"#C8D4E3\"},\"line\":{\"color\":\"white\"}},\"type\":\"table\"}]},\"layout\":{\"annotationdefaults\":{\"arrowcolor\":\"#2a3f5f\",\"arrowhead\":0,\"arrowwidth\":1},\"autotypenumbers\":\"strict\",\"coloraxis\":{\"colorbar\":{\"outlinewidth\":0,\"ticks\":\"\"}},\"colorscale\":{\"diverging\":[[0,\"#8e0152\"],[0.1,\"#c51b7d\"],[0.2,\"#de77ae\"],[0.3,\"#f1b6da\"],[0.4,\"#fde0ef\"],[0.5,\"#f7f7f7\"],[0.6,\"#e6f5d0\"],[0.7,\"#b8e186\"],[0.8,\"#7fbc41\"],[0.9,\"#4d9221\"],[1,\"#276419\"]],\"sequential\":[[0.0,\"#0d0887\"],[0.1111111111111111,\"#46039f\"],[0.2222222222222222,\"#7201a8\"],[0.3333333333333333,\"#9c179e\"],[0.4444444444444444,\"#bd3786\"],[0.5555555555555556,\"#d8576b\"],[0.6666666666666666,\"#ed7953\"],[0.7777777777777778,\"#fb9f3a\"],[0.8888888888888888,\"#fdca26\"],[1.0,\"#f0f921\"]],\"sequentialminus\":[[0.0,\"#0d0887\"],[0.1111111111111111,\"#46039f\"],[0.2222222222222222,\"#7201a8\"],[0.3333333333333333,\"#9c179e\"],[0.4444444444444444,\"#bd3786\"],[0.5555555555555556,\"#d8576b\"],[0.6666666666666666,\"#ed7953\"],[0.7777777777777778,\"#fb9f3a\"],[0.8888888888888888,\"#fdca26\"],[1.0,\"#f0f921\"]]},\"colorway\":[\"#636efa\",\"#EF553B\",\"#00cc96\",\"#ab63fa\",\"#FFA15A\",\"#19d3f3\",\"#FF6692\",\"#B6E880\",\"#FF97FF\",\"#FECB52\"],\"font\":{\"color\":\"#2a3f5f\"},\"geo\":{\"bgcolor\":\"white\",\"lakecolor\":\"white\",\"landcolor\":\"white\",\"showlakes\":true,\"showland\":true,\"subunitcolor\":\"#C8D4E3\"},\"hoverlabel\":{\"align\":\"left\"},\"hovermode\":\"closest\",\"mapbox\":{\"style\":\"light\"},\"paper_bgcolor\":\"white\",\"plot_bgcolor\":\"white\",\"polar\":{\"angularaxis\":{\"gridcolor\":\"#EBF0F8\",\"linecolor\":\"#EBF0F8\",\"ticks\":\"\"},\"bgcolor\":\"white\",\"radialaxis\":{\"gridcolor\":\"#EBF0F8\",\"linecolor\":\"#EBF0F8\",\"ticks\":\"\"}},\"scene\":{\"xaxis\":{\"backgroundcolor\":\"white\",\"gridcolor\":\"#DFE8F3\",\"gridwidth\":2,\"linecolor\":\"#EBF0F8\",\"showbackground\":true,\"ticks\":\"\",\"zerolinecolor\":\"#EBF0F8\"},\"yaxis\":{\"backgroundcolor\":\"white\",\"gridcolor\":\"#DFE8F3\",\"gridwidth\":2,\"linecolor\":\"#EBF0F8\",\"showbackground\":true,\"ticks\":\"\",\"zerolinecolor\":\"#EBF0F8\"},\"zaxis\":{\"backgroundcolor\":\"white\",\"gridcolor\":\"#DFE8F3\",\"gridwidth\":2,\"linecolor\":\"#EBF0F8\",\"showbackground\":true,\"ticks\":\"\",\"zerolinecolor\":\"#EBF0F8\"}},\"shapedefaults\":{\"line\":{\"color\":\"#2a3f5f\"}},\"ternary\":{\"aaxis\":{\"gridcolor\":\"#DFE8F3\",\"linecolor\":\"#A2B1C6\",\"ticks\":\"\"},\"baxis\":{\"gridcolor\":\"#DFE8F3\",\"linecolor\":\"#A2B1C6\",\"ticks\":\"\"},\"bgcolor\":\"white\",\"caxis\":{\"gridcolor\":\"#DFE8F3\",\"linecolor\":\"#A2B1C6\",\"ticks\":\"\"}},\"title\":{\"x\":0.05},\"xaxis\":{\"automargin\":true,\"gridcolor\":\"#EBF0F8\",\"linecolor\":\"#EBF0F8\",\"ticks\":\"\",\"title\":{\"standoff\":15},\"zerolinecolor\":\"#EBF0F8\",\"zerolinewidth\":2},\"yaxis\":{\"automargin\":true,\"gridcolor\":\"#EBF0F8\",\"linecolor\":\"#EBF0F8\",\"ticks\":\"\",\"title\":{\"standoff\":15},\"zerolinecolor\":\"#EBF0F8\",\"zerolinewidth\":2}}},\"xaxis\":{\"title\":{\"text\":\"Months Since First Loan\"}},\"yaxis\":{\"title\":{\"text\":\"Retention (%)\"}}},                        {\"responsive\": true}                    ).then(function(){\n",
       "                            \n",
       "var gd = document.getElementById('6cee0e1e-08d5-44b1-a01e-0af2632247c6');\n",
       "var x = new MutationObserver(function (mutations, observer) {{\n",
       "        var display = window.getComputedStyle(gd).display;\n",
       "        if (!display || display === 'none') {{\n",
       "            console.log([gd, 'removed!']);\n",
       "            Plotly.purge(gd);\n",
       "            observer.disconnect();\n",
       "        }}\n",
       "}});\n",
       "\n",
       "// Listen for the removal of the full notebook cells\n",
       "var notebookContainer = gd.closest('#notebook-container');\n",
       "if (notebookContainer) {{\n",
       "    x.observe(notebookContainer, {childList: true});\n",
       "}}\n",
       "\n",
       "// Listen for the clearing of the current output cell\n",
       "var outputEl = gd.closest('.output');\n",
       "if (outputEl) {{\n",
       "    x.observe(outputEl, {childList: true});\n",
       "}}\n",
       "\n",
       "                        })                };                });            </script>        </div>"
      ]
     },
     "metadata": {},
     "output_type": "display_data"
    }
   ],
   "source": [
    "traces = [\n",
    "    go.Scatter(name='actual', x=arr.index, y=arr),\n",
    "    go.Scatter(name='power-law', x=x, y=power_fit),\n",
    "    go.Scatter(name='sBG', x=x, y=sBG_forecast)\n",
    "]\n",
    "\n",
    "fig = go.Figure(traces)\n",
    "fig.update_layout(xaxis=dict(title='Months Since First Loan'),\n",
    "                 yaxis=dict(title='Retention (%)'))\n",
    "\n",
    "fig.show()"
   ]
  },
  {
   "cell_type": "code",
   "execution_count": 151,
   "id": "3e70035d",
   "metadata": {},
   "outputs": [
    {
     "data": {
      "application/vnd.plotly.v1+json": {
       "config": {
        "plotlyServerURL": "https://plot.ly"
       },
       "data": [
        {
         "name": "power-law",
         "type": "scatter",
         "x": [
          1,
          2,
          3,
          4,
          5,
          6,
          7,
          8,
          9,
          10,
          11,
          12,
          13,
          14,
          15,
          16
         ],
         "y": [
          0.045665528417020096,
          0.04107712831001542,
          0.046134191322427576,
          0.03102648818314452,
          0.015668356853188736,
          0.012079649140009419,
          0.004863722638587309,
          0.00010641012699519337,
          0.008593157387693784,
          0.006688180686467204,
          0.012945524156855154,
          0.013582733549614728,
          0.016314291320946694,
          0.016352120632972783,
          0.03151086391428447,
          0.023616264699259232
         ]
        },
        {
         "name": "sBG",
         "type": "scatter",
         "x": [
          1,
          2,
          3,
          4,
          5,
          6,
          7,
          8,
          9,
          10,
          11,
          12,
          13,
          14,
          15,
          16
         ],
         "y": [
          0.020282386182779444,
          0.028045643782456053,
          0.033228368735773395,
          0.022460841407029475,
          0.011440115135144091,
          0.011544307629034745,
          0.002358584649846146,
          0.005104683793703546,
          0.001540786110428738,
          0.0020691834568929424,
          0.0027616950394498962,
          0.0021963773888094285,
          0.003907102233013798,
          0.0030728933658251967,
          0.017482546960052123,
          0.008941308293996031
         ]
        }
       ],
       "layout": {
        "template": {
         "data": {
          "bar": [
           {
            "error_x": {
             "color": "#2a3f5f"
            },
            "error_y": {
             "color": "#2a3f5f"
            },
            "marker": {
             "line": {
              "color": "white",
              "width": 0.5
             },
             "pattern": {
              "fillmode": "overlay",
              "size": 10,
              "solidity": 0.2
             }
            },
            "type": "bar"
           }
          ],
          "barpolar": [
           {
            "marker": {
             "line": {
              "color": "white",
              "width": 0.5
             },
             "pattern": {
              "fillmode": "overlay",
              "size": 10,
              "solidity": 0.2
             }
            },
            "type": "barpolar"
           }
          ],
          "carpet": [
           {
            "aaxis": {
             "endlinecolor": "#2a3f5f",
             "gridcolor": "#C8D4E3",
             "linecolor": "#C8D4E3",
             "minorgridcolor": "#C8D4E3",
             "startlinecolor": "#2a3f5f"
            },
            "baxis": {
             "endlinecolor": "#2a3f5f",
             "gridcolor": "#C8D4E3",
             "linecolor": "#C8D4E3",
             "minorgridcolor": "#C8D4E3",
             "startlinecolor": "#2a3f5f"
            },
            "type": "carpet"
           }
          ],
          "choropleth": [
           {
            "colorbar": {
             "outlinewidth": 0,
             "ticks": ""
            },
            "type": "choropleth"
           }
          ],
          "contour": [
           {
            "colorbar": {
             "outlinewidth": 0,
             "ticks": ""
            },
            "colorscale": [
             [
              0,
              "#0d0887"
             ],
             [
              0.1111111111111111,
              "#46039f"
             ],
             [
              0.2222222222222222,
              "#7201a8"
             ],
             [
              0.3333333333333333,
              "#9c179e"
             ],
             [
              0.4444444444444444,
              "#bd3786"
             ],
             [
              0.5555555555555556,
              "#d8576b"
             ],
             [
              0.6666666666666666,
              "#ed7953"
             ],
             [
              0.7777777777777778,
              "#fb9f3a"
             ],
             [
              0.8888888888888888,
              "#fdca26"
             ],
             [
              1,
              "#f0f921"
             ]
            ],
            "type": "contour"
           }
          ],
          "contourcarpet": [
           {
            "colorbar": {
             "outlinewidth": 0,
             "ticks": ""
            },
            "type": "contourcarpet"
           }
          ],
          "heatmap": [
           {
            "colorbar": {
             "outlinewidth": 0,
             "ticks": ""
            },
            "colorscale": [
             [
              0,
              "#0d0887"
             ],
             [
              0.1111111111111111,
              "#46039f"
             ],
             [
              0.2222222222222222,
              "#7201a8"
             ],
             [
              0.3333333333333333,
              "#9c179e"
             ],
             [
              0.4444444444444444,
              "#bd3786"
             ],
             [
              0.5555555555555556,
              "#d8576b"
             ],
             [
              0.6666666666666666,
              "#ed7953"
             ],
             [
              0.7777777777777778,
              "#fb9f3a"
             ],
             [
              0.8888888888888888,
              "#fdca26"
             ],
             [
              1,
              "#f0f921"
             ]
            ],
            "type": "heatmap"
           }
          ],
          "heatmapgl": [
           {
            "colorbar": {
             "outlinewidth": 0,
             "ticks": ""
            },
            "colorscale": [
             [
              0,
              "#0d0887"
             ],
             [
              0.1111111111111111,
              "#46039f"
             ],
             [
              0.2222222222222222,
              "#7201a8"
             ],
             [
              0.3333333333333333,
              "#9c179e"
             ],
             [
              0.4444444444444444,
              "#bd3786"
             ],
             [
              0.5555555555555556,
              "#d8576b"
             ],
             [
              0.6666666666666666,
              "#ed7953"
             ],
             [
              0.7777777777777778,
              "#fb9f3a"
             ],
             [
              0.8888888888888888,
              "#fdca26"
             ],
             [
              1,
              "#f0f921"
             ]
            ],
            "type": "heatmapgl"
           }
          ],
          "histogram": [
           {
            "marker": {
             "pattern": {
              "fillmode": "overlay",
              "size": 10,
              "solidity": 0.2
             }
            },
            "type": "histogram"
           }
          ],
          "histogram2d": [
           {
            "colorbar": {
             "outlinewidth": 0,
             "ticks": ""
            },
            "colorscale": [
             [
              0,
              "#0d0887"
             ],
             [
              0.1111111111111111,
              "#46039f"
             ],
             [
              0.2222222222222222,
              "#7201a8"
             ],
             [
              0.3333333333333333,
              "#9c179e"
             ],
             [
              0.4444444444444444,
              "#bd3786"
             ],
             [
              0.5555555555555556,
              "#d8576b"
             ],
             [
              0.6666666666666666,
              "#ed7953"
             ],
             [
              0.7777777777777778,
              "#fb9f3a"
             ],
             [
              0.8888888888888888,
              "#fdca26"
             ],
             [
              1,
              "#f0f921"
             ]
            ],
            "type": "histogram2d"
           }
          ],
          "histogram2dcontour": [
           {
            "colorbar": {
             "outlinewidth": 0,
             "ticks": ""
            },
            "colorscale": [
             [
              0,
              "#0d0887"
             ],
             [
              0.1111111111111111,
              "#46039f"
             ],
             [
              0.2222222222222222,
              "#7201a8"
             ],
             [
              0.3333333333333333,
              "#9c179e"
             ],
             [
              0.4444444444444444,
              "#bd3786"
             ],
             [
              0.5555555555555556,
              "#d8576b"
             ],
             [
              0.6666666666666666,
              "#ed7953"
             ],
             [
              0.7777777777777778,
              "#fb9f3a"
             ],
             [
              0.8888888888888888,
              "#fdca26"
             ],
             [
              1,
              "#f0f921"
             ]
            ],
            "type": "histogram2dcontour"
           }
          ],
          "mesh3d": [
           {
            "colorbar": {
             "outlinewidth": 0,
             "ticks": ""
            },
            "type": "mesh3d"
           }
          ],
          "parcoords": [
           {
            "line": {
             "colorbar": {
              "outlinewidth": 0,
              "ticks": ""
             }
            },
            "type": "parcoords"
           }
          ],
          "pie": [
           {
            "automargin": true,
            "type": "pie"
           }
          ],
          "scatter": [
           {
            "marker": {
             "colorbar": {
              "outlinewidth": 0,
              "ticks": ""
             }
            },
            "type": "scatter"
           }
          ],
          "scatter3d": [
           {
            "line": {
             "colorbar": {
              "outlinewidth": 0,
              "ticks": ""
             }
            },
            "marker": {
             "colorbar": {
              "outlinewidth": 0,
              "ticks": ""
             }
            },
            "type": "scatter3d"
           }
          ],
          "scattercarpet": [
           {
            "marker": {
             "colorbar": {
              "outlinewidth": 0,
              "ticks": ""
             }
            },
            "type": "scattercarpet"
           }
          ],
          "scattergeo": [
           {
            "marker": {
             "colorbar": {
              "outlinewidth": 0,
              "ticks": ""
             }
            },
            "type": "scattergeo"
           }
          ],
          "scattergl": [
           {
            "marker": {
             "colorbar": {
              "outlinewidth": 0,
              "ticks": ""
             }
            },
            "type": "scattergl"
           }
          ],
          "scattermapbox": [
           {
            "marker": {
             "colorbar": {
              "outlinewidth": 0,
              "ticks": ""
             }
            },
            "type": "scattermapbox"
           }
          ],
          "scatterpolar": [
           {
            "marker": {
             "colorbar": {
              "outlinewidth": 0,
              "ticks": ""
             }
            },
            "type": "scatterpolar"
           }
          ],
          "scatterpolargl": [
           {
            "marker": {
             "colorbar": {
              "outlinewidth": 0,
              "ticks": ""
             }
            },
            "type": "scatterpolargl"
           }
          ],
          "scatterternary": [
           {
            "marker": {
             "colorbar": {
              "outlinewidth": 0,
              "ticks": ""
             }
            },
            "type": "scatterternary"
           }
          ],
          "surface": [
           {
            "colorbar": {
             "outlinewidth": 0,
             "ticks": ""
            },
            "colorscale": [
             [
              0,
              "#0d0887"
             ],
             [
              0.1111111111111111,
              "#46039f"
             ],
             [
              0.2222222222222222,
              "#7201a8"
             ],
             [
              0.3333333333333333,
              "#9c179e"
             ],
             [
              0.4444444444444444,
              "#bd3786"
             ],
             [
              0.5555555555555556,
              "#d8576b"
             ],
             [
              0.6666666666666666,
              "#ed7953"
             ],
             [
              0.7777777777777778,
              "#fb9f3a"
             ],
             [
              0.8888888888888888,
              "#fdca26"
             ],
             [
              1,
              "#f0f921"
             ]
            ],
            "type": "surface"
           }
          ],
          "table": [
           {
            "cells": {
             "fill": {
              "color": "#EBF0F8"
             },
             "line": {
              "color": "white"
             }
            },
            "header": {
             "fill": {
              "color": "#C8D4E3"
             },
             "line": {
              "color": "white"
             }
            },
            "type": "table"
           }
          ]
         },
         "layout": {
          "annotationdefaults": {
           "arrowcolor": "#2a3f5f",
           "arrowhead": 0,
           "arrowwidth": 1
          },
          "autotypenumbers": "strict",
          "coloraxis": {
           "colorbar": {
            "outlinewidth": 0,
            "ticks": ""
           }
          },
          "colorscale": {
           "diverging": [
            [
             0,
             "#8e0152"
            ],
            [
             0.1,
             "#c51b7d"
            ],
            [
             0.2,
             "#de77ae"
            ],
            [
             0.3,
             "#f1b6da"
            ],
            [
             0.4,
             "#fde0ef"
            ],
            [
             0.5,
             "#f7f7f7"
            ],
            [
             0.6,
             "#e6f5d0"
            ],
            [
             0.7,
             "#b8e186"
            ],
            [
             0.8,
             "#7fbc41"
            ],
            [
             0.9,
             "#4d9221"
            ],
            [
             1,
             "#276419"
            ]
           ],
           "sequential": [
            [
             0,
             "#0d0887"
            ],
            [
             0.1111111111111111,
             "#46039f"
            ],
            [
             0.2222222222222222,
             "#7201a8"
            ],
            [
             0.3333333333333333,
             "#9c179e"
            ],
            [
             0.4444444444444444,
             "#bd3786"
            ],
            [
             0.5555555555555556,
             "#d8576b"
            ],
            [
             0.6666666666666666,
             "#ed7953"
            ],
            [
             0.7777777777777778,
             "#fb9f3a"
            ],
            [
             0.8888888888888888,
             "#fdca26"
            ],
            [
             1,
             "#f0f921"
            ]
           ],
           "sequentialminus": [
            [
             0,
             "#0d0887"
            ],
            [
             0.1111111111111111,
             "#46039f"
            ],
            [
             0.2222222222222222,
             "#7201a8"
            ],
            [
             0.3333333333333333,
             "#9c179e"
            ],
            [
             0.4444444444444444,
             "#bd3786"
            ],
            [
             0.5555555555555556,
             "#d8576b"
            ],
            [
             0.6666666666666666,
             "#ed7953"
            ],
            [
             0.7777777777777778,
             "#fb9f3a"
            ],
            [
             0.8888888888888888,
             "#fdca26"
            ],
            [
             1,
             "#f0f921"
            ]
           ]
          },
          "colorway": [
           "#636efa",
           "#EF553B",
           "#00cc96",
           "#ab63fa",
           "#FFA15A",
           "#19d3f3",
           "#FF6692",
           "#B6E880",
           "#FF97FF",
           "#FECB52"
          ],
          "font": {
           "color": "#2a3f5f"
          },
          "geo": {
           "bgcolor": "white",
           "lakecolor": "white",
           "landcolor": "white",
           "showlakes": true,
           "showland": true,
           "subunitcolor": "#C8D4E3"
          },
          "hoverlabel": {
           "align": "left"
          },
          "hovermode": "closest",
          "mapbox": {
           "style": "light"
          },
          "paper_bgcolor": "white",
          "plot_bgcolor": "white",
          "polar": {
           "angularaxis": {
            "gridcolor": "#EBF0F8",
            "linecolor": "#EBF0F8",
            "ticks": ""
           },
           "bgcolor": "white",
           "radialaxis": {
            "gridcolor": "#EBF0F8",
            "linecolor": "#EBF0F8",
            "ticks": ""
           }
          },
          "scene": {
           "xaxis": {
            "backgroundcolor": "white",
            "gridcolor": "#DFE8F3",
            "gridwidth": 2,
            "linecolor": "#EBF0F8",
            "showbackground": true,
            "ticks": "",
            "zerolinecolor": "#EBF0F8"
           },
           "yaxis": {
            "backgroundcolor": "white",
            "gridcolor": "#DFE8F3",
            "gridwidth": 2,
            "linecolor": "#EBF0F8",
            "showbackground": true,
            "ticks": "",
            "zerolinecolor": "#EBF0F8"
           },
           "zaxis": {
            "backgroundcolor": "white",
            "gridcolor": "#DFE8F3",
            "gridwidth": 2,
            "linecolor": "#EBF0F8",
            "showbackground": true,
            "ticks": "",
            "zerolinecolor": "#EBF0F8"
           }
          },
          "shapedefaults": {
           "line": {
            "color": "#2a3f5f"
           }
          },
          "ternary": {
           "aaxis": {
            "gridcolor": "#DFE8F3",
            "linecolor": "#A2B1C6",
            "ticks": ""
           },
           "baxis": {
            "gridcolor": "#DFE8F3",
            "linecolor": "#A2B1C6",
            "ticks": ""
           },
           "bgcolor": "white",
           "caxis": {
            "gridcolor": "#DFE8F3",
            "linecolor": "#A2B1C6",
            "ticks": ""
           }
          },
          "title": {
           "x": 0.05
          },
          "xaxis": {
           "automargin": true,
           "gridcolor": "#EBF0F8",
           "linecolor": "#EBF0F8",
           "ticks": "",
           "title": {
            "standoff": 15
           },
           "zerolinecolor": "#EBF0F8",
           "zerolinewidth": 2
          },
          "yaxis": {
           "automargin": true,
           "gridcolor": "#EBF0F8",
           "linecolor": "#EBF0F8",
           "ticks": "",
           "title": {
            "standoff": 15
           },
           "zerolinecolor": "#EBF0F8",
           "zerolinewidth": 2
          }
         }
        },
        "title": {
         "text": "Model Residuals"
        },
        "xaxis": {
         "title": {
          "text": "Months Since First Loan"
         }
        }
       }
      },
      "text/html": [
       "<div>                            <div id=\"15b59143-4edd-4469-b988-4d72ea6b4843\" class=\"plotly-graph-div\" style=\"height:525px; width:100%;\"></div>            <script type=\"text/javascript\">                require([\"plotly\"], function(Plotly) {                    window.PLOTLYENV=window.PLOTLYENV || {};                                    if (document.getElementById(\"15b59143-4edd-4469-b988-4d72ea6b4843\")) {                    Plotly.newPlot(                        \"15b59143-4edd-4469-b988-4d72ea6b4843\",                        [{\"name\":\"power-law\",\"type\":\"scatter\",\"x\":[1,2,3,4,5,6,7,8,9,10,11,12,13,14,15,16],\"y\":[0.045665528417020096,0.04107712831001542,0.046134191322427576,0.03102648818314452,0.015668356853188736,0.012079649140009419,0.004863722638587309,0.00010641012699519337,0.008593157387693784,0.006688180686467204,0.012945524156855154,0.013582733549614728,0.016314291320946694,0.016352120632972783,0.03151086391428447,0.023616264699259232]},{\"name\":\"sBG\",\"type\":\"scatter\",\"x\":[1,2,3,4,5,6,7,8,9,10,11,12,13,14,15,16],\"y\":[0.020282386182779444,0.028045643782456053,0.033228368735773395,0.022460841407029475,0.011440115135144091,0.011544307629034745,0.002358584649846146,0.005104683793703546,0.001540786110428738,0.0020691834568929424,0.0027616950394498962,0.0021963773888094285,0.003907102233013798,0.0030728933658251967,0.017482546960052123,0.008941308293996031]}],                        {\"template\":{\"data\":{\"bar\":[{\"error_x\":{\"color\":\"#2a3f5f\"},\"error_y\":{\"color\":\"#2a3f5f\"},\"marker\":{\"line\":{\"color\":\"white\",\"width\":0.5},\"pattern\":{\"fillmode\":\"overlay\",\"size\":10,\"solidity\":0.2}},\"type\":\"bar\"}],\"barpolar\":[{\"marker\":{\"line\":{\"color\":\"white\",\"width\":0.5},\"pattern\":{\"fillmode\":\"overlay\",\"size\":10,\"solidity\":0.2}},\"type\":\"barpolar\"}],\"carpet\":[{\"aaxis\":{\"endlinecolor\":\"#2a3f5f\",\"gridcolor\":\"#C8D4E3\",\"linecolor\":\"#C8D4E3\",\"minorgridcolor\":\"#C8D4E3\",\"startlinecolor\":\"#2a3f5f\"},\"baxis\":{\"endlinecolor\":\"#2a3f5f\",\"gridcolor\":\"#C8D4E3\",\"linecolor\":\"#C8D4E3\",\"minorgridcolor\":\"#C8D4E3\",\"startlinecolor\":\"#2a3f5f\"},\"type\":\"carpet\"}],\"choropleth\":[{\"colorbar\":{\"outlinewidth\":0,\"ticks\":\"\"},\"type\":\"choropleth\"}],\"contour\":[{\"colorbar\":{\"outlinewidth\":0,\"ticks\":\"\"},\"colorscale\":[[0.0,\"#0d0887\"],[0.1111111111111111,\"#46039f\"],[0.2222222222222222,\"#7201a8\"],[0.3333333333333333,\"#9c179e\"],[0.4444444444444444,\"#bd3786\"],[0.5555555555555556,\"#d8576b\"],[0.6666666666666666,\"#ed7953\"],[0.7777777777777778,\"#fb9f3a\"],[0.8888888888888888,\"#fdca26\"],[1.0,\"#f0f921\"]],\"type\":\"contour\"}],\"contourcarpet\":[{\"colorbar\":{\"outlinewidth\":0,\"ticks\":\"\"},\"type\":\"contourcarpet\"}],\"heatmap\":[{\"colorbar\":{\"outlinewidth\":0,\"ticks\":\"\"},\"colorscale\":[[0.0,\"#0d0887\"],[0.1111111111111111,\"#46039f\"],[0.2222222222222222,\"#7201a8\"],[0.3333333333333333,\"#9c179e\"],[0.4444444444444444,\"#bd3786\"],[0.5555555555555556,\"#d8576b\"],[0.6666666666666666,\"#ed7953\"],[0.7777777777777778,\"#fb9f3a\"],[0.8888888888888888,\"#fdca26\"],[1.0,\"#f0f921\"]],\"type\":\"heatmap\"}],\"heatmapgl\":[{\"colorbar\":{\"outlinewidth\":0,\"ticks\":\"\"},\"colorscale\":[[0.0,\"#0d0887\"],[0.1111111111111111,\"#46039f\"],[0.2222222222222222,\"#7201a8\"],[0.3333333333333333,\"#9c179e\"],[0.4444444444444444,\"#bd3786\"],[0.5555555555555556,\"#d8576b\"],[0.6666666666666666,\"#ed7953\"],[0.7777777777777778,\"#fb9f3a\"],[0.8888888888888888,\"#fdca26\"],[1.0,\"#f0f921\"]],\"type\":\"heatmapgl\"}],\"histogram\":[{\"marker\":{\"pattern\":{\"fillmode\":\"overlay\",\"size\":10,\"solidity\":0.2}},\"type\":\"histogram\"}],\"histogram2d\":[{\"colorbar\":{\"outlinewidth\":0,\"ticks\":\"\"},\"colorscale\":[[0.0,\"#0d0887\"],[0.1111111111111111,\"#46039f\"],[0.2222222222222222,\"#7201a8\"],[0.3333333333333333,\"#9c179e\"],[0.4444444444444444,\"#bd3786\"],[0.5555555555555556,\"#d8576b\"],[0.6666666666666666,\"#ed7953\"],[0.7777777777777778,\"#fb9f3a\"],[0.8888888888888888,\"#fdca26\"],[1.0,\"#f0f921\"]],\"type\":\"histogram2d\"}],\"histogram2dcontour\":[{\"colorbar\":{\"outlinewidth\":0,\"ticks\":\"\"},\"colorscale\":[[0.0,\"#0d0887\"],[0.1111111111111111,\"#46039f\"],[0.2222222222222222,\"#7201a8\"],[0.3333333333333333,\"#9c179e\"],[0.4444444444444444,\"#bd3786\"],[0.5555555555555556,\"#d8576b\"],[0.6666666666666666,\"#ed7953\"],[0.7777777777777778,\"#fb9f3a\"],[0.8888888888888888,\"#fdca26\"],[1.0,\"#f0f921\"]],\"type\":\"histogram2dcontour\"}],\"mesh3d\":[{\"colorbar\":{\"outlinewidth\":0,\"ticks\":\"\"},\"type\":\"mesh3d\"}],\"parcoords\":[{\"line\":{\"colorbar\":{\"outlinewidth\":0,\"ticks\":\"\"}},\"type\":\"parcoords\"}],\"pie\":[{\"automargin\":true,\"type\":\"pie\"}],\"scatter\":[{\"marker\":{\"colorbar\":{\"outlinewidth\":0,\"ticks\":\"\"}},\"type\":\"scatter\"}],\"scatter3d\":[{\"line\":{\"colorbar\":{\"outlinewidth\":0,\"ticks\":\"\"}},\"marker\":{\"colorbar\":{\"outlinewidth\":0,\"ticks\":\"\"}},\"type\":\"scatter3d\"}],\"scattercarpet\":[{\"marker\":{\"colorbar\":{\"outlinewidth\":0,\"ticks\":\"\"}},\"type\":\"scattercarpet\"}],\"scattergeo\":[{\"marker\":{\"colorbar\":{\"outlinewidth\":0,\"ticks\":\"\"}},\"type\":\"scattergeo\"}],\"scattergl\":[{\"marker\":{\"colorbar\":{\"outlinewidth\":0,\"ticks\":\"\"}},\"type\":\"scattergl\"}],\"scattermapbox\":[{\"marker\":{\"colorbar\":{\"outlinewidth\":0,\"ticks\":\"\"}},\"type\":\"scattermapbox\"}],\"scatterpolar\":[{\"marker\":{\"colorbar\":{\"outlinewidth\":0,\"ticks\":\"\"}},\"type\":\"scatterpolar\"}],\"scatterpolargl\":[{\"marker\":{\"colorbar\":{\"outlinewidth\":0,\"ticks\":\"\"}},\"type\":\"scatterpolargl\"}],\"scatterternary\":[{\"marker\":{\"colorbar\":{\"outlinewidth\":0,\"ticks\":\"\"}},\"type\":\"scatterternary\"}],\"surface\":[{\"colorbar\":{\"outlinewidth\":0,\"ticks\":\"\"},\"colorscale\":[[0.0,\"#0d0887\"],[0.1111111111111111,\"#46039f\"],[0.2222222222222222,\"#7201a8\"],[0.3333333333333333,\"#9c179e\"],[0.4444444444444444,\"#bd3786\"],[0.5555555555555556,\"#d8576b\"],[0.6666666666666666,\"#ed7953\"],[0.7777777777777778,\"#fb9f3a\"],[0.8888888888888888,\"#fdca26\"],[1.0,\"#f0f921\"]],\"type\":\"surface\"}],\"table\":[{\"cells\":{\"fill\":{\"color\":\"#EBF0F8\"},\"line\":{\"color\":\"white\"}},\"header\":{\"fill\":{\"color\":\"#C8D4E3\"},\"line\":{\"color\":\"white\"}},\"type\":\"table\"}]},\"layout\":{\"annotationdefaults\":{\"arrowcolor\":\"#2a3f5f\",\"arrowhead\":0,\"arrowwidth\":1},\"autotypenumbers\":\"strict\",\"coloraxis\":{\"colorbar\":{\"outlinewidth\":0,\"ticks\":\"\"}},\"colorscale\":{\"diverging\":[[0,\"#8e0152\"],[0.1,\"#c51b7d\"],[0.2,\"#de77ae\"],[0.3,\"#f1b6da\"],[0.4,\"#fde0ef\"],[0.5,\"#f7f7f7\"],[0.6,\"#e6f5d0\"],[0.7,\"#b8e186\"],[0.8,\"#7fbc41\"],[0.9,\"#4d9221\"],[1,\"#276419\"]],\"sequential\":[[0.0,\"#0d0887\"],[0.1111111111111111,\"#46039f\"],[0.2222222222222222,\"#7201a8\"],[0.3333333333333333,\"#9c179e\"],[0.4444444444444444,\"#bd3786\"],[0.5555555555555556,\"#d8576b\"],[0.6666666666666666,\"#ed7953\"],[0.7777777777777778,\"#fb9f3a\"],[0.8888888888888888,\"#fdca26\"],[1.0,\"#f0f921\"]],\"sequentialminus\":[[0.0,\"#0d0887\"],[0.1111111111111111,\"#46039f\"],[0.2222222222222222,\"#7201a8\"],[0.3333333333333333,\"#9c179e\"],[0.4444444444444444,\"#bd3786\"],[0.5555555555555556,\"#d8576b\"],[0.6666666666666666,\"#ed7953\"],[0.7777777777777778,\"#fb9f3a\"],[0.8888888888888888,\"#fdca26\"],[1.0,\"#f0f921\"]]},\"colorway\":[\"#636efa\",\"#EF553B\",\"#00cc96\",\"#ab63fa\",\"#FFA15A\",\"#19d3f3\",\"#FF6692\",\"#B6E880\",\"#FF97FF\",\"#FECB52\"],\"font\":{\"color\":\"#2a3f5f\"},\"geo\":{\"bgcolor\":\"white\",\"lakecolor\":\"white\",\"landcolor\":\"white\",\"showlakes\":true,\"showland\":true,\"subunitcolor\":\"#C8D4E3\"},\"hoverlabel\":{\"align\":\"left\"},\"hovermode\":\"closest\",\"mapbox\":{\"style\":\"light\"},\"paper_bgcolor\":\"white\",\"plot_bgcolor\":\"white\",\"polar\":{\"angularaxis\":{\"gridcolor\":\"#EBF0F8\",\"linecolor\":\"#EBF0F8\",\"ticks\":\"\"},\"bgcolor\":\"white\",\"radialaxis\":{\"gridcolor\":\"#EBF0F8\",\"linecolor\":\"#EBF0F8\",\"ticks\":\"\"}},\"scene\":{\"xaxis\":{\"backgroundcolor\":\"white\",\"gridcolor\":\"#DFE8F3\",\"gridwidth\":2,\"linecolor\":\"#EBF0F8\",\"showbackground\":true,\"ticks\":\"\",\"zerolinecolor\":\"#EBF0F8\"},\"yaxis\":{\"backgroundcolor\":\"white\",\"gridcolor\":\"#DFE8F3\",\"gridwidth\":2,\"linecolor\":\"#EBF0F8\",\"showbackground\":true,\"ticks\":\"\",\"zerolinecolor\":\"#EBF0F8\"},\"zaxis\":{\"backgroundcolor\":\"white\",\"gridcolor\":\"#DFE8F3\",\"gridwidth\":2,\"linecolor\":\"#EBF0F8\",\"showbackground\":true,\"ticks\":\"\",\"zerolinecolor\":\"#EBF0F8\"}},\"shapedefaults\":{\"line\":{\"color\":\"#2a3f5f\"}},\"ternary\":{\"aaxis\":{\"gridcolor\":\"#DFE8F3\",\"linecolor\":\"#A2B1C6\",\"ticks\":\"\"},\"baxis\":{\"gridcolor\":\"#DFE8F3\",\"linecolor\":\"#A2B1C6\",\"ticks\":\"\"},\"bgcolor\":\"white\",\"caxis\":{\"gridcolor\":\"#DFE8F3\",\"linecolor\":\"#A2B1C6\",\"ticks\":\"\"}},\"title\":{\"x\":0.05},\"xaxis\":{\"automargin\":true,\"gridcolor\":\"#EBF0F8\",\"linecolor\":\"#EBF0F8\",\"ticks\":\"\",\"title\":{\"standoff\":15},\"zerolinecolor\":\"#EBF0F8\",\"zerolinewidth\":2},\"yaxis\":{\"automargin\":true,\"gridcolor\":\"#EBF0F8\",\"linecolor\":\"#EBF0F8\",\"ticks\":\"\",\"title\":{\"standoff\":15},\"zerolinecolor\":\"#EBF0F8\",\"zerolinewidth\":2}}},\"title\":{\"text\":\"Model Residuals\"},\"xaxis\":{\"title\":{\"text\":\"Months Since First Loan\"}}},                        {\"responsive\": true}                    ).then(function(){\n",
       "                            \n",
       "var gd = document.getElementById('15b59143-4edd-4469-b988-4d72ea6b4843');\n",
       "var x = new MutationObserver(function (mutations, observer) {{\n",
       "        var display = window.getComputedStyle(gd).display;\n",
       "        if (!display || display === 'none') {{\n",
       "            console.log([gd, 'removed!']);\n",
       "            Plotly.purge(gd);\n",
       "            observer.disconnect();\n",
       "        }}\n",
       "}});\n",
       "\n",
       "// Listen for the removal of the full notebook cells\n",
       "var notebookContainer = gd.closest('#notebook-container');\n",
       "if (notebookContainer) {{\n",
       "    x.observe(notebookContainer, {childList: true});\n",
       "}}\n",
       "\n",
       "// Listen for the clearing of the current output cell\n",
       "var outputEl = gd.closest('.output');\n",
       "if (outputEl) {{\n",
       "    x.observe(outputEl, {childList: true});\n",
       "}}\n",
       "\n",
       "                        })                };                });            </script>        </div>"
      ]
     },
     "metadata": {},
     "output_type": "display_data"
    }
   ],
   "source": [
    "power_res = abs(power_fit[:len(arr)] - arr)\n",
    "sbg_res = abs(sBG_forecast[:len(arr)] - arr)\n",
    "\n",
    "traces = [\n",
    "    go.Scatter(name='power-law', x=arr.index, y=power_res),\n",
    "    go.Scatter(name='sBG', x=arr.index, y=sbg_res)\n",
    "]\n",
    "\n",
    "fig = go.Figure(traces)\n",
    "fig.update_layout(title='Model Residuals', xaxis=dict(title='Months Since First Loan'))\n",
    "\n",
    "fig.show()"
   ]
  },
  {
   "cell_type": "markdown",
   "id": "352c2824",
   "metadata": {},
   "source": [
    "#### Scale forecast"
   ]
  },
  {
   "cell_type": "code",
   "execution_count": 153,
   "id": "aabff81e",
   "metadata": {
    "scrolled": false
   },
   "outputs": [],
   "source": [
    "forecast_dfs = []\n",
    "\n",
    "alpha = beta = 1\n",
    "\n",
    "x = list(range(1, 25))\n",
    "df = m.data[['cohort', 'Count Borrowers']]\n",
    "for cohort in df.cohort.unique():\n",
    "    c_data = df[df.cohort==cohort]\n",
    "    n = c_data.loc[0, 'Count Borrowers']\n",
    "    \n",
    "    # only for cohorts with at least 4 data points\n",
    "    if len(c_data) > 3:\n",
    "        c = c_data['Count Borrowers']\n",
    "\n",
    "        # fit model\n",
    "        bounds = ((0,None), (0,None))\n",
    "        results = minimize(log_likelihood, np.array([alpha,beta]), args=c, bounds=bounds)\n",
    "\n",
    "        # forecast\n",
    "        forecast = []\n",
    "        for i in x:\n",
    "            forecast.append(n*s(i, results.x[0], results.x[1]))\n",
    "\n",
    "        forecast = pd.DataFrame(forecast, index=x, columns=['Count Borrowers'])\n",
    "    \n",
    "        holder_df = pd.DataFrame(np.nan, index=range(0,25), columns=['null'])\n",
    "        \n",
    "        c_data['data_type'] = 'actual'\n",
    "        \n",
    "        c_data = pd.concat([c_data, holder_df], axis=1).drop('null', axis=1)\n",
    "        c_data.cohort = c_data.cohort.ffill()\n",
    "\n",
    "        c_data.data_type = c_data.data_type.fillna('forecast')\n",
    "        \n",
    "        c_data = c_data.fillna(forecast)\n",
    "        \n",
    "        c_data['borrower_retention'] = m.borrower_retention(c_data)\n",
    "        \n",
    "        forecast_dfs.append(c_data)\n",
    "        \n",
    "forecast = pd.concat(forecast_dfs)"
   ]
  },
  {
   "cell_type": "code",
   "execution_count": 154,
   "id": "339aa5ca",
   "metadata": {},
   "outputs": [
    {
     "data": {
      "application/vnd.plotly.v1+json": {
       "config": {
        "plotlyServerURL": "https://plot.ly"
       },
       "data": [
        {
         "mode": "markers+lines",
         "name": "actual",
         "type": "scatter",
         "x": [
          0,
          1,
          2,
          3,
          4,
          5,
          6,
          7
         ],
         "y": [
          1,
          0.49947545111204367,
          0.3877465379773395,
          0.3041334452370961,
          0.263533361309274,
          0.22702475870751154,
          0.1860050356693244,
          0.16481326059588752
         ]
        },
        {
         "mode": "markers+lines",
         "name": "forecast",
         "type": "scatter",
         "x": [
          8,
          9,
          10,
          11,
          12,
          13,
          14,
          15,
          16,
          17,
          18,
          19,
          20,
          21,
          22,
          23,
          24
         ],
         "y": [
          0.1583444424071404,
          0.14671766577631976,
          0.13697955656684296,
          0.1286846698030561,
          0.1215200493115356,
          0.11525887989167564,
          0.10973244439845911,
          0.10481243752496923,
          0.10039941333372657,
          0.09641500915812332,
          0.09279657334366496,
          0.08949336816154015,
          0.08646383149646793,
          0.08367356641738435,
          0.08109384130191259,
          0.07870045458694157,
          0.07647286419664343
         ]
        }
       ],
       "layout": {
        "template": {
         "data": {
          "bar": [
           {
            "error_x": {
             "color": "#2a3f5f"
            },
            "error_y": {
             "color": "#2a3f5f"
            },
            "marker": {
             "line": {
              "color": "white",
              "width": 0.5
             },
             "pattern": {
              "fillmode": "overlay",
              "size": 10,
              "solidity": 0.2
             }
            },
            "type": "bar"
           }
          ],
          "barpolar": [
           {
            "marker": {
             "line": {
              "color": "white",
              "width": 0.5
             },
             "pattern": {
              "fillmode": "overlay",
              "size": 10,
              "solidity": 0.2
             }
            },
            "type": "barpolar"
           }
          ],
          "carpet": [
           {
            "aaxis": {
             "endlinecolor": "#2a3f5f",
             "gridcolor": "#C8D4E3",
             "linecolor": "#C8D4E3",
             "minorgridcolor": "#C8D4E3",
             "startlinecolor": "#2a3f5f"
            },
            "baxis": {
             "endlinecolor": "#2a3f5f",
             "gridcolor": "#C8D4E3",
             "linecolor": "#C8D4E3",
             "minorgridcolor": "#C8D4E3",
             "startlinecolor": "#2a3f5f"
            },
            "type": "carpet"
           }
          ],
          "choropleth": [
           {
            "colorbar": {
             "outlinewidth": 0,
             "ticks": ""
            },
            "type": "choropleth"
           }
          ],
          "contour": [
           {
            "colorbar": {
             "outlinewidth": 0,
             "ticks": ""
            },
            "colorscale": [
             [
              0,
              "#0d0887"
             ],
             [
              0.1111111111111111,
              "#46039f"
             ],
             [
              0.2222222222222222,
              "#7201a8"
             ],
             [
              0.3333333333333333,
              "#9c179e"
             ],
             [
              0.4444444444444444,
              "#bd3786"
             ],
             [
              0.5555555555555556,
              "#d8576b"
             ],
             [
              0.6666666666666666,
              "#ed7953"
             ],
             [
              0.7777777777777778,
              "#fb9f3a"
             ],
             [
              0.8888888888888888,
              "#fdca26"
             ],
             [
              1,
              "#f0f921"
             ]
            ],
            "type": "contour"
           }
          ],
          "contourcarpet": [
           {
            "colorbar": {
             "outlinewidth": 0,
             "ticks": ""
            },
            "type": "contourcarpet"
           }
          ],
          "heatmap": [
           {
            "colorbar": {
             "outlinewidth": 0,
             "ticks": ""
            },
            "colorscale": [
             [
              0,
              "#0d0887"
             ],
             [
              0.1111111111111111,
              "#46039f"
             ],
             [
              0.2222222222222222,
              "#7201a8"
             ],
             [
              0.3333333333333333,
              "#9c179e"
             ],
             [
              0.4444444444444444,
              "#bd3786"
             ],
             [
              0.5555555555555556,
              "#d8576b"
             ],
             [
              0.6666666666666666,
              "#ed7953"
             ],
             [
              0.7777777777777778,
              "#fb9f3a"
             ],
             [
              0.8888888888888888,
              "#fdca26"
             ],
             [
              1,
              "#f0f921"
             ]
            ],
            "type": "heatmap"
           }
          ],
          "heatmapgl": [
           {
            "colorbar": {
             "outlinewidth": 0,
             "ticks": ""
            },
            "colorscale": [
             [
              0,
              "#0d0887"
             ],
             [
              0.1111111111111111,
              "#46039f"
             ],
             [
              0.2222222222222222,
              "#7201a8"
             ],
             [
              0.3333333333333333,
              "#9c179e"
             ],
             [
              0.4444444444444444,
              "#bd3786"
             ],
             [
              0.5555555555555556,
              "#d8576b"
             ],
             [
              0.6666666666666666,
              "#ed7953"
             ],
             [
              0.7777777777777778,
              "#fb9f3a"
             ],
             [
              0.8888888888888888,
              "#fdca26"
             ],
             [
              1,
              "#f0f921"
             ]
            ],
            "type": "heatmapgl"
           }
          ],
          "histogram": [
           {
            "marker": {
             "pattern": {
              "fillmode": "overlay",
              "size": 10,
              "solidity": 0.2
             }
            },
            "type": "histogram"
           }
          ],
          "histogram2d": [
           {
            "colorbar": {
             "outlinewidth": 0,
             "ticks": ""
            },
            "colorscale": [
             [
              0,
              "#0d0887"
             ],
             [
              0.1111111111111111,
              "#46039f"
             ],
             [
              0.2222222222222222,
              "#7201a8"
             ],
             [
              0.3333333333333333,
              "#9c179e"
             ],
             [
              0.4444444444444444,
              "#bd3786"
             ],
             [
              0.5555555555555556,
              "#d8576b"
             ],
             [
              0.6666666666666666,
              "#ed7953"
             ],
             [
              0.7777777777777778,
              "#fb9f3a"
             ],
             [
              0.8888888888888888,
              "#fdca26"
             ],
             [
              1,
              "#f0f921"
             ]
            ],
            "type": "histogram2d"
           }
          ],
          "histogram2dcontour": [
           {
            "colorbar": {
             "outlinewidth": 0,
             "ticks": ""
            },
            "colorscale": [
             [
              0,
              "#0d0887"
             ],
             [
              0.1111111111111111,
              "#46039f"
             ],
             [
              0.2222222222222222,
              "#7201a8"
             ],
             [
              0.3333333333333333,
              "#9c179e"
             ],
             [
              0.4444444444444444,
              "#bd3786"
             ],
             [
              0.5555555555555556,
              "#d8576b"
             ],
             [
              0.6666666666666666,
              "#ed7953"
             ],
             [
              0.7777777777777778,
              "#fb9f3a"
             ],
             [
              0.8888888888888888,
              "#fdca26"
             ],
             [
              1,
              "#f0f921"
             ]
            ],
            "type": "histogram2dcontour"
           }
          ],
          "mesh3d": [
           {
            "colorbar": {
             "outlinewidth": 0,
             "ticks": ""
            },
            "type": "mesh3d"
           }
          ],
          "parcoords": [
           {
            "line": {
             "colorbar": {
              "outlinewidth": 0,
              "ticks": ""
             }
            },
            "type": "parcoords"
           }
          ],
          "pie": [
           {
            "automargin": true,
            "type": "pie"
           }
          ],
          "scatter": [
           {
            "marker": {
             "colorbar": {
              "outlinewidth": 0,
              "ticks": ""
             }
            },
            "type": "scatter"
           }
          ],
          "scatter3d": [
           {
            "line": {
             "colorbar": {
              "outlinewidth": 0,
              "ticks": ""
             }
            },
            "marker": {
             "colorbar": {
              "outlinewidth": 0,
              "ticks": ""
             }
            },
            "type": "scatter3d"
           }
          ],
          "scattercarpet": [
           {
            "marker": {
             "colorbar": {
              "outlinewidth": 0,
              "ticks": ""
             }
            },
            "type": "scattercarpet"
           }
          ],
          "scattergeo": [
           {
            "marker": {
             "colorbar": {
              "outlinewidth": 0,
              "ticks": ""
             }
            },
            "type": "scattergeo"
           }
          ],
          "scattergl": [
           {
            "marker": {
             "colorbar": {
              "outlinewidth": 0,
              "ticks": ""
             }
            },
            "type": "scattergl"
           }
          ],
          "scattermapbox": [
           {
            "marker": {
             "colorbar": {
              "outlinewidth": 0,
              "ticks": ""
             }
            },
            "type": "scattermapbox"
           }
          ],
          "scatterpolar": [
           {
            "marker": {
             "colorbar": {
              "outlinewidth": 0,
              "ticks": ""
             }
            },
            "type": "scatterpolar"
           }
          ],
          "scatterpolargl": [
           {
            "marker": {
             "colorbar": {
              "outlinewidth": 0,
              "ticks": ""
             }
            },
            "type": "scatterpolargl"
           }
          ],
          "scatterternary": [
           {
            "marker": {
             "colorbar": {
              "outlinewidth": 0,
              "ticks": ""
             }
            },
            "type": "scatterternary"
           }
          ],
          "surface": [
           {
            "colorbar": {
             "outlinewidth": 0,
             "ticks": ""
            },
            "colorscale": [
             [
              0,
              "#0d0887"
             ],
             [
              0.1111111111111111,
              "#46039f"
             ],
             [
              0.2222222222222222,
              "#7201a8"
             ],
             [
              0.3333333333333333,
              "#9c179e"
             ],
             [
              0.4444444444444444,
              "#bd3786"
             ],
             [
              0.5555555555555556,
              "#d8576b"
             ],
             [
              0.6666666666666666,
              "#ed7953"
             ],
             [
              0.7777777777777778,
              "#fb9f3a"
             ],
             [
              0.8888888888888888,
              "#fdca26"
             ],
             [
              1,
              "#f0f921"
             ]
            ],
            "type": "surface"
           }
          ],
          "table": [
           {
            "cells": {
             "fill": {
              "color": "#EBF0F8"
             },
             "line": {
              "color": "white"
             }
            },
            "header": {
             "fill": {
              "color": "#C8D4E3"
             },
             "line": {
              "color": "white"
             }
            },
            "type": "table"
           }
          ]
         },
         "layout": {
          "annotationdefaults": {
           "arrowcolor": "#2a3f5f",
           "arrowhead": 0,
           "arrowwidth": 1
          },
          "autotypenumbers": "strict",
          "coloraxis": {
           "colorbar": {
            "outlinewidth": 0,
            "ticks": ""
           }
          },
          "colorscale": {
           "diverging": [
            [
             0,
             "#8e0152"
            ],
            [
             0.1,
             "#c51b7d"
            ],
            [
             0.2,
             "#de77ae"
            ],
            [
             0.3,
             "#f1b6da"
            ],
            [
             0.4,
             "#fde0ef"
            ],
            [
             0.5,
             "#f7f7f7"
            ],
            [
             0.6,
             "#e6f5d0"
            ],
            [
             0.7,
             "#b8e186"
            ],
            [
             0.8,
             "#7fbc41"
            ],
            [
             0.9,
             "#4d9221"
            ],
            [
             1,
             "#276419"
            ]
           ],
           "sequential": [
            [
             0,
             "#0d0887"
            ],
            [
             0.1111111111111111,
             "#46039f"
            ],
            [
             0.2222222222222222,
             "#7201a8"
            ],
            [
             0.3333333333333333,
             "#9c179e"
            ],
            [
             0.4444444444444444,
             "#bd3786"
            ],
            [
             0.5555555555555556,
             "#d8576b"
            ],
            [
             0.6666666666666666,
             "#ed7953"
            ],
            [
             0.7777777777777778,
             "#fb9f3a"
            ],
            [
             0.8888888888888888,
             "#fdca26"
            ],
            [
             1,
             "#f0f921"
            ]
           ],
           "sequentialminus": [
            [
             0,
             "#0d0887"
            ],
            [
             0.1111111111111111,
             "#46039f"
            ],
            [
             0.2222222222222222,
             "#7201a8"
            ],
            [
             0.3333333333333333,
             "#9c179e"
            ],
            [
             0.4444444444444444,
             "#bd3786"
            ],
            [
             0.5555555555555556,
             "#d8576b"
            ],
            [
             0.6666666666666666,
             "#ed7953"
            ],
            [
             0.7777777777777778,
             "#fb9f3a"
            ],
            [
             0.8888888888888888,
             "#fdca26"
            ],
            [
             1,
             "#f0f921"
            ]
           ]
          },
          "colorway": [
           "#636efa",
           "#EF553B",
           "#00cc96",
           "#ab63fa",
           "#FFA15A",
           "#19d3f3",
           "#FF6692",
           "#B6E880",
           "#FF97FF",
           "#FECB52"
          ],
          "font": {
           "color": "#2a3f5f"
          },
          "geo": {
           "bgcolor": "white",
           "lakecolor": "white",
           "landcolor": "white",
           "showlakes": true,
           "showland": true,
           "subunitcolor": "#C8D4E3"
          },
          "hoverlabel": {
           "align": "left"
          },
          "hovermode": "closest",
          "mapbox": {
           "style": "light"
          },
          "paper_bgcolor": "white",
          "plot_bgcolor": "white",
          "polar": {
           "angularaxis": {
            "gridcolor": "#EBF0F8",
            "linecolor": "#EBF0F8",
            "ticks": ""
           },
           "bgcolor": "white",
           "radialaxis": {
            "gridcolor": "#EBF0F8",
            "linecolor": "#EBF0F8",
            "ticks": ""
           }
          },
          "scene": {
           "xaxis": {
            "backgroundcolor": "white",
            "gridcolor": "#DFE8F3",
            "gridwidth": 2,
            "linecolor": "#EBF0F8",
            "showbackground": true,
            "ticks": "",
            "zerolinecolor": "#EBF0F8"
           },
           "yaxis": {
            "backgroundcolor": "white",
            "gridcolor": "#DFE8F3",
            "gridwidth": 2,
            "linecolor": "#EBF0F8",
            "showbackground": true,
            "ticks": "",
            "zerolinecolor": "#EBF0F8"
           },
           "zaxis": {
            "backgroundcolor": "white",
            "gridcolor": "#DFE8F3",
            "gridwidth": 2,
            "linecolor": "#EBF0F8",
            "showbackground": true,
            "ticks": "",
            "zerolinecolor": "#EBF0F8"
           }
          },
          "shapedefaults": {
           "line": {
            "color": "#2a3f5f"
           }
          },
          "ternary": {
           "aaxis": {
            "gridcolor": "#DFE8F3",
            "linecolor": "#A2B1C6",
            "ticks": ""
           },
           "baxis": {
            "gridcolor": "#DFE8F3",
            "linecolor": "#A2B1C6",
            "ticks": ""
           },
           "bgcolor": "white",
           "caxis": {
            "gridcolor": "#DFE8F3",
            "linecolor": "#A2B1C6",
            "ticks": ""
           }
          },
          "title": {
           "x": 0.05
          },
          "xaxis": {
           "automargin": true,
           "gridcolor": "#EBF0F8",
           "linecolor": "#EBF0F8",
           "ticks": "",
           "title": {
            "standoff": 15
           },
           "zerolinecolor": "#EBF0F8",
           "zerolinewidth": 2
          },
          "yaxis": {
           "automargin": true,
           "gridcolor": "#EBF0F8",
           "linecolor": "#EBF0F8",
           "ticks": "",
           "title": {
            "standoff": 15
           },
           "zerolinecolor": "#EBF0F8",
           "zerolinewidth": 2
          }
         }
        },
        "xaxis": {
         "title": {
          "text": "Months Since Disbursement"
         }
        },
        "yaxis": {
         "title": {
          "text": "Count Borrowers"
         }
        }
       }
      },
      "text/html": [
       "<div>                            <div id=\"a5e4be96-e756-4a1e-a8d4-d5915cc75825\" class=\"plotly-graph-div\" style=\"height:525px; width:100%;\"></div>            <script type=\"text/javascript\">                require([\"plotly\"], function(Plotly) {                    window.PLOTLYENV=window.PLOTLYENV || {};                                    if (document.getElementById(\"a5e4be96-e756-4a1e-a8d4-d5915cc75825\")) {                    Plotly.newPlot(                        \"a5e4be96-e756-4a1e-a8d4-d5915cc75825\",                        [{\"mode\":\"markers+lines\",\"name\":\"actual\",\"type\":\"scatter\",\"x\":[0,1,2,3,4,5,6,7],\"y\":[1.0,0.49947545111204367,0.3877465379773395,0.3041334452370961,0.263533361309274,0.22702475870751154,0.1860050356693244,0.16481326059588752]},{\"mode\":\"markers+lines\",\"name\":\"forecast\",\"type\":\"scatter\",\"x\":[8,9,10,11,12,13,14,15,16,17,18,19,20,21,22,23,24],\"y\":[0.1583444424071404,0.14671766577631976,0.13697955656684296,0.1286846698030561,0.1215200493115356,0.11525887989167564,0.10973244439845911,0.10481243752496923,0.10039941333372657,0.09641500915812332,0.09279657334366496,0.08949336816154015,0.08646383149646793,0.08367356641738435,0.08109384130191259,0.07870045458694157,0.07647286419664343]}],                        {\"template\":{\"data\":{\"bar\":[{\"error_x\":{\"color\":\"#2a3f5f\"},\"error_y\":{\"color\":\"#2a3f5f\"},\"marker\":{\"line\":{\"color\":\"white\",\"width\":0.5},\"pattern\":{\"fillmode\":\"overlay\",\"size\":10,\"solidity\":0.2}},\"type\":\"bar\"}],\"barpolar\":[{\"marker\":{\"line\":{\"color\":\"white\",\"width\":0.5},\"pattern\":{\"fillmode\":\"overlay\",\"size\":10,\"solidity\":0.2}},\"type\":\"barpolar\"}],\"carpet\":[{\"aaxis\":{\"endlinecolor\":\"#2a3f5f\",\"gridcolor\":\"#C8D4E3\",\"linecolor\":\"#C8D4E3\",\"minorgridcolor\":\"#C8D4E3\",\"startlinecolor\":\"#2a3f5f\"},\"baxis\":{\"endlinecolor\":\"#2a3f5f\",\"gridcolor\":\"#C8D4E3\",\"linecolor\":\"#C8D4E3\",\"minorgridcolor\":\"#C8D4E3\",\"startlinecolor\":\"#2a3f5f\"},\"type\":\"carpet\"}],\"choropleth\":[{\"colorbar\":{\"outlinewidth\":0,\"ticks\":\"\"},\"type\":\"choropleth\"}],\"contour\":[{\"colorbar\":{\"outlinewidth\":0,\"ticks\":\"\"},\"colorscale\":[[0.0,\"#0d0887\"],[0.1111111111111111,\"#46039f\"],[0.2222222222222222,\"#7201a8\"],[0.3333333333333333,\"#9c179e\"],[0.4444444444444444,\"#bd3786\"],[0.5555555555555556,\"#d8576b\"],[0.6666666666666666,\"#ed7953\"],[0.7777777777777778,\"#fb9f3a\"],[0.8888888888888888,\"#fdca26\"],[1.0,\"#f0f921\"]],\"type\":\"contour\"}],\"contourcarpet\":[{\"colorbar\":{\"outlinewidth\":0,\"ticks\":\"\"},\"type\":\"contourcarpet\"}],\"heatmap\":[{\"colorbar\":{\"outlinewidth\":0,\"ticks\":\"\"},\"colorscale\":[[0.0,\"#0d0887\"],[0.1111111111111111,\"#46039f\"],[0.2222222222222222,\"#7201a8\"],[0.3333333333333333,\"#9c179e\"],[0.4444444444444444,\"#bd3786\"],[0.5555555555555556,\"#d8576b\"],[0.6666666666666666,\"#ed7953\"],[0.7777777777777778,\"#fb9f3a\"],[0.8888888888888888,\"#fdca26\"],[1.0,\"#f0f921\"]],\"type\":\"heatmap\"}],\"heatmapgl\":[{\"colorbar\":{\"outlinewidth\":0,\"ticks\":\"\"},\"colorscale\":[[0.0,\"#0d0887\"],[0.1111111111111111,\"#46039f\"],[0.2222222222222222,\"#7201a8\"],[0.3333333333333333,\"#9c179e\"],[0.4444444444444444,\"#bd3786\"],[0.5555555555555556,\"#d8576b\"],[0.6666666666666666,\"#ed7953\"],[0.7777777777777778,\"#fb9f3a\"],[0.8888888888888888,\"#fdca26\"],[1.0,\"#f0f921\"]],\"type\":\"heatmapgl\"}],\"histogram\":[{\"marker\":{\"pattern\":{\"fillmode\":\"overlay\",\"size\":10,\"solidity\":0.2}},\"type\":\"histogram\"}],\"histogram2d\":[{\"colorbar\":{\"outlinewidth\":0,\"ticks\":\"\"},\"colorscale\":[[0.0,\"#0d0887\"],[0.1111111111111111,\"#46039f\"],[0.2222222222222222,\"#7201a8\"],[0.3333333333333333,\"#9c179e\"],[0.4444444444444444,\"#bd3786\"],[0.5555555555555556,\"#d8576b\"],[0.6666666666666666,\"#ed7953\"],[0.7777777777777778,\"#fb9f3a\"],[0.8888888888888888,\"#fdca26\"],[1.0,\"#f0f921\"]],\"type\":\"histogram2d\"}],\"histogram2dcontour\":[{\"colorbar\":{\"outlinewidth\":0,\"ticks\":\"\"},\"colorscale\":[[0.0,\"#0d0887\"],[0.1111111111111111,\"#46039f\"],[0.2222222222222222,\"#7201a8\"],[0.3333333333333333,\"#9c179e\"],[0.4444444444444444,\"#bd3786\"],[0.5555555555555556,\"#d8576b\"],[0.6666666666666666,\"#ed7953\"],[0.7777777777777778,\"#fb9f3a\"],[0.8888888888888888,\"#fdca26\"],[1.0,\"#f0f921\"]],\"type\":\"histogram2dcontour\"}],\"mesh3d\":[{\"colorbar\":{\"outlinewidth\":0,\"ticks\":\"\"},\"type\":\"mesh3d\"}],\"parcoords\":[{\"line\":{\"colorbar\":{\"outlinewidth\":0,\"ticks\":\"\"}},\"type\":\"parcoords\"}],\"pie\":[{\"automargin\":true,\"type\":\"pie\"}],\"scatter\":[{\"marker\":{\"colorbar\":{\"outlinewidth\":0,\"ticks\":\"\"}},\"type\":\"scatter\"}],\"scatter3d\":[{\"line\":{\"colorbar\":{\"outlinewidth\":0,\"ticks\":\"\"}},\"marker\":{\"colorbar\":{\"outlinewidth\":0,\"ticks\":\"\"}},\"type\":\"scatter3d\"}],\"scattercarpet\":[{\"marker\":{\"colorbar\":{\"outlinewidth\":0,\"ticks\":\"\"}},\"type\":\"scattercarpet\"}],\"scattergeo\":[{\"marker\":{\"colorbar\":{\"outlinewidth\":0,\"ticks\":\"\"}},\"type\":\"scattergeo\"}],\"scattergl\":[{\"marker\":{\"colorbar\":{\"outlinewidth\":0,\"ticks\":\"\"}},\"type\":\"scattergl\"}],\"scattermapbox\":[{\"marker\":{\"colorbar\":{\"outlinewidth\":0,\"ticks\":\"\"}},\"type\":\"scattermapbox\"}],\"scatterpolar\":[{\"marker\":{\"colorbar\":{\"outlinewidth\":0,\"ticks\":\"\"}},\"type\":\"scatterpolar\"}],\"scatterpolargl\":[{\"marker\":{\"colorbar\":{\"outlinewidth\":0,\"ticks\":\"\"}},\"type\":\"scatterpolargl\"}],\"scatterternary\":[{\"marker\":{\"colorbar\":{\"outlinewidth\":0,\"ticks\":\"\"}},\"type\":\"scatterternary\"}],\"surface\":[{\"colorbar\":{\"outlinewidth\":0,\"ticks\":\"\"},\"colorscale\":[[0.0,\"#0d0887\"],[0.1111111111111111,\"#46039f\"],[0.2222222222222222,\"#7201a8\"],[0.3333333333333333,\"#9c179e\"],[0.4444444444444444,\"#bd3786\"],[0.5555555555555556,\"#d8576b\"],[0.6666666666666666,\"#ed7953\"],[0.7777777777777778,\"#fb9f3a\"],[0.8888888888888888,\"#fdca26\"],[1.0,\"#f0f921\"]],\"type\":\"surface\"}],\"table\":[{\"cells\":{\"fill\":{\"color\":\"#EBF0F8\"},\"line\":{\"color\":\"white\"}},\"header\":{\"fill\":{\"color\":\"#C8D4E3\"},\"line\":{\"color\":\"white\"}},\"type\":\"table\"}]},\"layout\":{\"annotationdefaults\":{\"arrowcolor\":\"#2a3f5f\",\"arrowhead\":0,\"arrowwidth\":1},\"autotypenumbers\":\"strict\",\"coloraxis\":{\"colorbar\":{\"outlinewidth\":0,\"ticks\":\"\"}},\"colorscale\":{\"diverging\":[[0,\"#8e0152\"],[0.1,\"#c51b7d\"],[0.2,\"#de77ae\"],[0.3,\"#f1b6da\"],[0.4,\"#fde0ef\"],[0.5,\"#f7f7f7\"],[0.6,\"#e6f5d0\"],[0.7,\"#b8e186\"],[0.8,\"#7fbc41\"],[0.9,\"#4d9221\"],[1,\"#276419\"]],\"sequential\":[[0.0,\"#0d0887\"],[0.1111111111111111,\"#46039f\"],[0.2222222222222222,\"#7201a8\"],[0.3333333333333333,\"#9c179e\"],[0.4444444444444444,\"#bd3786\"],[0.5555555555555556,\"#d8576b\"],[0.6666666666666666,\"#ed7953\"],[0.7777777777777778,\"#fb9f3a\"],[0.8888888888888888,\"#fdca26\"],[1.0,\"#f0f921\"]],\"sequentialminus\":[[0.0,\"#0d0887\"],[0.1111111111111111,\"#46039f\"],[0.2222222222222222,\"#7201a8\"],[0.3333333333333333,\"#9c179e\"],[0.4444444444444444,\"#bd3786\"],[0.5555555555555556,\"#d8576b\"],[0.6666666666666666,\"#ed7953\"],[0.7777777777777778,\"#fb9f3a\"],[0.8888888888888888,\"#fdca26\"],[1.0,\"#f0f921\"]]},\"colorway\":[\"#636efa\",\"#EF553B\",\"#00cc96\",\"#ab63fa\",\"#FFA15A\",\"#19d3f3\",\"#FF6692\",\"#B6E880\",\"#FF97FF\",\"#FECB52\"],\"font\":{\"color\":\"#2a3f5f\"},\"geo\":{\"bgcolor\":\"white\",\"lakecolor\":\"white\",\"landcolor\":\"white\",\"showlakes\":true,\"showland\":true,\"subunitcolor\":\"#C8D4E3\"},\"hoverlabel\":{\"align\":\"left\"},\"hovermode\":\"closest\",\"mapbox\":{\"style\":\"light\"},\"paper_bgcolor\":\"white\",\"plot_bgcolor\":\"white\",\"polar\":{\"angularaxis\":{\"gridcolor\":\"#EBF0F8\",\"linecolor\":\"#EBF0F8\",\"ticks\":\"\"},\"bgcolor\":\"white\",\"radialaxis\":{\"gridcolor\":\"#EBF0F8\",\"linecolor\":\"#EBF0F8\",\"ticks\":\"\"}},\"scene\":{\"xaxis\":{\"backgroundcolor\":\"white\",\"gridcolor\":\"#DFE8F3\",\"gridwidth\":2,\"linecolor\":\"#EBF0F8\",\"showbackground\":true,\"ticks\":\"\",\"zerolinecolor\":\"#EBF0F8\"},\"yaxis\":{\"backgroundcolor\":\"white\",\"gridcolor\":\"#DFE8F3\",\"gridwidth\":2,\"linecolor\":\"#EBF0F8\",\"showbackground\":true,\"ticks\":\"\",\"zerolinecolor\":\"#EBF0F8\"},\"zaxis\":{\"backgroundcolor\":\"white\",\"gridcolor\":\"#DFE8F3\",\"gridwidth\":2,\"linecolor\":\"#EBF0F8\",\"showbackground\":true,\"ticks\":\"\",\"zerolinecolor\":\"#EBF0F8\"}},\"shapedefaults\":{\"line\":{\"color\":\"#2a3f5f\"}},\"ternary\":{\"aaxis\":{\"gridcolor\":\"#DFE8F3\",\"linecolor\":\"#A2B1C6\",\"ticks\":\"\"},\"baxis\":{\"gridcolor\":\"#DFE8F3\",\"linecolor\":\"#A2B1C6\",\"ticks\":\"\"},\"bgcolor\":\"white\",\"caxis\":{\"gridcolor\":\"#DFE8F3\",\"linecolor\":\"#A2B1C6\",\"ticks\":\"\"}},\"title\":{\"x\":0.05},\"xaxis\":{\"automargin\":true,\"gridcolor\":\"#EBF0F8\",\"linecolor\":\"#EBF0F8\",\"ticks\":\"\",\"title\":{\"standoff\":15},\"zerolinecolor\":\"#EBF0F8\",\"zerolinewidth\":2},\"yaxis\":{\"automargin\":true,\"gridcolor\":\"#EBF0F8\",\"linecolor\":\"#EBF0F8\",\"ticks\":\"\",\"title\":{\"standoff\":15},\"zerolinecolor\":\"#EBF0F8\",\"zerolinewidth\":2}}},\"xaxis\":{\"title\":{\"text\":\"Months Since Disbursement\"}},\"yaxis\":{\"title\":{\"text\":\"Count Borrowers\"}}},                        {\"responsive\": true}                    ).then(function(){\n",
       "                            \n",
       "var gd = document.getElementById('a5e4be96-e756-4a1e-a8d4-d5915cc75825');\n",
       "var x = new MutationObserver(function (mutations, observer) {{\n",
       "        var display = window.getComputedStyle(gd).display;\n",
       "        if (!display || display === 'none') {{\n",
       "            console.log([gd, 'removed!']);\n",
       "            Plotly.purge(gd);\n",
       "            observer.disconnect();\n",
       "        }}\n",
       "}});\n",
       "\n",
       "// Listen for the removal of the full notebook cells\n",
       "var notebookContainer = gd.closest('#notebook-container');\n",
       "if (notebookContainer) {{\n",
       "    x.observe(notebookContainer, {childList: true});\n",
       "}}\n",
       "\n",
       "// Listen for the clearing of the current output cell\n",
       "var outputEl = gd.closest('.output');\n",
       "if (outputEl) {{\n",
       "    x.observe(outputEl, {childList: true});\n",
       "}}\n",
       "\n",
       "                        })                };                });            </script>        </div>"
      ]
     },
     "metadata": {},
     "output_type": "display_data"
    }
   ],
   "source": [
    "cohort='2021-06'\n",
    "\n",
    "df = forecast[forecast.cohort==cohort]\n",
    "\n",
    "traces = []\n",
    "for dtype in df.data_type.unique():\n",
    "    traces.append(go.Scatter(name=dtype, x=df[df.data_type==dtype].index, \n",
    "                             y=df[df.data_type==dtype]['borrower_retention'], mode='markers+lines'))\n",
    "    \n",
    "fig = go.Figure(traces)\n",
    "fig.update_layout(xaxis=dict(title='Months Since Disbursement'),\n",
    "                 yaxis=dict(title='Count Borrowers'))\n",
    "\n",
    "fig.show()"
   ]
  },
  {
   "cell_type": "markdown",
   "id": "e53ea055",
   "metadata": {},
   "source": [
    "### Backtest Framework"
   ]
  },
  {
   "cell_type": "code",
   "execution_count": 155,
   "id": "9cf8a142",
   "metadata": {},
   "outputs": [],
   "source": [
    "def test(actual, forecast, metric='rmse'):\n",
    "    \"\"\"\n",
    "    Test forecast performance against actuals using method defined by metric.\n",
    "    \"\"\"\n",
    "    if metric=='rmse':\n",
    "        error = np.sqrt(sum((forecast[:len(actual)] - actual)**2))\n",
    "    elif metric=='mae':\n",
    "        error = np.mean(forecast[:len(actual)] - actual)\n",
    "    return error"
   ]
  },
  {
   "cell_type": "code",
   "execution_count": 156,
   "id": "e3494401",
   "metadata": {},
   "outputs": [
    {
     "data": {
      "text/plain": [
       "0.09916461969488528"
      ]
     },
     "execution_count": 156,
     "metadata": {},
     "output_type": "execute_result"
    }
   ],
   "source": [
    "test(arr, power_fit, metric='rmse') "
   ]
  },
  {
   "cell_type": "code",
   "execution_count": 157,
   "id": "8bae0fbd",
   "metadata": {},
   "outputs": [
    {
     "data": {
      "text/plain": [
       "0.0594282453045051"
      ]
     },
     "execution_count": 157,
     "metadata": {},
     "output_type": "execute_result"
    }
   ],
   "source": [
    "test(arr, sBG_forecast)"
   ]
  },
  {
   "cell_type": "markdown",
   "id": "e175bbc9",
   "metadata": {},
   "source": [
    "### Test all cohorts"
   ]
  },
  {
   "cell_type": "code",
   "execution_count": 158,
   "id": "056f8e73",
   "metadata": {},
   "outputs": [
    {
     "ename": "TypeError",
     "evalue": "log_likelihood() missing 1 required positional argument: 'c'",
     "output_type": "error",
     "traceback": [
      "\u001b[0;31m---------------------------------------------------------------------------\u001b[0m",
      "\u001b[0;31mTypeError\u001b[0m                                 Traceback (most recent call last)",
      "\u001b[0;32m/var/folders/cz/jxcg8r0x5y70_y_2fxt5bwkh0000gn/T/ipykernel_40692/1773341735.py\u001b[0m in \u001b[0;36m<module>\u001b[0;34m\u001b[0m\n\u001b[1;32m     17\u001b[0m         \u001b[0mbounds\u001b[0m \u001b[0;34m=\u001b[0m \u001b[0;34m(\u001b[0m\u001b[0;34m(\u001b[0m\u001b[0;36m0\u001b[0m\u001b[0;34m,\u001b[0m\u001b[0;32mNone\u001b[0m\u001b[0;34m)\u001b[0m\u001b[0;34m,\u001b[0m \u001b[0;34m(\u001b[0m\u001b[0;36m0\u001b[0m\u001b[0;34m,\u001b[0m\u001b[0;32mNone\u001b[0m\u001b[0;34m)\u001b[0m\u001b[0;34m)\u001b[0m\u001b[0;34m\u001b[0m\u001b[0;34m\u001b[0m\u001b[0m\n\u001b[1;32m     18\u001b[0m \u001b[0;34m\u001b[0m\u001b[0m\n\u001b[0;32m---> 19\u001b[0;31m         \u001b[0mresults\u001b[0m \u001b[0;34m=\u001b[0m \u001b[0mminimize\u001b[0m\u001b[0;34m(\u001b[0m\u001b[0mlog_likelihood\u001b[0m\u001b[0;34m,\u001b[0m \u001b[0mnp\u001b[0m\u001b[0;34m.\u001b[0m\u001b[0marray\u001b[0m\u001b[0;34m(\u001b[0m\u001b[0;34m[\u001b[0m\u001b[0;36m1\u001b[0m\u001b[0;34m,\u001b[0m\u001b[0;36m1\u001b[0m\u001b[0;34m]\u001b[0m\u001b[0;34m)\u001b[0m\u001b[0;34m,\u001b[0m \u001b[0mbounds\u001b[0m\u001b[0;34m=\u001b[0m\u001b[0mbounds\u001b[0m\u001b[0;34m)\u001b[0m\u001b[0;34m\u001b[0m\u001b[0;34m\u001b[0m\u001b[0m\n\u001b[0m\u001b[1;32m     20\u001b[0m \u001b[0;34m\u001b[0m\u001b[0m\n\u001b[1;32m     21\u001b[0m         \u001b[0msBG_forecast\u001b[0m \u001b[0;34m=\u001b[0m \u001b[0;34m[\u001b[0m\u001b[0;34m]\u001b[0m\u001b[0;34m\u001b[0m\u001b[0;34m\u001b[0m\u001b[0m\n",
      "\u001b[0;32m~/opt/anaconda3/envs/pltv/lib/python3.9/site-packages/scipy/optimize/_minimize.py\u001b[0m in \u001b[0;36mminimize\u001b[0;34m(fun, x0, args, method, jac, hess, hessp, bounds, constraints, tol, callback, options)\u001b[0m\n\u001b[1;32m    621\u001b[0m                                   **options)\n\u001b[1;32m    622\u001b[0m     \u001b[0;32melif\u001b[0m \u001b[0mmeth\u001b[0m \u001b[0;34m==\u001b[0m \u001b[0;34m'l-bfgs-b'\u001b[0m\u001b[0;34m:\u001b[0m\u001b[0;34m\u001b[0m\u001b[0;34m\u001b[0m\u001b[0m\n\u001b[0;32m--> 623\u001b[0;31m         return _minimize_lbfgsb(fun, x0, args, jac, bounds,\n\u001b[0m\u001b[1;32m    624\u001b[0m                                 callback=callback, **options)\n\u001b[1;32m    625\u001b[0m     \u001b[0;32melif\u001b[0m \u001b[0mmeth\u001b[0m \u001b[0;34m==\u001b[0m \u001b[0;34m'tnc'\u001b[0m\u001b[0;34m:\u001b[0m\u001b[0;34m\u001b[0m\u001b[0;34m\u001b[0m\u001b[0m\n",
      "\u001b[0;32m~/opt/anaconda3/envs/pltv/lib/python3.9/site-packages/scipy/optimize/lbfgsb.py\u001b[0m in \u001b[0;36m_minimize_lbfgsb\u001b[0;34m(fun, x0, args, jac, bounds, disp, maxcor, ftol, gtol, eps, maxfun, maxiter, iprint, callback, maxls, finite_diff_rel_step, **unknown_options)\u001b[0m\n\u001b[1;32m    304\u001b[0m             \u001b[0miprint\u001b[0m \u001b[0;34m=\u001b[0m \u001b[0mdisp\u001b[0m\u001b[0;34m\u001b[0m\u001b[0;34m\u001b[0m\u001b[0m\n\u001b[1;32m    305\u001b[0m \u001b[0;34m\u001b[0m\u001b[0m\n\u001b[0;32m--> 306\u001b[0;31m     sf = _prepare_scalar_function(fun, x0, jac=jac, args=args, epsilon=eps,\n\u001b[0m\u001b[1;32m    307\u001b[0m                                   \u001b[0mbounds\u001b[0m\u001b[0;34m=\u001b[0m\u001b[0mnew_bounds\u001b[0m\u001b[0;34m,\u001b[0m\u001b[0;34m\u001b[0m\u001b[0;34m\u001b[0m\u001b[0m\n\u001b[1;32m    308\u001b[0m                                   finite_diff_rel_step=finite_diff_rel_step)\n",
      "\u001b[0;32m~/opt/anaconda3/envs/pltv/lib/python3.9/site-packages/scipy/optimize/optimize.py\u001b[0m in \u001b[0;36m_prepare_scalar_function\u001b[0;34m(fun, x0, jac, args, bounds, epsilon, finite_diff_rel_step, hess)\u001b[0m\n\u001b[1;32m    259\u001b[0m     \u001b[0;31m# ScalarFunction caches. Reuse of fun(x) during grad\u001b[0m\u001b[0;34m\u001b[0m\u001b[0;34m\u001b[0m\u001b[0m\n\u001b[1;32m    260\u001b[0m     \u001b[0;31m# calculation reduces overall function evaluations.\u001b[0m\u001b[0;34m\u001b[0m\u001b[0;34m\u001b[0m\u001b[0m\n\u001b[0;32m--> 261\u001b[0;31m     sf = ScalarFunction(fun, x0, args, grad, hess,\n\u001b[0m\u001b[1;32m    262\u001b[0m                         finite_diff_rel_step, bounds, epsilon=epsilon)\n\u001b[1;32m    263\u001b[0m \u001b[0;34m\u001b[0m\u001b[0m\n",
      "\u001b[0;32m~/opt/anaconda3/envs/pltv/lib/python3.9/site-packages/scipy/optimize/_differentiable_functions.py\u001b[0m in \u001b[0;36m__init__\u001b[0;34m(self, fun, x0, args, grad, hess, finite_diff_rel_step, finite_diff_bounds, epsilon)\u001b[0m\n\u001b[1;32m    138\u001b[0m \u001b[0;34m\u001b[0m\u001b[0m\n\u001b[1;32m    139\u001b[0m         \u001b[0mself\u001b[0m\u001b[0;34m.\u001b[0m\u001b[0m_update_fun_impl\u001b[0m \u001b[0;34m=\u001b[0m \u001b[0mupdate_fun\u001b[0m\u001b[0;34m\u001b[0m\u001b[0;34m\u001b[0m\u001b[0m\n\u001b[0;32m--> 140\u001b[0;31m         \u001b[0mself\u001b[0m\u001b[0;34m.\u001b[0m\u001b[0m_update_fun\u001b[0m\u001b[0;34m(\u001b[0m\u001b[0;34m)\u001b[0m\u001b[0;34m\u001b[0m\u001b[0;34m\u001b[0m\u001b[0m\n\u001b[0m\u001b[1;32m    141\u001b[0m \u001b[0;34m\u001b[0m\u001b[0m\n\u001b[1;32m    142\u001b[0m         \u001b[0;31m# Gradient evaluation\u001b[0m\u001b[0;34m\u001b[0m\u001b[0;34m\u001b[0m\u001b[0m\n",
      "\u001b[0;32m~/opt/anaconda3/envs/pltv/lib/python3.9/site-packages/scipy/optimize/_differentiable_functions.py\u001b[0m in \u001b[0;36m_update_fun\u001b[0;34m(self)\u001b[0m\n\u001b[1;32m    231\u001b[0m     \u001b[0;32mdef\u001b[0m \u001b[0m_update_fun\u001b[0m\u001b[0;34m(\u001b[0m\u001b[0mself\u001b[0m\u001b[0;34m)\u001b[0m\u001b[0;34m:\u001b[0m\u001b[0;34m\u001b[0m\u001b[0;34m\u001b[0m\u001b[0m\n\u001b[1;32m    232\u001b[0m         \u001b[0;32mif\u001b[0m \u001b[0;32mnot\u001b[0m \u001b[0mself\u001b[0m\u001b[0;34m.\u001b[0m\u001b[0mf_updated\u001b[0m\u001b[0;34m:\u001b[0m\u001b[0;34m\u001b[0m\u001b[0;34m\u001b[0m\u001b[0m\n\u001b[0;32m--> 233\u001b[0;31m             \u001b[0mself\u001b[0m\u001b[0;34m.\u001b[0m\u001b[0m_update_fun_impl\u001b[0m\u001b[0;34m(\u001b[0m\u001b[0;34m)\u001b[0m\u001b[0;34m\u001b[0m\u001b[0;34m\u001b[0m\u001b[0m\n\u001b[0m\u001b[1;32m    234\u001b[0m             \u001b[0mself\u001b[0m\u001b[0;34m.\u001b[0m\u001b[0mf_updated\u001b[0m \u001b[0;34m=\u001b[0m \u001b[0;32mTrue\u001b[0m\u001b[0;34m\u001b[0m\u001b[0;34m\u001b[0m\u001b[0m\n\u001b[1;32m    235\u001b[0m \u001b[0;34m\u001b[0m\u001b[0m\n",
      "\u001b[0;32m~/opt/anaconda3/envs/pltv/lib/python3.9/site-packages/scipy/optimize/_differentiable_functions.py\u001b[0m in \u001b[0;36mupdate_fun\u001b[0;34m()\u001b[0m\n\u001b[1;32m    135\u001b[0m \u001b[0;34m\u001b[0m\u001b[0m\n\u001b[1;32m    136\u001b[0m         \u001b[0;32mdef\u001b[0m \u001b[0mupdate_fun\u001b[0m\u001b[0;34m(\u001b[0m\u001b[0;34m)\u001b[0m\u001b[0;34m:\u001b[0m\u001b[0;34m\u001b[0m\u001b[0;34m\u001b[0m\u001b[0m\n\u001b[0;32m--> 137\u001b[0;31m             \u001b[0mself\u001b[0m\u001b[0;34m.\u001b[0m\u001b[0mf\u001b[0m \u001b[0;34m=\u001b[0m \u001b[0mfun_wrapped\u001b[0m\u001b[0;34m(\u001b[0m\u001b[0mself\u001b[0m\u001b[0;34m.\u001b[0m\u001b[0mx\u001b[0m\u001b[0;34m)\u001b[0m\u001b[0;34m\u001b[0m\u001b[0;34m\u001b[0m\u001b[0m\n\u001b[0m\u001b[1;32m    138\u001b[0m \u001b[0;34m\u001b[0m\u001b[0m\n\u001b[1;32m    139\u001b[0m         \u001b[0mself\u001b[0m\u001b[0;34m.\u001b[0m\u001b[0m_update_fun_impl\u001b[0m \u001b[0;34m=\u001b[0m \u001b[0mupdate_fun\u001b[0m\u001b[0;34m\u001b[0m\u001b[0;34m\u001b[0m\u001b[0m\n",
      "\u001b[0;32m~/opt/anaconda3/envs/pltv/lib/python3.9/site-packages/scipy/optimize/_differentiable_functions.py\u001b[0m in \u001b[0;36mfun_wrapped\u001b[0;34m(x)\u001b[0m\n\u001b[1;32m    132\u001b[0m             \u001b[0;31m# Overwriting results in undefined behaviour because\u001b[0m\u001b[0;34m\u001b[0m\u001b[0;34m\u001b[0m\u001b[0m\n\u001b[1;32m    133\u001b[0m             \u001b[0;31m# fun(self.x) will change self.x, with the two no longer linked.\u001b[0m\u001b[0;34m\u001b[0m\u001b[0;34m\u001b[0m\u001b[0m\n\u001b[0;32m--> 134\u001b[0;31m             \u001b[0;32mreturn\u001b[0m \u001b[0mfun\u001b[0m\u001b[0;34m(\u001b[0m\u001b[0mnp\u001b[0m\u001b[0;34m.\u001b[0m\u001b[0mcopy\u001b[0m\u001b[0;34m(\u001b[0m\u001b[0mx\u001b[0m\u001b[0;34m)\u001b[0m\u001b[0;34m,\u001b[0m \u001b[0;34m*\u001b[0m\u001b[0margs\u001b[0m\u001b[0;34m)\u001b[0m\u001b[0;34m\u001b[0m\u001b[0;34m\u001b[0m\u001b[0m\n\u001b[0m\u001b[1;32m    135\u001b[0m \u001b[0;34m\u001b[0m\u001b[0m\n\u001b[1;32m    136\u001b[0m         \u001b[0;32mdef\u001b[0m \u001b[0mupdate_fun\u001b[0m\u001b[0;34m(\u001b[0m\u001b[0;34m)\u001b[0m\u001b[0;34m:\u001b[0m\u001b[0;34m\u001b[0m\u001b[0;34m\u001b[0m\u001b[0m\n",
      "\u001b[0;31mTypeError\u001b[0m: log_likelihood() missing 1 required positional argument: 'c'"
     ]
    }
   ],
   "source": [
    "test_vals = {}\n",
    "\n",
    "for cohort in m.data.cohort.unique():\n",
    "    x = list(range(1,25))\n",
    "\n",
    "    # power-law\n",
    "    arr = m.data[m.data.cohort==cohort]['borrower_retention'][1:].dropna()\n",
    "    \n",
    "    if len(arr)>=3:\n",
    "        power_param, power_cov = curve_fit(power_law, arr.index, arr)\n",
    "        power_fit = power_law(x, power_param[0], power_param[1])\n",
    "\n",
    "        # sbg\n",
    "        c = m.data[m.data.cohort==cohort]['Count Borrowers'].reset_index(drop=True)\n",
    "\n",
    "        # since we're working with logs, we need bounds for alpha and beta > 0.\n",
    "        bounds = ((0,None), (0,None))\n",
    "\n",
    "        results = minimize(log_likelihood, np.array([1,1]), bounds=bounds)\n",
    "\n",
    "        sBG_forecast = []\n",
    "        for i in x:\n",
    "            sBG_forecast.append(s(i, results.x[0], results.x[1]))\n",
    "\n",
    "        test_vals[cohort] = {'power-law': test(arr, power_fit, metric='rmse'), \n",
    "                             'sbg': test(arr, sBG_forecast)}\n",
    "    \n",
    "test_vals"
   ]
  },
  {
   "cell_type": "code",
   "execution_count": 159,
   "id": "5f56468e",
   "metadata": {},
   "outputs": [
    {
     "data": {
      "text/html": [
       "<div>\n",
       "<style scoped>\n",
       "    .dataframe tbody tr th:only-of-type {\n",
       "        vertical-align: middle;\n",
       "    }\n",
       "\n",
       "    .dataframe tbody tr th {\n",
       "        vertical-align: top;\n",
       "    }\n",
       "\n",
       "    .dataframe thead th {\n",
       "        text-align: right;\n",
       "    }\n",
       "</style>\n",
       "<table border=\"1\" class=\"dataframe\">\n",
       "  <thead>\n",
       "    <tr style=\"text-align: right;\">\n",
       "      <th></th>\n",
       "      <th>First Loan Local Disbursement Month</th>\n",
       "      <th>Months Since First Loan Disbursed</th>\n",
       "      <th>Count First Loans</th>\n",
       "      <th>Count Borrowers</th>\n",
       "      <th>Count Loans</th>\n",
       "      <th>Total Amount</th>\n",
       "      <th>Total Interest Assessed</th>\n",
       "      <th>Total Rollover Charged</th>\n",
       "      <th>Total Rollover Reversed</th>\n",
       "      <th>Default Rate Amount 7D</th>\n",
       "      <th>...</th>\n",
       "      <th>default_rate_7dpd</th>\n",
       "      <th>default_rate_51dpd</th>\n",
       "      <th>default_rate_365dpd</th>\n",
       "      <th>loans_per_original</th>\n",
       "      <th>origination_per_original</th>\n",
       "      <th>revenue_per_original</th>\n",
       "      <th>cm$_per_original</th>\n",
       "      <th>opex_per_original</th>\n",
       "      <th>ltv_per_original</th>\n",
       "      <th>cm%_per_original</th>\n",
       "    </tr>\n",
       "  </thead>\n",
       "  <tbody>\n",
       "    <tr>\n",
       "      <th>0</th>\n",
       "      <td>2021-10</td>\n",
       "      <td>0</td>\n",
       "      <td>8858</td>\n",
       "      <td>8858</td>\n",
       "      <td>15028</td>\n",
       "      <td>50223000</td>\n",
       "      <td>6690400</td>\n",
       "      <td>858176</td>\n",
       "      <td>276</td>\n",
       "      <td>0.189809</td>\n",
       "      <td>...</td>\n",
       "      <td>0.189809</td>\n",
       "      <td>0.165719</td>\n",
       "      <td>0.145833</td>\n",
       "      <td>1.696545</td>\n",
       "      <td>52.445558</td>\n",
       "      <td>7.888934</td>\n",
       "      <td>-0.909803</td>\n",
       "      <td>2.807600</td>\n",
       "      <td>-3.717404</td>\n",
       "      <td>-0.471217</td>\n",
       "    </tr>\n",
       "    <tr>\n",
       "      <th>1</th>\n",
       "      <td>2021-10</td>\n",
       "      <td>1</td>\n",
       "      <td>0</td>\n",
       "      <td>4319</td>\n",
       "      <td>5434</td>\n",
       "      <td>34546000</td>\n",
       "      <td>5115380</td>\n",
       "      <td>571802</td>\n",
       "      <td>0</td>\n",
       "      <td>0.182437</td>\n",
       "      <td>...</td>\n",
       "      <td>0.182437</td>\n",
       "      <td>0.152869</td>\n",
       "      <td>0.134525</td>\n",
       "      <td>0.613457</td>\n",
       "      <td>36.074791</td>\n",
       "      <td>5.946228</td>\n",
       "      <td>0.293367</td>\n",
       "      <td>1.200573</td>\n",
       "      <td>-0.907206</td>\n",
       "      <td>-0.152568</td>\n",
       "    </tr>\n",
       "    <tr>\n",
       "      <th>2</th>\n",
       "      <td>2021-10</td>\n",
       "      <td>2</td>\n",
       "      <td>0</td>\n",
       "      <td>3082</td>\n",
       "      <td>3635</td>\n",
       "      <td>28962000</td>\n",
       "      <td>4608670</td>\n",
       "      <td>379235</td>\n",
       "      <td>0</td>\n",
       "      <td>0.164030</td>\n",
       "      <td>...</td>\n",
       "      <td>0.164030</td>\n",
       "      <td>0.151921</td>\n",
       "      <td>0.133690</td>\n",
       "      <td>0.410364</td>\n",
       "      <td>30.243678</td>\n",
       "      <td>5.272643</td>\n",
       "      <td>0.524458</td>\n",
       "      <td>0.869320</td>\n",
       "      <td>-0.344862</td>\n",
       "      <td>-0.065406</td>\n",
       "    </tr>\n",
       "    <tr>\n",
       "      <th>3</th>\n",
       "      <td>2021-10</td>\n",
       "      <td>3</td>\n",
       "      <td>0</td>\n",
       "      <td>2511</td>\n",
       "      <td>2843</td>\n",
       "      <td>26733000</td>\n",
       "      <td>4177440</td>\n",
       "      <td>71149</td>\n",
       "      <td>0</td>\n",
       "      <td>0.127241</td>\n",
       "      <td>...</td>\n",
       "      <td>0.127241</td>\n",
       "      <td>0.094158</td>\n",
       "      <td>0.082859</td>\n",
       "      <td>0.320953</td>\n",
       "      <td>27.916036</td>\n",
       "      <td>4.690878</td>\n",
       "      <td>1.989090</td>\n",
       "      <td>0.726081</td>\n",
       "      <td>1.263009</td>\n",
       "      <td>0.269248</td>\n",
       "    </tr>\n",
       "  </tbody>\n",
       "</table>\n",
       "<p>4 rows × 28 columns</p>\n",
       "</div>"
      ],
      "text/plain": [
       "  First Loan Local Disbursement Month  Months Since First Loan Disbursed  \\\n",
       "0                             2021-10                                  0   \n",
       "1                             2021-10                                  1   \n",
       "2                             2021-10                                  2   \n",
       "3                             2021-10                                  3   \n",
       "\n",
       "   Count First Loans  Count Borrowers  Count Loans  Total Amount  \\\n",
       "0               8858             8858        15028      50223000   \n",
       "1                  0             4319         5434      34546000   \n",
       "2                  0             3082         3635      28962000   \n",
       "3                  0             2511         2843      26733000   \n",
       "\n",
       "   Total Interest Assessed  Total Rollover Charged  Total Rollover Reversed  \\\n",
       "0                  6690400                  858176                      276   \n",
       "1                  5115380                  571802                        0   \n",
       "2                  4608670                  379235                        0   \n",
       "3                  4177440                   71149                        0   \n",
       "\n",
       "   Default Rate Amount 7D  ...  default_rate_7dpd  default_rate_51dpd  \\\n",
       "0                0.189809  ...           0.189809            0.165719   \n",
       "1                0.182437  ...           0.182437            0.152869   \n",
       "2                0.164030  ...           0.164030            0.151921   \n",
       "3                0.127241  ...           0.127241            0.094158   \n",
       "\n",
       "  default_rate_365dpd  loans_per_original  origination_per_original  \\\n",
       "0            0.145833            1.696545                 52.445558   \n",
       "1            0.134525            0.613457                 36.074791   \n",
       "2            0.133690            0.410364                 30.243678   \n",
       "3            0.082859            0.320953                 27.916036   \n",
       "\n",
       "   revenue_per_original  cm$_per_original  opex_per_original  \\\n",
       "0              7.888934         -0.909803           2.807600   \n",
       "1              5.946228          0.293367           1.200573   \n",
       "2              5.272643          0.524458           0.869320   \n",
       "3              4.690878          1.989090           0.726081   \n",
       "\n",
       "   ltv_per_original  cm%_per_original  \n",
       "0         -3.717404         -0.471217  \n",
       "1         -0.907206         -0.152568  \n",
       "2         -0.344862         -0.065406  \n",
       "3          1.263009          0.269248  \n",
       "\n",
       "[4 rows x 28 columns]"
      ]
     },
     "execution_count": 159,
     "metadata": {},
     "output_type": "execute_result"
    }
   ],
   "source": [
    "m.data[m.data.cohort=='2021-10']"
   ]
  },
  {
   "cell_type": "code",
   "execution_count": null,
   "id": "09d85076",
   "metadata": {},
   "outputs": [],
   "source": [
    "forecast_methods = {\n",
    "    'Count Borrowers': 'sbg',\n",
    "    'loans_per_borrwer': 'power-law'\n",
    "}"
   ]
  },
  {
   "cell_type": "code",
   "execution_count": null,
   "id": "386d3900",
   "metadata": {},
   "outputs": [],
   "source": [
    "m.data[m.data['First Loan Local Disbursement Month']=='2020-09']['Count Borrowers']"
   ]
  },
  {
   "cell_type": "markdown",
   "id": "8f62b19b",
   "metadata": {},
   "source": [
    "#### Questions/Concerns\n",
    "\n",
    "1. Is there a framework that's been developed/used to back test this forecast model?\n",
    "2. Filter out bad cohorts. Why are some starting at 0? (e.g. 2021-07)\n",
    "3. Why are the last few months not included? Why not just omit the final incomplete month?\n"
   ]
  },
  {
   "cell_type": "code",
   "execution_count": null,
   "id": "e1a69225",
   "metadata": {},
   "outputs": [],
   "source": [
    "new_data[new_data['First Loan Local Disbursement Month'] == '2021-07']"
   ]
  },
  {
   "cell_type": "code",
   "execution_count": null,
   "id": "5606c573",
   "metadata": {},
   "outputs": [],
   "source": []
  },
  {
   "cell_type": "code",
   "execution_count": null,
   "id": "3c7799ac",
   "metadata": {},
   "outputs": [],
   "source": []
  }
 ],
 "metadata": {
  "kernelspec": {
   "display_name": "Python 3 (ipykernel)",
   "language": "python",
   "name": "python3"
  },
  "language_info": {
   "codemirror_mode": {
    "name": "ipython",
    "version": 3
   },
   "file_extension": ".py",
   "mimetype": "text/x-python",
   "name": "python",
   "nbconvert_exporter": "python",
   "pygments_lexer": "ipython3",
   "version": "3.9.7"
  }
 },
 "nbformat": 4,
 "nbformat_minor": 5
}
