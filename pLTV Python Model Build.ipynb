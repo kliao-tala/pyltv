{
 "cells": [
  {
   "cell_type": "markdown",
   "id": "1738c702",
   "metadata": {},
   "source": [
    "# pLTV Python Model"
   ]
  },
  {
   "cell_type": "markdown",
   "id": "ac5b07aa",
   "metadata": {},
   "source": [
    "## TO DO LIST\n",
    "\n",
    "1. Add all forecasting methods to model. - DONE\n",
    "2. Add back testing to model.\n",
    "3. Revisit loan size forecast, errors seem large."
   ]
  },
  {
   "cell_type": "markdown",
   "id": "a6306da1",
   "metadata": {},
   "source": [
    "#### Resources"
   ]
  },
  {
   "cell_type": "markdown",
   "id": "71408ea4",
   "metadata": {},
   "source": [
    "Github repo\n",
    "https://github.com/kliao-tala/pLTV\n",
    "\n",
    "Fader & Hardie paper on sBG model\n",
    "https://drive.google.com/file/d/1tfMiERon1HgWo8dDJddwSzwc_AXK7LCA/view?usp=sharing\n",
    "https://faculty.wharton.upenn.edu/wp-content/uploads/2012/04/Fader_hardie_jim_07.pdf\n",
    "\n",
    "YT tutorial to pull look data\n",
    "https://www.youtube.com/watch?v=EKwtLBnwXHk&list=PLXwS3L4W3KR2fhnQa-sLyajPZ9-L00KGX&index=1\n",
    "\n",
    "Looker Python SDK & API\n",
    "https://inventure.looker.com/extensions/marketplace_extension_api_explorer::api-explorer/4.0"
   ]
  },
  {
   "cell_type": "markdown",
   "id": "a2848eca",
   "metadata": {},
   "source": [
    "---"
   ]
  },
  {
   "cell_type": "code",
   "execution_count": 14,
   "id": "bdd8940e",
   "metadata": {},
   "outputs": [],
   "source": [
    "import numpy as np\n",
    "\n",
    "import pandas as pd\n",
    "pd.options.mode.chained_assignment = None  # default='warn'\n",
    "\n",
    "from scipy.optimize import curve_fit, minimize\n",
    "from scipy.special import logsumexp\n",
    "\n",
    "import plotly\n",
    "from plotly import graph_objects as go\n",
    "import plotly.io as pio\n",
    "\n",
    "# change default plotly theme\n",
    "pio.templates.default = \"plotly_white\"\n",
    "\n",
    "import sbg"
   ]
  },
  {
   "cell_type": "code",
   "execution_count": 2,
   "id": "ac07ccc0",
   "metadata": {},
   "outputs": [],
   "source": [
    "inputs = pd.read_csv('data/pltv_inputs.csv')\n",
    "data = pd.read_csv('data/ke_data.csv')\n",
    "pltv_expected = pd.read_csv('data/pltv_expected.csv')"
   ]
  },
  {
   "cell_type": "markdown",
   "id": "392a13c8",
   "metadata": {},
   "source": [
    "## Data Munging"
   ]
  },
  {
   "cell_type": "code",
   "execution_count": 3,
   "id": "77fcd3ff",
   "metadata": {},
   "outputs": [],
   "source": [
    "# fix date inconsistencies\n",
    "data = data.replace({'2021-9': '2021-09', '2021-8': '2021-08', '2021-7': '2021-07', \n",
    "              '2021-6': '2021-06', '2021-5': '2021-05', '2021-4': '2021-04', '2020-9': '2020-09'})\n",
    "\n",
    "# sort by months since first disbursement\n",
    "data = data.sort_values(['First Loan Local Disbursement Month', \n",
    "                         'Months Since First Loan Disbursed'])\n",
    "\n",
    "# remove all columns calculated through looker\n",
    "data = data.loc[:,:\"Default Rate Amount 51D\"]"
   ]
  },
  {
   "cell_type": "code",
   "execution_count": 4,
   "id": "be7e611e",
   "metadata": {},
   "outputs": [
    {
     "data": {
      "text/html": [
       "<div>\n",
       "<style scoped>\n",
       "    .dataframe tbody tr th:only-of-type {\n",
       "        vertical-align: middle;\n",
       "    }\n",
       "\n",
       "    .dataframe tbody tr th {\n",
       "        vertical-align: top;\n",
       "    }\n",
       "\n",
       "    .dataframe thead th {\n",
       "        text-align: right;\n",
       "    }\n",
       "</style>\n",
       "<table border=\"1\" class=\"dataframe\">\n",
       "  <thead>\n",
       "    <tr style=\"text-align: right;\">\n",
       "      <th></th>\n",
       "      <th>First Loan Local Disbursement Month</th>\n",
       "      <th>Months Since First Loan Disbursed</th>\n",
       "      <th>Count First Loans</th>\n",
       "      <th>Count Borrowers</th>\n",
       "      <th>Count Loans</th>\n",
       "      <th>Total Amount</th>\n",
       "      <th>Total Interest Assessed</th>\n",
       "      <th>Total Rollover Charged</th>\n",
       "      <th>Total Rollover Reversed</th>\n",
       "      <th>Default Rate Amount 7D</th>\n",
       "      <th>Default Rate Amount 30D</th>\n",
       "      <th>Default Rate Amount 51D</th>\n",
       "    </tr>\n",
       "  </thead>\n",
       "  <tbody>\n",
       "    <tr>\n",
       "      <th>0</th>\n",
       "      <td>2020-09</td>\n",
       "      <td>0</td>\n",
       "      <td>7801</td>\n",
       "      <td>7801</td>\n",
       "      <td>13156</td>\n",
       "      <td>48361000</td>\n",
       "      <td>6540240</td>\n",
       "      <td>681325</td>\n",
       "      <td>81520</td>\n",
       "      <td>0.155382</td>\n",
       "      <td>0.121192</td>\n",
       "      <td>0.113031</td>\n",
       "    </tr>\n",
       "    <tr>\n",
       "      <th>15</th>\n",
       "      <td>2020-09</td>\n",
       "      <td>1</td>\n",
       "      <td>0</td>\n",
       "      <td>4481</td>\n",
       "      <td>5697</td>\n",
       "      <td>34490000</td>\n",
       "      <td>4660880</td>\n",
       "      <td>416544</td>\n",
       "      <td>32387</td>\n",
       "      <td>0.130661</td>\n",
       "      <td>0.101823</td>\n",
       "      <td>0.095738</td>\n",
       "    </tr>\n",
       "    <tr>\n",
       "      <th>2</th>\n",
       "      <td>2020-09</td>\n",
       "      <td>2</td>\n",
       "      <td>0</td>\n",
       "      <td>3661</td>\n",
       "      <td>4310</td>\n",
       "      <td>31461000</td>\n",
       "      <td>4297310</td>\n",
       "      <td>401077</td>\n",
       "      <td>30617</td>\n",
       "      <td>0.139719</td>\n",
       "      <td>0.103958</td>\n",
       "      <td>0.094792</td>\n",
       "    </tr>\n",
       "    <tr>\n",
       "      <th>9</th>\n",
       "      <td>2020-09</td>\n",
       "      <td>3</td>\n",
       "      <td>0</td>\n",
       "      <td>3050</td>\n",
       "      <td>3599</td>\n",
       "      <td>30482000</td>\n",
       "      <td>4178400</td>\n",
       "      <td>343062</td>\n",
       "      <td>17629</td>\n",
       "      <td>0.125111</td>\n",
       "      <td>0.089089</td>\n",
       "      <td>0.084399</td>\n",
       "    </tr>\n",
       "    <tr>\n",
       "      <th>10</th>\n",
       "      <td>2020-09</td>\n",
       "      <td>4</td>\n",
       "      <td>0</td>\n",
       "      <td>2549</td>\n",
       "      <td>2985</td>\n",
       "      <td>29303000</td>\n",
       "      <td>3964590</td>\n",
       "      <td>300262</td>\n",
       "      <td>920</td>\n",
       "      <td>0.113720</td>\n",
       "      <td>0.086750</td>\n",
       "      <td>0.081658</td>\n",
       "    </tr>\n",
       "  </tbody>\n",
       "</table>\n",
       "</div>"
      ],
      "text/plain": [
       "   First Loan Local Disbursement Month  Months Since First Loan Disbursed  \\\n",
       "0                              2020-09                                  0   \n",
       "15                             2020-09                                  1   \n",
       "2                              2020-09                                  2   \n",
       "9                              2020-09                                  3   \n",
       "10                             2020-09                                  4   \n",
       "\n",
       "    Count First Loans  Count Borrowers  Count Loans  Total Amount  \\\n",
       "0                7801             7801        13156      48361000   \n",
       "15                  0             4481         5697      34490000   \n",
       "2                   0             3661         4310      31461000   \n",
       "9                   0             3050         3599      30482000   \n",
       "10                  0             2549         2985      29303000   \n",
       "\n",
       "    Total Interest Assessed  Total Rollover Charged  Total Rollover Reversed  \\\n",
       "0                   6540240                  681325                    81520   \n",
       "15                  4660880                  416544                    32387   \n",
       "2                   4297310                  401077                    30617   \n",
       "9                   4178400                  343062                    17629   \n",
       "10                  3964590                  300262                      920   \n",
       "\n",
       "    Default Rate Amount 7D  Default Rate Amount 30D  Default Rate Amount 51D  \n",
       "0                 0.155382                 0.121192                 0.113031  \n",
       "15                0.130661                 0.101823                 0.095738  \n",
       "2                 0.139719                 0.103958                 0.094792  \n",
       "9                 0.125111                 0.089089                 0.084399  \n",
       "10                0.113720                 0.086750                 0.081658  "
      ]
     },
     "execution_count": 4,
     "metadata": {},
     "output_type": "execute_result"
    }
   ],
   "source": [
    "data.head()"
   ]
  },
  {
   "cell_type": "markdown",
   "id": "8164b5b1",
   "metadata": {},
   "source": [
    "## pLTV Model"
   ]
  },
  {
   "cell_type": "code",
   "execution_count": 5,
   "id": "7a26c67b",
   "metadata": {},
   "outputs": [],
   "source": [
    "# KSH to USD conversion factor\n",
    "ksh_usd = 0.00925\n",
    "late_fee = 0.08 # % fee on defaults"
   ]
  },
  {
   "cell_type": "code",
   "execution_count": 6,
   "id": "f3482dad",
   "metadata": {},
   "outputs": [],
   "source": [
    "# model parameters\n",
    "min_months = 4"
   ]
  },
  {
   "cell_type": "code",
   "execution_count": 302,
   "id": "f6a41ab1",
   "metadata": {},
   "outputs": [],
   "source": [
    "class Model:\n",
    "    \"\"\"\n",
    "    sBG model class containing all functionality for creating, analyzing, and backtesting\n",
    "    the sBG model.\n",
    "    \n",
    "    Parameters\n",
    "    ----------\n",
    "    data : pandas DataFrame\n",
    "        Raw data pulled from Looker.\n",
    "        \n",
    "    Methods\n",
    "    -------\n",
    "    clean_data\n",
    "        Performs all data cleaning steps and returns the cleaned data.\n",
    "        \n",
    "    borrower_retention(cohort_data)\n",
    "        Computes borrower retention.\n",
    "    \n",
    "    \"\"\"\n",
    "    \n",
    "    def __init__(self, data):\n",
    "        self.data = data\n",
    "        self.forecast_cols = ['Count Borrowers', 'borrower_retention', 'borrower_survival', 'loan_size', \n",
    "                'loans_per_borrower', 'Count Loans', 'Total Amount', 'interest_rate', 'default_rate_7dpd',\n",
    "                'default_rate_51dpd', 'default_rate_365dpd', 'loans_per_original', \n",
    "                'origination_per_original', 'revenue_per_original', 'cm$_per_original',\n",
    "                'opex_per_original', 'ltv_per_original', 'cm%_per_original']\n",
    "        \n",
    "        self.clean_data()\n",
    "        \n",
    "        \n",
    "    def clean_data(self):\n",
    "        # fix date inconsistencies\n",
    "        self.data = self.data.replace({'2021-9': '2021-09', '2021-8': '2021-08', \\\n",
    "                                       '2021-7': '2021-07', '2021-6': '2021-06', \\\n",
    "                                       '2021-5': '2021-05', '2021-4': '2021-04', \\\n",
    "                                       '2020-9': '2020-09'})\n",
    "\n",
    "        # sort by months since first disbursement\n",
    "        self.data = self.data.sort_values(['First Loan Local Disbursement Month', \n",
    "                                 'Months Since First Loan Disbursed'])\n",
    "\n",
    "        # remove all columns calculated through looker\n",
    "        self.data = self.data.loc[:,:\"Default Rate Amount 51D\"]\n",
    "        \n",
    "        # add more convenient cohort column\n",
    "        self.data['cohort'] = self.data['First Loan Local Disbursement Month']\n",
    "        \n",
    "        \n",
    "    # --- DATA FUNCTIONS --- #\n",
    "    def borrower_retention(self, cohort_data):\n",
    "        return cohort_data['Count Borrowers']/cohort_data['Count Borrowers'].max()\n",
    "\n",
    "    \n",
    "    def borrower_survival(self, cohort_data):\n",
    "        return cohort_data['Count Borrowers']/cohort_data['Count Borrowers'].shift(1)\n",
    "    \n",
    "    \n",
    "    def loans_per_borrower(self, cohort_data):\n",
    "        return cohort_data['Count Loans']/cohort_data['Count Borrowers']\n",
    "    \n",
    "    \n",
    "    def loan_size(self, cohort_data, to_usd):\n",
    "        df = cohort_data['Total Amount']/cohort_data['Count Loans']\n",
    "        if to_usd:\n",
    "            df *= ksh_usd\n",
    "        return df\n",
    "    \n",
    "    \n",
    "    def interest_rate(self, cohort_data):\n",
    "        return cohort_data['Total Interest Assessed']/cohort_data['Total Amount']\n",
    "    \n",
    "    \n",
    "    def default_rate(self, cohort_data, period=7):\n",
    "        if period==7:\n",
    "            return cohort_data['Default Rate Amount 7D'].fillna(0)\n",
    "        \n",
    "        elif period==51:\n",
    "            default_rate = cohort_data['Default Rate Amount 51D']\n",
    "\n",
    "            recovery_rate_51 = float(inputs[inputs.market=='ke']['recovery_7-30'] + \\\n",
    "                                     inputs[inputs.market=='ke']['recovery_30-51'])\n",
    "\n",
    "            ## fill null 51dpd values with 7dpd values based on recovery rates\n",
    "            derived_51dpd = (cohort_data['Count Loans']*(cohort_data['default_rate_7dpd']) - \\\n",
    "                cohort_data['Count Loans']*(cohort_data['default_rate_7dpd'])*recovery_rate_51)/ \\\n",
    "                cohort_data['Count Loans']\n",
    "            \n",
    "            return default_rate.fillna(derived_51dpd)\n",
    "        \n",
    "        elif period==365:\n",
    "            # get actual data if it exists\n",
    "            default_rate = np.nan*cohort_data['Default Rate Amount 51D']\n",
    "\n",
    "            recovery_rate_365 = float(inputs[inputs.market=='ke']['recovery_51_'])\n",
    "\n",
    "            ## fill null 365dpd values with 51dpd values based on recovery rates\n",
    "            derived_365dpd = (cohort_data['Count Loans']*(cohort_data['default_rate_51dpd']) - \\\n",
    "                cohort_data['Count Loans']*(cohort_data['default_rate_51dpd'])* \\\n",
    "                recovery_rate_365)/cohort_data['Count Loans']\n",
    "\n",
    "            return default_rate.fillna(derived_365dpd)\n",
    "        \n",
    "        \n",
    "    def loans_per_original(self, cohort_data):\n",
    "        return cohort_data['Count Loans']/cohort_data['Count Borrowers'].max()\n",
    "    \n",
    "    \n",
    "    def origination_per_original(self, cohort_data, to_usd):\n",
    "        df = cohort_data['Total Amount']/cohort_data['Count Borrowers'].max()\n",
    "        if to_usd:\n",
    "            df *= ksh_usd\n",
    "        return df\n",
    "    \n",
    "    \n",
    "    def revenue_per_original(self, cohort_data, to_usd):\n",
    "        interest_revenue = cohort_data['origination_per_original']*cohort_data['interest_rate']\n",
    "        \n",
    "        # 0.08 is the % fee we charge to defaulted customers\n",
    "        revenue = interest_revenue + (cohort_data['origination_per_original'] + interest_revenue) * \\\n",
    "            cohort_data['default_rate_7dpd']*0.08\n",
    "        \n",
    "        # note that origination_per_original is already in USD so no conversion is necessary\n",
    "        return revenue\n",
    "    \n",
    "    \n",
    "    def credit_margin(self, cohort_data):\n",
    "        return cohort_data['revenue_per_original'] - \\\n",
    "                (cohort_data['origination_per_original'] + cohort_data['revenue_per_original'])* \\\n",
    "                cohort_data['default_rate_365dpd']\n",
    "    \n",
    "    \n",
    "    def opex_per_original(self, cohort_data):\n",
    "        opex_cost_per_loan = float(inputs[inputs.market=='ke']['opex cost per loan'])\n",
    "        cost_of_capital = float(inputs[inputs.market=='ke']['cost of capital'])/12\n",
    "        \n",
    "        return opex_cost_per_loan*cohort_data['loans_per_original'] + \\\n",
    "            cost_of_capital*cohort_data['origination_per_original']\n",
    "    \n",
    "    \n",
    "    def ltv_per_original(self, cohort_data):\n",
    "        return cohort_data['cm$_per_original'] - cohort_data['opex_per_original']\n",
    "    \n",
    "    \n",
    "    def credit_margin_percent(self, cohort_data):\n",
    "        return cohort_data['ltv_per_original']/cohort_data['revenue_per_original']\n",
    "        \n",
    "        \n",
    "    def generate_features(self, to_usd=True):\n",
    "        \"\"\"\n",
    "        Generate all features required for pLTV model.\n",
    "        \"\"\"\n",
    "        cohorts = []\n",
    "\n",
    "        # for each cohort\n",
    "        for cohort in self.data.loc[:,'First Loan Local Disbursement Month'].unique():\n",
    "            # omit the last two months of incomplete data\n",
    "            cohort_data = self.data[self.data['First Loan Local Disbursement Month']==cohort].iloc[:-2,:]\n",
    "\n",
    "            # call data functions to generate calculated features\n",
    "            cohort_data['borrower_retention'] = self.borrower_retention(cohort_data)\n",
    "            cohort_data['borrower_survival'] = self.borrower_survival(cohort_data)\n",
    "            cohort_data['loans_per_borrower'] = self.loans_per_borrower(cohort_data)\n",
    "            cohort_data['loan_size'] = self.loan_size(cohort_data, to_usd)\n",
    "            cohort_data['interest_rate'] = self.interest_rate(cohort_data)\n",
    "            cohort_data['default_rate_7dpd'] = self.default_rate(cohort_data, period=7)\n",
    "            cohort_data['default_rate_51dpd'] = self.default_rate(cohort_data, period=51)\n",
    "            cohort_data['default_rate_365dpd'] = self.default_rate(cohort_data, period=365)\n",
    "            cohort_data['loans_per_original'] = self.loans_per_original(cohort_data)\n",
    "            cohort_data['origination_per_original'] = self.origination_per_original(cohort_data, to_usd)\n",
    "            cohort_data['revenue_per_original'] = self.revenue_per_original(cohort_data, to_usd)\n",
    "            cohort_data['cm$_per_original'] = self.credit_margin(cohort_data)\n",
    "            cohort_data['opex_per_original'] = self.opex_per_original(cohort_data)\n",
    "            cohort_data['ltv_per_original'] = self.ltv_per_original(cohort_data)\n",
    "            cohort_data['cm%_per_original'] = self.credit_margin_percent(cohort_data)\n",
    "            \n",
    "            # reset the index and append the data\n",
    "            cohorts.append(cohort_data.reset_index(drop=True))\n",
    "\n",
    "        self.cohorts = cohorts\n",
    "        self.data = pd.concat(cohorts, axis=0)\n",
    "    \n",
    "    \n",
    "    def plot_cohorts(self, param, data='raw'):\n",
    "        \"\"\"\n",
    "        Generate scatter plot for a specific paramter.\n",
    "        \n",
    "        Parameters\n",
    "        ----------\n",
    "        \n",
    "        \"\"\"\n",
    "        \n",
    "        curves = []\n",
    "        \n",
    "        if data == 'forecast':\n",
    "            for cohort in self.forecast.cohort.unique():\n",
    "                c_data = self.forecast[self.forecast.cohort==cohort]\n",
    "                for dtype in c_data.data_type.unique():\n",
    "                    output = c_data[c_data.data_type==dtype][param]\n",
    "\n",
    "                    output.name = cohort + '-' + dtype\n",
    "\n",
    "                    curves.append(output)\n",
    "        \n",
    "        elif data == 'backtest':\n",
    "            for cohort in self.backtest.cohort.unique():\n",
    "                c_data = self.backtest[self.backtest.cohort==cohort]\n",
    "                \n",
    "                # append raw data\n",
    "                output = self.data[self.data.cohort==cohort][param]\n",
    "                output.name = cohort + '-actual'\n",
    "                \n",
    "                curves.append(output)\n",
    "                \n",
    "                # append forecast\n",
    "                output = c_data[c_data.data_type=='forecast'][param]\n",
    "                output.name = cohort + '-forecast'\n",
    "\n",
    "                curves.append(output)\n",
    "                \n",
    "        elif data == 'backtest_report':\n",
    "            for cohort in self.backtest_report.cohort.unique():\n",
    "                c_data = self.backtest_report[self.backtest_report.cohort==cohort]\n",
    "                output = c_data[param]\n",
    "\n",
    "                output.name = cohort\n",
    "\n",
    "                curves.append(output)\n",
    "                \n",
    "        elif data == 'raw':\n",
    "            for cohort in self.data.cohort.unique():\n",
    "                output = self.data[self.data.cohort==cohort][param]\n",
    "\n",
    "                output.name = cohort\n",
    "\n",
    "                curves.append(output)\n",
    "            \n",
    "        traces = []\n",
    "\n",
    "        for cohort in curves:\n",
    "            if 'forecast' in cohort.name:\n",
    "                traces.append(go.Scatter(name=cohort.name, x=cohort.index, y=cohort, mode='lines',\n",
    "                                        line=dict(width=3, dash='dash')))\n",
    "            else:\n",
    "                if cohort.notnull().any():\n",
    "                    traces.append(go.Scatter(name=cohort.name, x=cohort.index, y=cohort, mode='markers+lines',\n",
    "                                        line=dict(width=2)))\n",
    "\n",
    "        fig = go.Figure(traces)\n",
    "        fig.update_layout(xaxis=dict(title='Month Since Disbursement'),\n",
    "                         yaxis=dict(title=param))\n",
    "\n",
    "        fig.show()\n",
    "        \n",
    "        \n",
    "    # --- FORECAST FUNCTIONS --- #\n",
    "    def forecast_features(self, data, months=24, to_usd=True):\n",
    "        \"\"\"\n",
    "        Generates a forecast of \"Count Borrowers\" out to the input number of months.\n",
    "        The original and forecasted values are returned as a new dataframe, set as\n",
    "        a new attribute of the model, *.forecast*. \n",
    "        \n",
    "        Parameters\n",
    "        ----------\n",
    "        months : int\n",
    "            Number of months to forecast to.\n",
    "        \"\"\"\n",
    "        \n",
    "        # initialize alpha and beta, optimized later by model\n",
    "        alpha = beta = 1\n",
    "        \n",
    "        # list to hold individual cohort forecasts\n",
    "        forecast_dfs = []\n",
    "\n",
    "        # range of desired time periods\n",
    "        times = list(range(1, months+1))\n",
    "        times_dict = {i:i for i in times}\n",
    "        \n",
    "        for cohort in data.cohort.unique():\n",
    "            # data for current cohort\n",
    "            c_data = data[data.cohort==cohort]\n",
    "            \n",
    "            # starting cohort size\n",
    "            n = c_data.loc[0, 'Count Borrowers']\n",
    "\n",
    "            # only for cohorts with at least 4 data points\n",
    "            if len(c_data) >= min_months:\n",
    "                c = c_data['Count Borrowers']\n",
    "\n",
    "                # define bounds for alpha and beta (must be positive)\n",
    "                bounds = ((0,1e5), (0,1e5))\n",
    "                \n",
    "                # use scipy's minimize function on log_likelihood to optimize alpha and beta\n",
    "                results = minimize(log_likelihood, np.array([alpha,beta]), args=c, bounds=bounds)\n",
    "\n",
    "                \n",
    "                # list to hold forecasted values \n",
    "                forecast = []\n",
    "                for t in times:\n",
    "                    forecast.append(n*s(t, results.x[0], results.x[1]))\n",
    "\n",
    "                # convert list to dataframe\n",
    "                forecast = pd.DataFrame(forecast, index=times, columns=['Count Borrowers'])\n",
    "\n",
    "                # null df used to extend original cohort df to desired number of forecast months\n",
    "                dummy_df = pd.DataFrame(np.nan, index=range(0,months+1), columns=['null'])\n",
    "\n",
    "                # create label column to denote actual vs forecast data\n",
    "                c_data['data_type'] = 'actual'\n",
    "\n",
    "                # extend cohort df\n",
    "                c_data = pd.concat([c_data, dummy_df], axis=1).drop('null', axis=1)\n",
    "                \n",
    "                # fill missing values in each col\n",
    "                c_data.cohort = c_data.cohort.ffill()\n",
    "                c_data['First Loan Local Disbursement Month'] = \\\n",
    "                    c_data['First Loan Local Disbursement Month'].ffill()\n",
    "                c_data['Months Since First Loan Disbursed'] = \\\n",
    "                    c_data['Months Since First Loan Disbursed'].fillna(times_dict).astype(int)\n",
    "                c_data['Count First Loans'] = c_data['Count First Loans'].ffill()\n",
    "                \n",
    "\n",
    "                # label forecasted data\n",
    "                c_data.data_type = c_data.data_type.fillna('forecast')\n",
    "\n",
    "                # fill in the forecasted data\n",
    "                c_data['Count Borrowers'] = c_data['Count Borrowers'].fillna(forecast['Count Borrowers'])\n",
    "                \n",
    "                # add retention & survival features\n",
    "                c_data['borrower_retention'] = m.borrower_retention(c_data)\n",
    "                c_data['borrower_survival'] = m.borrower_survival(c_data)\n",
    "                \n",
    "                \n",
    "                # forecast loan size\n",
    "                for i in c_data[c_data.loan_size.isnull()].index:\n",
    "                    c_data.loc[i, 'loan_size'] = c_data.loc[i-1, 'loan_size'] * \\\n",
    "                    pltv_expected.loc[i,'loan_size']/pltv_expected.loc[i-1, 'loan_size']\n",
    "                \n",
    "                \n",
    "                # forecast loans_per_borrower\n",
    "                for i in c_data[c_data.loans_per_borrower.isnull()].index:\n",
    "                    c_data.loc[i, 'loans_per_borrower'] = c_data.loc[i-1, 'loans_per_borrower'] * \\\n",
    "                    pltv_expected.loc[i,'loans_per_borrower']/pltv_expected.loc[i-1, 'loans_per_borrower']\n",
    "                \n",
    "                \n",
    "                # forecast Count Loans\n",
    "                c_data['Count Loans'] = c_data['Count Loans'].fillna((c_data['loans_per_borrower'])*c_data['Count Borrowers'])\n",
    "                \n",
    "                \n",
    "                # forecast Total Amount\n",
    "                c_data['Total Amount'] = c_data['Total Amount'].fillna((c_data['loan_size']/ksh_usd)*c_data['Count Loans'])\n",
    "                \n",
    "                \n",
    "                # forecast Interest Rate\n",
    "                for i in c_data[c_data.interest_rate.isnull()].index:\n",
    "                    c_data.loc[i, 'interest_rate'] = c_data.loc[i-1, 'interest_rate'] * \\\n",
    "                    pltv_expected.loc[i,'interest_rate']/pltv_expected.loc[i-1, 'interest_rate']\n",
    "                \n",
    "                \n",
    "                # forecast default rate 7dpd\n",
    "                default = c_data.default_rate_7dpd.dropna()\n",
    "                default.index = np.arange(1, len(default)+1)\n",
    "                \n",
    "                def func(t, A, B):\n",
    "                    return A*(t**B)\n",
    "\n",
    "                params, covs = curve_fit(func, default.index, default)\n",
    "                    \n",
    "                t = list(range(1, months+2))\n",
    "                fit = func(t, params[0], params[1])\n",
    "                fit = pd.Series(fit, index=t).reset_index(drop=True)\n",
    "                \n",
    "                c_data['default_rate_7dpd'] = c_data['default_rate_7dpd'].fillna(fit)\n",
    "                \n",
    "                \n",
    "                # derive 51dpd and 365 dpd from 7dpd\n",
    "                c_data['default_rate_51dpd'] = m.default_rate(c_data, period=51)\n",
    "                c_data['default_rate_365dpd'] = m.default_rate(c_data, period=365)\n",
    "                \n",
    "                # compute remaining columns from forecasts\n",
    "                c_data['loans_per_original'] = m.loans_per_original(c_data)\n",
    "                c_data['origination_per_original'] = m.origination_per_original(c_data, to_usd)\n",
    "                c_data['revenue_per_original'] = m.revenue_per_original(c_data, to_usd)\n",
    "                c_data['cm$_per_original'] = m.credit_margin(c_data)\n",
    "                c_data['opex_per_original'] = m.opex_per_original(c_data)\n",
    "                c_data['ltv_per_original'] = m.ltv_per_original(c_data)\n",
    "                c_data['cm%_per_original'] = m.credit_margin_percent(c_data)\n",
    "                \n",
    "                \n",
    "                \n",
    "                # add the forecasted data for the cohort to a list, aggregating all cohort forecasts\n",
    "                forecast_dfs.append(c_data)\n",
    "\n",
    "        return pd.concat(forecast_dfs)\n",
    "    \n",
    "    \n",
    "    def backtest(self, data, months=4, metric='mape'):\n",
    "        \"\"\"\n",
    "        Backtest forecasted values against actuals.\n",
    "        \n",
    "        Parameters\n",
    "        ----------\n",
    "        \n",
    "        \n",
    "        \"\"\"\n",
    "        \n",
    "        def compute_error(actual, forecast, metric='mape'):\n",
    "            \"\"\"\n",
    "            Test forecast performance against actuals using method defined by metric.\n",
    "            \"\"\"\n",
    "            \n",
    "            # root mean squared error\n",
    "            if metric=='rmse':\n",
    "                error = np.sqrt((1/len(actual))*sum((forecast[:len(actual)] - actual)**2))\n",
    "            # mean absolute error\n",
    "            elif metric=='mae':\n",
    "                error = np.mean(abs(forecast[:len(actual)] - actual))\n",
    "            # mean error\n",
    "            elif metric=='me':\n",
    "                error = np.mean(forecast[:len(actual)] - actual)\n",
    "            # mean absolute percent error\n",
    "            elif metric=='mape':\n",
    "                error = (1/len(actual))*sum(abs(forecast[:len(actual)] - actual)/actual)\n",
    "            # mean percent error\n",
    "            elif metric=='mpe':\n",
    "                error = (1/len(actual))*sum((forecast[:len(actual)] - actual)/actual)\n",
    "            return error\n",
    "        \n",
    "        \n",
    "        # --- Generate limited data --- #\n",
    "        \n",
    "        metrics = ['rmse', 'me', 'mape', 'mpe']\n",
    "        \n",
    "        limited_data = []\n",
    "        backtest_report = []\n",
    "        for cohort in data.cohort.unique():\n",
    "            # data for current cohort\n",
    "            c_data = data[data.cohort==cohort]\n",
    "\n",
    "            # only backtest if remaining data has at least 4 data points\n",
    "            if len(c_data) - months >= min_months:\n",
    "                # limit data\n",
    "                c_data = c_data.iloc[:len(c_data)-months,:]\n",
    "                \n",
    "                # forecast the limited data\n",
    "                c_data = m.forecast_features(c_data)\n",
    "                \n",
    "                # get forecast overlap with actuals\n",
    "                actual = self.data[self.data['First Loan Local Disbursement Month']==cohort]\n",
    "\n",
    "                start = c_data[c_data.data_type=='forecast'].index.min()\n",
    "                stop = actual.index.max()\n",
    "\n",
    "                # compute errors\n",
    "                backtest_report_cols = []\n",
    "                errors = []\n",
    "                for col in self.forecast_cols:\n",
    "                    # error\n",
    "                    c_data.loc[start:stop, f'error-{col}'] = c_data.loc[start:stop, col] - actual.loc[start:stop, col]\n",
    "                    # % error\n",
    "                    c_data.loc[start:stop, f'%error-{col}'] = (c_data.loc[start:stop, col] - actual.loc[start:stop, col])/ \\\n",
    "                        actual.loc[start:stop, col]\n",
    "                    \n",
    "                    for metric in metrics:\n",
    "                        error = compute_error(actual.loc[start:stop, col], c_data.loc[start:stop, col],\n",
    "                                             metric=metric)\n",
    "                    \n",
    "                        backtest_report_cols += [f'{col}-{metric}']\n",
    "                    \n",
    "                        errors.append(error)\n",
    "                        \n",
    "                backtest_report.append(pd.DataFrame.from_dict({cohort: errors}, orient='index', \n",
    "                                                                 columns=backtest_report_cols))\n",
    "                limited_data.append(c_data)\n",
    "                \n",
    "        backtest_data = pd.concat(limited_data)\n",
    "        backtest_report = pd.concat(backtest_report, axis=0)\n",
    "        backtest_report['cohort'] = backtest_report.index\n",
    "        \n",
    "        self.backtest_data = backtest_data\n",
    "        self.backtest_report = backtest_report\n",
    "                \n",
    "        return backtest_data, backtest_report\n",
    "    "
   ]
  },
  {
   "cell_type": "markdown",
   "id": "567e35e2",
   "metadata": {},
   "source": [
    "### Run Model"
   ]
  },
  {
   "cell_type": "code",
   "execution_count": 303,
   "id": "23fd5669",
   "metadata": {
    "scrolled": true
   },
   "outputs": [],
   "source": [
    "import warnings\n",
    "warnings.simplefilter('error')\n",
    "\n",
    "# create a model object\n",
    "m = Model(data)\n",
    "\n",
    "# generate features\n",
    "m.generate_features()\n",
    "\n",
    "# generate forecasts and save as model attribute\n",
    "m.forecast = m.forecast_features(m.data)\n",
    "\n",
    "# backtest \n",
    "m.backtest, m.backtest_report = m.backtest(m.data, months=6)"
   ]
  },
  {
   "cell_type": "code",
   "execution_count": 286,
   "id": "35d7ca9a",
   "metadata": {},
   "outputs": [
    {
     "data": {
      "text/html": [
       "<div>\n",
       "<style scoped>\n",
       "    .dataframe tbody tr th:only-of-type {\n",
       "        vertical-align: middle;\n",
       "    }\n",
       "\n",
       "    .dataframe tbody tr th {\n",
       "        vertical-align: top;\n",
       "    }\n",
       "\n",
       "    .dataframe thead th {\n",
       "        text-align: right;\n",
       "    }\n",
       "</style>\n",
       "<table border=\"1\" class=\"dataframe\">\n",
       "  <thead>\n",
       "    <tr style=\"text-align: right;\">\n",
       "      <th></th>\n",
       "      <th>Count Borrowers-rmse</th>\n",
       "      <th>Count Borrowers-me</th>\n",
       "      <th>Count Borrowers-mape</th>\n",
       "      <th>Count Borrowers-mpe</th>\n",
       "      <th>borrower_retention-rmse</th>\n",
       "      <th>borrower_retention-me</th>\n",
       "      <th>borrower_retention-mape</th>\n",
       "      <th>borrower_retention-mpe</th>\n",
       "      <th>borrower_survival-rmse</th>\n",
       "      <th>borrower_survival-me</th>\n",
       "      <th>...</th>\n",
       "      <th>opex_per_original-mpe</th>\n",
       "      <th>ltv_per_original-rmse</th>\n",
       "      <th>ltv_per_original-me</th>\n",
       "      <th>ltv_per_original-mape</th>\n",
       "      <th>ltv_per_original-mpe</th>\n",
       "      <th>cm%_per_original-rmse</th>\n",
       "      <th>cm%_per_original-me</th>\n",
       "      <th>cm%_per_original-mape</th>\n",
       "      <th>cm%_per_original-mpe</th>\n",
       "      <th>cohort</th>\n",
       "    </tr>\n",
       "  </thead>\n",
       "  <tbody>\n",
       "    <tr>\n",
       "      <th>2020-09</th>\n",
       "      <td>127.627672</td>\n",
       "      <td>120.230451</td>\n",
       "      <td>0.119020</td>\n",
       "      <td>0.119020</td>\n",
       "      <td>0.016360</td>\n",
       "      <td>0.015412</td>\n",
       "      <td>0.119020</td>\n",
       "      <td>0.119020</td>\n",
       "      <td>0.059405</td>\n",
       "      <td>0.021093</td>\n",
       "      <td>...</td>\n",
       "      <td>0.166306</td>\n",
       "      <td>0.545584</td>\n",
       "      <td>-0.066133</td>\n",
       "      <td>0.278740</td>\n",
       "      <td>0.091345</td>\n",
       "      <td>0.134012</td>\n",
       "      <td>-0.043810</td>\n",
       "      <td>0.283974</td>\n",
       "      <td>0.008610</td>\n",
       "      <td>2020-09</td>\n",
       "    </tr>\n",
       "    <tr>\n",
       "      <th>2020-10</th>\n",
       "      <td>195.443359</td>\n",
       "      <td>181.651030</td>\n",
       "      <td>0.142286</td>\n",
       "      <td>0.142286</td>\n",
       "      <td>0.019880</td>\n",
       "      <td>0.018477</td>\n",
       "      <td>0.142286</td>\n",
       "      <td>0.142286</td>\n",
       "      <td>0.051252</td>\n",
       "      <td>0.037262</td>\n",
       "      <td>...</td>\n",
       "      <td>0.177663</td>\n",
       "      <td>0.404892</td>\n",
       "      <td>0.067631</td>\n",
       "      <td>0.247433</td>\n",
       "      <td>0.118378</td>\n",
       "      <td>0.094268</td>\n",
       "      <td>-0.023499</td>\n",
       "      <td>0.222478</td>\n",
       "      <td>-0.004443</td>\n",
       "      <td>2020-10</td>\n",
       "    </tr>\n",
       "    <tr>\n",
       "      <th>2020-11</th>\n",
       "      <td>133.066680</td>\n",
       "      <td>111.339740</td>\n",
       "      <td>0.104906</td>\n",
       "      <td>0.104906</td>\n",
       "      <td>0.016402</td>\n",
       "      <td>0.013724</td>\n",
       "      <td>0.104906</td>\n",
       "      <td>0.104906</td>\n",
       "      <td>0.050641</td>\n",
       "      <td>0.033979</td>\n",
       "      <td>...</td>\n",
       "      <td>0.158366</td>\n",
       "      <td>0.331452</td>\n",
       "      <td>-0.257604</td>\n",
       "      <td>0.127299</td>\n",
       "      <td>-0.127299</td>\n",
       "      <td>0.121562</td>\n",
       "      <td>-0.105122</td>\n",
       "      <td>0.219604</td>\n",
       "      <td>-0.219604</td>\n",
       "      <td>2020-11</td>\n",
       "    </tr>\n",
       "    <tr>\n",
       "      <th>2020-12</th>\n",
       "      <td>131.320335</td>\n",
       "      <td>116.354669</td>\n",
       "      <td>0.094989</td>\n",
       "      <td>0.094989</td>\n",
       "      <td>0.014982</td>\n",
       "      <td>0.013275</td>\n",
       "      <td>0.094989</td>\n",
       "      <td>0.094989</td>\n",
       "      <td>0.045975</td>\n",
       "      <td>0.031883</td>\n",
       "      <td>...</td>\n",
       "      <td>0.134233</td>\n",
       "      <td>0.211334</td>\n",
       "      <td>0.021189</td>\n",
       "      <td>0.120034</td>\n",
       "      <td>0.039999</td>\n",
       "      <td>0.070283</td>\n",
       "      <td>-0.039757</td>\n",
       "      <td>0.149847</td>\n",
       "      <td>-0.085460</td>\n",
       "      <td>2020-12</td>\n",
       "    </tr>\n",
       "    <tr>\n",
       "      <th>2021-01</th>\n",
       "      <td>285.081246</td>\n",
       "      <td>266.262696</td>\n",
       "      <td>0.175438</td>\n",
       "      <td>0.175438</td>\n",
       "      <td>0.027691</td>\n",
       "      <td>0.025863</td>\n",
       "      <td>0.175438</td>\n",
       "      <td>0.175438</td>\n",
       "      <td>0.048365</td>\n",
       "      <td>0.042787</td>\n",
       "      <td>...</td>\n",
       "      <td>0.246228</td>\n",
       "      <td>0.263089</td>\n",
       "      <td>-0.137572</td>\n",
       "      <td>0.104681</td>\n",
       "      <td>-0.065948</td>\n",
       "      <td>0.112741</td>\n",
       "      <td>-0.099950</td>\n",
       "      <td>0.240506</td>\n",
       "      <td>-0.240506</td>\n",
       "      <td>2021-01</td>\n",
       "    </tr>\n",
       "    <tr>\n",
       "      <th>2021-02</th>\n",
       "      <td>168.969436</td>\n",
       "      <td>141.666134</td>\n",
       "      <td>0.104226</td>\n",
       "      <td>0.104226</td>\n",
       "      <td>0.018108</td>\n",
       "      <td>0.015182</td>\n",
       "      <td>0.104226</td>\n",
       "      <td>0.104226</td>\n",
       "      <td>0.039345</td>\n",
       "      <td>0.029563</td>\n",
       "      <td>...</td>\n",
       "      <td>0.191995</td>\n",
       "      <td>0.435708</td>\n",
       "      <td>-0.138628</td>\n",
       "      <td>0.256413</td>\n",
       "      <td>-0.011949</td>\n",
       "      <td>0.143166</td>\n",
       "      <td>-0.094429</td>\n",
       "      <td>0.290946</td>\n",
       "      <td>-0.172041</td>\n",
       "      <td>2021-02</td>\n",
       "    </tr>\n",
       "    <tr>\n",
       "      <th>2021-03</th>\n",
       "      <td>425.733974</td>\n",
       "      <td>393.971153</td>\n",
       "      <td>0.250195</td>\n",
       "      <td>0.250195</td>\n",
       "      <td>0.041637</td>\n",
       "      <td>0.038530</td>\n",
       "      <td>0.250195</td>\n",
       "      <td>0.250195</td>\n",
       "      <td>0.068851</td>\n",
       "      <td>0.058738</td>\n",
       "      <td>...</td>\n",
       "      <td>0.337831</td>\n",
       "      <td>0.544130</td>\n",
       "      <td>0.382873</td>\n",
       "      <td>0.633623</td>\n",
       "      <td>0.586824</td>\n",
       "      <td>0.062752</td>\n",
       "      <td>0.016792</td>\n",
       "      <td>0.291314</td>\n",
       "      <td>0.173344</td>\n",
       "      <td>2021-03</td>\n",
       "    </tr>\n",
       "    <tr>\n",
       "      <th>2021-04</th>\n",
       "      <td>364.270163</td>\n",
       "      <td>333.874121</td>\n",
       "      <td>0.198401</td>\n",
       "      <td>0.198401</td>\n",
       "      <td>0.038356</td>\n",
       "      <td>0.035156</td>\n",
       "      <td>0.198401</td>\n",
       "      <td>0.198401</td>\n",
       "      <td>0.055285</td>\n",
       "      <td>0.048184</td>\n",
       "      <td>...</td>\n",
       "      <td>0.281475</td>\n",
       "      <td>0.306784</td>\n",
       "      <td>-0.139400</td>\n",
       "      <td>0.195068</td>\n",
       "      <td>-0.087812</td>\n",
       "      <td>0.117696</td>\n",
       "      <td>-0.083696</td>\n",
       "      <td>0.268612</td>\n",
       "      <td>-0.268612</td>\n",
       "      <td>2021-04</td>\n",
       "    </tr>\n",
       "  </tbody>\n",
       "</table>\n",
       "<p>8 rows × 73 columns</p>\n",
       "</div>"
      ],
      "text/plain": [
       "         Count Borrowers-rmse  Count Borrowers-me  Count Borrowers-mape  \\\n",
       "2020-09            127.627672          120.230451              0.119020   \n",
       "2020-10            195.443359          181.651030              0.142286   \n",
       "2020-11            133.066680          111.339740              0.104906   \n",
       "2020-12            131.320335          116.354669              0.094989   \n",
       "2021-01            285.081246          266.262696              0.175438   \n",
       "2021-02            168.969436          141.666134              0.104226   \n",
       "2021-03            425.733974          393.971153              0.250195   \n",
       "2021-04            364.270163          333.874121              0.198401   \n",
       "\n",
       "         Count Borrowers-mpe  borrower_retention-rmse  borrower_retention-me  \\\n",
       "2020-09             0.119020                 0.016360               0.015412   \n",
       "2020-10             0.142286                 0.019880               0.018477   \n",
       "2020-11             0.104906                 0.016402               0.013724   \n",
       "2020-12             0.094989                 0.014982               0.013275   \n",
       "2021-01             0.175438                 0.027691               0.025863   \n",
       "2021-02             0.104226                 0.018108               0.015182   \n",
       "2021-03             0.250195                 0.041637               0.038530   \n",
       "2021-04             0.198401                 0.038356               0.035156   \n",
       "\n",
       "         borrower_retention-mape  borrower_retention-mpe  \\\n",
       "2020-09                 0.119020                0.119020   \n",
       "2020-10                 0.142286                0.142286   \n",
       "2020-11                 0.104906                0.104906   \n",
       "2020-12                 0.094989                0.094989   \n",
       "2021-01                 0.175438                0.175438   \n",
       "2021-02                 0.104226                0.104226   \n",
       "2021-03                 0.250195                0.250195   \n",
       "2021-04                 0.198401                0.198401   \n",
       "\n",
       "         borrower_survival-rmse  borrower_survival-me  ...  \\\n",
       "2020-09                0.059405              0.021093  ...   \n",
       "2020-10                0.051252              0.037262  ...   \n",
       "2020-11                0.050641              0.033979  ...   \n",
       "2020-12                0.045975              0.031883  ...   \n",
       "2021-01                0.048365              0.042787  ...   \n",
       "2021-02                0.039345              0.029563  ...   \n",
       "2021-03                0.068851              0.058738  ...   \n",
       "2021-04                0.055285              0.048184  ...   \n",
       "\n",
       "         opex_per_original-mpe  ltv_per_original-rmse  ltv_per_original-me  \\\n",
       "2020-09               0.166306               0.545584            -0.066133   \n",
       "2020-10               0.177663               0.404892             0.067631   \n",
       "2020-11               0.158366               0.331452            -0.257604   \n",
       "2020-12               0.134233               0.211334             0.021189   \n",
       "2021-01               0.246228               0.263089            -0.137572   \n",
       "2021-02               0.191995               0.435708            -0.138628   \n",
       "2021-03               0.337831               0.544130             0.382873   \n",
       "2021-04               0.281475               0.306784            -0.139400   \n",
       "\n",
       "         ltv_per_original-mape  ltv_per_original-mpe  cm%_per_original-rmse  \\\n",
       "2020-09               0.278740              0.091345               0.134012   \n",
       "2020-10               0.247433              0.118378               0.094268   \n",
       "2020-11               0.127299             -0.127299               0.121562   \n",
       "2020-12               0.120034              0.039999               0.070283   \n",
       "2021-01               0.104681             -0.065948               0.112741   \n",
       "2021-02               0.256413             -0.011949               0.143166   \n",
       "2021-03               0.633623              0.586824               0.062752   \n",
       "2021-04               0.195068             -0.087812               0.117696   \n",
       "\n",
       "         cm%_per_original-me  cm%_per_original-mape  cm%_per_original-mpe  \\\n",
       "2020-09            -0.043810               0.283974              0.008610   \n",
       "2020-10            -0.023499               0.222478             -0.004443   \n",
       "2020-11            -0.105122               0.219604             -0.219604   \n",
       "2020-12            -0.039757               0.149847             -0.085460   \n",
       "2021-01            -0.099950               0.240506             -0.240506   \n",
       "2021-02            -0.094429               0.290946             -0.172041   \n",
       "2021-03             0.016792               0.291314              0.173344   \n",
       "2021-04            -0.083696               0.268612             -0.268612   \n",
       "\n",
       "          cohort  \n",
       "2020-09  2020-09  \n",
       "2020-10  2020-10  \n",
       "2020-11  2020-11  \n",
       "2020-12  2020-12  \n",
       "2021-01  2021-01  \n",
       "2021-02  2021-02  \n",
       "2021-03  2021-03  \n",
       "2021-04  2021-04  \n",
       "\n",
       "[8 rows x 73 columns]"
      ]
     },
     "execution_count": 286,
     "metadata": {},
     "output_type": "execute_result"
    }
   ],
   "source": [
    "m.backtest_report"
   ]
  },
  {
   "cell_type": "code",
   "execution_count": 305,
   "id": "07c1efde",
   "metadata": {},
   "outputs": [
    {
     "data": {
      "application/vnd.plotly.v1+json": {
       "config": {
        "plotlyServerURL": "https://plot.ly"
       },
       "data": [
        {
         "line": {
          "width": 2
         },
         "mode": "markers+lines",
         "name": "2020-09-actual",
         "type": "scatter",
         "x": [
          0,
          1,
          2,
          3,
          4,
          5,
          6,
          7,
          8,
          9,
          10,
          11,
          12,
          13,
          14,
          15,
          16
         ],
         "y": [
          7801,
          4481,
          3661,
          3050,
          2549,
          2170,
          1952,
          1673,
          1594,
          1429,
          1362,
          1243,
          1177,
          1102,
          1054,
          893,
          916
         ]
        },
        {
         "line": {
          "dash": "dash",
          "width": 3
         },
         "mode": "lines",
         "name": "2020-09-forecast",
         "type": "scatter",
         "x": [
          11,
          12,
          13,
          14,
          15,
          16,
          17,
          18,
          19,
          20,
          21,
          22,
          23,
          24
         ],
         "y": [
          1333.6521987941187,
          1264.047169312261,
          1202.9234399445568,
          1148.7376784340518,
          1100.308285407413,
          1056.7139329207494,
          1017.2247079637485,
          981.2541940050457,
          948.3253805178321,
          918.0459327029594,
          890.0899371237944,
          864.1842160124296,
          840.0979217120238,
          817.6345237312256
         ]
        },
        {
         "line": {
          "width": 2
         },
         "mode": "markers+lines",
         "name": "2020-10-actual",
         "type": "scatter",
         "x": [
          0,
          1,
          2,
          3,
          4,
          5,
          6,
          7,
          8,
          9,
          10,
          11,
          12,
          13,
          14,
          15
         ],
         "y": [
          9831,
          5296,
          4369,
          3573,
          2953,
          2667,
          2377,
          2181,
          1937,
          1773,
          1621,
          1523,
          1457,
          1363,
          1177,
          1093
         ]
        },
        {
         "line": {
          "dash": "dash",
          "width": 3
         },
         "mode": "lines",
         "name": "2020-10-forecast",
         "type": "scatter",
         "x": [
          10,
          11,
          12,
          13,
          14,
          15,
          16,
          17,
          18,
          19,
          20,
          21,
          22,
          23,
          24
         ],
         "y": [
          1747.7128553631287,
          1656.6118735123787,
          1577.2696999940022,
          1507.3996262642447,
          1445.2882827641372,
          1389.6238433817919,
          1339.3830800483938,
          1293.7548737319698,
          1252.0870666895667,
          1213.8486936573674,
          1178.6026040155505,
          1145.9852628360038,
          1115.6916110857017,
          1087.4635552184577,
          1061.081102632313
         ]
        },
        {
         "line": {
          "width": 2
         },
         "mode": "markers+lines",
         "name": "2020-11-actual",
         "type": "scatter",
         "x": [
          0,
          1,
          2,
          3,
          4,
          5,
          6,
          7,
          8,
          9,
          10,
          11,
          12,
          13,
          14
         ],
         "y": [
          8113,
          4447,
          3517,
          2831,
          2479,
          2149,
          1937,
          1679,
          1554,
          1434,
          1331,
          1296,
          1180,
          1011,
          922
         ]
        },
        {
         "line": {
          "dash": "dash",
          "width": 3
         },
         "mode": "lines",
         "name": "2020-11-forecast",
         "type": "scatter",
         "x": [
          9,
          10,
          11,
          12,
          13,
          14,
          15,
          16,
          17,
          18,
          19,
          20,
          21,
          22,
          23,
          24
         ],
         "y": [
          1493.2690772410574,
          1404.309244450878,
          1327.9882989138464,
          1261.6360630910249,
          1203.303658688121,
          1151.5320993382725,
          1105.2053296848433,
          1063.4536239387046,
          1025.5881845466495,
          991.0557159748973,
          959.4061575334226,
          930.269305123796,
          903.3375722428215,
          878.3530759311385,
          855.0978241556076,
          833.3861632008866
         ]
        },
        {
         "line": {
          "width": 2
         },
         "mode": "markers+lines",
         "name": "2020-12-actual",
         "type": "scatter",
         "x": [
          0,
          1,
          2,
          3,
          4,
          5,
          6,
          7,
          8,
          9,
          10,
          11,
          12
         ],
         "y": [
          8765,
          4585,
          3570,
          2995,
          2462,
          2162,
          1845,
          1682,
          1546,
          1408,
          1291,
          1214,
          1028
         ]
        },
        {
         "line": {
          "dash": "dash",
          "width": 3
         },
         "mode": "lines",
         "name": "2020-12-forecast",
         "type": "scatter",
         "x": [
          7,
          8,
          9,
          10,
          11,
          12,
          13,
          14,
          15,
          16,
          17,
          18,
          19,
          20,
          21,
          22,
          23,
          24
         ],
         "y": [
          1738.7532713759722,
          1609.4723729043355,
          1502.6428575232853,
          1412.5681468264465,
          1335.3725759250904,
          1268.3187867975466,
          1209.413044867345,
          1157.1654079570076,
          1110.437850139292,
          1068.3446714207878,
          1030.1852135530717,
          995.39721083031,
          963.523706973764,
          934.1891194856961,
          907.0816117888767,
          881.9399027297447,
          858.5432540735621,
          836.7037711287879
         ]
        },
        {
         "line": {
          "width": 2
         },
         "mode": "markers+lines",
         "name": "2021-01-actual",
         "type": "scatter",
         "x": [
          0,
          1,
          2,
          3,
          4,
          5,
          6,
          7,
          8,
          9,
          10,
          11,
          12
         ],
         "y": [
          10295,
          5359,
          4436,
          3494,
          3044,
          2552,
          2361,
          2088,
          1895,
          1775,
          1566,
          1389,
          1278
         ]
        },
        {
         "line": {
          "dash": "dash",
          "width": 3
         },
         "mode": "lines",
         "name": "2021-01-forecast",
         "type": "scatter",
         "x": [
          7,
          8,
          9,
          10,
          11,
          12,
          13,
          14,
          15,
          16,
          17,
          18,
          19,
          20,
          21,
          22,
          23,
          24
         ],
         "y": [
          2230.2678191388122,
          2083.2198872262616,
          1960.8915618814904,
          1857.0997214290605,
          1767.6239605657258,
          1689.473227854368,
          1620.4614340094906,
          1558.949216287681,
          1503.6801292216794,
          1453.67302307936,
          1408.1491837882397,
          1366.4817092789615,
          1328.1595287127718,
          1292.7613124388563,
          1259.9362146019569,
          1229.389431247096,
          1200.8712137088191,
          1174.1684017131267
         ]
        },
        {
         "line": {
          "width": 2
         },
         "mode": "markers+lines",
         "name": "2021-02-actual",
         "type": "scatter",
         "x": [
          0,
          1,
          2,
          3,
          4,
          5,
          6,
          7,
          8,
          9,
          10,
          11
         ],
         "y": [
          9331,
          5004,
          3728,
          3100,
          2589,
          2271,
          2034,
          1821,
          1673,
          1475,
          1274,
          1194
         ]
        },
        {
         "line": {
          "dash": "dash",
          "width": 3
         },
         "mode": "lines",
         "name": "2021-02-forecast",
         "type": "scatter",
         "x": [
          6,
          7,
          8,
          9,
          10,
          11,
          12,
          13,
          14,
          15,
          16,
          17,
          18,
          19,
          20,
          21,
          22,
          23,
          24
         ],
         "y": [
          2062.277752728024,
          1888.755096387953,
          1748.8945833910996,
          1633.2602252169208,
          1535.7180178000112,
          1452.091128863957,
          1379.427402275408,
          1315.5753740995829,
          1258.9264065511993,
          1208.2512670651458,
          1162.5928976941632,
          1121.1939278300397,
          1083.4463924171298,
          1048.8560567543511,
          1017.0165951702268,
          987.5905675681202,
          960.2951799857569,
          934.8914726433728,
          911.1760035366553
         ]
        },
        {
         "line": {
          "width": 2
         },
         "mode": "markers+lines",
         "name": "2021-03-actual",
         "type": "scatter",
         "x": [
          0,
          1,
          2,
          3,
          4,
          5,
          6,
          7,
          8,
          9,
          10
         ],
         "y": [
          10225,
          5046,
          4136,
          3324,
          2829,
          2401,
          2133,
          1920,
          1710,
          1392,
          1279
         ]
        },
        {
         "line": {
          "dash": "dash",
          "width": 3
         },
         "mode": "lines",
         "name": "2021-03-forecast",
         "type": "scatter",
         "x": [
          5,
          6,
          7,
          8,
          9,
          10,
          11,
          12,
          13,
          14,
          15,
          16,
          17,
          18,
          19,
          20,
          21,
          22,
          23,
          24
         ],
         "y": [
          2595.1469062298956,
          2390.890653373833,
          2229.858098921259,
          2098.606221991528,
          1988.9099008589815,
          1895.4151394743333,
          1814.4658891924735,
          1743.4683933169424,
          1680.5242526885686,
          1624.2074772213607,
          1573.4231639493241,
          1527.314668593518,
          1485.2007492052774,
          1446.531872843339,
          1410.8591394259076,
          1377.8117291153305,
          1347.0802398928606,
          1318.4041785253933,
          1291.5624336485987,
          1266.3659251362403
         ]
        },
        {
         "line": {
          "width": 2
         },
         "mode": "markers+lines",
         "name": "2021-04-actual",
         "type": "scatter",
         "x": [
          0,
          1,
          2,
          3,
          4,
          5,
          6,
          7,
          8,
          9
         ],
         "y": [
          9497,
          4950,
          3792,
          3155,
          2631,
          2300,
          2047,
          1802,
          1503,
          1380
         ]
        },
        {
         "line": {
          "dash": "dash",
          "width": 3
         },
         "mode": "lines",
         "name": "2021-04-forecast",
         "type": "scatter",
         "x": [
          4,
          5,
          6,
          7,
          8,
          9,
          10,
          11,
          12,
          13,
          14,
          15,
          16,
          17,
          18,
          19,
          20,
          21,
          22,
          23,
          24
         ],
         "y": [
          2777.0365869111233,
          2508.7071193653915,
          2306.6181814898414,
          2147.303733737411,
          2017.5017716447867,
          1909.0773318466408,
          1816.7263094351351,
          1736.8227582751172,
          1666.7924429394227,
          1604.7504102983,
          1549.280407932176,
          1499.2948830848754,
          1453.9429314274234,
          1412.5479198813778,
          1374.564101316906,
          1339.5457439406218,
          1307.1247205030525,
          1276.9939467154168,
          1248.8949458693114,
          1222.6083770166183,
          1197.9467264402138
         ]
        }
       ],
       "layout": {
        "template": {
         "data": {
          "bar": [
           {
            "error_x": {
             "color": "#2a3f5f"
            },
            "error_y": {
             "color": "#2a3f5f"
            },
            "marker": {
             "line": {
              "color": "white",
              "width": 0.5
             },
             "pattern": {
              "fillmode": "overlay",
              "size": 10,
              "solidity": 0.2
             }
            },
            "type": "bar"
           }
          ],
          "barpolar": [
           {
            "marker": {
             "line": {
              "color": "white",
              "width": 0.5
             },
             "pattern": {
              "fillmode": "overlay",
              "size": 10,
              "solidity": 0.2
             }
            },
            "type": "barpolar"
           }
          ],
          "carpet": [
           {
            "aaxis": {
             "endlinecolor": "#2a3f5f",
             "gridcolor": "#C8D4E3",
             "linecolor": "#C8D4E3",
             "minorgridcolor": "#C8D4E3",
             "startlinecolor": "#2a3f5f"
            },
            "baxis": {
             "endlinecolor": "#2a3f5f",
             "gridcolor": "#C8D4E3",
             "linecolor": "#C8D4E3",
             "minorgridcolor": "#C8D4E3",
             "startlinecolor": "#2a3f5f"
            },
            "type": "carpet"
           }
          ],
          "choropleth": [
           {
            "colorbar": {
             "outlinewidth": 0,
             "ticks": ""
            },
            "type": "choropleth"
           }
          ],
          "contour": [
           {
            "colorbar": {
             "outlinewidth": 0,
             "ticks": ""
            },
            "colorscale": [
             [
              0,
              "#0d0887"
             ],
             [
              0.1111111111111111,
              "#46039f"
             ],
             [
              0.2222222222222222,
              "#7201a8"
             ],
             [
              0.3333333333333333,
              "#9c179e"
             ],
             [
              0.4444444444444444,
              "#bd3786"
             ],
             [
              0.5555555555555556,
              "#d8576b"
             ],
             [
              0.6666666666666666,
              "#ed7953"
             ],
             [
              0.7777777777777778,
              "#fb9f3a"
             ],
             [
              0.8888888888888888,
              "#fdca26"
             ],
             [
              1,
              "#f0f921"
             ]
            ],
            "type": "contour"
           }
          ],
          "contourcarpet": [
           {
            "colorbar": {
             "outlinewidth": 0,
             "ticks": ""
            },
            "type": "contourcarpet"
           }
          ],
          "heatmap": [
           {
            "colorbar": {
             "outlinewidth": 0,
             "ticks": ""
            },
            "colorscale": [
             [
              0,
              "#0d0887"
             ],
             [
              0.1111111111111111,
              "#46039f"
             ],
             [
              0.2222222222222222,
              "#7201a8"
             ],
             [
              0.3333333333333333,
              "#9c179e"
             ],
             [
              0.4444444444444444,
              "#bd3786"
             ],
             [
              0.5555555555555556,
              "#d8576b"
             ],
             [
              0.6666666666666666,
              "#ed7953"
             ],
             [
              0.7777777777777778,
              "#fb9f3a"
             ],
             [
              0.8888888888888888,
              "#fdca26"
             ],
             [
              1,
              "#f0f921"
             ]
            ],
            "type": "heatmap"
           }
          ],
          "heatmapgl": [
           {
            "colorbar": {
             "outlinewidth": 0,
             "ticks": ""
            },
            "colorscale": [
             [
              0,
              "#0d0887"
             ],
             [
              0.1111111111111111,
              "#46039f"
             ],
             [
              0.2222222222222222,
              "#7201a8"
             ],
             [
              0.3333333333333333,
              "#9c179e"
             ],
             [
              0.4444444444444444,
              "#bd3786"
             ],
             [
              0.5555555555555556,
              "#d8576b"
             ],
             [
              0.6666666666666666,
              "#ed7953"
             ],
             [
              0.7777777777777778,
              "#fb9f3a"
             ],
             [
              0.8888888888888888,
              "#fdca26"
             ],
             [
              1,
              "#f0f921"
             ]
            ],
            "type": "heatmapgl"
           }
          ],
          "histogram": [
           {
            "marker": {
             "pattern": {
              "fillmode": "overlay",
              "size": 10,
              "solidity": 0.2
             }
            },
            "type": "histogram"
           }
          ],
          "histogram2d": [
           {
            "colorbar": {
             "outlinewidth": 0,
             "ticks": ""
            },
            "colorscale": [
             [
              0,
              "#0d0887"
             ],
             [
              0.1111111111111111,
              "#46039f"
             ],
             [
              0.2222222222222222,
              "#7201a8"
             ],
             [
              0.3333333333333333,
              "#9c179e"
             ],
             [
              0.4444444444444444,
              "#bd3786"
             ],
             [
              0.5555555555555556,
              "#d8576b"
             ],
             [
              0.6666666666666666,
              "#ed7953"
             ],
             [
              0.7777777777777778,
              "#fb9f3a"
             ],
             [
              0.8888888888888888,
              "#fdca26"
             ],
             [
              1,
              "#f0f921"
             ]
            ],
            "type": "histogram2d"
           }
          ],
          "histogram2dcontour": [
           {
            "colorbar": {
             "outlinewidth": 0,
             "ticks": ""
            },
            "colorscale": [
             [
              0,
              "#0d0887"
             ],
             [
              0.1111111111111111,
              "#46039f"
             ],
             [
              0.2222222222222222,
              "#7201a8"
             ],
             [
              0.3333333333333333,
              "#9c179e"
             ],
             [
              0.4444444444444444,
              "#bd3786"
             ],
             [
              0.5555555555555556,
              "#d8576b"
             ],
             [
              0.6666666666666666,
              "#ed7953"
             ],
             [
              0.7777777777777778,
              "#fb9f3a"
             ],
             [
              0.8888888888888888,
              "#fdca26"
             ],
             [
              1,
              "#f0f921"
             ]
            ],
            "type": "histogram2dcontour"
           }
          ],
          "mesh3d": [
           {
            "colorbar": {
             "outlinewidth": 0,
             "ticks": ""
            },
            "type": "mesh3d"
           }
          ],
          "parcoords": [
           {
            "line": {
             "colorbar": {
              "outlinewidth": 0,
              "ticks": ""
             }
            },
            "type": "parcoords"
           }
          ],
          "pie": [
           {
            "automargin": true,
            "type": "pie"
           }
          ],
          "scatter": [
           {
            "marker": {
             "colorbar": {
              "outlinewidth": 0,
              "ticks": ""
             }
            },
            "type": "scatter"
           }
          ],
          "scatter3d": [
           {
            "line": {
             "colorbar": {
              "outlinewidth": 0,
              "ticks": ""
             }
            },
            "marker": {
             "colorbar": {
              "outlinewidth": 0,
              "ticks": ""
             }
            },
            "type": "scatter3d"
           }
          ],
          "scattercarpet": [
           {
            "marker": {
             "colorbar": {
              "outlinewidth": 0,
              "ticks": ""
             }
            },
            "type": "scattercarpet"
           }
          ],
          "scattergeo": [
           {
            "marker": {
             "colorbar": {
              "outlinewidth": 0,
              "ticks": ""
             }
            },
            "type": "scattergeo"
           }
          ],
          "scattergl": [
           {
            "marker": {
             "colorbar": {
              "outlinewidth": 0,
              "ticks": ""
             }
            },
            "type": "scattergl"
           }
          ],
          "scattermapbox": [
           {
            "marker": {
             "colorbar": {
              "outlinewidth": 0,
              "ticks": ""
             }
            },
            "type": "scattermapbox"
           }
          ],
          "scatterpolar": [
           {
            "marker": {
             "colorbar": {
              "outlinewidth": 0,
              "ticks": ""
             }
            },
            "type": "scatterpolar"
           }
          ],
          "scatterpolargl": [
           {
            "marker": {
             "colorbar": {
              "outlinewidth": 0,
              "ticks": ""
             }
            },
            "type": "scatterpolargl"
           }
          ],
          "scatterternary": [
           {
            "marker": {
             "colorbar": {
              "outlinewidth": 0,
              "ticks": ""
             }
            },
            "type": "scatterternary"
           }
          ],
          "surface": [
           {
            "colorbar": {
             "outlinewidth": 0,
             "ticks": ""
            },
            "colorscale": [
             [
              0,
              "#0d0887"
             ],
             [
              0.1111111111111111,
              "#46039f"
             ],
             [
              0.2222222222222222,
              "#7201a8"
             ],
             [
              0.3333333333333333,
              "#9c179e"
             ],
             [
              0.4444444444444444,
              "#bd3786"
             ],
             [
              0.5555555555555556,
              "#d8576b"
             ],
             [
              0.6666666666666666,
              "#ed7953"
             ],
             [
              0.7777777777777778,
              "#fb9f3a"
             ],
             [
              0.8888888888888888,
              "#fdca26"
             ],
             [
              1,
              "#f0f921"
             ]
            ],
            "type": "surface"
           }
          ],
          "table": [
           {
            "cells": {
             "fill": {
              "color": "#EBF0F8"
             },
             "line": {
              "color": "white"
             }
            },
            "header": {
             "fill": {
              "color": "#C8D4E3"
             },
             "line": {
              "color": "white"
             }
            },
            "type": "table"
           }
          ]
         },
         "layout": {
          "annotationdefaults": {
           "arrowcolor": "#2a3f5f",
           "arrowhead": 0,
           "arrowwidth": 1
          },
          "autotypenumbers": "strict",
          "coloraxis": {
           "colorbar": {
            "outlinewidth": 0,
            "ticks": ""
           }
          },
          "colorscale": {
           "diverging": [
            [
             0,
             "#8e0152"
            ],
            [
             0.1,
             "#c51b7d"
            ],
            [
             0.2,
             "#de77ae"
            ],
            [
             0.3,
             "#f1b6da"
            ],
            [
             0.4,
             "#fde0ef"
            ],
            [
             0.5,
             "#f7f7f7"
            ],
            [
             0.6,
             "#e6f5d0"
            ],
            [
             0.7,
             "#b8e186"
            ],
            [
             0.8,
             "#7fbc41"
            ],
            [
             0.9,
             "#4d9221"
            ],
            [
             1,
             "#276419"
            ]
           ],
           "sequential": [
            [
             0,
             "#0d0887"
            ],
            [
             0.1111111111111111,
             "#46039f"
            ],
            [
             0.2222222222222222,
             "#7201a8"
            ],
            [
             0.3333333333333333,
             "#9c179e"
            ],
            [
             0.4444444444444444,
             "#bd3786"
            ],
            [
             0.5555555555555556,
             "#d8576b"
            ],
            [
             0.6666666666666666,
             "#ed7953"
            ],
            [
             0.7777777777777778,
             "#fb9f3a"
            ],
            [
             0.8888888888888888,
             "#fdca26"
            ],
            [
             1,
             "#f0f921"
            ]
           ],
           "sequentialminus": [
            [
             0,
             "#0d0887"
            ],
            [
             0.1111111111111111,
             "#46039f"
            ],
            [
             0.2222222222222222,
             "#7201a8"
            ],
            [
             0.3333333333333333,
             "#9c179e"
            ],
            [
             0.4444444444444444,
             "#bd3786"
            ],
            [
             0.5555555555555556,
             "#d8576b"
            ],
            [
             0.6666666666666666,
             "#ed7953"
            ],
            [
             0.7777777777777778,
             "#fb9f3a"
            ],
            [
             0.8888888888888888,
             "#fdca26"
            ],
            [
             1,
             "#f0f921"
            ]
           ]
          },
          "colorway": [
           "#636efa",
           "#EF553B",
           "#00cc96",
           "#ab63fa",
           "#FFA15A",
           "#19d3f3",
           "#FF6692",
           "#B6E880",
           "#FF97FF",
           "#FECB52"
          ],
          "font": {
           "color": "#2a3f5f"
          },
          "geo": {
           "bgcolor": "white",
           "lakecolor": "white",
           "landcolor": "white",
           "showlakes": true,
           "showland": true,
           "subunitcolor": "#C8D4E3"
          },
          "hoverlabel": {
           "align": "left"
          },
          "hovermode": "closest",
          "mapbox": {
           "style": "light"
          },
          "paper_bgcolor": "white",
          "plot_bgcolor": "white",
          "polar": {
           "angularaxis": {
            "gridcolor": "#EBF0F8",
            "linecolor": "#EBF0F8",
            "ticks": ""
           },
           "bgcolor": "white",
           "radialaxis": {
            "gridcolor": "#EBF0F8",
            "linecolor": "#EBF0F8",
            "ticks": ""
           }
          },
          "scene": {
           "xaxis": {
            "backgroundcolor": "white",
            "gridcolor": "#DFE8F3",
            "gridwidth": 2,
            "linecolor": "#EBF0F8",
            "showbackground": true,
            "ticks": "",
            "zerolinecolor": "#EBF0F8"
           },
           "yaxis": {
            "backgroundcolor": "white",
            "gridcolor": "#DFE8F3",
            "gridwidth": 2,
            "linecolor": "#EBF0F8",
            "showbackground": true,
            "ticks": "",
            "zerolinecolor": "#EBF0F8"
           },
           "zaxis": {
            "backgroundcolor": "white",
            "gridcolor": "#DFE8F3",
            "gridwidth": 2,
            "linecolor": "#EBF0F8",
            "showbackground": true,
            "ticks": "",
            "zerolinecolor": "#EBF0F8"
           }
          },
          "shapedefaults": {
           "line": {
            "color": "#2a3f5f"
           }
          },
          "ternary": {
           "aaxis": {
            "gridcolor": "#DFE8F3",
            "linecolor": "#A2B1C6",
            "ticks": ""
           },
           "baxis": {
            "gridcolor": "#DFE8F3",
            "linecolor": "#A2B1C6",
            "ticks": ""
           },
           "bgcolor": "white",
           "caxis": {
            "gridcolor": "#DFE8F3",
            "linecolor": "#A2B1C6",
            "ticks": ""
           }
          },
          "title": {
           "x": 0.05
          },
          "xaxis": {
           "automargin": true,
           "gridcolor": "#EBF0F8",
           "linecolor": "#EBF0F8",
           "ticks": "",
           "title": {
            "standoff": 15
           },
           "zerolinecolor": "#EBF0F8",
           "zerolinewidth": 2
          },
          "yaxis": {
           "automargin": true,
           "gridcolor": "#EBF0F8",
           "linecolor": "#EBF0F8",
           "ticks": "",
           "title": {
            "standoff": 15
           },
           "zerolinecolor": "#EBF0F8",
           "zerolinewidth": 2
          }
         }
        },
        "xaxis": {
         "title": {
          "text": "Month Since Disbursement"
         }
        },
        "yaxis": {
         "title": {
          "text": "Count Borrowers"
         }
        }
       }
      },
      "text/html": [
       "<div>                            <div id=\"71b74a15-477a-4eeb-937b-22aa26ea5306\" class=\"plotly-graph-div\" style=\"height:525px; width:100%;\"></div>            <script type=\"text/javascript\">                require([\"plotly\"], function(Plotly) {                    window.PLOTLYENV=window.PLOTLYENV || {};                                    if (document.getElementById(\"71b74a15-477a-4eeb-937b-22aa26ea5306\")) {                    Plotly.newPlot(                        \"71b74a15-477a-4eeb-937b-22aa26ea5306\",                        [{\"line\":{\"width\":2},\"mode\":\"markers+lines\",\"name\":\"2020-09-actual\",\"type\":\"scatter\",\"x\":[0,1,2,3,4,5,6,7,8,9,10,11,12,13,14,15,16],\"y\":[7801,4481,3661,3050,2549,2170,1952,1673,1594,1429,1362,1243,1177,1102,1054,893,916]},{\"line\":{\"dash\":\"dash\",\"width\":3},\"mode\":\"lines\",\"name\":\"2020-09-forecast\",\"type\":\"scatter\",\"x\":[11,12,13,14,15,16,17,18,19,20,21,22,23,24],\"y\":[1333.6521987941187,1264.047169312261,1202.9234399445568,1148.7376784340518,1100.308285407413,1056.7139329207494,1017.2247079637485,981.2541940050457,948.3253805178321,918.0459327029594,890.0899371237944,864.1842160124296,840.0979217120238,817.6345237312256]},{\"line\":{\"width\":2},\"mode\":\"markers+lines\",\"name\":\"2020-10-actual\",\"type\":\"scatter\",\"x\":[0,1,2,3,4,5,6,7,8,9,10,11,12,13,14,15],\"y\":[9831,5296,4369,3573,2953,2667,2377,2181,1937,1773,1621,1523,1457,1363,1177,1093]},{\"line\":{\"dash\":\"dash\",\"width\":3},\"mode\":\"lines\",\"name\":\"2020-10-forecast\",\"type\":\"scatter\",\"x\":[10,11,12,13,14,15,16,17,18,19,20,21,22,23,24],\"y\":[1747.7128553631287,1656.6118735123787,1577.2696999940022,1507.3996262642447,1445.2882827641372,1389.6238433817919,1339.3830800483938,1293.7548737319698,1252.0870666895667,1213.8486936573674,1178.6026040155505,1145.9852628360038,1115.6916110857017,1087.4635552184577,1061.081102632313]},{\"line\":{\"width\":2},\"mode\":\"markers+lines\",\"name\":\"2020-11-actual\",\"type\":\"scatter\",\"x\":[0,1,2,3,4,5,6,7,8,9,10,11,12,13,14],\"y\":[8113,4447,3517,2831,2479,2149,1937,1679,1554,1434,1331,1296,1180,1011,922]},{\"line\":{\"dash\":\"dash\",\"width\":3},\"mode\":\"lines\",\"name\":\"2020-11-forecast\",\"type\":\"scatter\",\"x\":[9,10,11,12,13,14,15,16,17,18,19,20,21,22,23,24],\"y\":[1493.2690772410574,1404.309244450878,1327.9882989138464,1261.6360630910249,1203.303658688121,1151.5320993382725,1105.2053296848433,1063.4536239387046,1025.5881845466495,991.0557159748973,959.4061575334226,930.269305123796,903.3375722428215,878.3530759311385,855.0978241556076,833.3861632008866]},{\"line\":{\"width\":2},\"mode\":\"markers+lines\",\"name\":\"2020-12-actual\",\"type\":\"scatter\",\"x\":[0,1,2,3,4,5,6,7,8,9,10,11,12],\"y\":[8765,4585,3570,2995,2462,2162,1845,1682,1546,1408,1291,1214,1028]},{\"line\":{\"dash\":\"dash\",\"width\":3},\"mode\":\"lines\",\"name\":\"2020-12-forecast\",\"type\":\"scatter\",\"x\":[7,8,9,10,11,12,13,14,15,16,17,18,19,20,21,22,23,24],\"y\":[1738.7532713759722,1609.4723729043355,1502.6428575232853,1412.5681468264465,1335.3725759250904,1268.3187867975466,1209.413044867345,1157.1654079570076,1110.437850139292,1068.3446714207878,1030.1852135530717,995.39721083031,963.523706973764,934.1891194856961,907.0816117888767,881.9399027297447,858.5432540735621,836.7037711287879]},{\"line\":{\"width\":2},\"mode\":\"markers+lines\",\"name\":\"2021-01-actual\",\"type\":\"scatter\",\"x\":[0,1,2,3,4,5,6,7,8,9,10,11,12],\"y\":[10295,5359,4436,3494,3044,2552,2361,2088,1895,1775,1566,1389,1278]},{\"line\":{\"dash\":\"dash\",\"width\":3},\"mode\":\"lines\",\"name\":\"2021-01-forecast\",\"type\":\"scatter\",\"x\":[7,8,9,10,11,12,13,14,15,16,17,18,19,20,21,22,23,24],\"y\":[2230.2678191388122,2083.2198872262616,1960.8915618814904,1857.0997214290605,1767.6239605657258,1689.473227854368,1620.4614340094906,1558.949216287681,1503.6801292216794,1453.67302307936,1408.1491837882397,1366.4817092789615,1328.1595287127718,1292.7613124388563,1259.9362146019569,1229.389431247096,1200.8712137088191,1174.1684017131267]},{\"line\":{\"width\":2},\"mode\":\"markers+lines\",\"name\":\"2021-02-actual\",\"type\":\"scatter\",\"x\":[0,1,2,3,4,5,6,7,8,9,10,11],\"y\":[9331,5004,3728,3100,2589,2271,2034,1821,1673,1475,1274,1194]},{\"line\":{\"dash\":\"dash\",\"width\":3},\"mode\":\"lines\",\"name\":\"2021-02-forecast\",\"type\":\"scatter\",\"x\":[6,7,8,9,10,11,12,13,14,15,16,17,18,19,20,21,22,23,24],\"y\":[2062.277752728024,1888.755096387953,1748.8945833910996,1633.2602252169208,1535.7180178000112,1452.091128863957,1379.427402275408,1315.5753740995829,1258.9264065511993,1208.2512670651458,1162.5928976941632,1121.1939278300397,1083.4463924171298,1048.8560567543511,1017.0165951702268,987.5905675681202,960.2951799857569,934.8914726433728,911.1760035366553]},{\"line\":{\"width\":2},\"mode\":\"markers+lines\",\"name\":\"2021-03-actual\",\"type\":\"scatter\",\"x\":[0,1,2,3,4,5,6,7,8,9,10],\"y\":[10225,5046,4136,3324,2829,2401,2133,1920,1710,1392,1279]},{\"line\":{\"dash\":\"dash\",\"width\":3},\"mode\":\"lines\",\"name\":\"2021-03-forecast\",\"type\":\"scatter\",\"x\":[5,6,7,8,9,10,11,12,13,14,15,16,17,18,19,20,21,22,23,24],\"y\":[2595.1469062298956,2390.890653373833,2229.858098921259,2098.606221991528,1988.9099008589815,1895.4151394743333,1814.4658891924735,1743.4683933169424,1680.5242526885686,1624.2074772213607,1573.4231639493241,1527.314668593518,1485.2007492052774,1446.531872843339,1410.8591394259076,1377.8117291153305,1347.0802398928606,1318.4041785253933,1291.5624336485987,1266.3659251362403]},{\"line\":{\"width\":2},\"mode\":\"markers+lines\",\"name\":\"2021-04-actual\",\"type\":\"scatter\",\"x\":[0,1,2,3,4,5,6,7,8,9],\"y\":[9497,4950,3792,3155,2631,2300,2047,1802,1503,1380]},{\"line\":{\"dash\":\"dash\",\"width\":3},\"mode\":\"lines\",\"name\":\"2021-04-forecast\",\"type\":\"scatter\",\"x\":[4,5,6,7,8,9,10,11,12,13,14,15,16,17,18,19,20,21,22,23,24],\"y\":[2777.0365869111233,2508.7071193653915,2306.6181814898414,2147.303733737411,2017.5017716447867,1909.0773318466408,1816.7263094351351,1736.8227582751172,1666.7924429394227,1604.7504102983,1549.280407932176,1499.2948830848754,1453.9429314274234,1412.5479198813778,1374.564101316906,1339.5457439406218,1307.1247205030525,1276.9939467154168,1248.8949458693114,1222.6083770166183,1197.9467264402138]}],                        {\"template\":{\"data\":{\"bar\":[{\"error_x\":{\"color\":\"#2a3f5f\"},\"error_y\":{\"color\":\"#2a3f5f\"},\"marker\":{\"line\":{\"color\":\"white\",\"width\":0.5},\"pattern\":{\"fillmode\":\"overlay\",\"size\":10,\"solidity\":0.2}},\"type\":\"bar\"}],\"barpolar\":[{\"marker\":{\"line\":{\"color\":\"white\",\"width\":0.5},\"pattern\":{\"fillmode\":\"overlay\",\"size\":10,\"solidity\":0.2}},\"type\":\"barpolar\"}],\"carpet\":[{\"aaxis\":{\"endlinecolor\":\"#2a3f5f\",\"gridcolor\":\"#C8D4E3\",\"linecolor\":\"#C8D4E3\",\"minorgridcolor\":\"#C8D4E3\",\"startlinecolor\":\"#2a3f5f\"},\"baxis\":{\"endlinecolor\":\"#2a3f5f\",\"gridcolor\":\"#C8D4E3\",\"linecolor\":\"#C8D4E3\",\"minorgridcolor\":\"#C8D4E3\",\"startlinecolor\":\"#2a3f5f\"},\"type\":\"carpet\"}],\"choropleth\":[{\"colorbar\":{\"outlinewidth\":0,\"ticks\":\"\"},\"type\":\"choropleth\"}],\"contour\":[{\"colorbar\":{\"outlinewidth\":0,\"ticks\":\"\"},\"colorscale\":[[0.0,\"#0d0887\"],[0.1111111111111111,\"#46039f\"],[0.2222222222222222,\"#7201a8\"],[0.3333333333333333,\"#9c179e\"],[0.4444444444444444,\"#bd3786\"],[0.5555555555555556,\"#d8576b\"],[0.6666666666666666,\"#ed7953\"],[0.7777777777777778,\"#fb9f3a\"],[0.8888888888888888,\"#fdca26\"],[1.0,\"#f0f921\"]],\"type\":\"contour\"}],\"contourcarpet\":[{\"colorbar\":{\"outlinewidth\":0,\"ticks\":\"\"},\"type\":\"contourcarpet\"}],\"heatmap\":[{\"colorbar\":{\"outlinewidth\":0,\"ticks\":\"\"},\"colorscale\":[[0.0,\"#0d0887\"],[0.1111111111111111,\"#46039f\"],[0.2222222222222222,\"#7201a8\"],[0.3333333333333333,\"#9c179e\"],[0.4444444444444444,\"#bd3786\"],[0.5555555555555556,\"#d8576b\"],[0.6666666666666666,\"#ed7953\"],[0.7777777777777778,\"#fb9f3a\"],[0.8888888888888888,\"#fdca26\"],[1.0,\"#f0f921\"]],\"type\":\"heatmap\"}],\"heatmapgl\":[{\"colorbar\":{\"outlinewidth\":0,\"ticks\":\"\"},\"colorscale\":[[0.0,\"#0d0887\"],[0.1111111111111111,\"#46039f\"],[0.2222222222222222,\"#7201a8\"],[0.3333333333333333,\"#9c179e\"],[0.4444444444444444,\"#bd3786\"],[0.5555555555555556,\"#d8576b\"],[0.6666666666666666,\"#ed7953\"],[0.7777777777777778,\"#fb9f3a\"],[0.8888888888888888,\"#fdca26\"],[1.0,\"#f0f921\"]],\"type\":\"heatmapgl\"}],\"histogram\":[{\"marker\":{\"pattern\":{\"fillmode\":\"overlay\",\"size\":10,\"solidity\":0.2}},\"type\":\"histogram\"}],\"histogram2d\":[{\"colorbar\":{\"outlinewidth\":0,\"ticks\":\"\"},\"colorscale\":[[0.0,\"#0d0887\"],[0.1111111111111111,\"#46039f\"],[0.2222222222222222,\"#7201a8\"],[0.3333333333333333,\"#9c179e\"],[0.4444444444444444,\"#bd3786\"],[0.5555555555555556,\"#d8576b\"],[0.6666666666666666,\"#ed7953\"],[0.7777777777777778,\"#fb9f3a\"],[0.8888888888888888,\"#fdca26\"],[1.0,\"#f0f921\"]],\"type\":\"histogram2d\"}],\"histogram2dcontour\":[{\"colorbar\":{\"outlinewidth\":0,\"ticks\":\"\"},\"colorscale\":[[0.0,\"#0d0887\"],[0.1111111111111111,\"#46039f\"],[0.2222222222222222,\"#7201a8\"],[0.3333333333333333,\"#9c179e\"],[0.4444444444444444,\"#bd3786\"],[0.5555555555555556,\"#d8576b\"],[0.6666666666666666,\"#ed7953\"],[0.7777777777777778,\"#fb9f3a\"],[0.8888888888888888,\"#fdca26\"],[1.0,\"#f0f921\"]],\"type\":\"histogram2dcontour\"}],\"mesh3d\":[{\"colorbar\":{\"outlinewidth\":0,\"ticks\":\"\"},\"type\":\"mesh3d\"}],\"parcoords\":[{\"line\":{\"colorbar\":{\"outlinewidth\":0,\"ticks\":\"\"}},\"type\":\"parcoords\"}],\"pie\":[{\"automargin\":true,\"type\":\"pie\"}],\"scatter\":[{\"marker\":{\"colorbar\":{\"outlinewidth\":0,\"ticks\":\"\"}},\"type\":\"scatter\"}],\"scatter3d\":[{\"line\":{\"colorbar\":{\"outlinewidth\":0,\"ticks\":\"\"}},\"marker\":{\"colorbar\":{\"outlinewidth\":0,\"ticks\":\"\"}},\"type\":\"scatter3d\"}],\"scattercarpet\":[{\"marker\":{\"colorbar\":{\"outlinewidth\":0,\"ticks\":\"\"}},\"type\":\"scattercarpet\"}],\"scattergeo\":[{\"marker\":{\"colorbar\":{\"outlinewidth\":0,\"ticks\":\"\"}},\"type\":\"scattergeo\"}],\"scattergl\":[{\"marker\":{\"colorbar\":{\"outlinewidth\":0,\"ticks\":\"\"}},\"type\":\"scattergl\"}],\"scattermapbox\":[{\"marker\":{\"colorbar\":{\"outlinewidth\":0,\"ticks\":\"\"}},\"type\":\"scattermapbox\"}],\"scatterpolar\":[{\"marker\":{\"colorbar\":{\"outlinewidth\":0,\"ticks\":\"\"}},\"type\":\"scatterpolar\"}],\"scatterpolargl\":[{\"marker\":{\"colorbar\":{\"outlinewidth\":0,\"ticks\":\"\"}},\"type\":\"scatterpolargl\"}],\"scatterternary\":[{\"marker\":{\"colorbar\":{\"outlinewidth\":0,\"ticks\":\"\"}},\"type\":\"scatterternary\"}],\"surface\":[{\"colorbar\":{\"outlinewidth\":0,\"ticks\":\"\"},\"colorscale\":[[0.0,\"#0d0887\"],[0.1111111111111111,\"#46039f\"],[0.2222222222222222,\"#7201a8\"],[0.3333333333333333,\"#9c179e\"],[0.4444444444444444,\"#bd3786\"],[0.5555555555555556,\"#d8576b\"],[0.6666666666666666,\"#ed7953\"],[0.7777777777777778,\"#fb9f3a\"],[0.8888888888888888,\"#fdca26\"],[1.0,\"#f0f921\"]],\"type\":\"surface\"}],\"table\":[{\"cells\":{\"fill\":{\"color\":\"#EBF0F8\"},\"line\":{\"color\":\"white\"}},\"header\":{\"fill\":{\"color\":\"#C8D4E3\"},\"line\":{\"color\":\"white\"}},\"type\":\"table\"}]},\"layout\":{\"annotationdefaults\":{\"arrowcolor\":\"#2a3f5f\",\"arrowhead\":0,\"arrowwidth\":1},\"autotypenumbers\":\"strict\",\"coloraxis\":{\"colorbar\":{\"outlinewidth\":0,\"ticks\":\"\"}},\"colorscale\":{\"diverging\":[[0,\"#8e0152\"],[0.1,\"#c51b7d\"],[0.2,\"#de77ae\"],[0.3,\"#f1b6da\"],[0.4,\"#fde0ef\"],[0.5,\"#f7f7f7\"],[0.6,\"#e6f5d0\"],[0.7,\"#b8e186\"],[0.8,\"#7fbc41\"],[0.9,\"#4d9221\"],[1,\"#276419\"]],\"sequential\":[[0.0,\"#0d0887\"],[0.1111111111111111,\"#46039f\"],[0.2222222222222222,\"#7201a8\"],[0.3333333333333333,\"#9c179e\"],[0.4444444444444444,\"#bd3786\"],[0.5555555555555556,\"#d8576b\"],[0.6666666666666666,\"#ed7953\"],[0.7777777777777778,\"#fb9f3a\"],[0.8888888888888888,\"#fdca26\"],[1.0,\"#f0f921\"]],\"sequentialminus\":[[0.0,\"#0d0887\"],[0.1111111111111111,\"#46039f\"],[0.2222222222222222,\"#7201a8\"],[0.3333333333333333,\"#9c179e\"],[0.4444444444444444,\"#bd3786\"],[0.5555555555555556,\"#d8576b\"],[0.6666666666666666,\"#ed7953\"],[0.7777777777777778,\"#fb9f3a\"],[0.8888888888888888,\"#fdca26\"],[1.0,\"#f0f921\"]]},\"colorway\":[\"#636efa\",\"#EF553B\",\"#00cc96\",\"#ab63fa\",\"#FFA15A\",\"#19d3f3\",\"#FF6692\",\"#B6E880\",\"#FF97FF\",\"#FECB52\"],\"font\":{\"color\":\"#2a3f5f\"},\"geo\":{\"bgcolor\":\"white\",\"lakecolor\":\"white\",\"landcolor\":\"white\",\"showlakes\":true,\"showland\":true,\"subunitcolor\":\"#C8D4E3\"},\"hoverlabel\":{\"align\":\"left\"},\"hovermode\":\"closest\",\"mapbox\":{\"style\":\"light\"},\"paper_bgcolor\":\"white\",\"plot_bgcolor\":\"white\",\"polar\":{\"angularaxis\":{\"gridcolor\":\"#EBF0F8\",\"linecolor\":\"#EBF0F8\",\"ticks\":\"\"},\"bgcolor\":\"white\",\"radialaxis\":{\"gridcolor\":\"#EBF0F8\",\"linecolor\":\"#EBF0F8\",\"ticks\":\"\"}},\"scene\":{\"xaxis\":{\"backgroundcolor\":\"white\",\"gridcolor\":\"#DFE8F3\",\"gridwidth\":2,\"linecolor\":\"#EBF0F8\",\"showbackground\":true,\"ticks\":\"\",\"zerolinecolor\":\"#EBF0F8\"},\"yaxis\":{\"backgroundcolor\":\"white\",\"gridcolor\":\"#DFE8F3\",\"gridwidth\":2,\"linecolor\":\"#EBF0F8\",\"showbackground\":true,\"ticks\":\"\",\"zerolinecolor\":\"#EBF0F8\"},\"zaxis\":{\"backgroundcolor\":\"white\",\"gridcolor\":\"#DFE8F3\",\"gridwidth\":2,\"linecolor\":\"#EBF0F8\",\"showbackground\":true,\"ticks\":\"\",\"zerolinecolor\":\"#EBF0F8\"}},\"shapedefaults\":{\"line\":{\"color\":\"#2a3f5f\"}},\"ternary\":{\"aaxis\":{\"gridcolor\":\"#DFE8F3\",\"linecolor\":\"#A2B1C6\",\"ticks\":\"\"},\"baxis\":{\"gridcolor\":\"#DFE8F3\",\"linecolor\":\"#A2B1C6\",\"ticks\":\"\"},\"bgcolor\":\"white\",\"caxis\":{\"gridcolor\":\"#DFE8F3\",\"linecolor\":\"#A2B1C6\",\"ticks\":\"\"}},\"title\":{\"x\":0.05},\"xaxis\":{\"automargin\":true,\"gridcolor\":\"#EBF0F8\",\"linecolor\":\"#EBF0F8\",\"ticks\":\"\",\"title\":{\"standoff\":15},\"zerolinecolor\":\"#EBF0F8\",\"zerolinewidth\":2},\"yaxis\":{\"automargin\":true,\"gridcolor\":\"#EBF0F8\",\"linecolor\":\"#EBF0F8\",\"ticks\":\"\",\"title\":{\"standoff\":15},\"zerolinecolor\":\"#EBF0F8\",\"zerolinewidth\":2}}},\"xaxis\":{\"title\":{\"text\":\"Month Since Disbursement\"}},\"yaxis\":{\"title\":{\"text\":\"Count Borrowers\"}}},                        {\"responsive\": true}                    ).then(function(){\n",
       "                            \n",
       "var gd = document.getElementById('71b74a15-477a-4eeb-937b-22aa26ea5306');\n",
       "var x = new MutationObserver(function (mutations, observer) {{\n",
       "        var display = window.getComputedStyle(gd).display;\n",
       "        if (!display || display === 'none') {{\n",
       "            console.log([gd, 'removed!']);\n",
       "            Plotly.purge(gd);\n",
       "            observer.disconnect();\n",
       "        }}\n",
       "}});\n",
       "\n",
       "// Listen for the removal of the full notebook cells\n",
       "var notebookContainer = gd.closest('#notebook-container');\n",
       "if (notebookContainer) {{\n",
       "    x.observe(notebookContainer, {childList: true});\n",
       "}}\n",
       "\n",
       "// Listen for the clearing of the current output cell\n",
       "var outputEl = gd.closest('.output');\n",
       "if (outputEl) {{\n",
       "    x.observe(outputEl, {childList: true});\n",
       "}}\n",
       "\n",
       "                        })                };                });            </script>        </div>"
      ]
     },
     "metadata": {},
     "output_type": "display_data"
    }
   ],
   "source": [
    "# visualize cohorts for a given feature\n",
    "m.plot_cohorts('Count Borrowers', data='backtest')"
   ]
  },
  {
   "cell_type": "markdown",
   "id": "75481e90",
   "metadata": {},
   "source": [
    "## Forecasting"
   ]
  },
  {
   "cell_type": "markdown",
   "id": "aa58c728",
   "metadata": {},
   "source": [
    "### Power law regression"
   ]
  },
  {
   "cell_type": "code",
   "execution_count": null,
   "id": "20cabecd",
   "metadata": {},
   "outputs": [],
   "source": [
    "def power_law(x, A, B):\n",
    "    return A*x**B"
   ]
  },
  {
   "cell_type": "code",
   "execution_count": null,
   "id": "439b4f67",
   "metadata": {},
   "outputs": [],
   "source": [
    "arr = m.data[m.data['First Loan Local Disbursement Month']=='2020-12'].loc[1:, 'Count Loans']\n",
    "arr = arr.dropna()\n",
    "power_param, power_cov = curve_fit(power_law, arr.index, arr)"
   ]
  },
  {
   "cell_type": "code",
   "execution_count": null,
   "id": "9d20b8b5",
   "metadata": {},
   "outputs": [],
   "source": [
    "x = list(range(1,25))\n",
    "power_fit = power_law(x, power_param[0], power_param[1])"
   ]
  },
  {
   "cell_type": "code",
   "execution_count": null,
   "id": "0013938a",
   "metadata": {
    "scrolled": false
   },
   "outputs": [],
   "source": [
    "traces = [\n",
    "    go.Scatter(name='actual', x=arr.index, y=arr),\n",
    "    go.Scatter(name='power-law', x=x, y=power_fit)\n",
    "]\n",
    "\n",
    "fig = go.Figure(traces)\n",
    "\n",
    "fig.show()"
   ]
  },
  {
   "cell_type": "markdown",
   "id": "e0b95568",
   "metadata": {},
   "source": [
    "### sBG probalistic model"
   ]
  },
  {
   "cell_type": "markdown",
   "id": "ea159a82",
   "metadata": {},
   "source": [
    "sBG model assumptions:\n",
    "1. The propensity of one customer to drop out is independent of the behavior of every other customer.\n",
    "2. Individual customer retention rates are unchanged over time.\n",
    "3. Observed retention increase with time due to aggregate results and heterogenity in customer behaviors.\n",
    "4. Model applies for customer relationships in \"discrete-time\" and \"contractual\" settings."
   ]
  },
  {
   "cell_type": "code",
   "execution_count": null,
   "id": "9a5a3d03",
   "metadata": {},
   "outputs": [],
   "source": [
    "# initial guesses @ alpha and beta\n",
    "alpha = 1\n",
    "beta = 1"
   ]
  },
  {
   "cell_type": "code",
   "execution_count": 133,
   "id": "36fd2437",
   "metadata": {},
   "outputs": [],
   "source": [
    "def p(t, alpha, beta):\n",
    "    \"\"\"\n",
    "    Probability that a customer fails to take out another loan (probability to churn).\n",
    "    For the derivation of this equation, see the original Fader & Hardie paper. This \n",
    "    recursion formula takes two constants, alpha and beta, which are fit to actual data.\n",
    "    It then allows you to compute the probability of churn for a given time period, t.\n",
    "    \n",
    "    Parameters\n",
    "    ----------\n",
    "    t : int\n",
    "        Time period.\n",
    "    alpha : float\n",
    "        Fitting parameter.\n",
    "    beta : float\n",
    "        Fitting parameter.\n",
    "    \n",
    "    Returns\n",
    "    -------\n",
    "    P : float\n",
    "        Probability of churn.\n",
    "    \"\"\"\n",
    "    \n",
    "    eps = 1e-50\n",
    "    \n",
    "    if alpha + beta < eps:\n",
    "        if t==1:\n",
    "            return alpha/(eps)\n",
    "        else:\n",
    "            return p(t-1, alpha, beta) * (beta+t-2)/(eps+t-1)\n",
    "    else:\n",
    "        if t==1:\n",
    "            return alpha/(alpha + beta)\n",
    "        else:\n",
    "            return p(t-1, alpha, beta) * (beta+t-2)/(alpha+beta+t-1)\n",
    "    \n",
    "def s(t, alpha, beta):\n",
    "    \"\"\"\n",
    "    Survival function: the probability that a customer has survived to time t.\n",
    "    For the derivation of this equation, see the original Fader & Hardie paper. This \n",
    "    recursion formula takes two constants, alpha and beta, which are fit to actual data.\n",
    "    It also requires computation of P (probability of a customer churning).\n",
    "    \n",
    "    Parameters\n",
    "    ----------\n",
    "    t : int\n",
    "        Time period.\n",
    "    alpha : float\n",
    "        Fitting parameter.\n",
    "    beta : float\n",
    "        Fitting parameter.\n",
    "    \n",
    "    Returns\n",
    "    -------\n",
    "    S : float\n",
    "        Probability of survival.\n",
    "    \"\"\"\n",
    "    \n",
    "    if t==1:\n",
    "        return 1 - p(t, alpha, beta)\n",
    "    else:\n",
    "        return s(t-1, alpha, beta) - p(t, alpha, beta)\n",
    "    \n",
    "def log_likelihood(params, c):\n",
    "    \"\"\"\n",
    "    Computes the *negative* log-likelihood of the probability distribution of customers\n",
    "    still being active at time t. For a derivation of the log-likelihood, see Appendix A\n",
    "    in the original Fader & Hardie paper. The function computes the log-likelihood at \n",
    "    every time step, t, leading up to the last time period T. The final value is simply\n",
    "    the sum of the log-likelihood computed at each time step. In the end, we return the \n",
    "    negative of the log-likelihood so that we can use scipy's minimize function to optimize\n",
    "    for the values of alpha and beta.\n",
    "    \n",
    "    Parameters\n",
    "    ----------\n",
    "    params : array\n",
    "        Array containing alpha and beta values.\n",
    "    c : array\n",
    "        Array containing borrower count for a given cohort.\n",
    "    \n",
    "    Returns\n",
    "    -------\n",
    "    ll : float\n",
    "        log-likelihood value\n",
    "    \"\"\"\n",
    "        \n",
    "    alpha, beta = params\n",
    "    eps = 1e-50\n",
    "    \n",
    "    # initialize log-likelihood (ll) value at 0\n",
    "    ll=0\n",
    "    \n",
    "    # for each time period in the *actual* data, compute ll and add it to the running total\n",
    "    for t in c[1:].index:\n",
    "        if p(t, alpha, beta) < eps:\n",
    "            ll += (c[t-1]-c[t])*np.log(eps)\n",
    "        else:\n",
    "            ll += (c[t-1]-c[t])*np.log(p(t, alpha, beta))\n",
    "    \n",
    "    # add the final term which associated with customers who are still active at the end\n",
    "    # of the final period.\n",
    "    if s((len(c)-1)-1, alpha, beta)-p(len(c)-1, alpha, beta) < eps:\n",
    "        ll += c.iloc[-1]*np.log(eps)\n",
    "    else:\n",
    "        ll += c.iloc[-1]*np.log(s((len(c)-1)-1, alpha, beta)-p(len(c)-1, alpha, beta))\n",
    "    \n",
    "    return -ll"
   ]
  },
  {
   "cell_type": "code",
   "execution_count": null,
   "id": "7105f4e2",
   "metadata": {},
   "outputs": [],
   "source": [
    "cohort = '2020-09'"
   ]
  },
  {
   "cell_type": "code",
   "execution_count": null,
   "id": "1501901e",
   "metadata": {},
   "outputs": [],
   "source": [
    "c = m.backtest[m.backtest['First Loan Local Disbursement Month']==cohort]['Count Borrowers']\n",
    "c = c.reset_index(drop=True)"
   ]
  },
  {
   "cell_type": "code",
   "execution_count": null,
   "id": "0c9aace9",
   "metadata": {},
   "outputs": [],
   "source": [
    "c"
   ]
  },
  {
   "cell_type": "code",
   "execution_count": null,
   "id": "b0825d1c",
   "metadata": {},
   "outputs": [],
   "source": [
    "# since we're working with logs, we need bounds for alpha and beta > 0.\n",
    "bounds = ((0,None), (0,None))\n",
    "\n",
    "results = minimize(log_likelihood, np.array([1,1]), args=c, bounds=bounds)\n",
    "results"
   ]
  },
  {
   "cell_type": "code",
   "execution_count": null,
   "id": "fa1302e6",
   "metadata": {},
   "outputs": [],
   "source": [
    "alpha_opt, beta_opt = results.x\n",
    "\n",
    "sBG_forecast = []\n",
    "for i in x:\n",
    "    sBG_forecast.append(s(i, alpha_opt, beta_opt))"
   ]
  },
  {
   "cell_type": "code",
   "execution_count": null,
   "id": "cbebf7e6",
   "metadata": {},
   "outputs": [],
   "source": [
    "arr = m.data[m.data['First Loan Local Disbursement Month']==cohort].loc[1:, 'borrower_retention']\n",
    "arr = arr.dropna()\n",
    "\n",
    "power_param, power_cov = curve_fit(power_law, arr.index, arr)\n",
    "power_fit = power_law(x, power_param[0], power_param[1])"
   ]
  },
  {
   "cell_type": "code",
   "execution_count": null,
   "id": "054a573d",
   "metadata": {},
   "outputs": [],
   "source": [
    "traces = [\n",
    "    go.Scatter(name='actual', x=arr.index, y=arr),\n",
    "    go.Scatter(name='power-law', x=x, y=power_fit),\n",
    "    go.Scatter(name='sBG', x=x, y=sBG_forecast)\n",
    "]\n",
    "\n",
    "fig = go.Figure(traces)\n",
    "fig.update_layout(xaxis=dict(title='Months Since First Loan'),\n",
    "                 yaxis=dict(title='Retention (%)'))\n",
    "\n",
    "fig.show()"
   ]
  },
  {
   "cell_type": "code",
   "execution_count": null,
   "id": "3e70035d",
   "metadata": {},
   "outputs": [],
   "source": [
    "power_res = abs(power_fit[:len(arr)] - arr)\n",
    "sbg_res = abs(sBG_forecast[:len(arr)] - arr)\n",
    "\n",
    "traces = [\n",
    "    go.Scatter(name='power-law', x=arr.index, y=power_res),\n",
    "    go.Scatter(name='sBG', x=arr.index, y=sbg_res)\n",
    "]\n",
    "\n",
    "fig = go.Figure(traces)\n",
    "fig.update_layout(title='Model Residuals', xaxis=dict(title='Months Since First Loan'))\n",
    "\n",
    "fig.show()"
   ]
  },
  {
   "cell_type": "markdown",
   "id": "352c2824",
   "metadata": {},
   "source": [
    "#### Scale forecast"
   ]
  },
  {
   "cell_type": "code",
   "execution_count": null,
   "id": "aabff81e",
   "metadata": {
    "scrolled": false
   },
   "outputs": [],
   "source": [
    "forecast_dfs = []\n",
    "\n",
    "alpha = beta = 1\n",
    "\n",
    "x = list(range(1, 25))\n",
    "df = m.data[['cohort', 'Count Borrowers']]\n",
    "for cohort in df.cohort.unique():\n",
    "    c_data = df[df.cohort==cohort]\n",
    "    n = c_data.loc[0, 'Count Borrowers']\n",
    "    \n",
    "    # only for cohorts with at least 4 data points\n",
    "    if len(c_data) > 3:\n",
    "        c = c_data['Count Borrowers']\n",
    "\n",
    "        # fit model\n",
    "        bounds = ((0,None), (0,None))\n",
    "        results = minimize(log_likelihood, np.array([alpha,beta]), args=c, bounds=bounds)\n",
    "\n",
    "        # forecast\n",
    "        forecast = []\n",
    "        for i in x:\n",
    "            forecast.append(n*s(i, results.x[0], results.x[1]))\n",
    "\n",
    "        forecast = pd.DataFrame(forecast, index=x, columns=['Count Borrowers'])\n",
    "    \n",
    "        holder_df = pd.DataFrame(np.nan, index=range(0,25), columns=['null'])\n",
    "        \n",
    "        c_data['data_type'] = 'actual'\n",
    "        \n",
    "        c_data = pd.concat([c_data, holder_df], axis=1).drop('null', axis=1)\n",
    "        c_data.cohort = c_data.cohort.ffill()\n",
    "\n",
    "        c_data.data_type = c_data.data_type.fillna('forecast')\n",
    "        \n",
    "        c_data = c_data.fillna(forecast)\n",
    "        \n",
    "        c_data['borrower_retention'] = m.borrower_retention(c_data)\n",
    "        \n",
    "        forecast_dfs.append(c_data)\n",
    "        \n",
    "forecast = pd.concat(forecast_dfs)"
   ]
  },
  {
   "cell_type": "code",
   "execution_count": null,
   "id": "339aa5ca",
   "metadata": {},
   "outputs": [],
   "source": [
    "cohort='2021-06'\n",
    "\n",
    "df = forecast[forecast.cohort==cohort]\n",
    "\n",
    "traces = []\n",
    "for dtype in df.data_type.unique():\n",
    "    traces.append(go.Scatter(name=dtype, x=df[df.data_type==dtype].index, \n",
    "                             y=df[df.data_type==dtype]['borrower_retention'], mode='markers+lines'))\n",
    "    \n",
    "fig = go.Figure(traces)\n",
    "fig.update_layout(xaxis=dict(title='Months Since Disbursement'),\n",
    "                 yaxis=dict(title='Count Borrowers'))\n",
    "\n",
    "fig.show()"
   ]
  },
  {
   "cell_type": "markdown",
   "id": "e53ea055",
   "metadata": {},
   "source": [
    "### Backtest Framework"
   ]
  },
  {
   "cell_type": "markdown",
   "id": "b7decdf1",
   "metadata": {},
   "source": [
    "To backtest, we need to withold a range of months of data and forecast. Then compare the forecasted values to actuals.\n",
    "\n",
    "1. Withold range of data.\n",
    "2. Forecast.\n",
    "3. Compute error of forecast to actuals of withheld data."
   ]
  },
  {
   "cell_type": "code",
   "execution_count": null,
   "id": "55de50ee",
   "metadata": {},
   "outputs": [],
   "source": []
  },
  {
   "cell_type": "code",
   "execution_count": null,
   "id": "acc77322",
   "metadata": {},
   "outputs": [],
   "source": [
    "m.forecast_features(m.data[m.data.cohort=='2020-09'])"
   ]
  },
  {
   "cell_type": "code",
   "execution_count": 191,
   "id": "9cf8a142",
   "metadata": {},
   "outputs": [],
   "source": [
    "def test(actual, forecast, metric='mape'):\n",
    "    \"\"\"\n",
    "    Test forecast performance against actuals using method defined by metric.\n",
    "    \"\"\"\n",
    "    if metric=='rmse':\n",
    "        error = np.sqrt((1/len(actual))*sum((forecast[:len(actual)] - actual)**2))\n",
    "    elif metric=='mae':\n",
    "        error = np.mean(abs(forecast[:len(actual)] - actual))\n",
    "    elif metric=='mape':\n",
    "        error = (1/len(actual))*sum(abs(forecast[:len(actual)] - actual)/actual)\n",
    "    return error\n"
   ]
  },
  {
   "cell_type": "code",
   "execution_count": null,
   "id": "e3494401",
   "metadata": {},
   "outputs": [],
   "source": [
    "test(arr, power_fit) "
   ]
  },
  {
   "cell_type": "code",
   "execution_count": null,
   "id": "8bae0fbd",
   "metadata": {},
   "outputs": [],
   "source": [
    "test(arr, sBG_forecast)"
   ]
  },
  {
   "cell_type": "markdown",
   "id": "e175bbc9",
   "metadata": {},
   "source": [
    "### Test all cohorts"
   ]
  },
  {
   "cell_type": "code",
   "execution_count": null,
   "id": "056f8e73",
   "metadata": {},
   "outputs": [],
   "source": [
    "test_vals = {}\n",
    "\n",
    "for cohort in m.data.cohort.unique():\n",
    "    x = list(range(1,25))\n",
    "\n",
    "    # power-law\n",
    "    arr = m.data[m.data.cohort==cohort]['borrower_retention'][1:].dropna()\n",
    "    \n",
    "    if len(arr)>=3:\n",
    "        power_param, power_cov = curve_fit(power_law, arr.index, arr)\n",
    "        power_fit = power_law(x, power_param[0], power_param[1])\n",
    "\n",
    "        # sbg\n",
    "        c = m.data[m.data.cohort==cohort]['Count Borrowers'].reset_index(drop=True)\n",
    "\n",
    "        # since we're working with logs, we need bounds for alpha and beta > 0.\n",
    "        bounds = ((0,None), (0,None))\n",
    "\n",
    "        results = minimize(log_likelihood, np.array([1,1]), bounds=bounds)\n",
    "\n",
    "        sBG_forecast = []\n",
    "        for i in x:\n",
    "            sBG_forecast.append(s(i, results.x[0], results.x[1]))\n",
    "\n",
    "        test_vals[cohort] = {'power-law': test(arr, power_fit, metric='rmse'), \n",
    "                             'sbg': test(arr, sBG_forecast)}\n",
    "    \n",
    "test_vals"
   ]
  },
  {
   "cell_type": "code",
   "execution_count": null,
   "id": "5f56468e",
   "metadata": {},
   "outputs": [],
   "source": [
    "m.data[m.data.cohort=='2021-10']"
   ]
  },
  {
   "cell_type": "code",
   "execution_count": null,
   "id": "09d85076",
   "metadata": {},
   "outputs": [],
   "source": [
    "forecast_methods = {\n",
    "    'Count Borrowers': 'sbg',\n",
    "    'loans_per_borrwer': 'power-law'\n",
    "}"
   ]
  },
  {
   "cell_type": "code",
   "execution_count": null,
   "id": "386d3900",
   "metadata": {},
   "outputs": [],
   "source": [
    "m.data[m.data['First Loan Local Disbursement Month']=='2020-09']['Count Borrowers']"
   ]
  },
  {
   "cell_type": "markdown",
   "id": "8f62b19b",
   "metadata": {},
   "source": [
    "#### Questions/Concerns\n",
    "\n",
    "1. Is there a framework that's been developed/used to back test this forecast model?\n",
    "2. Filter out bad cohorts. Why are some starting at 0? (e.g. 2021-07)\n",
    "3. Why are the last few months not included? Why not just omit the final incomplete month?\n"
   ]
  },
  {
   "cell_type": "code",
   "execution_count": null,
   "id": "e1a69225",
   "metadata": {},
   "outputs": [],
   "source": [
    "new_data[new_data['First Loan Local Disbursement Month'] == '2021-07']"
   ]
  },
  {
   "cell_type": "code",
   "execution_count": null,
   "id": "5606c573",
   "metadata": {},
   "outputs": [],
   "source": []
  },
  {
   "cell_type": "code",
   "execution_count": null,
   "id": "3c7799ac",
   "metadata": {},
   "outputs": [],
   "source": []
  }
 ],
 "metadata": {
  "kernelspec": {
   "display_name": "Python 3 (ipykernel)",
   "language": "python",
   "name": "python3"
  },
  "language_info": {
   "codemirror_mode": {
    "name": "ipython",
    "version": 3
   },
   "file_extension": ".py",
   "mimetype": "text/x-python",
   "name": "python",
   "nbconvert_exporter": "python",
   "pygments_lexer": "ipython3",
   "version": "3.9.7"
  }
 },
 "nbformat": 4,
 "nbformat_minor": 5
}
