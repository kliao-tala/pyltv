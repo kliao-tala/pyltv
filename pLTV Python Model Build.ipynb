{
 "cells": [
  {
   "cell_type": "markdown",
   "id": "1738c702",
   "metadata": {},
   "source": [
    "# pLTV Python Model - MVP"
   ]
  },
  {
   "cell_type": "markdown",
   "id": "5ef3953a",
   "metadata": {},
   "source": [
    "## TO DO LIST\n",
    "\n",
    "1. Add all forecasting methods to model. - DONE\n",
    "2. Add back testing to model. - DONE\n",
    "3. Change plotting method for backtest_report.\n",
    "4. **COMPLETE MVP**\n",
    "5. Revisit loan size forecast, errors seem large.\n",
    "6. Refactor code into modules.\n",
    "7. Create functions for each forecast method (for plug and play).\n",
    "8. Explore why it seems that retention in previous month changes with time for all cohorts."
   ]
  },
  {
   "cell_type": "markdown",
   "id": "a6306da1",
   "metadata": {},
   "source": [
    "#### Resources"
   ]
  },
  {
   "cell_type": "markdown",
   "id": "71408ea4",
   "metadata": {},
   "source": [
    "Github repo\n",
    "https://github.com/kliao-tala/pLTV\n",
    "\n",
    "Fader & Hardie paper on sBG model\n",
    "https://drive.google.com/file/d/1tfMiERon1HgWo8dDJddwSzwc_AXK7LCA/view?usp=sharing\n",
    "https://faculty.wharton.upenn.edu/wp-content/uploads/2012/04/Fader_hardie_jim_07.pdf\n",
    "\n",
    "YT tutorial to pull look data\n",
    "https://www.youtube.com/watch?v=EKwtLBnwXHk&list=PLXwS3L4W3KR2fhnQa-sLyajPZ9-L00KGX&index=1\n",
    "\n",
    "Looker Python SDK & API\n",
    "https://inventure.looker.com/extensions/marketplace_extension_api_explorer::api-explorer/4.0"
   ]
  },
  {
   "cell_type": "markdown",
   "id": "a2848eca",
   "metadata": {},
   "source": [
    "---"
   ]
  },
  {
   "cell_type": "code",
   "execution_count": 2,
   "id": "bdd8940e",
   "metadata": {},
   "outputs": [],
   "source": [
    "import numpy as np\n",
    "\n",
    "import pandas as pd\n",
    "pd.options.mode.chained_assignment = None  # default='warn'\n",
    "\n",
    "from scipy.optimize import curve_fit, minimize\n",
    "from scipy.special import logsumexp\n",
    "\n",
    "import plotly\n",
    "from plotly import graph_objects as go\n",
    "import plotly.io as pio\n",
    "\n",
    "# change default plotly theme\n",
    "pio.templates.default = \"plotly_white\"\n",
    "\n",
    "import sbg"
   ]
  },
  {
   "cell_type": "code",
   "execution_count": 3,
   "id": "ac07ccc0",
   "metadata": {},
   "outputs": [],
   "source": [
    "inputs = pd.read_csv('data/pltv_inputs.csv')\n",
    "inputs = inputs.set_index('market')\n",
    "data = pd.read_csv('data/ke_data.csv')\n",
    "pltv_expected = pd.read_csv('data/pltv_expected.csv')"
   ]
  },
  {
   "cell_type": "markdown",
   "id": "392a13c8",
   "metadata": {},
   "source": [
    "## Data Munging"
   ]
  },
  {
   "cell_type": "code",
   "execution_count": 4,
   "id": "77fcd3ff",
   "metadata": {},
   "outputs": [],
   "source": [
    "# fix date inconsistencies\n",
    "data = data.replace({'2021-9': '2021-09', '2021-8': '2021-08', '2021-7': '2021-07', \n",
    "              '2021-6': '2021-06', '2021-5': '2021-05', '2021-4': '2021-04', '2020-9': '2020-09'})\n",
    "\n",
    "# sort by months since first disbursement\n",
    "data = data.sort_values(['First Loan Local Disbursement Month', \n",
    "                         'Months Since First Loan Disbursed'])\n",
    "\n",
    "# remove all columns calculated through looker\n",
    "data = data.loc[:,:\"Default Rate Amount 51D\"]"
   ]
  },
  {
   "cell_type": "code",
   "execution_count": 5,
   "id": "be7e611e",
   "metadata": {},
   "outputs": [
    {
     "data": {
      "text/html": [
       "<div>\n",
       "<style scoped>\n",
       "    .dataframe tbody tr th:only-of-type {\n",
       "        vertical-align: middle;\n",
       "    }\n",
       "\n",
       "    .dataframe tbody tr th {\n",
       "        vertical-align: top;\n",
       "    }\n",
       "\n",
       "    .dataframe thead th {\n",
       "        text-align: right;\n",
       "    }\n",
       "</style>\n",
       "<table border=\"1\" class=\"dataframe\">\n",
       "  <thead>\n",
       "    <tr style=\"text-align: right;\">\n",
       "      <th></th>\n",
       "      <th>First Loan Local Disbursement Month</th>\n",
       "      <th>Months Since First Loan Disbursed</th>\n",
       "      <th>Count First Loans</th>\n",
       "      <th>Count Borrowers</th>\n",
       "      <th>Count Loans</th>\n",
       "      <th>Total Amount</th>\n",
       "      <th>Total Interest Assessed</th>\n",
       "      <th>Total Rollover Charged</th>\n",
       "      <th>Total Rollover Reversed</th>\n",
       "      <th>Default Rate Amount 7D</th>\n",
       "      <th>Default Rate Amount 30D</th>\n",
       "      <th>Default Rate Amount 51D</th>\n",
       "    </tr>\n",
       "  </thead>\n",
       "  <tbody>\n",
       "    <tr>\n",
       "      <th>0</th>\n",
       "      <td>2020-09</td>\n",
       "      <td>0</td>\n",
       "      <td>7801</td>\n",
       "      <td>7801</td>\n",
       "      <td>13156</td>\n",
       "      <td>48361000</td>\n",
       "      <td>6540240</td>\n",
       "      <td>681325</td>\n",
       "      <td>81520</td>\n",
       "      <td>0.155382</td>\n",
       "      <td>0.121192</td>\n",
       "      <td>0.113031</td>\n",
       "    </tr>\n",
       "    <tr>\n",
       "      <th>15</th>\n",
       "      <td>2020-09</td>\n",
       "      <td>1</td>\n",
       "      <td>0</td>\n",
       "      <td>4481</td>\n",
       "      <td>5697</td>\n",
       "      <td>34490000</td>\n",
       "      <td>4660880</td>\n",
       "      <td>416544</td>\n",
       "      <td>32387</td>\n",
       "      <td>0.130661</td>\n",
       "      <td>0.101823</td>\n",
       "      <td>0.095738</td>\n",
       "    </tr>\n",
       "    <tr>\n",
       "      <th>2</th>\n",
       "      <td>2020-09</td>\n",
       "      <td>2</td>\n",
       "      <td>0</td>\n",
       "      <td>3661</td>\n",
       "      <td>4310</td>\n",
       "      <td>31461000</td>\n",
       "      <td>4297310</td>\n",
       "      <td>401077</td>\n",
       "      <td>30617</td>\n",
       "      <td>0.139719</td>\n",
       "      <td>0.103958</td>\n",
       "      <td>0.094792</td>\n",
       "    </tr>\n",
       "    <tr>\n",
       "      <th>9</th>\n",
       "      <td>2020-09</td>\n",
       "      <td>3</td>\n",
       "      <td>0</td>\n",
       "      <td>3050</td>\n",
       "      <td>3599</td>\n",
       "      <td>30482000</td>\n",
       "      <td>4178400</td>\n",
       "      <td>343062</td>\n",
       "      <td>17629</td>\n",
       "      <td>0.125111</td>\n",
       "      <td>0.089089</td>\n",
       "      <td>0.084399</td>\n",
       "    </tr>\n",
       "    <tr>\n",
       "      <th>10</th>\n",
       "      <td>2020-09</td>\n",
       "      <td>4</td>\n",
       "      <td>0</td>\n",
       "      <td>2549</td>\n",
       "      <td>2985</td>\n",
       "      <td>29303000</td>\n",
       "      <td>3964590</td>\n",
       "      <td>300262</td>\n",
       "      <td>920</td>\n",
       "      <td>0.113720</td>\n",
       "      <td>0.086750</td>\n",
       "      <td>0.081658</td>\n",
       "    </tr>\n",
       "  </tbody>\n",
       "</table>\n",
       "</div>"
      ],
      "text/plain": [
       "   First Loan Local Disbursement Month  Months Since First Loan Disbursed  \\\n",
       "0                              2020-09                                  0   \n",
       "15                             2020-09                                  1   \n",
       "2                              2020-09                                  2   \n",
       "9                              2020-09                                  3   \n",
       "10                             2020-09                                  4   \n",
       "\n",
       "    Count First Loans  Count Borrowers  Count Loans  Total Amount  \\\n",
       "0                7801             7801        13156      48361000   \n",
       "15                  0             4481         5697      34490000   \n",
       "2                   0             3661         4310      31461000   \n",
       "9                   0             3050         3599      30482000   \n",
       "10                  0             2549         2985      29303000   \n",
       "\n",
       "    Total Interest Assessed  Total Rollover Charged  Total Rollover Reversed  \\\n",
       "0                   6540240                  681325                    81520   \n",
       "15                  4660880                  416544                    32387   \n",
       "2                   4297310                  401077                    30617   \n",
       "9                   4178400                  343062                    17629   \n",
       "10                  3964590                  300262                      920   \n",
       "\n",
       "    Default Rate Amount 7D  Default Rate Amount 30D  Default Rate Amount 51D  \n",
       "0                 0.155382                 0.121192                 0.113031  \n",
       "15                0.130661                 0.101823                 0.095738  \n",
       "2                 0.139719                 0.103958                 0.094792  \n",
       "9                 0.125111                 0.089089                 0.084399  \n",
       "10                0.113720                 0.086750                 0.081658  "
      ]
     },
     "execution_count": 5,
     "metadata": {},
     "output_type": "execute_result"
    }
   ],
   "source": [
    "data.head()"
   ]
  },
  {
   "cell_type": "markdown",
   "id": "8164b5b1",
   "metadata": {},
   "source": [
    "## pLTV Model"
   ]
  },
  {
   "cell_type": "markdown",
   "id": "e0b95568",
   "metadata": {},
   "source": [
    "### sBG probalistic model"
   ]
  },
  {
   "cell_type": "markdown",
   "id": "ea159a82",
   "metadata": {},
   "source": [
    "sBG model assumptions:\n",
    "1. The propensity of one customer to drop out is independent of the behavior of every other customer.\n",
    "2. Individual customer retention rates are unchanged over time.\n",
    "3. Observed retention increase with time due to aggregate results and heterogenity in customer behaviors.\n",
    "4. Model applies for customer relationships in \"discrete-time\" and \"contractual\" settings."
   ]
  },
  {
   "cell_type": "code",
   "execution_count": 6,
   "id": "9a5a3d03",
   "metadata": {},
   "outputs": [],
   "source": [
    "# initial guesses @ alpha and beta\n",
    "alpha = 1\n",
    "beta = 1"
   ]
  },
  {
   "cell_type": "code",
   "execution_count": 7,
   "id": "36fd2437",
   "metadata": {},
   "outputs": [],
   "source": [
    "def p(t, alpha, beta):\n",
    "    \"\"\"\n",
    "    Probability that a customer fails to take out another loan (probability to churn).\n",
    "    For the derivation of this equation, see the original Fader & Hardie paper. This \n",
    "    recursion formula takes two constants, alpha and beta, which are fit to actual data.\n",
    "    It then allows you to compute the probability of churn for a given time period, t.\n",
    "    \n",
    "    Parameters\n",
    "    ----------\n",
    "    t : int\n",
    "        Time period.\n",
    "    alpha : float\n",
    "        Fitting parameter.\n",
    "    beta : float\n",
    "        Fitting parameter.\n",
    "    \n",
    "    Returns\n",
    "    -------\n",
    "    P : float\n",
    "        Probability of churn.\n",
    "    \"\"\"\n",
    "    \n",
    "    eps = 1e-50\n",
    "    \n",
    "    if alpha + beta < eps:\n",
    "        if t==1:\n",
    "            return alpha/(eps)\n",
    "        else:\n",
    "            return p(t-1, alpha, beta) * (beta+t-2)/(eps+t-1)\n",
    "    else:\n",
    "        if t==1:\n",
    "            return alpha/(alpha + beta)\n",
    "        else:\n",
    "            return p(t-1, alpha, beta) * (beta+t-2)/(alpha+beta+t-1)\n",
    "    \n",
    "def s(t, alpha, beta):\n",
    "    \"\"\"\n",
    "    Survival function: the probability that a customer has survived to time t.\n",
    "    For the derivation of this equation, see the original Fader & Hardie paper. This \n",
    "    recursion formula takes two constants, alpha and beta, which are fit to actual data.\n",
    "    It also requires computation of P (probability of a customer churning).\n",
    "    \n",
    "    Parameters\n",
    "    ----------\n",
    "    t : int\n",
    "        Time period.\n",
    "    alpha : float\n",
    "        Fitting parameter.\n",
    "    beta : float\n",
    "        Fitting parameter.\n",
    "    \n",
    "    Returns\n",
    "    -------\n",
    "    S : float\n",
    "        Probability of survival.\n",
    "    \"\"\"\n",
    "    \n",
    "    if t==1:\n",
    "        return 1 - p(t, alpha, beta)\n",
    "    else:\n",
    "        return s(t-1, alpha, beta) - p(t, alpha, beta)\n",
    "    \n",
    "def log_likelihood(params, c):\n",
    "    \"\"\"\n",
    "    Computes the *negative* log-likelihood of the probability distribution of customers\n",
    "    still being active at time t. For a derivation of the log-likelihood, see Appendix A\n",
    "    in the original Fader & Hardie paper. The function computes the log-likelihood at \n",
    "    every time step, t, leading up to the last time period T. The final value is simply\n",
    "    the sum of the log-likelihood computed at each time step. In the end, we return the \n",
    "    negative of the log-likelihood so that we can use scipy's minimize function to optimize\n",
    "    for the values of alpha and beta.\n",
    "    \n",
    "    Parameters\n",
    "    ----------\n",
    "    params : array\n",
    "        Array containing alpha and beta values.\n",
    "    c : array\n",
    "        Array containing borrower count for a given cohort.\n",
    "    \n",
    "    Returns\n",
    "    -------\n",
    "    ll : float\n",
    "        log-likelihood value\n",
    "    \"\"\"\n",
    "        \n",
    "    alpha, beta = params\n",
    "    eps = 1e-50\n",
    "    \n",
    "    # initialize log-likelihood (ll) value at 0\n",
    "    ll=0\n",
    "    \n",
    "    # for each time period in the *actual* data, compute ll and add it to the running total\n",
    "    for t in c[1:].index:\n",
    "        # if P is less than epsilon, replace it with epsilon.\n",
    "        if p(t, alpha, beta) < eps:\n",
    "            ll += (c[t-1]-c[t])*np.log(eps)\n",
    "        else:\n",
    "            ll += (c[t-1]-c[t])*np.log(p(t, alpha, beta))\n",
    "    \n",
    "    # add the final term which is associated with customers who are still active at the end\n",
    "    # of the final period.\n",
    "    \n",
    "    # replace the argument of the np.log() function with epsilon if smaller than epsilon.\n",
    "    if s((len(c)-1)-1, alpha, beta)-p(len(c)-1, alpha, beta) < eps:\n",
    "        ll += c.iloc[-1]*np.log(eps)\n",
    "    else:\n",
    "        ll += c.iloc[-1]*np.log(s((len(c)-1)-1, alpha, beta)-p(len(c)-1, alpha, beta))\n",
    "    \n",
    "    return -ll"
   ]
  },
  {
   "cell_type": "code",
   "execution_count": 8,
   "id": "7a26c67b",
   "metadata": {},
   "outputs": [],
   "source": [
    "# KSH to USD conversion factor\n",
    "ksh_usd = 0.00925\n",
    "late_fee = 0.08 # % fee on defaults"
   ]
  },
  {
   "cell_type": "code",
   "execution_count": 9,
   "id": "3ae9ff5f",
   "metadata": {},
   "outputs": [],
   "source": [
    "# model parameters\n",
    "min_months = 4"
   ]
  },
  {
   "cell_type": "code",
   "execution_count": 90,
   "id": "f6a41ab1",
   "metadata": {},
   "outputs": [],
   "source": [
    "class Model:\n",
    "    \"\"\"\n",
    "    sBG model class containing all functionality for creating, analyzing, and backtesting\n",
    "    the sBG model.\n",
    "    \n",
    "    Parameters\n",
    "    ----------\n",
    "    data : pandas DataFrame\n",
    "        Raw data pulled from Looker.\n",
    "        \n",
    "    Methods\n",
    "    -------\n",
    "    clean_data\n",
    "        Performs all data cleaning steps and returns the cleaned data.\n",
    "        \n",
    "    borrower_retention(cohort_data)\n",
    "        Computes borrower retention.\n",
    "    \n",
    "    \"\"\"\n",
    "    \n",
    "    def __init__(self, data, market):\n",
    "        self.data = data\n",
    "        self.market = market\n",
    "        self.forecast_cols = ['Count Borrowers', 'borrower_retention', 'borrower_survival', 'loan_size', \n",
    "                'loans_per_borrower', 'Count Loans', 'Total Amount', 'interest_rate', 'default_rate_7dpd',\n",
    "                'default_rate_51dpd', 'default_rate_365dpd', 'loans_per_original', \n",
    "                'origination_per_original', 'revenue_per_original', 'cm$_per_original',\n",
    "                'opex_per_original', 'ltv_per_original', 'cm%_per_original']\n",
    "        \n",
    "        self.clean_data()\n",
    "        \n",
    "        \n",
    "    def clean_data(self):\n",
    "        # fix date inconsistencies\n",
    "        self.data = self.data.replace({'2021-9': '2021-09', '2021-8': '2021-08', \\\n",
    "                                       '2021-7': '2021-07', '2021-6': '2021-06', \\\n",
    "                                       '2021-5': '2021-05', '2021-4': '2021-04', \\\n",
    "                                       '2020-9': '2020-09'})\n",
    "\n",
    "        # sort by months since first disbursement\n",
    "        self.data = self.data.sort_values(['First Loan Local Disbursement Month', \n",
    "                                 'Months Since First Loan Disbursed'])\n",
    "\n",
    "        # remove all columns calculated through looker\n",
    "        self.data = self.data.loc[:,:\"Default Rate Amount 51D\"]\n",
    "        \n",
    "        # add more convenient cohort column\n",
    "        self.data['cohort'] = self.data['First Loan Local Disbursement Month']\n",
    "        \n",
    "        \n",
    "    # --- DATA FUNCTIONS --- #\n",
    "    def borrower_retention(self, cohort_data):\n",
    "        return cohort_data['Count Borrowers']/cohort_data['Count Borrowers'].max()\n",
    "\n",
    "    \n",
    "    def borrower_survival(self, cohort_data):\n",
    "        return cohort_data['Count Borrowers']/cohort_data['Count Borrowers'].shift(1)\n",
    "    \n",
    "    \n",
    "    def loans_per_borrower(self, cohort_data):\n",
    "        return cohort_data['Count Loans']/cohort_data['Count Borrowers']\n",
    "    \n",
    "    \n",
    "    def loan_size(self, cohort_data, to_usd):\n",
    "        df = cohort_data['Total Amount']/cohort_data['Count Loans']\n",
    "        if to_usd:\n",
    "            df *= ksh_usd\n",
    "        return df\n",
    "    \n",
    "    \n",
    "    def interest_rate(self, cohort_data):\n",
    "        return cohort_data['Total Interest Assessed']/cohort_data['Total Amount']\n",
    "    \n",
    "    \n",
    "    def default_rate(self, cohort_data, period=7):\n",
    "        if period==7:\n",
    "            return cohort_data['Default Rate Amount 7D'].fillna(0)\n",
    "        \n",
    "        elif period==51:\n",
    "            default_rate = cohort_data['Default Rate Amount 51D']\n",
    "\n",
    "            recovery_rate_51 = float(inputs.loc['ke', 'recovery_7-30'] + \\\n",
    "                                     inputs.loc['ke', 'recovery_30-51'])\n",
    "\n",
    "            ## fill null 51dpd values with 7dpd values based on recovery rates\n",
    "            derived_51dpd = (cohort_data['Count Loans']*(cohort_data['default_rate_7dpd']) - \\\n",
    "                cohort_data['Count Loans']*(cohort_data['default_rate_7dpd'])*recovery_rate_51)/ \\\n",
    "                cohort_data['Count Loans']\n",
    "            \n",
    "            return default_rate.fillna(derived_51dpd)\n",
    "        \n",
    "        elif period==365:\n",
    "            # get actual data if it exists\n",
    "            default_rate = np.nan*cohort_data['Default Rate Amount 51D']\n",
    "\n",
    "            recovery_rate_365 = float(inputs.loc['ke', 'recovery_51_'])\n",
    "\n",
    "            ## fill null 365dpd values with 51dpd values based on recovery rates\n",
    "            derived_365dpd = (cohort_data['Count Loans']*(cohort_data['default_rate_51dpd']) - \\\n",
    "                cohort_data['Count Loans']*(cohort_data['default_rate_51dpd'])* \\\n",
    "                recovery_rate_365)/cohort_data['Count Loans']\n",
    "\n",
    "            return default_rate.fillna(derived_365dpd)\n",
    "        \n",
    "        \n",
    "    def loans_per_original(self, cohort_data):\n",
    "        return cohort_data['Count Loans']/cohort_data['Count Borrowers'].max()\n",
    "    \n",
    "    \n",
    "    def origination_per_original(self, cohort_data, to_usd):\n",
    "        df = cohort_data['Total Amount']/cohort_data['Count Borrowers'].max()\n",
    "        if to_usd:\n",
    "            df *= ksh_usd\n",
    "        return df\n",
    "    \n",
    "    \n",
    "    def revenue_per_original(self, cohort_data, to_usd):\n",
    "        interest_revenue = cohort_data['origination_per_original']*cohort_data['interest_rate']\n",
    "        \n",
    "        # 0.08 is the % fee we charge to defaulted customers\n",
    "        revenue = interest_revenue + (cohort_data['origination_per_original'] + interest_revenue) * \\\n",
    "            cohort_data['default_rate_7dpd']*0.08\n",
    "        \n",
    "        # note that origination_per_original is already in USD so no conversion is necessary\n",
    "        return revenue\n",
    "    \n",
    "    \n",
    "    def credit_margin(self, cohort_data):\n",
    "        return cohort_data['revenue_per_original'] - \\\n",
    "                (cohort_data['origination_per_original'] + cohort_data['revenue_per_original'])* \\\n",
    "                cohort_data['default_rate_365dpd']\n",
    "    \n",
    "    \n",
    "    def opex_per_original(self, cohort_data):\n",
    "        opex_cost_per_loan = float(inputs.loc['ke', 'opex cost per loan'])\n",
    "        cost_of_capital = float(inputs.loc['ke', 'cost of capital'])/12\n",
    "        \n",
    "        return opex_cost_per_loan*cohort_data['loans_per_original'] + \\\n",
    "            cost_of_capital*cohort_data['origination_per_original']\n",
    "    \n",
    "    \n",
    "    def ltv_per_original(self, cohort_data):\n",
    "        return cohort_data['cm$_per_original'] - cohort_data['opex_per_original']\n",
    "    \n",
    "    \n",
    "    def credit_margin_percent(self, cohort_data):\n",
    "        return cohort_data['ltv_per_original']/cohort_data['revenue_per_original']\n",
    "        \n",
    "        \n",
    "    def generate_features(self, to_usd=True):\n",
    "        \"\"\"\n",
    "        Generate all features required for pLTV model.\n",
    "        \"\"\"\n",
    "        cohorts = []\n",
    "\n",
    "        # for each cohort\n",
    "        for cohort in self.data.loc[:,'First Loan Local Disbursement Month'].unique():\n",
    "            # omit the last two months of incomplete data\n",
    "            cohort_data = self.data[self.data['First Loan Local Disbursement Month']==cohort].iloc[:-2,:]\n",
    "\n",
    "            # call data functions to generate calculated features\n",
    "            cohort_data['borrower_retention'] = self.borrower_retention(cohort_data)\n",
    "            cohort_data['borrower_survival'] = self.borrower_survival(cohort_data)\n",
    "            cohort_data['loans_per_borrower'] = self.loans_per_borrower(cohort_data)\n",
    "            cohort_data['loan_size'] = self.loan_size(cohort_data, to_usd)\n",
    "            cohort_data['interest_rate'] = self.interest_rate(cohort_data)\n",
    "            cohort_data['default_rate_7dpd'] = self.default_rate(cohort_data, period=7)\n",
    "            cohort_data['default_rate_51dpd'] = self.default_rate(cohort_data, period=51)\n",
    "            cohort_data['default_rate_365dpd'] = self.default_rate(cohort_data, period=365)\n",
    "            cohort_data['loans_per_original'] = self.loans_per_original(cohort_data)\n",
    "            cohort_data['origination_per_original'] = self.origination_per_original(cohort_data, to_usd)\n",
    "            cohort_data['revenue_per_original'] = self.revenue_per_original(cohort_data, to_usd)\n",
    "            cohort_data['cm$_per_original'] = self.credit_margin(cohort_data)\n",
    "            cohort_data['opex_per_original'] = self.opex_per_original(cohort_data)\n",
    "            cohort_data['ltv_per_original'] = self.ltv_per_original(cohort_data)\n",
    "            cohort_data['cm%_per_original'] = self.credit_margin_percent(cohort_data)\n",
    "            \n",
    "            # reset the index and append the data\n",
    "            cohorts.append(cohort_data.reset_index(drop=True))\n",
    "\n",
    "        self.cohorts = cohorts\n",
    "        self.data = pd.concat(cohorts, axis=0)\n",
    "    \n",
    "    \n",
    "    def plot_cohorts(self, param, data='raw'):\n",
    "        \"\"\"\n",
    "        Generate scatter plot for a specific paramter.\n",
    "        \n",
    "        Parameters\n",
    "        ----------\n",
    "        \n",
    "        \"\"\"\n",
    "        \n",
    "        if data == 'raw' or data == 'forecast' or data == 'backtest':\n",
    "            curves = []\n",
    "\n",
    "            if data == 'forecast':\n",
    "                for cohort in self.forecast.cohort.unique():\n",
    "                    c_data = self.forecast[self.forecast.cohort==cohort]\n",
    "                    for dtype in c_data.data_type.unique():\n",
    "                        output = c_data[c_data.data_type==dtype][param]\n",
    "\n",
    "                        output.name = cohort + '-' + dtype\n",
    "\n",
    "                        curves.append(output)\n",
    "\n",
    "            elif data == 'backtest':\n",
    "                for cohort in self.backtest.cohort.unique():\n",
    "                    c_data = self.backtest[self.backtest.cohort==cohort]\n",
    "\n",
    "                    # append raw data\n",
    "                    output = self.data[self.data.cohort==cohort][param]\n",
    "                    output.name = cohort + '-actual'\n",
    "\n",
    "                    curves.append(output)\n",
    "\n",
    "                    # append forecast\n",
    "                    output = c_data[c_data.data_type=='forecast'][param]\n",
    "                    output.name = cohort + '-forecast'\n",
    "\n",
    "                    curves.append(output)\n",
    "\n",
    "            elif data == 'raw':\n",
    "                for cohort in self.data.cohort.unique():\n",
    "                    output = self.data[self.data.cohort==cohort][param]\n",
    "\n",
    "                    output.name = cohort\n",
    "\n",
    "                    curves.append(output)\n",
    "\n",
    "            traces = []\n",
    "\n",
    "            for cohort in curves:\n",
    "                if 'forecast' in cohort.name:\n",
    "                    traces.append(go.Scatter(name=cohort.name, x=cohort.index, y=cohort, mode='lines',\n",
    "                                            line=dict(width=3, dash='dash')))\n",
    "                else:\n",
    "                    if cohort.notnull().any():\n",
    "                        traces.append(go.Scatter(name=cohort.name, x=cohort.index, y=cohort, mode='markers+lines',\n",
    "                                            line=dict(width=2)))\n",
    "\n",
    "            fig = go.Figure(traces)\n",
    "            fig.update_layout(title=f'{param} - {data.upper()}',\n",
    "                              xaxis=dict(title='Month Since Disbursement'),\n",
    "                              yaxis=dict(title=param))\n",
    "\n",
    "            fig.show()\n",
    "        \n",
    "        elif data == 'backtest_report':\n",
    "            curves = []\n",
    "            for cohort in self.backtest_report.cohort.unique():\n",
    "                c_data = self.backtest_report[self.backtest_report.cohort==cohort]\n",
    "                output = c_data[param]\n",
    "\n",
    "                output.name = cohort\n",
    "\n",
    "                curves.append(output)\n",
    "                \n",
    "            traces = []\n",
    "            for cohort in curves:\n",
    "                traces.append(go.Bar(name=cohort.name, x=cohort.index, y=cohort))\n",
    "\n",
    "            metric = param.split('-')[1].upper()\n",
    "            fig = go.Figure(traces)\n",
    "            fig.update_layout(title=f'{self.backtest_months} Month Backtest - {metric}',\n",
    "                              xaxis=dict(title='Month Since Disbursement'),\n",
    "                              yaxis=dict(title=param))\n",
    "\n",
    "            fig.show()\n",
    "        \n",
    "        \n",
    "    # --- FORECAST FUNCTIONS --- #\n",
    "    def forecast_features(self, data, method='', months=24, to_usd=True):\n",
    "        \"\"\"\n",
    "        Generates a forecast of \"Count Borrowers\" out to the input number of months.\n",
    "        The original and forecasted values are returned as a new dataframe, set as\n",
    "        a new attribute of the model, *.forecast*. \n",
    "        \n",
    "        Parameters\n",
    "        ----------\n",
    "        months : int\n",
    "            Number of months to forecast to.\n",
    "        \"\"\"\n",
    "        \n",
    "        # initialize alpha and beta, optimized later by model\n",
    "        alpha = beta = 1\n",
    "        \n",
    "        # list to hold individual cohort forecasts\n",
    "        forecast_dfs = []\n",
    "\n",
    "        # range of desired time periods\n",
    "        times = list(range(1, months+1))\n",
    "        times_dict = {i:i for i in times}\n",
    "        \n",
    "        for cohort in data.cohort.unique():\n",
    "            # data for current cohort\n",
    "            c_data = data[data.cohort==cohort]\n",
    "            \n",
    "            # starting cohort size\n",
    "            n = c_data.loc[0, 'Count Borrowers']\n",
    "\n",
    "            # only for cohorts with at least 4 data points\n",
    "            if len(c_data) >= min_months:\n",
    "                c = c_data['Count Borrowers']\n",
    "                \n",
    "                def power_law(t, A, B):\n",
    "                    pass\n",
    "\n",
    "                # define bounds for alpha and beta (must be positive)\n",
    "                bounds = ((0,1e5), (0,1e5))\n",
    "                \n",
    "                # use scipy's minimize function on log_likelihood to optimize alpha and beta\n",
    "                results = minimize(log_likelihood, np.array([alpha,beta]), args=c, bounds=bounds)\n",
    "\n",
    "                \n",
    "                # list to hold forecasted values \n",
    "                forecast = []\n",
    "                for t in times:\n",
    "                    forecast.append(n*s(t, results.x[0], results.x[1]))\n",
    "\n",
    "                # convert list to dataframe\n",
    "                forecast = pd.DataFrame(forecast, index=times, columns=['Count Borrowers'])\n",
    "\n",
    "                # null df used to extend original cohort df to desired number of forecast months\n",
    "                dummy_df = pd.DataFrame(np.nan, index=range(0,months+1), columns=['null'])\n",
    "\n",
    "                # create label column to denote actual vs forecast data\n",
    "                c_data['data_type'] = 'actual'\n",
    "\n",
    "                # extend cohort df\n",
    "                c_data = pd.concat([c_data, dummy_df], axis=1).drop('null', axis=1)\n",
    "                \n",
    "                # fill missing values in each col\n",
    "                c_data.cohort = c_data.cohort.ffill()\n",
    "                c_data['First Loan Local Disbursement Month'] = \\\n",
    "                    c_data['First Loan Local Disbursement Month'].ffill()\n",
    "                c_data['Months Since First Loan Disbursed'] = \\\n",
    "                    c_data['Months Since First Loan Disbursed'].fillna(times_dict).astype(int)\n",
    "                c_data['Count First Loans'] = c_data['Count First Loans'].ffill()\n",
    "                \n",
    "\n",
    "                # label forecasted data\n",
    "                c_data.data_type = c_data.data_type.fillna('forecast')\n",
    "\n",
    "                # fill in the forecasted data\n",
    "                c_data['Count Borrowers'] = c_data['Count Borrowers'].fillna(forecast['Count Borrowers'])\n",
    "                \n",
    "                # add retention & survival features\n",
    "                c_data['borrower_retention'] = m.borrower_retention(c_data)\n",
    "                c_data['borrower_survival'] = m.borrower_survival(c_data)\n",
    "                \n",
    "                \n",
    "                # forecast loan size\n",
    "                for i in c_data[c_data.loan_size.isnull()].index:\n",
    "                    c_data.loc[i, 'loan_size'] = c_data.loc[i-1, 'loan_size'] * \\\n",
    "                    pltv_expected.loc[i,'loan_size']/pltv_expected.loc[i-1, 'loan_size']\n",
    "                \n",
    "                \n",
    "                # forecast loans_per_borrower\n",
    "                for i in c_data[c_data.loans_per_borrower.isnull()].index:\n",
    "                    c_data.loc[i, 'loans_per_borrower'] = c_data.loc[i-1, 'loans_per_borrower'] * \\\n",
    "                    pltv_expected.loc[i,'loans_per_borrower']/pltv_expected.loc[i-1, 'loans_per_borrower']\n",
    "                \n",
    "                \n",
    "                # forecast Count Loans\n",
    "                c_data['Count Loans'] = c_data['Count Loans'].fillna((c_data['loans_per_borrower'])*c_data['Count Borrowers'])\n",
    "                \n",
    "                \n",
    "                # forecast Total Amount\n",
    "                c_data['Total Amount'] = c_data['Total Amount'].fillna((c_data['loan_size']/ksh_usd)*c_data['Count Loans'])\n",
    "                \n",
    "                \n",
    "                # forecast Interest Rate\n",
    "                for i in c_data[c_data.interest_rate.isnull()].index:\n",
    "                    c_data.loc[i, 'interest_rate'] = c_data.loc[i-1, 'interest_rate'] * \\\n",
    "                    pltv_expected.loc[i,'interest_rate']/pltv_expected.loc[i-1, 'interest_rate']\n",
    "                \n",
    "                \n",
    "                # forecast default rate 7dpd\n",
    "                default = c_data.default_rate_7dpd.dropna()\n",
    "                default.index = np.arange(1, len(default)+1)\n",
    "                \n",
    "                def func(t, A, B):\n",
    "                    return A*(t**B)\n",
    "\n",
    "                params, covs = curve_fit(func, default.index, default)\n",
    "                    \n",
    "                t = list(range(1, months+2))\n",
    "                fit = func(t, params[0], params[1])\n",
    "                fit = pd.Series(fit, index=t).reset_index(drop=True)\n",
    "                \n",
    "                c_data['default_rate_7dpd'] = c_data['default_rate_7dpd'].fillna(fit)\n",
    "                \n",
    "                \n",
    "                # derive 51dpd and 365 dpd from 7dpd\n",
    "                c_data['default_rate_51dpd'] = m.default_rate(c_data, period=51)\n",
    "                c_data['default_rate_365dpd'] = m.default_rate(c_data, period=365)\n",
    "                \n",
    "                # compute remaining columns from forecasts\n",
    "                c_data['loans_per_original'] = m.loans_per_original(c_data)\n",
    "                c_data['origination_per_original'] = m.origination_per_original(c_data, to_usd)\n",
    "                c_data['revenue_per_original'] = m.revenue_per_original(c_data, to_usd)\n",
    "                c_data['cm$_per_original'] = m.credit_margin(c_data)\n",
    "                c_data['opex_per_original'] = m.opex_per_original(c_data)\n",
    "                c_data['ltv_per_original'] = m.ltv_per_original(c_data)\n",
    "                c_data['cm%_per_original'] = m.credit_margin_percent(c_data)\n",
    "                \n",
    "                \n",
    "                \n",
    "                # add the forecasted data for the cohort to a list, aggregating all cohort forecasts\n",
    "                forecast_dfs.append(c_data)\n",
    "\n",
    "        return pd.concat(forecast_dfs)\n",
    "    \n",
    "    \n",
    "    def backtest(self, data, months=4, metric='mape'):\n",
    "        \"\"\"\n",
    "        Backtest forecasted values against actuals.\n",
    "        \n",
    "        Parameters\n",
    "        ----------\n",
    "        \n",
    "        \n",
    "        \"\"\"\n",
    "        \n",
    "        # print the number of cohorts that will be backtested.\n",
    "        cohort_count = 0\n",
    "        for cohort in data.cohort.unique():\n",
    "            if len(data[data.cohort==cohort]) - months >= min_months:\n",
    "                cohort_count += 1\n",
    "        \n",
    "        self.backtest_months = months\n",
    "        print(f'Backtesting {months} months.')\n",
    "        print(f'{cohort_count} cohorts will be backtested.')\n",
    "        \n",
    "        def compute_error(actual, forecast, metric='mape'):\n",
    "            \"\"\"\n",
    "            Test forecast performance against actuals using method defined by metric.\n",
    "            \"\"\"\n",
    "            \n",
    "            # root mean squared error\n",
    "            if metric=='rmse':\n",
    "                error = np.sqrt((1/len(actual))*sum((forecast[:len(actual)] - actual)**2))\n",
    "            # mean absolute error\n",
    "            elif metric=='mae':\n",
    "                error = np.mean(abs(forecast[:len(actual)] - actual))\n",
    "            # mean error\n",
    "            elif metric=='me':\n",
    "                error = np.mean(forecast[:len(actual)] - actual)\n",
    "            # mean absolute percent error\n",
    "            elif metric=='mape':\n",
    "                error = (1/len(actual))*sum(abs(forecast[:len(actual)] - actual)/actual)\n",
    "            # mean percent error\n",
    "            elif metric=='mpe':\n",
    "                error = (1/len(actual))*sum((forecast[:len(actual)] - actual)/actual)\n",
    "            return error\n",
    "        \n",
    "        \n",
    "        # --- Generate limited data --- #\n",
    "        \n",
    "        metrics = ['rmse', 'me', 'mape', 'mpe']\n",
    "        \n",
    "        limited_data = []\n",
    "        backtest_report = []\n",
    "        for cohort in data.cohort.unique():\n",
    "            # data for current cohort\n",
    "            c_data = data[data.cohort==cohort]\n",
    "\n",
    "            # only backtest if remaining data has at least 4 data points\n",
    "            if len(c_data) - months >= min_months:\n",
    "                # limit data\n",
    "                c_data = c_data.iloc[:len(c_data)-months,:]\n",
    "                \n",
    "                # forecast the limited data\n",
    "                c_data = m.forecast_features(c_data)\n",
    "                \n",
    "                # get forecast overlap with actuals\n",
    "                actual = self.data[self.data['First Loan Local Disbursement Month']==cohort]\n",
    "\n",
    "                start = c_data[c_data.data_type=='forecast'].index.min()\n",
    "                stop = actual.index.max()\n",
    "\n",
    "                # compute errors\n",
    "                backtest_report_cols = []\n",
    "                errors = []\n",
    "                for col in self.forecast_cols:\n",
    "                    # error\n",
    "                    c_data.loc[start:stop, f'error-{col}'] = c_data.loc[start:stop, col] - actual.loc[start:stop, col]\n",
    "                    # % error\n",
    "                    c_data.loc[start:stop, f'%error-{col}'] = (c_data.loc[start:stop, col] - actual.loc[start:stop, col])/ \\\n",
    "                        actual.loc[start:stop, col]\n",
    "                    \n",
    "                    for metric in metrics:\n",
    "                        error = compute_error(actual.loc[start:stop, col], c_data.loc[start:stop, col],\n",
    "                                             metric=metric)\n",
    "                    \n",
    "                        backtest_report_cols += [f'{col}-{metric}']\n",
    "                    \n",
    "                        errors.append(error)\n",
    "                        \n",
    "                backtest_report.append(pd.DataFrame.from_dict({cohort: errors}, orient='index', \n",
    "                                                                 columns=backtest_report_cols))\n",
    "                limited_data.append(c_data)\n",
    "                \n",
    "        backtest_data = pd.concat(limited_data)\n",
    "        backtest_report = pd.concat(backtest_report, axis=0)\n",
    "        backtest_report['cohort'] = backtest_report.index\n",
    "        \n",
    "        self.backtest_data = backtest_data\n",
    "        self.backtest_report = backtest_report\n",
    "                \n",
    "        return backtest_data, backtest_report\n",
    "    "
   ]
  },
  {
   "cell_type": "markdown",
   "id": "567e35e2",
   "metadata": {},
   "source": [
    "### Run Model"
   ]
  },
  {
   "cell_type": "code",
   "execution_count": 91,
   "id": "23fd5669",
   "metadata": {
    "scrolled": true
   },
   "outputs": [
    {
     "name": "stdout",
     "output_type": "stream",
     "text": [
      "Backtesting 6 months.\n",
      "8 cohorts will be backtested.\n"
     ]
    }
   ],
   "source": [
    "# create a model object\n",
    "m = Model(data, market='ke')\n",
    "\n",
    "# generate features\n",
    "m.generate_features()\n",
    "\n",
    "# generate forecasts and save as model attribute\n",
    "m.forecast = m.forecast_features(m.data)\n",
    "\n",
    "# backtest \n",
    "m.backtest, m.backtest_report = m.backtest(m.data, months=6)"
   ]
  },
  {
   "cell_type": "code",
   "execution_count": 89,
   "id": "07c1efde",
   "metadata": {},
   "outputs": [
    {
     "data": {
      "application/vnd.plotly.v1+json": {
       "config": {
        "plotlyServerURL": "https://plot.ly"
       },
       "data": [
        {
         "line": {
          "width": 2
         },
         "mode": "markers+lines",
         "name": "2020-09-actual",
         "type": "scatter",
         "x": [
          0,
          1,
          2,
          3,
          4,
          5,
          6,
          7,
          8,
          9,
          10,
          11,
          12,
          13,
          14,
          15,
          16
         ],
         "y": [
          1,
          0.5744135367260608,
          0.46929880784514805,
          0.39097551595949237,
          0.32675298038712985,
          0.278169465453147,
          0.25022433021407514,
          0.21445968465581336,
          0.20433277784899373,
          0.18318164337905396,
          0.17459300089732085,
          0.1593385463402128,
          0.1508780925522369,
          0.1412639405204461,
          0.13511088322009998,
          0.11447250352518908,
          0.11742084348160492
         ]
        },
        {
         "line": {
          "dash": "dash",
          "width": 3
         },
         "mode": "lines",
         "name": "2020-09-forecast",
         "type": "scatter",
         "x": [
          17,
          18,
          19,
          20,
          21,
          22,
          23,
          24
         ],
         "y": [
          0.12130823632606373,
          0.11671499677943277,
          0.11251941892755002,
          0.10866957132804624,
          0.10512238004006877,
          0.10184179496780749,
          0.0987973970214959,
          0.09596332659378619
         ]
        },
        {
         "line": {
          "width": 2
         },
         "mode": "markers+lines",
         "name": "2020-10-actual",
         "type": "scatter",
         "x": [
          0,
          1,
          2,
          3,
          4,
          5,
          6,
          7,
          8,
          9,
          10,
          11,
          12,
          13,
          14,
          15
         ],
         "y": [
          1,
          0.5387040992777947,
          0.44441053809378495,
          0.36344217271895024,
          0.3003763604923202,
          0.27128471162648765,
          0.24178618655274134,
          0.22184925236496797,
          0.1970298036822297,
          0.18034787915776626,
          0.16488658325704406,
          0.15491811616315737,
          0.14820465873258062,
          0.13864306784660768,
          0.11972332417861865,
          0.11117892381243007
         ]
        },
        {
         "line": {
          "dash": "dash",
          "width": 3
         },
         "mode": "lines",
         "name": "2020-10-forecast",
         "type": "scatter",
         "x": [
          16,
          17,
          18,
          19,
          20,
          21,
          22,
          23,
          24
         ],
         "y": [
          0.12049605322642379,
          0.11587222993790913,
          0.1116658440105995,
          0.10781976098189512,
          0.10428706887793669,
          0.10102885928724653,
          0.09801256720445514,
          0.09521071116457736,
          0.09259992476558628
         ]
        },
        {
         "line": {
          "width": 2
         },
         "mode": "markers+lines",
         "name": "2020-11-actual",
         "type": "scatter",
         "x": [
          0,
          1,
          2,
          3,
          4,
          5,
          6,
          7,
          8,
          9,
          10,
          11,
          12,
          13,
          14
         ],
         "y": [
          1,
          0.5481326266485886,
          0.4335017872550228,
          0.34894613583138173,
          0.3055589794157525,
          0.26488352027610007,
          0.23875261925305066,
          0.20695180574386787,
          0.1915444348576359,
          0.1767533588068532,
          0.16405768519659805,
          0.1597436213484531,
          0.14544558116602982,
          0.1246148157278442,
          0.11364476765684703
         ]
        },
        {
         "line": {
          "dash": "dash",
          "width": 3
         },
         "mode": "lines",
         "name": "2020-11-forecast",
         "type": "scatter",
         "x": [
          15,
          16,
          17,
          18,
          19,
          20,
          21,
          22,
          23,
          24
         ],
         "y": [
          0.12047798121077578,
          0.11535045520214732,
          0.11071974392494598,
          0.10651361630951203,
          0.10267348876249964,
          0.09915130983690607,
          0.09590726723454072,
          0.09290807331985684,
          0.09012566487822565,
          0.08753620427209675
         ]
        },
        {
         "line": {
          "width": 2
         },
         "mode": "markers+lines",
         "name": "2020-12-actual",
         "type": "scatter",
         "x": [
          0,
          1,
          2,
          3,
          4,
          5,
          6,
          7,
          8,
          9,
          10,
          11,
          12
         ],
         "y": [
          1,
          0.5231032515687393,
          0.40730176839703364,
          0.3416999429549344,
          0.28088990302338845,
          0.2466628636622932,
          0.2104962920707359,
          0.1918996006845408,
          0.17638334284084425,
          0.16063890473474043,
          0.1472903593839133,
          0.13850541928123217,
          0.11728465487735311
         ]
        },
        {
         "line": {
          "dash": "dash",
          "width": 3
         },
         "mode": "lines",
         "name": "2020-12-forecast",
         "type": "scatter",
         "x": [
          13,
          14,
          15,
          16,
          17,
          18,
          19,
          20,
          21,
          22,
          23,
          24
         ],
         "y": [
          0.12235541661343258,
          0.11639596952759267,
          0.11109180845493981,
          0.1063355985408566,
          0.10204270593671519,
          0.0981454306627794,
          0.09458892486493037,
          0.09132824582385758,
          0.08832619019636326,
          0.08555167690626335,
          0.08297852228656379,
          0.08058450021570455
         ]
        },
        {
         "line": {
          "width": 2
         },
         "mode": "markers+lines",
         "name": "2021-01-actual",
         "type": "scatter",
         "x": [
          0,
          1,
          2,
          3,
          4,
          5,
          6,
          7,
          8,
          9,
          10,
          11,
          12
         ],
         "y": [
          1,
          0.5205439533754249,
          0.43088878096163186,
          0.3393880524526469,
          0.29567751335599807,
          0.24788732394366197,
          0.2293346284604177,
          0.2028169014084507,
          0.18406993686255463,
          0.1724137931034483,
          0.15211267605633802,
          0.13491986401165615,
          0.12413793103448276
         ]
        },
        {
         "line": {
          "dash": "dash",
          "width": 3
         },
         "mode": "lines",
         "name": "2021-01-forecast",
         "type": "scatter",
         "x": [
          13,
          14,
          15,
          16,
          17,
          18,
          19,
          20,
          21,
          22,
          23,
          24
         ],
         "y": [
          0.13043317006678004,
          0.12439443175053105,
          0.11900796169921643,
          0.11416794356211044,
          0.10979080675218414,
          0.10580959762291332,
          0.10216999104064621,
          0.09882740746584982,
          0.09574489187104204,
          0.09289152820941517,
          0.09024123714382055,
          0.08777185250829649
         ]
        },
        {
         "line": {
          "width": 2
         },
         "mode": "markers+lines",
         "name": "2021-02-actual",
         "type": "scatter",
         "x": [
          0,
          1,
          2,
          3,
          4,
          5,
          6,
          7,
          8,
          9,
          10,
          11
         ],
         "y": [
          1,
          0.5362769263744508,
          0.39952845354195693,
          0.33222591362126247,
          0.27746222269853177,
          0.24338227413996355,
          0.21798306719537028,
          0.19515593184010288,
          0.17929482370592648,
          0.15807523309398777,
          0.13653413353338334,
          0.12796056156896368
         ]
        },
        {
         "line": {
          "dash": "dash",
          "width": 3
         },
         "mode": "lines",
         "name": "2021-02-forecast",
         "type": "scatter",
         "x": [
          12,
          13,
          14,
          15,
          16,
          17,
          18,
          19,
          20,
          21,
          22,
          23,
          24
         ],
         "y": [
          0.1282756090404193,
          0.1214102594140058,
          0.11535743754500521,
          0.10997505557046958,
          0.10515293583919477,
          0.10080423851496155,
          0.09685952916586366,
          0.09326258010294189,
          0.08996733921037883,
          0.086935702608432,
          0.084135851844797,
          0.08154099467354985,
          0.07912839904064005
         ]
        },
        {
         "line": {
          "width": 2
         },
         "mode": "markers+lines",
         "name": "2021-03-actual",
         "type": "scatter",
         "x": [
          0,
          1,
          2,
          3,
          4,
          5,
          6,
          7,
          8,
          9,
          10
         ],
         "y": [
          1,
          0.4934963325183374,
          0.40449877750611246,
          0.3250855745721271,
          0.27667481662591686,
          0.23481662591687041,
          0.20860635696821517,
          0.1877750611246944,
          0.16723716381418094,
          0.13613691931540342,
          0.12508557457212713
         ]
        },
        {
         "line": {
          "dash": "dash",
          "width": 3
         },
         "mode": "lines",
         "name": "2021-03-forecast",
         "type": "scatter",
         "x": [
          11,
          12,
          13,
          14,
          15,
          16,
          17,
          18,
          19,
          20,
          21,
          22,
          23,
          24
         ],
         "y": [
          0.13154445464045167,
          0.1243228693833252,
          0.11800728412445523,
          0.11242899039192025,
          0.10745961361951445,
          0.10299959830271431,
          0.09897045349712638,
          0.09530939299551261,
          0.09196554533697501,
          0.08889721943341762,
          0.08606989619684957,
          0.08345472959653574,
          0.08102741167541186,
          0.07876730185553923
         ]
        },
        {
         "line": {
          "width": 2
         },
         "mode": "markers+lines",
         "name": "2021-04-actual",
         "type": "scatter",
         "x": [
          0,
          1,
          2,
          3,
          4,
          5,
          6,
          7,
          8,
          9
         ],
         "y": [
          1,
          0.5212172264925766,
          0.3992839844161314,
          0.3322101716331473,
          0.2770348531115089,
          0.24218174160261136,
          0.2155417500263241,
          0.18974412972517637,
          0.1582605033168369,
          0.1453090449615668
         ]
        },
        {
         "line": {
          "dash": "dash",
          "width": 3
         },
         "mode": "lines",
         "name": "2021-04-forecast",
         "type": "scatter",
         "x": [
          10,
          11,
          12,
          13,
          14,
          15,
          16,
          17,
          18,
          19,
          20,
          21,
          22,
          23,
          24
         ],
         "y": [
          0.14447250362464836,
          0.13564364428641584,
          0.12801722907777788,
          0.1213525783418068,
          0.11547045861918541,
          0.1102344439470081,
          0.10553871765296788,
          0.1012998483734895,
          0.09745110068078121,
          0.09393840925975051,
          0.09071747281103831,
          0.08775161865717254,
          0.08501020849545046,
          0.08246743097275436,
          0.0801013752697995
         ]
        },
        {
         "line": {
          "width": 2
         },
         "mode": "markers+lines",
         "name": "2021-05-actual",
         "type": "scatter",
         "x": [
          0,
          1,
          2,
          3,
          4,
          5,
          6,
          7,
          8
         ],
         "y": [
          1,
          0.5055264688772542,
          0.40420787279426024,
          0.32179561760713593,
          0.26362226100445996,
          0.2295908473918945,
          0.2036067481093659,
          0.16637579988365328,
          0.14940857087453946
         ]
        },
        {
         "line": {
          "dash": "dash",
          "width": 3
         },
         "mode": "lines",
         "name": "2021-05-forecast",
         "type": "scatter",
         "x": [
          9,
          10,
          11,
          12,
          13,
          14,
          15,
          16,
          17,
          18,
          19,
          20,
          21,
          22,
          23,
          24
         ],
         "y": [
          0.14768175911724082,
          0.1376507340610566,
          0.12911505667801132,
          0.12174990324493241,
          0.1153198631631049,
          0.10964985317612466,
          0.10460676032062724,
          0.1000874454245096,
          0.09601066556716523,
          0.0923114925308992,
          0.08893736746176253,
          0.08584525563513858,
          0.08299955765235925,
          0.08037055126781108,
          0.07793321219353894,
          0.07566630999382062
         ]
        },
        {
         "line": {
          "width": 2
         },
         "mode": "markers+lines",
         "name": "2021-06-actual",
         "type": "scatter",
         "x": [
          0,
          1,
          2,
          3,
          4,
          5,
          6,
          7
         ],
         "y": [
          1,
          0.49947545111204367,
          0.3877465379773395,
          0.3041334452370961,
          0.263533361309274,
          0.22702475870751154,
          0.1860050356693244,
          0.16481326059588752
         ]
        },
        {
         "line": {
          "dash": "dash",
          "width": 3
         },
         "mode": "lines",
         "name": "2021-06-forecast",
         "type": "scatter",
         "x": [
          8,
          9,
          10,
          11,
          12,
          13,
          14,
          15,
          16,
          17,
          18,
          19,
          20,
          21,
          22,
          23,
          24
         ],
         "y": [
          0.1583443207996023,
          0.14671755294595293,
          0.1369794511902108,
          0.12868457084241558,
          0.12151995593764772,
          0.11525879143099574,
          0.10973236029606671,
          0.10481235731794099,
          0.10039933663161321,
          0.09641493562837064,
          0.09279650270054668,
          0.08949330015763177,
          0.08646376591599032,
          0.08367350307094401,
          0.08109378002229961,
          0.07870039522573907,
          0.0764728066214664
         ]
        },
        {
         "line": {
          "width": 2
         },
         "mode": "markers+lines",
         "name": "2021-07-actual",
         "type": "scatter",
         "x": [
          0,
          1,
          2,
          3,
          4,
          5,
          6
         ],
         "y": [
          1,
          0.48527171152869475,
          0.37887252412392075,
          0.3117064499746064,
          0.2535551041137633,
          0.20479939055358048,
          0.17750126968004062
         ]
        },
        {
         "line": {
          "dash": "dash",
          "width": 3
         },
         "mode": "lines",
         "name": "2021-07-forecast",
         "type": "scatter",
         "x": [
          7,
          8,
          9,
          10,
          11,
          12,
          13,
          14,
          15,
          16,
          17,
          18,
          19,
          20,
          21,
          22,
          23,
          24
         ],
         "y": [
          0.16875635103938896,
          0.1551113907190821,
          0.14391275948640367,
          0.13452766248977396,
          0.1265283649059143,
          0.11961450713905894,
          0.11356846786397608,
          0.10822839168615327,
          0.10347119491680552,
          0.09920147337792372,
          0.0953440403001925,
          0.09183877314004088,
          0.0886369724383188,
          0.08569873652818663,
          0.08299103435334718,
          0.0804862678156082,
          0.07816118365751511,
          0.07599603902805711
         ]
        },
        {
         "line": {
          "width": 2
         },
         "mode": "markers+lines",
         "name": "2021-08-actual",
         "type": "scatter",
         "x": [
          0,
          1,
          2,
          3,
          4
         ],
         "y": [
          1,
          0.4838345333898066,
          0.38994776224763517,
          0.30269659748694056,
          0.22970492729069603
         ]
        },
        {
         "line": {
          "dash": "dash",
          "width": 3
         },
         "mode": "lines",
         "name": "2021-08-forecast",
         "type": "scatter",
         "x": [
          5,
          6,
          7,
          8,
          9,
          10,
          11,
          12,
          13,
          14,
          15,
          16,
          17,
          18,
          19,
          20,
          21,
          22,
          23,
          24
         ],
         "y": [
          0.2073644765687877,
          0.18529128200844283,
          0.16825615592748422,
          0.15464278277482954,
          0.14347097360847028,
          0.13410898696709067,
          0.12612984889386325,
          0.11923376277443982,
          0.11320353291734443,
          0.1078776319200475,
          0.10313323314490909,
          0.09887513690557997,
          0.09502832129410936,
          0.09153279827193599,
          0.0883399792998038,
          0.0854100550698844,
          0.08271007210698232,
          0.08021249800275347,
          0.07789413552808898,
          0.0757352899405321
         ]
        },
        {
         "line": {
          "width": 2
         },
         "mode": "markers+lines",
         "name": "2021-09-actual",
         "type": "scatter",
         "x": [
          0,
          1,
          2,
          3
         ],
         "y": [
          1,
          0.4934245134139926,
          0.36993687532877434,
          0.2789321409784324
         ]
        },
        {
         "line": {
          "dash": "dash",
          "width": 3
         },
         "mode": "lines",
         "name": "2021-09-forecast",
         "type": "scatter",
         "x": [
          4,
          5,
          6,
          7,
          8,
          9,
          10,
          11,
          12,
          13,
          14,
          15,
          16,
          17,
          18,
          19,
          20,
          21,
          22,
          23,
          24
         ],
         "y": [
          0.23703739002792512,
          0.20674968897516238,
          0.1844834531935436,
          0.16731341361041016,
          0.15360330153912174,
          0.14236085709330715,
          0.13294667391766693,
          0.12492871301240666,
          0.11800371796212562,
          0.11195206299674251,
          0.10661047297043402,
          0.10185483841699829,
          0.09758900132988854,
          0.09373721280920685,
          0.09023892581448656,
          0.0870451168190406,
          0.08411563442855279,
          0.08141725359391656,
          0.07892222448864582,
          0.07660717450559233,
          0.07445226647732829
         ]
        },
        {
         "line": {
          "width": 2
         },
         "mode": "markers+lines",
         "name": "2021-10-actual",
         "type": "scatter",
         "x": [
          0,
          1,
          2,
          3
         ],
         "y": [
          1,
          0.4875818469180402,
          0.34793407089636486,
          0.28347256717091895
         ]
        },
        {
         "line": {
          "dash": "dash",
          "width": 3
         },
         "mode": "lines",
         "name": "2021-10-forecast",
         "type": "scatter",
         "x": [
          4,
          5,
          6,
          7,
          8,
          9,
          10,
          11,
          12,
          13,
          14,
          15,
          16,
          17,
          18,
          19,
          20,
          21,
          22,
          23,
          24
         ],
         "y": [
          0.24156949244643192,
          0.21293595833560688,
          0.19176600796145699,
          0.1753479925953343,
          0.16216594601235657,
          0.15129971398106754,
          0.14215533707478073,
          0.13433061796254844,
          0.12754256845853595,
          0.12158572325045335,
          0.11630693973041803,
          0.11158950841326622,
          0.10734277166153228,
          0.10349513199095672,
          0.0999892178097637,
          0.09677846318488492,
          0.09382463850951406,
          0.09109603531971296,
          0.0885661103115181,
          0.08621245760650205,
          0.08401601952564723
         ]
        }
       ],
       "layout": {
        "template": {
         "data": {
          "bar": [
           {
            "error_x": {
             "color": "#2a3f5f"
            },
            "error_y": {
             "color": "#2a3f5f"
            },
            "marker": {
             "line": {
              "color": "white",
              "width": 0.5
             },
             "pattern": {
              "fillmode": "overlay",
              "size": 10,
              "solidity": 0.2
             }
            },
            "type": "bar"
           }
          ],
          "barpolar": [
           {
            "marker": {
             "line": {
              "color": "white",
              "width": 0.5
             },
             "pattern": {
              "fillmode": "overlay",
              "size": 10,
              "solidity": 0.2
             }
            },
            "type": "barpolar"
           }
          ],
          "carpet": [
           {
            "aaxis": {
             "endlinecolor": "#2a3f5f",
             "gridcolor": "#C8D4E3",
             "linecolor": "#C8D4E3",
             "minorgridcolor": "#C8D4E3",
             "startlinecolor": "#2a3f5f"
            },
            "baxis": {
             "endlinecolor": "#2a3f5f",
             "gridcolor": "#C8D4E3",
             "linecolor": "#C8D4E3",
             "minorgridcolor": "#C8D4E3",
             "startlinecolor": "#2a3f5f"
            },
            "type": "carpet"
           }
          ],
          "choropleth": [
           {
            "colorbar": {
             "outlinewidth": 0,
             "ticks": ""
            },
            "type": "choropleth"
           }
          ],
          "contour": [
           {
            "colorbar": {
             "outlinewidth": 0,
             "ticks": ""
            },
            "colorscale": [
             [
              0,
              "#0d0887"
             ],
             [
              0.1111111111111111,
              "#46039f"
             ],
             [
              0.2222222222222222,
              "#7201a8"
             ],
             [
              0.3333333333333333,
              "#9c179e"
             ],
             [
              0.4444444444444444,
              "#bd3786"
             ],
             [
              0.5555555555555556,
              "#d8576b"
             ],
             [
              0.6666666666666666,
              "#ed7953"
             ],
             [
              0.7777777777777778,
              "#fb9f3a"
             ],
             [
              0.8888888888888888,
              "#fdca26"
             ],
             [
              1,
              "#f0f921"
             ]
            ],
            "type": "contour"
           }
          ],
          "contourcarpet": [
           {
            "colorbar": {
             "outlinewidth": 0,
             "ticks": ""
            },
            "type": "contourcarpet"
           }
          ],
          "heatmap": [
           {
            "colorbar": {
             "outlinewidth": 0,
             "ticks": ""
            },
            "colorscale": [
             [
              0,
              "#0d0887"
             ],
             [
              0.1111111111111111,
              "#46039f"
             ],
             [
              0.2222222222222222,
              "#7201a8"
             ],
             [
              0.3333333333333333,
              "#9c179e"
             ],
             [
              0.4444444444444444,
              "#bd3786"
             ],
             [
              0.5555555555555556,
              "#d8576b"
             ],
             [
              0.6666666666666666,
              "#ed7953"
             ],
             [
              0.7777777777777778,
              "#fb9f3a"
             ],
             [
              0.8888888888888888,
              "#fdca26"
             ],
             [
              1,
              "#f0f921"
             ]
            ],
            "type": "heatmap"
           }
          ],
          "heatmapgl": [
           {
            "colorbar": {
             "outlinewidth": 0,
             "ticks": ""
            },
            "colorscale": [
             [
              0,
              "#0d0887"
             ],
             [
              0.1111111111111111,
              "#46039f"
             ],
             [
              0.2222222222222222,
              "#7201a8"
             ],
             [
              0.3333333333333333,
              "#9c179e"
             ],
             [
              0.4444444444444444,
              "#bd3786"
             ],
             [
              0.5555555555555556,
              "#d8576b"
             ],
             [
              0.6666666666666666,
              "#ed7953"
             ],
             [
              0.7777777777777778,
              "#fb9f3a"
             ],
             [
              0.8888888888888888,
              "#fdca26"
             ],
             [
              1,
              "#f0f921"
             ]
            ],
            "type": "heatmapgl"
           }
          ],
          "histogram": [
           {
            "marker": {
             "pattern": {
              "fillmode": "overlay",
              "size": 10,
              "solidity": 0.2
             }
            },
            "type": "histogram"
           }
          ],
          "histogram2d": [
           {
            "colorbar": {
             "outlinewidth": 0,
             "ticks": ""
            },
            "colorscale": [
             [
              0,
              "#0d0887"
             ],
             [
              0.1111111111111111,
              "#46039f"
             ],
             [
              0.2222222222222222,
              "#7201a8"
             ],
             [
              0.3333333333333333,
              "#9c179e"
             ],
             [
              0.4444444444444444,
              "#bd3786"
             ],
             [
              0.5555555555555556,
              "#d8576b"
             ],
             [
              0.6666666666666666,
              "#ed7953"
             ],
             [
              0.7777777777777778,
              "#fb9f3a"
             ],
             [
              0.8888888888888888,
              "#fdca26"
             ],
             [
              1,
              "#f0f921"
             ]
            ],
            "type": "histogram2d"
           }
          ],
          "histogram2dcontour": [
           {
            "colorbar": {
             "outlinewidth": 0,
             "ticks": ""
            },
            "colorscale": [
             [
              0,
              "#0d0887"
             ],
             [
              0.1111111111111111,
              "#46039f"
             ],
             [
              0.2222222222222222,
              "#7201a8"
             ],
             [
              0.3333333333333333,
              "#9c179e"
             ],
             [
              0.4444444444444444,
              "#bd3786"
             ],
             [
              0.5555555555555556,
              "#d8576b"
             ],
             [
              0.6666666666666666,
              "#ed7953"
             ],
             [
              0.7777777777777778,
              "#fb9f3a"
             ],
             [
              0.8888888888888888,
              "#fdca26"
             ],
             [
              1,
              "#f0f921"
             ]
            ],
            "type": "histogram2dcontour"
           }
          ],
          "mesh3d": [
           {
            "colorbar": {
             "outlinewidth": 0,
             "ticks": ""
            },
            "type": "mesh3d"
           }
          ],
          "parcoords": [
           {
            "line": {
             "colorbar": {
              "outlinewidth": 0,
              "ticks": ""
             }
            },
            "type": "parcoords"
           }
          ],
          "pie": [
           {
            "automargin": true,
            "type": "pie"
           }
          ],
          "scatter": [
           {
            "marker": {
             "colorbar": {
              "outlinewidth": 0,
              "ticks": ""
             }
            },
            "type": "scatter"
           }
          ],
          "scatter3d": [
           {
            "line": {
             "colorbar": {
              "outlinewidth": 0,
              "ticks": ""
             }
            },
            "marker": {
             "colorbar": {
              "outlinewidth": 0,
              "ticks": ""
             }
            },
            "type": "scatter3d"
           }
          ],
          "scattercarpet": [
           {
            "marker": {
             "colorbar": {
              "outlinewidth": 0,
              "ticks": ""
             }
            },
            "type": "scattercarpet"
           }
          ],
          "scattergeo": [
           {
            "marker": {
             "colorbar": {
              "outlinewidth": 0,
              "ticks": ""
             }
            },
            "type": "scattergeo"
           }
          ],
          "scattergl": [
           {
            "marker": {
             "colorbar": {
              "outlinewidth": 0,
              "ticks": ""
             }
            },
            "type": "scattergl"
           }
          ],
          "scattermapbox": [
           {
            "marker": {
             "colorbar": {
              "outlinewidth": 0,
              "ticks": ""
             }
            },
            "type": "scattermapbox"
           }
          ],
          "scatterpolar": [
           {
            "marker": {
             "colorbar": {
              "outlinewidth": 0,
              "ticks": ""
             }
            },
            "type": "scatterpolar"
           }
          ],
          "scatterpolargl": [
           {
            "marker": {
             "colorbar": {
              "outlinewidth": 0,
              "ticks": ""
             }
            },
            "type": "scatterpolargl"
           }
          ],
          "scatterternary": [
           {
            "marker": {
             "colorbar": {
              "outlinewidth": 0,
              "ticks": ""
             }
            },
            "type": "scatterternary"
           }
          ],
          "surface": [
           {
            "colorbar": {
             "outlinewidth": 0,
             "ticks": ""
            },
            "colorscale": [
             [
              0,
              "#0d0887"
             ],
             [
              0.1111111111111111,
              "#46039f"
             ],
             [
              0.2222222222222222,
              "#7201a8"
             ],
             [
              0.3333333333333333,
              "#9c179e"
             ],
             [
              0.4444444444444444,
              "#bd3786"
             ],
             [
              0.5555555555555556,
              "#d8576b"
             ],
             [
              0.6666666666666666,
              "#ed7953"
             ],
             [
              0.7777777777777778,
              "#fb9f3a"
             ],
             [
              0.8888888888888888,
              "#fdca26"
             ],
             [
              1,
              "#f0f921"
             ]
            ],
            "type": "surface"
           }
          ],
          "table": [
           {
            "cells": {
             "fill": {
              "color": "#EBF0F8"
             },
             "line": {
              "color": "white"
             }
            },
            "header": {
             "fill": {
              "color": "#C8D4E3"
             },
             "line": {
              "color": "white"
             }
            },
            "type": "table"
           }
          ]
         },
         "layout": {
          "annotationdefaults": {
           "arrowcolor": "#2a3f5f",
           "arrowhead": 0,
           "arrowwidth": 1
          },
          "autotypenumbers": "strict",
          "coloraxis": {
           "colorbar": {
            "outlinewidth": 0,
            "ticks": ""
           }
          },
          "colorscale": {
           "diverging": [
            [
             0,
             "#8e0152"
            ],
            [
             0.1,
             "#c51b7d"
            ],
            [
             0.2,
             "#de77ae"
            ],
            [
             0.3,
             "#f1b6da"
            ],
            [
             0.4,
             "#fde0ef"
            ],
            [
             0.5,
             "#f7f7f7"
            ],
            [
             0.6,
             "#e6f5d0"
            ],
            [
             0.7,
             "#b8e186"
            ],
            [
             0.8,
             "#7fbc41"
            ],
            [
             0.9,
             "#4d9221"
            ],
            [
             1,
             "#276419"
            ]
           ],
           "sequential": [
            [
             0,
             "#0d0887"
            ],
            [
             0.1111111111111111,
             "#46039f"
            ],
            [
             0.2222222222222222,
             "#7201a8"
            ],
            [
             0.3333333333333333,
             "#9c179e"
            ],
            [
             0.4444444444444444,
             "#bd3786"
            ],
            [
             0.5555555555555556,
             "#d8576b"
            ],
            [
             0.6666666666666666,
             "#ed7953"
            ],
            [
             0.7777777777777778,
             "#fb9f3a"
            ],
            [
             0.8888888888888888,
             "#fdca26"
            ],
            [
             1,
             "#f0f921"
            ]
           ],
           "sequentialminus": [
            [
             0,
             "#0d0887"
            ],
            [
             0.1111111111111111,
             "#46039f"
            ],
            [
             0.2222222222222222,
             "#7201a8"
            ],
            [
             0.3333333333333333,
             "#9c179e"
            ],
            [
             0.4444444444444444,
             "#bd3786"
            ],
            [
             0.5555555555555556,
             "#d8576b"
            ],
            [
             0.6666666666666666,
             "#ed7953"
            ],
            [
             0.7777777777777778,
             "#fb9f3a"
            ],
            [
             0.8888888888888888,
             "#fdca26"
            ],
            [
             1,
             "#f0f921"
            ]
           ]
          },
          "colorway": [
           "#636efa",
           "#EF553B",
           "#00cc96",
           "#ab63fa",
           "#FFA15A",
           "#19d3f3",
           "#FF6692",
           "#B6E880",
           "#FF97FF",
           "#FECB52"
          ],
          "font": {
           "color": "#2a3f5f"
          },
          "geo": {
           "bgcolor": "white",
           "lakecolor": "white",
           "landcolor": "white",
           "showlakes": true,
           "showland": true,
           "subunitcolor": "#C8D4E3"
          },
          "hoverlabel": {
           "align": "left"
          },
          "hovermode": "closest",
          "mapbox": {
           "style": "light"
          },
          "paper_bgcolor": "white",
          "plot_bgcolor": "white",
          "polar": {
           "angularaxis": {
            "gridcolor": "#EBF0F8",
            "linecolor": "#EBF0F8",
            "ticks": ""
           },
           "bgcolor": "white",
           "radialaxis": {
            "gridcolor": "#EBF0F8",
            "linecolor": "#EBF0F8",
            "ticks": ""
           }
          },
          "scene": {
           "xaxis": {
            "backgroundcolor": "white",
            "gridcolor": "#DFE8F3",
            "gridwidth": 2,
            "linecolor": "#EBF0F8",
            "showbackground": true,
            "ticks": "",
            "zerolinecolor": "#EBF0F8"
           },
           "yaxis": {
            "backgroundcolor": "white",
            "gridcolor": "#DFE8F3",
            "gridwidth": 2,
            "linecolor": "#EBF0F8",
            "showbackground": true,
            "ticks": "",
            "zerolinecolor": "#EBF0F8"
           },
           "zaxis": {
            "backgroundcolor": "white",
            "gridcolor": "#DFE8F3",
            "gridwidth": 2,
            "linecolor": "#EBF0F8",
            "showbackground": true,
            "ticks": "",
            "zerolinecolor": "#EBF0F8"
           }
          },
          "shapedefaults": {
           "line": {
            "color": "#2a3f5f"
           }
          },
          "ternary": {
           "aaxis": {
            "gridcolor": "#DFE8F3",
            "linecolor": "#A2B1C6",
            "ticks": ""
           },
           "baxis": {
            "gridcolor": "#DFE8F3",
            "linecolor": "#A2B1C6",
            "ticks": ""
           },
           "bgcolor": "white",
           "caxis": {
            "gridcolor": "#DFE8F3",
            "linecolor": "#A2B1C6",
            "ticks": ""
           }
          },
          "title": {
           "x": 0.05
          },
          "xaxis": {
           "automargin": true,
           "gridcolor": "#EBF0F8",
           "linecolor": "#EBF0F8",
           "ticks": "",
           "title": {
            "standoff": 15
           },
           "zerolinecolor": "#EBF0F8",
           "zerolinewidth": 2
          },
          "yaxis": {
           "automargin": true,
           "gridcolor": "#EBF0F8",
           "linecolor": "#EBF0F8",
           "ticks": "",
           "title": {
            "standoff": 15
           },
           "zerolinecolor": "#EBF0F8",
           "zerolinewidth": 2
          }
         }
        },
        "title": {
         "text": "borrower_retention - FORECAST"
        },
        "xaxis": {
         "title": {
          "text": "Month Since Disbursement"
         }
        },
        "yaxis": {
         "title": {
          "text": "borrower_retention"
         }
        }
       }
      },
      "text/html": [
       "<div>                            <div id=\"3f5bb749-8f01-45d2-a8e0-e2fd95f1a1c4\" class=\"plotly-graph-div\" style=\"height:525px; width:100%;\"></div>            <script type=\"text/javascript\">                require([\"plotly\"], function(Plotly) {                    window.PLOTLYENV=window.PLOTLYENV || {};                                    if (document.getElementById(\"3f5bb749-8f01-45d2-a8e0-e2fd95f1a1c4\")) {                    Plotly.newPlot(                        \"3f5bb749-8f01-45d2-a8e0-e2fd95f1a1c4\",                        [{\"line\":{\"width\":2},\"mode\":\"markers+lines\",\"name\":\"2020-09-actual\",\"type\":\"scatter\",\"x\":[0,1,2,3,4,5,6,7,8,9,10,11,12,13,14,15,16],\"y\":[1.0,0.5744135367260608,0.46929880784514805,0.39097551595949237,0.32675298038712985,0.278169465453147,0.25022433021407514,0.21445968465581336,0.20433277784899373,0.18318164337905396,0.17459300089732085,0.1593385463402128,0.1508780925522369,0.1412639405204461,0.13511088322009998,0.11447250352518908,0.11742084348160492]},{\"line\":{\"dash\":\"dash\",\"width\":3},\"mode\":\"lines\",\"name\":\"2020-09-forecast\",\"type\":\"scatter\",\"x\":[17,18,19,20,21,22,23,24],\"y\":[0.12130823632606373,0.11671499677943277,0.11251941892755002,0.10866957132804624,0.10512238004006877,0.10184179496780749,0.0987973970214959,0.09596332659378619]},{\"line\":{\"width\":2},\"mode\":\"markers+lines\",\"name\":\"2020-10-actual\",\"type\":\"scatter\",\"x\":[0,1,2,3,4,5,6,7,8,9,10,11,12,13,14,15],\"y\":[1.0,0.5387040992777947,0.44441053809378495,0.36344217271895024,0.3003763604923202,0.27128471162648765,0.24178618655274134,0.22184925236496797,0.1970298036822297,0.18034787915776626,0.16488658325704406,0.15491811616315737,0.14820465873258062,0.13864306784660768,0.11972332417861865,0.11117892381243007]},{\"line\":{\"dash\":\"dash\",\"width\":3},\"mode\":\"lines\",\"name\":\"2020-10-forecast\",\"type\":\"scatter\",\"x\":[16,17,18,19,20,21,22,23,24],\"y\":[0.12049605322642379,0.11587222993790913,0.1116658440105995,0.10781976098189512,0.10428706887793669,0.10102885928724653,0.09801256720445514,0.09521071116457736,0.09259992476558628]},{\"line\":{\"width\":2},\"mode\":\"markers+lines\",\"name\":\"2020-11-actual\",\"type\":\"scatter\",\"x\":[0,1,2,3,4,5,6,7,8,9,10,11,12,13,14],\"y\":[1.0,0.5481326266485886,0.4335017872550228,0.34894613583138173,0.3055589794157525,0.26488352027610007,0.23875261925305066,0.20695180574386787,0.1915444348576359,0.1767533588068532,0.16405768519659805,0.1597436213484531,0.14544558116602982,0.1246148157278442,0.11364476765684703]},{\"line\":{\"dash\":\"dash\",\"width\":3},\"mode\":\"lines\",\"name\":\"2020-11-forecast\",\"type\":\"scatter\",\"x\":[15,16,17,18,19,20,21,22,23,24],\"y\":[0.12047798121077578,0.11535045520214732,0.11071974392494598,0.10651361630951203,0.10267348876249964,0.09915130983690607,0.09590726723454072,0.09290807331985684,0.09012566487822565,0.08753620427209675]},{\"line\":{\"width\":2},\"mode\":\"markers+lines\",\"name\":\"2020-12-actual\",\"type\":\"scatter\",\"x\":[0,1,2,3,4,5,6,7,8,9,10,11,12],\"y\":[1.0,0.5231032515687393,0.40730176839703364,0.3416999429549344,0.28088990302338845,0.2466628636622932,0.2104962920707359,0.1918996006845408,0.17638334284084425,0.16063890473474043,0.1472903593839133,0.13850541928123217,0.11728465487735311]},{\"line\":{\"dash\":\"dash\",\"width\":3},\"mode\":\"lines\",\"name\":\"2020-12-forecast\",\"type\":\"scatter\",\"x\":[13,14,15,16,17,18,19,20,21,22,23,24],\"y\":[0.12235541661343258,0.11639596952759267,0.11109180845493981,0.1063355985408566,0.10204270593671519,0.0981454306627794,0.09458892486493037,0.09132824582385758,0.08832619019636326,0.08555167690626335,0.08297852228656379,0.08058450021570455]},{\"line\":{\"width\":2},\"mode\":\"markers+lines\",\"name\":\"2021-01-actual\",\"type\":\"scatter\",\"x\":[0,1,2,3,4,5,6,7,8,9,10,11,12],\"y\":[1.0,0.5205439533754249,0.43088878096163186,0.3393880524526469,0.29567751335599807,0.24788732394366197,0.2293346284604177,0.2028169014084507,0.18406993686255463,0.1724137931034483,0.15211267605633802,0.13491986401165615,0.12413793103448276]},{\"line\":{\"dash\":\"dash\",\"width\":3},\"mode\":\"lines\",\"name\":\"2021-01-forecast\",\"type\":\"scatter\",\"x\":[13,14,15,16,17,18,19,20,21,22,23,24],\"y\":[0.13043317006678004,0.12439443175053105,0.11900796169921643,0.11416794356211044,0.10979080675218414,0.10580959762291332,0.10216999104064621,0.09882740746584982,0.09574489187104204,0.09289152820941517,0.09024123714382055,0.08777185250829649]},{\"line\":{\"width\":2},\"mode\":\"markers+lines\",\"name\":\"2021-02-actual\",\"type\":\"scatter\",\"x\":[0,1,2,3,4,5,6,7,8,9,10,11],\"y\":[1.0,0.5362769263744508,0.39952845354195693,0.33222591362126247,0.27746222269853177,0.24338227413996355,0.21798306719537028,0.19515593184010288,0.17929482370592648,0.15807523309398777,0.13653413353338334,0.12796056156896368]},{\"line\":{\"dash\":\"dash\",\"width\":3},\"mode\":\"lines\",\"name\":\"2021-02-forecast\",\"type\":\"scatter\",\"x\":[12,13,14,15,16,17,18,19,20,21,22,23,24],\"y\":[0.1282756090404193,0.1214102594140058,0.11535743754500521,0.10997505557046958,0.10515293583919477,0.10080423851496155,0.09685952916586366,0.09326258010294189,0.08996733921037883,0.086935702608432,0.084135851844797,0.08154099467354985,0.07912839904064005]},{\"line\":{\"width\":2},\"mode\":\"markers+lines\",\"name\":\"2021-03-actual\",\"type\":\"scatter\",\"x\":[0,1,2,3,4,5,6,7,8,9,10],\"y\":[1.0,0.4934963325183374,0.40449877750611246,0.3250855745721271,0.27667481662591686,0.23481662591687041,0.20860635696821517,0.1877750611246944,0.16723716381418094,0.13613691931540342,0.12508557457212713]},{\"line\":{\"dash\":\"dash\",\"width\":3},\"mode\":\"lines\",\"name\":\"2021-03-forecast\",\"type\":\"scatter\",\"x\":[11,12,13,14,15,16,17,18,19,20,21,22,23,24],\"y\":[0.13154445464045167,0.1243228693833252,0.11800728412445523,0.11242899039192025,0.10745961361951445,0.10299959830271431,0.09897045349712638,0.09530939299551261,0.09196554533697501,0.08889721943341762,0.08606989619684957,0.08345472959653574,0.08102741167541186,0.07876730185553923]},{\"line\":{\"width\":2},\"mode\":\"markers+lines\",\"name\":\"2021-04-actual\",\"type\":\"scatter\",\"x\":[0,1,2,3,4,5,6,7,8,9],\"y\":[1.0,0.5212172264925766,0.3992839844161314,0.3322101716331473,0.2770348531115089,0.24218174160261136,0.2155417500263241,0.18974412972517637,0.1582605033168369,0.1453090449615668]},{\"line\":{\"dash\":\"dash\",\"width\":3},\"mode\":\"lines\",\"name\":\"2021-04-forecast\",\"type\":\"scatter\",\"x\":[10,11,12,13,14,15,16,17,18,19,20,21,22,23,24],\"y\":[0.14447250362464836,0.13564364428641584,0.12801722907777788,0.1213525783418068,0.11547045861918541,0.1102344439470081,0.10553871765296788,0.1012998483734895,0.09745110068078121,0.09393840925975051,0.09071747281103831,0.08775161865717254,0.08501020849545046,0.08246743097275436,0.0801013752697995]},{\"line\":{\"width\":2},\"mode\":\"markers+lines\",\"name\":\"2021-05-actual\",\"type\":\"scatter\",\"x\":[0,1,2,3,4,5,6,7,8],\"y\":[1.0,0.5055264688772542,0.40420787279426024,0.32179561760713593,0.26362226100445996,0.2295908473918945,0.2036067481093659,0.16637579988365328,0.14940857087453946]},{\"line\":{\"dash\":\"dash\",\"width\":3},\"mode\":\"lines\",\"name\":\"2021-05-forecast\",\"type\":\"scatter\",\"x\":[9,10,11,12,13,14,15,16,17,18,19,20,21,22,23,24],\"y\":[0.14768175911724082,0.1376507340610566,0.12911505667801132,0.12174990324493241,0.1153198631631049,0.10964985317612466,0.10460676032062724,0.1000874454245096,0.09601066556716523,0.0923114925308992,0.08893736746176253,0.08584525563513858,0.08299955765235925,0.08037055126781108,0.07793321219353894,0.07566630999382062]},{\"line\":{\"width\":2},\"mode\":\"markers+lines\",\"name\":\"2021-06-actual\",\"type\":\"scatter\",\"x\":[0,1,2,3,4,5,6,7],\"y\":[1.0,0.49947545111204367,0.3877465379773395,0.3041334452370961,0.263533361309274,0.22702475870751154,0.1860050356693244,0.16481326059588752]},{\"line\":{\"dash\":\"dash\",\"width\":3},\"mode\":\"lines\",\"name\":\"2021-06-forecast\",\"type\":\"scatter\",\"x\":[8,9,10,11,12,13,14,15,16,17,18,19,20,21,22,23,24],\"y\":[0.1583443207996023,0.14671755294595293,0.1369794511902108,0.12868457084241558,0.12151995593764772,0.11525879143099574,0.10973236029606671,0.10481235731794099,0.10039933663161321,0.09641493562837064,0.09279650270054668,0.08949330015763177,0.08646376591599032,0.08367350307094401,0.08109378002229961,0.07870039522573907,0.0764728066214664]},{\"line\":{\"width\":2},\"mode\":\"markers+lines\",\"name\":\"2021-07-actual\",\"type\":\"scatter\",\"x\":[0,1,2,3,4,5,6],\"y\":[1.0,0.48527171152869475,0.37887252412392075,0.3117064499746064,0.2535551041137633,0.20479939055358048,0.17750126968004062]},{\"line\":{\"dash\":\"dash\",\"width\":3},\"mode\":\"lines\",\"name\":\"2021-07-forecast\",\"type\":\"scatter\",\"x\":[7,8,9,10,11,12,13,14,15,16,17,18,19,20,21,22,23,24],\"y\":[0.16875635103938896,0.1551113907190821,0.14391275948640367,0.13452766248977396,0.1265283649059143,0.11961450713905894,0.11356846786397608,0.10822839168615327,0.10347119491680552,0.09920147337792372,0.0953440403001925,0.09183877314004088,0.0886369724383188,0.08569873652818663,0.08299103435334718,0.0804862678156082,0.07816118365751511,0.07599603902805711]},{\"line\":{\"width\":2},\"mode\":\"markers+lines\",\"name\":\"2021-08-actual\",\"type\":\"scatter\",\"x\":[0,1,2,3,4],\"y\":[1.0,0.4838345333898066,0.38994776224763517,0.30269659748694056,0.22970492729069603]},{\"line\":{\"dash\":\"dash\",\"width\":3},\"mode\":\"lines\",\"name\":\"2021-08-forecast\",\"type\":\"scatter\",\"x\":[5,6,7,8,9,10,11,12,13,14,15,16,17,18,19,20,21,22,23,24],\"y\":[0.2073644765687877,0.18529128200844283,0.16825615592748422,0.15464278277482954,0.14347097360847028,0.13410898696709067,0.12612984889386325,0.11923376277443982,0.11320353291734443,0.1078776319200475,0.10313323314490909,0.09887513690557997,0.09502832129410936,0.09153279827193599,0.0883399792998038,0.0854100550698844,0.08271007210698232,0.08021249800275347,0.07789413552808898,0.0757352899405321]},{\"line\":{\"width\":2},\"mode\":\"markers+lines\",\"name\":\"2021-09-actual\",\"type\":\"scatter\",\"x\":[0,1,2,3],\"y\":[1.0,0.4934245134139926,0.36993687532877434,0.2789321409784324]},{\"line\":{\"dash\":\"dash\",\"width\":3},\"mode\":\"lines\",\"name\":\"2021-09-forecast\",\"type\":\"scatter\",\"x\":[4,5,6,7,8,9,10,11,12,13,14,15,16,17,18,19,20,21,22,23,24],\"y\":[0.23703739002792512,0.20674968897516238,0.1844834531935436,0.16731341361041016,0.15360330153912174,0.14236085709330715,0.13294667391766693,0.12492871301240666,0.11800371796212562,0.11195206299674251,0.10661047297043402,0.10185483841699829,0.09758900132988854,0.09373721280920685,0.09023892581448656,0.0870451168190406,0.08411563442855279,0.08141725359391656,0.07892222448864582,0.07660717450559233,0.07445226647732829]},{\"line\":{\"width\":2},\"mode\":\"markers+lines\",\"name\":\"2021-10-actual\",\"type\":\"scatter\",\"x\":[0,1,2,3],\"y\":[1.0,0.4875818469180402,0.34793407089636486,0.28347256717091895]},{\"line\":{\"dash\":\"dash\",\"width\":3},\"mode\":\"lines\",\"name\":\"2021-10-forecast\",\"type\":\"scatter\",\"x\":[4,5,6,7,8,9,10,11,12,13,14,15,16,17,18,19,20,21,22,23,24],\"y\":[0.24156949244643192,0.21293595833560688,0.19176600796145699,0.1753479925953343,0.16216594601235657,0.15129971398106754,0.14215533707478073,0.13433061796254844,0.12754256845853595,0.12158572325045335,0.11630693973041803,0.11158950841326622,0.10734277166153228,0.10349513199095672,0.0999892178097637,0.09677846318488492,0.09382463850951406,0.09109603531971296,0.0885661103115181,0.08621245760650205,0.08401601952564723]}],                        {\"template\":{\"data\":{\"bar\":[{\"error_x\":{\"color\":\"#2a3f5f\"},\"error_y\":{\"color\":\"#2a3f5f\"},\"marker\":{\"line\":{\"color\":\"white\",\"width\":0.5},\"pattern\":{\"fillmode\":\"overlay\",\"size\":10,\"solidity\":0.2}},\"type\":\"bar\"}],\"barpolar\":[{\"marker\":{\"line\":{\"color\":\"white\",\"width\":0.5},\"pattern\":{\"fillmode\":\"overlay\",\"size\":10,\"solidity\":0.2}},\"type\":\"barpolar\"}],\"carpet\":[{\"aaxis\":{\"endlinecolor\":\"#2a3f5f\",\"gridcolor\":\"#C8D4E3\",\"linecolor\":\"#C8D4E3\",\"minorgridcolor\":\"#C8D4E3\",\"startlinecolor\":\"#2a3f5f\"},\"baxis\":{\"endlinecolor\":\"#2a3f5f\",\"gridcolor\":\"#C8D4E3\",\"linecolor\":\"#C8D4E3\",\"minorgridcolor\":\"#C8D4E3\",\"startlinecolor\":\"#2a3f5f\"},\"type\":\"carpet\"}],\"choropleth\":[{\"colorbar\":{\"outlinewidth\":0,\"ticks\":\"\"},\"type\":\"choropleth\"}],\"contour\":[{\"colorbar\":{\"outlinewidth\":0,\"ticks\":\"\"},\"colorscale\":[[0.0,\"#0d0887\"],[0.1111111111111111,\"#46039f\"],[0.2222222222222222,\"#7201a8\"],[0.3333333333333333,\"#9c179e\"],[0.4444444444444444,\"#bd3786\"],[0.5555555555555556,\"#d8576b\"],[0.6666666666666666,\"#ed7953\"],[0.7777777777777778,\"#fb9f3a\"],[0.8888888888888888,\"#fdca26\"],[1.0,\"#f0f921\"]],\"type\":\"contour\"}],\"contourcarpet\":[{\"colorbar\":{\"outlinewidth\":0,\"ticks\":\"\"},\"type\":\"contourcarpet\"}],\"heatmap\":[{\"colorbar\":{\"outlinewidth\":0,\"ticks\":\"\"},\"colorscale\":[[0.0,\"#0d0887\"],[0.1111111111111111,\"#46039f\"],[0.2222222222222222,\"#7201a8\"],[0.3333333333333333,\"#9c179e\"],[0.4444444444444444,\"#bd3786\"],[0.5555555555555556,\"#d8576b\"],[0.6666666666666666,\"#ed7953\"],[0.7777777777777778,\"#fb9f3a\"],[0.8888888888888888,\"#fdca26\"],[1.0,\"#f0f921\"]],\"type\":\"heatmap\"}],\"heatmapgl\":[{\"colorbar\":{\"outlinewidth\":0,\"ticks\":\"\"},\"colorscale\":[[0.0,\"#0d0887\"],[0.1111111111111111,\"#46039f\"],[0.2222222222222222,\"#7201a8\"],[0.3333333333333333,\"#9c179e\"],[0.4444444444444444,\"#bd3786\"],[0.5555555555555556,\"#d8576b\"],[0.6666666666666666,\"#ed7953\"],[0.7777777777777778,\"#fb9f3a\"],[0.8888888888888888,\"#fdca26\"],[1.0,\"#f0f921\"]],\"type\":\"heatmapgl\"}],\"histogram\":[{\"marker\":{\"pattern\":{\"fillmode\":\"overlay\",\"size\":10,\"solidity\":0.2}},\"type\":\"histogram\"}],\"histogram2d\":[{\"colorbar\":{\"outlinewidth\":0,\"ticks\":\"\"},\"colorscale\":[[0.0,\"#0d0887\"],[0.1111111111111111,\"#46039f\"],[0.2222222222222222,\"#7201a8\"],[0.3333333333333333,\"#9c179e\"],[0.4444444444444444,\"#bd3786\"],[0.5555555555555556,\"#d8576b\"],[0.6666666666666666,\"#ed7953\"],[0.7777777777777778,\"#fb9f3a\"],[0.8888888888888888,\"#fdca26\"],[1.0,\"#f0f921\"]],\"type\":\"histogram2d\"}],\"histogram2dcontour\":[{\"colorbar\":{\"outlinewidth\":0,\"ticks\":\"\"},\"colorscale\":[[0.0,\"#0d0887\"],[0.1111111111111111,\"#46039f\"],[0.2222222222222222,\"#7201a8\"],[0.3333333333333333,\"#9c179e\"],[0.4444444444444444,\"#bd3786\"],[0.5555555555555556,\"#d8576b\"],[0.6666666666666666,\"#ed7953\"],[0.7777777777777778,\"#fb9f3a\"],[0.8888888888888888,\"#fdca26\"],[1.0,\"#f0f921\"]],\"type\":\"histogram2dcontour\"}],\"mesh3d\":[{\"colorbar\":{\"outlinewidth\":0,\"ticks\":\"\"},\"type\":\"mesh3d\"}],\"parcoords\":[{\"line\":{\"colorbar\":{\"outlinewidth\":0,\"ticks\":\"\"}},\"type\":\"parcoords\"}],\"pie\":[{\"automargin\":true,\"type\":\"pie\"}],\"scatter\":[{\"marker\":{\"colorbar\":{\"outlinewidth\":0,\"ticks\":\"\"}},\"type\":\"scatter\"}],\"scatter3d\":[{\"line\":{\"colorbar\":{\"outlinewidth\":0,\"ticks\":\"\"}},\"marker\":{\"colorbar\":{\"outlinewidth\":0,\"ticks\":\"\"}},\"type\":\"scatter3d\"}],\"scattercarpet\":[{\"marker\":{\"colorbar\":{\"outlinewidth\":0,\"ticks\":\"\"}},\"type\":\"scattercarpet\"}],\"scattergeo\":[{\"marker\":{\"colorbar\":{\"outlinewidth\":0,\"ticks\":\"\"}},\"type\":\"scattergeo\"}],\"scattergl\":[{\"marker\":{\"colorbar\":{\"outlinewidth\":0,\"ticks\":\"\"}},\"type\":\"scattergl\"}],\"scattermapbox\":[{\"marker\":{\"colorbar\":{\"outlinewidth\":0,\"ticks\":\"\"}},\"type\":\"scattermapbox\"}],\"scatterpolar\":[{\"marker\":{\"colorbar\":{\"outlinewidth\":0,\"ticks\":\"\"}},\"type\":\"scatterpolar\"}],\"scatterpolargl\":[{\"marker\":{\"colorbar\":{\"outlinewidth\":0,\"ticks\":\"\"}},\"type\":\"scatterpolargl\"}],\"scatterternary\":[{\"marker\":{\"colorbar\":{\"outlinewidth\":0,\"ticks\":\"\"}},\"type\":\"scatterternary\"}],\"surface\":[{\"colorbar\":{\"outlinewidth\":0,\"ticks\":\"\"},\"colorscale\":[[0.0,\"#0d0887\"],[0.1111111111111111,\"#46039f\"],[0.2222222222222222,\"#7201a8\"],[0.3333333333333333,\"#9c179e\"],[0.4444444444444444,\"#bd3786\"],[0.5555555555555556,\"#d8576b\"],[0.6666666666666666,\"#ed7953\"],[0.7777777777777778,\"#fb9f3a\"],[0.8888888888888888,\"#fdca26\"],[1.0,\"#f0f921\"]],\"type\":\"surface\"}],\"table\":[{\"cells\":{\"fill\":{\"color\":\"#EBF0F8\"},\"line\":{\"color\":\"white\"}},\"header\":{\"fill\":{\"color\":\"#C8D4E3\"},\"line\":{\"color\":\"white\"}},\"type\":\"table\"}]},\"layout\":{\"annotationdefaults\":{\"arrowcolor\":\"#2a3f5f\",\"arrowhead\":0,\"arrowwidth\":1},\"autotypenumbers\":\"strict\",\"coloraxis\":{\"colorbar\":{\"outlinewidth\":0,\"ticks\":\"\"}},\"colorscale\":{\"diverging\":[[0,\"#8e0152\"],[0.1,\"#c51b7d\"],[0.2,\"#de77ae\"],[0.3,\"#f1b6da\"],[0.4,\"#fde0ef\"],[0.5,\"#f7f7f7\"],[0.6,\"#e6f5d0\"],[0.7,\"#b8e186\"],[0.8,\"#7fbc41\"],[0.9,\"#4d9221\"],[1,\"#276419\"]],\"sequential\":[[0.0,\"#0d0887\"],[0.1111111111111111,\"#46039f\"],[0.2222222222222222,\"#7201a8\"],[0.3333333333333333,\"#9c179e\"],[0.4444444444444444,\"#bd3786\"],[0.5555555555555556,\"#d8576b\"],[0.6666666666666666,\"#ed7953\"],[0.7777777777777778,\"#fb9f3a\"],[0.8888888888888888,\"#fdca26\"],[1.0,\"#f0f921\"]],\"sequentialminus\":[[0.0,\"#0d0887\"],[0.1111111111111111,\"#46039f\"],[0.2222222222222222,\"#7201a8\"],[0.3333333333333333,\"#9c179e\"],[0.4444444444444444,\"#bd3786\"],[0.5555555555555556,\"#d8576b\"],[0.6666666666666666,\"#ed7953\"],[0.7777777777777778,\"#fb9f3a\"],[0.8888888888888888,\"#fdca26\"],[1.0,\"#f0f921\"]]},\"colorway\":[\"#636efa\",\"#EF553B\",\"#00cc96\",\"#ab63fa\",\"#FFA15A\",\"#19d3f3\",\"#FF6692\",\"#B6E880\",\"#FF97FF\",\"#FECB52\"],\"font\":{\"color\":\"#2a3f5f\"},\"geo\":{\"bgcolor\":\"white\",\"lakecolor\":\"white\",\"landcolor\":\"white\",\"showlakes\":true,\"showland\":true,\"subunitcolor\":\"#C8D4E3\"},\"hoverlabel\":{\"align\":\"left\"},\"hovermode\":\"closest\",\"mapbox\":{\"style\":\"light\"},\"paper_bgcolor\":\"white\",\"plot_bgcolor\":\"white\",\"polar\":{\"angularaxis\":{\"gridcolor\":\"#EBF0F8\",\"linecolor\":\"#EBF0F8\",\"ticks\":\"\"},\"bgcolor\":\"white\",\"radialaxis\":{\"gridcolor\":\"#EBF0F8\",\"linecolor\":\"#EBF0F8\",\"ticks\":\"\"}},\"scene\":{\"xaxis\":{\"backgroundcolor\":\"white\",\"gridcolor\":\"#DFE8F3\",\"gridwidth\":2,\"linecolor\":\"#EBF0F8\",\"showbackground\":true,\"ticks\":\"\",\"zerolinecolor\":\"#EBF0F8\"},\"yaxis\":{\"backgroundcolor\":\"white\",\"gridcolor\":\"#DFE8F3\",\"gridwidth\":2,\"linecolor\":\"#EBF0F8\",\"showbackground\":true,\"ticks\":\"\",\"zerolinecolor\":\"#EBF0F8\"},\"zaxis\":{\"backgroundcolor\":\"white\",\"gridcolor\":\"#DFE8F3\",\"gridwidth\":2,\"linecolor\":\"#EBF0F8\",\"showbackground\":true,\"ticks\":\"\",\"zerolinecolor\":\"#EBF0F8\"}},\"shapedefaults\":{\"line\":{\"color\":\"#2a3f5f\"}},\"ternary\":{\"aaxis\":{\"gridcolor\":\"#DFE8F3\",\"linecolor\":\"#A2B1C6\",\"ticks\":\"\"},\"baxis\":{\"gridcolor\":\"#DFE8F3\",\"linecolor\":\"#A2B1C6\",\"ticks\":\"\"},\"bgcolor\":\"white\",\"caxis\":{\"gridcolor\":\"#DFE8F3\",\"linecolor\":\"#A2B1C6\",\"ticks\":\"\"}},\"title\":{\"x\":0.05},\"xaxis\":{\"automargin\":true,\"gridcolor\":\"#EBF0F8\",\"linecolor\":\"#EBF0F8\",\"ticks\":\"\",\"title\":{\"standoff\":15},\"zerolinecolor\":\"#EBF0F8\",\"zerolinewidth\":2},\"yaxis\":{\"automargin\":true,\"gridcolor\":\"#EBF0F8\",\"linecolor\":\"#EBF0F8\",\"ticks\":\"\",\"title\":{\"standoff\":15},\"zerolinecolor\":\"#EBF0F8\",\"zerolinewidth\":2}}},\"title\":{\"text\":\"borrower_retention - FORECAST\"},\"xaxis\":{\"title\":{\"text\":\"Month Since Disbursement\"}},\"yaxis\":{\"title\":{\"text\":\"borrower_retention\"}}},                        {\"responsive\": true}                    ).then(function(){\n",
       "                            \n",
       "var gd = document.getElementById('3f5bb749-8f01-45d2-a8e0-e2fd95f1a1c4');\n",
       "var x = new MutationObserver(function (mutations, observer) {{\n",
       "        var display = window.getComputedStyle(gd).display;\n",
       "        if (!display || display === 'none') {{\n",
       "            console.log([gd, 'removed!']);\n",
       "            Plotly.purge(gd);\n",
       "            observer.disconnect();\n",
       "        }}\n",
       "}});\n",
       "\n",
       "// Listen for the removal of the full notebook cells\n",
       "var notebookContainer = gd.closest('#notebook-container');\n",
       "if (notebookContainer) {{\n",
       "    x.observe(notebookContainer, {childList: true});\n",
       "}}\n",
       "\n",
       "// Listen for the clearing of the current output cell\n",
       "var outputEl = gd.closest('.output');\n",
       "if (outputEl) {{\n",
       "    x.observe(outputEl, {childList: true});\n",
       "}}\n",
       "\n",
       "                        })                };                });            </script>        </div>"
      ]
     },
     "metadata": {},
     "output_type": "display_data"
    }
   ],
   "source": [
    "# visualize cohorts for a given feature\n",
    "m.plot_cohorts('borrower_retention', data='forecast')"
   ]
  },
  {
   "cell_type": "code",
   "execution_count": 42,
   "id": "28d5e05b",
   "metadata": {},
   "outputs": [
    {
     "data": {
      "text/html": [
       "<div>\n",
       "<style scoped>\n",
       "    .dataframe tbody tr th:only-of-type {\n",
       "        vertical-align: middle;\n",
       "    }\n",
       "\n",
       "    .dataframe tbody tr th {\n",
       "        vertical-align: top;\n",
       "    }\n",
       "\n",
       "    .dataframe thead th {\n",
       "        text-align: right;\n",
       "    }\n",
       "</style>\n",
       "<table border=\"1\" class=\"dataframe\">\n",
       "  <thead>\n",
       "    <tr style=\"text-align: right;\">\n",
       "      <th></th>\n",
       "      <th>opex cost per loan</th>\n",
       "      <th>cost of capital</th>\n",
       "      <th>recovery_7-30</th>\n",
       "      <th>recovery_30-51</th>\n",
       "      <th>recovery_51_</th>\n",
       "      <th>max_monthly_borrower_retention</th>\n",
       "    </tr>\n",
       "    <tr>\n",
       "      <th>market</th>\n",
       "      <th></th>\n",
       "      <th></th>\n",
       "      <th></th>\n",
       "      <th></th>\n",
       "      <th></th>\n",
       "      <th></th>\n",
       "    </tr>\n",
       "  </thead>\n",
       "  <tbody>\n",
       "    <tr>\n",
       "      <th>ke</th>\n",
       "      <td>1.32</td>\n",
       "      <td>0.13</td>\n",
       "      <td>0.200</td>\n",
       "      <td>0.060</td>\n",
       "      <td>0.12</td>\n",
       "      <td>0.95</td>\n",
       "    </tr>\n",
       "    <tr>\n",
       "      <th>ph</th>\n",
       "      <td>1.08</td>\n",
       "      <td>0.13</td>\n",
       "      <td>0.060</td>\n",
       "      <td>0.030</td>\n",
       "      <td>0.04</td>\n",
       "      <td>0.97</td>\n",
       "    </tr>\n",
       "    <tr>\n",
       "      <th>mx</th>\n",
       "      <td>1.37</td>\n",
       "      <td>0.13</td>\n",
       "      <td>0.077</td>\n",
       "      <td>0.016</td>\n",
       "      <td>0.02</td>\n",
       "      <td>0.97</td>\n",
       "    </tr>\n",
       "  </tbody>\n",
       "</table>\n",
       "</div>"
      ],
      "text/plain": [
       "        opex cost per loan  cost of capital  recovery_7-30  recovery_30-51  \\\n",
       "market                                                                       \n",
       "ke                    1.32             0.13          0.200           0.060   \n",
       "ph                    1.08             0.13          0.060           0.030   \n",
       "mx                    1.37             0.13          0.077           0.016   \n",
       "\n",
       "        recovery_51_  max_monthly_borrower_retention  \n",
       "market                                                \n",
       "ke              0.12                            0.95  \n",
       "ph              0.04                            0.97  \n",
       "mx              0.02                            0.97  "
      ]
     },
     "execution_count": 42,
     "metadata": {},
     "output_type": "execute_result"
    }
   ],
   "source": [
    "inputs"
   ]
  },
  {
   "cell_type": "code",
   "execution_count": 48,
   "id": "b91dfdcc",
   "metadata": {},
   "outputs": [
    {
     "data": {
      "text/plain": [
       "1    1.000000\n",
       "2    0.483835\n",
       "3    0.389948\n",
       "4    0.302697\n",
       "5    0.229705\n",
       "Name: Count Borrowers, dtype: float64"
      ]
     },
     "execution_count": 48,
     "metadata": {},
     "output_type": "execute_result"
    }
   ],
   "source": [
    "c1 = m.data[m.data.cohort=='2021-08']['Count Borrowers']/ \\\n",
    "    m.data[m.data.cohort=='2021-08']['Count Borrowers'].max()\n",
    "\n",
    "c1.index = np.arange(1, len(c1)+1)\n",
    "\n",
    "c1"
   ]
  },
  {
   "cell_type": "code",
   "execution_count": 88,
   "id": "ab647bda",
   "metadata": {},
   "outputs": [
    {
     "name": "stderr",
     "output_type": "stream",
     "text": [
      "/var/folders/cz/jxcg8r0x5y70_y_2fxt5bwkh0000gn/T/ipykernel_65762/416538565.py:6: RuntimeWarning:\n",
      "\n",
      "divide by zero encountered in power\n",
      "\n"
     ]
    },
    {
     "data": {
      "application/vnd.plotly.v1+json": {
       "config": {
        "plotlyServerURL": "https://plot.ly"
       },
       "data": [
        {
         "mode": "markers+lines",
         "type": "scatter",
         "x": [
          1,
          2,
          3,
          4,
          5
         ],
         "y": [
          1,
          0.4838345333898066,
          0.38994776224763517,
          0.30269659748694056,
          0.22970492729069603
         ]
        },
        {
         "type": "scatter",
         "x": [
          1,
          2,
          3,
          4,
          5,
          6,
          7,
          8,
          9,
          10,
          11,
          12,
          13,
          14,
          15,
          16,
          17,
          18,
          19,
          20,
          21,
          22,
          23,
          24
         ],
         "y": [
          1,
          0.4838345333898066,
          0.38994776224763517,
          0.30269659748694056,
          0.22970492729069603,
          0.19481475427311332,
          0.16948391165976195,
          0.1502196485591961,
          0.13505327917138216,
          0.12278872682263936,
          0.11265641146980233,
          0.1041381912247288,
          0.09687213304714411,
          0.09059759394401884,
          0.08512199327279156,
          0.08029988563103463,
          0.07601932351177643,
          0.07219270565184854,
          0.06858307036925611,
          0.0651539168507933,
          0.061896221008253635,
          0.05880140995784095,
          0.0558613394599489,
          0.05306827248695145
         ]
        }
       ],
       "layout": {
        "template": {
         "data": {
          "bar": [
           {
            "error_x": {
             "color": "#2a3f5f"
            },
            "error_y": {
             "color": "#2a3f5f"
            },
            "marker": {
             "line": {
              "color": "white",
              "width": 0.5
             },
             "pattern": {
              "fillmode": "overlay",
              "size": 10,
              "solidity": 0.2
             }
            },
            "type": "bar"
           }
          ],
          "barpolar": [
           {
            "marker": {
             "line": {
              "color": "white",
              "width": 0.5
             },
             "pattern": {
              "fillmode": "overlay",
              "size": 10,
              "solidity": 0.2
             }
            },
            "type": "barpolar"
           }
          ],
          "carpet": [
           {
            "aaxis": {
             "endlinecolor": "#2a3f5f",
             "gridcolor": "#C8D4E3",
             "linecolor": "#C8D4E3",
             "minorgridcolor": "#C8D4E3",
             "startlinecolor": "#2a3f5f"
            },
            "baxis": {
             "endlinecolor": "#2a3f5f",
             "gridcolor": "#C8D4E3",
             "linecolor": "#C8D4E3",
             "minorgridcolor": "#C8D4E3",
             "startlinecolor": "#2a3f5f"
            },
            "type": "carpet"
           }
          ],
          "choropleth": [
           {
            "colorbar": {
             "outlinewidth": 0,
             "ticks": ""
            },
            "type": "choropleth"
           }
          ],
          "contour": [
           {
            "colorbar": {
             "outlinewidth": 0,
             "ticks": ""
            },
            "colorscale": [
             [
              0,
              "#0d0887"
             ],
             [
              0.1111111111111111,
              "#46039f"
             ],
             [
              0.2222222222222222,
              "#7201a8"
             ],
             [
              0.3333333333333333,
              "#9c179e"
             ],
             [
              0.4444444444444444,
              "#bd3786"
             ],
             [
              0.5555555555555556,
              "#d8576b"
             ],
             [
              0.6666666666666666,
              "#ed7953"
             ],
             [
              0.7777777777777778,
              "#fb9f3a"
             ],
             [
              0.8888888888888888,
              "#fdca26"
             ],
             [
              1,
              "#f0f921"
             ]
            ],
            "type": "contour"
           }
          ],
          "contourcarpet": [
           {
            "colorbar": {
             "outlinewidth": 0,
             "ticks": ""
            },
            "type": "contourcarpet"
           }
          ],
          "heatmap": [
           {
            "colorbar": {
             "outlinewidth": 0,
             "ticks": ""
            },
            "colorscale": [
             [
              0,
              "#0d0887"
             ],
             [
              0.1111111111111111,
              "#46039f"
             ],
             [
              0.2222222222222222,
              "#7201a8"
             ],
             [
              0.3333333333333333,
              "#9c179e"
             ],
             [
              0.4444444444444444,
              "#bd3786"
             ],
             [
              0.5555555555555556,
              "#d8576b"
             ],
             [
              0.6666666666666666,
              "#ed7953"
             ],
             [
              0.7777777777777778,
              "#fb9f3a"
             ],
             [
              0.8888888888888888,
              "#fdca26"
             ],
             [
              1,
              "#f0f921"
             ]
            ],
            "type": "heatmap"
           }
          ],
          "heatmapgl": [
           {
            "colorbar": {
             "outlinewidth": 0,
             "ticks": ""
            },
            "colorscale": [
             [
              0,
              "#0d0887"
             ],
             [
              0.1111111111111111,
              "#46039f"
             ],
             [
              0.2222222222222222,
              "#7201a8"
             ],
             [
              0.3333333333333333,
              "#9c179e"
             ],
             [
              0.4444444444444444,
              "#bd3786"
             ],
             [
              0.5555555555555556,
              "#d8576b"
             ],
             [
              0.6666666666666666,
              "#ed7953"
             ],
             [
              0.7777777777777778,
              "#fb9f3a"
             ],
             [
              0.8888888888888888,
              "#fdca26"
             ],
             [
              1,
              "#f0f921"
             ]
            ],
            "type": "heatmapgl"
           }
          ],
          "histogram": [
           {
            "marker": {
             "pattern": {
              "fillmode": "overlay",
              "size": 10,
              "solidity": 0.2
             }
            },
            "type": "histogram"
           }
          ],
          "histogram2d": [
           {
            "colorbar": {
             "outlinewidth": 0,
             "ticks": ""
            },
            "colorscale": [
             [
              0,
              "#0d0887"
             ],
             [
              0.1111111111111111,
              "#46039f"
             ],
             [
              0.2222222222222222,
              "#7201a8"
             ],
             [
              0.3333333333333333,
              "#9c179e"
             ],
             [
              0.4444444444444444,
              "#bd3786"
             ],
             [
              0.5555555555555556,
              "#d8576b"
             ],
             [
              0.6666666666666666,
              "#ed7953"
             ],
             [
              0.7777777777777778,
              "#fb9f3a"
             ],
             [
              0.8888888888888888,
              "#fdca26"
             ],
             [
              1,
              "#f0f921"
             ]
            ],
            "type": "histogram2d"
           }
          ],
          "histogram2dcontour": [
           {
            "colorbar": {
             "outlinewidth": 0,
             "ticks": ""
            },
            "colorscale": [
             [
              0,
              "#0d0887"
             ],
             [
              0.1111111111111111,
              "#46039f"
             ],
             [
              0.2222222222222222,
              "#7201a8"
             ],
             [
              0.3333333333333333,
              "#9c179e"
             ],
             [
              0.4444444444444444,
              "#bd3786"
             ],
             [
              0.5555555555555556,
              "#d8576b"
             ],
             [
              0.6666666666666666,
              "#ed7953"
             ],
             [
              0.7777777777777778,
              "#fb9f3a"
             ],
             [
              0.8888888888888888,
              "#fdca26"
             ],
             [
              1,
              "#f0f921"
             ]
            ],
            "type": "histogram2dcontour"
           }
          ],
          "mesh3d": [
           {
            "colorbar": {
             "outlinewidth": 0,
             "ticks": ""
            },
            "type": "mesh3d"
           }
          ],
          "parcoords": [
           {
            "line": {
             "colorbar": {
              "outlinewidth": 0,
              "ticks": ""
             }
            },
            "type": "parcoords"
           }
          ],
          "pie": [
           {
            "automargin": true,
            "type": "pie"
           }
          ],
          "scatter": [
           {
            "marker": {
             "colorbar": {
              "outlinewidth": 0,
              "ticks": ""
             }
            },
            "type": "scatter"
           }
          ],
          "scatter3d": [
           {
            "line": {
             "colorbar": {
              "outlinewidth": 0,
              "ticks": ""
             }
            },
            "marker": {
             "colorbar": {
              "outlinewidth": 0,
              "ticks": ""
             }
            },
            "type": "scatter3d"
           }
          ],
          "scattercarpet": [
           {
            "marker": {
             "colorbar": {
              "outlinewidth": 0,
              "ticks": ""
             }
            },
            "type": "scattercarpet"
           }
          ],
          "scattergeo": [
           {
            "marker": {
             "colorbar": {
              "outlinewidth": 0,
              "ticks": ""
             }
            },
            "type": "scattergeo"
           }
          ],
          "scattergl": [
           {
            "marker": {
             "colorbar": {
              "outlinewidth": 0,
              "ticks": ""
             }
            },
            "type": "scattergl"
           }
          ],
          "scattermapbox": [
           {
            "marker": {
             "colorbar": {
              "outlinewidth": 0,
              "ticks": ""
             }
            },
            "type": "scattermapbox"
           }
          ],
          "scatterpolar": [
           {
            "marker": {
             "colorbar": {
              "outlinewidth": 0,
              "ticks": ""
             }
            },
            "type": "scatterpolar"
           }
          ],
          "scatterpolargl": [
           {
            "marker": {
             "colorbar": {
              "outlinewidth": 0,
              "ticks": ""
             }
            },
            "type": "scatterpolargl"
           }
          ],
          "scatterternary": [
           {
            "marker": {
             "colorbar": {
              "outlinewidth": 0,
              "ticks": ""
             }
            },
            "type": "scatterternary"
           }
          ],
          "surface": [
           {
            "colorbar": {
             "outlinewidth": 0,
             "ticks": ""
            },
            "colorscale": [
             [
              0,
              "#0d0887"
             ],
             [
              0.1111111111111111,
              "#46039f"
             ],
             [
              0.2222222222222222,
              "#7201a8"
             ],
             [
              0.3333333333333333,
              "#9c179e"
             ],
             [
              0.4444444444444444,
              "#bd3786"
             ],
             [
              0.5555555555555556,
              "#d8576b"
             ],
             [
              0.6666666666666666,
              "#ed7953"
             ],
             [
              0.7777777777777778,
              "#fb9f3a"
             ],
             [
              0.8888888888888888,
              "#fdca26"
             ],
             [
              1,
              "#f0f921"
             ]
            ],
            "type": "surface"
           }
          ],
          "table": [
           {
            "cells": {
             "fill": {
              "color": "#EBF0F8"
             },
             "line": {
              "color": "white"
             }
            },
            "header": {
             "fill": {
              "color": "#C8D4E3"
             },
             "line": {
              "color": "white"
             }
            },
            "type": "table"
           }
          ]
         },
         "layout": {
          "annotationdefaults": {
           "arrowcolor": "#2a3f5f",
           "arrowhead": 0,
           "arrowwidth": 1
          },
          "autotypenumbers": "strict",
          "coloraxis": {
           "colorbar": {
            "outlinewidth": 0,
            "ticks": ""
           }
          },
          "colorscale": {
           "diverging": [
            [
             0,
             "#8e0152"
            ],
            [
             0.1,
             "#c51b7d"
            ],
            [
             0.2,
             "#de77ae"
            ],
            [
             0.3,
             "#f1b6da"
            ],
            [
             0.4,
             "#fde0ef"
            ],
            [
             0.5,
             "#f7f7f7"
            ],
            [
             0.6,
             "#e6f5d0"
            ],
            [
             0.7,
             "#b8e186"
            ],
            [
             0.8,
             "#7fbc41"
            ],
            [
             0.9,
             "#4d9221"
            ],
            [
             1,
             "#276419"
            ]
           ],
           "sequential": [
            [
             0,
             "#0d0887"
            ],
            [
             0.1111111111111111,
             "#46039f"
            ],
            [
             0.2222222222222222,
             "#7201a8"
            ],
            [
             0.3333333333333333,
             "#9c179e"
            ],
            [
             0.4444444444444444,
             "#bd3786"
            ],
            [
             0.5555555555555556,
             "#d8576b"
            ],
            [
             0.6666666666666666,
             "#ed7953"
            ],
            [
             0.7777777777777778,
             "#fb9f3a"
            ],
            [
             0.8888888888888888,
             "#fdca26"
            ],
            [
             1,
             "#f0f921"
            ]
           ],
           "sequentialminus": [
            [
             0,
             "#0d0887"
            ],
            [
             0.1111111111111111,
             "#46039f"
            ],
            [
             0.2222222222222222,
             "#7201a8"
            ],
            [
             0.3333333333333333,
             "#9c179e"
            ],
            [
             0.4444444444444444,
             "#bd3786"
            ],
            [
             0.5555555555555556,
             "#d8576b"
            ],
            [
             0.6666666666666666,
             "#ed7953"
            ],
            [
             0.7777777777777778,
             "#fb9f3a"
            ],
            [
             0.8888888888888888,
             "#fdca26"
            ],
            [
             1,
             "#f0f921"
            ]
           ]
          },
          "colorway": [
           "#636efa",
           "#EF553B",
           "#00cc96",
           "#ab63fa",
           "#FFA15A",
           "#19d3f3",
           "#FF6692",
           "#B6E880",
           "#FF97FF",
           "#FECB52"
          ],
          "font": {
           "color": "#2a3f5f"
          },
          "geo": {
           "bgcolor": "white",
           "lakecolor": "white",
           "landcolor": "white",
           "showlakes": true,
           "showland": true,
           "subunitcolor": "#C8D4E3"
          },
          "hoverlabel": {
           "align": "left"
          },
          "hovermode": "closest",
          "mapbox": {
           "style": "light"
          },
          "paper_bgcolor": "white",
          "plot_bgcolor": "white",
          "polar": {
           "angularaxis": {
            "gridcolor": "#EBF0F8",
            "linecolor": "#EBF0F8",
            "ticks": ""
           },
           "bgcolor": "white",
           "radialaxis": {
            "gridcolor": "#EBF0F8",
            "linecolor": "#EBF0F8",
            "ticks": ""
           }
          },
          "scene": {
           "xaxis": {
            "backgroundcolor": "white",
            "gridcolor": "#DFE8F3",
            "gridwidth": 2,
            "linecolor": "#EBF0F8",
            "showbackground": true,
            "ticks": "",
            "zerolinecolor": "#EBF0F8"
           },
           "yaxis": {
            "backgroundcolor": "white",
            "gridcolor": "#DFE8F3",
            "gridwidth": 2,
            "linecolor": "#EBF0F8",
            "showbackground": true,
            "ticks": "",
            "zerolinecolor": "#EBF0F8"
           },
           "zaxis": {
            "backgroundcolor": "white",
            "gridcolor": "#DFE8F3",
            "gridwidth": 2,
            "linecolor": "#EBF0F8",
            "showbackground": true,
            "ticks": "",
            "zerolinecolor": "#EBF0F8"
           }
          },
          "shapedefaults": {
           "line": {
            "color": "#2a3f5f"
           }
          },
          "ternary": {
           "aaxis": {
            "gridcolor": "#DFE8F3",
            "linecolor": "#A2B1C6",
            "ticks": ""
           },
           "baxis": {
            "gridcolor": "#DFE8F3",
            "linecolor": "#A2B1C6",
            "ticks": ""
           },
           "bgcolor": "white",
           "caxis": {
            "gridcolor": "#DFE8F3",
            "linecolor": "#A2B1C6",
            "ticks": ""
           }
          },
          "title": {
           "x": 0.05
          },
          "xaxis": {
           "automargin": true,
           "gridcolor": "#EBF0F8",
           "linecolor": "#EBF0F8",
           "ticks": "",
           "title": {
            "standoff": 15
           },
           "zerolinecolor": "#EBF0F8",
           "zerolinewidth": 2
          },
          "yaxis": {
           "automargin": true,
           "gridcolor": "#EBF0F8",
           "linecolor": "#EBF0F8",
           "ticks": "",
           "title": {
            "standoff": 15
           },
           "zerolinecolor": "#EBF0F8",
           "zerolinewidth": 2
          }
         }
        }
       }
      },
      "text/html": [
       "<div>                            <div id=\"1768ae44-fc24-4e06-9117-cf100f72b326\" class=\"plotly-graph-div\" style=\"height:525px; width:100%;\"></div>            <script type=\"text/javascript\">                require([\"plotly\"], function(Plotly) {                    window.PLOTLYENV=window.PLOTLYENV || {};                                    if (document.getElementById(\"1768ae44-fc24-4e06-9117-cf100f72b326\")) {                    Plotly.newPlot(                        \"1768ae44-fc24-4e06-9117-cf100f72b326\",                        [{\"mode\":\"markers+lines\",\"type\":\"scatter\",\"x\":[1,2,3,4,5],\"y\":[1.0,0.4838345333898066,0.38994776224763517,0.30269659748694056,0.22970492729069603]},{\"type\":\"scatter\",\"x\":[1,2,3,4,5,6,7,8,9,10,11,12,13,14,15,16,17,18,19,20,21,22,23,24],\"y\":[1.0,0.4838345333898066,0.38994776224763517,0.30269659748694056,0.22970492729069603,0.19481475427311332,0.16948391165976195,0.1502196485591961,0.13505327917138216,0.12278872682263936,0.11265641146980233,0.1041381912247288,0.09687213304714411,0.09059759394401884,0.08512199327279156,0.08029988563103463,0.07601932351177643,0.07219270565184854,0.06858307036925611,0.0651539168507933,0.061896221008253635,0.05880140995784095,0.0558613394599489,0.05306827248695145]}],                        {\"template\":{\"data\":{\"bar\":[{\"error_x\":{\"color\":\"#2a3f5f\"},\"error_y\":{\"color\":\"#2a3f5f\"},\"marker\":{\"line\":{\"color\":\"white\",\"width\":0.5},\"pattern\":{\"fillmode\":\"overlay\",\"size\":10,\"solidity\":0.2}},\"type\":\"bar\"}],\"barpolar\":[{\"marker\":{\"line\":{\"color\":\"white\",\"width\":0.5},\"pattern\":{\"fillmode\":\"overlay\",\"size\":10,\"solidity\":0.2}},\"type\":\"barpolar\"}],\"carpet\":[{\"aaxis\":{\"endlinecolor\":\"#2a3f5f\",\"gridcolor\":\"#C8D4E3\",\"linecolor\":\"#C8D4E3\",\"minorgridcolor\":\"#C8D4E3\",\"startlinecolor\":\"#2a3f5f\"},\"baxis\":{\"endlinecolor\":\"#2a3f5f\",\"gridcolor\":\"#C8D4E3\",\"linecolor\":\"#C8D4E3\",\"minorgridcolor\":\"#C8D4E3\",\"startlinecolor\":\"#2a3f5f\"},\"type\":\"carpet\"}],\"choropleth\":[{\"colorbar\":{\"outlinewidth\":0,\"ticks\":\"\"},\"type\":\"choropleth\"}],\"contour\":[{\"colorbar\":{\"outlinewidth\":0,\"ticks\":\"\"},\"colorscale\":[[0.0,\"#0d0887\"],[0.1111111111111111,\"#46039f\"],[0.2222222222222222,\"#7201a8\"],[0.3333333333333333,\"#9c179e\"],[0.4444444444444444,\"#bd3786\"],[0.5555555555555556,\"#d8576b\"],[0.6666666666666666,\"#ed7953\"],[0.7777777777777778,\"#fb9f3a\"],[0.8888888888888888,\"#fdca26\"],[1.0,\"#f0f921\"]],\"type\":\"contour\"}],\"contourcarpet\":[{\"colorbar\":{\"outlinewidth\":0,\"ticks\":\"\"},\"type\":\"contourcarpet\"}],\"heatmap\":[{\"colorbar\":{\"outlinewidth\":0,\"ticks\":\"\"},\"colorscale\":[[0.0,\"#0d0887\"],[0.1111111111111111,\"#46039f\"],[0.2222222222222222,\"#7201a8\"],[0.3333333333333333,\"#9c179e\"],[0.4444444444444444,\"#bd3786\"],[0.5555555555555556,\"#d8576b\"],[0.6666666666666666,\"#ed7953\"],[0.7777777777777778,\"#fb9f3a\"],[0.8888888888888888,\"#fdca26\"],[1.0,\"#f0f921\"]],\"type\":\"heatmap\"}],\"heatmapgl\":[{\"colorbar\":{\"outlinewidth\":0,\"ticks\":\"\"},\"colorscale\":[[0.0,\"#0d0887\"],[0.1111111111111111,\"#46039f\"],[0.2222222222222222,\"#7201a8\"],[0.3333333333333333,\"#9c179e\"],[0.4444444444444444,\"#bd3786\"],[0.5555555555555556,\"#d8576b\"],[0.6666666666666666,\"#ed7953\"],[0.7777777777777778,\"#fb9f3a\"],[0.8888888888888888,\"#fdca26\"],[1.0,\"#f0f921\"]],\"type\":\"heatmapgl\"}],\"histogram\":[{\"marker\":{\"pattern\":{\"fillmode\":\"overlay\",\"size\":10,\"solidity\":0.2}},\"type\":\"histogram\"}],\"histogram2d\":[{\"colorbar\":{\"outlinewidth\":0,\"ticks\":\"\"},\"colorscale\":[[0.0,\"#0d0887\"],[0.1111111111111111,\"#46039f\"],[0.2222222222222222,\"#7201a8\"],[0.3333333333333333,\"#9c179e\"],[0.4444444444444444,\"#bd3786\"],[0.5555555555555556,\"#d8576b\"],[0.6666666666666666,\"#ed7953\"],[0.7777777777777778,\"#fb9f3a\"],[0.8888888888888888,\"#fdca26\"],[1.0,\"#f0f921\"]],\"type\":\"histogram2d\"}],\"histogram2dcontour\":[{\"colorbar\":{\"outlinewidth\":0,\"ticks\":\"\"},\"colorscale\":[[0.0,\"#0d0887\"],[0.1111111111111111,\"#46039f\"],[0.2222222222222222,\"#7201a8\"],[0.3333333333333333,\"#9c179e\"],[0.4444444444444444,\"#bd3786\"],[0.5555555555555556,\"#d8576b\"],[0.6666666666666666,\"#ed7953\"],[0.7777777777777778,\"#fb9f3a\"],[0.8888888888888888,\"#fdca26\"],[1.0,\"#f0f921\"]],\"type\":\"histogram2dcontour\"}],\"mesh3d\":[{\"colorbar\":{\"outlinewidth\":0,\"ticks\":\"\"},\"type\":\"mesh3d\"}],\"parcoords\":[{\"line\":{\"colorbar\":{\"outlinewidth\":0,\"ticks\":\"\"}},\"type\":\"parcoords\"}],\"pie\":[{\"automargin\":true,\"type\":\"pie\"}],\"scatter\":[{\"marker\":{\"colorbar\":{\"outlinewidth\":0,\"ticks\":\"\"}},\"type\":\"scatter\"}],\"scatter3d\":[{\"line\":{\"colorbar\":{\"outlinewidth\":0,\"ticks\":\"\"}},\"marker\":{\"colorbar\":{\"outlinewidth\":0,\"ticks\":\"\"}},\"type\":\"scatter3d\"}],\"scattercarpet\":[{\"marker\":{\"colorbar\":{\"outlinewidth\":0,\"ticks\":\"\"}},\"type\":\"scattercarpet\"}],\"scattergeo\":[{\"marker\":{\"colorbar\":{\"outlinewidth\":0,\"ticks\":\"\"}},\"type\":\"scattergeo\"}],\"scattergl\":[{\"marker\":{\"colorbar\":{\"outlinewidth\":0,\"ticks\":\"\"}},\"type\":\"scattergl\"}],\"scattermapbox\":[{\"marker\":{\"colorbar\":{\"outlinewidth\":0,\"ticks\":\"\"}},\"type\":\"scattermapbox\"}],\"scatterpolar\":[{\"marker\":{\"colorbar\":{\"outlinewidth\":0,\"ticks\":\"\"}},\"type\":\"scatterpolar\"}],\"scatterpolargl\":[{\"marker\":{\"colorbar\":{\"outlinewidth\":0,\"ticks\":\"\"}},\"type\":\"scatterpolargl\"}],\"scatterternary\":[{\"marker\":{\"colorbar\":{\"outlinewidth\":0,\"ticks\":\"\"}},\"type\":\"scatterternary\"}],\"surface\":[{\"colorbar\":{\"outlinewidth\":0,\"ticks\":\"\"},\"colorscale\":[[0.0,\"#0d0887\"],[0.1111111111111111,\"#46039f\"],[0.2222222222222222,\"#7201a8\"],[0.3333333333333333,\"#9c179e\"],[0.4444444444444444,\"#bd3786\"],[0.5555555555555556,\"#d8576b\"],[0.6666666666666666,\"#ed7953\"],[0.7777777777777778,\"#fb9f3a\"],[0.8888888888888888,\"#fdca26\"],[1.0,\"#f0f921\"]],\"type\":\"surface\"}],\"table\":[{\"cells\":{\"fill\":{\"color\":\"#EBF0F8\"},\"line\":{\"color\":\"white\"}},\"header\":{\"fill\":{\"color\":\"#C8D4E3\"},\"line\":{\"color\":\"white\"}},\"type\":\"table\"}]},\"layout\":{\"annotationdefaults\":{\"arrowcolor\":\"#2a3f5f\",\"arrowhead\":0,\"arrowwidth\":1},\"autotypenumbers\":\"strict\",\"coloraxis\":{\"colorbar\":{\"outlinewidth\":0,\"ticks\":\"\"}},\"colorscale\":{\"diverging\":[[0,\"#8e0152\"],[0.1,\"#c51b7d\"],[0.2,\"#de77ae\"],[0.3,\"#f1b6da\"],[0.4,\"#fde0ef\"],[0.5,\"#f7f7f7\"],[0.6,\"#e6f5d0\"],[0.7,\"#b8e186\"],[0.8,\"#7fbc41\"],[0.9,\"#4d9221\"],[1,\"#276419\"]],\"sequential\":[[0.0,\"#0d0887\"],[0.1111111111111111,\"#46039f\"],[0.2222222222222222,\"#7201a8\"],[0.3333333333333333,\"#9c179e\"],[0.4444444444444444,\"#bd3786\"],[0.5555555555555556,\"#d8576b\"],[0.6666666666666666,\"#ed7953\"],[0.7777777777777778,\"#fb9f3a\"],[0.8888888888888888,\"#fdca26\"],[1.0,\"#f0f921\"]],\"sequentialminus\":[[0.0,\"#0d0887\"],[0.1111111111111111,\"#46039f\"],[0.2222222222222222,\"#7201a8\"],[0.3333333333333333,\"#9c179e\"],[0.4444444444444444,\"#bd3786\"],[0.5555555555555556,\"#d8576b\"],[0.6666666666666666,\"#ed7953\"],[0.7777777777777778,\"#fb9f3a\"],[0.8888888888888888,\"#fdca26\"],[1.0,\"#f0f921\"]]},\"colorway\":[\"#636efa\",\"#EF553B\",\"#00cc96\",\"#ab63fa\",\"#FFA15A\",\"#19d3f3\",\"#FF6692\",\"#B6E880\",\"#FF97FF\",\"#FECB52\"],\"font\":{\"color\":\"#2a3f5f\"},\"geo\":{\"bgcolor\":\"white\",\"lakecolor\":\"white\",\"landcolor\":\"white\",\"showlakes\":true,\"showland\":true,\"subunitcolor\":\"#C8D4E3\"},\"hoverlabel\":{\"align\":\"left\"},\"hovermode\":\"closest\",\"mapbox\":{\"style\":\"light\"},\"paper_bgcolor\":\"white\",\"plot_bgcolor\":\"white\",\"polar\":{\"angularaxis\":{\"gridcolor\":\"#EBF0F8\",\"linecolor\":\"#EBF0F8\",\"ticks\":\"\"},\"bgcolor\":\"white\",\"radialaxis\":{\"gridcolor\":\"#EBF0F8\",\"linecolor\":\"#EBF0F8\",\"ticks\":\"\"}},\"scene\":{\"xaxis\":{\"backgroundcolor\":\"white\",\"gridcolor\":\"#DFE8F3\",\"gridwidth\":2,\"linecolor\":\"#EBF0F8\",\"showbackground\":true,\"ticks\":\"\",\"zerolinecolor\":\"#EBF0F8\"},\"yaxis\":{\"backgroundcolor\":\"white\",\"gridcolor\":\"#DFE8F3\",\"gridwidth\":2,\"linecolor\":\"#EBF0F8\",\"showbackground\":true,\"ticks\":\"\",\"zerolinecolor\":\"#EBF0F8\"},\"zaxis\":{\"backgroundcolor\":\"white\",\"gridcolor\":\"#DFE8F3\",\"gridwidth\":2,\"linecolor\":\"#EBF0F8\",\"showbackground\":true,\"ticks\":\"\",\"zerolinecolor\":\"#EBF0F8\"}},\"shapedefaults\":{\"line\":{\"color\":\"#2a3f5f\"}},\"ternary\":{\"aaxis\":{\"gridcolor\":\"#DFE8F3\",\"linecolor\":\"#A2B1C6\",\"ticks\":\"\"},\"baxis\":{\"gridcolor\":\"#DFE8F3\",\"linecolor\":\"#A2B1C6\",\"ticks\":\"\"},\"bgcolor\":\"white\",\"caxis\":{\"gridcolor\":\"#DFE8F3\",\"linecolor\":\"#A2B1C6\",\"ticks\":\"\"}},\"title\":{\"x\":0.05},\"xaxis\":{\"automargin\":true,\"gridcolor\":\"#EBF0F8\",\"linecolor\":\"#EBF0F8\",\"ticks\":\"\",\"title\":{\"standoff\":15},\"zerolinecolor\":\"#EBF0F8\",\"zerolinewidth\":2},\"yaxis\":{\"automargin\":true,\"gridcolor\":\"#EBF0F8\",\"linecolor\":\"#EBF0F8\",\"ticks\":\"\",\"title\":{\"standoff\":15},\"zerolinecolor\":\"#EBF0F8\",\"zerolinewidth\":2}}}},                        {\"responsive\": true}                    ).then(function(){\n",
       "                            \n",
       "var gd = document.getElementById('1768ae44-fc24-4e06-9117-cf100f72b326');\n",
       "var x = new MutationObserver(function (mutations, observer) {{\n",
       "        var display = window.getComputedStyle(gd).display;\n",
       "        if (!display || display === 'none') {{\n",
       "            console.log([gd, 'removed!']);\n",
       "            Plotly.purge(gd);\n",
       "            observer.disconnect();\n",
       "        }}\n",
       "}});\n",
       "\n",
       "// Listen for the removal of the full notebook cells\n",
       "var notebookContainer = gd.closest('#notebook-container');\n",
       "if (notebookContainer) {{\n",
       "    x.observe(notebookContainer, {childList: true});\n",
       "}}\n",
       "\n",
       "// Listen for the clearing of the current output cell\n",
       "var outputEl = gd.closest('.output');\n",
       "if (outputEl) {{\n",
       "    x.observe(outputEl, {childList: true});\n",
       "}}\n",
       "\n",
       "                        })                };                });            </script>        </div>"
      ]
     },
     "metadata": {},
     "output_type": "display_data"
    }
   ],
   "source": [
    "def power_fit(t, a, b):\n",
    "    return a*t**b\n",
    "    \n",
    "# fit actuals and extract a & b params\n",
    "popt, pcov = curve_fit(power_fit, c1.index, c1)\n",
    "\n",
    "# generate the full range of times to forecast over\n",
    "times = np.arange(1, 25)\n",
    "\n",
    "a = popt[0]\n",
    "b = popt[1]\n",
    "\n",
    "# if there is less than 6 months of actuals, scale data. \n",
    "if 6 - len(c1) > 0:\n",
    "    b = b + .2*(6 - len(c1)-1)\n",
    "\n",
    "# get max survival from inputs\n",
    "max_survival = inputs.loc['ke', 'max_monthly_borrower_retention']\n",
    "\n",
    "# take the slope of the power fit between the current and previous time periods\n",
    "power_slope = power_fit(times, a=0.98974725, b=-.90360369)/power_fit(times-1, a=0.98974725, b=-.90360369)\n",
    "# first value will be nan, replace with 1\n",
    "power_slope[0] = 1\n",
    "\n",
    "# apply max survival condition\n",
    "power_slope_capped = np.array([i if i < max_survival else max_survival for i in power_slope])\n",
    "# only need values for times we're going to forecast for.\n",
    "power_slope_capped = power_slope_capped[len(c1):]\n",
    "power_slope_capped = pd.Series(power_slope_capped, index=[t for t in times[len(c1):]])\n",
    "\n",
    "c1_fcast = c1.copy()\n",
    "for t in times[len(c1):]:\n",
    "    c1_fcast.loc[t] = c1_fcast[t-1] * power_slope_capped[t]\n",
    "    \n",
    "fig = go.Figure([\n",
    "    go.Scatter(x=c1.index, y=c1, mode='markers+lines'),\n",
    "    go.Scatter(x=times, y=c1_fcast)\n",
    "])\n",
    "fig.show()"
   ]
  },
  {
   "cell_type": "markdown",
   "id": "588c0b36",
   "metadata": {},
   "source": [
    "Liang's adjust power fit."
   ]
  },
  {
   "cell_type": "code",
   "execution_count": 104,
   "id": "3c5c1aa8",
   "metadata": {},
   "outputs": [],
   "source": [
    "# code up Liang's power forecast\n",
    "# given a single cohort data, return the forecasted feature\n",
    "\n",
    "def power_fcast(c_data, param='borrower_retention'):\n",
    "    \n",
    "    c = c_data[param]\n",
    "    c.index = np.arange(1, len(c)+1)\n",
    "    \n",
    "    def power_fit(t, a, b):\n",
    "        return a*t**b\n",
    "\n",
    "    # fit actuals and extract a & b params\n",
    "    popt, pcov = curve_fit(power_fit, c.index, c)\n",
    "\n",
    "    # generate the full range of times to forecast over\n",
    "    times = np.arange(1, 25)\n",
    "\n",
    "    a = popt[0]\n",
    "    b = popt[1]\n",
    "\n",
    "    # if there is less than 6 months of actuals, scale data. \n",
    "    if 6 - len(c) > 0:\n",
    "        b = b + .2*(6 - len(c)-1)\n",
    "\n",
    "    # get max survival from inputs\n",
    "    max_survival = inputs.loc['ke', 'max_monthly_borrower_retention']\n",
    "\n",
    "    # take the slope of the power fit between the current and previous time periods\n",
    "    power_slope = power_fit(times, a=0.98974725, b=-.90360369)/power_fit(times-1, a=0.98974725, b=-.90360369)\n",
    "    # first value will be nan, replace with 1\n",
    "    power_slope[0] = 1\n",
    "\n",
    "    # apply max survival condition\n",
    "    power_slope_capped = np.array([i if i < max_survival else max_survival for i in power_slope])\n",
    "    # only need values for times we're going to forecast for.\n",
    "    power_slope_capped = power_slope_capped[len(c):]\n",
    "    power_slope_capped = pd.Series(power_slope_capped, index=[t for t in times[len(c):]])\n",
    "\n",
    "    c_fcast = c.copy()\n",
    "    for t in times[len(c):]:\n",
    "        c_fcast.loc[t] = c_fcast[t-1] * power_slope_capped[t]\n",
    "    \n",
    "    return c_fcast.reset_index(drop=True)"
   ]
  },
  {
   "cell_type": "code",
   "execution_count": 105,
   "id": "718d54d4",
   "metadata": {},
   "outputs": [
    {
     "data": {
      "text/html": [
       "<div>\n",
       "<style scoped>\n",
       "    .dataframe tbody tr th:only-of-type {\n",
       "        vertical-align: middle;\n",
       "    }\n",
       "\n",
       "    .dataframe tbody tr th {\n",
       "        vertical-align: top;\n",
       "    }\n",
       "\n",
       "    .dataframe thead th {\n",
       "        text-align: right;\n",
       "    }\n",
       "</style>\n",
       "<table border=\"1\" class=\"dataframe\">\n",
       "  <thead>\n",
       "    <tr style=\"text-align: right;\">\n",
       "      <th></th>\n",
       "      <th>First Loan Local Disbursement Month</th>\n",
       "      <th>Months Since First Loan Disbursed</th>\n",
       "      <th>Count First Loans</th>\n",
       "      <th>Count Borrowers</th>\n",
       "      <th>Count Loans</th>\n",
       "      <th>Total Amount</th>\n",
       "      <th>Total Interest Assessed</th>\n",
       "      <th>Total Rollover Charged</th>\n",
       "      <th>Total Rollover Reversed</th>\n",
       "      <th>Default Rate Amount 7D</th>\n",
       "      <th>...</th>\n",
       "      <th>default_rate_7dpd</th>\n",
       "      <th>default_rate_51dpd</th>\n",
       "      <th>default_rate_365dpd</th>\n",
       "      <th>loans_per_original</th>\n",
       "      <th>origination_per_original</th>\n",
       "      <th>revenue_per_original</th>\n",
       "      <th>cm$_per_original</th>\n",
       "      <th>opex_per_original</th>\n",
       "      <th>ltv_per_original</th>\n",
       "      <th>cm%_per_original</th>\n",
       "    </tr>\n",
       "  </thead>\n",
       "  <tbody>\n",
       "    <tr>\n",
       "      <th>0</th>\n",
       "      <td>2021-02</td>\n",
       "      <td>0</td>\n",
       "      <td>9331</td>\n",
       "      <td>9331</td>\n",
       "      <td>14950</td>\n",
       "      <td>50418000</td>\n",
       "      <td>6739290</td>\n",
       "      <td>776812</td>\n",
       "      <td>0</td>\n",
       "      <td>0.169890</td>\n",
       "      <td>...</td>\n",
       "      <td>0.169890</td>\n",
       "      <td>0.134300</td>\n",
       "      <td>0.118184</td>\n",
       "      <td>1.602186</td>\n",
       "      <td>49.980334</td>\n",
       "      <td>7.450880</td>\n",
       "      <td>0.663446</td>\n",
       "      <td>2.656339</td>\n",
       "      <td>-1.992893</td>\n",
       "      <td>-0.267471</td>\n",
       "    </tr>\n",
       "    <tr>\n",
       "      <th>1</th>\n",
       "      <td>2021-02</td>\n",
       "      <td>1</td>\n",
       "      <td>0</td>\n",
       "      <td>5004</td>\n",
       "      <td>6525</td>\n",
       "      <td>39642000</td>\n",
       "      <td>5406950</td>\n",
       "      <td>613134</td>\n",
       "      <td>0</td>\n",
       "      <td>0.170855</td>\n",
       "      <td>...</td>\n",
       "      <td>0.170855</td>\n",
       "      <td>0.136472</td>\n",
       "      <td>0.120095</td>\n",
       "      <td>0.699282</td>\n",
       "      <td>39.297878</td>\n",
       "      <td>5.970415</td>\n",
       "      <td>0.533915</td>\n",
       "      <td>1.348779</td>\n",
       "      <td>-0.814864</td>\n",
       "      <td>-0.136484</td>\n",
       "    </tr>\n",
       "    <tr>\n",
       "      <th>2</th>\n",
       "      <td>2021-02</td>\n",
       "      <td>2</td>\n",
       "      <td>0</td>\n",
       "      <td>3728</td>\n",
       "      <td>4444</td>\n",
       "      <td>34882000</td>\n",
       "      <td>4836720</td>\n",
       "      <td>504590</td>\n",
       "      <td>0</td>\n",
       "      <td>0.159650</td>\n",
       "      <td>...</td>\n",
       "      <td>0.159650</td>\n",
       "      <td>0.129584</td>\n",
       "      <td>0.114034</td>\n",
       "      <td>0.476262</td>\n",
       "      <td>34.579198</td>\n",
       "      <td>5.297619</td>\n",
       "      <td>0.750298</td>\n",
       "      <td>1.003274</td>\n",
       "      <td>-0.252975</td>\n",
       "      <td>-0.047753</td>\n",
       "    </tr>\n",
       "    <tr>\n",
       "      <th>3</th>\n",
       "      <td>2021-02</td>\n",
       "      <td>3</td>\n",
       "      <td>0</td>\n",
       "      <td>3100</td>\n",
       "      <td>3681</td>\n",
       "      <td>34823000</td>\n",
       "      <td>4812110</td>\n",
       "      <td>400478</td>\n",
       "      <td>1333</td>\n",
       "      <td>0.125845</td>\n",
       "      <td>...</td>\n",
       "      <td>0.125845</td>\n",
       "      <td>0.100928</td>\n",
       "      <td>0.088817</td>\n",
       "      <td>0.394491</td>\n",
       "      <td>34.520711</td>\n",
       "      <td>5.165905</td>\n",
       "      <td>1.641065</td>\n",
       "      <td>0.894703</td>\n",
       "      <td>0.746362</td>\n",
       "      <td>0.144478</td>\n",
       "    </tr>\n",
       "    <tr>\n",
       "      <th>4</th>\n",
       "      <td>2021-02</td>\n",
       "      <td>4</td>\n",
       "      <td>0</td>\n",
       "      <td>2589</td>\n",
       "      <td>2990</td>\n",
       "      <td>33393000</td>\n",
       "      <td>4613900</td>\n",
       "      <td>370717</td>\n",
       "      <td>0</td>\n",
       "      <td>0.122570</td>\n",
       "      <td>...</td>\n",
       "      <td>0.122570</td>\n",
       "      <td>0.096024</td>\n",
       "      <td>0.084502</td>\n",
       "      <td>0.320437</td>\n",
       "      <td>33.103124</td>\n",
       "      <td>4.943292</td>\n",
       "      <td>1.728311</td>\n",
       "      <td>0.781594</td>\n",
       "      <td>0.946717</td>\n",
       "      <td>0.191515</td>\n",
       "    </tr>\n",
       "    <tr>\n",
       "      <th>5</th>\n",
       "      <td>2021-02</td>\n",
       "      <td>5</td>\n",
       "      <td>0</td>\n",
       "      <td>2271</td>\n",
       "      <td>2604</td>\n",
       "      <td>33427000</td>\n",
       "      <td>4622690</td>\n",
       "      <td>391779</td>\n",
       "      <td>0</td>\n",
       "      <td>0.128788</td>\n",
       "      <td>...</td>\n",
       "      <td>0.128788</td>\n",
       "      <td>0.090115</td>\n",
       "      <td>0.079301</td>\n",
       "      <td>0.279070</td>\n",
       "      <td>33.136829</td>\n",
       "      <td>4.971186</td>\n",
       "      <td>1.949191</td>\n",
       "      <td>0.727354</td>\n",
       "      <td>1.221836</td>\n",
       "      <td>0.245784</td>\n",
       "    </tr>\n",
       "    <tr>\n",
       "      <th>6</th>\n",
       "      <td>2021-02</td>\n",
       "      <td>6</td>\n",
       "      <td>0</td>\n",
       "      <td>2034</td>\n",
       "      <td>2344</td>\n",
       "      <td>33123000</td>\n",
       "      <td>4620360</td>\n",
       "      <td>320267</td>\n",
       "      <td>0</td>\n",
       "      <td>0.106834</td>\n",
       "      <td>...</td>\n",
       "      <td>0.106834</td>\n",
       "      <td>0.076740</td>\n",
       "      <td>0.067531</td>\n",
       "      <td>0.251206</td>\n",
       "      <td>32.835468</td>\n",
       "      <td>4.900032</td>\n",
       "      <td>2.351711</td>\n",
       "      <td>0.687309</td>\n",
       "      <td>1.664402</td>\n",
       "      <td>0.339672</td>\n",
       "    </tr>\n",
       "    <tr>\n",
       "      <th>7</th>\n",
       "      <td>2021-02</td>\n",
       "      <td>7</td>\n",
       "      <td>0</td>\n",
       "      <td>1821</td>\n",
       "      <td>2043</td>\n",
       "      <td>31164000</td>\n",
       "      <td>4307950</td>\n",
       "      <td>345493</td>\n",
       "      <td>0</td>\n",
       "      <td>0.122152</td>\n",
       "      <td>...</td>\n",
       "      <td>0.122152</td>\n",
       "      <td>0.097034</td>\n",
       "      <td>0.085390</td>\n",
       "      <td>0.218948</td>\n",
       "      <td>30.893473</td>\n",
       "      <td>4.614182</td>\n",
       "      <td>1.582200</td>\n",
       "      <td>0.623690</td>\n",
       "      <td>0.958510</td>\n",
       "      <td>0.207731</td>\n",
       "    </tr>\n",
       "    <tr>\n",
       "      <th>8</th>\n",
       "      <td>2021-02</td>\n",
       "      <td>8</td>\n",
       "      <td>0</td>\n",
       "      <td>1673</td>\n",
       "      <td>1918</td>\n",
       "      <td>31267000</td>\n",
       "      <td>4313410</td>\n",
       "      <td>352118</td>\n",
       "      <td>0</td>\n",
       "      <td>0.124799</td>\n",
       "      <td>...</td>\n",
       "      <td>0.124799</td>\n",
       "      <td>0.089373</td>\n",
       "      <td>0.078648</td>\n",
       "      <td>0.205551</td>\n",
       "      <td>30.995579</td>\n",
       "      <td>4.628115</td>\n",
       "      <td>1.826370</td>\n",
       "      <td>0.607113</td>\n",
       "      <td>1.219256</td>\n",
       "      <td>0.263446</td>\n",
       "    </tr>\n",
       "    <tr>\n",
       "      <th>9</th>\n",
       "      <td>2021-02</td>\n",
       "      <td>9</td>\n",
       "      <td>0</td>\n",
       "      <td>1475</td>\n",
       "      <td>1683</td>\n",
       "      <td>28778000</td>\n",
       "      <td>4123540</td>\n",
       "      <td>269868</td>\n",
       "      <td>0</td>\n",
       "      <td>0.103689</td>\n",
       "      <td>...</td>\n",
       "      <td>0.103689</td>\n",
       "      <td>0.069172</td>\n",
       "      <td>0.060871</td>\n",
       "      <td>0.180367</td>\n",
       "      <td>28.528186</td>\n",
       "      <td>4.358298</td>\n",
       "      <td>2.356465</td>\n",
       "      <td>0.547139</td>\n",
       "      <td>1.809326</td>\n",
       "      <td>0.415145</td>\n",
       "    </tr>\n",
       "    <tr>\n",
       "      <th>10</th>\n",
       "      <td>2021-02</td>\n",
       "      <td>10</td>\n",
       "      <td>0</td>\n",
       "      <td>1274</td>\n",
       "      <td>1429</td>\n",
       "      <td>26360000</td>\n",
       "      <td>3975690</td>\n",
       "      <td>228937</td>\n",
       "      <td>0</td>\n",
       "      <td>0.107130</td>\n",
       "      <td>...</td>\n",
       "      <td>0.107130</td>\n",
       "      <td>0.051332</td>\n",
       "      <td>0.045172</td>\n",
       "      <td>0.153145</td>\n",
       "      <td>26.131176</td>\n",
       "      <td>4.198910</td>\n",
       "      <td>2.828837</td>\n",
       "      <td>0.485240</td>\n",
       "      <td>2.343597</td>\n",
       "      <td>0.558144</td>\n",
       "    </tr>\n",
       "    <tr>\n",
       "      <th>11</th>\n",
       "      <td>2021-02</td>\n",
       "      <td>11</td>\n",
       "      <td>0</td>\n",
       "      <td>1194</td>\n",
       "      <td>1341</td>\n",
       "      <td>25012000</td>\n",
       "      <td>3704830</td>\n",
       "      <td>46289</td>\n",
       "      <td>0</td>\n",
       "      <td>0.082756</td>\n",
       "      <td>...</td>\n",
       "      <td>0.082756</td>\n",
       "      <td>0.061239</td>\n",
       "      <td>0.053891</td>\n",
       "      <td>0.143715</td>\n",
       "      <td>24.794877</td>\n",
       "      <td>3.861137</td>\n",
       "      <td>2.316850</td>\n",
       "      <td>0.458314</td>\n",
       "      <td>1.858536</td>\n",
       "      <td>0.481344</td>\n",
       "    </tr>\n",
       "  </tbody>\n",
       "</table>\n",
       "<p>12 rows × 28 columns</p>\n",
       "</div>"
      ],
      "text/plain": [
       "   First Loan Local Disbursement Month  Months Since First Loan Disbursed  \\\n",
       "0                              2021-02                                  0   \n",
       "1                              2021-02                                  1   \n",
       "2                              2021-02                                  2   \n",
       "3                              2021-02                                  3   \n",
       "4                              2021-02                                  4   \n",
       "5                              2021-02                                  5   \n",
       "6                              2021-02                                  6   \n",
       "7                              2021-02                                  7   \n",
       "8                              2021-02                                  8   \n",
       "9                              2021-02                                  9   \n",
       "10                             2021-02                                 10   \n",
       "11                             2021-02                                 11   \n",
       "\n",
       "    Count First Loans  Count Borrowers  Count Loans  Total Amount  \\\n",
       "0                9331             9331        14950      50418000   \n",
       "1                   0             5004         6525      39642000   \n",
       "2                   0             3728         4444      34882000   \n",
       "3                   0             3100         3681      34823000   \n",
       "4                   0             2589         2990      33393000   \n",
       "5                   0             2271         2604      33427000   \n",
       "6                   0             2034         2344      33123000   \n",
       "7                   0             1821         2043      31164000   \n",
       "8                   0             1673         1918      31267000   \n",
       "9                   0             1475         1683      28778000   \n",
       "10                  0             1274         1429      26360000   \n",
       "11                  0             1194         1341      25012000   \n",
       "\n",
       "    Total Interest Assessed  Total Rollover Charged  Total Rollover Reversed  \\\n",
       "0                   6739290                  776812                        0   \n",
       "1                   5406950                  613134                        0   \n",
       "2                   4836720                  504590                        0   \n",
       "3                   4812110                  400478                     1333   \n",
       "4                   4613900                  370717                        0   \n",
       "5                   4622690                  391779                        0   \n",
       "6                   4620360                  320267                        0   \n",
       "7                   4307950                  345493                        0   \n",
       "8                   4313410                  352118                        0   \n",
       "9                   4123540                  269868                        0   \n",
       "10                  3975690                  228937                        0   \n",
       "11                  3704830                   46289                        0   \n",
       "\n",
       "    Default Rate Amount 7D  ...  default_rate_7dpd  default_rate_51dpd  \\\n",
       "0                 0.169890  ...           0.169890            0.134300   \n",
       "1                 0.170855  ...           0.170855            0.136472   \n",
       "2                 0.159650  ...           0.159650            0.129584   \n",
       "3                 0.125845  ...           0.125845            0.100928   \n",
       "4                 0.122570  ...           0.122570            0.096024   \n",
       "5                 0.128788  ...           0.128788            0.090115   \n",
       "6                 0.106834  ...           0.106834            0.076740   \n",
       "7                 0.122152  ...           0.122152            0.097034   \n",
       "8                 0.124799  ...           0.124799            0.089373   \n",
       "9                 0.103689  ...           0.103689            0.069172   \n",
       "10                0.107130  ...           0.107130            0.051332   \n",
       "11                0.082756  ...           0.082756            0.061239   \n",
       "\n",
       "   default_rate_365dpd  loans_per_original  origination_per_original  \\\n",
       "0             0.118184            1.602186                 49.980334   \n",
       "1             0.120095            0.699282                 39.297878   \n",
       "2             0.114034            0.476262                 34.579198   \n",
       "3             0.088817            0.394491                 34.520711   \n",
       "4             0.084502            0.320437                 33.103124   \n",
       "5             0.079301            0.279070                 33.136829   \n",
       "6             0.067531            0.251206                 32.835468   \n",
       "7             0.085390            0.218948                 30.893473   \n",
       "8             0.078648            0.205551                 30.995579   \n",
       "9             0.060871            0.180367                 28.528186   \n",
       "10            0.045172            0.153145                 26.131176   \n",
       "11            0.053891            0.143715                 24.794877   \n",
       "\n",
       "    revenue_per_original  cm$_per_original  opex_per_original  \\\n",
       "0               7.450880          0.663446           2.656339   \n",
       "1               5.970415          0.533915           1.348779   \n",
       "2               5.297619          0.750298           1.003274   \n",
       "3               5.165905          1.641065           0.894703   \n",
       "4               4.943292          1.728311           0.781594   \n",
       "5               4.971186          1.949191           0.727354   \n",
       "6               4.900032          2.351711           0.687309   \n",
       "7               4.614182          1.582200           0.623690   \n",
       "8               4.628115          1.826370           0.607113   \n",
       "9               4.358298          2.356465           0.547139   \n",
       "10              4.198910          2.828837           0.485240   \n",
       "11              3.861137          2.316850           0.458314   \n",
       "\n",
       "    ltv_per_original  cm%_per_original  \n",
       "0          -1.992893         -0.267471  \n",
       "1          -0.814864         -0.136484  \n",
       "2          -0.252975         -0.047753  \n",
       "3           0.746362          0.144478  \n",
       "4           0.946717          0.191515  \n",
       "5           1.221836          0.245784  \n",
       "6           1.664402          0.339672  \n",
       "7           0.958510          0.207731  \n",
       "8           1.219256          0.263446  \n",
       "9           1.809326          0.415145  \n",
       "10          2.343597          0.558144  \n",
       "11          1.858536          0.481344  \n",
       "\n",
       "[12 rows x 28 columns]"
      ]
     },
     "execution_count": 105,
     "metadata": {},
     "output_type": "execute_result"
    }
   ],
   "source": [
    "c_data = m.data[m.data.cohort=='2021-02']\n",
    "c_data"
   ]
  },
  {
   "cell_type": "code",
   "execution_count": 107,
   "id": "eca45e9a",
   "metadata": {},
   "outputs": [
    {
     "name": "stderr",
     "output_type": "stream",
     "text": [
      "/var/folders/cz/jxcg8r0x5y70_y_2fxt5bwkh0000gn/T/ipykernel_65762/890588787.py:10: RuntimeWarning:\n",
      "\n",
      "divide by zero encountered in power\n",
      "\n"
     ]
    },
    {
     "data": {
      "application/vnd.plotly.v1+json": {
       "config": {
        "plotlyServerURL": "https://plot.ly"
       },
       "data": [
        {
         "mode": "markers+lines",
         "type": "scatter",
         "x": [
          1,
          2,
          3,
          4,
          5,
          6,
          7,
          8,
          9,
          10,
          11,
          12
         ],
         "y": [
          1,
          0.5362769263744508,
          0.39952845354195693,
          0.33222591362126247,
          0.27746222269853177,
          0.24338227413996355,
          0.21798306719537028,
          0.19515593184010288,
          0.17929482370592648,
          0.15807523309398777,
          0.13653413353338334,
          0.12796056156896368
         ]
        },
        {
         "type": "scatter",
         "x": [
          1,
          2,
          3,
          4,
          5,
          6,
          7,
          8,
          9,
          10,
          11,
          12,
          13,
          14,
          15,
          16,
          17,
          18,
          19,
          20,
          21,
          22,
          23,
          24
         ],
         "y": [
          1,
          0.5362769263744508,
          0.39952845354195693,
          0.33222591362126247,
          0.27746222269853177,
          0.24338227413996355,
          0.21798306719537028,
          0.19515593184010288,
          0.17929482370592648,
          0.15807523309398777,
          0.13653413353338334,
          0.12796056156896368,
          0.11903233961828596,
          0.11132245395789747,
          0.10459426971945972,
          0.0986690698045347,
          0.0934092978979045,
          0.0887073133088931,
          0.08427194764344845,
          0.08005835026127602,
          0.0760554327482122,
          0.0722526611108016,
          0.06864002805526152,
          0.06520802665249845
         ]
        }
       ],
       "layout": {
        "template": {
         "data": {
          "bar": [
           {
            "error_x": {
             "color": "#2a3f5f"
            },
            "error_y": {
             "color": "#2a3f5f"
            },
            "marker": {
             "line": {
              "color": "white",
              "width": 0.5
             },
             "pattern": {
              "fillmode": "overlay",
              "size": 10,
              "solidity": 0.2
             }
            },
            "type": "bar"
           }
          ],
          "barpolar": [
           {
            "marker": {
             "line": {
              "color": "white",
              "width": 0.5
             },
             "pattern": {
              "fillmode": "overlay",
              "size": 10,
              "solidity": 0.2
             }
            },
            "type": "barpolar"
           }
          ],
          "carpet": [
           {
            "aaxis": {
             "endlinecolor": "#2a3f5f",
             "gridcolor": "#C8D4E3",
             "linecolor": "#C8D4E3",
             "minorgridcolor": "#C8D4E3",
             "startlinecolor": "#2a3f5f"
            },
            "baxis": {
             "endlinecolor": "#2a3f5f",
             "gridcolor": "#C8D4E3",
             "linecolor": "#C8D4E3",
             "minorgridcolor": "#C8D4E3",
             "startlinecolor": "#2a3f5f"
            },
            "type": "carpet"
           }
          ],
          "choropleth": [
           {
            "colorbar": {
             "outlinewidth": 0,
             "ticks": ""
            },
            "type": "choropleth"
           }
          ],
          "contour": [
           {
            "colorbar": {
             "outlinewidth": 0,
             "ticks": ""
            },
            "colorscale": [
             [
              0,
              "#0d0887"
             ],
             [
              0.1111111111111111,
              "#46039f"
             ],
             [
              0.2222222222222222,
              "#7201a8"
             ],
             [
              0.3333333333333333,
              "#9c179e"
             ],
             [
              0.4444444444444444,
              "#bd3786"
             ],
             [
              0.5555555555555556,
              "#d8576b"
             ],
             [
              0.6666666666666666,
              "#ed7953"
             ],
             [
              0.7777777777777778,
              "#fb9f3a"
             ],
             [
              0.8888888888888888,
              "#fdca26"
             ],
             [
              1,
              "#f0f921"
             ]
            ],
            "type": "contour"
           }
          ],
          "contourcarpet": [
           {
            "colorbar": {
             "outlinewidth": 0,
             "ticks": ""
            },
            "type": "contourcarpet"
           }
          ],
          "heatmap": [
           {
            "colorbar": {
             "outlinewidth": 0,
             "ticks": ""
            },
            "colorscale": [
             [
              0,
              "#0d0887"
             ],
             [
              0.1111111111111111,
              "#46039f"
             ],
             [
              0.2222222222222222,
              "#7201a8"
             ],
             [
              0.3333333333333333,
              "#9c179e"
             ],
             [
              0.4444444444444444,
              "#bd3786"
             ],
             [
              0.5555555555555556,
              "#d8576b"
             ],
             [
              0.6666666666666666,
              "#ed7953"
             ],
             [
              0.7777777777777778,
              "#fb9f3a"
             ],
             [
              0.8888888888888888,
              "#fdca26"
             ],
             [
              1,
              "#f0f921"
             ]
            ],
            "type": "heatmap"
           }
          ],
          "heatmapgl": [
           {
            "colorbar": {
             "outlinewidth": 0,
             "ticks": ""
            },
            "colorscale": [
             [
              0,
              "#0d0887"
             ],
             [
              0.1111111111111111,
              "#46039f"
             ],
             [
              0.2222222222222222,
              "#7201a8"
             ],
             [
              0.3333333333333333,
              "#9c179e"
             ],
             [
              0.4444444444444444,
              "#bd3786"
             ],
             [
              0.5555555555555556,
              "#d8576b"
             ],
             [
              0.6666666666666666,
              "#ed7953"
             ],
             [
              0.7777777777777778,
              "#fb9f3a"
             ],
             [
              0.8888888888888888,
              "#fdca26"
             ],
             [
              1,
              "#f0f921"
             ]
            ],
            "type": "heatmapgl"
           }
          ],
          "histogram": [
           {
            "marker": {
             "pattern": {
              "fillmode": "overlay",
              "size": 10,
              "solidity": 0.2
             }
            },
            "type": "histogram"
           }
          ],
          "histogram2d": [
           {
            "colorbar": {
             "outlinewidth": 0,
             "ticks": ""
            },
            "colorscale": [
             [
              0,
              "#0d0887"
             ],
             [
              0.1111111111111111,
              "#46039f"
             ],
             [
              0.2222222222222222,
              "#7201a8"
             ],
             [
              0.3333333333333333,
              "#9c179e"
             ],
             [
              0.4444444444444444,
              "#bd3786"
             ],
             [
              0.5555555555555556,
              "#d8576b"
             ],
             [
              0.6666666666666666,
              "#ed7953"
             ],
             [
              0.7777777777777778,
              "#fb9f3a"
             ],
             [
              0.8888888888888888,
              "#fdca26"
             ],
             [
              1,
              "#f0f921"
             ]
            ],
            "type": "histogram2d"
           }
          ],
          "histogram2dcontour": [
           {
            "colorbar": {
             "outlinewidth": 0,
             "ticks": ""
            },
            "colorscale": [
             [
              0,
              "#0d0887"
             ],
             [
              0.1111111111111111,
              "#46039f"
             ],
             [
              0.2222222222222222,
              "#7201a8"
             ],
             [
              0.3333333333333333,
              "#9c179e"
             ],
             [
              0.4444444444444444,
              "#bd3786"
             ],
             [
              0.5555555555555556,
              "#d8576b"
             ],
             [
              0.6666666666666666,
              "#ed7953"
             ],
             [
              0.7777777777777778,
              "#fb9f3a"
             ],
             [
              0.8888888888888888,
              "#fdca26"
             ],
             [
              1,
              "#f0f921"
             ]
            ],
            "type": "histogram2dcontour"
           }
          ],
          "mesh3d": [
           {
            "colorbar": {
             "outlinewidth": 0,
             "ticks": ""
            },
            "type": "mesh3d"
           }
          ],
          "parcoords": [
           {
            "line": {
             "colorbar": {
              "outlinewidth": 0,
              "ticks": ""
             }
            },
            "type": "parcoords"
           }
          ],
          "pie": [
           {
            "automargin": true,
            "type": "pie"
           }
          ],
          "scatter": [
           {
            "marker": {
             "colorbar": {
              "outlinewidth": 0,
              "ticks": ""
             }
            },
            "type": "scatter"
           }
          ],
          "scatter3d": [
           {
            "line": {
             "colorbar": {
              "outlinewidth": 0,
              "ticks": ""
             }
            },
            "marker": {
             "colorbar": {
              "outlinewidth": 0,
              "ticks": ""
             }
            },
            "type": "scatter3d"
           }
          ],
          "scattercarpet": [
           {
            "marker": {
             "colorbar": {
              "outlinewidth": 0,
              "ticks": ""
             }
            },
            "type": "scattercarpet"
           }
          ],
          "scattergeo": [
           {
            "marker": {
             "colorbar": {
              "outlinewidth": 0,
              "ticks": ""
             }
            },
            "type": "scattergeo"
           }
          ],
          "scattergl": [
           {
            "marker": {
             "colorbar": {
              "outlinewidth": 0,
              "ticks": ""
             }
            },
            "type": "scattergl"
           }
          ],
          "scattermapbox": [
           {
            "marker": {
             "colorbar": {
              "outlinewidth": 0,
              "ticks": ""
             }
            },
            "type": "scattermapbox"
           }
          ],
          "scatterpolar": [
           {
            "marker": {
             "colorbar": {
              "outlinewidth": 0,
              "ticks": ""
             }
            },
            "type": "scatterpolar"
           }
          ],
          "scatterpolargl": [
           {
            "marker": {
             "colorbar": {
              "outlinewidth": 0,
              "ticks": ""
             }
            },
            "type": "scatterpolargl"
           }
          ],
          "scatterternary": [
           {
            "marker": {
             "colorbar": {
              "outlinewidth": 0,
              "ticks": ""
             }
            },
            "type": "scatterternary"
           }
          ],
          "surface": [
           {
            "colorbar": {
             "outlinewidth": 0,
             "ticks": ""
            },
            "colorscale": [
             [
              0,
              "#0d0887"
             ],
             [
              0.1111111111111111,
              "#46039f"
             ],
             [
              0.2222222222222222,
              "#7201a8"
             ],
             [
              0.3333333333333333,
              "#9c179e"
             ],
             [
              0.4444444444444444,
              "#bd3786"
             ],
             [
              0.5555555555555556,
              "#d8576b"
             ],
             [
              0.6666666666666666,
              "#ed7953"
             ],
             [
              0.7777777777777778,
              "#fb9f3a"
             ],
             [
              0.8888888888888888,
              "#fdca26"
             ],
             [
              1,
              "#f0f921"
             ]
            ],
            "type": "surface"
           }
          ],
          "table": [
           {
            "cells": {
             "fill": {
              "color": "#EBF0F8"
             },
             "line": {
              "color": "white"
             }
            },
            "header": {
             "fill": {
              "color": "#C8D4E3"
             },
             "line": {
              "color": "white"
             }
            },
            "type": "table"
           }
          ]
         },
         "layout": {
          "annotationdefaults": {
           "arrowcolor": "#2a3f5f",
           "arrowhead": 0,
           "arrowwidth": 1
          },
          "autotypenumbers": "strict",
          "coloraxis": {
           "colorbar": {
            "outlinewidth": 0,
            "ticks": ""
           }
          },
          "colorscale": {
           "diverging": [
            [
             0,
             "#8e0152"
            ],
            [
             0.1,
             "#c51b7d"
            ],
            [
             0.2,
             "#de77ae"
            ],
            [
             0.3,
             "#f1b6da"
            ],
            [
             0.4,
             "#fde0ef"
            ],
            [
             0.5,
             "#f7f7f7"
            ],
            [
             0.6,
             "#e6f5d0"
            ],
            [
             0.7,
             "#b8e186"
            ],
            [
             0.8,
             "#7fbc41"
            ],
            [
             0.9,
             "#4d9221"
            ],
            [
             1,
             "#276419"
            ]
           ],
           "sequential": [
            [
             0,
             "#0d0887"
            ],
            [
             0.1111111111111111,
             "#46039f"
            ],
            [
             0.2222222222222222,
             "#7201a8"
            ],
            [
             0.3333333333333333,
             "#9c179e"
            ],
            [
             0.4444444444444444,
             "#bd3786"
            ],
            [
             0.5555555555555556,
             "#d8576b"
            ],
            [
             0.6666666666666666,
             "#ed7953"
            ],
            [
             0.7777777777777778,
             "#fb9f3a"
            ],
            [
             0.8888888888888888,
             "#fdca26"
            ],
            [
             1,
             "#f0f921"
            ]
           ],
           "sequentialminus": [
            [
             0,
             "#0d0887"
            ],
            [
             0.1111111111111111,
             "#46039f"
            ],
            [
             0.2222222222222222,
             "#7201a8"
            ],
            [
             0.3333333333333333,
             "#9c179e"
            ],
            [
             0.4444444444444444,
             "#bd3786"
            ],
            [
             0.5555555555555556,
             "#d8576b"
            ],
            [
             0.6666666666666666,
             "#ed7953"
            ],
            [
             0.7777777777777778,
             "#fb9f3a"
            ],
            [
             0.8888888888888888,
             "#fdca26"
            ],
            [
             1,
             "#f0f921"
            ]
           ]
          },
          "colorway": [
           "#636efa",
           "#EF553B",
           "#00cc96",
           "#ab63fa",
           "#FFA15A",
           "#19d3f3",
           "#FF6692",
           "#B6E880",
           "#FF97FF",
           "#FECB52"
          ],
          "font": {
           "color": "#2a3f5f"
          },
          "geo": {
           "bgcolor": "white",
           "lakecolor": "white",
           "landcolor": "white",
           "showlakes": true,
           "showland": true,
           "subunitcolor": "#C8D4E3"
          },
          "hoverlabel": {
           "align": "left"
          },
          "hovermode": "closest",
          "mapbox": {
           "style": "light"
          },
          "paper_bgcolor": "white",
          "plot_bgcolor": "white",
          "polar": {
           "angularaxis": {
            "gridcolor": "#EBF0F8",
            "linecolor": "#EBF0F8",
            "ticks": ""
           },
           "bgcolor": "white",
           "radialaxis": {
            "gridcolor": "#EBF0F8",
            "linecolor": "#EBF0F8",
            "ticks": ""
           }
          },
          "scene": {
           "xaxis": {
            "backgroundcolor": "white",
            "gridcolor": "#DFE8F3",
            "gridwidth": 2,
            "linecolor": "#EBF0F8",
            "showbackground": true,
            "ticks": "",
            "zerolinecolor": "#EBF0F8"
           },
           "yaxis": {
            "backgroundcolor": "white",
            "gridcolor": "#DFE8F3",
            "gridwidth": 2,
            "linecolor": "#EBF0F8",
            "showbackground": true,
            "ticks": "",
            "zerolinecolor": "#EBF0F8"
           },
           "zaxis": {
            "backgroundcolor": "white",
            "gridcolor": "#DFE8F3",
            "gridwidth": 2,
            "linecolor": "#EBF0F8",
            "showbackground": true,
            "ticks": "",
            "zerolinecolor": "#EBF0F8"
           }
          },
          "shapedefaults": {
           "line": {
            "color": "#2a3f5f"
           }
          },
          "ternary": {
           "aaxis": {
            "gridcolor": "#DFE8F3",
            "linecolor": "#A2B1C6",
            "ticks": ""
           },
           "baxis": {
            "gridcolor": "#DFE8F3",
            "linecolor": "#A2B1C6",
            "ticks": ""
           },
           "bgcolor": "white",
           "caxis": {
            "gridcolor": "#DFE8F3",
            "linecolor": "#A2B1C6",
            "ticks": ""
           }
          },
          "title": {
           "x": 0.05
          },
          "xaxis": {
           "automargin": true,
           "gridcolor": "#EBF0F8",
           "linecolor": "#EBF0F8",
           "ticks": "",
           "title": {
            "standoff": 15
           },
           "zerolinecolor": "#EBF0F8",
           "zerolinewidth": 2
          },
          "yaxis": {
           "automargin": true,
           "gridcolor": "#EBF0F8",
           "linecolor": "#EBF0F8",
           "ticks": "",
           "title": {
            "standoff": 15
           },
           "zerolinecolor": "#EBF0F8",
           "zerolinewidth": 2
          }
         }
        }
       }
      },
      "text/html": [
       "<div>                            <div id=\"d20cc3f8-076c-476e-960e-9e28814cb869\" class=\"plotly-graph-div\" style=\"height:525px; width:100%;\"></div>            <script type=\"text/javascript\">                require([\"plotly\"], function(Plotly) {                    window.PLOTLYENV=window.PLOTLYENV || {};                                    if (document.getElementById(\"d20cc3f8-076c-476e-960e-9e28814cb869\")) {                    Plotly.newPlot(                        \"d20cc3f8-076c-476e-960e-9e28814cb869\",                        [{\"mode\":\"markers+lines\",\"type\":\"scatter\",\"x\":[1,2,3,4,5,6,7,8,9,10,11,12],\"y\":[1.0,0.5362769263744508,0.39952845354195693,0.33222591362126247,0.27746222269853177,0.24338227413996355,0.21798306719537028,0.19515593184010288,0.17929482370592648,0.15807523309398777,0.13653413353338334,0.12796056156896368]},{\"type\":\"scatter\",\"x\":[1,2,3,4,5,6,7,8,9,10,11,12,13,14,15,16,17,18,19,20,21,22,23,24],\"y\":[1.0,0.5362769263744508,0.39952845354195693,0.33222591362126247,0.27746222269853177,0.24338227413996355,0.21798306719537028,0.19515593184010288,0.17929482370592648,0.15807523309398777,0.13653413353338334,0.12796056156896368,0.11903233961828596,0.11132245395789747,0.10459426971945972,0.0986690698045347,0.0934092978979045,0.0887073133088931,0.08427194764344845,0.08005835026127602,0.0760554327482122,0.0722526611108016,0.06864002805526152,0.06520802665249845]}],                        {\"template\":{\"data\":{\"bar\":[{\"error_x\":{\"color\":\"#2a3f5f\"},\"error_y\":{\"color\":\"#2a3f5f\"},\"marker\":{\"line\":{\"color\":\"white\",\"width\":0.5},\"pattern\":{\"fillmode\":\"overlay\",\"size\":10,\"solidity\":0.2}},\"type\":\"bar\"}],\"barpolar\":[{\"marker\":{\"line\":{\"color\":\"white\",\"width\":0.5},\"pattern\":{\"fillmode\":\"overlay\",\"size\":10,\"solidity\":0.2}},\"type\":\"barpolar\"}],\"carpet\":[{\"aaxis\":{\"endlinecolor\":\"#2a3f5f\",\"gridcolor\":\"#C8D4E3\",\"linecolor\":\"#C8D4E3\",\"minorgridcolor\":\"#C8D4E3\",\"startlinecolor\":\"#2a3f5f\"},\"baxis\":{\"endlinecolor\":\"#2a3f5f\",\"gridcolor\":\"#C8D4E3\",\"linecolor\":\"#C8D4E3\",\"minorgridcolor\":\"#C8D4E3\",\"startlinecolor\":\"#2a3f5f\"},\"type\":\"carpet\"}],\"choropleth\":[{\"colorbar\":{\"outlinewidth\":0,\"ticks\":\"\"},\"type\":\"choropleth\"}],\"contour\":[{\"colorbar\":{\"outlinewidth\":0,\"ticks\":\"\"},\"colorscale\":[[0.0,\"#0d0887\"],[0.1111111111111111,\"#46039f\"],[0.2222222222222222,\"#7201a8\"],[0.3333333333333333,\"#9c179e\"],[0.4444444444444444,\"#bd3786\"],[0.5555555555555556,\"#d8576b\"],[0.6666666666666666,\"#ed7953\"],[0.7777777777777778,\"#fb9f3a\"],[0.8888888888888888,\"#fdca26\"],[1.0,\"#f0f921\"]],\"type\":\"contour\"}],\"contourcarpet\":[{\"colorbar\":{\"outlinewidth\":0,\"ticks\":\"\"},\"type\":\"contourcarpet\"}],\"heatmap\":[{\"colorbar\":{\"outlinewidth\":0,\"ticks\":\"\"},\"colorscale\":[[0.0,\"#0d0887\"],[0.1111111111111111,\"#46039f\"],[0.2222222222222222,\"#7201a8\"],[0.3333333333333333,\"#9c179e\"],[0.4444444444444444,\"#bd3786\"],[0.5555555555555556,\"#d8576b\"],[0.6666666666666666,\"#ed7953\"],[0.7777777777777778,\"#fb9f3a\"],[0.8888888888888888,\"#fdca26\"],[1.0,\"#f0f921\"]],\"type\":\"heatmap\"}],\"heatmapgl\":[{\"colorbar\":{\"outlinewidth\":0,\"ticks\":\"\"},\"colorscale\":[[0.0,\"#0d0887\"],[0.1111111111111111,\"#46039f\"],[0.2222222222222222,\"#7201a8\"],[0.3333333333333333,\"#9c179e\"],[0.4444444444444444,\"#bd3786\"],[0.5555555555555556,\"#d8576b\"],[0.6666666666666666,\"#ed7953\"],[0.7777777777777778,\"#fb9f3a\"],[0.8888888888888888,\"#fdca26\"],[1.0,\"#f0f921\"]],\"type\":\"heatmapgl\"}],\"histogram\":[{\"marker\":{\"pattern\":{\"fillmode\":\"overlay\",\"size\":10,\"solidity\":0.2}},\"type\":\"histogram\"}],\"histogram2d\":[{\"colorbar\":{\"outlinewidth\":0,\"ticks\":\"\"},\"colorscale\":[[0.0,\"#0d0887\"],[0.1111111111111111,\"#46039f\"],[0.2222222222222222,\"#7201a8\"],[0.3333333333333333,\"#9c179e\"],[0.4444444444444444,\"#bd3786\"],[0.5555555555555556,\"#d8576b\"],[0.6666666666666666,\"#ed7953\"],[0.7777777777777778,\"#fb9f3a\"],[0.8888888888888888,\"#fdca26\"],[1.0,\"#f0f921\"]],\"type\":\"histogram2d\"}],\"histogram2dcontour\":[{\"colorbar\":{\"outlinewidth\":0,\"ticks\":\"\"},\"colorscale\":[[0.0,\"#0d0887\"],[0.1111111111111111,\"#46039f\"],[0.2222222222222222,\"#7201a8\"],[0.3333333333333333,\"#9c179e\"],[0.4444444444444444,\"#bd3786\"],[0.5555555555555556,\"#d8576b\"],[0.6666666666666666,\"#ed7953\"],[0.7777777777777778,\"#fb9f3a\"],[0.8888888888888888,\"#fdca26\"],[1.0,\"#f0f921\"]],\"type\":\"histogram2dcontour\"}],\"mesh3d\":[{\"colorbar\":{\"outlinewidth\":0,\"ticks\":\"\"},\"type\":\"mesh3d\"}],\"parcoords\":[{\"line\":{\"colorbar\":{\"outlinewidth\":0,\"ticks\":\"\"}},\"type\":\"parcoords\"}],\"pie\":[{\"automargin\":true,\"type\":\"pie\"}],\"scatter\":[{\"marker\":{\"colorbar\":{\"outlinewidth\":0,\"ticks\":\"\"}},\"type\":\"scatter\"}],\"scatter3d\":[{\"line\":{\"colorbar\":{\"outlinewidth\":0,\"ticks\":\"\"}},\"marker\":{\"colorbar\":{\"outlinewidth\":0,\"ticks\":\"\"}},\"type\":\"scatter3d\"}],\"scattercarpet\":[{\"marker\":{\"colorbar\":{\"outlinewidth\":0,\"ticks\":\"\"}},\"type\":\"scattercarpet\"}],\"scattergeo\":[{\"marker\":{\"colorbar\":{\"outlinewidth\":0,\"ticks\":\"\"}},\"type\":\"scattergeo\"}],\"scattergl\":[{\"marker\":{\"colorbar\":{\"outlinewidth\":0,\"ticks\":\"\"}},\"type\":\"scattergl\"}],\"scattermapbox\":[{\"marker\":{\"colorbar\":{\"outlinewidth\":0,\"ticks\":\"\"}},\"type\":\"scattermapbox\"}],\"scatterpolar\":[{\"marker\":{\"colorbar\":{\"outlinewidth\":0,\"ticks\":\"\"}},\"type\":\"scatterpolar\"}],\"scatterpolargl\":[{\"marker\":{\"colorbar\":{\"outlinewidth\":0,\"ticks\":\"\"}},\"type\":\"scatterpolargl\"}],\"scatterternary\":[{\"marker\":{\"colorbar\":{\"outlinewidth\":0,\"ticks\":\"\"}},\"type\":\"scatterternary\"}],\"surface\":[{\"colorbar\":{\"outlinewidth\":0,\"ticks\":\"\"},\"colorscale\":[[0.0,\"#0d0887\"],[0.1111111111111111,\"#46039f\"],[0.2222222222222222,\"#7201a8\"],[0.3333333333333333,\"#9c179e\"],[0.4444444444444444,\"#bd3786\"],[0.5555555555555556,\"#d8576b\"],[0.6666666666666666,\"#ed7953\"],[0.7777777777777778,\"#fb9f3a\"],[0.8888888888888888,\"#fdca26\"],[1.0,\"#f0f921\"]],\"type\":\"surface\"}],\"table\":[{\"cells\":{\"fill\":{\"color\":\"#EBF0F8\"},\"line\":{\"color\":\"white\"}},\"header\":{\"fill\":{\"color\":\"#C8D4E3\"},\"line\":{\"color\":\"white\"}},\"type\":\"table\"}]},\"layout\":{\"annotationdefaults\":{\"arrowcolor\":\"#2a3f5f\",\"arrowhead\":0,\"arrowwidth\":1},\"autotypenumbers\":\"strict\",\"coloraxis\":{\"colorbar\":{\"outlinewidth\":0,\"ticks\":\"\"}},\"colorscale\":{\"diverging\":[[0,\"#8e0152\"],[0.1,\"#c51b7d\"],[0.2,\"#de77ae\"],[0.3,\"#f1b6da\"],[0.4,\"#fde0ef\"],[0.5,\"#f7f7f7\"],[0.6,\"#e6f5d0\"],[0.7,\"#b8e186\"],[0.8,\"#7fbc41\"],[0.9,\"#4d9221\"],[1,\"#276419\"]],\"sequential\":[[0.0,\"#0d0887\"],[0.1111111111111111,\"#46039f\"],[0.2222222222222222,\"#7201a8\"],[0.3333333333333333,\"#9c179e\"],[0.4444444444444444,\"#bd3786\"],[0.5555555555555556,\"#d8576b\"],[0.6666666666666666,\"#ed7953\"],[0.7777777777777778,\"#fb9f3a\"],[0.8888888888888888,\"#fdca26\"],[1.0,\"#f0f921\"]],\"sequentialminus\":[[0.0,\"#0d0887\"],[0.1111111111111111,\"#46039f\"],[0.2222222222222222,\"#7201a8\"],[0.3333333333333333,\"#9c179e\"],[0.4444444444444444,\"#bd3786\"],[0.5555555555555556,\"#d8576b\"],[0.6666666666666666,\"#ed7953\"],[0.7777777777777778,\"#fb9f3a\"],[0.8888888888888888,\"#fdca26\"],[1.0,\"#f0f921\"]]},\"colorway\":[\"#636efa\",\"#EF553B\",\"#00cc96\",\"#ab63fa\",\"#FFA15A\",\"#19d3f3\",\"#FF6692\",\"#B6E880\",\"#FF97FF\",\"#FECB52\"],\"font\":{\"color\":\"#2a3f5f\"},\"geo\":{\"bgcolor\":\"white\",\"lakecolor\":\"white\",\"landcolor\":\"white\",\"showlakes\":true,\"showland\":true,\"subunitcolor\":\"#C8D4E3\"},\"hoverlabel\":{\"align\":\"left\"},\"hovermode\":\"closest\",\"mapbox\":{\"style\":\"light\"},\"paper_bgcolor\":\"white\",\"plot_bgcolor\":\"white\",\"polar\":{\"angularaxis\":{\"gridcolor\":\"#EBF0F8\",\"linecolor\":\"#EBF0F8\",\"ticks\":\"\"},\"bgcolor\":\"white\",\"radialaxis\":{\"gridcolor\":\"#EBF0F8\",\"linecolor\":\"#EBF0F8\",\"ticks\":\"\"}},\"scene\":{\"xaxis\":{\"backgroundcolor\":\"white\",\"gridcolor\":\"#DFE8F3\",\"gridwidth\":2,\"linecolor\":\"#EBF0F8\",\"showbackground\":true,\"ticks\":\"\",\"zerolinecolor\":\"#EBF0F8\"},\"yaxis\":{\"backgroundcolor\":\"white\",\"gridcolor\":\"#DFE8F3\",\"gridwidth\":2,\"linecolor\":\"#EBF0F8\",\"showbackground\":true,\"ticks\":\"\",\"zerolinecolor\":\"#EBF0F8\"},\"zaxis\":{\"backgroundcolor\":\"white\",\"gridcolor\":\"#DFE8F3\",\"gridwidth\":2,\"linecolor\":\"#EBF0F8\",\"showbackground\":true,\"ticks\":\"\",\"zerolinecolor\":\"#EBF0F8\"}},\"shapedefaults\":{\"line\":{\"color\":\"#2a3f5f\"}},\"ternary\":{\"aaxis\":{\"gridcolor\":\"#DFE8F3\",\"linecolor\":\"#A2B1C6\",\"ticks\":\"\"},\"baxis\":{\"gridcolor\":\"#DFE8F3\",\"linecolor\":\"#A2B1C6\",\"ticks\":\"\"},\"bgcolor\":\"white\",\"caxis\":{\"gridcolor\":\"#DFE8F3\",\"linecolor\":\"#A2B1C6\",\"ticks\":\"\"}},\"title\":{\"x\":0.05},\"xaxis\":{\"automargin\":true,\"gridcolor\":\"#EBF0F8\",\"linecolor\":\"#EBF0F8\",\"ticks\":\"\",\"title\":{\"standoff\":15},\"zerolinecolor\":\"#EBF0F8\",\"zerolinewidth\":2},\"yaxis\":{\"automargin\":true,\"gridcolor\":\"#EBF0F8\",\"linecolor\":\"#EBF0F8\",\"ticks\":\"\",\"title\":{\"standoff\":15},\"zerolinecolor\":\"#EBF0F8\",\"zerolinewidth\":2}}}},                        {\"responsive\": true}                    ).then(function(){\n",
       "                            \n",
       "var gd = document.getElementById('d20cc3f8-076c-476e-960e-9e28814cb869');\n",
       "var x = new MutationObserver(function (mutations, observer) {{\n",
       "        var display = window.getComputedStyle(gd).display;\n",
       "        if (!display || display === 'none') {{\n",
       "            console.log([gd, 'removed!']);\n",
       "            Plotly.purge(gd);\n",
       "            observer.disconnect();\n",
       "        }}\n",
       "}});\n",
       "\n",
       "// Listen for the removal of the full notebook cells\n",
       "var notebookContainer = gd.closest('#notebook-container');\n",
       "if (notebookContainer) {{\n",
       "    x.observe(notebookContainer, {childList: true});\n",
       "}}\n",
       "\n",
       "// Listen for the clearing of the current output cell\n",
       "var outputEl = gd.closest('.output');\n",
       "if (outputEl) {{\n",
       "    x.observe(outputEl, {childList: true});\n",
       "}}\n",
       "\n",
       "                        })                };                });            </script>        </div>"
      ]
     },
     "metadata": {},
     "output_type": "display_data"
    }
   ],
   "source": [
    "c = c_data['borrower_retention']\n",
    "c_fcast = power_fcast(c_data)\n",
    "\n",
    "fig = go.Figure([\n",
    "    go.Scatter(x=c.index, y=c, mode='markers+lines'),\n",
    "    go.Scatter(x=times, y=c_fcast)\n",
    "])\n",
    "fig.show()"
   ]
  },
  {
   "cell_type": "code",
   "execution_count": 92,
   "id": "53a4ac84",
   "metadata": {},
   "outputs": [
    {
     "data": {
      "application/vnd.plotly.v1+json": {
       "config": {
        "plotlyServerURL": "https://plot.ly"
       },
       "data": [
        {
         "name": "2020-09",
         "type": "bar",
         "x": [
          "2020-09"
         ],
         "y": [
          0.11901982704633157
         ]
        },
        {
         "name": "2020-10",
         "type": "bar",
         "x": [
          "2020-10"
         ],
         "y": [
          0.1422858466645614
         ]
        },
        {
         "name": "2020-11",
         "type": "bar",
         "x": [
          "2020-11"
         ],
         "y": [
          0.10490609991421596
         ]
        },
        {
         "name": "2020-12",
         "type": "bar",
         "x": [
          "2020-12"
         ],
         "y": [
          0.0949886289384666
         ]
        },
        {
         "name": "2021-01",
         "type": "bar",
         "x": [
          "2021-01"
         ],
         "y": [
          0.1754382430653722
         ]
        },
        {
         "name": "2021-02",
         "type": "bar",
         "x": [
          "2021-02"
         ],
         "y": [
          0.1042260795788888
         ]
        },
        {
         "name": "2021-03",
         "type": "bar",
         "x": [
          "2021-03"
         ],
         "y": [
          0.2501951583843502
         ]
        },
        {
         "name": "2021-04",
         "type": "bar",
         "x": [
          "2021-04"
         ],
         "y": [
          0.19840089517551512
         ]
        }
       ],
       "layout": {
        "template": {
         "data": {
          "bar": [
           {
            "error_x": {
             "color": "#2a3f5f"
            },
            "error_y": {
             "color": "#2a3f5f"
            },
            "marker": {
             "line": {
              "color": "white",
              "width": 0.5
             },
             "pattern": {
              "fillmode": "overlay",
              "size": 10,
              "solidity": 0.2
             }
            },
            "type": "bar"
           }
          ],
          "barpolar": [
           {
            "marker": {
             "line": {
              "color": "white",
              "width": 0.5
             },
             "pattern": {
              "fillmode": "overlay",
              "size": 10,
              "solidity": 0.2
             }
            },
            "type": "barpolar"
           }
          ],
          "carpet": [
           {
            "aaxis": {
             "endlinecolor": "#2a3f5f",
             "gridcolor": "#C8D4E3",
             "linecolor": "#C8D4E3",
             "minorgridcolor": "#C8D4E3",
             "startlinecolor": "#2a3f5f"
            },
            "baxis": {
             "endlinecolor": "#2a3f5f",
             "gridcolor": "#C8D4E3",
             "linecolor": "#C8D4E3",
             "minorgridcolor": "#C8D4E3",
             "startlinecolor": "#2a3f5f"
            },
            "type": "carpet"
           }
          ],
          "choropleth": [
           {
            "colorbar": {
             "outlinewidth": 0,
             "ticks": ""
            },
            "type": "choropleth"
           }
          ],
          "contour": [
           {
            "colorbar": {
             "outlinewidth": 0,
             "ticks": ""
            },
            "colorscale": [
             [
              0,
              "#0d0887"
             ],
             [
              0.1111111111111111,
              "#46039f"
             ],
             [
              0.2222222222222222,
              "#7201a8"
             ],
             [
              0.3333333333333333,
              "#9c179e"
             ],
             [
              0.4444444444444444,
              "#bd3786"
             ],
             [
              0.5555555555555556,
              "#d8576b"
             ],
             [
              0.6666666666666666,
              "#ed7953"
             ],
             [
              0.7777777777777778,
              "#fb9f3a"
             ],
             [
              0.8888888888888888,
              "#fdca26"
             ],
             [
              1,
              "#f0f921"
             ]
            ],
            "type": "contour"
           }
          ],
          "contourcarpet": [
           {
            "colorbar": {
             "outlinewidth": 0,
             "ticks": ""
            },
            "type": "contourcarpet"
           }
          ],
          "heatmap": [
           {
            "colorbar": {
             "outlinewidth": 0,
             "ticks": ""
            },
            "colorscale": [
             [
              0,
              "#0d0887"
             ],
             [
              0.1111111111111111,
              "#46039f"
             ],
             [
              0.2222222222222222,
              "#7201a8"
             ],
             [
              0.3333333333333333,
              "#9c179e"
             ],
             [
              0.4444444444444444,
              "#bd3786"
             ],
             [
              0.5555555555555556,
              "#d8576b"
             ],
             [
              0.6666666666666666,
              "#ed7953"
             ],
             [
              0.7777777777777778,
              "#fb9f3a"
             ],
             [
              0.8888888888888888,
              "#fdca26"
             ],
             [
              1,
              "#f0f921"
             ]
            ],
            "type": "heatmap"
           }
          ],
          "heatmapgl": [
           {
            "colorbar": {
             "outlinewidth": 0,
             "ticks": ""
            },
            "colorscale": [
             [
              0,
              "#0d0887"
             ],
             [
              0.1111111111111111,
              "#46039f"
             ],
             [
              0.2222222222222222,
              "#7201a8"
             ],
             [
              0.3333333333333333,
              "#9c179e"
             ],
             [
              0.4444444444444444,
              "#bd3786"
             ],
             [
              0.5555555555555556,
              "#d8576b"
             ],
             [
              0.6666666666666666,
              "#ed7953"
             ],
             [
              0.7777777777777778,
              "#fb9f3a"
             ],
             [
              0.8888888888888888,
              "#fdca26"
             ],
             [
              1,
              "#f0f921"
             ]
            ],
            "type": "heatmapgl"
           }
          ],
          "histogram": [
           {
            "marker": {
             "pattern": {
              "fillmode": "overlay",
              "size": 10,
              "solidity": 0.2
             }
            },
            "type": "histogram"
           }
          ],
          "histogram2d": [
           {
            "colorbar": {
             "outlinewidth": 0,
             "ticks": ""
            },
            "colorscale": [
             [
              0,
              "#0d0887"
             ],
             [
              0.1111111111111111,
              "#46039f"
             ],
             [
              0.2222222222222222,
              "#7201a8"
             ],
             [
              0.3333333333333333,
              "#9c179e"
             ],
             [
              0.4444444444444444,
              "#bd3786"
             ],
             [
              0.5555555555555556,
              "#d8576b"
             ],
             [
              0.6666666666666666,
              "#ed7953"
             ],
             [
              0.7777777777777778,
              "#fb9f3a"
             ],
             [
              0.8888888888888888,
              "#fdca26"
             ],
             [
              1,
              "#f0f921"
             ]
            ],
            "type": "histogram2d"
           }
          ],
          "histogram2dcontour": [
           {
            "colorbar": {
             "outlinewidth": 0,
             "ticks": ""
            },
            "colorscale": [
             [
              0,
              "#0d0887"
             ],
             [
              0.1111111111111111,
              "#46039f"
             ],
             [
              0.2222222222222222,
              "#7201a8"
             ],
             [
              0.3333333333333333,
              "#9c179e"
             ],
             [
              0.4444444444444444,
              "#bd3786"
             ],
             [
              0.5555555555555556,
              "#d8576b"
             ],
             [
              0.6666666666666666,
              "#ed7953"
             ],
             [
              0.7777777777777778,
              "#fb9f3a"
             ],
             [
              0.8888888888888888,
              "#fdca26"
             ],
             [
              1,
              "#f0f921"
             ]
            ],
            "type": "histogram2dcontour"
           }
          ],
          "mesh3d": [
           {
            "colorbar": {
             "outlinewidth": 0,
             "ticks": ""
            },
            "type": "mesh3d"
           }
          ],
          "parcoords": [
           {
            "line": {
             "colorbar": {
              "outlinewidth": 0,
              "ticks": ""
             }
            },
            "type": "parcoords"
           }
          ],
          "pie": [
           {
            "automargin": true,
            "type": "pie"
           }
          ],
          "scatter": [
           {
            "marker": {
             "colorbar": {
              "outlinewidth": 0,
              "ticks": ""
             }
            },
            "type": "scatter"
           }
          ],
          "scatter3d": [
           {
            "line": {
             "colorbar": {
              "outlinewidth": 0,
              "ticks": ""
             }
            },
            "marker": {
             "colorbar": {
              "outlinewidth": 0,
              "ticks": ""
             }
            },
            "type": "scatter3d"
           }
          ],
          "scattercarpet": [
           {
            "marker": {
             "colorbar": {
              "outlinewidth": 0,
              "ticks": ""
             }
            },
            "type": "scattercarpet"
           }
          ],
          "scattergeo": [
           {
            "marker": {
             "colorbar": {
              "outlinewidth": 0,
              "ticks": ""
             }
            },
            "type": "scattergeo"
           }
          ],
          "scattergl": [
           {
            "marker": {
             "colorbar": {
              "outlinewidth": 0,
              "ticks": ""
             }
            },
            "type": "scattergl"
           }
          ],
          "scattermapbox": [
           {
            "marker": {
             "colorbar": {
              "outlinewidth": 0,
              "ticks": ""
             }
            },
            "type": "scattermapbox"
           }
          ],
          "scatterpolar": [
           {
            "marker": {
             "colorbar": {
              "outlinewidth": 0,
              "ticks": ""
             }
            },
            "type": "scatterpolar"
           }
          ],
          "scatterpolargl": [
           {
            "marker": {
             "colorbar": {
              "outlinewidth": 0,
              "ticks": ""
             }
            },
            "type": "scatterpolargl"
           }
          ],
          "scatterternary": [
           {
            "marker": {
             "colorbar": {
              "outlinewidth": 0,
              "ticks": ""
             }
            },
            "type": "scatterternary"
           }
          ],
          "surface": [
           {
            "colorbar": {
             "outlinewidth": 0,
             "ticks": ""
            },
            "colorscale": [
             [
              0,
              "#0d0887"
             ],
             [
              0.1111111111111111,
              "#46039f"
             ],
             [
              0.2222222222222222,
              "#7201a8"
             ],
             [
              0.3333333333333333,
              "#9c179e"
             ],
             [
              0.4444444444444444,
              "#bd3786"
             ],
             [
              0.5555555555555556,
              "#d8576b"
             ],
             [
              0.6666666666666666,
              "#ed7953"
             ],
             [
              0.7777777777777778,
              "#fb9f3a"
             ],
             [
              0.8888888888888888,
              "#fdca26"
             ],
             [
              1,
              "#f0f921"
             ]
            ],
            "type": "surface"
           }
          ],
          "table": [
           {
            "cells": {
             "fill": {
              "color": "#EBF0F8"
             },
             "line": {
              "color": "white"
             }
            },
            "header": {
             "fill": {
              "color": "#C8D4E3"
             },
             "line": {
              "color": "white"
             }
            },
            "type": "table"
           }
          ]
         },
         "layout": {
          "annotationdefaults": {
           "arrowcolor": "#2a3f5f",
           "arrowhead": 0,
           "arrowwidth": 1
          },
          "autotypenumbers": "strict",
          "coloraxis": {
           "colorbar": {
            "outlinewidth": 0,
            "ticks": ""
           }
          },
          "colorscale": {
           "diverging": [
            [
             0,
             "#8e0152"
            ],
            [
             0.1,
             "#c51b7d"
            ],
            [
             0.2,
             "#de77ae"
            ],
            [
             0.3,
             "#f1b6da"
            ],
            [
             0.4,
             "#fde0ef"
            ],
            [
             0.5,
             "#f7f7f7"
            ],
            [
             0.6,
             "#e6f5d0"
            ],
            [
             0.7,
             "#b8e186"
            ],
            [
             0.8,
             "#7fbc41"
            ],
            [
             0.9,
             "#4d9221"
            ],
            [
             1,
             "#276419"
            ]
           ],
           "sequential": [
            [
             0,
             "#0d0887"
            ],
            [
             0.1111111111111111,
             "#46039f"
            ],
            [
             0.2222222222222222,
             "#7201a8"
            ],
            [
             0.3333333333333333,
             "#9c179e"
            ],
            [
             0.4444444444444444,
             "#bd3786"
            ],
            [
             0.5555555555555556,
             "#d8576b"
            ],
            [
             0.6666666666666666,
             "#ed7953"
            ],
            [
             0.7777777777777778,
             "#fb9f3a"
            ],
            [
             0.8888888888888888,
             "#fdca26"
            ],
            [
             1,
             "#f0f921"
            ]
           ],
           "sequentialminus": [
            [
             0,
             "#0d0887"
            ],
            [
             0.1111111111111111,
             "#46039f"
            ],
            [
             0.2222222222222222,
             "#7201a8"
            ],
            [
             0.3333333333333333,
             "#9c179e"
            ],
            [
             0.4444444444444444,
             "#bd3786"
            ],
            [
             0.5555555555555556,
             "#d8576b"
            ],
            [
             0.6666666666666666,
             "#ed7953"
            ],
            [
             0.7777777777777778,
             "#fb9f3a"
            ],
            [
             0.8888888888888888,
             "#fdca26"
            ],
            [
             1,
             "#f0f921"
            ]
           ]
          },
          "colorway": [
           "#636efa",
           "#EF553B",
           "#00cc96",
           "#ab63fa",
           "#FFA15A",
           "#19d3f3",
           "#FF6692",
           "#B6E880",
           "#FF97FF",
           "#FECB52"
          ],
          "font": {
           "color": "#2a3f5f"
          },
          "geo": {
           "bgcolor": "white",
           "lakecolor": "white",
           "landcolor": "white",
           "showlakes": true,
           "showland": true,
           "subunitcolor": "#C8D4E3"
          },
          "hoverlabel": {
           "align": "left"
          },
          "hovermode": "closest",
          "mapbox": {
           "style": "light"
          },
          "paper_bgcolor": "white",
          "plot_bgcolor": "white",
          "polar": {
           "angularaxis": {
            "gridcolor": "#EBF0F8",
            "linecolor": "#EBF0F8",
            "ticks": ""
           },
           "bgcolor": "white",
           "radialaxis": {
            "gridcolor": "#EBF0F8",
            "linecolor": "#EBF0F8",
            "ticks": ""
           }
          },
          "scene": {
           "xaxis": {
            "backgroundcolor": "white",
            "gridcolor": "#DFE8F3",
            "gridwidth": 2,
            "linecolor": "#EBF0F8",
            "showbackground": true,
            "ticks": "",
            "zerolinecolor": "#EBF0F8"
           },
           "yaxis": {
            "backgroundcolor": "white",
            "gridcolor": "#DFE8F3",
            "gridwidth": 2,
            "linecolor": "#EBF0F8",
            "showbackground": true,
            "ticks": "",
            "zerolinecolor": "#EBF0F8"
           },
           "zaxis": {
            "backgroundcolor": "white",
            "gridcolor": "#DFE8F3",
            "gridwidth": 2,
            "linecolor": "#EBF0F8",
            "showbackground": true,
            "ticks": "",
            "zerolinecolor": "#EBF0F8"
           }
          },
          "shapedefaults": {
           "line": {
            "color": "#2a3f5f"
           }
          },
          "ternary": {
           "aaxis": {
            "gridcolor": "#DFE8F3",
            "linecolor": "#A2B1C6",
            "ticks": ""
           },
           "baxis": {
            "gridcolor": "#DFE8F3",
            "linecolor": "#A2B1C6",
            "ticks": ""
           },
           "bgcolor": "white",
           "caxis": {
            "gridcolor": "#DFE8F3",
            "linecolor": "#A2B1C6",
            "ticks": ""
           }
          },
          "title": {
           "x": 0.05
          },
          "xaxis": {
           "automargin": true,
           "gridcolor": "#EBF0F8",
           "linecolor": "#EBF0F8",
           "ticks": "",
           "title": {
            "standoff": 15
           },
           "zerolinecolor": "#EBF0F8",
           "zerolinewidth": 2
          },
          "yaxis": {
           "automargin": true,
           "gridcolor": "#EBF0F8",
           "linecolor": "#EBF0F8",
           "ticks": "",
           "title": {
            "standoff": 15
           },
           "zerolinecolor": "#EBF0F8",
           "zerolinewidth": 2
          }
         }
        },
        "title": {
         "text": "6 Month Backtest - MPE"
        },
        "xaxis": {
         "title": {
          "text": "Month Since Disbursement"
         }
        },
        "yaxis": {
         "title": {
          "text": "borrower_retention-mpe"
         }
        }
       }
      },
      "text/html": [
       "<div>                            <div id=\"303afe21-6a30-43bd-a1fc-7229d707953e\" class=\"plotly-graph-div\" style=\"height:525px; width:100%;\"></div>            <script type=\"text/javascript\">                require([\"plotly\"], function(Plotly) {                    window.PLOTLYENV=window.PLOTLYENV || {};                                    if (document.getElementById(\"303afe21-6a30-43bd-a1fc-7229d707953e\")) {                    Plotly.newPlot(                        \"303afe21-6a30-43bd-a1fc-7229d707953e\",                        [{\"name\":\"2020-09\",\"type\":\"bar\",\"x\":[\"2020-09\"],\"y\":[0.11901982704633157]},{\"name\":\"2020-10\",\"type\":\"bar\",\"x\":[\"2020-10\"],\"y\":[0.1422858466645614]},{\"name\":\"2020-11\",\"type\":\"bar\",\"x\":[\"2020-11\"],\"y\":[0.10490609991421596]},{\"name\":\"2020-12\",\"type\":\"bar\",\"x\":[\"2020-12\"],\"y\":[0.0949886289384666]},{\"name\":\"2021-01\",\"type\":\"bar\",\"x\":[\"2021-01\"],\"y\":[0.1754382430653722]},{\"name\":\"2021-02\",\"type\":\"bar\",\"x\":[\"2021-02\"],\"y\":[0.1042260795788888]},{\"name\":\"2021-03\",\"type\":\"bar\",\"x\":[\"2021-03\"],\"y\":[0.2501951583843502]},{\"name\":\"2021-04\",\"type\":\"bar\",\"x\":[\"2021-04\"],\"y\":[0.19840089517551512]}],                        {\"template\":{\"data\":{\"bar\":[{\"error_x\":{\"color\":\"#2a3f5f\"},\"error_y\":{\"color\":\"#2a3f5f\"},\"marker\":{\"line\":{\"color\":\"white\",\"width\":0.5},\"pattern\":{\"fillmode\":\"overlay\",\"size\":10,\"solidity\":0.2}},\"type\":\"bar\"}],\"barpolar\":[{\"marker\":{\"line\":{\"color\":\"white\",\"width\":0.5},\"pattern\":{\"fillmode\":\"overlay\",\"size\":10,\"solidity\":0.2}},\"type\":\"barpolar\"}],\"carpet\":[{\"aaxis\":{\"endlinecolor\":\"#2a3f5f\",\"gridcolor\":\"#C8D4E3\",\"linecolor\":\"#C8D4E3\",\"minorgridcolor\":\"#C8D4E3\",\"startlinecolor\":\"#2a3f5f\"},\"baxis\":{\"endlinecolor\":\"#2a3f5f\",\"gridcolor\":\"#C8D4E3\",\"linecolor\":\"#C8D4E3\",\"minorgridcolor\":\"#C8D4E3\",\"startlinecolor\":\"#2a3f5f\"},\"type\":\"carpet\"}],\"choropleth\":[{\"colorbar\":{\"outlinewidth\":0,\"ticks\":\"\"},\"type\":\"choropleth\"}],\"contour\":[{\"colorbar\":{\"outlinewidth\":0,\"ticks\":\"\"},\"colorscale\":[[0.0,\"#0d0887\"],[0.1111111111111111,\"#46039f\"],[0.2222222222222222,\"#7201a8\"],[0.3333333333333333,\"#9c179e\"],[0.4444444444444444,\"#bd3786\"],[0.5555555555555556,\"#d8576b\"],[0.6666666666666666,\"#ed7953\"],[0.7777777777777778,\"#fb9f3a\"],[0.8888888888888888,\"#fdca26\"],[1.0,\"#f0f921\"]],\"type\":\"contour\"}],\"contourcarpet\":[{\"colorbar\":{\"outlinewidth\":0,\"ticks\":\"\"},\"type\":\"contourcarpet\"}],\"heatmap\":[{\"colorbar\":{\"outlinewidth\":0,\"ticks\":\"\"},\"colorscale\":[[0.0,\"#0d0887\"],[0.1111111111111111,\"#46039f\"],[0.2222222222222222,\"#7201a8\"],[0.3333333333333333,\"#9c179e\"],[0.4444444444444444,\"#bd3786\"],[0.5555555555555556,\"#d8576b\"],[0.6666666666666666,\"#ed7953\"],[0.7777777777777778,\"#fb9f3a\"],[0.8888888888888888,\"#fdca26\"],[1.0,\"#f0f921\"]],\"type\":\"heatmap\"}],\"heatmapgl\":[{\"colorbar\":{\"outlinewidth\":0,\"ticks\":\"\"},\"colorscale\":[[0.0,\"#0d0887\"],[0.1111111111111111,\"#46039f\"],[0.2222222222222222,\"#7201a8\"],[0.3333333333333333,\"#9c179e\"],[0.4444444444444444,\"#bd3786\"],[0.5555555555555556,\"#d8576b\"],[0.6666666666666666,\"#ed7953\"],[0.7777777777777778,\"#fb9f3a\"],[0.8888888888888888,\"#fdca26\"],[1.0,\"#f0f921\"]],\"type\":\"heatmapgl\"}],\"histogram\":[{\"marker\":{\"pattern\":{\"fillmode\":\"overlay\",\"size\":10,\"solidity\":0.2}},\"type\":\"histogram\"}],\"histogram2d\":[{\"colorbar\":{\"outlinewidth\":0,\"ticks\":\"\"},\"colorscale\":[[0.0,\"#0d0887\"],[0.1111111111111111,\"#46039f\"],[0.2222222222222222,\"#7201a8\"],[0.3333333333333333,\"#9c179e\"],[0.4444444444444444,\"#bd3786\"],[0.5555555555555556,\"#d8576b\"],[0.6666666666666666,\"#ed7953\"],[0.7777777777777778,\"#fb9f3a\"],[0.8888888888888888,\"#fdca26\"],[1.0,\"#f0f921\"]],\"type\":\"histogram2d\"}],\"histogram2dcontour\":[{\"colorbar\":{\"outlinewidth\":0,\"ticks\":\"\"},\"colorscale\":[[0.0,\"#0d0887\"],[0.1111111111111111,\"#46039f\"],[0.2222222222222222,\"#7201a8\"],[0.3333333333333333,\"#9c179e\"],[0.4444444444444444,\"#bd3786\"],[0.5555555555555556,\"#d8576b\"],[0.6666666666666666,\"#ed7953\"],[0.7777777777777778,\"#fb9f3a\"],[0.8888888888888888,\"#fdca26\"],[1.0,\"#f0f921\"]],\"type\":\"histogram2dcontour\"}],\"mesh3d\":[{\"colorbar\":{\"outlinewidth\":0,\"ticks\":\"\"},\"type\":\"mesh3d\"}],\"parcoords\":[{\"line\":{\"colorbar\":{\"outlinewidth\":0,\"ticks\":\"\"}},\"type\":\"parcoords\"}],\"pie\":[{\"automargin\":true,\"type\":\"pie\"}],\"scatter\":[{\"marker\":{\"colorbar\":{\"outlinewidth\":0,\"ticks\":\"\"}},\"type\":\"scatter\"}],\"scatter3d\":[{\"line\":{\"colorbar\":{\"outlinewidth\":0,\"ticks\":\"\"}},\"marker\":{\"colorbar\":{\"outlinewidth\":0,\"ticks\":\"\"}},\"type\":\"scatter3d\"}],\"scattercarpet\":[{\"marker\":{\"colorbar\":{\"outlinewidth\":0,\"ticks\":\"\"}},\"type\":\"scattercarpet\"}],\"scattergeo\":[{\"marker\":{\"colorbar\":{\"outlinewidth\":0,\"ticks\":\"\"}},\"type\":\"scattergeo\"}],\"scattergl\":[{\"marker\":{\"colorbar\":{\"outlinewidth\":0,\"ticks\":\"\"}},\"type\":\"scattergl\"}],\"scattermapbox\":[{\"marker\":{\"colorbar\":{\"outlinewidth\":0,\"ticks\":\"\"}},\"type\":\"scattermapbox\"}],\"scatterpolar\":[{\"marker\":{\"colorbar\":{\"outlinewidth\":0,\"ticks\":\"\"}},\"type\":\"scatterpolar\"}],\"scatterpolargl\":[{\"marker\":{\"colorbar\":{\"outlinewidth\":0,\"ticks\":\"\"}},\"type\":\"scatterpolargl\"}],\"scatterternary\":[{\"marker\":{\"colorbar\":{\"outlinewidth\":0,\"ticks\":\"\"}},\"type\":\"scatterternary\"}],\"surface\":[{\"colorbar\":{\"outlinewidth\":0,\"ticks\":\"\"},\"colorscale\":[[0.0,\"#0d0887\"],[0.1111111111111111,\"#46039f\"],[0.2222222222222222,\"#7201a8\"],[0.3333333333333333,\"#9c179e\"],[0.4444444444444444,\"#bd3786\"],[0.5555555555555556,\"#d8576b\"],[0.6666666666666666,\"#ed7953\"],[0.7777777777777778,\"#fb9f3a\"],[0.8888888888888888,\"#fdca26\"],[1.0,\"#f0f921\"]],\"type\":\"surface\"}],\"table\":[{\"cells\":{\"fill\":{\"color\":\"#EBF0F8\"},\"line\":{\"color\":\"white\"}},\"header\":{\"fill\":{\"color\":\"#C8D4E3\"},\"line\":{\"color\":\"white\"}},\"type\":\"table\"}]},\"layout\":{\"annotationdefaults\":{\"arrowcolor\":\"#2a3f5f\",\"arrowhead\":0,\"arrowwidth\":1},\"autotypenumbers\":\"strict\",\"coloraxis\":{\"colorbar\":{\"outlinewidth\":0,\"ticks\":\"\"}},\"colorscale\":{\"diverging\":[[0,\"#8e0152\"],[0.1,\"#c51b7d\"],[0.2,\"#de77ae\"],[0.3,\"#f1b6da\"],[0.4,\"#fde0ef\"],[0.5,\"#f7f7f7\"],[0.6,\"#e6f5d0\"],[0.7,\"#b8e186\"],[0.8,\"#7fbc41\"],[0.9,\"#4d9221\"],[1,\"#276419\"]],\"sequential\":[[0.0,\"#0d0887\"],[0.1111111111111111,\"#46039f\"],[0.2222222222222222,\"#7201a8\"],[0.3333333333333333,\"#9c179e\"],[0.4444444444444444,\"#bd3786\"],[0.5555555555555556,\"#d8576b\"],[0.6666666666666666,\"#ed7953\"],[0.7777777777777778,\"#fb9f3a\"],[0.8888888888888888,\"#fdca26\"],[1.0,\"#f0f921\"]],\"sequentialminus\":[[0.0,\"#0d0887\"],[0.1111111111111111,\"#46039f\"],[0.2222222222222222,\"#7201a8\"],[0.3333333333333333,\"#9c179e\"],[0.4444444444444444,\"#bd3786\"],[0.5555555555555556,\"#d8576b\"],[0.6666666666666666,\"#ed7953\"],[0.7777777777777778,\"#fb9f3a\"],[0.8888888888888888,\"#fdca26\"],[1.0,\"#f0f921\"]]},\"colorway\":[\"#636efa\",\"#EF553B\",\"#00cc96\",\"#ab63fa\",\"#FFA15A\",\"#19d3f3\",\"#FF6692\",\"#B6E880\",\"#FF97FF\",\"#FECB52\"],\"font\":{\"color\":\"#2a3f5f\"},\"geo\":{\"bgcolor\":\"white\",\"lakecolor\":\"white\",\"landcolor\":\"white\",\"showlakes\":true,\"showland\":true,\"subunitcolor\":\"#C8D4E3\"},\"hoverlabel\":{\"align\":\"left\"},\"hovermode\":\"closest\",\"mapbox\":{\"style\":\"light\"},\"paper_bgcolor\":\"white\",\"plot_bgcolor\":\"white\",\"polar\":{\"angularaxis\":{\"gridcolor\":\"#EBF0F8\",\"linecolor\":\"#EBF0F8\",\"ticks\":\"\"},\"bgcolor\":\"white\",\"radialaxis\":{\"gridcolor\":\"#EBF0F8\",\"linecolor\":\"#EBF0F8\",\"ticks\":\"\"}},\"scene\":{\"xaxis\":{\"backgroundcolor\":\"white\",\"gridcolor\":\"#DFE8F3\",\"gridwidth\":2,\"linecolor\":\"#EBF0F8\",\"showbackground\":true,\"ticks\":\"\",\"zerolinecolor\":\"#EBF0F8\"},\"yaxis\":{\"backgroundcolor\":\"white\",\"gridcolor\":\"#DFE8F3\",\"gridwidth\":2,\"linecolor\":\"#EBF0F8\",\"showbackground\":true,\"ticks\":\"\",\"zerolinecolor\":\"#EBF0F8\"},\"zaxis\":{\"backgroundcolor\":\"white\",\"gridcolor\":\"#DFE8F3\",\"gridwidth\":2,\"linecolor\":\"#EBF0F8\",\"showbackground\":true,\"ticks\":\"\",\"zerolinecolor\":\"#EBF0F8\"}},\"shapedefaults\":{\"line\":{\"color\":\"#2a3f5f\"}},\"ternary\":{\"aaxis\":{\"gridcolor\":\"#DFE8F3\",\"linecolor\":\"#A2B1C6\",\"ticks\":\"\"},\"baxis\":{\"gridcolor\":\"#DFE8F3\",\"linecolor\":\"#A2B1C6\",\"ticks\":\"\"},\"bgcolor\":\"white\",\"caxis\":{\"gridcolor\":\"#DFE8F3\",\"linecolor\":\"#A2B1C6\",\"ticks\":\"\"}},\"title\":{\"x\":0.05},\"xaxis\":{\"automargin\":true,\"gridcolor\":\"#EBF0F8\",\"linecolor\":\"#EBF0F8\",\"ticks\":\"\",\"title\":{\"standoff\":15},\"zerolinecolor\":\"#EBF0F8\",\"zerolinewidth\":2},\"yaxis\":{\"automargin\":true,\"gridcolor\":\"#EBF0F8\",\"linecolor\":\"#EBF0F8\",\"ticks\":\"\",\"title\":{\"standoff\":15},\"zerolinecolor\":\"#EBF0F8\",\"zerolinewidth\":2}}},\"title\":{\"text\":\"6 Month Backtest - MPE\"},\"xaxis\":{\"title\":{\"text\":\"Month Since Disbursement\"}},\"yaxis\":{\"title\":{\"text\":\"borrower_retention-mpe\"}}},                        {\"responsive\": true}                    ).then(function(){\n",
       "                            \n",
       "var gd = document.getElementById('303afe21-6a30-43bd-a1fc-7229d707953e');\n",
       "var x = new MutationObserver(function (mutations, observer) {{\n",
       "        var display = window.getComputedStyle(gd).display;\n",
       "        if (!display || display === 'none') {{\n",
       "            console.log([gd, 'removed!']);\n",
       "            Plotly.purge(gd);\n",
       "            observer.disconnect();\n",
       "        }}\n",
       "}});\n",
       "\n",
       "// Listen for the removal of the full notebook cells\n",
       "var notebookContainer = gd.closest('#notebook-container');\n",
       "if (notebookContainer) {{\n",
       "    x.observe(notebookContainer, {childList: true});\n",
       "}}\n",
       "\n",
       "// Listen for the clearing of the current output cell\n",
       "var outputEl = gd.closest('.output');\n",
       "if (outputEl) {{\n",
       "    x.observe(outputEl, {childList: true});\n",
       "}}\n",
       "\n",
       "                        })                };                });            </script>        </div>"
      ]
     },
     "metadata": {},
     "output_type": "display_data"
    }
   ],
   "source": [
    "# visualize cohorts for a given feature\n",
    "m.plot_cohorts('borrower_retention-mpe', data='backtest_report')"
   ]
  },
  {
   "cell_type": "code",
   "execution_count": null,
   "id": "d173a2cc",
   "metadata": {},
   "outputs": [],
   "source": []
  }
 ],
 "metadata": {
  "kernelspec": {
   "display_name": "Python 3 (ipykernel)",
   "language": "python",
   "name": "python3"
  },
  "language_info": {
   "codemirror_mode": {
    "name": "ipython",
    "version": 3
   },
   "file_extension": ".py",
   "mimetype": "text/x-python",
   "name": "python",
   "nbconvert_exporter": "python",
   "pygments_lexer": "ipython3",
   "version": "3.9.7"
  }
 },
 "nbformat": 4,
 "nbformat_minor": 5
}
