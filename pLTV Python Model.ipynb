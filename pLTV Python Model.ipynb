{
 "cells": [
  {
   "cell_type": "markdown",
   "id": "1738c702",
   "metadata": {},
   "source": [
    "# pLTV Python Model"
   ]
  },
  {
   "cell_type": "markdown",
   "id": "a6306da1",
   "metadata": {},
   "source": [
    "#### Resources"
   ]
  },
  {
   "cell_type": "markdown",
   "id": "71408ea4",
   "metadata": {},
   "source": [
    "Github repo\n",
    "https://github.com/kliao-tala/pLTV\n",
    "\n",
    "Fader & Hardie paper on sBG model\n",
    "https://drive.google.com/file/d/1tfMiERon1HgWo8dDJddwSzwc_AXK7LCA/view?usp=sharing\n",
    "https://faculty.wharton.upenn.edu/wp-content/uploads/2012/04/Fader_hardie_jim_07.pdf\n",
    "\n",
    "YT tutorial to pull look data\n",
    "https://www.youtube.com/watch?v=EKwtLBnwXHk&list=PLXwS3L4W3KR2fhnQa-sLyajPZ9-L00KGX&index=1\n",
    "\n",
    "Looker Python SDK & API\n",
    "https://inventure.looker.com/extensions/marketplace_extension_api_explorer::api-explorer/4.0"
   ]
  },
  {
   "cell_type": "markdown",
   "id": "a2848eca",
   "metadata": {},
   "source": [
    "---"
   ]
  },
  {
   "cell_type": "code",
   "execution_count": 1,
   "id": "bdd8940e",
   "metadata": {},
   "outputs": [],
   "source": [
    "import numpy as np\n",
    "import pandas as pd\n",
    "pd.options.mode.chained_assignment = None  # default='warn'\n",
    "\n",
    "from scipy.optimize import curve_fit, minimize\n",
    "\n",
    "import plotly\n",
    "from plotly import graph_objects as go\n",
    "import plotly.io as pio\n",
    "\n",
    "# change default plotly theme\n",
    "pio.templates.default = \"plotly_white\""
   ]
  },
  {
   "cell_type": "code",
   "execution_count": 2,
   "id": "ac07ccc0",
   "metadata": {},
   "outputs": [],
   "source": [
    "inputs = pd.read_csv('data/pltv_inputs.csv')\n",
    "data = pd.read_csv('data/ke_data.csv')"
   ]
  },
  {
   "cell_type": "markdown",
   "id": "392a13c8",
   "metadata": {},
   "source": [
    "## Data Munging"
   ]
  },
  {
   "cell_type": "code",
   "execution_count": 3,
   "id": "77fcd3ff",
   "metadata": {},
   "outputs": [],
   "source": [
    "# fix date inconsistencies\n",
    "data = data.replace({'2021-9': '2021-09', '2021-8': '2021-08', '2021-7': '2021-07', \n",
    "              '2021-6': '2021-06', '2021-5': '2021-05', '2021-4': '2021-04', '2020-9': '2020-09'})\n",
    "\n",
    "# sort by months since first disbursement\n",
    "data = data.sort_values(['First Loan Local Disbursement Month', \n",
    "                         'Months Since First Loan Disbursed'])\n",
    "\n",
    "# remove all columns calculated through looker\n",
    "data = data.loc[:,:\"Default Rate Amount 51D\"]"
   ]
  },
  {
   "cell_type": "code",
   "execution_count": 4,
   "id": "be7e611e",
   "metadata": {},
   "outputs": [
    {
     "data": {
      "text/html": [
       "<div>\n",
       "<style scoped>\n",
       "    .dataframe tbody tr th:only-of-type {\n",
       "        vertical-align: middle;\n",
       "    }\n",
       "\n",
       "    .dataframe tbody tr th {\n",
       "        vertical-align: top;\n",
       "    }\n",
       "\n",
       "    .dataframe thead th {\n",
       "        text-align: right;\n",
       "    }\n",
       "</style>\n",
       "<table border=\"1\" class=\"dataframe\">\n",
       "  <thead>\n",
       "    <tr style=\"text-align: right;\">\n",
       "      <th></th>\n",
       "      <th>First Loan Local Disbursement Month</th>\n",
       "      <th>Months Since First Loan Disbursed</th>\n",
       "      <th>Count First Loans</th>\n",
       "      <th>Count Borrowers</th>\n",
       "      <th>Count Loans</th>\n",
       "      <th>Total Amount</th>\n",
       "      <th>Total Interest Assessed</th>\n",
       "      <th>Total Rollover Charged</th>\n",
       "      <th>Total Rollover Reversed</th>\n",
       "      <th>Default Rate Amount 7D</th>\n",
       "      <th>Default Rate Amount 30D</th>\n",
       "      <th>Default Rate Amount 51D</th>\n",
       "    </tr>\n",
       "  </thead>\n",
       "  <tbody>\n",
       "    <tr>\n",
       "      <th>0</th>\n",
       "      <td>2020-09</td>\n",
       "      <td>0</td>\n",
       "      <td>7801</td>\n",
       "      <td>7801</td>\n",
       "      <td>13156</td>\n",
       "      <td>48361000</td>\n",
       "      <td>6540240</td>\n",
       "      <td>681325</td>\n",
       "      <td>81520</td>\n",
       "      <td>0.155382</td>\n",
       "      <td>0.121192</td>\n",
       "      <td>0.113031</td>\n",
       "    </tr>\n",
       "    <tr>\n",
       "      <th>15</th>\n",
       "      <td>2020-09</td>\n",
       "      <td>1</td>\n",
       "      <td>0</td>\n",
       "      <td>4481</td>\n",
       "      <td>5697</td>\n",
       "      <td>34490000</td>\n",
       "      <td>4660880</td>\n",
       "      <td>416544</td>\n",
       "      <td>32387</td>\n",
       "      <td>0.130661</td>\n",
       "      <td>0.101823</td>\n",
       "      <td>0.095738</td>\n",
       "    </tr>\n",
       "    <tr>\n",
       "      <th>2</th>\n",
       "      <td>2020-09</td>\n",
       "      <td>2</td>\n",
       "      <td>0</td>\n",
       "      <td>3661</td>\n",
       "      <td>4310</td>\n",
       "      <td>31461000</td>\n",
       "      <td>4297310</td>\n",
       "      <td>401077</td>\n",
       "      <td>30617</td>\n",
       "      <td>0.139719</td>\n",
       "      <td>0.103958</td>\n",
       "      <td>0.094792</td>\n",
       "    </tr>\n",
       "    <tr>\n",
       "      <th>9</th>\n",
       "      <td>2020-09</td>\n",
       "      <td>3</td>\n",
       "      <td>0</td>\n",
       "      <td>3050</td>\n",
       "      <td>3599</td>\n",
       "      <td>30482000</td>\n",
       "      <td>4178400</td>\n",
       "      <td>343062</td>\n",
       "      <td>17629</td>\n",
       "      <td>0.125111</td>\n",
       "      <td>0.089089</td>\n",
       "      <td>0.084399</td>\n",
       "    </tr>\n",
       "    <tr>\n",
       "      <th>10</th>\n",
       "      <td>2020-09</td>\n",
       "      <td>4</td>\n",
       "      <td>0</td>\n",
       "      <td>2549</td>\n",
       "      <td>2985</td>\n",
       "      <td>29303000</td>\n",
       "      <td>3964590</td>\n",
       "      <td>300262</td>\n",
       "      <td>920</td>\n",
       "      <td>0.113720</td>\n",
       "      <td>0.086750</td>\n",
       "      <td>0.081658</td>\n",
       "    </tr>\n",
       "  </tbody>\n",
       "</table>\n",
       "</div>"
      ],
      "text/plain": [
       "   First Loan Local Disbursement Month  Months Since First Loan Disbursed  \\\n",
       "0                              2020-09                                  0   \n",
       "15                             2020-09                                  1   \n",
       "2                              2020-09                                  2   \n",
       "9                              2020-09                                  3   \n",
       "10                             2020-09                                  4   \n",
       "\n",
       "    Count First Loans  Count Borrowers  Count Loans  Total Amount  \\\n",
       "0                7801             7801        13156      48361000   \n",
       "15                  0             4481         5697      34490000   \n",
       "2                   0             3661         4310      31461000   \n",
       "9                   0             3050         3599      30482000   \n",
       "10                  0             2549         2985      29303000   \n",
       "\n",
       "    Total Interest Assessed  Total Rollover Charged  Total Rollover Reversed  \\\n",
       "0                   6540240                  681325                    81520   \n",
       "15                  4660880                  416544                    32387   \n",
       "2                   4297310                  401077                    30617   \n",
       "9                   4178400                  343062                    17629   \n",
       "10                  3964590                  300262                      920   \n",
       "\n",
       "    Default Rate Amount 7D  Default Rate Amount 30D  Default Rate Amount 51D  \n",
       "0                 0.155382                 0.121192                 0.113031  \n",
       "15                0.130661                 0.101823                 0.095738  \n",
       "2                 0.139719                 0.103958                 0.094792  \n",
       "9                 0.125111                 0.089089                 0.084399  \n",
       "10                0.113720                 0.086750                 0.081658  "
      ]
     },
     "execution_count": 4,
     "metadata": {},
     "output_type": "execute_result"
    }
   ],
   "source": [
    "data.head()"
   ]
  },
  {
   "cell_type": "markdown",
   "id": "8164b5b1",
   "metadata": {},
   "source": [
    "## pLTV Model"
   ]
  },
  {
   "cell_type": "code",
   "execution_count": 5,
   "id": "7a26c67b",
   "metadata": {},
   "outputs": [],
   "source": [
    "# KSH to USD conversion factor\n",
    "ksh_usd = 0.00925\n",
    "late_fee = 0.08 # % fee on defaults"
   ]
  },
  {
   "cell_type": "code",
   "execution_count": 37,
   "id": "f6a41ab1",
   "metadata": {},
   "outputs": [],
   "source": [
    "class Model:\n",
    "    \"\"\"\n",
    "    sBG model class containing all functionality for creating, analyzing, and backtesting\n",
    "    the sBG model.\n",
    "    \"\"\"\n",
    "    def __init__(self, data):\n",
    "        self.data = data\n",
    "\n",
    "        self.clean_data()\n",
    "        \n",
    "    def clean_data(self):\n",
    "        # fix date inconsistencies\n",
    "        self.data = self.data.replace({'2021-9': '2021-09', '2021-8': '2021-08', \\\n",
    "                                       '2021-7': '2021-07', '2021-6': '2021-06', \\\n",
    "                                       '2021-5': '2021-05', '2021-4': '2021-04', \\\n",
    "                                       '2020-9': '2020-09'})\n",
    "\n",
    "        # sort by months since first disbursement\n",
    "        self.data = self.data.sort_values(['First Loan Local Disbursement Month', \n",
    "                                 'Months Since First Loan Disbursed'])\n",
    "\n",
    "        # remove all columns calculated through looker\n",
    "        self.data = self.data.loc[:,:\"Default Rate Amount 51D\"]\n",
    "        \n",
    "        # add more convenient cohort column\n",
    "        self.data['cohort'] = self.data['First Loan Local Disbursement Month']\n",
    "        \n",
    "        \n",
    "    # --- DATA FUNCTIONS --- #\n",
    "    def borrower_retention(self, cohort_data):\n",
    "        return cohort_data['Count Borrowers']/cohort_data['Count Borrowers'].max()\n",
    "\n",
    "    def borrower_survival(self, cohort_data):\n",
    "        return cohort_data['Count Borrowers']/cohort_data['Count Borrowers'].shift(1)\n",
    "    \n",
    "    def loans_per_borrower(self, cohort_data):\n",
    "        return cohort_data['Count Loans']/cohort_data['Count Borrowers']\n",
    "    \n",
    "    def loan_size(self, cohort_data, to_usd):\n",
    "        df = cohort_data['Total Amount']/cohort_data['Count Loans']\n",
    "        if to_usd:\n",
    "            df *= ksh_usd\n",
    "        return df\n",
    "    \n",
    "    def interest_rate(self, cohort_data):\n",
    "        return cohort_data['Total Interest Assessed']/cohort_data['Total Amount']\n",
    "    \n",
    "    def default_rate(self, cohort_data, period=7):\n",
    "        if period==7:\n",
    "            return cohort_data['Default Rate Amount 7D'].fillna(0)\n",
    "        \n",
    "        elif period==51:\n",
    "            default_rate = cohort_data['Default Rate Amount 51D']\n",
    "\n",
    "            recovery_rate_51 = float(inputs[inputs.market=='ke']['recovery_7-30'] + \\\n",
    "                                     inputs[inputs.market=='ke']['recovery_30-51'])\n",
    "\n",
    "            ## fill null 51dpd values with 7dpd values based on recovery rates\n",
    "            derived_51dpd = (cohort_data['Count Loans']*(cohort_data['default_rate_7dpd']) - \\\n",
    "                cohort_data['Count Loans']*(cohort_data['default_rate_7dpd'])*recovery_rate_51)/ \\\n",
    "                cohort_data['Count Loans']\n",
    "            \n",
    "            return default_rate.fillna(derived_51dpd)\n",
    "        \n",
    "        elif period==365:\n",
    "            # get actual data if it exists\n",
    "            default_rate = np.nan*cohort_data['Default Rate Amount 51D']\n",
    "\n",
    "            recovery_rate_365 = float(inputs[inputs.market=='ke']['recovery_51_'])\n",
    "\n",
    "            ## fill null 365dpd values with 51dpd values based on recovery rates\n",
    "            derived_365dpd = (cohort_data['Count Loans']*(cohort_data['default_rate_51dpd']) - \\\n",
    "                cohort_data['Count Loans']*(cohort_data['default_rate_51dpd'])* \\\n",
    "                recovery_rate_365)/cohort_data['Count Loans']\n",
    "\n",
    "            return default_rate.fillna(derived_365dpd)\n",
    "        \n",
    "    def loans_per_original(self, cohort_data):\n",
    "        return cohort_data['Count Loans']/cohort_data['Count Borrowers'].max()\n",
    "    \n",
    "    def origination_per_original(self, cohort_data, to_usd):\n",
    "        df = cohort_data['Total Amount']/cohort_data['Count Borrowers'].max()\n",
    "        if to_usd:\n",
    "            df *= ksh_usd\n",
    "        return df\n",
    "    \n",
    "    def revenue_per_original(self, cohort_data, to_usd):\n",
    "        interest_revenue = cohort_data['origination_per_original']*cohort_data['interest_rate']\n",
    "        \n",
    "        # 0.08 is the % fee we charge to defaulted customers\n",
    "        revenue = interest_revenue + (cohort_data['origination_per_original'] + interest_revenue) * \\\n",
    "            cohort_data['default_rate_7dpd']*0.08\n",
    "        \n",
    "        # note that origination_per_original is already in USD so no conversion is necessary\n",
    "        \n",
    "        return revenue\n",
    "    \n",
    "    def credit_margin(self, cohort_data):\n",
    "        return cohort_data['revenue_per_original'] - \\\n",
    "                (cohort_data['origination_per_original'] + cohort_data['revenue_per_original'])* \\\n",
    "                cohort_data['default_rate_365dpd']\n",
    "    \n",
    "    def opex_per_original(self, cohort_data):\n",
    "        opex_cost_per_loan = float(inputs[inputs.market=='ke']['opex cost per loan'])\n",
    "        cost_of_capital = float(inputs[inputs.market=='ke']['cost of capital'])/12\n",
    "        \n",
    "        return opex_cost_per_loan*cohort_data['loans_per_original'] + \\\n",
    "            cost_of_capital*cohort_data['origination_per_original']\n",
    "    \n",
    "    def ltv_per_original(self, cohort_data):\n",
    "        return cohort_data['cm$_per_original'] - cohort_data['opex_per_original']\n",
    "    \n",
    "    def credit_margin_percent(self, cohort_data):\n",
    "        return cohort_data['ltv_per_original']/cohort_data['revenue_per_original']\n",
    "        \n",
    "    def generate_features(self, to_usd=True):\n",
    "        \"\"\"\n",
    "        Generate all features required for pLTV model.\n",
    "        \"\"\"\n",
    "        cohorts = []\n",
    "\n",
    "        # for each cohort\n",
    "        for cohort in self.data.loc[:,'First Loan Local Disbursement Month'].unique():\n",
    "            # omit the last two months of incomplete data\n",
    "            cohort_data = self.data[self.data['First Loan Local Disbursement Month']==cohort].iloc[:-2,:]\n",
    "\n",
    "            # call data functions to generate calculated features\n",
    "            cohort_data['borrower_retention'] = self.borrower_retention(cohort_data)\n",
    "            cohort_data['borrower_survival'] = self.borrower_survival(cohort_data)\n",
    "            cohort_data['loans_per_borrower'] = self.loans_per_borrower(cohort_data)\n",
    "            cohort_data['loan_size'] = self.loan_size(cohort_data, to_usd)\n",
    "            cohort_data['interest_rate'] = self.interest_rate(cohort_data)\n",
    "            cohort_data['default_rate_7dpd'] = self.default_rate(cohort_data, period=7)\n",
    "            cohort_data['default_rate_51dpd'] = self.default_rate(cohort_data, period=51)\n",
    "            cohort_data['default_rate_365dpd'] = self.default_rate(cohort_data, period=365)\n",
    "            cohort_data['loans_per_original'] = self.loans_per_original(cohort_data)\n",
    "            cohort_data['origination_per_original'] = self.origination_per_original(cohort_data, to_usd)\n",
    "            cohort_data['revenue_per_original'] = self.revenue_per_original(cohort_data, to_usd)\n",
    "            cohort_data['cm$_per_original'] = self.credit_margin(cohort_data)\n",
    "            cohort_data['opex_per_original'] = self.opex_per_original(cohort_data)\n",
    "            cohort_data['ltv_per_original'] = self.ltv_per_original(cohort_data)\n",
    "            cohort_data['cm%_per_original'] = self.credit_margin_percent(cohort_data)\n",
    "            \n",
    "            # reset the index and append the data\n",
    "            cohorts.append(cohort_data.reset_index(drop=True))\n",
    "\n",
    "        self.cohorts = cohorts\n",
    "        self.data = pd.concat(cohorts, axis=0)\n",
    "    \n",
    "    def plot_cohorts(self, param):\n",
    "        \"\"\"\n",
    "        Generate scatter plot for a specific paramter.\n",
    "        \"\"\"\n",
    "        # for each cohort\n",
    "        curves = []\n",
    "        for cohort in self.data.loc[:,'First Loan Local Disbursement Month'].unique():\n",
    "            output = self.data[self.data['First Loan Local Disbursement Month']==cohort]\n",
    "\n",
    "            output = output[param].reset_index(drop=True)\n",
    "            output.name = cohort\n",
    "\n",
    "            curves.append(output)\n",
    "            \n",
    "        traces = []\n",
    "\n",
    "        for cohort in curves:\n",
    "            traces.append(go.Scatter(name=cohort.name, x=cohort.index, y=cohort))\n",
    "\n",
    "        fig = go.Figure(traces)\n",
    "        fig.update_layout(xaxis=dict(title='Month Since Disbursement'),\n",
    "                         yaxis=dict(title=param))\n",
    "\n",
    "        fig.show()\n",
    "        "
   ]
  },
  {
   "cell_type": "markdown",
   "id": "df6a5d07",
   "metadata": {},
   "source": [
    "Review calculations for revenue per original, they're very off. Used a different formula than Liang's. Understand his formula."
   ]
  },
  {
   "cell_type": "markdown",
   "id": "71d52d10",
   "metadata": {},
   "source": [
    "#### Issues to fix\n",
    "\n",
    "1. null values in default rates.\n",
    "2. forecasting vs not, the final incomplete month."
   ]
  },
  {
   "cell_type": "markdown",
   "id": "567e35e2",
   "metadata": {},
   "source": [
    "### Run Model"
   ]
  },
  {
   "cell_type": "code",
   "execution_count": 38,
   "id": "23fd5669",
   "metadata": {},
   "outputs": [
    {
     "data": {
      "text/html": [
       "<div>\n",
       "<style scoped>\n",
       "    .dataframe tbody tr th:only-of-type {\n",
       "        vertical-align: middle;\n",
       "    }\n",
       "\n",
       "    .dataframe tbody tr th {\n",
       "        vertical-align: top;\n",
       "    }\n",
       "\n",
       "    .dataframe thead th {\n",
       "        text-align: right;\n",
       "    }\n",
       "</style>\n",
       "<table border=\"1\" class=\"dataframe\">\n",
       "  <thead>\n",
       "    <tr style=\"text-align: right;\">\n",
       "      <th></th>\n",
       "      <th>First Loan Local Disbursement Month</th>\n",
       "      <th>Months Since First Loan Disbursed</th>\n",
       "      <th>Count First Loans</th>\n",
       "      <th>Count Borrowers</th>\n",
       "      <th>Count Loans</th>\n",
       "      <th>Total Amount</th>\n",
       "      <th>Total Interest Assessed</th>\n",
       "      <th>Total Rollover Charged</th>\n",
       "      <th>Total Rollover Reversed</th>\n",
       "      <th>Default Rate Amount 7D</th>\n",
       "      <th>...</th>\n",
       "      <th>default_rate_7dpd</th>\n",
       "      <th>default_rate_51dpd</th>\n",
       "      <th>default_rate_365dpd</th>\n",
       "      <th>loans_per_original</th>\n",
       "      <th>origination_per_original</th>\n",
       "      <th>revenue_per_original</th>\n",
       "      <th>cm$_per_original</th>\n",
       "      <th>opex_per_original</th>\n",
       "      <th>ltv_per_original</th>\n",
       "      <th>cm%_per_original</th>\n",
       "    </tr>\n",
       "  </thead>\n",
       "  <tbody>\n",
       "    <tr>\n",
       "      <th>0</th>\n",
       "      <td>2020-09</td>\n",
       "      <td>0</td>\n",
       "      <td>7801</td>\n",
       "      <td>7801</td>\n",
       "      <td>13156</td>\n",
       "      <td>48361000</td>\n",
       "      <td>6540240</td>\n",
       "      <td>681325</td>\n",
       "      <td>81520</td>\n",
       "      <td>0.155382</td>\n",
       "      <td>...</td>\n",
       "      <td>0.155382</td>\n",
       "      <td>0.113031</td>\n",
       "      <td>0.099467</td>\n",
       "      <td>1.686450</td>\n",
       "      <td>57.343834</td>\n",
       "      <td>8.564274</td>\n",
       "      <td>2.008581</td>\n",
       "      <td>2.847339</td>\n",
       "      <td>-0.838759</td>\n",
       "      <td>-0.097937</td>\n",
       "    </tr>\n",
       "    <tr>\n",
       "      <th>1</th>\n",
       "      <td>2020-09</td>\n",
       "      <td>1</td>\n",
       "      <td>0</td>\n",
       "      <td>4481</td>\n",
       "      <td>5697</td>\n",
       "      <td>34490000</td>\n",
       "      <td>4660880</td>\n",
       "      <td>416544</td>\n",
       "      <td>32387</td>\n",
       "      <td>0.130661</td>\n",
       "      <td>...</td>\n",
       "      <td>0.130661</td>\n",
       "      <td>0.095738</td>\n",
       "      <td>0.084249</td>\n",
       "      <td>0.730291</td>\n",
       "      <td>40.896359</td>\n",
       "      <td>6.011869</td>\n",
       "      <td>2.059888</td>\n",
       "      <td>1.407028</td>\n",
       "      <td>0.652860</td>\n",
       "      <td>0.108595</td>\n",
       "    </tr>\n",
       "    <tr>\n",
       "      <th>2</th>\n",
       "      <td>2020-09</td>\n",
       "      <td>2</td>\n",
       "      <td>0</td>\n",
       "      <td>3661</td>\n",
       "      <td>4310</td>\n",
       "      <td>31461000</td>\n",
       "      <td>4297310</td>\n",
       "      <td>401077</td>\n",
       "      <td>30617</td>\n",
       "      <td>0.139719</td>\n",
       "      <td>...</td>\n",
       "      <td>0.139719</td>\n",
       "      <td>0.094792</td>\n",
       "      <td>0.083417</td>\n",
       "      <td>0.552493</td>\n",
       "      <td>37.304737</td>\n",
       "      <td>5.569447</td>\n",
       "      <td>1.993030</td>\n",
       "      <td>1.133426</td>\n",
       "      <td>0.859604</td>\n",
       "      <td>0.154343</td>\n",
       "    </tr>\n",
       "    <tr>\n",
       "      <th>3</th>\n",
       "      <td>2020-09</td>\n",
       "      <td>3</td>\n",
       "      <td>0</td>\n",
       "      <td>3050</td>\n",
       "      <td>3599</td>\n",
       "      <td>30482000</td>\n",
       "      <td>4178400</td>\n",
       "      <td>343062</td>\n",
       "      <td>17629</td>\n",
       "      <td>0.125111</td>\n",
       "      <td>...</td>\n",
       "      <td>0.125111</td>\n",
       "      <td>0.084399</td>\n",
       "      <td>0.074271</td>\n",
       "      <td>0.461351</td>\n",
       "      <td>36.143892</td>\n",
       "      <td>5.365869</td>\n",
       "      <td>2.282891</td>\n",
       "      <td>1.000542</td>\n",
       "      <td>1.282349</td>\n",
       "      <td>0.238982</td>\n",
       "    </tr>\n",
       "    <tr>\n",
       "      <th>4</th>\n",
       "      <td>2020-09</td>\n",
       "      <td>4</td>\n",
       "      <td>0</td>\n",
       "      <td>2549</td>\n",
       "      <td>2985</td>\n",
       "      <td>29303000</td>\n",
       "      <td>3964590</td>\n",
       "      <td>300262</td>\n",
       "      <td>920</td>\n",
       "      <td>0.113720</td>\n",
       "      <td>...</td>\n",
       "      <td>0.113720</td>\n",
       "      <td>0.081658</td>\n",
       "      <td>0.071859</td>\n",
       "      <td>0.382643</td>\n",
       "      <td>34.745898</td>\n",
       "      <td>5.059868</td>\n",
       "      <td>2.199469</td>\n",
       "      <td>0.881503</td>\n",
       "      <td>1.317966</td>\n",
       "      <td>0.260474</td>\n",
       "    </tr>\n",
       "  </tbody>\n",
       "</table>\n",
       "<p>5 rows × 28 columns</p>\n",
       "</div>"
      ],
      "text/plain": [
       "  First Loan Local Disbursement Month  Months Since First Loan Disbursed  \\\n",
       "0                             2020-09                                  0   \n",
       "1                             2020-09                                  1   \n",
       "2                             2020-09                                  2   \n",
       "3                             2020-09                                  3   \n",
       "4                             2020-09                                  4   \n",
       "\n",
       "   Count First Loans  Count Borrowers  Count Loans  Total Amount  \\\n",
       "0               7801             7801        13156      48361000   \n",
       "1                  0             4481         5697      34490000   \n",
       "2                  0             3661         4310      31461000   \n",
       "3                  0             3050         3599      30482000   \n",
       "4                  0             2549         2985      29303000   \n",
       "\n",
       "   Total Interest Assessed  Total Rollover Charged  Total Rollover Reversed  \\\n",
       "0                  6540240                  681325                    81520   \n",
       "1                  4660880                  416544                    32387   \n",
       "2                  4297310                  401077                    30617   \n",
       "3                  4178400                  343062                    17629   \n",
       "4                  3964590                  300262                      920   \n",
       "\n",
       "   Default Rate Amount 7D  ...  default_rate_7dpd  default_rate_51dpd  \\\n",
       "0                0.155382  ...           0.155382            0.113031   \n",
       "1                0.130661  ...           0.130661            0.095738   \n",
       "2                0.139719  ...           0.139719            0.094792   \n",
       "3                0.125111  ...           0.125111            0.084399   \n",
       "4                0.113720  ...           0.113720            0.081658   \n",
       "\n",
       "  default_rate_365dpd  loans_per_original  origination_per_original  \\\n",
       "0            0.099467            1.686450                 57.343834   \n",
       "1            0.084249            0.730291                 40.896359   \n",
       "2            0.083417            0.552493                 37.304737   \n",
       "3            0.074271            0.461351                 36.143892   \n",
       "4            0.071859            0.382643                 34.745898   \n",
       "\n",
       "   revenue_per_original  cm$_per_original  opex_per_original  \\\n",
       "0              8.564274          2.008581           2.847339   \n",
       "1              6.011869          2.059888           1.407028   \n",
       "2              5.569447          1.993030           1.133426   \n",
       "3              5.365869          2.282891           1.000542   \n",
       "4              5.059868          2.199469           0.881503   \n",
       "\n",
       "   ltv_per_original  cm%_per_original  \n",
       "0         -0.838759         -0.097937  \n",
       "1          0.652860          0.108595  \n",
       "2          0.859604          0.154343  \n",
       "3          1.282349          0.238982  \n",
       "4          1.317966          0.260474  \n",
       "\n",
       "[5 rows x 28 columns]"
      ]
     },
     "execution_count": 38,
     "metadata": {},
     "output_type": "execute_result"
    }
   ],
   "source": [
    "# create a model object\n",
    "m = Model(data)\n",
    "\n",
    "# generate features\n",
    "m.generate_features()\n",
    "\n",
    "m.data.head()"
   ]
  },
  {
   "cell_type": "code",
   "execution_count": 39,
   "id": "0006c2ee",
   "metadata": {},
   "outputs": [
    {
     "data": {
      "text/plain": [
       "Index(['First Loan Local Disbursement Month',\n",
       "       'Months Since First Loan Disbursed', 'Count First Loans',\n",
       "       'Count Borrowers', 'Count Loans', 'Total Amount',\n",
       "       'Total Interest Assessed', 'Total Rollover Charged',\n",
       "       'Total Rollover Reversed', 'Default Rate Amount 7D',\n",
       "       'Default Rate Amount 30D', 'Default Rate Amount 51D', 'cohort',\n",
       "       'borrower_retention', 'borrower_survival', 'loans_per_borrower',\n",
       "       'loan_size', 'interest_rate', 'default_rate_7dpd', 'default_rate_51dpd',\n",
       "       'default_rate_365dpd', 'loans_per_original', 'origination_per_original',\n",
       "       'revenue_per_original', 'cm$_per_original', 'opex_per_original',\n",
       "       'ltv_per_original', 'cm%_per_original'],\n",
       "      dtype='object')"
      ]
     },
     "execution_count": 39,
     "metadata": {},
     "output_type": "execute_result"
    }
   ],
   "source": [
    "m.data.columns"
   ]
  },
  {
   "cell_type": "code",
   "execution_count": 41,
   "id": "07c1efde",
   "metadata": {},
   "outputs": [
    {
     "data": {
      "application/vnd.plotly.v1+json": {
       "config": {
        "plotlyServerURL": "https://plot.ly"
       },
       "data": [
        {
         "name": "2020-09",
         "type": "scatter",
         "x": [
          0,
          1,
          2,
          3,
          4,
          5,
          6,
          7,
          8,
          9,
          10,
          11,
          12,
          13,
          14,
          15,
          16
         ],
         "y": [
          -0.838758861121716,
          0.6528601133541247,
          0.8596040702733247,
          1.282348611832418,
          1.3179657869368104,
          1.096212219512552,
          1.3928496387474567,
          1.9142845829342663,
          2.29872551121119,
          1.8396109660167275,
          1.650434166860988,
          1.7899408042559664,
          1.6611394865528597,
          1.6349421296159223,
          2.667019552681939,
          2.039125331525886,
          0.8042025887416943
         ]
        },
        {
         "name": "2020-10",
         "type": "scatter",
         "x": [
          0,
          1,
          2,
          3,
          4,
          5,
          6,
          7,
          8,
          9,
          10,
          11,
          12,
          13,
          14,
          15
         ],
         "y": [
          -1.2690326380347368,
          0.15452982269810955,
          0.6619457777089233,
          1.1376416378624197,
          0.9043173782154195,
          1.4851320451126233,
          1.5174530168749167,
          1.6634152832803826,
          1.9600897243324684,
          1.3088942888141246,
          1.7790227536655896,
          1.2008182112558996,
          1.6540378837046634,
          2.1982634345364955,
          1.8070201962583108,
          0.9935973912993739
         ]
        },
        {
         "name": "2020-11",
         "type": "scatter",
         "x": [
          0,
          1,
          2,
          3,
          4,
          5,
          6,
          7,
          8,
          9,
          10,
          11,
          12,
          13,
          14
         ],
         "y": [
          -1.373120457847337,
          -0.047998159763524395,
          0.45486014465452795,
          0.6080715207062053,
          0.9982275773377856,
          1.2709902640848703,
          1.5911696674898943,
          1.4866662914360838,
          1.6184522815134472,
          1.8048062598906767,
          1.6719311701969815,
          1.948401671438929,
          1.8407655139900498,
          2.312563759215558,
          1.718477188987349
         ]
        },
        {
         "name": "2020-12",
         "type": "scatter",
         "x": [
          0,
          1,
          2,
          3,
          4,
          5,
          6,
          7,
          8,
          9,
          10,
          11,
          12
         ],
         "y": [
          -1.569108072090045,
          -0.11102071770580246,
          0.14210489241254542,
          0.2571200182805491,
          0.9580202770090837,
          1.2461563263390902,
          1.0561420273216404,
          1.276431009241738,
          1.3985044063199168,
          1.0789300065215028,
          1.4595342939654954,
          1.783792625556822,
          1.6705335257086085
         ]
        },
        {
         "name": "2021-01",
         "type": "scatter",
         "x": [
          0,
          1,
          2,
          3,
          4,
          5,
          6,
          7,
          8,
          9,
          10,
          11,
          12
         ],
         "y": [
          -1.1432365366652562,
          -0.5839742190244253,
          -0.20281505572747505,
          0.608848219387606,
          1.0270547658036933,
          1.5947327763087678,
          1.3578622656564507,
          1.8035093675084939,
          1.4545472562396757,
          1.6494127072460751,
          1.7087736682983024,
          2.17452421287034,
          1.5718698682079633
         ]
        },
        {
         "name": "2021-02",
         "type": "scatter",
         "x": [
          0,
          1,
          2,
          3,
          4,
          5,
          6,
          7,
          8,
          9,
          10,
          11
         ],
         "y": [
          -1.9928930538913048,
          -0.8148637934253964,
          -0.252975439364056,
          0.746362006463523,
          0.9467166812359799,
          1.2218364500229835,
          1.6644021484927614,
          0.9585095607666974,
          1.219256370045124,
          1.809325641669047,
          2.3435974502031223,
          1.8585361271882488
         ]
        },
        {
         "name": "2021-03",
         "type": "scatter",
         "x": [
          0,
          1,
          2,
          3,
          4,
          5,
          6,
          7,
          8,
          9,
          10
         ],
         "y": [
          -2.958459294977193,
          -0.6006610619051342,
          0.007316168410768098,
          0.2528653277107832,
          0.6397004045824706,
          1.1023472943985972,
          0.9749997095633083,
          1.1648563585096783,
          0.958015346614411,
          0.4739552848546842,
          0.9401959557573654
         ]
        },
        {
         "name": "2021-04",
         "type": "scatter",
         "x": [
          0,
          1,
          2,
          3,
          4,
          5,
          6,
          7,
          8,
          9
         ],
         "y": [
          -3.14378094107901,
          -0.48955817427118187,
          -0.16896473566380044,
          0.3459239676081489,
          0.9764621785850802,
          1.1615677203076467,
          0.9785424617979932,
          1.2247382569236165,
          1.042974836391167,
          1.9539653571432571
         ]
        },
        {
         "name": "2021-05",
         "type": "scatter",
         "x": [
          0,
          1,
          2,
          3,
          4,
          5,
          6,
          7,
          8
         ],
         "y": [
          -2.7635879165153643,
          -0.9968824931178879,
          -0.4816565355780269,
          0.20625017723353178,
          0.40228055159153,
          0.8655771542321634,
          1.7025955408675515,
          2.0152032860421376,
          2.01863411707114
         ]
        },
        {
         "name": "2021-06",
         "type": "scatter",
         "x": [
          0,
          1,
          2,
          3,
          4,
          5,
          6,
          7
         ],
         "y": [
          -2.8265301491512718,
          -1.132270951829192,
          -0.6472166401494808,
          0.25564000709550605,
          0.7335679808105526,
          1.3542874475308218,
          2.4220550740232873,
          1.461583704724633
         ]
        },
        {
         "name": "2021-07",
         "type": "scatter",
         "x": [
          0,
          1,
          2,
          3,
          4,
          5,
          6
         ],
         "y": [
          -3.3457728837903375,
          -1.3182354611125975,
          -0.7198234459481052,
          -0.041436729078409895,
          0.8592179128455775,
          0.47404556869898773,
          1.323659972135684
         ]
        },
        {
         "name": "2021-08",
         "type": "scatter",
         "x": [
          0,
          1,
          2,
          3,
          4
         ],
         "y": [
          -3.169203278653124,
          -0.968379466909818,
          -0.5968943075507214,
          0.7348211847030889,
          1.1504322469732422
         ]
        },
        {
         "name": "2021-09",
         "type": "scatter",
         "x": [
          0,
          1,
          2,
          3
         ],
         "y": [
          -3.763523675826518,
          -1.2949827284952389,
          -0.061610013425425714,
          1.100085951754967
         ]
        },
        {
         "name": "2021-10",
         "type": "scatter",
         "x": [
          0,
          1,
          2,
          3
         ],
         "y": [
          -3.717403586730345,
          -0.9072062172276865,
          -0.34486157294077835,
          1.263008793259793
         ]
        },
        {
         "name": "2021-11",
         "type": "scatter",
         "x": [
          0,
          1,
          2
         ],
         "y": [
          -3.8814296804348705,
          0.3646091950533277,
          0.29618245931106224
         ]
        },
        {
         "name": "2021-12",
         "type": "scatter",
         "x": [
          0,
          1
         ],
         "y": [
          -3.1644565437072543,
          0.44971029954634234
         ]
        }
       ],
       "layout": {
        "template": {
         "data": {
          "bar": [
           {
            "error_x": {
             "color": "#2a3f5f"
            },
            "error_y": {
             "color": "#2a3f5f"
            },
            "marker": {
             "line": {
              "color": "white",
              "width": 0.5
             },
             "pattern": {
              "fillmode": "overlay",
              "size": 10,
              "solidity": 0.2
             }
            },
            "type": "bar"
           }
          ],
          "barpolar": [
           {
            "marker": {
             "line": {
              "color": "white",
              "width": 0.5
             },
             "pattern": {
              "fillmode": "overlay",
              "size": 10,
              "solidity": 0.2
             }
            },
            "type": "barpolar"
           }
          ],
          "carpet": [
           {
            "aaxis": {
             "endlinecolor": "#2a3f5f",
             "gridcolor": "#C8D4E3",
             "linecolor": "#C8D4E3",
             "minorgridcolor": "#C8D4E3",
             "startlinecolor": "#2a3f5f"
            },
            "baxis": {
             "endlinecolor": "#2a3f5f",
             "gridcolor": "#C8D4E3",
             "linecolor": "#C8D4E3",
             "minorgridcolor": "#C8D4E3",
             "startlinecolor": "#2a3f5f"
            },
            "type": "carpet"
           }
          ],
          "choropleth": [
           {
            "colorbar": {
             "outlinewidth": 0,
             "ticks": ""
            },
            "type": "choropleth"
           }
          ],
          "contour": [
           {
            "colorbar": {
             "outlinewidth": 0,
             "ticks": ""
            },
            "colorscale": [
             [
              0,
              "#0d0887"
             ],
             [
              0.1111111111111111,
              "#46039f"
             ],
             [
              0.2222222222222222,
              "#7201a8"
             ],
             [
              0.3333333333333333,
              "#9c179e"
             ],
             [
              0.4444444444444444,
              "#bd3786"
             ],
             [
              0.5555555555555556,
              "#d8576b"
             ],
             [
              0.6666666666666666,
              "#ed7953"
             ],
             [
              0.7777777777777778,
              "#fb9f3a"
             ],
             [
              0.8888888888888888,
              "#fdca26"
             ],
             [
              1,
              "#f0f921"
             ]
            ],
            "type": "contour"
           }
          ],
          "contourcarpet": [
           {
            "colorbar": {
             "outlinewidth": 0,
             "ticks": ""
            },
            "type": "contourcarpet"
           }
          ],
          "heatmap": [
           {
            "colorbar": {
             "outlinewidth": 0,
             "ticks": ""
            },
            "colorscale": [
             [
              0,
              "#0d0887"
             ],
             [
              0.1111111111111111,
              "#46039f"
             ],
             [
              0.2222222222222222,
              "#7201a8"
             ],
             [
              0.3333333333333333,
              "#9c179e"
             ],
             [
              0.4444444444444444,
              "#bd3786"
             ],
             [
              0.5555555555555556,
              "#d8576b"
             ],
             [
              0.6666666666666666,
              "#ed7953"
             ],
             [
              0.7777777777777778,
              "#fb9f3a"
             ],
             [
              0.8888888888888888,
              "#fdca26"
             ],
             [
              1,
              "#f0f921"
             ]
            ],
            "type": "heatmap"
           }
          ],
          "heatmapgl": [
           {
            "colorbar": {
             "outlinewidth": 0,
             "ticks": ""
            },
            "colorscale": [
             [
              0,
              "#0d0887"
             ],
             [
              0.1111111111111111,
              "#46039f"
             ],
             [
              0.2222222222222222,
              "#7201a8"
             ],
             [
              0.3333333333333333,
              "#9c179e"
             ],
             [
              0.4444444444444444,
              "#bd3786"
             ],
             [
              0.5555555555555556,
              "#d8576b"
             ],
             [
              0.6666666666666666,
              "#ed7953"
             ],
             [
              0.7777777777777778,
              "#fb9f3a"
             ],
             [
              0.8888888888888888,
              "#fdca26"
             ],
             [
              1,
              "#f0f921"
             ]
            ],
            "type": "heatmapgl"
           }
          ],
          "histogram": [
           {
            "marker": {
             "pattern": {
              "fillmode": "overlay",
              "size": 10,
              "solidity": 0.2
             }
            },
            "type": "histogram"
           }
          ],
          "histogram2d": [
           {
            "colorbar": {
             "outlinewidth": 0,
             "ticks": ""
            },
            "colorscale": [
             [
              0,
              "#0d0887"
             ],
             [
              0.1111111111111111,
              "#46039f"
             ],
             [
              0.2222222222222222,
              "#7201a8"
             ],
             [
              0.3333333333333333,
              "#9c179e"
             ],
             [
              0.4444444444444444,
              "#bd3786"
             ],
             [
              0.5555555555555556,
              "#d8576b"
             ],
             [
              0.6666666666666666,
              "#ed7953"
             ],
             [
              0.7777777777777778,
              "#fb9f3a"
             ],
             [
              0.8888888888888888,
              "#fdca26"
             ],
             [
              1,
              "#f0f921"
             ]
            ],
            "type": "histogram2d"
           }
          ],
          "histogram2dcontour": [
           {
            "colorbar": {
             "outlinewidth": 0,
             "ticks": ""
            },
            "colorscale": [
             [
              0,
              "#0d0887"
             ],
             [
              0.1111111111111111,
              "#46039f"
             ],
             [
              0.2222222222222222,
              "#7201a8"
             ],
             [
              0.3333333333333333,
              "#9c179e"
             ],
             [
              0.4444444444444444,
              "#bd3786"
             ],
             [
              0.5555555555555556,
              "#d8576b"
             ],
             [
              0.6666666666666666,
              "#ed7953"
             ],
             [
              0.7777777777777778,
              "#fb9f3a"
             ],
             [
              0.8888888888888888,
              "#fdca26"
             ],
             [
              1,
              "#f0f921"
             ]
            ],
            "type": "histogram2dcontour"
           }
          ],
          "mesh3d": [
           {
            "colorbar": {
             "outlinewidth": 0,
             "ticks": ""
            },
            "type": "mesh3d"
           }
          ],
          "parcoords": [
           {
            "line": {
             "colorbar": {
              "outlinewidth": 0,
              "ticks": ""
             }
            },
            "type": "parcoords"
           }
          ],
          "pie": [
           {
            "automargin": true,
            "type": "pie"
           }
          ],
          "scatter": [
           {
            "marker": {
             "colorbar": {
              "outlinewidth": 0,
              "ticks": ""
             }
            },
            "type": "scatter"
           }
          ],
          "scatter3d": [
           {
            "line": {
             "colorbar": {
              "outlinewidth": 0,
              "ticks": ""
             }
            },
            "marker": {
             "colorbar": {
              "outlinewidth": 0,
              "ticks": ""
             }
            },
            "type": "scatter3d"
           }
          ],
          "scattercarpet": [
           {
            "marker": {
             "colorbar": {
              "outlinewidth": 0,
              "ticks": ""
             }
            },
            "type": "scattercarpet"
           }
          ],
          "scattergeo": [
           {
            "marker": {
             "colorbar": {
              "outlinewidth": 0,
              "ticks": ""
             }
            },
            "type": "scattergeo"
           }
          ],
          "scattergl": [
           {
            "marker": {
             "colorbar": {
              "outlinewidth": 0,
              "ticks": ""
             }
            },
            "type": "scattergl"
           }
          ],
          "scattermapbox": [
           {
            "marker": {
             "colorbar": {
              "outlinewidth": 0,
              "ticks": ""
             }
            },
            "type": "scattermapbox"
           }
          ],
          "scatterpolar": [
           {
            "marker": {
             "colorbar": {
              "outlinewidth": 0,
              "ticks": ""
             }
            },
            "type": "scatterpolar"
           }
          ],
          "scatterpolargl": [
           {
            "marker": {
             "colorbar": {
              "outlinewidth": 0,
              "ticks": ""
             }
            },
            "type": "scatterpolargl"
           }
          ],
          "scatterternary": [
           {
            "marker": {
             "colorbar": {
              "outlinewidth": 0,
              "ticks": ""
             }
            },
            "type": "scatterternary"
           }
          ],
          "surface": [
           {
            "colorbar": {
             "outlinewidth": 0,
             "ticks": ""
            },
            "colorscale": [
             [
              0,
              "#0d0887"
             ],
             [
              0.1111111111111111,
              "#46039f"
             ],
             [
              0.2222222222222222,
              "#7201a8"
             ],
             [
              0.3333333333333333,
              "#9c179e"
             ],
             [
              0.4444444444444444,
              "#bd3786"
             ],
             [
              0.5555555555555556,
              "#d8576b"
             ],
             [
              0.6666666666666666,
              "#ed7953"
             ],
             [
              0.7777777777777778,
              "#fb9f3a"
             ],
             [
              0.8888888888888888,
              "#fdca26"
             ],
             [
              1,
              "#f0f921"
             ]
            ],
            "type": "surface"
           }
          ],
          "table": [
           {
            "cells": {
             "fill": {
              "color": "#EBF0F8"
             },
             "line": {
              "color": "white"
             }
            },
            "header": {
             "fill": {
              "color": "#C8D4E3"
             },
             "line": {
              "color": "white"
             }
            },
            "type": "table"
           }
          ]
         },
         "layout": {
          "annotationdefaults": {
           "arrowcolor": "#2a3f5f",
           "arrowhead": 0,
           "arrowwidth": 1
          },
          "autotypenumbers": "strict",
          "coloraxis": {
           "colorbar": {
            "outlinewidth": 0,
            "ticks": ""
           }
          },
          "colorscale": {
           "diverging": [
            [
             0,
             "#8e0152"
            ],
            [
             0.1,
             "#c51b7d"
            ],
            [
             0.2,
             "#de77ae"
            ],
            [
             0.3,
             "#f1b6da"
            ],
            [
             0.4,
             "#fde0ef"
            ],
            [
             0.5,
             "#f7f7f7"
            ],
            [
             0.6,
             "#e6f5d0"
            ],
            [
             0.7,
             "#b8e186"
            ],
            [
             0.8,
             "#7fbc41"
            ],
            [
             0.9,
             "#4d9221"
            ],
            [
             1,
             "#276419"
            ]
           ],
           "sequential": [
            [
             0,
             "#0d0887"
            ],
            [
             0.1111111111111111,
             "#46039f"
            ],
            [
             0.2222222222222222,
             "#7201a8"
            ],
            [
             0.3333333333333333,
             "#9c179e"
            ],
            [
             0.4444444444444444,
             "#bd3786"
            ],
            [
             0.5555555555555556,
             "#d8576b"
            ],
            [
             0.6666666666666666,
             "#ed7953"
            ],
            [
             0.7777777777777778,
             "#fb9f3a"
            ],
            [
             0.8888888888888888,
             "#fdca26"
            ],
            [
             1,
             "#f0f921"
            ]
           ],
           "sequentialminus": [
            [
             0,
             "#0d0887"
            ],
            [
             0.1111111111111111,
             "#46039f"
            ],
            [
             0.2222222222222222,
             "#7201a8"
            ],
            [
             0.3333333333333333,
             "#9c179e"
            ],
            [
             0.4444444444444444,
             "#bd3786"
            ],
            [
             0.5555555555555556,
             "#d8576b"
            ],
            [
             0.6666666666666666,
             "#ed7953"
            ],
            [
             0.7777777777777778,
             "#fb9f3a"
            ],
            [
             0.8888888888888888,
             "#fdca26"
            ],
            [
             1,
             "#f0f921"
            ]
           ]
          },
          "colorway": [
           "#636efa",
           "#EF553B",
           "#00cc96",
           "#ab63fa",
           "#FFA15A",
           "#19d3f3",
           "#FF6692",
           "#B6E880",
           "#FF97FF",
           "#FECB52"
          ],
          "font": {
           "color": "#2a3f5f"
          },
          "geo": {
           "bgcolor": "white",
           "lakecolor": "white",
           "landcolor": "white",
           "showlakes": true,
           "showland": true,
           "subunitcolor": "#C8D4E3"
          },
          "hoverlabel": {
           "align": "left"
          },
          "hovermode": "closest",
          "mapbox": {
           "style": "light"
          },
          "paper_bgcolor": "white",
          "plot_bgcolor": "white",
          "polar": {
           "angularaxis": {
            "gridcolor": "#EBF0F8",
            "linecolor": "#EBF0F8",
            "ticks": ""
           },
           "bgcolor": "white",
           "radialaxis": {
            "gridcolor": "#EBF0F8",
            "linecolor": "#EBF0F8",
            "ticks": ""
           }
          },
          "scene": {
           "xaxis": {
            "backgroundcolor": "white",
            "gridcolor": "#DFE8F3",
            "gridwidth": 2,
            "linecolor": "#EBF0F8",
            "showbackground": true,
            "ticks": "",
            "zerolinecolor": "#EBF0F8"
           },
           "yaxis": {
            "backgroundcolor": "white",
            "gridcolor": "#DFE8F3",
            "gridwidth": 2,
            "linecolor": "#EBF0F8",
            "showbackground": true,
            "ticks": "",
            "zerolinecolor": "#EBF0F8"
           },
           "zaxis": {
            "backgroundcolor": "white",
            "gridcolor": "#DFE8F3",
            "gridwidth": 2,
            "linecolor": "#EBF0F8",
            "showbackground": true,
            "ticks": "",
            "zerolinecolor": "#EBF0F8"
           }
          },
          "shapedefaults": {
           "line": {
            "color": "#2a3f5f"
           }
          },
          "ternary": {
           "aaxis": {
            "gridcolor": "#DFE8F3",
            "linecolor": "#A2B1C6",
            "ticks": ""
           },
           "baxis": {
            "gridcolor": "#DFE8F3",
            "linecolor": "#A2B1C6",
            "ticks": ""
           },
           "bgcolor": "white",
           "caxis": {
            "gridcolor": "#DFE8F3",
            "linecolor": "#A2B1C6",
            "ticks": ""
           }
          },
          "title": {
           "x": 0.05
          },
          "xaxis": {
           "automargin": true,
           "gridcolor": "#EBF0F8",
           "linecolor": "#EBF0F8",
           "ticks": "",
           "title": {
            "standoff": 15
           },
           "zerolinecolor": "#EBF0F8",
           "zerolinewidth": 2
          },
          "yaxis": {
           "automargin": true,
           "gridcolor": "#EBF0F8",
           "linecolor": "#EBF0F8",
           "ticks": "",
           "title": {
            "standoff": 15
           },
           "zerolinecolor": "#EBF0F8",
           "zerolinewidth": 2
          }
         }
        },
        "xaxis": {
         "title": {
          "text": "Month Since Disbursement"
         }
        },
        "yaxis": {
         "title": {
          "text": "ltv_per_original"
         }
        }
       }
      },
      "text/html": [
       "<div>                            <div id=\"bc34075c-1572-4c2e-b34f-dd8572f80125\" class=\"plotly-graph-div\" style=\"height:525px; width:100%;\"></div>            <script type=\"text/javascript\">                require([\"plotly\"], function(Plotly) {                    window.PLOTLYENV=window.PLOTLYENV || {};                                    if (document.getElementById(\"bc34075c-1572-4c2e-b34f-dd8572f80125\")) {                    Plotly.newPlot(                        \"bc34075c-1572-4c2e-b34f-dd8572f80125\",                        [{\"name\":\"2020-09\",\"type\":\"scatter\",\"x\":[0,1,2,3,4,5,6,7,8,9,10,11,12,13,14,15,16],\"y\":[-0.838758861121716,0.6528601133541247,0.8596040702733247,1.282348611832418,1.3179657869368104,1.096212219512552,1.3928496387474567,1.9142845829342663,2.29872551121119,1.8396109660167275,1.650434166860988,1.7899408042559664,1.6611394865528597,1.6349421296159223,2.667019552681939,2.039125331525886,0.8042025887416943]},{\"name\":\"2020-10\",\"type\":\"scatter\",\"x\":[0,1,2,3,4,5,6,7,8,9,10,11,12,13,14,15],\"y\":[-1.2690326380347368,0.15452982269810955,0.6619457777089233,1.1376416378624197,0.9043173782154195,1.4851320451126233,1.5174530168749167,1.6634152832803826,1.9600897243324684,1.3088942888141246,1.7790227536655896,1.2008182112558996,1.6540378837046634,2.1982634345364955,1.8070201962583108,0.9935973912993739]},{\"name\":\"2020-11\",\"type\":\"scatter\",\"x\":[0,1,2,3,4,5,6,7,8,9,10,11,12,13,14],\"y\":[-1.373120457847337,-0.047998159763524395,0.45486014465452795,0.6080715207062053,0.9982275773377856,1.2709902640848703,1.5911696674898943,1.4866662914360838,1.6184522815134472,1.8048062598906767,1.6719311701969815,1.948401671438929,1.8407655139900498,2.312563759215558,1.718477188987349]},{\"name\":\"2020-12\",\"type\":\"scatter\",\"x\":[0,1,2,3,4,5,6,7,8,9,10,11,12],\"y\":[-1.569108072090045,-0.11102071770580246,0.14210489241254542,0.2571200182805491,0.9580202770090837,1.2461563263390902,1.0561420273216404,1.276431009241738,1.3985044063199168,1.0789300065215028,1.4595342939654954,1.783792625556822,1.6705335257086085]},{\"name\":\"2021-01\",\"type\":\"scatter\",\"x\":[0,1,2,3,4,5,6,7,8,9,10,11,12],\"y\":[-1.1432365366652562,-0.5839742190244253,-0.20281505572747505,0.608848219387606,1.0270547658036933,1.5947327763087678,1.3578622656564507,1.8035093675084939,1.4545472562396757,1.6494127072460751,1.7087736682983024,2.17452421287034,1.5718698682079633]},{\"name\":\"2021-02\",\"type\":\"scatter\",\"x\":[0,1,2,3,4,5,6,7,8,9,10,11],\"y\":[-1.9928930538913048,-0.8148637934253964,-0.252975439364056,0.746362006463523,0.9467166812359799,1.2218364500229835,1.6644021484927614,0.9585095607666974,1.219256370045124,1.809325641669047,2.3435974502031223,1.8585361271882488]},{\"name\":\"2021-03\",\"type\":\"scatter\",\"x\":[0,1,2,3,4,5,6,7,8,9,10],\"y\":[-2.958459294977193,-0.6006610619051342,0.007316168410768098,0.2528653277107832,0.6397004045824706,1.1023472943985972,0.9749997095633083,1.1648563585096783,0.958015346614411,0.4739552848546842,0.9401959557573654]},{\"name\":\"2021-04\",\"type\":\"scatter\",\"x\":[0,1,2,3,4,5,6,7,8,9],\"y\":[-3.14378094107901,-0.48955817427118187,-0.16896473566380044,0.3459239676081489,0.9764621785850802,1.1615677203076467,0.9785424617979932,1.2247382569236165,1.042974836391167,1.9539653571432571]},{\"name\":\"2021-05\",\"type\":\"scatter\",\"x\":[0,1,2,3,4,5,6,7,8],\"y\":[-2.7635879165153643,-0.9968824931178879,-0.4816565355780269,0.20625017723353178,0.40228055159153,0.8655771542321634,1.7025955408675515,2.0152032860421376,2.01863411707114]},{\"name\":\"2021-06\",\"type\":\"scatter\",\"x\":[0,1,2,3,4,5,6,7],\"y\":[-2.8265301491512718,-1.132270951829192,-0.6472166401494808,0.25564000709550605,0.7335679808105526,1.3542874475308218,2.4220550740232873,1.461583704724633]},{\"name\":\"2021-07\",\"type\":\"scatter\",\"x\":[0,1,2,3,4,5,6],\"y\":[-3.3457728837903375,-1.3182354611125975,-0.7198234459481052,-0.041436729078409895,0.8592179128455775,0.47404556869898773,1.323659972135684]},{\"name\":\"2021-08\",\"type\":\"scatter\",\"x\":[0,1,2,3,4],\"y\":[-3.169203278653124,-0.968379466909818,-0.5968943075507214,0.7348211847030889,1.1504322469732422]},{\"name\":\"2021-09\",\"type\":\"scatter\",\"x\":[0,1,2,3],\"y\":[-3.763523675826518,-1.2949827284952389,-0.061610013425425714,1.100085951754967]},{\"name\":\"2021-10\",\"type\":\"scatter\",\"x\":[0,1,2,3],\"y\":[-3.717403586730345,-0.9072062172276865,-0.34486157294077835,1.263008793259793]},{\"name\":\"2021-11\",\"type\":\"scatter\",\"x\":[0,1,2],\"y\":[-3.8814296804348705,0.3646091950533277,0.29618245931106224]},{\"name\":\"2021-12\",\"type\":\"scatter\",\"x\":[0,1],\"y\":[-3.1644565437072543,0.44971029954634234]}],                        {\"template\":{\"data\":{\"bar\":[{\"error_x\":{\"color\":\"#2a3f5f\"},\"error_y\":{\"color\":\"#2a3f5f\"},\"marker\":{\"line\":{\"color\":\"white\",\"width\":0.5},\"pattern\":{\"fillmode\":\"overlay\",\"size\":10,\"solidity\":0.2}},\"type\":\"bar\"}],\"barpolar\":[{\"marker\":{\"line\":{\"color\":\"white\",\"width\":0.5},\"pattern\":{\"fillmode\":\"overlay\",\"size\":10,\"solidity\":0.2}},\"type\":\"barpolar\"}],\"carpet\":[{\"aaxis\":{\"endlinecolor\":\"#2a3f5f\",\"gridcolor\":\"#C8D4E3\",\"linecolor\":\"#C8D4E3\",\"minorgridcolor\":\"#C8D4E3\",\"startlinecolor\":\"#2a3f5f\"},\"baxis\":{\"endlinecolor\":\"#2a3f5f\",\"gridcolor\":\"#C8D4E3\",\"linecolor\":\"#C8D4E3\",\"minorgridcolor\":\"#C8D4E3\",\"startlinecolor\":\"#2a3f5f\"},\"type\":\"carpet\"}],\"choropleth\":[{\"colorbar\":{\"outlinewidth\":0,\"ticks\":\"\"},\"type\":\"choropleth\"}],\"contour\":[{\"colorbar\":{\"outlinewidth\":0,\"ticks\":\"\"},\"colorscale\":[[0.0,\"#0d0887\"],[0.1111111111111111,\"#46039f\"],[0.2222222222222222,\"#7201a8\"],[0.3333333333333333,\"#9c179e\"],[0.4444444444444444,\"#bd3786\"],[0.5555555555555556,\"#d8576b\"],[0.6666666666666666,\"#ed7953\"],[0.7777777777777778,\"#fb9f3a\"],[0.8888888888888888,\"#fdca26\"],[1.0,\"#f0f921\"]],\"type\":\"contour\"}],\"contourcarpet\":[{\"colorbar\":{\"outlinewidth\":0,\"ticks\":\"\"},\"type\":\"contourcarpet\"}],\"heatmap\":[{\"colorbar\":{\"outlinewidth\":0,\"ticks\":\"\"},\"colorscale\":[[0.0,\"#0d0887\"],[0.1111111111111111,\"#46039f\"],[0.2222222222222222,\"#7201a8\"],[0.3333333333333333,\"#9c179e\"],[0.4444444444444444,\"#bd3786\"],[0.5555555555555556,\"#d8576b\"],[0.6666666666666666,\"#ed7953\"],[0.7777777777777778,\"#fb9f3a\"],[0.8888888888888888,\"#fdca26\"],[1.0,\"#f0f921\"]],\"type\":\"heatmap\"}],\"heatmapgl\":[{\"colorbar\":{\"outlinewidth\":0,\"ticks\":\"\"},\"colorscale\":[[0.0,\"#0d0887\"],[0.1111111111111111,\"#46039f\"],[0.2222222222222222,\"#7201a8\"],[0.3333333333333333,\"#9c179e\"],[0.4444444444444444,\"#bd3786\"],[0.5555555555555556,\"#d8576b\"],[0.6666666666666666,\"#ed7953\"],[0.7777777777777778,\"#fb9f3a\"],[0.8888888888888888,\"#fdca26\"],[1.0,\"#f0f921\"]],\"type\":\"heatmapgl\"}],\"histogram\":[{\"marker\":{\"pattern\":{\"fillmode\":\"overlay\",\"size\":10,\"solidity\":0.2}},\"type\":\"histogram\"}],\"histogram2d\":[{\"colorbar\":{\"outlinewidth\":0,\"ticks\":\"\"},\"colorscale\":[[0.0,\"#0d0887\"],[0.1111111111111111,\"#46039f\"],[0.2222222222222222,\"#7201a8\"],[0.3333333333333333,\"#9c179e\"],[0.4444444444444444,\"#bd3786\"],[0.5555555555555556,\"#d8576b\"],[0.6666666666666666,\"#ed7953\"],[0.7777777777777778,\"#fb9f3a\"],[0.8888888888888888,\"#fdca26\"],[1.0,\"#f0f921\"]],\"type\":\"histogram2d\"}],\"histogram2dcontour\":[{\"colorbar\":{\"outlinewidth\":0,\"ticks\":\"\"},\"colorscale\":[[0.0,\"#0d0887\"],[0.1111111111111111,\"#46039f\"],[0.2222222222222222,\"#7201a8\"],[0.3333333333333333,\"#9c179e\"],[0.4444444444444444,\"#bd3786\"],[0.5555555555555556,\"#d8576b\"],[0.6666666666666666,\"#ed7953\"],[0.7777777777777778,\"#fb9f3a\"],[0.8888888888888888,\"#fdca26\"],[1.0,\"#f0f921\"]],\"type\":\"histogram2dcontour\"}],\"mesh3d\":[{\"colorbar\":{\"outlinewidth\":0,\"ticks\":\"\"},\"type\":\"mesh3d\"}],\"parcoords\":[{\"line\":{\"colorbar\":{\"outlinewidth\":0,\"ticks\":\"\"}},\"type\":\"parcoords\"}],\"pie\":[{\"automargin\":true,\"type\":\"pie\"}],\"scatter\":[{\"marker\":{\"colorbar\":{\"outlinewidth\":0,\"ticks\":\"\"}},\"type\":\"scatter\"}],\"scatter3d\":[{\"line\":{\"colorbar\":{\"outlinewidth\":0,\"ticks\":\"\"}},\"marker\":{\"colorbar\":{\"outlinewidth\":0,\"ticks\":\"\"}},\"type\":\"scatter3d\"}],\"scattercarpet\":[{\"marker\":{\"colorbar\":{\"outlinewidth\":0,\"ticks\":\"\"}},\"type\":\"scattercarpet\"}],\"scattergeo\":[{\"marker\":{\"colorbar\":{\"outlinewidth\":0,\"ticks\":\"\"}},\"type\":\"scattergeo\"}],\"scattergl\":[{\"marker\":{\"colorbar\":{\"outlinewidth\":0,\"ticks\":\"\"}},\"type\":\"scattergl\"}],\"scattermapbox\":[{\"marker\":{\"colorbar\":{\"outlinewidth\":0,\"ticks\":\"\"}},\"type\":\"scattermapbox\"}],\"scatterpolar\":[{\"marker\":{\"colorbar\":{\"outlinewidth\":0,\"ticks\":\"\"}},\"type\":\"scatterpolar\"}],\"scatterpolargl\":[{\"marker\":{\"colorbar\":{\"outlinewidth\":0,\"ticks\":\"\"}},\"type\":\"scatterpolargl\"}],\"scatterternary\":[{\"marker\":{\"colorbar\":{\"outlinewidth\":0,\"ticks\":\"\"}},\"type\":\"scatterternary\"}],\"surface\":[{\"colorbar\":{\"outlinewidth\":0,\"ticks\":\"\"},\"colorscale\":[[0.0,\"#0d0887\"],[0.1111111111111111,\"#46039f\"],[0.2222222222222222,\"#7201a8\"],[0.3333333333333333,\"#9c179e\"],[0.4444444444444444,\"#bd3786\"],[0.5555555555555556,\"#d8576b\"],[0.6666666666666666,\"#ed7953\"],[0.7777777777777778,\"#fb9f3a\"],[0.8888888888888888,\"#fdca26\"],[1.0,\"#f0f921\"]],\"type\":\"surface\"}],\"table\":[{\"cells\":{\"fill\":{\"color\":\"#EBF0F8\"},\"line\":{\"color\":\"white\"}},\"header\":{\"fill\":{\"color\":\"#C8D4E3\"},\"line\":{\"color\":\"white\"}},\"type\":\"table\"}]},\"layout\":{\"annotationdefaults\":{\"arrowcolor\":\"#2a3f5f\",\"arrowhead\":0,\"arrowwidth\":1},\"autotypenumbers\":\"strict\",\"coloraxis\":{\"colorbar\":{\"outlinewidth\":0,\"ticks\":\"\"}},\"colorscale\":{\"diverging\":[[0,\"#8e0152\"],[0.1,\"#c51b7d\"],[0.2,\"#de77ae\"],[0.3,\"#f1b6da\"],[0.4,\"#fde0ef\"],[0.5,\"#f7f7f7\"],[0.6,\"#e6f5d0\"],[0.7,\"#b8e186\"],[0.8,\"#7fbc41\"],[0.9,\"#4d9221\"],[1,\"#276419\"]],\"sequential\":[[0.0,\"#0d0887\"],[0.1111111111111111,\"#46039f\"],[0.2222222222222222,\"#7201a8\"],[0.3333333333333333,\"#9c179e\"],[0.4444444444444444,\"#bd3786\"],[0.5555555555555556,\"#d8576b\"],[0.6666666666666666,\"#ed7953\"],[0.7777777777777778,\"#fb9f3a\"],[0.8888888888888888,\"#fdca26\"],[1.0,\"#f0f921\"]],\"sequentialminus\":[[0.0,\"#0d0887\"],[0.1111111111111111,\"#46039f\"],[0.2222222222222222,\"#7201a8\"],[0.3333333333333333,\"#9c179e\"],[0.4444444444444444,\"#bd3786\"],[0.5555555555555556,\"#d8576b\"],[0.6666666666666666,\"#ed7953\"],[0.7777777777777778,\"#fb9f3a\"],[0.8888888888888888,\"#fdca26\"],[1.0,\"#f0f921\"]]},\"colorway\":[\"#636efa\",\"#EF553B\",\"#00cc96\",\"#ab63fa\",\"#FFA15A\",\"#19d3f3\",\"#FF6692\",\"#B6E880\",\"#FF97FF\",\"#FECB52\"],\"font\":{\"color\":\"#2a3f5f\"},\"geo\":{\"bgcolor\":\"white\",\"lakecolor\":\"white\",\"landcolor\":\"white\",\"showlakes\":true,\"showland\":true,\"subunitcolor\":\"#C8D4E3\"},\"hoverlabel\":{\"align\":\"left\"},\"hovermode\":\"closest\",\"mapbox\":{\"style\":\"light\"},\"paper_bgcolor\":\"white\",\"plot_bgcolor\":\"white\",\"polar\":{\"angularaxis\":{\"gridcolor\":\"#EBF0F8\",\"linecolor\":\"#EBF0F8\",\"ticks\":\"\"},\"bgcolor\":\"white\",\"radialaxis\":{\"gridcolor\":\"#EBF0F8\",\"linecolor\":\"#EBF0F8\",\"ticks\":\"\"}},\"scene\":{\"xaxis\":{\"backgroundcolor\":\"white\",\"gridcolor\":\"#DFE8F3\",\"gridwidth\":2,\"linecolor\":\"#EBF0F8\",\"showbackground\":true,\"ticks\":\"\",\"zerolinecolor\":\"#EBF0F8\"},\"yaxis\":{\"backgroundcolor\":\"white\",\"gridcolor\":\"#DFE8F3\",\"gridwidth\":2,\"linecolor\":\"#EBF0F8\",\"showbackground\":true,\"ticks\":\"\",\"zerolinecolor\":\"#EBF0F8\"},\"zaxis\":{\"backgroundcolor\":\"white\",\"gridcolor\":\"#DFE8F3\",\"gridwidth\":2,\"linecolor\":\"#EBF0F8\",\"showbackground\":true,\"ticks\":\"\",\"zerolinecolor\":\"#EBF0F8\"}},\"shapedefaults\":{\"line\":{\"color\":\"#2a3f5f\"}},\"ternary\":{\"aaxis\":{\"gridcolor\":\"#DFE8F3\",\"linecolor\":\"#A2B1C6\",\"ticks\":\"\"},\"baxis\":{\"gridcolor\":\"#DFE8F3\",\"linecolor\":\"#A2B1C6\",\"ticks\":\"\"},\"bgcolor\":\"white\",\"caxis\":{\"gridcolor\":\"#DFE8F3\",\"linecolor\":\"#A2B1C6\",\"ticks\":\"\"}},\"title\":{\"x\":0.05},\"xaxis\":{\"automargin\":true,\"gridcolor\":\"#EBF0F8\",\"linecolor\":\"#EBF0F8\",\"ticks\":\"\",\"title\":{\"standoff\":15},\"zerolinecolor\":\"#EBF0F8\",\"zerolinewidth\":2},\"yaxis\":{\"automargin\":true,\"gridcolor\":\"#EBF0F8\",\"linecolor\":\"#EBF0F8\",\"ticks\":\"\",\"title\":{\"standoff\":15},\"zerolinecolor\":\"#EBF0F8\",\"zerolinewidth\":2}}},\"xaxis\":{\"title\":{\"text\":\"Month Since Disbursement\"}},\"yaxis\":{\"title\":{\"text\":\"ltv_per_original\"}}},                        {\"responsive\": true}                    ).then(function(){\n",
       "                            \n",
       "var gd = document.getElementById('bc34075c-1572-4c2e-b34f-dd8572f80125');\n",
       "var x = new MutationObserver(function (mutations, observer) {{\n",
       "        var display = window.getComputedStyle(gd).display;\n",
       "        if (!display || display === 'none') {{\n",
       "            console.log([gd, 'removed!']);\n",
       "            Plotly.purge(gd);\n",
       "            observer.disconnect();\n",
       "        }}\n",
       "}});\n",
       "\n",
       "// Listen for the removal of the full notebook cells\n",
       "var notebookContainer = gd.closest('#notebook-container');\n",
       "if (notebookContainer) {{\n",
       "    x.observe(notebookContainer, {childList: true});\n",
       "}}\n",
       "\n",
       "// Listen for the clearing of the current output cell\n",
       "var outputEl = gd.closest('.output');\n",
       "if (outputEl) {{\n",
       "    x.observe(outputEl, {childList: true});\n",
       "}}\n",
       "\n",
       "                        })                };                });            </script>        </div>"
      ]
     },
     "metadata": {},
     "output_type": "display_data"
    }
   ],
   "source": [
    "# visualize cohorts for a given feature\n",
    "m.plot_cohorts('ltv_per_original')"
   ]
  },
  {
   "cell_type": "markdown",
   "id": "75481e90",
   "metadata": {},
   "source": [
    "## Forecasting"
   ]
  },
  {
   "cell_type": "markdown",
   "id": "aa58c728",
   "metadata": {},
   "source": [
    "### Power law regression"
   ]
  },
  {
   "cell_type": "code",
   "execution_count": null,
   "id": "20cabecd",
   "metadata": {},
   "outputs": [],
   "source": [
    "def power_law(x, A, B):\n",
    "    return A*x**B"
   ]
  },
  {
   "cell_type": "code",
   "execution_count": null,
   "id": "439b4f67",
   "metadata": {},
   "outputs": [],
   "source": [
    "arr = m.data[m.data['First Loan Local Disbursement Month']=='2020-09'].loc[1:, 'borrower_retention']\n",
    "arr = arr.dropna()\n",
    "power_param, power_cov = curve_fit(power_law, arr.index, arr)"
   ]
  },
  {
   "cell_type": "code",
   "execution_count": null,
   "id": "9d20b8b5",
   "metadata": {},
   "outputs": [],
   "source": [
    "x = list(range(1,25))\n",
    "power_fit = power_law(x, power_param[0], power_param[1])"
   ]
  },
  {
   "cell_type": "code",
   "execution_count": null,
   "id": "0013938a",
   "metadata": {
    "scrolled": false
   },
   "outputs": [],
   "source": [
    "traces = [\n",
    "    go.Scatter(name='actual', x=arr.index, y=arr),\n",
    "    go.Scatter(name='power-law', x=x, y=power_fit)\n",
    "]\n",
    "\n",
    "fig = go.Figure(traces)\n",
    "\n",
    "fig.show()"
   ]
  },
  {
   "cell_type": "markdown",
   "id": "e0b95568",
   "metadata": {},
   "source": [
    "### sBG probalistic model"
   ]
  },
  {
   "cell_type": "markdown",
   "id": "ea159a82",
   "metadata": {},
   "source": [
    "sBG model assumptions:\n",
    "1. The propensity of one customer to drop out is independent of the behavior of every other customer.\n",
    "2. Individual customer retention rates are unchanged over time.\n",
    "3. Observed retention increase with time due to aggregate results and heterogenity in customer behaviors.\n",
    "4. Model applies for customer relationships in \"discrete-time\" and \"contractual\" settings."
   ]
  },
  {
   "cell_type": "code",
   "execution_count": null,
   "id": "9a5a3d03",
   "metadata": {},
   "outputs": [],
   "source": [
    "# initial guesses @ alpha and beta\n",
    "alpha = 1\n",
    "beta = 1"
   ]
  },
  {
   "cell_type": "code",
   "execution_count": null,
   "id": "36fd2437",
   "metadata": {},
   "outputs": [],
   "source": [
    "def p(t, alpha, beta):\n",
    "    \"\"\"\n",
    "    Probability that a customer fails to take out another loan (probability to churn).\n",
    "    For the derivation of this equation, see the original Fader & Hardie paper. This \n",
    "    recursion formula takes two constants, alpha and beta, which are fit to actual data.\n",
    "    It then allows you to compute the probability of churn for a given time period, t.\n",
    "    \n",
    "    Parameters\n",
    "    ----------\n",
    "    t : int\n",
    "        Time period.\n",
    "    alpha : float\n",
    "        Fitting parameter.\n",
    "    beta : float\n",
    "        Fitting parameter.\n",
    "    \n",
    "    Returns\n",
    "    -------\n",
    "    P : float\n",
    "        Probability of churn.\n",
    "    \"\"\"\n",
    "    \n",
    "    if t==1:\n",
    "        return alpha/(alpha + beta)\n",
    "    else:\n",
    "        return p(t-1, alpha, beta) * (beta+t-2)/(alpha+beta+t-1)\n",
    "    \n",
    "def s(t, alpha, beta):\n",
    "    \"\"\"\n",
    "    Survival function: the probability that a customer has survived to time t.\n",
    "    For the derivation of this equation, see the original Fader & Hardie paper. This \n",
    "    recursion formula takes two constants, alpha and beta, which are fit to actual data.\n",
    "    It also requires computation of P (probability of a customer churning).\n",
    "    \n",
    "    Parameters\n",
    "    ----------\n",
    "    t : int\n",
    "        Time period.\n",
    "    alpha : float\n",
    "        Fitting parameter.\n",
    "    beta : float\n",
    "        Fitting parameter.\n",
    "    \n",
    "    Returns\n",
    "    -------\n",
    "    P : float\n",
    "        Probability of churn.\n",
    "    \"\"\"\n",
    "    \n",
    "    if t==1:\n",
    "        return 1 - p(t, alpha, beta)\n",
    "    else:\n",
    "        return s(t-1, alpha, beta) - p(t, alpha, beta)\n",
    "    \n",
    "def log_likelihood(params):\n",
    "    alpha, beta = params\n",
    "    ll=0\n",
    "    for t in c[1:].index:\n",
    "        ll += (c[t-1]-c[t])*np.log(p(t, alpha, beta))\n",
    "    ll += c.iloc[-1]*np.log(s((len(c)-1)-1, alpha, beta)-p(len(c)-1, alpha, beta))\n",
    "    return -ll"
   ]
  },
  {
   "cell_type": "code",
   "execution_count": null,
   "id": "7105f4e2",
   "metadata": {},
   "outputs": [],
   "source": [
    "cohort = '2020-09'"
   ]
  },
  {
   "cell_type": "code",
   "execution_count": null,
   "id": "1501901e",
   "metadata": {},
   "outputs": [],
   "source": [
    "c = m.data[m.data['First Loan Local Disbursement Month']==cohort]['Count Borrowers']\n",
    "c = c.reset_index(drop=True)"
   ]
  },
  {
   "cell_type": "code",
   "execution_count": null,
   "id": "b0825d1c",
   "metadata": {},
   "outputs": [],
   "source": [
    "# since we're working with logs, we need bounds for alpha and beta > 0.\n",
    "bounds = ((0,None), (0,None))\n",
    "\n",
    "results = minimize(log_likelihood, np.array([1,1]), bounds=bounds)\n",
    "results"
   ]
  },
  {
   "cell_type": "code",
   "execution_count": null,
   "id": "fa1302e6",
   "metadata": {},
   "outputs": [],
   "source": [
    "alpha_opt, beta_opt = results.x\n",
    "\n",
    "sBG_forecast = []\n",
    "for i in x:\n",
    "    sBG_forecast.append(100*s(i, alpha_opt, beta_opt))"
   ]
  },
  {
   "cell_type": "code",
   "execution_count": null,
   "id": "cbebf7e6",
   "metadata": {},
   "outputs": [],
   "source": [
    "arr = m.data[m.data['First Loan Local Disbursement Month']==cohort].loc[1:, 'borrower_retention']\n",
    "arr = arr.dropna()\n",
    "\n",
    "power_param, power_cov = curve_fit(power_law, arr.index, arr)\n",
    "power_fit = power_law(x, power_param[0], power_param[1])"
   ]
  },
  {
   "cell_type": "code",
   "execution_count": null,
   "id": "054a573d",
   "metadata": {},
   "outputs": [],
   "source": [
    "traces = [\n",
    "    go.Scatter(name='actual', x=arr.index, y=arr),\n",
    "    go.Scatter(name='power-law', x=x, y=power_fit),\n",
    "    go.Scatter(name='sBG', x=x, y=sBG_forecast)\n",
    "]\n",
    "\n",
    "fig = go.Figure(traces)\n",
    "fig.update_layout(xaxis=dict(title='Months Since First Loan'),\n",
    "                 yaxis=dict(title='Retention (%)'))\n",
    "\n",
    "fig.show()"
   ]
  },
  {
   "cell_type": "code",
   "execution_count": null,
   "id": "3e70035d",
   "metadata": {},
   "outputs": [],
   "source": [
    "power_res = abs(power_fit[:len(arr)] - arr)\n",
    "sbg_res = abs(sBG_forecast[:len(arr)] - arr)\n",
    "\n",
    "traces = [\n",
    "    go.Scatter(name='power-law', x=arr.index, y=power_res),\n",
    "    go.Scatter(name='sBG', x=arr.index, y=sbg_res)\n",
    "]\n",
    "\n",
    "fig = go.Figure(traces)\n",
    "fig.update_layout(title='Model Residuals', xaxis=dict(title='Months Since First Loan'))\n",
    "\n",
    "fig.show()"
   ]
  },
  {
   "cell_type": "markdown",
   "id": "352c2824",
   "metadata": {},
   "source": [
    "#### Scale forecast"
   ]
  },
  {
   "cell_type": "code",
   "execution_count": null,
   "id": "aabff81e",
   "metadata": {
    "scrolled": false
   },
   "outputs": [],
   "source": [
    "forecast_dfs = []\n",
    "\n",
    "alpha = beta = 1\n",
    "\n",
    "x = list(range(1, 25))\n",
    "df = m.data[['cohort', 'Count Borrowers']]\n",
    "for cohort in df.cohort.unique():\n",
    "    c_data = df[df.cohort==cohort]\n",
    "    n = c_data.loc[0, 'Count Borrowers']\n",
    "    \n",
    "    if len(c_data) > 3:\n",
    "        c = c_data['Count Borrowers']\n",
    "\n",
    "        # fit model\n",
    "        bounds = ((0,None), (0,None))\n",
    "        results = minimize(log_likelihood, np.array([1,1]), bounds=bounds)\n",
    "\n",
    "        # forecast\n",
    "        forecast = []\n",
    "        for i in x:\n",
    "            forecast.append(n*s(i, results.x[0], results.x[1]))\n",
    "\n",
    "        forecast = pd.DataFrame(forecast, index=x, columns=['Count Borrowers'])\n",
    "    \n",
    "        holder_df = pd.DataFrame(np.nan, index=range(0,25), columns=['null'])\n",
    "        \n",
    "        c_data['data_type'] = 'actual'\n",
    "        \n",
    "        c_data = pd.concat([c_data, holder_df], axis=1).drop('null', axis=1)\n",
    "        c_data.cohort = c_data.cohort.ffill()\n",
    "\n",
    "        c_data.data_type = c_data.data_type.fillna('forecast')\n",
    "        \n",
    "        forecast_dfs.append(c_data.fillna(forecast))\n",
    "        \n",
    "forecast = pd.concat(forecast_dfs)"
   ]
  },
  {
   "cell_type": "code",
   "execution_count": null,
   "id": "339aa5ca",
   "metadata": {},
   "outputs": [],
   "source": [
    "cohort='2021-06'\n",
    "\n",
    "df = forecast[forecast.cohort==cohort]\n",
    "#df['retention'] = df['Count Borrowers']/df['Count Borrowers'].max()\n",
    "\n",
    "traces = []\n",
    "for dtype in df.data_type.unique():\n",
    "    traces.append(go.Scatter(name=dtype, x=df[df.data_type==dtype].index, \n",
    "                             y=df[df.data_type==dtype]['Count Borrowers'], mode='markers+lines'))\n",
    "    \n",
    "fig = go.Figure(traces)\n",
    "fig.update_layout(xaxis=dict(title='Months Since Disbursement'),\n",
    "                 yaxis=dict(title='Count Borrowers'))\n",
    "\n",
    "fig.show()"
   ]
  },
  {
   "cell_type": "markdown",
   "id": "e53ea055",
   "metadata": {},
   "source": [
    "### Backtest Framework"
   ]
  },
  {
   "cell_type": "code",
   "execution_count": null,
   "id": "9cf8a142",
   "metadata": {},
   "outputs": [],
   "source": [
    "def test(actual, forecast, metric='rmse'):\n",
    "    \"\"\"\n",
    "    Test forecast performance against actuals using method defined by metric.\n",
    "    \"\"\"\n",
    "    if metric=='rmse':\n",
    "        error = np.sqrt(sum((forecast[:len(actual)] - actual)**2))\n",
    "    elif metric=='mae':\n",
    "        error = np.mean(forecast[:len(actual)] - actual)\n",
    "    return error"
   ]
  },
  {
   "cell_type": "code",
   "execution_count": null,
   "id": "e3494401",
   "metadata": {},
   "outputs": [],
   "source": [
    "test(arr, power_fit, metric='rmse') "
   ]
  },
  {
   "cell_type": "code",
   "execution_count": null,
   "id": "8bae0fbd",
   "metadata": {},
   "outputs": [],
   "source": [
    "test(arr, sBG_forecast)"
   ]
  },
  {
   "cell_type": "markdown",
   "id": "e175bbc9",
   "metadata": {},
   "source": [
    "### Test all cohorts"
   ]
  },
  {
   "cell_type": "code",
   "execution_count": null,
   "id": "056f8e73",
   "metadata": {},
   "outputs": [],
   "source": [
    "test_vals = {}\n",
    "\n",
    "for cohort in m.data.cohort.unique():\n",
    "    x = list(range(1,25))\n",
    "\n",
    "    # power-law\n",
    "    arr = m.data[m.data.cohort==cohort]['borrower_retention'][1:].dropna()\n",
    "    \n",
    "    if len(arr)>=3:\n",
    "        power_param, power_cov = curve_fit(power_law, arr.index, arr)\n",
    "        power_fit = power_law(x, power_param[0], power_param[1])\n",
    "\n",
    "        # sbg\n",
    "        c = m.data[m.data.cohort==cohort]['Count Borrowers'].reset_index(drop=True)\n",
    "\n",
    "        # since we're working with logs, we need bounds for alpha and beta > 0.\n",
    "        bounds = ((0,None), (0,None))\n",
    "\n",
    "        results = minimize(log_likelihood, np.array([1,1]), bounds=bounds)\n",
    "\n",
    "        sBG_forecast = []\n",
    "        for i in x:\n",
    "            sBG_forecast.append(100*s(i, results.x[0], results.x[1]))\n",
    "\n",
    "        test_vals[cohort] = {'power-law': test(arr, power_fit, metric='rmse'), \n",
    "                             'sbg': test(arr, sBG_forecast)}\n",
    "    \n",
    "test_vals"
   ]
  },
  {
   "cell_type": "code",
   "execution_count": null,
   "id": "5f56468e",
   "metadata": {},
   "outputs": [],
   "source": [
    "m.data[m.data.cohort=='2021-10']"
   ]
  },
  {
   "cell_type": "code",
   "execution_count": null,
   "id": "09d85076",
   "metadata": {},
   "outputs": [],
   "source": [
    "forecast_methods = {\n",
    "    'Count Borrowers': 'sbg',\n",
    "    'loans_per_borrwer': 'power-law'\n",
    "}"
   ]
  },
  {
   "cell_type": "code",
   "execution_count": null,
   "id": "386d3900",
   "metadata": {},
   "outputs": [],
   "source": [
    "m.data[m.data['First Loan Local Disbursement Month']=='2020-09']['Count Borrowers']"
   ]
  },
  {
   "cell_type": "markdown",
   "id": "8f62b19b",
   "metadata": {},
   "source": [
    "#### Questions/Concerns\n",
    "\n",
    "1. Is there a framework that's been developed/used to back test this forecast model?\n",
    "2. Filter out bad cohorts. Why are some starting at 0? (e.g. 2021-07)\n",
    "3. Why are the last few months not included? Why not just omit the final incomplete month?\n"
   ]
  },
  {
   "cell_type": "code",
   "execution_count": null,
   "id": "e1a69225",
   "metadata": {},
   "outputs": [],
   "source": [
    "new_data[new_data['First Loan Local Disbursement Month'] == '2021-07']"
   ]
  },
  {
   "cell_type": "code",
   "execution_count": null,
   "id": "5606c573",
   "metadata": {},
   "outputs": [],
   "source": []
  },
  {
   "cell_type": "code",
   "execution_count": null,
   "id": "3c7799ac",
   "metadata": {},
   "outputs": [],
   "source": []
  }
 ],
 "metadata": {
  "kernelspec": {
   "display_name": "Python 3 (ipykernel)",
   "language": "python",
   "name": "python3"
  },
  "language_info": {
   "codemirror_mode": {
    "name": "ipython",
    "version": 3
   },
   "file_extension": ".py",
   "mimetype": "text/x-python",
   "name": "python",
   "nbconvert_exporter": "python",
   "pygments_lexer": "ipython3",
   "version": "3.9.7"
  }
 },
 "nbformat": 4,
 "nbformat_minor": 5
}
